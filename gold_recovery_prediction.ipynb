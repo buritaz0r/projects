{
 "cells": [
  {
   "cell_type": "markdown",
   "id": "da6fa72a",
   "metadata": {},
   "source": [
    "## Подготовка данных"
   ]
  },
  {
   "cell_type": "markdown",
   "id": "39d64d00",
   "metadata": {},
   "source": [
    "### Загрузим и изучим данные"
   ]
  },
  {
   "cell_type": "code",
   "execution_count": 1,
   "id": "a226d642",
   "metadata": {},
   "outputs": [],
   "source": [
    "# Импортируем библиотеки\n",
    "import pandas as pd\n",
    "import numpy as np\n",
    "import matplotlib.pyplot as plt\n",
    "import seaborn as sns\n",
    "\n",
    "from scipy import stats as st\n",
    "\n",
    "from sklearn.dummy import DummyRegressor\n",
    "from sklearn.metrics import mean_absolute_error, make_scorer\n",
    "from sklearn.tree import DecisionTreeRegressor\n",
    "from sklearn.ensemble import RandomForestRegressor\n",
    "from sklearn.linear_model import LinearRegression, Lasso\n",
    "from sklearn.preprocessing import StandardScaler\n",
    "from sklearn.pipeline import Pipeline\n",
    "from sklearn.model_selection import GridSearchCV\n",
    "\n",
    "# Определяем константу для random_state\n",
    "RANDOM_STATE = 12345"
   ]
  },
  {
   "cell_type": "code",
   "execution_count": 2,
   "id": "6ca60d79",
   "metadata": {},
   "outputs": [],
   "source": [
    "# Путь к файлам\n",
    "train_path = '/datasets/gold_industry_train.csv'\n",
    "test_path = '/datasets/gold_industry_test.csv'\n",
    "full_path = '/datasets/gold_industry_full.csv'"
   ]
  },
  {
   "cell_type": "code",
   "execution_count": 3,
   "id": "2c633434",
   "metadata": {},
   "outputs": [],
   "source": [
    "# Функции для загрузки и просмотра данных\n",
    "def load_data(file_path):\n",
    "    \"\"\"\n",
    "    Загружает данные из CSV-файла в DataFrame.\n",
    "    \n",
    "    :param file_path: путь к CSV-файлу\n",
    "    :return: DataFrame с загруженными данными\n",
    "    \"\"\"\n",
    "    return pd.read_csv(file_path)"
   ]
  },
  {
   "cell_type": "code",
   "execution_count": 4,
   "id": "03e2a158",
   "metadata": {},
   "outputs": [],
   "source": [
    "def display_data(df, n=5):\n",
    "    \"\"\"\n",
    "    Выводит первые строки DataFrame, общую информацию о нем, а также информацию о пропусках и дубликатах.\n",
    "    \n",
    "    :param df: DataFrame для отображения\n",
    "    :param df_name: Имя DataFrame для отображения в заголовке\n",
    "    :param n: количество строк для отображения (по умолчанию 5)\n",
    "    \"\"\"\n",
    "    print(\"\\n\" + \"=\"*50 + \"\\n\")\n",
    "    print(\"\\nПервые строки DataFrame:\")\n",
    "    display(df.head(n))\n",
    "    \n",
    "    print(\"\\nОбщая информация о DataFrame:\\n\")\n",
    "    df.info()\n",
    "    \n",
    "    print(\"\\nСтатистические показатели:\\n\")\n",
    "    display(df.describe())\n",
    "    \n",
    "    print(\"\\nКоличество пропусков:\", df.isnull().sum().sum())\n",
    "    print(\"\\nКоличество дубликатов:\", df.duplicated().sum())\n",
    "    print()\n",
    "    print(\"\\n\" + \"=\"*50 + \"\\n\")"
   ]
  },
  {
   "cell_type": "code",
   "execution_count": 5,
   "id": "f009eeb2",
   "metadata": {
    "scrolled": false
   },
   "outputs": [],
   "source": [
    "# Загрузим данные\n",
    "train_data = load_data(train_path)\n",
    "test_data = load_data(test_path)\n",
    "full_data = load_data(full_path)"
   ]
  },
  {
   "cell_type": "code",
   "execution_count": 6,
   "id": "70a802d8",
   "metadata": {
    "scrolled": false
   },
   "outputs": [
    {
     "name": "stdout",
     "output_type": "stream",
     "text": [
      "\n",
      "==================================================\n",
      "\n",
      "\n",
      "Первые строки DataFrame:\n"
     ]
    },
    {
     "data": {
      "text/html": [
       "<div>\n",
       "<style scoped>\n",
       "    .dataframe tbody tr th:only-of-type {\n",
       "        vertical-align: middle;\n",
       "    }\n",
       "\n",
       "    .dataframe tbody tr th {\n",
       "        vertical-align: top;\n",
       "    }\n",
       "\n",
       "    .dataframe thead th {\n",
       "        text-align: right;\n",
       "    }\n",
       "</style>\n",
       "<table border=\"1\" class=\"dataframe\">\n",
       "  <thead>\n",
       "    <tr style=\"text-align: right;\">\n",
       "      <th></th>\n",
       "      <th>date</th>\n",
       "      <th>rougher.input.feed_au</th>\n",
       "      <th>rougher.input.feed_ag</th>\n",
       "      <th>rougher.input.feed_pb</th>\n",
       "      <th>rougher.input.feed_sol</th>\n",
       "      <th>rougher.input.feed_rate</th>\n",
       "      <th>rougher.input.feed_size</th>\n",
       "      <th>rougher.input.floatbank10_sulfate</th>\n",
       "      <th>rougher.input.floatbank10_xanthate</th>\n",
       "      <th>rougher.state.floatbank10_a_air</th>\n",
       "      <th>...</th>\n",
       "      <th>secondary_cleaner.output.tail_sol</th>\n",
       "      <th>final.output.concentrate_au</th>\n",
       "      <th>final.output.concentrate_ag</th>\n",
       "      <th>final.output.concentrate_pb</th>\n",
       "      <th>final.output.concentrate_sol</th>\n",
       "      <th>final.output.recovery</th>\n",
       "      <th>final.output.tail_au</th>\n",
       "      <th>final.output.tail_ag</th>\n",
       "      <th>final.output.tail_pb</th>\n",
       "      <th>final.output.tail_sol</th>\n",
       "    </tr>\n",
       "  </thead>\n",
       "  <tbody>\n",
       "    <tr>\n",
       "      <th>0</th>\n",
       "      <td>2016-01-15 00:00:00</td>\n",
       "      <td>6.486150</td>\n",
       "      <td>6.100378</td>\n",
       "      <td>2.284912</td>\n",
       "      <td>36.808594</td>\n",
       "      <td>523.546326</td>\n",
       "      <td>55.486599</td>\n",
       "      <td>11.986616</td>\n",
       "      <td>6.007990</td>\n",
       "      <td>999.706909</td>\n",
       "      <td>...</td>\n",
       "      <td>8.764648</td>\n",
       "      <td>42.192020</td>\n",
       "      <td>6.055403</td>\n",
       "      <td>9.889648</td>\n",
       "      <td>5.507324</td>\n",
       "      <td>70.541216</td>\n",
       "      <td>2.143149</td>\n",
       "      <td>10.411962</td>\n",
       "      <td>0.895447</td>\n",
       "      <td>16.904297</td>\n",
       "    </tr>\n",
       "    <tr>\n",
       "      <th>1</th>\n",
       "      <td>2016-01-15 01:00:00</td>\n",
       "      <td>6.478583</td>\n",
       "      <td>6.161113</td>\n",
       "      <td>2.266033</td>\n",
       "      <td>35.753385</td>\n",
       "      <td>525.290581</td>\n",
       "      <td>57.278666</td>\n",
       "      <td>11.971193</td>\n",
       "      <td>6.005766</td>\n",
       "      <td>1000.286398</td>\n",
       "      <td>...</td>\n",
       "      <td>9.001494</td>\n",
       "      <td>42.701629</td>\n",
       "      <td>6.029369</td>\n",
       "      <td>9.968944</td>\n",
       "      <td>5.257781</td>\n",
       "      <td>69.266198</td>\n",
       "      <td>2.224930</td>\n",
       "      <td>10.462676</td>\n",
       "      <td>0.927452</td>\n",
       "      <td>16.634514</td>\n",
       "    </tr>\n",
       "    <tr>\n",
       "      <th>2</th>\n",
       "      <td>2016-01-15 02:00:00</td>\n",
       "      <td>6.362222</td>\n",
       "      <td>6.116455</td>\n",
       "      <td>2.159622</td>\n",
       "      <td>35.971630</td>\n",
       "      <td>530.026610</td>\n",
       "      <td>57.510649</td>\n",
       "      <td>11.920603</td>\n",
       "      <td>6.197377</td>\n",
       "      <td>999.719565</td>\n",
       "      <td>...</td>\n",
       "      <td>8.842896</td>\n",
       "      <td>42.657501</td>\n",
       "      <td>6.055926</td>\n",
       "      <td>10.213995</td>\n",
       "      <td>5.383759</td>\n",
       "      <td>68.116445</td>\n",
       "      <td>2.257889</td>\n",
       "      <td>10.507046</td>\n",
       "      <td>0.953716</td>\n",
       "      <td>16.208849</td>\n",
       "    </tr>\n",
       "    <tr>\n",
       "      <th>3</th>\n",
       "      <td>2016-01-15 03:00:00</td>\n",
       "      <td>6.118189</td>\n",
       "      <td>6.043309</td>\n",
       "      <td>2.037807</td>\n",
       "      <td>36.862241</td>\n",
       "      <td>542.590390</td>\n",
       "      <td>57.792734</td>\n",
       "      <td>11.630094</td>\n",
       "      <td>6.203177</td>\n",
       "      <td>999.814770</td>\n",
       "      <td>...</td>\n",
       "      <td>9.122857</td>\n",
       "      <td>42.689819</td>\n",
       "      <td>6.047977</td>\n",
       "      <td>9.977019</td>\n",
       "      <td>4.858634</td>\n",
       "      <td>68.347543</td>\n",
       "      <td>2.146849</td>\n",
       "      <td>10.422762</td>\n",
       "      <td>0.883763</td>\n",
       "      <td>16.532835</td>\n",
       "    </tr>\n",
       "    <tr>\n",
       "      <th>4</th>\n",
       "      <td>2016-01-15 04:00:00</td>\n",
       "      <td>5.663707</td>\n",
       "      <td>6.060915</td>\n",
       "      <td>1.786875</td>\n",
       "      <td>34.347666</td>\n",
       "      <td>540.531893</td>\n",
       "      <td>56.047189</td>\n",
       "      <td>10.957755</td>\n",
       "      <td>6.198826</td>\n",
       "      <td>999.678690</td>\n",
       "      <td>...</td>\n",
       "      <td>8.871028</td>\n",
       "      <td>42.774141</td>\n",
       "      <td>6.148599</td>\n",
       "      <td>10.142511</td>\n",
       "      <td>4.939416</td>\n",
       "      <td>66.927016</td>\n",
       "      <td>2.055292</td>\n",
       "      <td>10.360302</td>\n",
       "      <td>0.792826</td>\n",
       "      <td>16.525686</td>\n",
       "    </tr>\n",
       "  </tbody>\n",
       "</table>\n",
       "<p>5 rows × 87 columns</p>\n",
       "</div>"
      ],
      "text/plain": [
       "                  date  rougher.input.feed_au  rougher.input.feed_ag  \\\n",
       "0  2016-01-15 00:00:00               6.486150               6.100378   \n",
       "1  2016-01-15 01:00:00               6.478583               6.161113   \n",
       "2  2016-01-15 02:00:00               6.362222               6.116455   \n",
       "3  2016-01-15 03:00:00               6.118189               6.043309   \n",
       "4  2016-01-15 04:00:00               5.663707               6.060915   \n",
       "\n",
       "   rougher.input.feed_pb  rougher.input.feed_sol  rougher.input.feed_rate  \\\n",
       "0               2.284912               36.808594               523.546326   \n",
       "1               2.266033               35.753385               525.290581   \n",
       "2               2.159622               35.971630               530.026610   \n",
       "3               2.037807               36.862241               542.590390   \n",
       "4               1.786875               34.347666               540.531893   \n",
       "\n",
       "   rougher.input.feed_size  rougher.input.floatbank10_sulfate  \\\n",
       "0                55.486599                          11.986616   \n",
       "1                57.278666                          11.971193   \n",
       "2                57.510649                          11.920603   \n",
       "3                57.792734                          11.630094   \n",
       "4                56.047189                          10.957755   \n",
       "\n",
       "   rougher.input.floatbank10_xanthate  rougher.state.floatbank10_a_air  ...  \\\n",
       "0                            6.007990                       999.706909  ...   \n",
       "1                            6.005766                      1000.286398  ...   \n",
       "2                            6.197377                       999.719565  ...   \n",
       "3                            6.203177                       999.814770  ...   \n",
       "4                            6.198826                       999.678690  ...   \n",
       "\n",
       "   secondary_cleaner.output.tail_sol  final.output.concentrate_au  \\\n",
       "0                           8.764648                    42.192020   \n",
       "1                           9.001494                    42.701629   \n",
       "2                           8.842896                    42.657501   \n",
       "3                           9.122857                    42.689819   \n",
       "4                           8.871028                    42.774141   \n",
       "\n",
       "   final.output.concentrate_ag  final.output.concentrate_pb  \\\n",
       "0                     6.055403                     9.889648   \n",
       "1                     6.029369                     9.968944   \n",
       "2                     6.055926                    10.213995   \n",
       "3                     6.047977                     9.977019   \n",
       "4                     6.148599                    10.142511   \n",
       "\n",
       "   final.output.concentrate_sol  final.output.recovery  final.output.tail_au  \\\n",
       "0                      5.507324              70.541216              2.143149   \n",
       "1                      5.257781              69.266198              2.224930   \n",
       "2                      5.383759              68.116445              2.257889   \n",
       "3                      4.858634              68.347543              2.146849   \n",
       "4                      4.939416              66.927016              2.055292   \n",
       "\n",
       "   final.output.tail_ag  final.output.tail_pb  final.output.tail_sol  \n",
       "0             10.411962              0.895447              16.904297  \n",
       "1             10.462676              0.927452              16.634514  \n",
       "2             10.507046              0.953716              16.208849  \n",
       "3             10.422762              0.883763              16.532835  \n",
       "4             10.360302              0.792826              16.525686  \n",
       "\n",
       "[5 rows x 87 columns]"
      ]
     },
     "metadata": {},
     "output_type": "display_data"
    },
    {
     "name": "stdout",
     "output_type": "stream",
     "text": [
      "\n",
      "Общая информация о DataFrame:\n",
      "\n",
      "<class 'pandas.core.frame.DataFrame'>\n",
      "RangeIndex: 14579 entries, 0 to 14578\n",
      "Data columns (total 87 columns):\n",
      " #   Column                                              Non-Null Count  Dtype  \n",
      "---  ------                                              --------------  -----  \n",
      " 0   date                                                14579 non-null  object \n",
      " 1   rougher.input.feed_au                               14579 non-null  float64\n",
      " 2   rougher.input.feed_ag                               14579 non-null  float64\n",
      " 3   rougher.input.feed_pb                               14507 non-null  float64\n",
      " 4   rougher.input.feed_sol                              14502 non-null  float64\n",
      " 5   rougher.input.feed_rate                             14572 non-null  float64\n",
      " 6   rougher.input.feed_size                             14478 non-null  float64\n",
      " 7   rougher.input.floatbank10_sulfate                   14548 non-null  float64\n",
      " 8   rougher.input.floatbank10_xanthate                  14572 non-null  float64\n",
      " 9   rougher.state.floatbank10_a_air                     14579 non-null  float64\n",
      " 10  rougher.state.floatbank10_a_level                   14579 non-null  float64\n",
      " 11  rougher.state.floatbank10_b_air                     14579 non-null  float64\n",
      " 12  rougher.state.floatbank10_b_level                   14579 non-null  float64\n",
      " 13  rougher.state.floatbank10_c_air                     14579 non-null  float64\n",
      " 14  rougher.state.floatbank10_c_level                   14579 non-null  float64\n",
      " 15  rougher.state.floatbank10_d_air                     14579 non-null  float64\n",
      " 16  rougher.state.floatbank10_d_level                   14579 non-null  float64\n",
      " 17  rougher.state.floatbank10_e_air                     14150 non-null  float64\n",
      " 18  rougher.state.floatbank10_e_level                   14579 non-null  float64\n",
      " 19  rougher.state.floatbank10_f_air                     14579 non-null  float64\n",
      " 20  rougher.state.floatbank10_f_level                   14579 non-null  float64\n",
      " 21  rougher.input.floatbank11_sulfate                   14543 non-null  float64\n",
      " 22  rougher.input.floatbank11_xanthate                  14172 non-null  float64\n",
      " 23  rougher.calculation.sulfate_to_au_concentrate       14578 non-null  float64\n",
      " 24  rougher.calculation.floatbank10_sulfate_to_au_feed  14578 non-null  float64\n",
      " 25  rougher.calculation.floatbank11_sulfate_to_au_feed  14578 non-null  float64\n",
      " 26  rougher.calculation.au_pb_ratio                     14579 non-null  float64\n",
      " 27  rougher.output.concentrate_au                       14579 non-null  float64\n",
      " 28  rougher.output.concentrate_ag                       14579 non-null  float64\n",
      " 29  rougher.output.concentrate_pb                       14579 non-null  float64\n",
      " 30  rougher.output.concentrate_sol                      14561 non-null  float64\n",
      " 31  rougher.output.recovery                             14579 non-null  float64\n",
      " 32  rougher.output.tail_au                              14579 non-null  float64\n",
      " 33  rougher.output.tail_ag                              14578 non-null  float64\n",
      " 34  rougher.output.tail_pb                              14579 non-null  float64\n",
      " 35  rougher.output.tail_sol                             14579 non-null  float64\n",
      " 36  primary_cleaner.input.sulfate                       14556 non-null  float64\n",
      " 37  primary_cleaner.input.depressant                    14551 non-null  float64\n",
      " 38  primary_cleaner.input.feed_size                     14579 non-null  float64\n",
      " 39  primary_cleaner.input.xanthate                      14518 non-null  float64\n",
      " 40  primary_cleaner.state.floatbank8_a_air              14576 non-null  float64\n",
      " 41  primary_cleaner.state.floatbank8_a_level            14579 non-null  float64\n",
      " 42  primary_cleaner.state.floatbank8_b_air              14576 non-null  float64\n",
      " 43  primary_cleaner.state.floatbank8_b_level            14579 non-null  float64\n",
      " 44  primary_cleaner.state.floatbank8_c_air              14579 non-null  float64\n",
      " 45  primary_cleaner.state.floatbank8_c_level            14579 non-null  float64\n",
      " 46  primary_cleaner.state.floatbank8_d_air              14578 non-null  float64\n",
      " 47  primary_cleaner.state.floatbank8_d_level            14579 non-null  float64\n",
      " 48  primary_cleaner.output.concentrate_au               14579 non-null  float64\n",
      " 49  primary_cleaner.output.concentrate_ag               14579 non-null  float64\n",
      " 50  primary_cleaner.output.concentrate_pb               14491 non-null  float64\n",
      " 51  primary_cleaner.output.concentrate_sol              14314 non-null  float64\n",
      " 52  primary_cleaner.output.tail_au                      14579 non-null  float64\n",
      " 53  primary_cleaner.output.tail_ag                      14575 non-null  float64\n",
      " 54  primary_cleaner.output.tail_pb                      14573 non-null  float64\n",
      " 55  primary_cleaner.output.tail_sol                     14534 non-null  float64\n",
      " 56  secondary_cleaner.state.floatbank2_a_air            14485 non-null  float64\n",
      " 57  secondary_cleaner.state.floatbank2_a_level          14579 non-null  float64\n",
      " 58  secondary_cleaner.state.floatbank2_b_air            14557 non-null  float64\n",
      " 59  secondary_cleaner.state.floatbank2_b_level          14579 non-null  float64\n",
      " 60  secondary_cleaner.state.floatbank3_a_air            14567 non-null  float64\n",
      " 61  secondary_cleaner.state.floatbank3_a_level          14579 non-null  float64\n",
      " 62  secondary_cleaner.state.floatbank3_b_air            14579 non-null  float64\n",
      " 63  secondary_cleaner.state.floatbank3_b_level          14579 non-null  float64\n",
      " 64  secondary_cleaner.state.floatbank4_a_air            14574 non-null  float64\n",
      " 65  secondary_cleaner.state.floatbank4_a_level          14579 non-null  float64\n",
      " 66  secondary_cleaner.state.floatbank4_b_air            14579 non-null  float64\n",
      " 67  secondary_cleaner.state.floatbank4_b_level          14579 non-null  float64\n",
      " 68  secondary_cleaner.state.floatbank5_a_air            14579 non-null  float64\n",
      " 69  secondary_cleaner.state.floatbank5_a_level          14579 non-null  float64\n",
      " 70  secondary_cleaner.state.floatbank5_b_air            14579 non-null  float64\n",
      " 71  secondary_cleaner.state.floatbank5_b_level          14579 non-null  float64\n",
      " 72  secondary_cleaner.state.floatbank6_a_air            14578 non-null  float64\n",
      " 73  secondary_cleaner.state.floatbank6_a_level          14579 non-null  float64\n",
      " 74  secondary_cleaner.output.tail_au                    14579 non-null  float64\n",
      " 75  secondary_cleaner.output.tail_ag                    14578 non-null  float64\n",
      " 76  secondary_cleaner.output.tail_pb                    14575 non-null  float64\n",
      " 77  secondary_cleaner.output.tail_sol                   13659 non-null  float64\n",
      " 78  final.output.concentrate_au                         14579 non-null  float64\n",
      " 79  final.output.concentrate_ag                         14578 non-null  float64\n",
      " 80  final.output.concentrate_pb                         14578 non-null  float64\n",
      " 81  final.output.concentrate_sol                        14387 non-null  float64\n",
      " 82  final.output.recovery                               14579 non-null  float64\n",
      " 83  final.output.tail_au                                14579 non-null  float64\n",
      " 84  final.output.tail_ag                                14578 non-null  float64\n",
      " 85  final.output.tail_pb                                14504 non-null  float64\n",
      " 86  final.output.tail_sol                               14574 non-null  float64\n",
      "dtypes: float64(86), object(1)\n",
      "memory usage: 9.7+ MB\n",
      "\n",
      "Статистические показатели:\n",
      "\n"
     ]
    },
    {
     "data": {
      "text/html": [
       "<div>\n",
       "<style scoped>\n",
       "    .dataframe tbody tr th:only-of-type {\n",
       "        vertical-align: middle;\n",
       "    }\n",
       "\n",
       "    .dataframe tbody tr th {\n",
       "        vertical-align: top;\n",
       "    }\n",
       "\n",
       "    .dataframe thead th {\n",
       "        text-align: right;\n",
       "    }\n",
       "</style>\n",
       "<table border=\"1\" class=\"dataframe\">\n",
       "  <thead>\n",
       "    <tr style=\"text-align: right;\">\n",
       "      <th></th>\n",
       "      <th>rougher.input.feed_au</th>\n",
       "      <th>rougher.input.feed_ag</th>\n",
       "      <th>rougher.input.feed_pb</th>\n",
       "      <th>rougher.input.feed_sol</th>\n",
       "      <th>rougher.input.feed_rate</th>\n",
       "      <th>rougher.input.feed_size</th>\n",
       "      <th>rougher.input.floatbank10_sulfate</th>\n",
       "      <th>rougher.input.floatbank10_xanthate</th>\n",
       "      <th>rougher.state.floatbank10_a_air</th>\n",
       "      <th>rougher.state.floatbank10_a_level</th>\n",
       "      <th>...</th>\n",
       "      <th>secondary_cleaner.output.tail_sol</th>\n",
       "      <th>final.output.concentrate_au</th>\n",
       "      <th>final.output.concentrate_ag</th>\n",
       "      <th>final.output.concentrate_pb</th>\n",
       "      <th>final.output.concentrate_sol</th>\n",
       "      <th>final.output.recovery</th>\n",
       "      <th>final.output.tail_au</th>\n",
       "      <th>final.output.tail_ag</th>\n",
       "      <th>final.output.tail_pb</th>\n",
       "      <th>final.output.tail_sol</th>\n",
       "    </tr>\n",
       "  </thead>\n",
       "  <tbody>\n",
       "    <tr>\n",
       "      <th>count</th>\n",
       "      <td>14579.000000</td>\n",
       "      <td>14579.000000</td>\n",
       "      <td>14507.000000</td>\n",
       "      <td>14502.000000</td>\n",
       "      <td>14572.000000</td>\n",
       "      <td>14478.000000</td>\n",
       "      <td>14548.000000</td>\n",
       "      <td>14572.000000</td>\n",
       "      <td>14579.000000</td>\n",
       "      <td>14579.000000</td>\n",
       "      <td>...</td>\n",
       "      <td>13659.000000</td>\n",
       "      <td>14579.000000</td>\n",
       "      <td>14578.000000</td>\n",
       "      <td>14578.000000</td>\n",
       "      <td>14387.000000</td>\n",
       "      <td>14579.000000</td>\n",
       "      <td>14579.000000</td>\n",
       "      <td>14578.000000</td>\n",
       "      <td>14504.000000</td>\n",
       "      <td>14574.000000</td>\n",
       "    </tr>\n",
       "    <tr>\n",
       "      <th>mean</th>\n",
       "      <td>8.352941</td>\n",
       "      <td>8.877460</td>\n",
       "      <td>3.604221</td>\n",
       "      <td>36.561420</td>\n",
       "      <td>474.332784</td>\n",
       "      <td>58.922712</td>\n",
       "      <td>12.427399</td>\n",
       "      <td>5.994854</td>\n",
       "      <td>1104.208278</td>\n",
       "      <td>-379.367166</td>\n",
       "      <td>...</td>\n",
       "      <td>7.111347</td>\n",
       "      <td>43.979499</td>\n",
       "      <td>5.192145</td>\n",
       "      <td>9.923809</td>\n",
       "      <td>9.566676</td>\n",
       "      <td>66.759066</td>\n",
       "      <td>3.087939</td>\n",
       "      <td>9.731972</td>\n",
       "      <td>2.719985</td>\n",
       "      <td>10.612745</td>\n",
       "    </tr>\n",
       "    <tr>\n",
       "      <th>std</th>\n",
       "      <td>1.934376</td>\n",
       "      <td>1.922536</td>\n",
       "      <td>1.056063</td>\n",
       "      <td>5.209823</td>\n",
       "      <td>108.503552</td>\n",
       "      <td>22.407410</td>\n",
       "      <td>3.428939</td>\n",
       "      <td>1.152873</td>\n",
       "      <td>162.235606</td>\n",
       "      <td>94.652311</td>\n",
       "      <td>...</td>\n",
       "      <td>3.909951</td>\n",
       "      <td>5.471437</td>\n",
       "      <td>1.388014</td>\n",
       "      <td>1.706976</td>\n",
       "      <td>2.805654</td>\n",
       "      <td>10.619709</td>\n",
       "      <td>0.915187</td>\n",
       "      <td>2.358143</td>\n",
       "      <td>0.958929</td>\n",
       "      <td>2.871075</td>\n",
       "    </tr>\n",
       "    <tr>\n",
       "      <th>min</th>\n",
       "      <td>0.010000</td>\n",
       "      <td>0.010000</td>\n",
       "      <td>0.010000</td>\n",
       "      <td>0.010000</td>\n",
       "      <td>0.002986</td>\n",
       "      <td>0.049194</td>\n",
       "      <td>0.001083</td>\n",
       "      <td>0.000568</td>\n",
       "      <td>-0.042069</td>\n",
       "      <td>-657.949759</td>\n",
       "      <td>...</td>\n",
       "      <td>0.000000</td>\n",
       "      <td>0.000000</td>\n",
       "      <td>0.000000</td>\n",
       "      <td>0.000000</td>\n",
       "      <td>0.000000</td>\n",
       "      <td>0.000000</td>\n",
       "      <td>0.000000</td>\n",
       "      <td>0.000000</td>\n",
       "      <td>0.000000</td>\n",
       "      <td>0.000000</td>\n",
       "    </tr>\n",
       "    <tr>\n",
       "      <th>25%</th>\n",
       "      <td>6.932996</td>\n",
       "      <td>7.341922</td>\n",
       "      <td>2.880490</td>\n",
       "      <td>34.093951</td>\n",
       "      <td>411.048483</td>\n",
       "      <td>47.278490</td>\n",
       "      <td>10.002832</td>\n",
       "      <td>5.304167</td>\n",
       "      <td>999.644856</td>\n",
       "      <td>-499.861797</td>\n",
       "      <td>...</td>\n",
       "      <td>3.784897</td>\n",
       "      <td>43.345906</td>\n",
       "      <td>4.283347</td>\n",
       "      <td>9.103183</td>\n",
       "      <td>7.860030</td>\n",
       "      <td>63.114596</td>\n",
       "      <td>2.505287</td>\n",
       "      <td>8.088928</td>\n",
       "      <td>2.036512</td>\n",
       "      <td>9.013412</td>\n",
       "    </tr>\n",
       "    <tr>\n",
       "      <th>50%</th>\n",
       "      <td>8.225284</td>\n",
       "      <td>8.715859</td>\n",
       "      <td>3.532399</td>\n",
       "      <td>37.097511</td>\n",
       "      <td>498.187968</td>\n",
       "      <td>54.361187</td>\n",
       "      <td>12.003320</td>\n",
       "      <td>6.003053</td>\n",
       "      <td>1000.982624</td>\n",
       "      <td>-300.314199</td>\n",
       "      <td>...</td>\n",
       "      <td>7.629968</td>\n",
       "      <td>44.975014</td>\n",
       "      <td>5.118647</td>\n",
       "      <td>10.046455</td>\n",
       "      <td>9.301970</td>\n",
       "      <td>67.962788</td>\n",
       "      <td>3.029238</td>\n",
       "      <td>9.818512</td>\n",
       "      <td>2.774847</td>\n",
       "      <td>10.670515</td>\n",
       "    </tr>\n",
       "    <tr>\n",
       "      <th>75%</th>\n",
       "      <td>9.832210</td>\n",
       "      <td>10.255843</td>\n",
       "      <td>4.257282</td>\n",
       "      <td>39.899799</td>\n",
       "      <td>549.586552</td>\n",
       "      <td>64.464926</td>\n",
       "      <td>14.929903</td>\n",
       "      <td>6.796632</td>\n",
       "      <td>1292.663971</td>\n",
       "      <td>-299.989315</td>\n",
       "      <td>...</td>\n",
       "      <td>10.367050</td>\n",
       "      <td>46.275153</td>\n",
       "      <td>5.925380</td>\n",
       "      <td>10.981203</td>\n",
       "      <td>11.001573</td>\n",
       "      <td>72.598187</td>\n",
       "      <td>3.614098</td>\n",
       "      <td>11.169187</td>\n",
       "      <td>3.353845</td>\n",
       "      <td>12.130827</td>\n",
       "    </tr>\n",
       "    <tr>\n",
       "      <th>max</th>\n",
       "      <td>13.731330</td>\n",
       "      <td>14.596026</td>\n",
       "      <td>7.052325</td>\n",
       "      <td>53.475325</td>\n",
       "      <td>717.508837</td>\n",
       "      <td>484.967466</td>\n",
       "      <td>36.118275</td>\n",
       "      <td>9.703448</td>\n",
       "      <td>1512.299531</td>\n",
       "      <td>-273.776101</td>\n",
       "      <td>...</td>\n",
       "      <td>26.000772</td>\n",
       "      <td>52.756638</td>\n",
       "      <td>16.001945</td>\n",
       "      <td>16.705297</td>\n",
       "      <td>19.423912</td>\n",
       "      <td>100.000000</td>\n",
       "      <td>8.245022</td>\n",
       "      <td>19.552149</td>\n",
       "      <td>5.804178</td>\n",
       "      <td>22.317730</td>\n",
       "    </tr>\n",
       "  </tbody>\n",
       "</table>\n",
       "<p>8 rows × 86 columns</p>\n",
       "</div>"
      ],
      "text/plain": [
       "       rougher.input.feed_au  rougher.input.feed_ag  rougher.input.feed_pb  \\\n",
       "count           14579.000000           14579.000000           14507.000000   \n",
       "mean                8.352941               8.877460               3.604221   \n",
       "std                 1.934376               1.922536               1.056063   \n",
       "min                 0.010000               0.010000               0.010000   \n",
       "25%                 6.932996               7.341922               2.880490   \n",
       "50%                 8.225284               8.715859               3.532399   \n",
       "75%                 9.832210              10.255843               4.257282   \n",
       "max                13.731330              14.596026               7.052325   \n",
       "\n",
       "       rougher.input.feed_sol  rougher.input.feed_rate  \\\n",
       "count            14502.000000             14572.000000   \n",
       "mean                36.561420               474.332784   \n",
       "std                  5.209823               108.503552   \n",
       "min                  0.010000                 0.002986   \n",
       "25%                 34.093951               411.048483   \n",
       "50%                 37.097511               498.187968   \n",
       "75%                 39.899799               549.586552   \n",
       "max                 53.475325               717.508837   \n",
       "\n",
       "       rougher.input.feed_size  rougher.input.floatbank10_sulfate  \\\n",
       "count             14478.000000                       14548.000000   \n",
       "mean                 58.922712                          12.427399   \n",
       "std                  22.407410                           3.428939   \n",
       "min                   0.049194                           0.001083   \n",
       "25%                  47.278490                          10.002832   \n",
       "50%                  54.361187                          12.003320   \n",
       "75%                  64.464926                          14.929903   \n",
       "max                 484.967466                          36.118275   \n",
       "\n",
       "       rougher.input.floatbank10_xanthate  rougher.state.floatbank10_a_air  \\\n",
       "count                        14572.000000                     14579.000000   \n",
       "mean                             5.994854                      1104.208278   \n",
       "std                              1.152873                       162.235606   \n",
       "min                              0.000568                        -0.042069   \n",
       "25%                              5.304167                       999.644856   \n",
       "50%                              6.003053                      1000.982624   \n",
       "75%                              6.796632                      1292.663971   \n",
       "max                              9.703448                      1512.299531   \n",
       "\n",
       "       rougher.state.floatbank10_a_level  ...  \\\n",
       "count                       14579.000000  ...   \n",
       "mean                         -379.367166  ...   \n",
       "std                            94.652311  ...   \n",
       "min                          -657.949759  ...   \n",
       "25%                          -499.861797  ...   \n",
       "50%                          -300.314199  ...   \n",
       "75%                          -299.989315  ...   \n",
       "max                          -273.776101  ...   \n",
       "\n",
       "       secondary_cleaner.output.tail_sol  final.output.concentrate_au  \\\n",
       "count                       13659.000000                 14579.000000   \n",
       "mean                            7.111347                    43.979499   \n",
       "std                             3.909951                     5.471437   \n",
       "min                             0.000000                     0.000000   \n",
       "25%                             3.784897                    43.345906   \n",
       "50%                             7.629968                    44.975014   \n",
       "75%                            10.367050                    46.275153   \n",
       "max                            26.000772                    52.756638   \n",
       "\n",
       "       final.output.concentrate_ag  final.output.concentrate_pb  \\\n",
       "count                 14578.000000                 14578.000000   \n",
       "mean                      5.192145                     9.923809   \n",
       "std                       1.388014                     1.706976   \n",
       "min                       0.000000                     0.000000   \n",
       "25%                       4.283347                     9.103183   \n",
       "50%                       5.118647                    10.046455   \n",
       "75%                       5.925380                    10.981203   \n",
       "max                      16.001945                    16.705297   \n",
       "\n",
       "       final.output.concentrate_sol  final.output.recovery  \\\n",
       "count                  14387.000000           14579.000000   \n",
       "mean                       9.566676              66.759066   \n",
       "std                        2.805654              10.619709   \n",
       "min                        0.000000               0.000000   \n",
       "25%                        7.860030              63.114596   \n",
       "50%                        9.301970              67.962788   \n",
       "75%                       11.001573              72.598187   \n",
       "max                       19.423912             100.000000   \n",
       "\n",
       "       final.output.tail_au  final.output.tail_ag  final.output.tail_pb  \\\n",
       "count          14579.000000          14578.000000          14504.000000   \n",
       "mean               3.087939              9.731972              2.719985   \n",
       "std                0.915187              2.358143              0.958929   \n",
       "min                0.000000              0.000000              0.000000   \n",
       "25%                2.505287              8.088928              2.036512   \n",
       "50%                3.029238              9.818512              2.774847   \n",
       "75%                3.614098             11.169187              3.353845   \n",
       "max                8.245022             19.552149              5.804178   \n",
       "\n",
       "       final.output.tail_sol  \n",
       "count           14574.000000  \n",
       "mean               10.612745  \n",
       "std                 2.871075  \n",
       "min                 0.000000  \n",
       "25%                 9.013412  \n",
       "50%                10.670515  \n",
       "75%                12.130827  \n",
       "max                22.317730  \n",
       "\n",
       "[8 rows x 86 columns]"
      ]
     },
     "metadata": {},
     "output_type": "display_data"
    },
    {
     "name": "stdout",
     "output_type": "stream",
     "text": [
      "\n",
      "Количество пропусков: 3050\n",
      "\n",
      "Количество дубликатов: 0\n",
      "\n",
      "\n",
      "==================================================\n",
      "\n"
     ]
    }
   ],
   "source": [
    "# Посмотрим тренировочный датасет\n",
    "display_data(train_data)"
   ]
  },
  {
   "cell_type": "code",
   "execution_count": 7,
   "id": "95340b36",
   "metadata": {
    "scrolled": false
   },
   "outputs": [
    {
     "name": "stdout",
     "output_type": "stream",
     "text": [
      "\n",
      "==================================================\n",
      "\n",
      "\n",
      "Первые строки DataFrame:\n"
     ]
    },
    {
     "data": {
      "text/html": [
       "<div>\n",
       "<style scoped>\n",
       "    .dataframe tbody tr th:only-of-type {\n",
       "        vertical-align: middle;\n",
       "    }\n",
       "\n",
       "    .dataframe tbody tr th {\n",
       "        vertical-align: top;\n",
       "    }\n",
       "\n",
       "    .dataframe thead th {\n",
       "        text-align: right;\n",
       "    }\n",
       "</style>\n",
       "<table border=\"1\" class=\"dataframe\">\n",
       "  <thead>\n",
       "    <tr style=\"text-align: right;\">\n",
       "      <th></th>\n",
       "      <th>date</th>\n",
       "      <th>rougher.input.feed_au</th>\n",
       "      <th>rougher.input.feed_ag</th>\n",
       "      <th>rougher.input.feed_pb</th>\n",
       "      <th>rougher.input.feed_sol</th>\n",
       "      <th>rougher.input.feed_rate</th>\n",
       "      <th>rougher.input.feed_size</th>\n",
       "      <th>rougher.input.floatbank10_sulfate</th>\n",
       "      <th>rougher.input.floatbank10_xanthate</th>\n",
       "      <th>rougher.state.floatbank10_a_air</th>\n",
       "      <th>...</th>\n",
       "      <th>secondary_cleaner.state.floatbank4_a_air</th>\n",
       "      <th>secondary_cleaner.state.floatbank4_a_level</th>\n",
       "      <th>secondary_cleaner.state.floatbank4_b_air</th>\n",
       "      <th>secondary_cleaner.state.floatbank4_b_level</th>\n",
       "      <th>secondary_cleaner.state.floatbank5_a_air</th>\n",
       "      <th>secondary_cleaner.state.floatbank5_a_level</th>\n",
       "      <th>secondary_cleaner.state.floatbank5_b_air</th>\n",
       "      <th>secondary_cleaner.state.floatbank5_b_level</th>\n",
       "      <th>secondary_cleaner.state.floatbank6_a_air</th>\n",
       "      <th>secondary_cleaner.state.floatbank6_a_level</th>\n",
       "    </tr>\n",
       "  </thead>\n",
       "  <tbody>\n",
       "    <tr>\n",
       "      <th>0</th>\n",
       "      <td>2017-12-09 14:59:59</td>\n",
       "      <td>4.365491</td>\n",
       "      <td>6.158718</td>\n",
       "      <td>3.875727</td>\n",
       "      <td>39.135119</td>\n",
       "      <td>555.820208</td>\n",
       "      <td>94.544358</td>\n",
       "      <td>6.146982</td>\n",
       "      <td>9.308612</td>\n",
       "      <td>1196.238112</td>\n",
       "      <td>...</td>\n",
       "      <td>23.018622</td>\n",
       "      <td>-500.492702</td>\n",
       "      <td>20.020205</td>\n",
       "      <td>-500.220296</td>\n",
       "      <td>17.963512</td>\n",
       "      <td>-499.939490</td>\n",
       "      <td>12.990306</td>\n",
       "      <td>-500.080993</td>\n",
       "      <td>19.990336</td>\n",
       "      <td>-499.191575</td>\n",
       "    </tr>\n",
       "    <tr>\n",
       "      <th>1</th>\n",
       "      <td>2017-12-09 15:59:59</td>\n",
       "      <td>4.362781</td>\n",
       "      <td>6.048130</td>\n",
       "      <td>3.902537</td>\n",
       "      <td>39.713906</td>\n",
       "      <td>544.731687</td>\n",
       "      <td>123.742430</td>\n",
       "      <td>6.210119</td>\n",
       "      <td>9.297709</td>\n",
       "      <td>1201.904177</td>\n",
       "      <td>...</td>\n",
       "      <td>23.024963</td>\n",
       "      <td>-501.153409</td>\n",
       "      <td>20.054122</td>\n",
       "      <td>-500.314711</td>\n",
       "      <td>17.979515</td>\n",
       "      <td>-499.272871</td>\n",
       "      <td>12.992404</td>\n",
       "      <td>-499.976268</td>\n",
       "      <td>20.013986</td>\n",
       "      <td>-500.625471</td>\n",
       "    </tr>\n",
       "    <tr>\n",
       "      <th>2</th>\n",
       "      <td>2017-12-09 16:59:59</td>\n",
       "      <td>5.081681</td>\n",
       "      <td>6.082745</td>\n",
       "      <td>4.564078</td>\n",
       "      <td>37.208683</td>\n",
       "      <td>558.155110</td>\n",
       "      <td>82.610855</td>\n",
       "      <td>7.363824</td>\n",
       "      <td>9.003562</td>\n",
       "      <td>1200.826926</td>\n",
       "      <td>...</td>\n",
       "      <td>22.993827</td>\n",
       "      <td>-501.559663</td>\n",
       "      <td>20.029144</td>\n",
       "      <td>-500.000662</td>\n",
       "      <td>18.012723</td>\n",
       "      <td>-500.024764</td>\n",
       "      <td>13.016445</td>\n",
       "      <td>-500.058432</td>\n",
       "      <td>19.973767</td>\n",
       "      <td>-501.394155</td>\n",
       "    </tr>\n",
       "    <tr>\n",
       "      <th>3</th>\n",
       "      <td>2017-12-09 17:59:59</td>\n",
       "      <td>5.145949</td>\n",
       "      <td>6.084374</td>\n",
       "      <td>4.768124</td>\n",
       "      <td>36.808874</td>\n",
       "      <td>539.713765</td>\n",
       "      <td>77.984784</td>\n",
       "      <td>6.927072</td>\n",
       "      <td>8.955597</td>\n",
       "      <td>1199.292489</td>\n",
       "      <td>...</td>\n",
       "      <td>23.032807</td>\n",
       "      <td>-501.287889</td>\n",
       "      <td>19.977466</td>\n",
       "      <td>-500.159903</td>\n",
       "      <td>17.980463</td>\n",
       "      <td>-500.504602</td>\n",
       "      <td>12.949071</td>\n",
       "      <td>-500.009937</td>\n",
       "      <td>20.010332</td>\n",
       "      <td>-508.337973</td>\n",
       "    </tr>\n",
       "    <tr>\n",
       "      <th>4</th>\n",
       "      <td>2017-12-09 18:59:59</td>\n",
       "      <td>5.735249</td>\n",
       "      <td>6.165220</td>\n",
       "      <td>4.512346</td>\n",
       "      <td>37.810642</td>\n",
       "      <td>558.713584</td>\n",
       "      <td>86.434874</td>\n",
       "      <td>7.823471</td>\n",
       "      <td>7.490356</td>\n",
       "      <td>1198.005449</td>\n",
       "      <td>...</td>\n",
       "      <td>23.001911</td>\n",
       "      <td>-499.947838</td>\n",
       "      <td>20.023735</td>\n",
       "      <td>-499.713680</td>\n",
       "      <td>17.990955</td>\n",
       "      <td>-500.334769</td>\n",
       "      <td>13.007523</td>\n",
       "      <td>-499.968459</td>\n",
       "      <td>19.995999</td>\n",
       "      <td>-499.788805</td>\n",
       "    </tr>\n",
       "  </tbody>\n",
       "</table>\n",
       "<p>5 rows × 53 columns</p>\n",
       "</div>"
      ],
      "text/plain": [
       "                  date  rougher.input.feed_au  rougher.input.feed_ag  \\\n",
       "0  2017-12-09 14:59:59               4.365491               6.158718   \n",
       "1  2017-12-09 15:59:59               4.362781               6.048130   \n",
       "2  2017-12-09 16:59:59               5.081681               6.082745   \n",
       "3  2017-12-09 17:59:59               5.145949               6.084374   \n",
       "4  2017-12-09 18:59:59               5.735249               6.165220   \n",
       "\n",
       "   rougher.input.feed_pb  rougher.input.feed_sol  rougher.input.feed_rate  \\\n",
       "0               3.875727               39.135119               555.820208   \n",
       "1               3.902537               39.713906               544.731687   \n",
       "2               4.564078               37.208683               558.155110   \n",
       "3               4.768124               36.808874               539.713765   \n",
       "4               4.512346               37.810642               558.713584   \n",
       "\n",
       "   rougher.input.feed_size  rougher.input.floatbank10_sulfate  \\\n",
       "0                94.544358                           6.146982   \n",
       "1               123.742430                           6.210119   \n",
       "2                82.610855                           7.363824   \n",
       "3                77.984784                           6.927072   \n",
       "4                86.434874                           7.823471   \n",
       "\n",
       "   rougher.input.floatbank10_xanthate  rougher.state.floatbank10_a_air  ...  \\\n",
       "0                            9.308612                      1196.238112  ...   \n",
       "1                            9.297709                      1201.904177  ...   \n",
       "2                            9.003562                      1200.826926  ...   \n",
       "3                            8.955597                      1199.292489  ...   \n",
       "4                            7.490356                      1198.005449  ...   \n",
       "\n",
       "   secondary_cleaner.state.floatbank4_a_air  \\\n",
       "0                                 23.018622   \n",
       "1                                 23.024963   \n",
       "2                                 22.993827   \n",
       "3                                 23.032807   \n",
       "4                                 23.001911   \n",
       "\n",
       "   secondary_cleaner.state.floatbank4_a_level  \\\n",
       "0                                 -500.492702   \n",
       "1                                 -501.153409   \n",
       "2                                 -501.559663   \n",
       "3                                 -501.287889   \n",
       "4                                 -499.947838   \n",
       "\n",
       "   secondary_cleaner.state.floatbank4_b_air  \\\n",
       "0                                 20.020205   \n",
       "1                                 20.054122   \n",
       "2                                 20.029144   \n",
       "3                                 19.977466   \n",
       "4                                 20.023735   \n",
       "\n",
       "   secondary_cleaner.state.floatbank4_b_level  \\\n",
       "0                                 -500.220296   \n",
       "1                                 -500.314711   \n",
       "2                                 -500.000662   \n",
       "3                                 -500.159903   \n",
       "4                                 -499.713680   \n",
       "\n",
       "   secondary_cleaner.state.floatbank5_a_air  \\\n",
       "0                                 17.963512   \n",
       "1                                 17.979515   \n",
       "2                                 18.012723   \n",
       "3                                 17.980463   \n",
       "4                                 17.990955   \n",
       "\n",
       "   secondary_cleaner.state.floatbank5_a_level  \\\n",
       "0                                 -499.939490   \n",
       "1                                 -499.272871   \n",
       "2                                 -500.024764   \n",
       "3                                 -500.504602   \n",
       "4                                 -500.334769   \n",
       "\n",
       "   secondary_cleaner.state.floatbank5_b_air  \\\n",
       "0                                 12.990306   \n",
       "1                                 12.992404   \n",
       "2                                 13.016445   \n",
       "3                                 12.949071   \n",
       "4                                 13.007523   \n",
       "\n",
       "   secondary_cleaner.state.floatbank5_b_level  \\\n",
       "0                                 -500.080993   \n",
       "1                                 -499.976268   \n",
       "2                                 -500.058432   \n",
       "3                                 -500.009937   \n",
       "4                                 -499.968459   \n",
       "\n",
       "   secondary_cleaner.state.floatbank6_a_air  \\\n",
       "0                                 19.990336   \n",
       "1                                 20.013986   \n",
       "2                                 19.973767   \n",
       "3                                 20.010332   \n",
       "4                                 19.995999   \n",
       "\n",
       "   secondary_cleaner.state.floatbank6_a_level  \n",
       "0                                 -499.191575  \n",
       "1                                 -500.625471  \n",
       "2                                 -501.394155  \n",
       "3                                 -508.337973  \n",
       "4                                 -499.788805  \n",
       "\n",
       "[5 rows x 53 columns]"
      ]
     },
     "metadata": {},
     "output_type": "display_data"
    },
    {
     "name": "stdout",
     "output_type": "stream",
     "text": [
      "\n",
      "Общая информация о DataFrame:\n",
      "\n",
      "<class 'pandas.core.frame.DataFrame'>\n",
      "RangeIndex: 4860 entries, 0 to 4859\n",
      "Data columns (total 53 columns):\n",
      " #   Column                                      Non-Null Count  Dtype  \n",
      "---  ------                                      --------------  -----  \n",
      " 0   date                                        4860 non-null   object \n",
      " 1   rougher.input.feed_au                       4860 non-null   float64\n",
      " 2   rougher.input.feed_ag                       4860 non-null   float64\n",
      " 3   rougher.input.feed_pb                       4832 non-null   float64\n",
      " 4   rougher.input.feed_sol                      4838 non-null   float64\n",
      " 5   rougher.input.feed_rate                     4856 non-null   float64\n",
      " 6   rougher.input.feed_size                     4816 non-null   float64\n",
      " 7   rougher.input.floatbank10_sulfate           4857 non-null   float64\n",
      " 8   rougher.input.floatbank10_xanthate          4859 non-null   float64\n",
      " 9   rougher.state.floatbank10_a_air             4859 non-null   float64\n",
      " 10  rougher.state.floatbank10_a_level           4859 non-null   float64\n",
      " 11  rougher.state.floatbank10_b_air             4859 non-null   float64\n",
      " 12  rougher.state.floatbank10_b_level           4859 non-null   float64\n",
      " 13  rougher.state.floatbank10_c_air             4859 non-null   float64\n",
      " 14  rougher.state.floatbank10_c_level           4859 non-null   float64\n",
      " 15  rougher.state.floatbank10_d_air             4860 non-null   float64\n",
      " 16  rougher.state.floatbank10_d_level           4860 non-null   float64\n",
      " 17  rougher.state.floatbank10_e_air             4853 non-null   float64\n",
      " 18  rougher.state.floatbank10_e_level           4860 non-null   float64\n",
      " 19  rougher.state.floatbank10_f_air             4860 non-null   float64\n",
      " 20  rougher.state.floatbank10_f_level           4860 non-null   float64\n",
      " 21  rougher.input.floatbank11_sulfate           4852 non-null   float64\n",
      " 22  rougher.input.floatbank11_xanthate          4814 non-null   float64\n",
      " 23  primary_cleaner.input.sulfate               4859 non-null   float64\n",
      " 24  primary_cleaner.input.depressant            4851 non-null   float64\n",
      " 25  primary_cleaner.input.feed_size             4860 non-null   float64\n",
      " 26  primary_cleaner.input.xanthate              4817 non-null   float64\n",
      " 27  primary_cleaner.state.floatbank8_a_air      4859 non-null   float64\n",
      " 28  primary_cleaner.state.floatbank8_a_level    4859 non-null   float64\n",
      " 29  primary_cleaner.state.floatbank8_b_air      4859 non-null   float64\n",
      " 30  primary_cleaner.state.floatbank8_b_level    4859 non-null   float64\n",
      " 31  primary_cleaner.state.floatbank8_c_air      4858 non-null   float64\n",
      " 32  primary_cleaner.state.floatbank8_c_level    4859 non-null   float64\n",
      " 33  primary_cleaner.state.floatbank8_d_air      4858 non-null   float64\n",
      " 34  primary_cleaner.state.floatbank8_d_level    4859 non-null   float64\n",
      " 35  secondary_cleaner.state.floatbank2_a_air    4734 non-null   float64\n",
      " 36  secondary_cleaner.state.floatbank2_a_level  4859 non-null   float64\n",
      " 37  secondary_cleaner.state.floatbank2_b_air    4859 non-null   float64\n",
      " 38  secondary_cleaner.state.floatbank2_b_level  4859 non-null   float64\n",
      " 39  secondary_cleaner.state.floatbank3_a_air    4859 non-null   float64\n",
      " 40  secondary_cleaner.state.floatbank3_a_level  4859 non-null   float64\n",
      " 41  secondary_cleaner.state.floatbank3_b_air    4859 non-null   float64\n",
      " 42  secondary_cleaner.state.floatbank3_b_level  4859 non-null   float64\n",
      " 43  secondary_cleaner.state.floatbank4_a_air    4859 non-null   float64\n",
      " 44  secondary_cleaner.state.floatbank4_a_level  4859 non-null   float64\n",
      " 45  secondary_cleaner.state.floatbank4_b_air    4859 non-null   float64\n",
      " 46  secondary_cleaner.state.floatbank4_b_level  4859 non-null   float64\n",
      " 47  secondary_cleaner.state.floatbank5_a_air    4859 non-null   float64\n",
      " 48  secondary_cleaner.state.floatbank5_a_level  4859 non-null   float64\n",
      " 49  secondary_cleaner.state.floatbank5_b_air    4859 non-null   float64\n",
      " 50  secondary_cleaner.state.floatbank5_b_level  4859 non-null   float64\n",
      " 51  secondary_cleaner.state.floatbank6_a_air    4859 non-null   float64\n",
      " 52  secondary_cleaner.state.floatbank6_a_level  4859 non-null   float64\n",
      "dtypes: float64(52), object(1)\n",
      "memory usage: 2.0+ MB\n",
      "\n",
      "Статистические показатели:\n",
      "\n"
     ]
    },
    {
     "data": {
      "text/html": [
       "<div>\n",
       "<style scoped>\n",
       "    .dataframe tbody tr th:only-of-type {\n",
       "        vertical-align: middle;\n",
       "    }\n",
       "\n",
       "    .dataframe tbody tr th {\n",
       "        vertical-align: top;\n",
       "    }\n",
       "\n",
       "    .dataframe thead th {\n",
       "        text-align: right;\n",
       "    }\n",
       "</style>\n",
       "<table border=\"1\" class=\"dataframe\">\n",
       "  <thead>\n",
       "    <tr style=\"text-align: right;\">\n",
       "      <th></th>\n",
       "      <th>rougher.input.feed_au</th>\n",
       "      <th>rougher.input.feed_ag</th>\n",
       "      <th>rougher.input.feed_pb</th>\n",
       "      <th>rougher.input.feed_sol</th>\n",
       "      <th>rougher.input.feed_rate</th>\n",
       "      <th>rougher.input.feed_size</th>\n",
       "      <th>rougher.input.floatbank10_sulfate</th>\n",
       "      <th>rougher.input.floatbank10_xanthate</th>\n",
       "      <th>rougher.state.floatbank10_a_air</th>\n",
       "      <th>rougher.state.floatbank10_a_level</th>\n",
       "      <th>...</th>\n",
       "      <th>secondary_cleaner.state.floatbank4_a_air</th>\n",
       "      <th>secondary_cleaner.state.floatbank4_a_level</th>\n",
       "      <th>secondary_cleaner.state.floatbank4_b_air</th>\n",
       "      <th>secondary_cleaner.state.floatbank4_b_level</th>\n",
       "      <th>secondary_cleaner.state.floatbank5_a_air</th>\n",
       "      <th>secondary_cleaner.state.floatbank5_a_level</th>\n",
       "      <th>secondary_cleaner.state.floatbank5_b_air</th>\n",
       "      <th>secondary_cleaner.state.floatbank5_b_level</th>\n",
       "      <th>secondary_cleaner.state.floatbank6_a_air</th>\n",
       "      <th>secondary_cleaner.state.floatbank6_a_level</th>\n",
       "    </tr>\n",
       "  </thead>\n",
       "  <tbody>\n",
       "    <tr>\n",
       "      <th>count</th>\n",
       "      <td>4860.000000</td>\n",
       "      <td>4860.000000</td>\n",
       "      <td>4832.000000</td>\n",
       "      <td>4838.000000</td>\n",
       "      <td>4856.000000</td>\n",
       "      <td>4816.000000</td>\n",
       "      <td>4857.000000</td>\n",
       "      <td>4859.000000</td>\n",
       "      <td>4859.000000</td>\n",
       "      <td>4859.000000</td>\n",
       "      <td>...</td>\n",
       "      <td>4.859000e+03</td>\n",
       "      <td>4859.000000</td>\n",
       "      <td>4.859000e+03</td>\n",
       "      <td>4859.000000</td>\n",
       "      <td>4859.000000</td>\n",
       "      <td>4859.000000</td>\n",
       "      <td>4859.000000</td>\n",
       "      <td>4859.000000</td>\n",
       "      <td>4859.000000</td>\n",
       "      <td>4859.000000</td>\n",
       "    </tr>\n",
       "    <tr>\n",
       "      <th>mean</th>\n",
       "      <td>8.005584</td>\n",
       "      <td>8.547348</td>\n",
       "      <td>3.579662</td>\n",
       "      <td>37.095864</td>\n",
       "      <td>490.285103</td>\n",
       "      <td>59.113400</td>\n",
       "      <td>12.055735</td>\n",
       "      <td>6.101308</td>\n",
       "      <td>1108.635895</td>\n",
       "      <td>-368.340127</td>\n",
       "      <td>...</td>\n",
       "      <td>1.985770e+01</td>\n",
       "      <td>-488.665140</td>\n",
       "      <td>1.557025e+01</td>\n",
       "      <td>-464.176507</td>\n",
       "      <td>16.594103</td>\n",
       "      <td>-490.815250</td>\n",
       "      <td>12.945971</td>\n",
       "      <td>-489.583564</td>\n",
       "      <td>19.053888</td>\n",
       "      <td>-504.678924</td>\n",
       "    </tr>\n",
       "    <tr>\n",
       "      <th>std</th>\n",
       "      <td>1.993590</td>\n",
       "      <td>1.958601</td>\n",
       "      <td>1.029377</td>\n",
       "      <td>4.926284</td>\n",
       "      <td>94.371623</td>\n",
       "      <td>19.125122</td>\n",
       "      <td>3.407642</td>\n",
       "      <td>1.042754</td>\n",
       "      <td>156.493143</td>\n",
       "      <td>91.155929</td>\n",
       "      <td>...</td>\n",
       "      <td>5.913105e+00</td>\n",
       "      <td>44.392714</td>\n",
       "      <td>4.927361e+00</td>\n",
       "      <td>65.706994</td>\n",
       "      <td>5.724305</td>\n",
       "      <td>32.258443</td>\n",
       "      <td>5.533176</td>\n",
       "      <td>37.084609</td>\n",
       "      <td>5.548996</td>\n",
       "      <td>38.690186</td>\n",
       "    </tr>\n",
       "    <tr>\n",
       "      <th>min</th>\n",
       "      <td>0.010000</td>\n",
       "      <td>0.010000</td>\n",
       "      <td>0.010000</td>\n",
       "      <td>0.010000</td>\n",
       "      <td>0.012786</td>\n",
       "      <td>0.046369</td>\n",
       "      <td>0.018907</td>\n",
       "      <td>0.015783</td>\n",
       "      <td>300.792494</td>\n",
       "      <td>-600.568138</td>\n",
       "      <td>...</td>\n",
       "      <td>1.079872e-16</td>\n",
       "      <td>-799.704969</td>\n",
       "      <td>2.489718e-17</td>\n",
       "      <td>-799.860767</td>\n",
       "      <td>-0.371498</td>\n",
       "      <td>-797.142475</td>\n",
       "      <td>1.358469</td>\n",
       "      <td>-800.006180</td>\n",
       "      <td>0.160386</td>\n",
       "      <td>-809.734800</td>\n",
       "    </tr>\n",
       "    <tr>\n",
       "      <th>25%</th>\n",
       "      <td>6.574363</td>\n",
       "      <td>6.975898</td>\n",
       "      <td>2.903612</td>\n",
       "      <td>34.510841</td>\n",
       "      <td>434.099695</td>\n",
       "      <td>47.596984</td>\n",
       "      <td>9.890429</td>\n",
       "      <td>5.499808</td>\n",
       "      <td>999.715729</td>\n",
       "      <td>-499.731972</td>\n",
       "      <td>...</td>\n",
       "      <td>1.501123e+01</td>\n",
       "      <td>-500.704004</td>\n",
       "      <td>1.202172e+01</td>\n",
       "      <td>-500.196517</td>\n",
       "      <td>11.073822</td>\n",
       "      <td>-500.483564</td>\n",
       "      <td>9.011890</td>\n",
       "      <td>-500.129913</td>\n",
       "      <td>14.963953</td>\n",
       "      <td>-500.668501</td>\n",
       "    </tr>\n",
       "    <tr>\n",
       "      <th>50%</th>\n",
       "      <td>7.812923</td>\n",
       "      <td>8.179714</td>\n",
       "      <td>3.540772</td>\n",
       "      <td>37.499761</td>\n",
       "      <td>502.118742</td>\n",
       "      <td>55.509481</td>\n",
       "      <td>11.997859</td>\n",
       "      <td>6.099805</td>\n",
       "      <td>1001.414798</td>\n",
       "      <td>-300.181367</td>\n",
       "      <td>...</td>\n",
       "      <td>1.996807e+01</td>\n",
       "      <td>-499.892919</td>\n",
       "      <td>1.501240e+01</td>\n",
       "      <td>-499.540776</td>\n",
       "      <td>16.631195</td>\n",
       "      <td>-499.873136</td>\n",
       "      <td>11.999417</td>\n",
       "      <td>-499.955304</td>\n",
       "      <td>19.960006</td>\n",
       "      <td>-500.033769</td>\n",
       "    </tr>\n",
       "    <tr>\n",
       "      <th>75%</th>\n",
       "      <td>9.556589</td>\n",
       "      <td>10.084339</td>\n",
       "      <td>4.199847</td>\n",
       "      <td>40.461315</td>\n",
       "      <td>555.596563</td>\n",
       "      <td>66.661547</td>\n",
       "      <td>14.496072</td>\n",
       "      <td>6.802101</td>\n",
       "      <td>1202.837565</td>\n",
       "      <td>-299.961547</td>\n",
       "      <td>...</td>\n",
       "      <td>2.498900e+01</td>\n",
       "      <td>-498.652030</td>\n",
       "      <td>1.999949e+01</td>\n",
       "      <td>-400.302329</td>\n",
       "      <td>19.983191</td>\n",
       "      <td>-498.852815</td>\n",
       "      <td>15.004198</td>\n",
       "      <td>-499.643776</td>\n",
       "      <td>24.974583</td>\n",
       "      <td>-499.460134</td>\n",
       "    </tr>\n",
       "    <tr>\n",
       "      <th>max</th>\n",
       "      <td>13.417156</td>\n",
       "      <td>14.533698</td>\n",
       "      <td>7.142594</td>\n",
       "      <td>53.477742</td>\n",
       "      <td>702.523396</td>\n",
       "      <td>363.989699</td>\n",
       "      <td>30.010759</td>\n",
       "      <td>9.396928</td>\n",
       "      <td>1521.980372</td>\n",
       "      <td>-281.039299</td>\n",
       "      <td>...</td>\n",
       "      <td>3.008450e+01</td>\n",
       "      <td>-383.373053</td>\n",
       "      <td>2.398898e+01</td>\n",
       "      <td>-114.250832</td>\n",
       "      <td>33.215996</td>\n",
       "      <td>-288.963521</td>\n",
       "      <td>24.177106</td>\n",
       "      <td>-141.934397</td>\n",
       "      <td>32.028529</td>\n",
       "      <td>-104.427459</td>\n",
       "    </tr>\n",
       "  </tbody>\n",
       "</table>\n",
       "<p>8 rows × 52 columns</p>\n",
       "</div>"
      ],
      "text/plain": [
       "       rougher.input.feed_au  rougher.input.feed_ag  rougher.input.feed_pb  \\\n",
       "count            4860.000000            4860.000000            4832.000000   \n",
       "mean                8.005584               8.547348               3.579662   \n",
       "std                 1.993590               1.958601               1.029377   \n",
       "min                 0.010000               0.010000               0.010000   \n",
       "25%                 6.574363               6.975898               2.903612   \n",
       "50%                 7.812923               8.179714               3.540772   \n",
       "75%                 9.556589              10.084339               4.199847   \n",
       "max                13.417156              14.533698               7.142594   \n",
       "\n",
       "       rougher.input.feed_sol  rougher.input.feed_rate  \\\n",
       "count             4838.000000              4856.000000   \n",
       "mean                37.095864               490.285103   \n",
       "std                  4.926284                94.371623   \n",
       "min                  0.010000                 0.012786   \n",
       "25%                 34.510841               434.099695   \n",
       "50%                 37.499761               502.118742   \n",
       "75%                 40.461315               555.596563   \n",
       "max                 53.477742               702.523396   \n",
       "\n",
       "       rougher.input.feed_size  rougher.input.floatbank10_sulfate  \\\n",
       "count              4816.000000                        4857.000000   \n",
       "mean                 59.113400                          12.055735   \n",
       "std                  19.125122                           3.407642   \n",
       "min                   0.046369                           0.018907   \n",
       "25%                  47.596984                           9.890429   \n",
       "50%                  55.509481                          11.997859   \n",
       "75%                  66.661547                          14.496072   \n",
       "max                 363.989699                          30.010759   \n",
       "\n",
       "       rougher.input.floatbank10_xanthate  rougher.state.floatbank10_a_air  \\\n",
       "count                         4859.000000                      4859.000000   \n",
       "mean                             6.101308                      1108.635895   \n",
       "std                              1.042754                       156.493143   \n",
       "min                              0.015783                       300.792494   \n",
       "25%                              5.499808                       999.715729   \n",
       "50%                              6.099805                      1001.414798   \n",
       "75%                              6.802101                      1202.837565   \n",
       "max                              9.396928                      1521.980372   \n",
       "\n",
       "       rougher.state.floatbank10_a_level  ...  \\\n",
       "count                        4859.000000  ...   \n",
       "mean                         -368.340127  ...   \n",
       "std                            91.155929  ...   \n",
       "min                          -600.568138  ...   \n",
       "25%                          -499.731972  ...   \n",
       "50%                          -300.181367  ...   \n",
       "75%                          -299.961547  ...   \n",
       "max                          -281.039299  ...   \n",
       "\n",
       "       secondary_cleaner.state.floatbank4_a_air  \\\n",
       "count                              4.859000e+03   \n",
       "mean                               1.985770e+01   \n",
       "std                                5.913105e+00   \n",
       "min                                1.079872e-16   \n",
       "25%                                1.501123e+01   \n",
       "50%                                1.996807e+01   \n",
       "75%                                2.498900e+01   \n",
       "max                                3.008450e+01   \n",
       "\n",
       "       secondary_cleaner.state.floatbank4_a_level  \\\n",
       "count                                 4859.000000   \n",
       "mean                                  -488.665140   \n",
       "std                                     44.392714   \n",
       "min                                   -799.704969   \n",
       "25%                                   -500.704004   \n",
       "50%                                   -499.892919   \n",
       "75%                                   -498.652030   \n",
       "max                                   -383.373053   \n",
       "\n",
       "       secondary_cleaner.state.floatbank4_b_air  \\\n",
       "count                              4.859000e+03   \n",
       "mean                               1.557025e+01   \n",
       "std                                4.927361e+00   \n",
       "min                                2.489718e-17   \n",
       "25%                                1.202172e+01   \n",
       "50%                                1.501240e+01   \n",
       "75%                                1.999949e+01   \n",
       "max                                2.398898e+01   \n",
       "\n",
       "       secondary_cleaner.state.floatbank4_b_level  \\\n",
       "count                                 4859.000000   \n",
       "mean                                  -464.176507   \n",
       "std                                     65.706994   \n",
       "min                                   -799.860767   \n",
       "25%                                   -500.196517   \n",
       "50%                                   -499.540776   \n",
       "75%                                   -400.302329   \n",
       "max                                   -114.250832   \n",
       "\n",
       "       secondary_cleaner.state.floatbank5_a_air  \\\n",
       "count                               4859.000000   \n",
       "mean                                  16.594103   \n",
       "std                                    5.724305   \n",
       "min                                   -0.371498   \n",
       "25%                                   11.073822   \n",
       "50%                                   16.631195   \n",
       "75%                                   19.983191   \n",
       "max                                   33.215996   \n",
       "\n",
       "       secondary_cleaner.state.floatbank5_a_level  \\\n",
       "count                                 4859.000000   \n",
       "mean                                  -490.815250   \n",
       "std                                     32.258443   \n",
       "min                                   -797.142475   \n",
       "25%                                   -500.483564   \n",
       "50%                                   -499.873136   \n",
       "75%                                   -498.852815   \n",
       "max                                   -288.963521   \n",
       "\n",
       "       secondary_cleaner.state.floatbank5_b_air  \\\n",
       "count                               4859.000000   \n",
       "mean                                  12.945971   \n",
       "std                                    5.533176   \n",
       "min                                    1.358469   \n",
       "25%                                    9.011890   \n",
       "50%                                   11.999417   \n",
       "75%                                   15.004198   \n",
       "max                                   24.177106   \n",
       "\n",
       "       secondary_cleaner.state.floatbank5_b_level  \\\n",
       "count                                 4859.000000   \n",
       "mean                                  -489.583564   \n",
       "std                                     37.084609   \n",
       "min                                   -800.006180   \n",
       "25%                                   -500.129913   \n",
       "50%                                   -499.955304   \n",
       "75%                                   -499.643776   \n",
       "max                                   -141.934397   \n",
       "\n",
       "       secondary_cleaner.state.floatbank6_a_air  \\\n",
       "count                               4859.000000   \n",
       "mean                                  19.053888   \n",
       "std                                    5.548996   \n",
       "min                                    0.160386   \n",
       "25%                                   14.963953   \n",
       "50%                                   19.960006   \n",
       "75%                                   24.974583   \n",
       "max                                   32.028529   \n",
       "\n",
       "       secondary_cleaner.state.floatbank6_a_level  \n",
       "count                                 4859.000000  \n",
       "mean                                  -504.678924  \n",
       "std                                     38.690186  \n",
       "min                                   -809.734800  \n",
       "25%                                   -500.668501  \n",
       "50%                                   -500.033769  \n",
       "75%                                   -499.460134  \n",
       "max                                   -104.427459  \n",
       "\n",
       "[8 rows x 52 columns]"
      ]
     },
     "metadata": {},
     "output_type": "display_data"
    },
    {
     "name": "stdout",
     "output_type": "stream",
     "text": [
      "\n",
      "Количество пропусков: 375\n",
      "\n",
      "Количество дубликатов: 0\n",
      "\n",
      "\n",
      "==================================================\n",
      "\n"
     ]
    }
   ],
   "source": [
    "# Посмотрим тестовый датасет\n",
    "display_data(test_data)"
   ]
  },
  {
   "cell_type": "code",
   "execution_count": 8,
   "id": "f286db01",
   "metadata": {},
   "outputs": [
    {
     "name": "stdout",
     "output_type": "stream",
     "text": [
      "\n",
      "==================================================\n",
      "\n",
      "\n",
      "Первые строки DataFrame:\n"
     ]
    },
    {
     "data": {
      "text/html": [
       "<div>\n",
       "<style scoped>\n",
       "    .dataframe tbody tr th:only-of-type {\n",
       "        vertical-align: middle;\n",
       "    }\n",
       "\n",
       "    .dataframe tbody tr th {\n",
       "        vertical-align: top;\n",
       "    }\n",
       "\n",
       "    .dataframe thead th {\n",
       "        text-align: right;\n",
       "    }\n",
       "</style>\n",
       "<table border=\"1\" class=\"dataframe\">\n",
       "  <thead>\n",
       "    <tr style=\"text-align: right;\">\n",
       "      <th></th>\n",
       "      <th>date</th>\n",
       "      <th>rougher.input.feed_au</th>\n",
       "      <th>rougher.input.feed_ag</th>\n",
       "      <th>rougher.input.feed_pb</th>\n",
       "      <th>rougher.input.feed_sol</th>\n",
       "      <th>rougher.input.feed_rate</th>\n",
       "      <th>rougher.input.feed_size</th>\n",
       "      <th>rougher.input.floatbank10_sulfate</th>\n",
       "      <th>rougher.input.floatbank10_xanthate</th>\n",
       "      <th>rougher.state.floatbank10_a_air</th>\n",
       "      <th>...</th>\n",
       "      <th>secondary_cleaner.output.tail_sol</th>\n",
       "      <th>final.output.concentrate_au</th>\n",
       "      <th>final.output.concentrate_ag</th>\n",
       "      <th>final.output.concentrate_pb</th>\n",
       "      <th>final.output.concentrate_sol</th>\n",
       "      <th>final.output.recovery</th>\n",
       "      <th>final.output.tail_au</th>\n",
       "      <th>final.output.tail_ag</th>\n",
       "      <th>final.output.tail_pb</th>\n",
       "      <th>final.output.tail_sol</th>\n",
       "    </tr>\n",
       "  </thead>\n",
       "  <tbody>\n",
       "    <tr>\n",
       "      <th>0</th>\n",
       "      <td>2016-01-15 00:00:00</td>\n",
       "      <td>6.486150</td>\n",
       "      <td>6.100378</td>\n",
       "      <td>2.284912</td>\n",
       "      <td>36.808594</td>\n",
       "      <td>523.546326</td>\n",
       "      <td>55.486599</td>\n",
       "      <td>11.986616</td>\n",
       "      <td>6.007990</td>\n",
       "      <td>999.706909</td>\n",
       "      <td>...</td>\n",
       "      <td>8.764648</td>\n",
       "      <td>42.192020</td>\n",
       "      <td>6.055403</td>\n",
       "      <td>9.889648</td>\n",
       "      <td>5.507324</td>\n",
       "      <td>70.541216</td>\n",
       "      <td>2.143149</td>\n",
       "      <td>10.411962</td>\n",
       "      <td>0.895447</td>\n",
       "      <td>16.904297</td>\n",
       "    </tr>\n",
       "    <tr>\n",
       "      <th>1</th>\n",
       "      <td>2016-01-15 01:00:00</td>\n",
       "      <td>6.478583</td>\n",
       "      <td>6.161113</td>\n",
       "      <td>2.266033</td>\n",
       "      <td>35.753385</td>\n",
       "      <td>525.290581</td>\n",
       "      <td>57.278666</td>\n",
       "      <td>11.971193</td>\n",
       "      <td>6.005766</td>\n",
       "      <td>1000.286398</td>\n",
       "      <td>...</td>\n",
       "      <td>9.001494</td>\n",
       "      <td>42.701629</td>\n",
       "      <td>6.029369</td>\n",
       "      <td>9.968944</td>\n",
       "      <td>5.257781</td>\n",
       "      <td>69.266198</td>\n",
       "      <td>2.224930</td>\n",
       "      <td>10.462676</td>\n",
       "      <td>0.927452</td>\n",
       "      <td>16.634514</td>\n",
       "    </tr>\n",
       "    <tr>\n",
       "      <th>2</th>\n",
       "      <td>2016-01-15 02:00:00</td>\n",
       "      <td>6.362222</td>\n",
       "      <td>6.116455</td>\n",
       "      <td>2.159622</td>\n",
       "      <td>35.971630</td>\n",
       "      <td>530.026610</td>\n",
       "      <td>57.510649</td>\n",
       "      <td>11.920603</td>\n",
       "      <td>6.197377</td>\n",
       "      <td>999.719565</td>\n",
       "      <td>...</td>\n",
       "      <td>8.842896</td>\n",
       "      <td>42.657501</td>\n",
       "      <td>6.055926</td>\n",
       "      <td>10.213995</td>\n",
       "      <td>5.383759</td>\n",
       "      <td>68.116445</td>\n",
       "      <td>2.257889</td>\n",
       "      <td>10.507046</td>\n",
       "      <td>0.953716</td>\n",
       "      <td>16.208849</td>\n",
       "    </tr>\n",
       "    <tr>\n",
       "      <th>3</th>\n",
       "      <td>2016-01-15 03:00:00</td>\n",
       "      <td>6.118189</td>\n",
       "      <td>6.043309</td>\n",
       "      <td>2.037807</td>\n",
       "      <td>36.862241</td>\n",
       "      <td>542.590390</td>\n",
       "      <td>57.792734</td>\n",
       "      <td>11.630094</td>\n",
       "      <td>6.203177</td>\n",
       "      <td>999.814770</td>\n",
       "      <td>...</td>\n",
       "      <td>9.122857</td>\n",
       "      <td>42.689819</td>\n",
       "      <td>6.047977</td>\n",
       "      <td>9.977019</td>\n",
       "      <td>4.858634</td>\n",
       "      <td>68.347543</td>\n",
       "      <td>2.146849</td>\n",
       "      <td>10.422762</td>\n",
       "      <td>0.883763</td>\n",
       "      <td>16.532835</td>\n",
       "    </tr>\n",
       "    <tr>\n",
       "      <th>4</th>\n",
       "      <td>2016-01-15 04:00:00</td>\n",
       "      <td>5.663707</td>\n",
       "      <td>6.060915</td>\n",
       "      <td>1.786875</td>\n",
       "      <td>34.347666</td>\n",
       "      <td>540.531893</td>\n",
       "      <td>56.047189</td>\n",
       "      <td>10.957755</td>\n",
       "      <td>6.198826</td>\n",
       "      <td>999.678690</td>\n",
       "      <td>...</td>\n",
       "      <td>8.871028</td>\n",
       "      <td>42.774141</td>\n",
       "      <td>6.148599</td>\n",
       "      <td>10.142511</td>\n",
       "      <td>4.939416</td>\n",
       "      <td>66.927016</td>\n",
       "      <td>2.055292</td>\n",
       "      <td>10.360302</td>\n",
       "      <td>0.792826</td>\n",
       "      <td>16.525686</td>\n",
       "    </tr>\n",
       "  </tbody>\n",
       "</table>\n",
       "<p>5 rows × 87 columns</p>\n",
       "</div>"
      ],
      "text/plain": [
       "                  date  rougher.input.feed_au  rougher.input.feed_ag  \\\n",
       "0  2016-01-15 00:00:00               6.486150               6.100378   \n",
       "1  2016-01-15 01:00:00               6.478583               6.161113   \n",
       "2  2016-01-15 02:00:00               6.362222               6.116455   \n",
       "3  2016-01-15 03:00:00               6.118189               6.043309   \n",
       "4  2016-01-15 04:00:00               5.663707               6.060915   \n",
       "\n",
       "   rougher.input.feed_pb  rougher.input.feed_sol  rougher.input.feed_rate  \\\n",
       "0               2.284912               36.808594               523.546326   \n",
       "1               2.266033               35.753385               525.290581   \n",
       "2               2.159622               35.971630               530.026610   \n",
       "3               2.037807               36.862241               542.590390   \n",
       "4               1.786875               34.347666               540.531893   \n",
       "\n",
       "   rougher.input.feed_size  rougher.input.floatbank10_sulfate  \\\n",
       "0                55.486599                          11.986616   \n",
       "1                57.278666                          11.971193   \n",
       "2                57.510649                          11.920603   \n",
       "3                57.792734                          11.630094   \n",
       "4                56.047189                          10.957755   \n",
       "\n",
       "   rougher.input.floatbank10_xanthate  rougher.state.floatbank10_a_air  ...  \\\n",
       "0                            6.007990                       999.706909  ...   \n",
       "1                            6.005766                      1000.286398  ...   \n",
       "2                            6.197377                       999.719565  ...   \n",
       "3                            6.203177                       999.814770  ...   \n",
       "4                            6.198826                       999.678690  ...   \n",
       "\n",
       "   secondary_cleaner.output.tail_sol  final.output.concentrate_au  \\\n",
       "0                           8.764648                    42.192020   \n",
       "1                           9.001494                    42.701629   \n",
       "2                           8.842896                    42.657501   \n",
       "3                           9.122857                    42.689819   \n",
       "4                           8.871028                    42.774141   \n",
       "\n",
       "   final.output.concentrate_ag  final.output.concentrate_pb  \\\n",
       "0                     6.055403                     9.889648   \n",
       "1                     6.029369                     9.968944   \n",
       "2                     6.055926                    10.213995   \n",
       "3                     6.047977                     9.977019   \n",
       "4                     6.148599                    10.142511   \n",
       "\n",
       "   final.output.concentrate_sol  final.output.recovery  final.output.tail_au  \\\n",
       "0                      5.507324              70.541216              2.143149   \n",
       "1                      5.257781              69.266198              2.224930   \n",
       "2                      5.383759              68.116445              2.257889   \n",
       "3                      4.858634              68.347543              2.146849   \n",
       "4                      4.939416              66.927016              2.055292   \n",
       "\n",
       "   final.output.tail_ag  final.output.tail_pb  final.output.tail_sol  \n",
       "0             10.411962              0.895447              16.904297  \n",
       "1             10.462676              0.927452              16.634514  \n",
       "2             10.507046              0.953716              16.208849  \n",
       "3             10.422762              0.883763              16.532835  \n",
       "4             10.360302              0.792826              16.525686  \n",
       "\n",
       "[5 rows x 87 columns]"
      ]
     },
     "metadata": {},
     "output_type": "display_data"
    },
    {
     "name": "stdout",
     "output_type": "stream",
     "text": [
      "\n",
      "Общая информация о DataFrame:\n",
      "\n",
      "<class 'pandas.core.frame.DataFrame'>\n",
      "RangeIndex: 19439 entries, 0 to 19438\n",
      "Data columns (total 87 columns):\n",
      " #   Column                                              Non-Null Count  Dtype  \n",
      "---  ------                                              --------------  -----  \n",
      " 0   date                                                19439 non-null  object \n",
      " 1   rougher.input.feed_au                               19439 non-null  float64\n",
      " 2   rougher.input.feed_ag                               19439 non-null  float64\n",
      " 3   rougher.input.feed_pb                               19339 non-null  float64\n",
      " 4   rougher.input.feed_sol                              19340 non-null  float64\n",
      " 5   rougher.input.feed_rate                             19428 non-null  float64\n",
      " 6   rougher.input.feed_size                             19294 non-null  float64\n",
      " 7   rougher.input.floatbank10_sulfate                   19405 non-null  float64\n",
      " 8   rougher.input.floatbank10_xanthate                  19431 non-null  float64\n",
      " 9   rougher.state.floatbank10_a_air                     19438 non-null  float64\n",
      " 10  rougher.state.floatbank10_a_level                   19438 non-null  float64\n",
      " 11  rougher.state.floatbank10_b_air                     19438 non-null  float64\n",
      " 12  rougher.state.floatbank10_b_level                   19438 non-null  float64\n",
      " 13  rougher.state.floatbank10_c_air                     19438 non-null  float64\n",
      " 14  rougher.state.floatbank10_c_level                   19438 non-null  float64\n",
      " 15  rougher.state.floatbank10_d_air                     19439 non-null  float64\n",
      " 16  rougher.state.floatbank10_d_level                   19439 non-null  float64\n",
      " 17  rougher.state.floatbank10_e_air                     19003 non-null  float64\n",
      " 18  rougher.state.floatbank10_e_level                   19439 non-null  float64\n",
      " 19  rougher.state.floatbank10_f_air                     19439 non-null  float64\n",
      " 20  rougher.state.floatbank10_f_level                   19439 non-null  float64\n",
      " 21  rougher.input.floatbank11_sulfate                   19395 non-null  float64\n",
      " 22  rougher.input.floatbank11_xanthate                  18986 non-null  float64\n",
      " 23  rougher.calculation.sulfate_to_au_concentrate       19437 non-null  float64\n",
      " 24  rougher.calculation.floatbank10_sulfate_to_au_feed  19437 non-null  float64\n",
      " 25  rougher.calculation.floatbank11_sulfate_to_au_feed  19437 non-null  float64\n",
      " 26  rougher.calculation.au_pb_ratio                     19439 non-null  float64\n",
      " 27  rougher.output.concentrate_au                       19439 non-null  float64\n",
      " 28  rougher.output.concentrate_ag                       19439 non-null  float64\n",
      " 29  rougher.output.concentrate_pb                       19439 non-null  float64\n",
      " 30  rougher.output.concentrate_sol                      19416 non-null  float64\n",
      " 31  rougher.output.recovery                             19439 non-null  float64\n",
      " 32  rougher.output.tail_au                              19439 non-null  float64\n",
      " 33  rougher.output.tail_ag                              19438 non-null  float64\n",
      " 34  rougher.output.tail_pb                              19439 non-null  float64\n",
      " 35  rougher.output.tail_sol                             19439 non-null  float64\n",
      " 36  primary_cleaner.input.sulfate                       19415 non-null  float64\n",
      " 37  primary_cleaner.input.depressant                    19402 non-null  float64\n",
      " 38  primary_cleaner.input.feed_size                     19439 non-null  float64\n",
      " 39  primary_cleaner.input.xanthate                      19335 non-null  float64\n",
      " 40  primary_cleaner.state.floatbank8_a_air              19435 non-null  float64\n",
      " 41  primary_cleaner.state.floatbank8_a_level            19438 non-null  float64\n",
      " 42  primary_cleaner.state.floatbank8_b_air              19435 non-null  float64\n",
      " 43  primary_cleaner.state.floatbank8_b_level            19438 non-null  float64\n",
      " 44  primary_cleaner.state.floatbank8_c_air              19437 non-null  float64\n",
      " 45  primary_cleaner.state.floatbank8_c_level            19438 non-null  float64\n",
      " 46  primary_cleaner.state.floatbank8_d_air              19436 non-null  float64\n",
      " 47  primary_cleaner.state.floatbank8_d_level            19438 non-null  float64\n",
      " 48  primary_cleaner.output.concentrate_au               19439 non-null  float64\n",
      " 49  primary_cleaner.output.concentrate_ag               19439 non-null  float64\n",
      " 50  primary_cleaner.output.concentrate_pb               19323 non-null  float64\n",
      " 51  primary_cleaner.output.concentrate_sol              19069 non-null  float64\n",
      " 52  primary_cleaner.output.tail_au                      19439 non-null  float64\n",
      " 53  primary_cleaner.output.tail_ag                      19435 non-null  float64\n",
      " 54  primary_cleaner.output.tail_pb                      19418 non-null  float64\n",
      " 55  primary_cleaner.output.tail_sol                     19377 non-null  float64\n",
      " 56  secondary_cleaner.state.floatbank2_a_air            19219 non-null  float64\n",
      " 57  secondary_cleaner.state.floatbank2_a_level          19438 non-null  float64\n",
      " 58  secondary_cleaner.state.floatbank2_b_air            19416 non-null  float64\n",
      " 59  secondary_cleaner.state.floatbank2_b_level          19438 non-null  float64\n",
      " 60  secondary_cleaner.state.floatbank3_a_air            19426 non-null  float64\n",
      " 61  secondary_cleaner.state.floatbank3_a_level          19438 non-null  float64\n",
      " 62  secondary_cleaner.state.floatbank3_b_air            19438 non-null  float64\n",
      " 63  secondary_cleaner.state.floatbank3_b_level          19438 non-null  float64\n",
      " 64  secondary_cleaner.state.floatbank4_a_air            19433 non-null  float64\n",
      " 65  secondary_cleaner.state.floatbank4_a_level          19438 non-null  float64\n",
      " 66  secondary_cleaner.state.floatbank4_b_air            19438 non-null  float64\n",
      " 67  secondary_cleaner.state.floatbank4_b_level          19438 non-null  float64\n",
      " 68  secondary_cleaner.state.floatbank5_a_air            19438 non-null  float64\n",
      " 69  secondary_cleaner.state.floatbank5_a_level          19438 non-null  float64\n",
      " 70  secondary_cleaner.state.floatbank5_b_air            19438 non-null  float64\n",
      " 71  secondary_cleaner.state.floatbank5_b_level          19438 non-null  float64\n",
      " 72  secondary_cleaner.state.floatbank6_a_air            19437 non-null  float64\n",
      " 73  secondary_cleaner.state.floatbank6_a_level          19438 non-null  float64\n",
      " 74  secondary_cleaner.output.tail_au                    19439 non-null  float64\n",
      " 75  secondary_cleaner.output.tail_ag                    19437 non-null  float64\n",
      " 76  secondary_cleaner.output.tail_pb                    19427 non-null  float64\n",
      " 77  secondary_cleaner.output.tail_sol                   17691 non-null  float64\n",
      " 78  final.output.concentrate_au                         19439 non-null  float64\n",
      " 79  final.output.concentrate_ag                         19438 non-null  float64\n",
      " 80  final.output.concentrate_pb                         19438 non-null  float64\n",
      " 81  final.output.concentrate_sol                        19228 non-null  float64\n",
      " 82  final.output.recovery                               19439 non-null  float64\n",
      " 83  final.output.tail_au                                19439 non-null  float64\n",
      " 84  final.output.tail_ag                                19438 non-null  float64\n",
      " 85  final.output.tail_pb                                19338 non-null  float64\n",
      " 86  final.output.tail_sol                               19433 non-null  float64\n",
      "dtypes: float64(86), object(1)\n",
      "memory usage: 12.9+ MB\n",
      "\n",
      "Статистические показатели:\n",
      "\n"
     ]
    },
    {
     "data": {
      "text/html": [
       "<div>\n",
       "<style scoped>\n",
       "    .dataframe tbody tr th:only-of-type {\n",
       "        vertical-align: middle;\n",
       "    }\n",
       "\n",
       "    .dataframe tbody tr th {\n",
       "        vertical-align: top;\n",
       "    }\n",
       "\n",
       "    .dataframe thead th {\n",
       "        text-align: right;\n",
       "    }\n",
       "</style>\n",
       "<table border=\"1\" class=\"dataframe\">\n",
       "  <thead>\n",
       "    <tr style=\"text-align: right;\">\n",
       "      <th></th>\n",
       "      <th>rougher.input.feed_au</th>\n",
       "      <th>rougher.input.feed_ag</th>\n",
       "      <th>rougher.input.feed_pb</th>\n",
       "      <th>rougher.input.feed_sol</th>\n",
       "      <th>rougher.input.feed_rate</th>\n",
       "      <th>rougher.input.feed_size</th>\n",
       "      <th>rougher.input.floatbank10_sulfate</th>\n",
       "      <th>rougher.input.floatbank10_xanthate</th>\n",
       "      <th>rougher.state.floatbank10_a_air</th>\n",
       "      <th>rougher.state.floatbank10_a_level</th>\n",
       "      <th>...</th>\n",
       "      <th>secondary_cleaner.output.tail_sol</th>\n",
       "      <th>final.output.concentrate_au</th>\n",
       "      <th>final.output.concentrate_ag</th>\n",
       "      <th>final.output.concentrate_pb</th>\n",
       "      <th>final.output.concentrate_sol</th>\n",
       "      <th>final.output.recovery</th>\n",
       "      <th>final.output.tail_au</th>\n",
       "      <th>final.output.tail_ag</th>\n",
       "      <th>final.output.tail_pb</th>\n",
       "      <th>final.output.tail_sol</th>\n",
       "    </tr>\n",
       "  </thead>\n",
       "  <tbody>\n",
       "    <tr>\n",
       "      <th>count</th>\n",
       "      <td>19439.000000</td>\n",
       "      <td>19439.000000</td>\n",
       "      <td>19339.000000</td>\n",
       "      <td>19340.000000</td>\n",
       "      <td>19428.000000</td>\n",
       "      <td>19294.000000</td>\n",
       "      <td>19405.000000</td>\n",
       "      <td>19431.000000</td>\n",
       "      <td>19438.000000</td>\n",
       "      <td>19438.000000</td>\n",
       "      <td>...</td>\n",
       "      <td>17691.000000</td>\n",
       "      <td>19439.000000</td>\n",
       "      <td>19438.000000</td>\n",
       "      <td>19438.000000</td>\n",
       "      <td>19228.000000</td>\n",
       "      <td>19439.000000</td>\n",
       "      <td>19439.000000</td>\n",
       "      <td>19438.000000</td>\n",
       "      <td>19338.000000</td>\n",
       "      <td>19433.000000</td>\n",
       "    </tr>\n",
       "    <tr>\n",
       "      <th>mean</th>\n",
       "      <td>8.266097</td>\n",
       "      <td>8.794927</td>\n",
       "      <td>3.598085</td>\n",
       "      <td>36.695114</td>\n",
       "      <td>478.320042</td>\n",
       "      <td>58.970310</td>\n",
       "      <td>12.334373</td>\n",
       "      <td>6.021474</td>\n",
       "      <td>1105.315068</td>\n",
       "      <td>-376.610690</td>\n",
       "      <td>...</td>\n",
       "      <td>7.167247</td>\n",
       "      <td>44.076513</td>\n",
       "      <td>5.168470</td>\n",
       "      <td>9.978895</td>\n",
       "      <td>9.501224</td>\n",
       "      <td>67.050208</td>\n",
       "      <td>3.042467</td>\n",
       "      <td>9.688589</td>\n",
       "      <td>2.705795</td>\n",
       "      <td>10.583728</td>\n",
       "    </tr>\n",
       "    <tr>\n",
       "      <th>std</th>\n",
       "      <td>1.955092</td>\n",
       "      <td>1.936847</td>\n",
       "      <td>1.049486</td>\n",
       "      <td>5.145445</td>\n",
       "      <td>105.373758</td>\n",
       "      <td>21.634478</td>\n",
       "      <td>3.427317</td>\n",
       "      <td>1.127263</td>\n",
       "      <td>160.826798</td>\n",
       "      <td>93.909667</td>\n",
       "      <td>...</td>\n",
       "      <td>3.916079</td>\n",
       "      <td>5.129784</td>\n",
       "      <td>1.372348</td>\n",
       "      <td>1.669240</td>\n",
       "      <td>2.787537</td>\n",
       "      <td>10.125840</td>\n",
       "      <td>0.922808</td>\n",
       "      <td>2.328642</td>\n",
       "      <td>0.949077</td>\n",
       "      <td>2.868782</td>\n",
       "    </tr>\n",
       "    <tr>\n",
       "      <th>min</th>\n",
       "      <td>0.010000</td>\n",
       "      <td>0.010000</td>\n",
       "      <td>0.010000</td>\n",
       "      <td>0.010000</td>\n",
       "      <td>0.002986</td>\n",
       "      <td>0.046369</td>\n",
       "      <td>0.001083</td>\n",
       "      <td>0.000568</td>\n",
       "      <td>-0.042069</td>\n",
       "      <td>-657.949759</td>\n",
       "      <td>...</td>\n",
       "      <td>0.000000</td>\n",
       "      <td>0.000000</td>\n",
       "      <td>0.000000</td>\n",
       "      <td>0.000000</td>\n",
       "      <td>0.000000</td>\n",
       "      <td>0.000000</td>\n",
       "      <td>0.000000</td>\n",
       "      <td>0.000000</td>\n",
       "      <td>0.000000</td>\n",
       "      <td>0.000000</td>\n",
       "    </tr>\n",
       "    <tr>\n",
       "      <th>25%</th>\n",
       "      <td>6.854384</td>\n",
       "      <td>7.237967</td>\n",
       "      <td>2.887280</td>\n",
       "      <td>34.207799</td>\n",
       "      <td>416.525453</td>\n",
       "      <td>47.435103</td>\n",
       "      <td>10.000362</td>\n",
       "      <td>5.398678</td>\n",
       "      <td>999.661867</td>\n",
       "      <td>-499.835165</td>\n",
       "      <td>...</td>\n",
       "      <td>3.845475</td>\n",
       "      <td>43.402215</td>\n",
       "      <td>4.251240</td>\n",
       "      <td>9.137262</td>\n",
       "      <td>7.722820</td>\n",
       "      <td>63.299712</td>\n",
       "      <td>2.461138</td>\n",
       "      <td>8.062878</td>\n",
       "      <td>2.040119</td>\n",
       "      <td>8.938947</td>\n",
       "    </tr>\n",
       "    <tr>\n",
       "      <th>50%</th>\n",
       "      <td>8.125839</td>\n",
       "      <td>8.593574</td>\n",
       "      <td>3.534895</td>\n",
       "      <td>37.202650</td>\n",
       "      <td>499.416120</td>\n",
       "      <td>54.610197</td>\n",
       "      <td>12.001174</td>\n",
       "      <td>6.008273</td>\n",
       "      <td>1001.072890</td>\n",
       "      <td>-300.263994</td>\n",
       "      <td>...</td>\n",
       "      <td>7.685827</td>\n",
       "      <td>45.011244</td>\n",
       "      <td>5.066094</td>\n",
       "      <td>10.102433</td>\n",
       "      <td>9.218961</td>\n",
       "      <td>68.172738</td>\n",
       "      <td>2.984909</td>\n",
       "      <td>9.743623</td>\n",
       "      <td>2.748730</td>\n",
       "      <td>10.622456</td>\n",
       "    </tr>\n",
       "    <tr>\n",
       "      <th>75%</th>\n",
       "      <td>9.769917</td>\n",
       "      <td>10.213771</td>\n",
       "      <td>4.244161</td>\n",
       "      <td>40.039133</td>\n",
       "      <td>550.172183</td>\n",
       "      <td>65.023044</td>\n",
       "      <td>14.716595</td>\n",
       "      <td>6.798051</td>\n",
       "      <td>1205.620588</td>\n",
       "      <td>-299.981998</td>\n",
       "      <td>...</td>\n",
       "      <td>10.411296</td>\n",
       "      <td>46.275313</td>\n",
       "      <td>5.895527</td>\n",
       "      <td>11.035769</td>\n",
       "      <td>10.947813</td>\n",
       "      <td>72.686642</td>\n",
       "      <td>3.571351</td>\n",
       "      <td>11.134294</td>\n",
       "      <td>3.333216</td>\n",
       "      <td>12.104271</td>\n",
       "    </tr>\n",
       "    <tr>\n",
       "      <th>max</th>\n",
       "      <td>13.731330</td>\n",
       "      <td>14.596026</td>\n",
       "      <td>7.142594</td>\n",
       "      <td>53.477742</td>\n",
       "      <td>717.508837</td>\n",
       "      <td>484.967466</td>\n",
       "      <td>36.118275</td>\n",
       "      <td>9.703448</td>\n",
       "      <td>1521.980372</td>\n",
       "      <td>-273.776101</td>\n",
       "      <td>...</td>\n",
       "      <td>26.000772</td>\n",
       "      <td>52.756638</td>\n",
       "      <td>16.001945</td>\n",
       "      <td>17.031899</td>\n",
       "      <td>19.615720</td>\n",
       "      <td>100.000000</td>\n",
       "      <td>8.245022</td>\n",
       "      <td>19.552149</td>\n",
       "      <td>5.804178</td>\n",
       "      <td>22.317730</td>\n",
       "    </tr>\n",
       "  </tbody>\n",
       "</table>\n",
       "<p>8 rows × 86 columns</p>\n",
       "</div>"
      ],
      "text/plain": [
       "       rougher.input.feed_au  rougher.input.feed_ag  rougher.input.feed_pb  \\\n",
       "count           19439.000000           19439.000000           19339.000000   \n",
       "mean                8.266097               8.794927               3.598085   \n",
       "std                 1.955092               1.936847               1.049486   \n",
       "min                 0.010000               0.010000               0.010000   \n",
       "25%                 6.854384               7.237967               2.887280   \n",
       "50%                 8.125839               8.593574               3.534895   \n",
       "75%                 9.769917              10.213771               4.244161   \n",
       "max                13.731330              14.596026               7.142594   \n",
       "\n",
       "       rougher.input.feed_sol  rougher.input.feed_rate  \\\n",
       "count            19340.000000             19428.000000   \n",
       "mean                36.695114               478.320042   \n",
       "std                  5.145445               105.373758   \n",
       "min                  0.010000                 0.002986   \n",
       "25%                 34.207799               416.525453   \n",
       "50%                 37.202650               499.416120   \n",
       "75%                 40.039133               550.172183   \n",
       "max                 53.477742               717.508837   \n",
       "\n",
       "       rougher.input.feed_size  rougher.input.floatbank10_sulfate  \\\n",
       "count             19294.000000                       19405.000000   \n",
       "mean                 58.970310                          12.334373   \n",
       "std                  21.634478                           3.427317   \n",
       "min                   0.046369                           0.001083   \n",
       "25%                  47.435103                          10.000362   \n",
       "50%                  54.610197                          12.001174   \n",
       "75%                  65.023044                          14.716595   \n",
       "max                 484.967466                          36.118275   \n",
       "\n",
       "       rougher.input.floatbank10_xanthate  rougher.state.floatbank10_a_air  \\\n",
       "count                        19431.000000                     19438.000000   \n",
       "mean                             6.021474                      1105.315068   \n",
       "std                              1.127263                       160.826798   \n",
       "min                              0.000568                        -0.042069   \n",
       "25%                              5.398678                       999.661867   \n",
       "50%                              6.008273                      1001.072890   \n",
       "75%                              6.798051                      1205.620588   \n",
       "max                              9.703448                      1521.980372   \n",
       "\n",
       "       rougher.state.floatbank10_a_level  ...  \\\n",
       "count                       19438.000000  ...   \n",
       "mean                         -376.610690  ...   \n",
       "std                            93.909667  ...   \n",
       "min                          -657.949759  ...   \n",
       "25%                          -499.835165  ...   \n",
       "50%                          -300.263994  ...   \n",
       "75%                          -299.981998  ...   \n",
       "max                          -273.776101  ...   \n",
       "\n",
       "       secondary_cleaner.output.tail_sol  final.output.concentrate_au  \\\n",
       "count                       17691.000000                 19439.000000   \n",
       "mean                            7.167247                    44.076513   \n",
       "std                             3.916079                     5.129784   \n",
       "min                             0.000000                     0.000000   \n",
       "25%                             3.845475                    43.402215   \n",
       "50%                             7.685827                    45.011244   \n",
       "75%                            10.411296                    46.275313   \n",
       "max                            26.000772                    52.756638   \n",
       "\n",
       "       final.output.concentrate_ag  final.output.concentrate_pb  \\\n",
       "count                 19438.000000                 19438.000000   \n",
       "mean                      5.168470                     9.978895   \n",
       "std                       1.372348                     1.669240   \n",
       "min                       0.000000                     0.000000   \n",
       "25%                       4.251240                     9.137262   \n",
       "50%                       5.066094                    10.102433   \n",
       "75%                       5.895527                    11.035769   \n",
       "max                      16.001945                    17.031899   \n",
       "\n",
       "       final.output.concentrate_sol  final.output.recovery  \\\n",
       "count                  19228.000000           19439.000000   \n",
       "mean                       9.501224              67.050208   \n",
       "std                        2.787537              10.125840   \n",
       "min                        0.000000               0.000000   \n",
       "25%                        7.722820              63.299712   \n",
       "50%                        9.218961              68.172738   \n",
       "75%                       10.947813              72.686642   \n",
       "max                       19.615720             100.000000   \n",
       "\n",
       "       final.output.tail_au  final.output.tail_ag  final.output.tail_pb  \\\n",
       "count          19439.000000          19438.000000          19338.000000   \n",
       "mean               3.042467              9.688589              2.705795   \n",
       "std                0.922808              2.328642              0.949077   \n",
       "min                0.000000              0.000000              0.000000   \n",
       "25%                2.461138              8.062878              2.040119   \n",
       "50%                2.984909              9.743623              2.748730   \n",
       "75%                3.571351             11.134294              3.333216   \n",
       "max                8.245022             19.552149              5.804178   \n",
       "\n",
       "       final.output.tail_sol  \n",
       "count           19433.000000  \n",
       "mean               10.583728  \n",
       "std                 2.868782  \n",
       "min                 0.000000  \n",
       "25%                 8.938947  \n",
       "50%                10.622456  \n",
       "75%                12.104271  \n",
       "max                22.317730  \n",
       "\n",
       "[8 rows x 86 columns]"
      ]
     },
     "metadata": {},
     "output_type": "display_data"
    },
    {
     "name": "stdout",
     "output_type": "stream",
     "text": [
      "\n",
      "Количество пропусков: 4481\n",
      "\n",
      "Количество дубликатов: 0\n",
      "\n",
      "\n",
      "==================================================\n",
      "\n"
     ]
    }
   ],
   "source": [
    "# Посмотрим исходную выборку\n",
    "display_data(full_data)"
   ]
  },
  {
   "cell_type": "markdown",
   "id": "346edc75",
   "metadata": {},
   "source": [
    "**Описание данных:**\n",
    "\n",
    "**Технологический процесс:**\n",
    "\n",
    "- **Rougher feed** — исходное сырье\n",
    "- **Rougher additions (или reagent additions)** — флотационные реагенты:\n",
    "  - **Xanthate** — ксантогенат (промотер, или активатор флотации)\n",
    "  - **Sulphate** — сульфат (на данном производстве сульфид натрия)\n",
    "  - **Depressant** — депрессант (силикат натрия)\n",
    "- **Rougher process** (англ. «грубый процесс») — флотация\n",
    "- **Rougher tails** — отвальные хвосты\n",
    "- **Float banks** — флотационная установка\n",
    "- **Cleaner process** — очистка\n",
    "- **Rougher Au** — черновой концентрат золота\n",
    "- **Final Au** — финальный концентрат золота\n",
    "\n",
    "**Параметры этапов:**\n",
    "\n",
    "- **air amount** — объём воздуха\n",
    "- **fluid levels** — уровень жидкости\n",
    "- **feed size** — размер гранул сырья\n",
    "- **feed rate** — скорость подачи\n",
    "\n",
    "**Наименование признаков:**\n",
    "\n",
    "Наименование признаков должно быть такое: `[этап].[тип_параметра].[название_параметра]`\n",
    "\n",
    "**Пример:**\n",
    "- `rougher.input.feed_ag`\n",
    "\n",
    "**Возможные значения для блока `[этап]`:**\n",
    "- **rougher** — флотация\n",
    "- **primary_cleaner** — первичная очистка\n",
    "- **secondary_cleaner** — вторичная очистка\n",
    "- **final** — финальные характеристики\n",
    "\n",
    "**Возможные значения для блока `[тип_параметра]`:**\n",
    "- **input** — параметры сырья\n",
    "- **output** — параметры продукта\n",
    "- **state** — параметры, характеризующие текущее состояние этапа\n",
    "- **calculation** — расчётные характеристики"
   ]
  },
  {
   "cell_type": "markdown",
   "id": "b3f78772",
   "metadata": {},
   "source": [
    "### Проверим, что эффективность обогащения рассчитана правильно. Вычислим её на обучающей выборке для признака rougher.output.recovery. Найдём MAE между нашим расчётом и значением признака. Далее сделаем выводы."
   ]
  },
  {
   "cell_type": "markdown",
   "id": "edbaeb02",
   "metadata": {},
   "source": [
    "Признак `rougher.output.recovery` представляет собой показатель эффективности процесса обогащения золота на этапе \"грубого\" флотационного обогащения (rougher stage). Этот показатель рассчитывает, какой процент золота удалось извлечь из сырья на данном этапе обогащения.\n",
    "\n",
    "Эффективность обогащения рассчитывается по следующей формуле:\n",
    "\n",
    "\n",
    "$$\n",
    "\\text{Recovery} = \\frac{C \\times (F - T)}{F \\times (C - T)} \\times 100\\%\n",
    "$$\n",
    "\n",
    "где:\n",
    "- **C** — доля золота в концентрате после флотации/очистки (rougher.output.concentrate_au);\n",
    "- **F** — доля золота в исходном сырье/концентрате до флотации/очистки (rougher.input.feed_au);\n",
    "- **T** — доля золота в хвостах после флотации/очистки (rougher.output.tail_au).\n",
    "\n",
    "Таким образом, `rougher.output.recovery` измеряет эффективность извлечения золота на этапе грубой флотации, выраженную в процентах."
   ]
  },
  {
   "cell_type": "code",
   "execution_count": 9,
   "id": "0bb8eb67",
   "metadata": {},
   "outputs": [
    {
     "name": "stdout",
     "output_type": "stream",
     "text": [
      "Среднее значение эффективности обогащения, вычисленное с помощью формулы: 82.52119968211336\n",
      "Фактическое среднее значение эффективности обогащения: 82.52119968211336\n",
      "MAE между рассчитанными и фактическими значениями эффективности обогащения: 9.83758577644259e-15\n"
     ]
    }
   ],
   "source": [
    "# Извлечение необходимых данных\n",
    "C = train_data['rougher.output.concentrate_au']\n",
    "F = train_data['rougher.input.feed_au']\n",
    "T = train_data['rougher.output.tail_au']\n",
    "\n",
    "# Вычисление эффективности обогащения по формуле\n",
    "calculated_recovery = (C * (F - T)) / (F * (C - T)) * 100\n",
    "\n",
    "# Настоящие значения эффективности обогащения\n",
    "true_recovery = train_data['rougher.output.recovery']\n",
    "\n",
    "# Вычисление MAE\n",
    "mae = mean_absolute_error(true_recovery, calculated_recovery)\n",
    "\n",
    "# Вывод\n",
    "print(f'Среднее значение эффективности обогащения, вычисленное с помощью формулы: {calculated_recovery.mean()}')\n",
    "print(f'Фактическое среднее значение эффективности обогащения: {true_recovery.mean()}')\n",
    "print(f'MAE между рассчитанными и фактическими значениями эффективности обогащения: {mae}')"
   ]
  },
  {
   "cell_type": "markdown",
   "id": "1f3fcf38",
   "metadata": {},
   "source": [
    "Эффективность обогащения, или recovery, измеряется в процентах (%). Это показатель того, какой процент золота удалось извлечь из исходного сырья на данном этапе обогащения. \n",
    "\n",
    "Число 82.52 означает, что в среднем 82.52% золота было извлечено из исходного материала на этапе грубой флотации (rougher stage).\n",
    "\n",
    "Выводы:\n",
    "- **Среднее значение эффективности обогащения, вычисленное с помощью формулы: 82.52**. Это значение показывает, что в среднем 82.52% золота удалось извлечь из исходного сырья.\n",
    "- **Фактическое среднее значение эффективности обогащения: 82.52**. Это значение показывает, что в среднем 82.52% золота удалось извлечь из исходного сырья по фактическим данным, представленным в наборе данных.\n",
    "- **MAE между рассчитанными и фактическими значениями эффективности обогащения:** близка к нулю, это указывает на крайне незначительные расхождения между рассчитанными и фактическими значениями, которые могут быть вызваны машинными ошибками при вычислениях с плавающей запятой.\n",
    "\n",
    "Таким образом, расчеты и данные полностью согласуются, что подтверждается MAE практически равным нулю. Это говорит о том, что формула для расчета эффективности обогащения применена правильно и данные в наборе данных корректны."
   ]
  },
  {
   "cell_type": "markdown",
   "id": "d5df8bf8",
   "metadata": {},
   "source": [
    "### Проанализируем признаки, недоступные в тестовой выборке. Проверим, что это за параметры и к какому типу они относятся"
   ]
  },
  {
   "cell_type": "code",
   "execution_count": 10,
   "id": "5e83a718",
   "metadata": {},
   "outputs": [
    {
     "name": "stdout",
     "output_type": "stream",
     "text": [
      "Признаки, отсутствующие в тестовой выборке:\n"
     ]
    },
    {
     "data": {
      "text/plain": [
       "'Признак: rougher.output.concentrate_pb, Тип: output'"
      ]
     },
     "metadata": {},
     "output_type": "display_data"
    },
    {
     "data": {
      "text/plain": [
       "'Признак: final.output.tail_au, Тип: output'"
      ]
     },
     "metadata": {},
     "output_type": "display_data"
    },
    {
     "data": {
      "text/plain": [
       "'Признак: final.output.tail_pb, Тип: output'"
      ]
     },
     "metadata": {},
     "output_type": "display_data"
    },
    {
     "data": {
      "text/plain": [
       "'Признак: rougher.output.tail_pb, Тип: output'"
      ]
     },
     "metadata": {},
     "output_type": "display_data"
    },
    {
     "data": {
      "text/plain": [
       "'Признак: final.output.concentrate_ag, Тип: output'"
      ]
     },
     "metadata": {},
     "output_type": "display_data"
    },
    {
     "data": {
      "text/plain": [
       "'Признак: primary_cleaner.output.concentrate_au, Тип: output'"
      ]
     },
     "metadata": {},
     "output_type": "display_data"
    },
    {
     "data": {
      "text/plain": [
       "'Признак: secondary_cleaner.output.tail_pb, Тип: output'"
      ]
     },
     "metadata": {},
     "output_type": "display_data"
    },
    {
     "data": {
      "text/plain": [
       "'Признак: rougher.output.tail_ag, Тип: output'"
      ]
     },
     "metadata": {},
     "output_type": "display_data"
    },
    {
     "data": {
      "text/plain": [
       "'Признак: primary_cleaner.output.tail_au, Тип: output'"
      ]
     },
     "metadata": {},
     "output_type": "display_data"
    },
    {
     "data": {
      "text/plain": [
       "'Признак: rougher.calculation.sulfate_to_au_concentrate, Тип: calculation'"
      ]
     },
     "metadata": {},
     "output_type": "display_data"
    },
    {
     "data": {
      "text/plain": [
       "'Признак: rougher.output.concentrate_sol, Тип: output'"
      ]
     },
     "metadata": {},
     "output_type": "display_data"
    },
    {
     "data": {
      "text/plain": [
       "'Признак: rougher.calculation.floatbank10_sulfate_to_au_feed, Тип: calculation'"
      ]
     },
     "metadata": {},
     "output_type": "display_data"
    },
    {
     "data": {
      "text/plain": [
       "'Признак: secondary_cleaner.output.tail_sol, Тип: output'"
      ]
     },
     "metadata": {},
     "output_type": "display_data"
    },
    {
     "data": {
      "text/plain": [
       "'Признак: rougher.calculation.floatbank11_sulfate_to_au_feed, Тип: calculation'"
      ]
     },
     "metadata": {},
     "output_type": "display_data"
    },
    {
     "data": {
      "text/plain": [
       "'Признак: rougher.calculation.au_pb_ratio, Тип: calculation'"
      ]
     },
     "metadata": {},
     "output_type": "display_data"
    },
    {
     "data": {
      "text/plain": [
       "'Признак: primary_cleaner.output.tail_ag, Тип: output'"
      ]
     },
     "metadata": {},
     "output_type": "display_data"
    },
    {
     "data": {
      "text/plain": [
       "'Признак: rougher.output.tail_au, Тип: output'"
      ]
     },
     "metadata": {},
     "output_type": "display_data"
    },
    {
     "data": {
      "text/plain": [
       "'Признак: primary_cleaner.output.tail_sol, Тип: output'"
      ]
     },
     "metadata": {},
     "output_type": "display_data"
    },
    {
     "data": {
      "text/plain": [
       "'Признак: primary_cleaner.output.concentrate_ag, Тип: output'"
      ]
     },
     "metadata": {},
     "output_type": "display_data"
    },
    {
     "data": {
      "text/plain": [
       "'Признак: final.output.recovery, Тип: output'"
      ]
     },
     "metadata": {},
     "output_type": "display_data"
    },
    {
     "data": {
      "text/plain": [
       "'Признак: secondary_cleaner.output.tail_au, Тип: output'"
      ]
     },
     "metadata": {},
     "output_type": "display_data"
    },
    {
     "data": {
      "text/plain": [
       "'Признак: final.output.concentrate_au, Тип: output'"
      ]
     },
     "metadata": {},
     "output_type": "display_data"
    },
    {
     "data": {
      "text/plain": [
       "'Признак: primary_cleaner.output.tail_pb, Тип: output'"
      ]
     },
     "metadata": {},
     "output_type": "display_data"
    },
    {
     "data": {
      "text/plain": [
       "'Признак: rougher.output.concentrate_au, Тип: output'"
      ]
     },
     "metadata": {},
     "output_type": "display_data"
    },
    {
     "data": {
      "text/plain": [
       "'Признак: final.output.tail_sol, Тип: output'"
      ]
     },
     "metadata": {},
     "output_type": "display_data"
    },
    {
     "data": {
      "text/plain": [
       "'Признак: primary_cleaner.output.concentrate_sol, Тип: output'"
      ]
     },
     "metadata": {},
     "output_type": "display_data"
    },
    {
     "data": {
      "text/plain": [
       "'Признак: final.output.tail_ag, Тип: output'"
      ]
     },
     "metadata": {},
     "output_type": "display_data"
    },
    {
     "data": {
      "text/plain": [
       "'Признак: final.output.concentrate_pb, Тип: output'"
      ]
     },
     "metadata": {},
     "output_type": "display_data"
    },
    {
     "data": {
      "text/plain": [
       "'Признак: rougher.output.recovery, Тип: output'"
      ]
     },
     "metadata": {},
     "output_type": "display_data"
    },
    {
     "data": {
      "text/plain": [
       "'Признак: final.output.concentrate_sol, Тип: output'"
      ]
     },
     "metadata": {},
     "output_type": "display_data"
    },
    {
     "data": {
      "text/plain": [
       "'Признак: rougher.output.concentrate_ag, Тип: output'"
      ]
     },
     "metadata": {},
     "output_type": "display_data"
    },
    {
     "data": {
      "text/plain": [
       "'Признак: secondary_cleaner.output.tail_ag, Тип: output'"
      ]
     },
     "metadata": {},
     "output_type": "display_data"
    },
    {
     "data": {
      "text/plain": [
       "'Признак: primary_cleaner.output.concentrate_pb, Тип: output'"
      ]
     },
     "metadata": {},
     "output_type": "display_data"
    },
    {
     "data": {
      "text/plain": [
       "'Признак: rougher.output.tail_sol, Тип: output'"
      ]
     },
     "metadata": {},
     "output_type": "display_data"
    }
   ],
   "source": [
    "# Определение столбцов, которые есть в обучающей выборке, но отсутствуют в тестовой\n",
    "train_columns = set(train_data.columns)\n",
    "test_columns = set(test_data.columns)\n",
    "\n",
    "missing_columns = train_columns - test_columns\n",
    "\n",
    "print(f'Признаки, отсутствующие в тестовой выборке:')\n",
    "\n",
    "# Выводим типы отсутствующих признаков\n",
    "for column in missing_columns:\n",
    "    display(f'Признак: {column}, Тип: {column.split(\".\")[1]}')"
   ]
  },
  {
   "cell_type": "markdown",
   "id": "15bfdbab",
   "metadata": {},
   "source": [
    "**Вывод:**\n",
    "\n",
    "При анализе признаков, недоступных в тестовой выборке, были выявлены следующие параметры. Эти признаки можно разделить на две основные категории: `output` и `calculation`.\n",
    "\n",
    "**Признаки типа `output`:**  \n",
    "Эти признаки характеризуют результаты процесса обогащения на различных стадиях. А именно показывают концентрации различных веществ (золота, серебра, свинца и т.д.) в различных продуктах и хвостах на выходе из различных этапов процесса (грубая флотация, первичная очистка, вторичная очистка, финальный продукт).\n",
    "\n",
    "**Признаки типа `calculation`:**  \n",
    "Эти признаки представляют собой расчетные характеристики, которые могут использоваться для оценки эффективности процесса. А имеено показывают отношения концентраций различных веществ (например, сульфатов к золоту) в разных частях процесса, что помогает оценить эффективность и качество обогащения.\n",
    "\n",
    "В реальных условиях технологического процесса данные могут поступать и обновляться в реальном времени. Это приводит к различиям между историческими данными, используемыми для обучения моделей, и актуальными данными, которые могут использоваться для онлайн-метрик. В такой ситуации некоторые признаки могут быть недоступны в реальном времени для тестирования, но доступны в исторических данных для обучения моделей."
   ]
  },
  {
   "cell_type": "markdown",
   "id": "53537669",
   "metadata": {},
   "source": [
    "### Предобработка данных"
   ]
  },
  {
   "cell_type": "markdown",
   "id": "905dbefd",
   "metadata": {},
   "source": [
    "#### Заполнение пропусков\n",
    "\n",
    "В каждом датасете присутствуют пропущенные значения:\n",
    "\n",
    "Количество пропусков в `train`: 3050  \n",
    "Количество пропусков в `test`: 375  \n",
    "Количество пропусков в `full`: 4481  \n",
    "\n",
    "По условию данные индексируются датой и временем получения информации (признак date). Соседние по времени параметры часто похожи.\n",
    "\n",
    "``Метод bfill``\n",
    "\n",
    "Для каждой ячейки с пропущенным значением будет использовано значение из следующей (нижней) строки в том же столбце. Это позволяет заполнять пропущенные значения на основе ближайших доступных данных, что может быть полезным в случае временных рядов или данных, где близкие во времени значения имеют схожие характеристики.\n",
    "\n",
    "Применение этого метода к тренировочным, тестовым и полным данным позволяет убедиться, что в каждом из них пропуски заполнены соответствующим образом, что важно для последующего анализа и построения моделей."
   ]
  },
  {
   "cell_type": "code",
   "execution_count": 11,
   "id": "c298a972",
   "metadata": {},
   "outputs": [],
   "source": [
    "def fill_missing_values(df):\n",
    "    \"\"\"\n",
    "    Заполняет пропущенные значения в DataFrame методом backfill (bfill).\n",
    "    \n",
    "    Для всех признаков пропуски заполняются значениями из следующих строк.\n",
    "    \n",
    "    :param df: DataFrame для обработки\n",
    "    :return: DataFrame с заполненными пропущенными значениями\n",
    "    \"\"\"\n",
    "    # Заполнение пропусков методом backfill (bfill)\n",
    "    df.fillna(method='bfill', inplace=True)\n",
    "    return df"
   ]
  },
  {
   "cell_type": "code",
   "execution_count": 12,
   "id": "3060f83d",
   "metadata": {},
   "outputs": [
    {
     "name": "stdout",
     "output_type": "stream",
     "text": [
      "Количество пропусков в обучающем наборе данных после заполнения: 0\n",
      "Количество пропусков в тестовом наборе данных после заполнения: 0\n",
      "Количество пропусков в полном наборе данных после заполнения: 0\n"
     ]
    }
   ],
   "source": [
    "# Применение функции к каждому набору данных\n",
    "fill_missing_values(train_data)\n",
    "fill_missing_values(test_data)\n",
    "fill_missing_values(full_data)\n",
    "\n",
    "# Проверка на пропуски\n",
    "print(f'Количество пропусков в обучающем наборе данных после заполнения: {train_data.isnull().sum().sum()}')\n",
    "print(f'Количество пропусков в тестовом наборе данных после заполнения: {test_data.isnull().sum().sum()}')\n",
    "print(f'Количество пропусков в полном наборе данных после заполнения: {full_data.isnull().sum().sum()}')"
   ]
  },
  {
   "cell_type": "markdown",
   "id": "e2bfba0a",
   "metadata": {},
   "source": [
    "**Вывод:**\n",
    "\n",
    "От пропусков избавились, дубликатов в данных нет, проверку делали на этапе 1.1"
   ]
  },
  {
   "cell_type": "markdown",
   "id": "9353be10",
   "metadata": {},
   "source": [
    "#### Добавим целевые признаки из full_data в test_data\n",
    "\n",
    "Добавление целевых признаков из full_data в test_data может быть полезным для оценки модели, поскольку в test_data отсутствуют целевые признаки. Это позволит нам проводить оценку модели на тестовых данных."
   ]
  },
  {
   "cell_type": "code",
   "execution_count": 13,
   "id": "2abc7205",
   "metadata": {},
   "outputs": [
    {
     "name": "stdout",
     "output_type": "stream",
     "text": [
      "   final.output.recovery  rougher.output.recovery\n",
      "0              70.281454                89.514960\n",
      "1              65.523246                89.858126\n",
      "2              74.817644                91.816623\n",
      "3              63.082720                88.478959\n",
      "4              74.463380                89.230316\n"
     ]
    }
   ],
   "source": [
    "# Добавление целевых признаков из full_data в test_data\n",
    "test_data = test_data.merge(full_data[['final.output.recovery', 'rougher.output.recovery', 'date']], on='date', how='left')\n",
    "\n",
    "# Проверка наличия целевых признаков в тестовом наборе данных\n",
    "print(test_data[['final.output.recovery', 'rougher.output.recovery']].head())"
   ]
  },
  {
   "cell_type": "markdown",
   "id": "bfe16a71",
   "metadata": {},
   "source": [
    "**Вывод:**\n",
    "\n",
    "В test добавили целевые признаки из full, используя дату как ключ при соединении."
   ]
  },
  {
   "cell_type": "markdown",
   "id": "205e752b",
   "metadata": {},
   "source": [
    "## Анализ данных"
   ]
  },
  {
   "cell_type": "markdown",
   "id": "36e0603f",
   "metadata": {},
   "source": [
    "### Посмотрим, как меняется концентрация металлов (Au, Ag, Pb) на различных этапах: в сырье, в черновом концентрате, в концентрате после первой очистки и в финальном концентрате. Также посмотрим особенности распределений"
   ]
  },
  {
   "cell_type": "code",
   "execution_count": 14,
   "id": "aafd6152",
   "metadata": {},
   "outputs": [],
   "source": [
    "# Выбираем столбцы с концентрацией каждого металла на разных этапах\n",
    "concentration_au = full_data[['rougher.input.feed_au',\n",
    "                              'rougher.output.concentrate_au',\n",
    "                              'primary_cleaner.output.concentrate_au',\n",
    "                              'final.output.concentrate_au']]\n",
    "\n",
    "concentration_ag = full_data[['rougher.input.feed_ag',\n",
    "                              'rougher.output.concentrate_ag',\n",
    "                              'primary_cleaner.output.concentrate_ag',\n",
    "                              'final.output.concentrate_ag']]\n",
    "\n",
    "concentration_pb = full_data[['rougher.input.feed_pb',\n",
    "                              'rougher.output.concentrate_pb',\n",
    "                              'primary_cleaner.output.concentrate_pb',\n",
    "                              'final.output.concentrate_pb']]"
   ]
  },
  {
   "cell_type": "code",
   "execution_count": 15,
   "id": "1a324c41",
   "metadata": {},
   "outputs": [],
   "source": [
    "# Создаем функцию для построения гистограмм с разными цветами для каждого этапа\n",
    "def plot_concentration_distribution(data, element):\n",
    "    plt.figure(figsize=(14, 8))\n",
    "    plt.title(f'Распределение концентрации {element} на разных этапах обработки', fontsize=16)\n",
    "    colors = ['blue', 'orange', 'green', 'red']\n",
    "    \n",
    "    for i, column in enumerate(data.columns):\n",
    "        stage = ''\n",
    "        if i == 0:\n",
    "            stage = 'Сырье'\n",
    "        elif i == 1:\n",
    "            stage = 'Черновой концентрат'\n",
    "        elif i == 2:\n",
    "            stage = 'Концентрат после первой очистки'\n",
    "        elif i == 3:\n",
    "            stage = 'Финальный концентрат'\n",
    "        sns.histplot(data[column], label=stage, bins=100, kde=True, color=colors[i], fill=True, alpha=0.2)\n",
    "    \n",
    "    plt.xlabel(f'Концентрация {element}', fontsize=14)\n",
    "    plt.ylabel('Плотность', fontsize=14)\n",
    "    plt.legend(title='Этапы обработки', loc='upper left', fontsize=12)\n",
    "    plt.grid(True, linestyle='--', alpha=0.6)\n",
    "    plt.tight_layout()\n",
    "    plt.show()"
   ]
  },
  {
   "cell_type": "code",
   "execution_count": 16,
   "id": "39772a72",
   "metadata": {},
   "outputs": [
    {
     "data": {
      "image/png": "[encoded data removed]",
      "text/plain": [
       "<Figure size 1008x576 with 1 Axes>"
      ]
     },
     "metadata": {
      "needs_background": "light"
     },
     "output_type": "display_data"
    },
    {
     "data": {
      "image/png": "[encoded data removed]",
      "text/plain": [
       "<Figure size 1008x576 with 1 Axes>"
      ]
     },
     "metadata": {
      "needs_background": "light"
     },
     "output_type": "display_data"
    },
    {
     "data": {
      "image/png": "[encoded data removed]",
      "text/plain": [
       "<Figure size 1008x576 with 1 Axes>"
      ]
     },
     "metadata": {
      "needs_background": "light"
     },
     "output_type": "display_data"
    }
   ],
   "source": [
    "# Строим гистограммы для каждого металла с разными цветами\n",
    "plot_concentration_distribution(concentration_au, 'золота (Au)')\n",
    "plot_concentration_distribution(concentration_ag, 'серебра (Ag)')\n",
    "plot_concentration_distribution(concentration_pb, 'свинца (Pb)')"
   ]
  },
  {
   "cell_type": "code",
   "execution_count": 17,
   "id": "24b4ef7e",
   "metadata": {},
   "outputs": [],
   "source": [
    "# Создаем функцию для построения линейного графика\n",
    "def plot_mean_concentration_line(au_data, ag_data, pb_data, stages):\n",
    "    # Вычисляем средние значения\n",
    "    au_mean = au_data.mean(axis=0)\n",
    "    ag_mean = ag_data.mean(axis=0)\n",
    "    pb_mean = pb_data.mean(axis=0)\n",
    "    \n",
    "    # Создаем график\n",
    "    plt.figure(figsize=(12, 8))\n",
    "    \n",
    "    plt.plot(stages, ag_mean, marker='o', label='Серебро', color='blue')\n",
    "    plt.plot(stages, pb_mean, marker='o', label='Свинец', color='orange')\n",
    "    plt.plot(stages, au_mean, marker='o', label='Золото', color='green')\n",
    "    \n",
    "    plt.title('Изменение концентрации металлов на различных этапах обработки')\n",
    "    plt.xlabel('Этапы обработки')\n",
    "    plt.ylabel('Средняя концентрация')\n",
    "    plt.legend()\n",
    "    plt.grid(True)\n",
    "    plt.xticks(rotation=45)\n",
    "    plt.tight_layout()\n",
    "    \n",
    "    plt.show()\n",
    "\n",
    "# Этапы обработки\n",
    "stages = ['Сырье', 'Черновой концентрат', 'Концентрат после первой очистки', 'Финальный концентрат']"
   ]
  },
  {
   "cell_type": "code",
   "execution_count": 18,
   "id": "e94bd0f3",
   "metadata": {},
   "outputs": [
    {
     "data": {
      "image/png": "[encoded data removed]",
      "text/plain": [
       "<Figure size 864x576 with 1 Axes>"
      ]
     },
     "metadata": {
      "needs_background": "light"
     },
     "output_type": "display_data"
    }
   ],
   "source": [
    "# Построение графика\n",
    "plot_mean_concentration_line(concentration_au, concentration_ag, concentration_pb, stages)"
   ]
  },
  {
   "cell_type": "markdown",
   "id": "beef7dcc",
   "metadata": {},
   "source": [
    "**Вывод:**\n",
    "\n",
    "1. **Золото (Au)**:\n",
    "    - Концентрация золота значительно увеличивается на каждом этапе обработки, что свидетельствует о высокой эффективности процесса обогащения.\n",
    "    - На каждом последующем этапе распределение становится более узким и сосредоточенным в более высоких значениях концентрации золота, что подтверждает успешное удаление примесей и повышение содержания золота в конечном продукте.\n",
    "\n",
    "2. **Серебро (Ag)**:\n",
    "    - На начальных этапах обработки концентрация серебра увеличивается, но на финальном этапе наблюдается значительное снижение.\n",
    "    - Распределение концентрации серебра показывает, что процесс обогащения не приводит к значительному увеличению содержания серебра в конечном продукте, и даже приводит к его снижению на финальном этапе.\n",
    "    - В отличие от золота, серебро не концентрируется так сильно в процессе обработки, и его содержание в финальном продукте оказывается ниже, чем на промежуточных этапах.\n",
    "\n",
    "3. **Свинец (Pb)**:\n",
    "   - В финальном концентрате распределение свинца остается практически таким же, как и на этапе концентрата после первой очистки, что указывает на то, что процесс финальной очистки не значительно изменяет концентрацию свинца.\n",
    "   - Основной пик концентрации свинца также находится около 10 единиц.\n",
    "   \n",
    "Также обнаружено, что большинство аномалий находятся на этапе черновой очистки, где наблюдается значительное количество нулевых или близких к нулю значений. В то время как на этапе подачи сырья аномалии практически отсутствуют, и на финальном этапе концентрации аномалий меньше, чем на этапе черновой очистки. Исходя из этого, было решено удалить эти аномальные значения. Это важный шаг, поскольку такие аномалии могут оказать влияние на конечные расчетные характеристики, и их удаление способствует более точным результатам анализа.\n",
    "\n",
    "**Линейный график:**\n",
    "   - Процесс обогащения золота эффективен и приводит к значительному увеличению концентрации золота на каждом этапе обработки.\n",
    "   - Концентрация серебра уменьшается на каждом этапе обработки, что может указывать на потерю серебра в процессе обогащения.\n",
    "   - Концентрация свинца изменяется незначительно на каждом этапе, показывая некоторое увеличение на промежуточных этапах и незначительное уменьшение в финальном концентрате."
   ]
  },
  {
   "cell_type": "markdown",
   "id": "1c408ac3",
   "metadata": {},
   "source": [
    "### Удаляем аномалии из тренировочной выборки"
   ]
  },
  {
   "cell_type": "code",
   "execution_count": 19,
   "id": "451c3cef",
   "metadata": {},
   "outputs": [],
   "source": [
    "# Создаем список столбцов для проверки\n",
    "columns_to_check = [\n",
    "    'rougher.input.feed_ag', 'rougher.input.feed_pb', 'rougher.input.feed_sol', 'rougher.input.feed_au',\n",
    "    'rougher.output.concentrate_ag', 'rougher.output.concentrate_pb', 'rougher.output.concentrate_sol', 'rougher.output.concentrate_au',\n",
    "    'primary_cleaner.output.concentrate_ag', 'primary_cleaner.output.concentrate_pb', 'primary_cleaner.output.concentrate_sol', 'primary_cleaner.output.concentrate_au',\n",
    "    'final.output.concentrate_ag', 'final.output.concentrate_pb', 'final.output.concentrate_sol', 'final.output.concentrate_au'\n",
    "]\n",
    "\n",
    "# Функция для удаления аномалий из тренировочной выборки\n",
    "def remove_anomalies(df, columns):\n",
    "    existing_columns = [col for col in columns if col in df.columns]\n",
    "    if existing_columns:\n",
    "        df = df[(df[existing_columns] > 1).all(axis=1)]\n",
    "    return df"
   ]
  },
  {
   "cell_type": "code",
   "execution_count": 20,
   "id": "1ffe23e8",
   "metadata": {},
   "outputs": [
    {
     "name": "stdout",
     "output_type": "stream",
     "text": [
      "Размер тренировочной выборки после удаления аномалий: (13659, 87)\n",
      "Размер полной выборки после удаления аномалий: (18433, 87)\n"
     ]
    }
   ],
   "source": [
    "# Удаляем аномалии из тренировочной и полной выборки\n",
    "train_data = remove_anomalies(train_data, columns_to_check)\n",
    "full_data = remove_anomalies(full_data, columns_to_check)\n",
    "\n",
    "# Проверяем размер тренировочной и полной выборки после удаления аномалий\n",
    "print(\"Размер тренировочной выборки после удаления аномалий:\", train_data.shape)\n",
    "print(\"Размер полной выборки после удаления аномалий:\", full_data.shape)"
   ]
  },
  {
   "cell_type": "markdown",
   "id": "f0754ed8",
   "metadata": {},
   "source": [
    "### Сравним распределения размеров гранул исходного сырья на обучающей и тестовой выборках. Если распределения сильно отличаются друг от друга, оценка модели будет неправильной.\n",
    "\n",
    "Параметр stat в функции sns.histplot() библиотеки Seaborn позволяет управлять тем, как значения данных интерпретируются при построении гистограммы. Одним из допустимых значений этого параметра является stat='density'.\n",
    "\n",
    "Когда stat='density', гистограмма строится в нормализованном виде."
   ]
  },
  {
   "cell_type": "code",
   "execution_count": 21,
   "id": "4b38616d",
   "metadata": {},
   "outputs": [],
   "source": [
    "# Функция для построения гистограммы распределения размеров гранул исходного сырья\n",
    "def plot_feed_size_distribution(train_df, test_df):\n",
    "    plt.figure(figsize=(12, 6))\n",
    "    sns.histplot(train_df['rougher.input.feed_size'], bins=50, kde=True, color='blue', label='Обучающая выборка', stat='density')\n",
    "    sns.histplot(test_df['rougher.input.feed_size'], bins=50, kde=True, color='orange', label='Тестовая выборка', stat='density')\n",
    "    \n",
    "    plt.xlim(0, 200)\n",
    "    plt.title('Распределение размеров гранул исходного сырья')\n",
    "    plt.xlabel('Размер гранул исходного сырья')\n",
    "    plt.ylabel('Плотность')\n",
    "    plt.legend()\n",
    "    plt.grid(True)\n",
    "    plt.show()"
   ]
  },
  {
   "cell_type": "code",
   "execution_count": 22,
   "id": "87d413e4",
   "metadata": {
    "scrolled": false
   },
   "outputs": [
    {
     "data": {
      "image/png": "[encoded data removed]",
      "text/plain": [
       "<Figure size 864x432 with 1 Axes>"
      ]
     },
     "metadata": {
      "needs_background": "light"
     },
     "output_type": "display_data"
    }
   ],
   "source": [
    "# Построение гистограмм\n",
    "plot_feed_size_distribution(train_data, test_data)"
   ]
  },
  {
   "cell_type": "markdown",
   "id": "5e7bdfe3",
   "metadata": {},
   "source": [
    "**Вывод:**\n",
    "\n",
    "Распределения размеров гранул исходного сырья в обучающей и тестовой выборках достаточно схожи. Это указывает на то, что модель, обученная на данных обучающей выборки, должна быть адекватно оценена на тестовой выборке."
   ]
  },
  {
   "cell_type": "markdown",
   "id": "db5ad2b3",
   "metadata": {},
   "source": [
    "### Проверка гипотез\n",
    "\n",
    "Сформулируем гипотезы:\n",
    "\n",
    "``Нулевая гипотеза (H0)``: Средние значения размеров гранул исходного сырья в обучающей и тестовой выборках равны.  \n",
    "``Альтернативная гипотеза (H1)``: Средние значения размеров гранул исходного сырья в обучающей и тестовой выборках различаются.  "
   ]
  },
  {
   "cell_type": "code",
   "execution_count": 23,
   "id": "909a284f",
   "metadata": {},
   "outputs": [
    {
     "name": "stdout",
     "output_type": "stream",
     "text": [
      "t-статистика: -1.37\n",
      "p-значение: 0.17036\n",
      "Не удается отвергнуть нулевую гипотезу (H0). Средние значения размеров гранул исходного сырья в обучающей и тестовой выборках схожи.\n"
     ]
    }
   ],
   "source": [
    "# Извлечение данных о размерах гранул исходного сырья\n",
    "train_feed_size = train_data['rougher.input.feed_size']\n",
    "test_feed_size = test_data['rougher.input.feed_size']\n",
    "\n",
    "# Применение t-теста для независимых выборок\n",
    "t_stat, p_value = st.ttest_ind(train_feed_size, test_feed_size, equal_var=False)\n",
    "\n",
    "# Вывод результатов\n",
    "print(f\"t-статистика: {t_stat:.2f}\")\n",
    "print(f\"p-значение: {p_value:.5f}\")\n",
    "\n",
    "# Вывод решения о гипотезах\n",
    "alpha = 0.05\n",
    "if p_value < alpha:\n",
    "    print(\"Отвергаем нулевую гипотезу (H0). Средние значения размеров гранул исходного сырья в обучающей и тестовой выборках различаются.\")\n",
    "else:\n",
    "    print(\"Не удается отвергнуть нулевую гипотезу (H0). Средние значения размеров гранул исходного сырья в обучающей и тестовой выборках схожи.\")"
   ]
  },
  {
   "cell_type": "markdown",
   "id": "8d365396",
   "metadata": {},
   "source": [
    "**Вывод:**\n",
    "\n",
    "В результате анализа распределений размеров гранул исходного сырья на обучающей и тестовой выборках было проведено сравнение с использованием нормированных гистограмм и статистического теста t-тест. Полученные результаты говорят о том, что средние значения размеров гранул схожи между обучающей и тестовой выборками. Следовательно, отсутствуют значительные отличия в распределениях размеров гранул исходного сырья между этими двумя выборками.\n",
    "\n",
    "Это важное наблюдение, так как различия в распределениях могли бы повлиять на корректность оценки модели. Теперь можно продолжать анализ и обучение модели с уверенностью в схожести данных в этом аспекте."
   ]
  },
  {
   "cell_type": "markdown",
   "id": "a8a192ca",
   "metadata": {},
   "source": [
    "### Исследуем суммарную концентрацию металлов на разных стадиях: в сырье, в черновом концентрате, в концентрате после первой очистки и в финальном концентрате."
   ]
  },
  {
   "cell_type": "code",
   "execution_count": 24,
   "id": "95459646",
   "metadata": {},
   "outputs": [],
   "source": [
    "full_data['feed_sum'] = full_data[['rougher.input.feed_au', 'rougher.input.feed_ag', 'rougher.input.feed_pb']].sum(axis=1)\n",
    "full_data['rougher_output_sum'] = full_data[['rougher.output.concentrate_au', 'rougher.output.concentrate_ag', 'rougher.output.concentrate_pb']].sum(axis=1)\n",
    "full_data['primary_cleaner_output_sum'] = full_data[['primary_cleaner.output.concentrate_au', 'primary_cleaner.output.concentrate_ag', 'primary_cleaner.output.concentrate_pb']].sum(axis=1)\n",
    "full_data['final_output_sum'] = full_data[['final.output.concentrate_au', 'final.output.concentrate_ag', 'final.output.concentrate_pb']].sum(axis=1)"
   ]
  },
  {
   "cell_type": "code",
   "execution_count": 25,
   "id": "3ba87bf9",
   "metadata": {},
   "outputs": [],
   "source": [
    "# Функция для построения гистограмм распределения суммарной концентрации металлов на разных стадиях\n",
    "def plot_concentration_sums(df):\n",
    "    plt.figure(figsize=(10, 6))\n",
    "    \n",
    "    stages = ['feed_sum', 'rougher_output_sum', 'primary_cleaner_output_sum', 'final_output_sum']\n",
    "    labels = ['Сырье', 'Черновой концентрат', 'Концентрат после первой очистки', 'Финальный концентрат']\n",
    "    colors = ['blue', 'orange', 'green', 'red']\n",
    "    \n",
    "    for stage, label, color in zip(stages, labels, colors):\n",
    "        sns.histplot(df[stage], kde=True, label=label, color=color, bins=50, alpha=0.6)\n",
    "    \n",
    "    plt.title('Распределение суммарной концентрации металлов на разных стадиях')\n",
    "    plt.xlabel('Суммарная концентрация металлов')\n",
    "    plt.ylabel('Плотность')\n",
    "    plt.legend(title='Стадии обработки')\n",
    "    plt.grid(True, linestyle='--', alpha=0.6)\n",
    "    plt.tight_layout()\n",
    "    plt.show()"
   ]
  },
  {
   "cell_type": "code",
   "execution_count": 26,
   "id": "9ebc3135",
   "metadata": {},
   "outputs": [
    {
     "data": {
      "image/png": "[encoded data removed]",
      "text/plain": [
       "<Figure size 720x432 with 1 Axes>"
      ]
     },
     "metadata": {
      "needs_background": "light"
     },
     "output_type": "display_data"
    }
   ],
   "source": [
    "# Построение гистограмм\n",
    "plot_concentration_sums(full_data)"
   ]
  },
  {
   "cell_type": "markdown",
   "id": "36aa29d2",
   "metadata": {},
   "source": [
    "**Вывод:**\n",
    "\n",
    "- Процесс обогащения руды показывает постепенное и значительное увеличение концентрации металлов на каждом из этапов.\n",
    "- Концентрация металлов (Au, Ag, Pb) эффективно повышается от исходного сырья до финального продукта.\n",
    "- Распределение данных на каждом этапе выглядит адекватно, без явных аномалий или выбросов, что свидетельствует о стабильности и надежности процесса обогащения."
   ]
  },
  {
   "cell_type": "markdown",
   "id": "796772f8",
   "metadata": {},
   "source": [
    "## Построим модель\n",
    "### Напишим функцию для вычисления итоговой sMAPE\n",
    "\n",
    "sMAPE (симметричное среднее абсолютное процентное отклонение) используется для оценки точности моделей прогнозирования, особенно когда значения предсказанных и фактических величин могут быть равны нулю или близки к нему. \n",
    "\n",
    "sMAPE вычисляется как среднее абсолютных процентных ошибок для каждой пары предсказанных и фактических значений, что позволяет учитывать их абсолютные значения. Формула для расчета sMAPE выглядит следующим образом:\n",
    "\n",
    "$$\n",
    "\\text{sMAPE} = \\frac{1}{N} \\sum_{i=1}^{N} \\frac{| y_i - \\hat{y}_i |}{(| y_i | + | \\hat{y}_i |) / 2} \\times 100\\% \n",
    "$$\n",
    "Где:\n",
    "\n",
    "- $ y_i $ — истинное значение целевого признака для объекта с порядковым номером $ i $ в выборке.\n",
    "- $ \\hat{y}_i $ — предсказанное значение для объекта с порядковым номером $ i $.\n",
    "- $ N $ — количество объектов в выборке.\n",
    "\n",
    "Итоговая метрика складывается из двух величин:\n",
    "\n",
    "$$\n",
    "\\text{Итоговое sMAPE} = 25\\% \\times \\text{sMAPE(rougher)} + 75\\% \\times \\text{sMAPE(final)}\n",
    "$$"
   ]
  },
  {
   "cell_type": "code",
   "execution_count": 27,
   "id": "ee14eee9",
   "metadata": {},
   "outputs": [],
   "source": [
    "def smape(y_true, y_pred):\n",
    "    \"\"\"\n",
    "    Вычисляет симметричное среднее абсолютное процентное отклонение (sMAPE).\n",
    "\n",
    "    :param y_true: истинные значения целевого признака\n",
    "    :param y_pred: предсказанные значения\n",
    "    :return: значение метрики sMAPE\n",
    "    \"\"\"\n",
    "    numerator = np.abs(y_true - y_pred)\n",
    "    denominator = (np.abs(y_true) + np.abs(y_pred)) / 2\n",
    "    smape_value = np.mean(numerator / denominator) * 100\n",
    "    return smape_value"
   ]
  },
  {
   "cell_type": "code",
   "execution_count": 28,
   "id": "2464e27a",
   "metadata": {},
   "outputs": [],
   "source": [
    "def final_smape(smape_rougher, smape_final):\n",
    "    return (0.25 * smape_rougher) + (0.75 * smape_final)"
   ]
  },
  {
   "cell_type": "markdown",
   "id": "b503252f",
   "metadata": {},
   "source": [
    "###  Обучим разные модели и оцените их качество кросс-валидацией"
   ]
  },
  {
   "cell_type": "code",
   "execution_count": 29,
   "id": "edd59215",
   "metadata": {},
   "outputs": [],
   "source": [
    "# Удаляем столбец 'date' из данных\n",
    "train_data = train_data.drop('date', axis=1)\n",
    "test_data = test_data.drop('date', axis=1)"
   ]
  },
  {
   "cell_type": "markdown",
   "id": "51dfffb9",
   "metadata": {},
   "source": [
    "Даты не нужны для обучения модели, потому что они не помогают предсказать целевые переменные."
   ]
  },
  {
   "cell_type": "code",
   "execution_count": 30,
   "id": "0353f788",
   "metadata": {},
   "outputs": [],
   "source": [
    "# Создаем список столбцов, которые необходимо исключить на основе определенных критериев\n",
    "patterns_to_exclude = ['output.recovery', 'output.concentrate', 'output.tail', 'calculation', 'ratio']\n",
    "features_to_exclude = [col for col in train_data.columns if any(pattern in col for pattern in patterns_to_exclude)]"
   ]
  },
  {
   "cell_type": "markdown",
   "id": "d4fc377a",
   "metadata": {},
   "source": [
    "Столбцы с ``output.recovery`` содержат целевые переменные, и их не следует использовать в качестве признаков для обучения модели.\n",
    "\n",
    "Столбцы с ``output.concentrate`` или ``output.tail``представляют выходные данные на различных этапах обработки и также не должны быть использованы в качестве признаков.\n",
    "\n",
    "Столбцы с ``calculation`` и ``ratio`` содержат рассчитанные значения, которые могут быть получены из других признаков и поэтому могут создавать утечки данных при обучении модели."
   ]
  },
  {
   "cell_type": "code",
   "execution_count": 31,
   "id": "f5d01213",
   "metadata": {},
   "outputs": [
    {
     "name": "stdout",
     "output_type": "stream",
     "text": [
      "Грубая очистка:\n",
      "Признаки: (13659, 52)\n",
      "Целевая переменная (грубая очистка): (13659,)\n",
      "Финальный продукт:\n",
      "Признаки: (13659, 52)\n",
      "Целевая переменная (финальный продукт): (13659,)\n"
     ]
    }
   ],
   "source": [
    "# Выделяем признаки и целевые переменные для грубой очистки и финального продукта\n",
    "features_train_rougher = train_data.drop(features_to_exclude, axis=1).values\n",
    "target_train_rougher = train_data['rougher.output.recovery'].values\n",
    "\n",
    "features_train_final = train_data.drop(features_to_exclude, axis=1).values\n",
    "target_train_final = train_data['final.output.recovery'].values\n",
    "\n",
    "# Получение признаков и целевых переменных для тестовой выборки грубой очистки и финального продукта (для проверки на финальном этапе)\n",
    "features_test = np.array(test_data.drop(['rougher.output.recovery', 'final.output.recovery'], axis=1))\n",
    "target_test_rougher = np.array(test_data['rougher.output.recovery'])\n",
    "target_test_final = np.array(test_data['final.output.recovery'])\n",
    "\n",
    "# Выводим размерности массивов для грубой очистки\n",
    "print(\"Грубая очистка:\")\n",
    "print(\"Признаки:\", features_train_rougher.shape)\n",
    "print(\"Целевая переменная (грубая очистка):\", target_train_rougher.shape)\n",
    "\n",
    "# Выводим размерности массивов для финального продукта\n",
    "print(\"Финальный продукт:\")\n",
    "print(\"Признаки:\", features_train_final.shape)\n",
    "print(\"Целевая переменная (финальный продукт):\", target_train_final.shape)"
   ]
  },
  {
   "cell_type": "markdown",
   "id": "1658ed3d",
   "metadata": {},
   "source": [
    "Это функция из библиотеки scikit-learn (sklearn), которая позволяет создавать пользовательские оценщики (scorers). Оценщики используются для измерения производительности моделей, и они могут быть стандартными метриками, такими как среднеквадратичная ошибка (MSE), средняя абсолютная ошибка (MAE), или пользовательские метрики, такие как sMAPE (симметричное среднее абсолютное процентное отклонение).\n",
    "\n",
    "greater_is_better = False: Этот аргумент указывает, что меньшие значения sMAPE лучше."
   ]
  },
  {
   "cell_type": "code",
   "execution_count": 32,
   "id": "ec48ef07",
   "metadata": {},
   "outputs": [],
   "source": [
    "smape_scorer = make_scorer(smape, greater_is_better=False)"
   ]
  },
  {
   "cell_type": "code",
   "execution_count": 33,
   "id": "7e04e5c6",
   "metadata": {},
   "outputs": [],
   "source": [
    "# Определяем модели и их параметры\n",
    "models = {\n",
    "    'Decision Tree': (DecisionTreeRegressor(random_state=RANDOM_STATE), {\n",
    "        'model__max_depth': [10, 25, 50, 100],\n",
    "        'model__min_samples_split': [2, 5, 10, 15],\n",
    "        'model__min_samples_leaf': [1, 2, 4, 6]\n",
    "    }),\n",
    "    'Random Forest': (RandomForestRegressor(random_state=RANDOM_STATE), {\n",
    "        'model__n_estimators': [10, 50],  \n",
    "        'model__max_depth': [5, 10],\n",
    "        'model__min_samples_split': [2, 5, 10],\n",
    "        'model__min_samples_leaf': [1, 2, 4]\n",
    "    }),\n",
    "    'Linear Regression': (LinearRegression(), {\n",
    "        'model__fit_intercept': [True, False],\n",
    "    }),\n",
    "    'Lasso': (Lasso(random_state=RANDOM_STATE, max_iter=10000), {\n",
    "        'model__alpha': [0.001, 0.01, 0.1, 1.0]\n",
    "    })\n",
    "}"
   ]
  },
  {
   "cell_type": "code",
   "execution_count": 34,
   "id": "801c1247",
   "metadata": {},
   "outputs": [],
   "source": [
    "# Функция для обучения и оценки моделей\n",
    "def train_and_evaluate(models, X, y):\n",
    "    results = {}\n",
    "    for name, (model, params) in models.items():\n",
    "        pipeline = Pipeline([\n",
    "            ('scaler', StandardScaler()),\n",
    "            ('model', model)\n",
    "        ])\n",
    "        grid_search = GridSearchCV(pipeline, param_grid=params, scoring=smape_scorer, cv=5)\n",
    "        grid_search.fit(X, y)\n",
    "        best_model = grid_search.best_estimator_\n",
    "        best_score = -grid_search.best_score_  # Инвертируем значение метрики\n",
    "        results[name] = {\n",
    "            'best_model': best_model,\n",
    "            'best_score': best_score,  # Сохраняем положительное значение sMAPE\n",
    "            'best_params': grid_search.best_params_\n",
    "        }\n",
    "        print('-'*50)\n",
    "        print(f\"{name} - Best sMAPE score: {best_score}\")\n",
    "        print(f\"{name} - Best params: {grid_search.best_params_}\\n\")\n",
    "    return results"
   ]
  },
  {
   "cell_type": "code",
   "execution_count": 35,
   "id": "3959872c",
   "metadata": {
    "scrolled": false
   },
   "outputs": [
    {
     "name": "stdout",
     "output_type": "stream",
     "text": [
      "Грубая очистка:\n",
      "--------------------------------------------------\n",
      "Decision Tree - Best sMAPE score: 7.97607460561588\n",
      "Decision Tree - Best params: {'model__max_depth': 10, 'model__min_samples_leaf': 6, 'model__min_samples_split': 2}\n",
      "\n",
      "--------------------------------------------------\n",
      "Random Forest - Best sMAPE score: 6.352977945436034\n",
      "Random Forest - Best params: {'model__max_depth': 5, 'model__min_samples_leaf': 1, 'model__min_samples_split': 5, 'model__n_estimators': 50}\n",
      "\n",
      "--------------------------------------------------\n",
      "Linear Regression - Best sMAPE score: 6.983763825445644\n",
      "Linear Regression - Best params: {'model__fit_intercept': True}\n",
      "\n",
      "--------------------------------------------------\n",
      "Lasso - Best sMAPE score: 6.215731746077584\n",
      "Lasso - Best params: {'model__alpha': 1.0}\n",
      "\n"
     ]
    }
   ],
   "source": [
    "# Обучение и оценка моделей для грубой очистки\n",
    "print(\"Грубая очистка:\")\n",
    "results_rougher = train_and_evaluate(models, features_train_rougher, target_train_rougher)"
   ]
  },
  {
   "cell_type": "code",
   "execution_count": 36,
   "id": "56853f81",
   "metadata": {},
   "outputs": [
    {
     "name": "stdout",
     "output_type": "stream",
     "text": [
      "Финальный продукт:\n",
      "--------------------------------------------------\n",
      "Decision Tree - Best sMAPE score: 10.904332633619218\n",
      "Decision Tree - Best params: {'model__max_depth': 10, 'model__min_samples_leaf': 6, 'model__min_samples_split': 15}\n",
      "\n",
      "--------------------------------------------------\n",
      "Random Forest - Best sMAPE score: 8.944194292823784\n",
      "Random Forest - Best params: {'model__max_depth': 5, 'model__min_samples_leaf': 4, 'model__min_samples_split': 10, 'model__n_estimators': 50}\n",
      "\n",
      "--------------------------------------------------\n",
      "Linear Regression - Best sMAPE score: 9.294764204369823\n",
      "Linear Regression - Best params: {'model__fit_intercept': True}\n",
      "\n",
      "--------------------------------------------------\n",
      "Lasso - Best sMAPE score: 8.564919508513109\n",
      "Lasso - Best params: {'model__alpha': 1.0}\n",
      "\n"
     ]
    }
   ],
   "source": [
    "# Обучение и оценка моделей для финального продукта\n",
    "print(\"Финальный продукт:\")\n",
    "results_final = train_and_evaluate(models, features_train_final, target_train_final)"
   ]
  },
  {
   "cell_type": "code",
   "execution_count": 37,
   "id": "25d3601e",
   "metadata": {},
   "outputs": [
    {
     "name": "stdout",
     "output_type": "stream",
     "text": [
      "по модели Decision Tree итоговое sMAPE = 10.17\n",
      "по модели Random Forest итоговое sMAPE = 8.30\n",
      "по модели Linear Regression итоговое sMAPE = 8.72\n",
      "по модели Lasso итоговое sMAPE = 7.98\n",
      "--------------------------------------------------\n",
      "Лучшая модель: Lasso с итоговым sMAPE = 7.98\n"
     ]
    }
   ],
   "source": [
    "# Расчет финального sMAPE для каждой модели\n",
    "final_smape_scores = {}\n",
    "for model_name in results_rougher.keys():\n",
    "    smape_rougher = results_rougher[model_name]['best_score']\n",
    "    smape_final = results_final[model_name]['best_score']\n",
    "    final_smape_value = final_smape(smape_rougher, smape_final)\n",
    "    final_smape_scores[model_name] = final_smape_value\n",
    "    print(f'по модели {model_name} итоговое sMAPE = {final_smape_value:.2f}')\n",
    "\n",
    "# Выбор модели с наименьшим значением sMAPE\n",
    "best_model_name = min(final_smape_scores, key=final_smape_scores.get)\n",
    "print('-'*50)\n",
    "print(f'Лучшая модель: {best_model_name} с итоговым sMAPE = {final_smape_scores[best_model_name]:.2f}')\n",
    "\n",
    "# Получение лучших моделей из результатов\n",
    "best_model_rougher = results_rougher[best_model_name]['best_model']\n",
    "best_model_final = results_final[best_model_name]['best_model']"
   ]
  },
  {
   "cell_type": "markdown",
   "id": "92a4999f",
   "metadata": {},
   "source": [
    "**Вывод по лучшей модели:**\n",
    "\n",
    "- **Грубая очистка**: Модель Lasso с sMAPE 6.215 является лучшей на этом этапе. Параметр `alpha` в 1.0 обеспечивает оптимальную регуляризацию.  \n",
    "\n",
    "- **Финальный продукт**: Модель Lasso с sMAPE 8.56 также является лучшей на этом этапе. Это подтверждает эффективность Lasso для задач на различных этапах обработки данных.  \n",
    "\n",
    "- Финальный sMAPE модели Lasso: 7.98"
   ]
  },
  {
   "cell_type": "markdown",
   "id": "3cb44778",
   "metadata": {},
   "source": [
    "### Проверим модель на тестовой выборке"
   ]
  },
  {
   "cell_type": "code",
   "execution_count": 38,
   "id": "f27d21a5",
   "metadata": {},
   "outputs": [
    {
     "name": "stdout",
     "output_type": "stream",
     "text": [
      "Итоговое sMAPE модели Lasso на тестовой выборке: 7.406\n"
     ]
    }
   ],
   "source": [
    "# Предсказание целевых переменных на тестовой выборке\n",
    "pred_test_rougher = best_model_rougher.predict(features_test)\n",
    "pred_test_final = best_model_final.predict(features_test)\n",
    "\n",
    "# Вычисление sMAPE для тестовой выборки\n",
    "smape_rougher_test = smape(target_test_rougher, pred_test_rougher)\n",
    "smape_final_test = smape(target_test_final, pred_test_final)\n",
    "\n",
    "\n",
    "# Расчет и вывод финального sMAPE для тестовой выборки\n",
    "final_smape_test = final_smape(smape_rougher_test, smape_final_test)\n",
    "print(f'Итоговое sMAPE модели Lasso на тестовой выборке: {final_smape_test:.3f}')"
   ]
  },
  {
   "cell_type": "markdown",
   "id": "2d231f1c",
   "metadata": {},
   "source": [
    "### Проверим модель на адекватность"
   ]
  },
  {
   "cell_type": "code",
   "execution_count": 39,
   "id": "62e1d217",
   "metadata": {},
   "outputs": [
    {
     "name": "stdout",
     "output_type": "stream",
     "text": [
      "sMAPE для константной модели: 8.433008779825085\n"
     ]
    }
   ],
   "source": [
    "# Создаем константную модель, предсказывающую среднее значение тренировочной выборки для грубой очистки\n",
    "dummy_rougher = DummyRegressor(strategy='mean')\n",
    "dummy_rougher.fit(features_train_rougher, target_train_rougher)\n",
    "\n",
    "# Создаем константную модель, предсказывающую среднее значение тренировочной выборки для финального продукта\n",
    "dummy_final = DummyRegressor(strategy='mean')\n",
    "dummy_final.fit(features_train_final, target_train_final)\n",
    "\n",
    "# Предсказываем с константными моделями\n",
    "dummy_predictions_rougher = dummy_rougher.predict(features_test)\n",
    "dummy_predictions_final = dummy_final.predict(features_test)\n",
    "\n",
    "# Вычисляем sMAPE для константных моделей\n",
    "dummy_smape_rougher = smape(target_test_rougher, dummy_predictions_rougher)\n",
    "dummy_smape_final = smape(target_test_final, dummy_predictions_final)\n",
    "\n",
    "# Вычисляем final_sMAPE для константной модели\n",
    "dummy_final_smape_test = final_smape(dummy_smape_rougher, dummy_smape_final)\n",
    "\n",
    "print('sMAPE для константной модели:', dummy_final_smape_test)"
   ]
  },
  {
   "cell_type": "markdown",
   "id": "75fcfd9c",
   "metadata": {},
   "source": [
    "## Общий вывод\n",
    "\n",
    "В рамках данного проекта было выполнено исследование и разработка модели для оптимизации процессов обработки руды на предприятии. Главной задачей было предсказание коэффициента восстановления золота из золотосодержащей руды на двух этапах: грубой и финальной очистки. Для этого были проанализированы и предобработаны данные, построены и обучены модели машинного обучения, и затем проведена оценка качества моделей на тестовой выборке.\n",
    "\n",
    "Исходя из метрики симметричной средней абсолютной процентной ошибки (sMAPE), лучшей моделью для предсказания коэффициента восстановления золота оказалась модель LASSO с полученным sMAPE равным 7.40 на тестовой выборке. Это позволяет сделать вывод о том, что данная модель обладает наилучшей точностью в предсказании процесса обогащения золотосодержащей руды."
   ]
  },
  {
   "cell_type": "code",
   "execution_count": null,
   "id": "de4b4f10",
   "metadata": {},
   "outputs": [],
   "source": []
  }
 ],
 "metadata": {
  "ExecuteTimeLog": [
   {
    "duration": 1284,
    "start_time": "2024-06-18T07:04:20.984Z"
   },
   {
    "duration": 4,
    "start_time": "2024-06-18T07:13:01.105Z"
   },
   {
    "duration": 89,
    "start_time": "2024-06-18T07:13:03.738Z"
   },
   {
    "duration": 4,
    "start_time": "2024-06-18T07:13:06.154Z"
   },
   {
    "duration": 10,
    "start_time": "2024-06-18T07:13:07.763Z"
   },
   {
    "duration": 7,
    "start_time": "2024-06-18T07:13:18.624Z"
   },
   {
    "duration": 3,
    "start_time": "2024-06-18T07:13:21.852Z"
   },
   {
    "duration": 16,
    "start_time": "2024-06-18T07:13:24.502Z"
   },
   {
    "duration": 3,
    "start_time": "2024-06-18T07:13:55.049Z"
   },
   {
    "duration": 46,
    "start_time": "2024-06-18T07:13:57.932Z"
   },
   {
    "duration": 3,
    "start_time": "2024-06-18T07:14:44.193Z"
   },
   {
    "duration": 5,
    "start_time": "2024-06-18T07:14:45.969Z"
   },
   {
    "duration": 887,
    "start_time": "2024-06-18T07:14:49.166Z"
   },
   {
    "duration": 8,
    "start_time": "2024-06-18T07:17:11.908Z"
   },
   {
    "duration": 4,
    "start_time": "2024-06-18T07:17:15.919Z"
   },
   {
    "duration": 1055,
    "start_time": "2024-06-18T07:17:17.619Z"
   },
   {
    "duration": 8,
    "start_time": "2024-06-18T07:17:50.528Z"
   },
   {
    "duration": 4,
    "start_time": "2024-06-18T07:17:54.261Z"
   },
   {
    "duration": 11,
    "start_time": "2024-06-18T07:17:55.961Z"
   },
   {
    "duration": 4,
    "start_time": "2024-06-18T07:18:04.127Z"
   },
   {
    "duration": 156,
    "start_time": "2024-06-18T07:18:06.148Z"
   },
   {
    "duration": 4,
    "start_time": "2024-06-18T07:28:47.103Z"
   },
   {
    "duration": 155,
    "start_time": "2024-06-18T07:28:49.586Z"
   },
   {
    "duration": 24,
    "start_time": "2024-06-18T07:29:13.037Z"
   },
   {
    "duration": 25,
    "start_time": "2024-06-18T07:29:27.195Z"
   },
   {
    "duration": 124,
    "start_time": "2024-06-18T07:30:02.264Z"
   },
   {
    "duration": 48,
    "start_time": "2024-06-18T07:30:56.824Z"
   },
   {
    "duration": 4,
    "start_time": "2024-06-18T07:36:16.991Z"
   },
   {
    "duration": 349,
    "start_time": "2024-06-18T07:36:19.401Z"
   },
   {
    "duration": 256,
    "start_time": "2024-06-18T07:39:45.078Z"
   },
   {
    "duration": 17,
    "start_time": "2024-06-18T07:49:59.005Z"
   },
   {
    "duration": 7,
    "start_time": "2024-06-18T07:50:10.435Z"
   },
   {
    "duration": 7,
    "start_time": "2024-06-18T07:50:51.373Z"
   },
   {
    "duration": 7,
    "start_time": "2024-06-18T07:50:55.139Z"
   },
   {
    "duration": 8,
    "start_time": "2024-06-18T07:53:03.553Z"
   },
   {
    "duration": 65,
    "start_time": "2024-06-18T07:53:56.517Z"
   },
   {
    "duration": 7,
    "start_time": "2024-06-18T07:54:02.162Z"
   },
   {
    "duration": 59,
    "start_time": "2024-06-18T07:55:31.520Z"
   },
   {
    "duration": 80,
    "start_time": "2024-06-18T07:55:38.809Z"
   },
   {
    "duration": 9,
    "start_time": "2024-06-18T07:55:41.353Z"
   },
   {
    "duration": 9,
    "start_time": "2024-06-18T07:57:09.244Z"
   },
   {
    "duration": 8,
    "start_time": "2024-06-18T07:59:03.762Z"
   },
   {
    "duration": 8,
    "start_time": "2024-06-18T07:59:18.732Z"
   },
   {
    "duration": 8,
    "start_time": "2024-06-18T07:59:21.724Z"
   },
   {
    "duration": 7,
    "start_time": "2024-06-18T07:59:35.035Z"
   },
   {
    "duration": 7,
    "start_time": "2024-06-18T07:59:38.232Z"
   },
   {
    "duration": 9,
    "start_time": "2024-06-18T08:04:59.606Z"
   },
   {
    "duration": 8,
    "start_time": "2024-06-18T08:10:42.352Z"
   },
   {
    "duration": 10,
    "start_time": "2024-06-18T08:13:43.271Z"
   },
   {
    "duration": 8,
    "start_time": "2024-06-18T08:14:01.653Z"
   },
   {
    "duration": 35,
    "start_time": "2024-06-18T08:14:28.559Z"
   },
   {
    "duration": 43,
    "start_time": "2024-06-18T08:15:02.002Z"
   },
   {
    "duration": 74,
    "start_time": "2024-06-18T08:15:21.402Z"
   },
   {
    "duration": 67,
    "start_time": "2024-06-18T08:15:25.684Z"
   },
   {
    "duration": 35,
    "start_time": "2024-06-18T08:15:36.025Z"
   },
   {
    "duration": 46,
    "start_time": "2024-06-18T08:15:40.357Z"
   },
   {
    "duration": 4,
    "start_time": "2024-06-18T08:37:22.515Z"
   },
   {
    "duration": 28,
    "start_time": "2024-06-18T08:37:27.748Z"
   },
   {
    "duration": 13,
    "start_time": "2024-06-18T08:42:54.533Z"
   },
   {
    "duration": 34,
    "start_time": "2024-06-18T08:43:39.892Z"
   },
   {
    "duration": 16,
    "start_time": "2024-06-18T08:43:45.507Z"
   },
   {
    "duration": 6023,
    "start_time": "2024-06-18T08:48:27.225Z"
   },
   {
    "duration": 3635,
    "start_time": "2024-06-18T08:51:27.151Z"
   },
   {
    "duration": 6,
    "start_time": "2024-06-18T08:55:04.775Z"
   },
   {
    "duration": 1426,
    "start_time": "2024-06-18T08:55:29.304Z"
   },
   {
    "duration": 3,
    "start_time": "2024-06-18T08:55:30.732Z"
   },
   {
    "duration": 56,
    "start_time": "2024-06-18T08:55:30.736Z"
   },
   {
    "duration": 54,
    "start_time": "2024-06-18T08:55:30.794Z"
   },
   {
    "duration": 942,
    "start_time": "2024-06-18T08:55:30.850Z"
   },
   {
    "duration": 428,
    "start_time": "2024-06-18T08:55:31.793Z"
   },
   {
    "duration": 201,
    "start_time": "2024-06-18T08:55:32.223Z"
   },
   {
    "duration": 397,
    "start_time": "2024-06-18T08:55:32.426Z"
   },
   {
    "duration": 9,
    "start_time": "2024-06-18T08:55:32.824Z"
   },
   {
    "duration": 59,
    "start_time": "2024-06-18T08:55:32.836Z"
   },
   {
    "duration": 3,
    "start_time": "2024-06-18T08:55:32.896Z"
   },
   {
    "duration": 77,
    "start_time": "2024-06-18T08:55:32.900Z"
   },
   {
    "duration": 17,
    "start_time": "2024-06-18T08:55:32.978Z"
   },
   {
    "duration": 7,
    "start_time": "2024-06-18T08:55:32.997Z"
   },
   {
    "duration": 14,
    "start_time": "2024-06-18T08:55:33.005Z"
   },
   {
    "duration": 6504,
    "start_time": "2024-06-18T08:55:33.021Z"
   },
   {
    "duration": 6,
    "start_time": "2024-06-18T08:58:57.069Z"
   },
   {
    "duration": 4260,
    "start_time": "2024-06-18T08:58:59.107Z"
   },
   {
    "duration": 5,
    "start_time": "2024-06-18T09:00:02.990Z"
   },
   {
    "duration": 6399,
    "start_time": "2024-06-18T09:00:14.104Z"
   },
   {
    "duration": 6,
    "start_time": "2024-06-18T09:59:00.858Z"
   },
   {
    "duration": 3644,
    "start_time": "2024-06-18T09:59:02.932Z"
   },
   {
    "duration": 6,
    "start_time": "2024-06-18T09:59:38.618Z"
   },
   {
    "duration": 1378,
    "start_time": "2024-06-18T09:59:40.522Z"
   },
   {
    "duration": 994,
    "start_time": "2024-06-18T09:59:47.066Z"
   },
   {
    "duration": 6,
    "start_time": "2024-06-18T09:59:50.299Z"
   },
   {
    "duration": 3780,
    "start_time": "2024-06-18T09:59:52.400Z"
   },
   {
    "duration": 7,
    "start_time": "2024-06-18T10:01:18.633Z"
   },
   {
    "duration": 6,
    "start_time": "2024-06-18T10:01:20.088Z"
   },
   {
    "duration": 3700,
    "start_time": "2024-06-18T10:01:22.150Z"
   },
   {
    "duration": 5,
    "start_time": "2024-06-18T10:01:39.468Z"
   },
   {
    "duration": 3928,
    "start_time": "2024-06-18T10:01:45.365Z"
   },
   {
    "duration": 3543,
    "start_time": "2024-06-18T10:01:51.805Z"
   },
   {
    "duration": 1276,
    "start_time": "2024-06-18T10:10:23.106Z"
   },
   {
    "duration": 2,
    "start_time": "2024-06-18T10:10:24.384Z"
   },
   {
    "duration": 9,
    "start_time": "2024-06-18T10:10:24.387Z"
   },
   {
    "duration": 4,
    "start_time": "2024-06-18T10:10:24.397Z"
   },
   {
    "duration": 830,
    "start_time": "2024-06-18T10:10:24.402Z"
   },
   {
    "duration": 374,
    "start_time": "2024-06-18T10:10:25.233Z"
   },
   {
    "duration": 175,
    "start_time": "2024-06-18T10:10:25.609Z"
   },
   {
    "duration": 360,
    "start_time": "2024-06-18T10:10:25.786Z"
   },
   {
    "duration": 8,
    "start_time": "2024-06-18T10:10:26.148Z"
   },
   {
    "duration": 39,
    "start_time": "2024-06-18T10:10:26.158Z"
   },
   {
    "duration": 2,
    "start_time": "2024-06-18T10:10:26.199Z"
   },
   {
    "duration": 71,
    "start_time": "2024-06-18T10:10:26.203Z"
   },
   {
    "duration": 15,
    "start_time": "2024-06-18T10:10:26.275Z"
   },
   {
    "duration": 8,
    "start_time": "2024-06-18T10:10:26.292Z"
   },
   {
    "duration": 3943,
    "start_time": "2024-06-18T10:10:26.301Z"
   },
   {
    "duration": 3911,
    "start_time": "2024-06-18T10:10:30.246Z"
   },
   {
    "duration": 6265,
    "start_time": "2024-06-18T10:11:20.188Z"
   },
   {
    "duration": 5,
    "start_time": "2024-06-18T10:12:52.182Z"
   },
   {
    "duration": 3714,
    "start_time": "2024-06-18T10:12:54.751Z"
   },
   {
    "duration": 6,
    "start_time": "2024-06-18T10:13:13.696Z"
   },
   {
    "duration": 5,
    "start_time": "2024-06-18T10:27:40.352Z"
   },
   {
    "duration": 2877,
    "start_time": "2024-06-18T10:27:42.645Z"
   },
   {
    "duration": 5,
    "start_time": "2024-06-18T10:28:02.138Z"
   },
   {
    "duration": 6413,
    "start_time": "2024-06-18T10:28:04.355Z"
   },
   {
    "duration": 5,
    "start_time": "2024-06-18T10:28:13.955Z"
   },
   {
    "duration": 449,
    "start_time": "2024-06-18T10:28:16.271Z"
   },
   {
    "duration": 6,
    "start_time": "2024-06-18T10:28:29.230Z"
   },
   {
    "duration": 3660,
    "start_time": "2024-06-18T10:28:31.261Z"
   },
   {
    "duration": 8,
    "start_time": "2024-06-18T10:32:06.021Z"
   },
   {
    "duration": 3966,
    "start_time": "2024-06-18T10:32:08.074Z"
   },
   {
    "duration": 102,
    "start_time": "2024-06-18T10:32:20.226Z"
   },
   {
    "duration": 1235,
    "start_time": "2024-06-18T10:32:23.849Z"
   },
   {
    "duration": 5,
    "start_time": "2024-06-18T10:33:25.046Z"
   },
   {
    "duration": 1170,
    "start_time": "2024-06-18T10:33:26.803Z"
   },
   {
    "duration": 6,
    "start_time": "2024-06-18T10:33:36.948Z"
   },
   {
    "duration": 4020,
    "start_time": "2024-06-18T10:33:39.304Z"
   },
   {
    "duration": 6,
    "start_time": "2024-06-18T10:35:08.524Z"
   },
   {
    "duration": 3970,
    "start_time": "2024-06-18T10:35:10.434Z"
   },
   {
    "duration": 5,
    "start_time": "2024-06-18T10:38:30.731Z"
   },
   {
    "duration": 5,
    "start_time": "2024-06-18T10:38:32.073Z"
   },
   {
    "duration": 3859,
    "start_time": "2024-06-18T10:38:34.071Z"
   },
   {
    "duration": 6,
    "start_time": "2024-06-18T10:39:03.115Z"
   },
   {
    "duration": 3950,
    "start_time": "2024-06-18T10:39:05.114Z"
   },
   {
    "duration": 6,
    "start_time": "2024-06-18T10:40:10.328Z"
   },
   {
    "duration": 6,
    "start_time": "2024-06-18T10:40:11.773Z"
   },
   {
    "duration": 3606,
    "start_time": "2024-06-18T10:40:14.293Z"
   },
   {
    "duration": 4,
    "start_time": "2024-06-18T10:40:28.431Z"
   },
   {
    "duration": 4245,
    "start_time": "2024-06-18T10:40:30.675Z"
   },
   {
    "duration": 5,
    "start_time": "2024-06-18T10:40:49.277Z"
   },
   {
    "duration": 4249,
    "start_time": "2024-06-18T10:40:51.100Z"
   },
   {
    "duration": 5,
    "start_time": "2024-06-18T10:42:50.984Z"
   },
   {
    "duration": 3879,
    "start_time": "2024-06-18T10:42:52.746Z"
   },
   {
    "duration": 5,
    "start_time": "2024-06-18T10:43:47.383Z"
   },
   {
    "duration": 4019,
    "start_time": "2024-06-18T10:43:50.442Z"
   },
   {
    "duration": 5,
    "start_time": "2024-06-18T10:44:32.432Z"
   },
   {
    "duration": 6826,
    "start_time": "2024-06-18T10:44:35.262Z"
   },
   {
    "duration": 5,
    "start_time": "2024-06-18T10:46:09.116Z"
   },
   {
    "duration": 3916,
    "start_time": "2024-06-18T10:46:10.957Z"
   },
   {
    "duration": 10,
    "start_time": "2024-06-18T10:47:07.913Z"
   },
   {
    "duration": 4122,
    "start_time": "2024-06-18T10:47:09.695Z"
   },
   {
    "duration": 5,
    "start_time": "2024-06-18T10:47:21.072Z"
   },
   {
    "duration": 3728,
    "start_time": "2024-06-18T10:47:23.193Z"
   },
   {
    "duration": 5,
    "start_time": "2024-06-18T10:47:29.352Z"
   },
   {
    "duration": 3407,
    "start_time": "2024-06-18T10:47:31.789Z"
   },
   {
    "duration": 8,
    "start_time": "2024-06-18T10:47:39.891Z"
   },
   {
    "duration": 4047,
    "start_time": "2024-06-18T10:47:41.885Z"
   },
   {
    "duration": 97,
    "start_time": "2024-06-18T10:48:29.951Z"
   },
   {
    "duration": 4183,
    "start_time": "2024-06-18T10:48:31.957Z"
   },
   {
    "duration": 5,
    "start_time": "2024-06-18T10:48:42.686Z"
   },
   {
    "duration": 4001,
    "start_time": "2024-06-18T10:48:45.148Z"
   },
   {
    "duration": 6395,
    "start_time": "2024-06-18T10:49:24.320Z"
   },
   {
    "duration": 5,
    "start_time": "2024-06-18T10:49:31.739Z"
   },
   {
    "duration": 6264,
    "start_time": "2024-06-18T10:49:33.648Z"
   },
   {
    "duration": 5,
    "start_time": "2024-06-18T10:49:46.565Z"
   },
   {
    "duration": 4748,
    "start_time": "2024-06-18T10:49:49.480Z"
   },
   {
    "duration": 5,
    "start_time": "2024-06-18T10:49:58.999Z"
   },
   {
    "duration": 5461,
    "start_time": "2024-06-18T10:50:00.971Z"
   },
   {
    "duration": 6,
    "start_time": "2024-06-18T10:50:31.390Z"
   },
   {
    "duration": 15685,
    "start_time": "2024-06-18T10:50:33.096Z"
   },
   {
    "duration": 5,
    "start_time": "2024-06-18T10:51:27.970Z"
   },
   {
    "duration": 3619,
    "start_time": "2024-06-18T10:51:30.317Z"
   },
   {
    "duration": 673,
    "start_time": "2024-06-18T10:52:17.998Z"
   },
   {
    "duration": 6,
    "start_time": "2024-06-18T10:53:22.581Z"
   },
   {
    "duration": 3975,
    "start_time": "2024-06-18T10:53:24.565Z"
   },
   {
    "duration": 5,
    "start_time": "2024-06-18T10:59:01.123Z"
   },
   {
    "duration": 4053,
    "start_time": "2024-06-18T10:59:03.266Z"
   },
   {
    "duration": 136,
    "start_time": "2024-06-18T11:02:25.895Z"
   },
   {
    "duration": 5718,
    "start_time": "2024-06-18T11:02:36.054Z"
   },
   {
    "duration": 6,
    "start_time": "2024-06-18T11:03:07.145Z"
   },
   {
    "duration": 5556,
    "start_time": "2024-06-18T11:03:09.729Z"
   },
   {
    "duration": 6,
    "start_time": "2024-06-18T11:05:13.627Z"
   },
   {
    "duration": 5572,
    "start_time": "2024-06-18T11:05:15.799Z"
   },
   {
    "duration": 6,
    "start_time": "2024-06-18T11:07:01.957Z"
   },
   {
    "duration": 4074,
    "start_time": "2024-06-18T11:07:03.853Z"
   },
   {
    "duration": 5,
    "start_time": "2024-06-18T11:07:21.460Z"
   },
   {
    "duration": 5571,
    "start_time": "2024-06-18T11:07:23.554Z"
   },
   {
    "duration": 8,
    "start_time": "2024-06-18T11:08:23.270Z"
   },
   {
    "duration": 5589,
    "start_time": "2024-06-18T11:08:25.099Z"
   },
   {
    "duration": 6,
    "start_time": "2024-06-18T11:08:35.413Z"
   },
   {
    "duration": 5732,
    "start_time": "2024-06-18T11:08:38.077Z"
   },
   {
    "duration": 5,
    "start_time": "2024-06-18T11:09:57.894Z"
   },
   {
    "duration": 140,
    "start_time": "2024-06-18T11:09:59.715Z"
   },
   {
    "duration": 6,
    "start_time": "2024-06-18T11:10:09.059Z"
   },
   {
    "duration": 5538,
    "start_time": "2024-06-18T11:10:11.057Z"
   },
   {
    "duration": 6,
    "start_time": "2024-06-18T11:10:34.415Z"
   },
   {
    "duration": 5615,
    "start_time": "2024-06-18T11:10:36.404Z"
   },
   {
    "duration": 8,
    "start_time": "2024-06-18T11:12:18.969Z"
   },
   {
    "duration": 142,
    "start_time": "2024-06-18T11:12:20.706Z"
   },
   {
    "duration": 6,
    "start_time": "2024-06-18T11:12:47.965Z"
   },
   {
    "duration": 5632,
    "start_time": "2024-06-18T11:12:50.779Z"
   },
   {
    "duration": 5,
    "start_time": "2024-06-18T11:14:20.808Z"
   },
   {
    "duration": 8265,
    "start_time": "2024-06-18T11:14:22.597Z"
   },
   {
    "duration": 6,
    "start_time": "2024-06-18T11:14:47.776Z"
   },
   {
    "duration": 262,
    "start_time": "2024-06-18T11:14:50.143Z"
   },
   {
    "duration": 303,
    "start_time": "2024-06-18T11:17:48.944Z"
   },
   {
    "duration": 284,
    "start_time": "2024-06-18T11:18:50.153Z"
   },
   {
    "duration": 5,
    "start_time": "2024-06-18T11:19:01.652Z"
   },
   {
    "duration": 7,
    "start_time": "2024-06-18T11:20:03.970Z"
   },
   {
    "duration": 337,
    "start_time": "2024-06-18T11:20:05.540Z"
   },
   {
    "duration": 3,
    "start_time": "2024-06-18T12:20:31.316Z"
   },
   {
    "duration": 14,
    "start_time": "2024-06-18T12:23:24.719Z"
   },
   {
    "duration": 4,
    "start_time": "2024-06-18T12:23:26.247Z"
   },
   {
    "duration": 14,
    "start_time": "2024-06-18T12:23:28.512Z"
   },
   {
    "duration": 4,
    "start_time": "2024-06-18T12:25:52.670Z"
   },
   {
    "duration": 579,
    "start_time": "2024-06-18T12:25:54.339Z"
   },
   {
    "duration": 6,
    "start_time": "2024-06-18T12:26:50.800Z"
   },
   {
    "duration": 613,
    "start_time": "2024-06-18T12:26:52.337Z"
   },
   {
    "duration": 4,
    "start_time": "2024-06-18T12:27:11.975Z"
   },
   {
    "duration": 543,
    "start_time": "2024-06-18T12:27:13.992Z"
   },
   {
    "duration": 3,
    "start_time": "2024-06-18T12:32:49.844Z"
   },
   {
    "duration": 6,
    "start_time": "2024-06-18T12:33:32.100Z"
   },
   {
    "duration": 7,
    "start_time": "2024-06-18T12:34:09.245Z"
   },
   {
    "duration": 5,
    "start_time": "2024-06-18T12:37:31.180Z"
   },
   {
    "duration": 1128,
    "start_time": "2024-06-18T12:37:35.999Z"
   },
   {
    "duration": 52,
    "start_time": "2024-06-18T12:38:21.725Z"
   },
   {
    "duration": 6,
    "start_time": "2024-06-18T12:38:23.164Z"
   },
   {
    "duration": 1878,
    "start_time": "2024-06-18T12:38:25.167Z"
   },
   {
    "duration": 1279,
    "start_time": "2024-06-18T12:41:25.204Z"
   },
   {
    "duration": 2,
    "start_time": "2024-06-18T12:41:26.485Z"
   },
   {
    "duration": 67,
    "start_time": "2024-06-18T12:41:26.489Z"
   },
   {
    "duration": 12,
    "start_time": "2024-06-18T12:41:26.558Z"
   },
   {
    "duration": 821,
    "start_time": "2024-06-18T12:41:26.571Z"
   },
   {
    "duration": 383,
    "start_time": "2024-06-18T12:41:27.394Z"
   },
   {
    "duration": 206,
    "start_time": "2024-06-18T12:41:27.779Z"
   },
   {
    "duration": 358,
    "start_time": "2024-06-18T12:41:27.987Z"
   },
   {
    "duration": 19,
    "start_time": "2024-06-18T12:41:28.347Z"
   },
   {
    "duration": 32,
    "start_time": "2024-06-18T12:41:28.368Z"
   },
   {
    "duration": 2,
    "start_time": "2024-06-18T12:41:28.401Z"
   },
   {
    "duration": 73,
    "start_time": "2024-06-18T12:41:28.405Z"
   },
   {
    "duration": 17,
    "start_time": "2024-06-18T12:41:28.480Z"
   },
   {
    "duration": 69,
    "start_time": "2024-06-18T12:41:28.498Z"
   },
   {
    "duration": 15,
    "start_time": "2024-06-18T12:41:28.568Z"
   },
   {
    "duration": 5642,
    "start_time": "2024-06-18T12:41:28.584Z"
   },
   {
    "duration": 4,
    "start_time": "2024-06-18T12:41:34.228Z"
   },
   {
    "duration": 361,
    "start_time": "2024-06-18T12:41:34.234Z"
   },
   {
    "duration": 3,
    "start_time": "2024-06-18T12:41:34.597Z"
   },
   {
    "duration": 21,
    "start_time": "2024-06-18T12:41:34.601Z"
   },
   {
    "duration": 4,
    "start_time": "2024-06-18T12:41:34.623Z"
   },
   {
    "duration": 598,
    "start_time": "2024-06-18T12:41:34.629Z"
   },
   {
    "duration": 5,
    "start_time": "2024-06-18T12:41:35.229Z"
   },
   {
    "duration": 80,
    "start_time": "2024-06-18T12:41:35.235Z"
   },
   {
    "duration": 5,
    "start_time": "2024-06-18T12:41:35.317Z"
   },
   {
    "duration": 1740,
    "start_time": "2024-06-18T12:41:35.323Z"
   },
   {
    "duration": 5,
    "start_time": "2024-06-18T12:45:45.213Z"
   },
   {
    "duration": 1796,
    "start_time": "2024-06-18T12:45:47.363Z"
   },
   {
    "duration": 16,
    "start_time": "2024-06-18T12:46:22.987Z"
   },
   {
    "duration": 5,
    "start_time": "2024-06-18T12:46:24.342Z"
   },
   {
    "duration": 1872,
    "start_time": "2024-06-18T12:46:26.460Z"
   },
   {
    "duration": 13,
    "start_time": "2024-06-18T12:47:29.775Z"
   },
   {
    "duration": 5,
    "start_time": "2024-06-18T12:47:35.281Z"
   },
   {
    "duration": 6,
    "start_time": "2024-06-18T12:47:39.819Z"
   },
   {
    "duration": 1801,
    "start_time": "2024-06-18T12:47:42.044Z"
   },
   {
    "duration": 5,
    "start_time": "2024-06-18T12:48:37.540Z"
   },
   {
    "duration": 1830,
    "start_time": "2024-06-18T12:48:39.458Z"
   },
   {
    "duration": 1631,
    "start_time": "2024-06-19T07:13:23.019Z"
   },
   {
    "duration": 3,
    "start_time": "2024-06-19T07:13:24.653Z"
   },
   {
    "duration": 12,
    "start_time": "2024-06-19T07:13:24.657Z"
   },
   {
    "duration": 9,
    "start_time": "2024-06-19T07:13:24.670Z"
   },
   {
    "duration": 3789,
    "start_time": "2024-06-19T07:13:24.681Z"
   },
   {
    "duration": 396,
    "start_time": "2024-06-19T07:13:28.472Z"
   },
   {
    "duration": 197,
    "start_time": "2024-06-19T07:13:28.870Z"
   },
   {
    "duration": 415,
    "start_time": "2024-06-19T07:13:29.069Z"
   },
   {
    "duration": 10,
    "start_time": "2024-06-19T07:13:29.486Z"
   },
   {
    "duration": 73,
    "start_time": "2024-06-19T07:13:29.498Z"
   },
   {
    "duration": 5,
    "start_time": "2024-06-19T07:13:29.573Z"
   },
   {
    "duration": 31,
    "start_time": "2024-06-19T07:13:29.579Z"
   },
   {
    "duration": 58,
    "start_time": "2024-06-19T07:13:29.612Z"
   },
   {
    "duration": 16,
    "start_time": "2024-06-19T07:13:29.673Z"
   },
   {
    "duration": 10,
    "start_time": "2024-06-19T07:13:29.691Z"
   },
   {
    "duration": 6925,
    "start_time": "2024-06-19T07:13:29.703Z"
   },
   {
    "duration": 6,
    "start_time": "2024-06-19T07:13:36.629Z"
   },
   {
    "duration": 384,
    "start_time": "2024-06-19T07:13:36.637Z"
   },
   {
    "duration": 5,
    "start_time": "2024-06-19T07:13:37.024Z"
   },
   {
    "duration": 45,
    "start_time": "2024-06-19T07:13:37.031Z"
   },
   {
    "duration": 5,
    "start_time": "2024-06-19T07:13:37.078Z"
   },
   {
    "duration": 632,
    "start_time": "2024-06-19T07:13:37.084Z"
   },
   {
    "duration": 7,
    "start_time": "2024-06-19T07:13:37.718Z"
   },
   {
    "duration": 61,
    "start_time": "2024-06-19T07:13:37.726Z"
   },
   {
    "duration": 5,
    "start_time": "2024-06-19T07:13:37.789Z"
   },
   {
    "duration": 1963,
    "start_time": "2024-06-19T07:13:37.796Z"
   },
   {
    "duration": 4,
    "start_time": "2024-06-19T07:13:39.760Z"
   },
   {
    "duration": 11,
    "start_time": "2024-06-19T07:13:39.766Z"
   },
   {
    "duration": 9,
    "start_time": "2024-06-19T07:13:39.779Z"
   },
   {
    "duration": 7,
    "start_time": "2024-06-19T07:13:39.790Z"
   },
   {
    "duration": 132,
    "start_time": "2024-06-19T07:13:39.799Z"
   },
   {
    "duration": 13,
    "start_time": "2024-06-19T07:14:39.433Z"
   },
   {
    "duration": 1520,
    "start_time": "2024-06-19T07:14:52.528Z"
   },
   {
    "duration": 3,
    "start_time": "2024-06-19T07:14:54.050Z"
   },
   {
    "duration": 25,
    "start_time": "2024-06-19T07:14:54.055Z"
   },
   {
    "duration": 29,
    "start_time": "2024-06-19T07:14:54.082Z"
   },
   {
    "duration": 927,
    "start_time": "2024-06-19T07:14:54.113Z"
   },
   {
    "duration": 441,
    "start_time": "2024-06-19T07:14:55.042Z"
   },
   {
    "duration": 195,
    "start_time": "2024-06-19T07:14:55.484Z"
   },
   {
    "duration": 424,
    "start_time": "2024-06-19T07:14:55.681Z"
   },
   {
    "duration": 9,
    "start_time": "2024-06-19T07:14:56.107Z"
   },
   {
    "duration": 63,
    "start_time": "2024-06-19T07:14:56.117Z"
   },
   {
    "duration": 4,
    "start_time": "2024-06-19T07:14:56.181Z"
   },
   {
    "duration": 83,
    "start_time": "2024-06-19T07:14:56.186Z"
   },
   {
    "duration": 17,
    "start_time": "2024-06-19T07:14:56.271Z"
   },
   {
    "duration": 6,
    "start_time": "2024-06-19T07:14:56.291Z"
   },
   {
    "duration": 20,
    "start_time": "2024-06-19T07:14:56.299Z"
   },
   {
    "duration": 6352,
    "start_time": "2024-06-19T07:14:56.321Z"
   },
   {
    "duration": 6,
    "start_time": "2024-06-19T07:15:02.676Z"
   },
   {
    "duration": 414,
    "start_time": "2024-06-19T07:15:02.684Z"
   },
   {
    "duration": 4,
    "start_time": "2024-06-19T07:15:03.100Z"
   },
   {
    "duration": 38,
    "start_time": "2024-06-19T07:15:03.106Z"
   },
   {
    "duration": 25,
    "start_time": "2024-06-19T07:15:03.145Z"
   },
   {
    "duration": 734,
    "start_time": "2024-06-19T07:15:03.172Z"
   },
   {
    "duration": 6,
    "start_time": "2024-06-19T07:15:03.908Z"
   },
   {
    "duration": 59,
    "start_time": "2024-06-19T07:15:03.916Z"
   },
   {
    "duration": 5,
    "start_time": "2024-06-19T07:15:03.977Z"
   },
   {
    "duration": 1989,
    "start_time": "2024-06-19T07:15:03.984Z"
   },
   {
    "duration": 4,
    "start_time": "2024-06-19T07:15:05.975Z"
   },
   {
    "duration": 12,
    "start_time": "2024-06-19T07:15:05.980Z"
   },
   {
    "duration": 10,
    "start_time": "2024-06-19T07:15:05.993Z"
   },
   {
    "duration": 18,
    "start_time": "2024-06-19T07:15:06.005Z"
   },
   {
    "duration": 24,
    "start_time": "2024-06-19T07:15:06.025Z"
   },
   {
    "duration": 4,
    "start_time": "2024-06-19T07:18:06.955Z"
   },
   {
    "duration": 55,
    "start_time": "2024-06-19T07:20:55.027Z"
   },
   {
    "duration": 1537,
    "start_time": "2024-06-19T07:26:09.074Z"
   },
   {
    "duration": 4,
    "start_time": "2024-06-19T07:26:10.614Z"
   },
   {
    "duration": 11,
    "start_time": "2024-06-19T07:26:10.620Z"
   },
   {
    "duration": 6,
    "start_time": "2024-06-19T07:26:10.634Z"
   },
   {
    "duration": 917,
    "start_time": "2024-06-19T07:26:10.641Z"
   },
   {
    "duration": 413,
    "start_time": "2024-06-19T07:26:11.560Z"
   },
   {
    "duration": 200,
    "start_time": "2024-06-19T07:26:11.975Z"
   },
   {
    "duration": 411,
    "start_time": "2024-06-19T07:26:12.177Z"
   },
   {
    "duration": 10,
    "start_time": "2024-06-19T07:26:12.590Z"
   },
   {
    "duration": 72,
    "start_time": "2024-06-19T07:26:12.603Z"
   },
   {
    "duration": 3,
    "start_time": "2024-06-19T07:26:12.677Z"
   },
   {
    "duration": 95,
    "start_time": "2024-06-19T07:26:12.682Z"
   },
   {
    "duration": 25,
    "start_time": "2024-06-19T07:26:12.779Z"
   },
   {
    "duration": 6,
    "start_time": "2024-06-19T07:26:12.805Z"
   },
   {
    "duration": 19,
    "start_time": "2024-06-19T07:26:12.813Z"
   },
   {
    "duration": 6344,
    "start_time": "2024-06-19T07:26:12.833Z"
   },
   {
    "duration": 8,
    "start_time": "2024-06-19T07:26:19.180Z"
   },
   {
    "duration": 404,
    "start_time": "2024-06-19T07:26:19.191Z"
   },
   {
    "duration": 4,
    "start_time": "2024-06-19T07:26:19.597Z"
   },
   {
    "duration": 25,
    "start_time": "2024-06-19T07:26:19.603Z"
   },
   {
    "duration": 6,
    "start_time": "2024-06-19T07:26:19.630Z"
   },
   {
    "duration": 666,
    "start_time": "2024-06-19T07:26:19.637Z"
   },
   {
    "duration": 6,
    "start_time": "2024-06-19T07:26:20.305Z"
   },
   {
    "duration": 64,
    "start_time": "2024-06-19T07:26:20.312Z"
   },
   {
    "duration": 5,
    "start_time": "2024-06-19T07:26:20.378Z"
   },
   {
    "duration": 2081,
    "start_time": "2024-06-19T07:26:20.384Z"
   },
   {
    "duration": 3,
    "start_time": "2024-06-19T07:26:22.467Z"
   },
   {
    "duration": 17,
    "start_time": "2024-06-19T07:26:22.475Z"
   },
   {
    "duration": 9,
    "start_time": "2024-06-19T07:26:22.494Z"
   },
   {
    "duration": 3,
    "start_time": "2024-06-19T07:26:22.505Z"
   },
   {
    "duration": 26,
    "start_time": "2024-06-19T07:26:22.510Z"
   },
   {
    "duration": 3,
    "start_time": "2024-06-19T07:26:22.539Z"
   },
   {
    "duration": 19,
    "start_time": "2024-06-19T07:26:22.544Z"
   },
   {
    "duration": 39,
    "start_time": "2024-06-19T07:26:22.565Z"
   },
   {
    "duration": 145,
    "start_time": "2024-06-19T07:26:22.606Z"
   },
   {
    "duration": 0,
    "start_time": "2024-06-19T07:26:22.753Z"
   },
   {
    "duration": 1505,
    "start_time": "2024-06-19T07:26:40.092Z"
   },
   {
    "duration": 2,
    "start_time": "2024-06-19T07:26:41.599Z"
   },
   {
    "duration": 29,
    "start_time": "2024-06-19T07:26:41.603Z"
   },
   {
    "duration": 16,
    "start_time": "2024-06-19T07:26:41.634Z"
   },
   {
    "duration": 941,
    "start_time": "2024-06-19T07:26:41.652Z"
   },
   {
    "duration": 430,
    "start_time": "2024-06-19T07:26:42.595Z"
   },
   {
    "duration": 210,
    "start_time": "2024-06-19T07:26:43.027Z"
   },
   {
    "duration": 426,
    "start_time": "2024-06-19T07:26:43.239Z"
   },
   {
    "duration": 10,
    "start_time": "2024-06-19T07:26:43.667Z"
   },
   {
    "duration": 88,
    "start_time": "2024-06-19T07:26:43.681Z"
   },
   {
    "duration": 4,
    "start_time": "2024-06-19T07:26:43.770Z"
   },
   {
    "duration": 42,
    "start_time": "2024-06-19T07:26:43.775Z"
   },
   {
    "duration": 41,
    "start_time": "2024-06-19T07:26:43.819Z"
   },
   {
    "duration": 6,
    "start_time": "2024-06-19T07:26:43.862Z"
   },
   {
    "duration": 12,
    "start_time": "2024-06-19T07:26:43.869Z"
   },
   {
    "duration": 6250,
    "start_time": "2024-06-19T07:26:43.883Z"
   },
   {
    "duration": 6,
    "start_time": "2024-06-19T07:26:50.135Z"
   },
   {
    "duration": 353,
    "start_time": "2024-06-19T07:26:50.143Z"
   },
   {
    "duration": 5,
    "start_time": "2024-06-19T07:26:50.498Z"
   },
   {
    "duration": 34,
    "start_time": "2024-06-19T07:26:50.504Z"
   },
   {
    "duration": 4,
    "start_time": "2024-06-19T07:26:50.540Z"
   },
   {
    "duration": 747,
    "start_time": "2024-06-19T07:26:50.546Z"
   },
   {
    "duration": 7,
    "start_time": "2024-06-19T07:26:51.295Z"
   },
   {
    "duration": 69,
    "start_time": "2024-06-19T07:26:51.305Z"
   },
   {
    "duration": 7,
    "start_time": "2024-06-19T07:26:51.377Z"
   },
   {
    "duration": 1998,
    "start_time": "2024-06-19T07:26:51.386Z"
   },
   {
    "duration": 3,
    "start_time": "2024-06-19T07:26:53.386Z"
   },
   {
    "duration": 16,
    "start_time": "2024-06-19T07:26:53.393Z"
   },
   {
    "duration": 11,
    "start_time": "2024-06-19T07:26:53.411Z"
   },
   {
    "duration": 5,
    "start_time": "2024-06-19T07:26:53.424Z"
   },
   {
    "duration": 14,
    "start_time": "2024-06-19T07:26:53.431Z"
   },
   {
    "duration": 17,
    "start_time": "2024-06-19T07:26:53.447Z"
   },
   {
    "duration": 5,
    "start_time": "2024-06-19T07:26:53.466Z"
   },
   {
    "duration": 6,
    "start_time": "2024-06-19T07:26:53.472Z"
   },
   {
    "duration": 125,
    "start_time": "2024-06-19T07:26:53.479Z"
   },
   {
    "duration": 0,
    "start_time": "2024-06-19T07:26:53.606Z"
   },
   {
    "duration": 1496,
    "start_time": "2024-06-19T07:28:07.904Z"
   },
   {
    "duration": 3,
    "start_time": "2024-06-19T07:28:09.402Z"
   },
   {
    "duration": 16,
    "start_time": "2024-06-19T07:28:09.406Z"
   },
   {
    "duration": 5,
    "start_time": "2024-06-19T07:28:09.424Z"
   },
   {
    "duration": 918,
    "start_time": "2024-06-19T07:28:09.431Z"
   },
   {
    "duration": 447,
    "start_time": "2024-06-19T07:28:10.350Z"
   },
   {
    "duration": 217,
    "start_time": "2024-06-19T07:28:10.799Z"
   },
   {
    "duration": 431,
    "start_time": "2024-06-19T07:28:11.018Z"
   },
   {
    "duration": 10,
    "start_time": "2024-06-19T07:28:11.455Z"
   },
   {
    "duration": 88,
    "start_time": "2024-06-19T07:28:11.469Z"
   },
   {
    "duration": 3,
    "start_time": "2024-06-19T07:28:11.559Z"
   },
   {
    "duration": 36,
    "start_time": "2024-06-19T07:28:11.563Z"
   },
   {
    "duration": 18,
    "start_time": "2024-06-19T07:28:11.600Z"
   },
   {
    "duration": 6,
    "start_time": "2024-06-19T07:28:11.619Z"
   },
   {
    "duration": 31,
    "start_time": "2024-06-19T07:28:11.627Z"
   },
   {
    "duration": 6463,
    "start_time": "2024-06-19T07:28:11.660Z"
   },
   {
    "duration": 7,
    "start_time": "2024-06-19T07:28:18.125Z"
   },
   {
    "duration": 368,
    "start_time": "2024-06-19T07:28:18.134Z"
   },
   {
    "duration": 5,
    "start_time": "2024-06-19T07:28:18.504Z"
   },
   {
    "duration": 26,
    "start_time": "2024-06-19T07:28:18.511Z"
   },
   {
    "duration": 5,
    "start_time": "2024-06-19T07:28:18.539Z"
   },
   {
    "duration": 671,
    "start_time": "2024-06-19T07:28:18.556Z"
   },
   {
    "duration": 8,
    "start_time": "2024-06-19T07:28:19.229Z"
   },
   {
    "duration": 53,
    "start_time": "2024-06-19T07:28:19.239Z"
   },
   {
    "duration": 5,
    "start_time": "2024-06-19T07:28:19.294Z"
   },
   {
    "duration": 1968,
    "start_time": "2024-06-19T07:28:19.301Z"
   },
   {
    "duration": 4,
    "start_time": "2024-06-19T07:28:21.271Z"
   },
   {
    "duration": 4,
    "start_time": "2024-06-19T07:28:21.278Z"
   },
   {
    "duration": 17,
    "start_time": "2024-06-19T07:28:21.284Z"
   },
   {
    "duration": 6,
    "start_time": "2024-06-19T07:28:21.303Z"
   },
   {
    "duration": 19,
    "start_time": "2024-06-19T07:28:21.310Z"
   },
   {
    "duration": 3,
    "start_time": "2024-06-19T07:28:21.331Z"
   },
   {
    "duration": 20,
    "start_time": "2024-06-19T07:28:21.335Z"
   },
   {
    "duration": 10,
    "start_time": "2024-06-19T07:28:21.357Z"
   },
   {
    "duration": 188,
    "start_time": "2024-06-19T07:28:21.369Z"
   },
   {
    "duration": 0,
    "start_time": "2024-06-19T07:28:21.559Z"
   },
   {
    "duration": 1501,
    "start_time": "2024-06-19T07:31:06.506Z"
   },
   {
    "duration": 2,
    "start_time": "2024-06-19T07:31:08.010Z"
   },
   {
    "duration": 11,
    "start_time": "2024-06-19T07:31:08.014Z"
   },
   {
    "duration": 7,
    "start_time": "2024-06-19T07:31:08.026Z"
   },
   {
    "duration": 988,
    "start_time": "2024-06-19T07:31:08.036Z"
   },
   {
    "duration": 425,
    "start_time": "2024-06-19T07:31:09.026Z"
   },
   {
    "duration": 211,
    "start_time": "2024-06-19T07:31:09.452Z"
   },
   {
    "duration": 421,
    "start_time": "2024-06-19T07:31:09.664Z"
   },
   {
    "duration": 17,
    "start_time": "2024-06-19T07:31:10.088Z"
   },
   {
    "duration": 85,
    "start_time": "2024-06-19T07:31:10.109Z"
   },
   {
    "duration": 4,
    "start_time": "2024-06-19T07:31:10.196Z"
   },
   {
    "duration": 75,
    "start_time": "2024-06-19T07:31:10.202Z"
   },
   {
    "duration": 75,
    "start_time": "2024-06-19T07:31:10.278Z"
   },
   {
    "duration": 7,
    "start_time": "2024-06-19T07:31:10.357Z"
   },
   {
    "duration": 10,
    "start_time": "2024-06-19T07:31:10.366Z"
   },
   {
    "duration": 6280,
    "start_time": "2024-06-19T07:31:10.378Z"
   },
   {
    "duration": 8,
    "start_time": "2024-06-19T07:31:16.660Z"
   },
   {
    "duration": 401,
    "start_time": "2024-06-19T07:31:16.670Z"
   },
   {
    "duration": 4,
    "start_time": "2024-06-19T07:31:17.073Z"
   },
   {
    "duration": 41,
    "start_time": "2024-06-19T07:31:17.079Z"
   },
   {
    "duration": 7,
    "start_time": "2024-06-19T07:31:17.122Z"
   },
   {
    "duration": 670,
    "start_time": "2024-06-19T07:31:17.130Z"
   },
   {
    "duration": 7,
    "start_time": "2024-06-19T07:31:17.801Z"
   },
   {
    "duration": 56,
    "start_time": "2024-06-19T07:31:17.809Z"
   },
   {
    "duration": 5,
    "start_time": "2024-06-19T07:31:17.866Z"
   },
   {
    "duration": 1882,
    "start_time": "2024-06-19T07:31:17.872Z"
   },
   {
    "duration": 3,
    "start_time": "2024-06-19T07:31:19.756Z"
   },
   {
    "duration": 16,
    "start_time": "2024-06-19T07:31:19.761Z"
   },
   {
    "duration": 9,
    "start_time": "2024-06-19T07:31:19.778Z"
   },
   {
    "duration": 18,
    "start_time": "2024-06-19T07:31:19.789Z"
   },
   {
    "duration": 15,
    "start_time": "2024-06-19T07:31:19.808Z"
   },
   {
    "duration": 19,
    "start_time": "2024-06-19T07:31:19.825Z"
   },
   {
    "duration": 12,
    "start_time": "2024-06-19T07:31:19.845Z"
   },
   {
    "duration": 13,
    "start_time": "2024-06-19T07:31:19.858Z"
   },
   {
    "duration": 1550,
    "start_time": "2024-06-19T07:34:04.442Z"
   },
   {
    "duration": 3,
    "start_time": "2024-06-19T07:34:05.994Z"
   },
   {
    "duration": 9,
    "start_time": "2024-06-19T07:34:06.000Z"
   },
   {
    "duration": 13,
    "start_time": "2024-06-19T07:34:06.012Z"
   },
   {
    "duration": 957,
    "start_time": "2024-06-19T07:34:06.027Z"
   },
   {
    "duration": 427,
    "start_time": "2024-06-19T07:34:06.986Z"
   },
   {
    "duration": 207,
    "start_time": "2024-06-19T07:34:07.415Z"
   },
   {
    "duration": 471,
    "start_time": "2024-06-19T07:34:07.624Z"
   },
   {
    "duration": 9,
    "start_time": "2024-06-19T07:34:08.097Z"
   },
   {
    "duration": 98,
    "start_time": "2024-06-19T07:34:08.109Z"
   },
   {
    "duration": 3,
    "start_time": "2024-06-19T07:34:08.208Z"
   },
   {
    "duration": 67,
    "start_time": "2024-06-19T07:34:08.212Z"
   },
   {
    "duration": 19,
    "start_time": "2024-06-19T07:34:08.280Z"
   },
   {
    "duration": 20,
    "start_time": "2024-06-19T07:34:08.301Z"
   },
   {
    "duration": 33,
    "start_time": "2024-06-19T07:34:08.323Z"
   },
   {
    "duration": 6766,
    "start_time": "2024-06-19T07:34:08.358Z"
   },
   {
    "duration": 6,
    "start_time": "2024-06-19T07:34:15.126Z"
   },
   {
    "duration": 458,
    "start_time": "2024-06-19T07:34:15.134Z"
   },
   {
    "duration": 5,
    "start_time": "2024-06-19T07:34:15.594Z"
   },
   {
    "duration": 36,
    "start_time": "2024-06-19T07:34:15.600Z"
   },
   {
    "duration": 6,
    "start_time": "2024-06-19T07:34:15.638Z"
   },
   {
    "duration": 787,
    "start_time": "2024-06-19T07:34:15.645Z"
   },
   {
    "duration": 7,
    "start_time": "2024-06-19T07:34:16.434Z"
   },
   {
    "duration": 58,
    "start_time": "2024-06-19T07:34:16.443Z"
   },
   {
    "duration": 8,
    "start_time": "2024-06-19T07:34:16.504Z"
   },
   {
    "duration": 1944,
    "start_time": "2024-06-19T07:34:16.514Z"
   },
   {
    "duration": 4,
    "start_time": "2024-06-19T07:34:18.460Z"
   },
   {
    "duration": 24,
    "start_time": "2024-06-19T07:34:18.467Z"
   },
   {
    "duration": 16,
    "start_time": "2024-06-19T07:34:18.493Z"
   },
   {
    "duration": 49,
    "start_time": "2024-06-19T07:34:18.511Z"
   },
   {
    "duration": 18,
    "start_time": "2024-06-19T07:34:18.561Z"
   },
   {
    "duration": 5,
    "start_time": "2024-06-19T07:34:18.581Z"
   },
   {
    "duration": 10,
    "start_time": "2024-06-19T07:34:18.587Z"
   },
   {
    "duration": 8,
    "start_time": "2024-06-19T07:34:18.599Z"
   },
   {
    "duration": 1534,
    "start_time": "2024-06-19T07:36:17.771Z"
   },
   {
    "duration": 3,
    "start_time": "2024-06-19T07:36:19.308Z"
   },
   {
    "duration": 5,
    "start_time": "2024-06-19T07:36:19.313Z"
   },
   {
    "duration": 6,
    "start_time": "2024-06-19T07:36:19.320Z"
   },
   {
    "duration": 1015,
    "start_time": "2024-06-19T07:36:19.328Z"
   },
   {
    "duration": 453,
    "start_time": "2024-06-19T07:36:20.344Z"
   },
   {
    "duration": 214,
    "start_time": "2024-06-19T07:36:20.799Z"
   },
   {
    "duration": 432,
    "start_time": "2024-06-19T07:36:21.015Z"
   },
   {
    "duration": 15,
    "start_time": "2024-06-19T07:36:21.449Z"
   },
   {
    "duration": 93,
    "start_time": "2024-06-19T07:36:21.467Z"
   },
   {
    "duration": 3,
    "start_time": "2024-06-19T07:36:21.562Z"
   },
   {
    "duration": 27,
    "start_time": "2024-06-19T07:36:21.567Z"
   },
   {
    "duration": 19,
    "start_time": "2024-06-19T07:36:21.596Z"
   },
   {
    "duration": 6,
    "start_time": "2024-06-19T07:36:21.616Z"
   },
   {
    "duration": 7,
    "start_time": "2024-06-19T07:36:21.655Z"
   },
   {
    "duration": 6227,
    "start_time": "2024-06-19T07:36:21.664Z"
   },
   {
    "duration": 6,
    "start_time": "2024-06-19T07:36:27.893Z"
   },
   {
    "duration": 396,
    "start_time": "2024-06-19T07:36:27.901Z"
   },
   {
    "duration": 5,
    "start_time": "2024-06-19T07:36:28.299Z"
   },
   {
    "duration": 25,
    "start_time": "2024-06-19T07:36:28.306Z"
   },
   {
    "duration": 4,
    "start_time": "2024-06-19T07:36:28.333Z"
   },
   {
    "duration": 683,
    "start_time": "2024-06-19T07:36:28.356Z"
   },
   {
    "duration": 7,
    "start_time": "2024-06-19T07:36:29.041Z"
   },
   {
    "duration": 46,
    "start_time": "2024-06-19T07:36:29.056Z"
   },
   {
    "duration": 5,
    "start_time": "2024-06-19T07:36:29.104Z"
   },
   {
    "duration": 2014,
    "start_time": "2024-06-19T07:36:29.111Z"
   },
   {
    "duration": 4,
    "start_time": "2024-06-19T07:36:31.127Z"
   },
   {
    "duration": 123,
    "start_time": "2024-06-19T07:36:31.134Z"
   },
   {
    "duration": 65,
    "start_time": "2024-06-19T07:36:31.259Z"
   },
   {
    "duration": 24,
    "start_time": "2024-06-19T07:36:31.326Z"
   },
   {
    "duration": 47,
    "start_time": "2024-06-19T07:36:31.352Z"
   },
   {
    "duration": 45,
    "start_time": "2024-06-19T07:36:31.401Z"
   },
   {
    "duration": 35,
    "start_time": "2024-06-19T07:36:31.448Z"
   },
   {
    "duration": 44,
    "start_time": "2024-06-19T07:36:31.485Z"
   },
   {
    "duration": 1664,
    "start_time": "2024-06-19T07:42:27.669Z"
   },
   {
    "duration": 2,
    "start_time": "2024-06-19T07:42:29.335Z"
   },
   {
    "duration": 26,
    "start_time": "2024-06-19T07:42:29.339Z"
   },
   {
    "duration": 10,
    "start_time": "2024-06-19T07:42:29.369Z"
   },
   {
    "duration": 992,
    "start_time": "2024-06-19T07:42:29.382Z"
   },
   {
    "duration": 473,
    "start_time": "2024-06-19T07:42:30.376Z"
   },
   {
    "duration": 218,
    "start_time": "2024-06-19T07:42:30.856Z"
   },
   {
    "duration": 452,
    "start_time": "2024-06-19T07:42:31.076Z"
   },
   {
    "duration": 9,
    "start_time": "2024-06-19T07:42:31.530Z"
   },
   {
    "duration": 80,
    "start_time": "2024-06-19T07:42:31.541Z"
   },
   {
    "duration": 7,
    "start_time": "2024-06-19T07:42:31.622Z"
   },
   {
    "duration": 77,
    "start_time": "2024-06-19T07:42:31.630Z"
   },
   {
    "duration": 44,
    "start_time": "2024-06-19T07:42:31.709Z"
   },
   {
    "duration": 32,
    "start_time": "2024-06-19T07:42:31.758Z"
   },
   {
    "duration": 27,
    "start_time": "2024-06-19T07:42:31.792Z"
   },
   {
    "duration": 6592,
    "start_time": "2024-06-19T07:42:31.821Z"
   },
   {
    "duration": 8,
    "start_time": "2024-06-19T07:42:38.415Z"
   },
   {
    "duration": 401,
    "start_time": "2024-06-19T07:42:38.427Z"
   },
   {
    "duration": 5,
    "start_time": "2024-06-19T07:42:38.829Z"
   },
   {
    "duration": 38,
    "start_time": "2024-06-19T07:42:38.836Z"
   },
   {
    "duration": 8,
    "start_time": "2024-06-19T07:42:38.877Z"
   },
   {
    "duration": 757,
    "start_time": "2024-06-19T07:42:38.887Z"
   },
   {
    "duration": 9,
    "start_time": "2024-06-19T07:42:39.646Z"
   },
   {
    "duration": 63,
    "start_time": "2024-06-19T07:42:39.658Z"
   },
   {
    "duration": 6,
    "start_time": "2024-06-19T07:42:39.723Z"
   },
   {
    "duration": 2080,
    "start_time": "2024-06-19T07:42:39.730Z"
   },
   {
    "duration": 4,
    "start_time": "2024-06-19T07:42:41.812Z"
   },
   {
    "duration": 12,
    "start_time": "2024-06-19T07:42:41.817Z"
   },
   {
    "duration": 15,
    "start_time": "2024-06-19T07:42:41.830Z"
   },
   {
    "duration": 10,
    "start_time": "2024-06-19T07:42:41.846Z"
   },
   {
    "duration": 28,
    "start_time": "2024-06-19T07:42:41.858Z"
   },
   {
    "duration": 3,
    "start_time": "2024-06-19T07:42:41.888Z"
   },
   {
    "duration": 13,
    "start_time": "2024-06-19T07:42:41.893Z"
   },
   {
    "duration": 57,
    "start_time": "2024-06-19T07:42:41.908Z"
   },
   {
    "duration": 0,
    "start_time": "2024-06-19T07:42:41.967Z"
   },
   {
    "duration": 0,
    "start_time": "2024-06-19T07:42:41.968Z"
   },
   {
    "duration": 1637,
    "start_time": "2024-06-19T07:42:56.255Z"
   },
   {
    "duration": 3,
    "start_time": "2024-06-19T07:42:57.894Z"
   },
   {
    "duration": 15,
    "start_time": "2024-06-19T07:42:57.898Z"
   },
   {
    "duration": 32,
    "start_time": "2024-06-19T07:42:57.915Z"
   },
   {
    "duration": 1061,
    "start_time": "2024-06-19T07:42:57.950Z"
   },
   {
    "duration": 479,
    "start_time": "2024-06-19T07:42:59.013Z"
   },
   {
    "duration": 226,
    "start_time": "2024-06-19T07:42:59.494Z"
   },
   {
    "duration": 517,
    "start_time": "2024-06-19T07:42:59.722Z"
   },
   {
    "duration": 22,
    "start_time": "2024-06-19T07:43:00.244Z"
   },
   {
    "duration": 150,
    "start_time": "2024-06-19T07:43:00.272Z"
   },
   {
    "duration": 21,
    "start_time": "2024-06-19T07:43:00.457Z"
   },
   {
    "duration": 82,
    "start_time": "2024-06-19T07:43:00.481Z"
   },
   {
    "duration": 29,
    "start_time": "2024-06-19T07:43:00.564Z"
   },
   {
    "duration": 26,
    "start_time": "2024-06-19T07:43:00.596Z"
   },
   {
    "duration": 51,
    "start_time": "2024-06-19T07:43:00.624Z"
   },
   {
    "duration": 8253,
    "start_time": "2024-06-19T07:43:00.678Z"
   },
   {
    "duration": 6,
    "start_time": "2024-06-19T07:43:08.933Z"
   },
   {
    "duration": 466,
    "start_time": "2024-06-19T07:43:08.941Z"
   },
   {
    "duration": 4,
    "start_time": "2024-06-19T07:43:09.409Z"
   },
   {
    "duration": 68,
    "start_time": "2024-06-19T07:43:09.415Z"
   },
   {
    "duration": 5,
    "start_time": "2024-06-19T07:43:09.485Z"
   },
   {
    "duration": 770,
    "start_time": "2024-06-19T07:43:09.492Z"
   },
   {
    "duration": 10,
    "start_time": "2024-06-19T07:43:10.265Z"
   },
   {
    "duration": 46,
    "start_time": "2024-06-19T07:43:10.277Z"
   },
   {
    "duration": 5,
    "start_time": "2024-06-19T07:43:10.325Z"
   },
   {
    "duration": 2132,
    "start_time": "2024-06-19T07:43:10.332Z"
   },
   {
    "duration": 4,
    "start_time": "2024-06-19T07:43:12.466Z"
   },
   {
    "duration": 32,
    "start_time": "2024-06-19T07:43:12.477Z"
   },
   {
    "duration": 21,
    "start_time": "2024-06-19T07:43:12.511Z"
   },
   {
    "duration": 5,
    "start_time": "2024-06-19T07:43:12.534Z"
   },
   {
    "duration": 19,
    "start_time": "2024-06-19T07:43:12.541Z"
   },
   {
    "duration": 6,
    "start_time": "2024-06-19T07:43:12.563Z"
   },
   {
    "duration": 25,
    "start_time": "2024-06-19T07:43:12.574Z"
   },
   {
    "duration": 48,
    "start_time": "2024-06-19T07:43:12.601Z"
   },
   {
    "duration": 685816,
    "start_time": "2024-06-19T07:43:12.651Z"
   },
   {
    "duration": 700793,
    "start_time": "2024-06-19T07:54:38.469Z"
   },
   {
    "duration": 1604,
    "start_time": "2024-06-19T08:08:50.748Z"
   },
   {
    "duration": 5,
    "start_time": "2024-06-19T08:08:52.354Z"
   },
   {
    "duration": 6,
    "start_time": "2024-06-19T08:08:52.361Z"
   },
   {
    "duration": 8,
    "start_time": "2024-06-19T08:08:52.369Z"
   },
   {
    "duration": 992,
    "start_time": "2024-06-19T08:08:52.380Z"
   },
   {
    "duration": 458,
    "start_time": "2024-06-19T08:08:53.375Z"
   },
   {
    "duration": 227,
    "start_time": "2024-06-19T08:08:53.835Z"
   },
   {
    "duration": 455,
    "start_time": "2024-06-19T08:08:54.065Z"
   },
   {
    "duration": 8,
    "start_time": "2024-06-19T08:08:54.522Z"
   },
   {
    "duration": 82,
    "start_time": "2024-06-19T08:08:54.531Z"
   },
   {
    "duration": 5,
    "start_time": "2024-06-19T08:08:54.658Z"
   },
   {
    "duration": 49,
    "start_time": "2024-06-19T08:08:54.665Z"
   },
   {
    "duration": 19,
    "start_time": "2024-06-19T08:08:54.716Z"
   },
   {
    "duration": 31,
    "start_time": "2024-06-19T08:08:54.738Z"
   },
   {
    "duration": 20,
    "start_time": "2024-06-19T08:08:54.772Z"
   },
   {
    "duration": 6577,
    "start_time": "2024-06-19T08:08:54.794Z"
   },
   {
    "duration": 7,
    "start_time": "2024-06-19T08:09:01.373Z"
   },
   {
    "duration": 407,
    "start_time": "2024-06-19T08:09:01.382Z"
   },
   {
    "duration": 4,
    "start_time": "2024-06-19T08:09:01.791Z"
   },
   {
    "duration": 80,
    "start_time": "2024-06-19T08:09:01.798Z"
   },
   {
    "duration": 60,
    "start_time": "2024-06-19T08:09:01.880Z"
   },
   {
    "duration": 680,
    "start_time": "2024-06-19T08:09:01.941Z"
   },
   {
    "duration": 6,
    "start_time": "2024-06-19T08:09:02.623Z"
   },
   {
    "duration": 60,
    "start_time": "2024-06-19T08:09:02.631Z"
   },
   {
    "duration": 5,
    "start_time": "2024-06-19T08:09:02.693Z"
   },
   {
    "duration": 2002,
    "start_time": "2024-06-19T08:09:02.700Z"
   },
   {
    "duration": 4,
    "start_time": "2024-06-19T08:09:04.703Z"
   },
   {
    "duration": 13,
    "start_time": "2024-06-19T08:09:04.708Z"
   },
   {
    "duration": 11,
    "start_time": "2024-06-19T08:09:04.722Z"
   },
   {
    "duration": 25,
    "start_time": "2024-06-19T08:09:04.735Z"
   },
   {
    "duration": 35,
    "start_time": "2024-06-19T08:09:04.762Z"
   },
   {
    "duration": 8,
    "start_time": "2024-06-19T08:09:04.799Z"
   },
   {
    "duration": 53,
    "start_time": "2024-06-19T08:09:04.809Z"
   },
   {
    "duration": 15,
    "start_time": "2024-06-19T08:09:04.864Z"
   },
   {
    "duration": 25461281,
    "start_time": "2024-06-19T08:09:04.881Z"
   },
   {
    "duration": 1492,
    "start_time": "2024-06-19T15:19:01.816Z"
   },
   {
    "duration": 2,
    "start_time": "2024-06-19T15:19:03.310Z"
   },
   {
    "duration": 6,
    "start_time": "2024-06-19T15:19:03.314Z"
   },
   {
    "duration": 4,
    "start_time": "2024-06-19T15:19:03.323Z"
   },
   {
    "duration": 901,
    "start_time": "2024-06-19T15:19:03.329Z"
   },
   {
    "duration": 440,
    "start_time": "2024-06-19T15:19:04.232Z"
   },
   {
    "duration": 203,
    "start_time": "2024-06-19T15:19:04.673Z"
   },
   {
    "duration": 415,
    "start_time": "2024-06-19T15:19:04.877Z"
   },
   {
    "duration": 9,
    "start_time": "2024-06-19T15:19:05.293Z"
   },
   {
    "duration": 71,
    "start_time": "2024-06-19T15:19:05.305Z"
   },
   {
    "duration": 3,
    "start_time": "2024-06-19T15:19:05.378Z"
   },
   {
    "duration": 33,
    "start_time": "2024-06-19T15:19:05.382Z"
   },
   {
    "duration": 54,
    "start_time": "2024-06-19T15:19:05.417Z"
   },
   {
    "duration": 23,
    "start_time": "2024-06-19T15:19:05.473Z"
   },
   {
    "duration": 10,
    "start_time": "2024-06-19T15:19:05.498Z"
   },
   {
    "duration": 6218,
    "start_time": "2024-06-19T15:19:05.510Z"
   },
   {
    "duration": 7,
    "start_time": "2024-06-19T15:19:11.731Z"
   },
   {
    "duration": 328,
    "start_time": "2024-06-19T15:19:11.755Z"
   },
   {
    "duration": 6,
    "start_time": "2024-06-19T15:19:12.085Z"
   },
   {
    "duration": 43,
    "start_time": "2024-06-19T15:19:12.093Z"
   },
   {
    "duration": 5,
    "start_time": "2024-06-19T15:19:12.138Z"
   },
   {
    "duration": 655,
    "start_time": "2024-06-19T15:19:12.145Z"
   },
   {
    "duration": 7,
    "start_time": "2024-06-19T15:19:12.802Z"
   },
   {
    "duration": 60,
    "start_time": "2024-06-19T15:19:12.811Z"
   },
   {
    "duration": 5,
    "start_time": "2024-06-19T15:19:12.873Z"
   },
   {
    "duration": 2795,
    "start_time": "2024-06-19T15:19:12.880Z"
   },
   {
    "duration": 4,
    "start_time": "2024-06-19T15:19:15.676Z"
   },
   {
    "duration": 8,
    "start_time": "2024-06-19T15:19:15.683Z"
   },
   {
    "duration": 65,
    "start_time": "2024-06-19T15:19:15.693Z"
   },
   {
    "duration": 7,
    "start_time": "2024-06-19T15:19:15.759Z"
   },
   {
    "duration": 20,
    "start_time": "2024-06-19T15:19:15.768Z"
   },
   {
    "duration": 4,
    "start_time": "2024-06-19T15:19:15.790Z"
   },
   {
    "duration": 61,
    "start_time": "2024-06-19T15:19:15.795Z"
   },
   {
    "duration": 7,
    "start_time": "2024-06-19T15:19:15.858Z"
   },
   {
    "duration": 1587089,
    "start_time": "2024-06-19T15:19:15.867Z"
   },
   {
    "duration": 1622304,
    "start_time": "2024-06-19T15:45:42.960Z"
   },
   {
    "duration": 127,
    "start_time": "2024-06-19T16:20:11.121Z"
   },
   {
    "duration": 10,
    "start_time": "2024-06-19T16:20:27.466Z"
   },
   {
    "duration": 11,
    "start_time": "2024-06-19T16:25:10.713Z"
   },
   {
    "duration": 10,
    "start_time": "2024-06-19T16:28:02.300Z"
   },
   {
    "duration": 12,
    "start_time": "2024-06-19T16:28:12.637Z"
   },
   {
    "duration": 10,
    "start_time": "2024-06-19T16:28:24.233Z"
   },
   {
    "duration": 12,
    "start_time": "2024-06-19T16:31:38.231Z"
   },
   {
    "duration": 3,
    "start_time": "2024-06-19T16:36:08.655Z"
   },
   {
    "duration": 4,
    "start_time": "2024-06-19T16:36:22.509Z"
   },
   {
    "duration": 5,
    "start_time": "2024-06-19T16:36:45.403Z"
   },
   {
    "duration": 4,
    "start_time": "2024-06-19T16:36:48.627Z"
   },
   {
    "duration": 5,
    "start_time": "2024-06-19T16:36:54.634Z"
   },
   {
    "duration": 4,
    "start_time": "2024-06-19T16:36:58.545Z"
   },
   {
    "duration": 5,
    "start_time": "2024-06-19T16:38:28.723Z"
   },
   {
    "duration": 4,
    "start_time": "2024-06-19T16:38:31.506Z"
   },
   {
    "duration": 5,
    "start_time": "2024-06-19T16:41:45.197Z"
   },
   {
    "duration": 4,
    "start_time": "2024-06-19T16:41:57.795Z"
   },
   {
    "duration": 1551,
    "start_time": "2024-06-19T16:42:56.438Z"
   },
   {
    "duration": 3,
    "start_time": "2024-06-19T16:42:57.992Z"
   },
   {
    "duration": 4,
    "start_time": "2024-06-19T16:42:57.997Z"
   },
   {
    "duration": 6,
    "start_time": "2024-06-19T16:42:58.002Z"
   },
   {
    "duration": 925,
    "start_time": "2024-06-19T16:42:58.009Z"
   },
   {
    "duration": 433,
    "start_time": "2024-06-19T16:42:58.935Z"
   },
   {
    "duration": 208,
    "start_time": "2024-06-19T16:42:59.370Z"
   },
   {
    "duration": 418,
    "start_time": "2024-06-19T16:42:59.580Z"
   },
   {
    "duration": 9,
    "start_time": "2024-06-19T16:43:00.000Z"
   },
   {
    "duration": 112,
    "start_time": "2024-06-19T16:43:00.012Z"
   },
   {
    "duration": 58,
    "start_time": "2024-06-19T16:43:00.156Z"
   },
   {
    "duration": 143,
    "start_time": "2024-06-19T16:43:00.216Z"
   },
   {
    "duration": 48,
    "start_time": "2024-06-19T16:43:00.361Z"
   },
   {
    "duration": 142,
    "start_time": "2024-06-19T16:43:00.411Z"
   },
   {
    "duration": 177,
    "start_time": "2024-06-19T16:43:00.555Z"
   },
   {
    "duration": 6197,
    "start_time": "2024-06-19T16:43:00.734Z"
   },
   {
    "duration": 6,
    "start_time": "2024-06-19T16:43:06.933Z"
   },
   {
    "duration": 362,
    "start_time": "2024-06-19T16:43:06.940Z"
   },
   {
    "duration": 4,
    "start_time": "2024-06-19T16:43:07.304Z"
   },
   {
    "duration": 39,
    "start_time": "2024-06-19T16:43:07.310Z"
   },
   {
    "duration": 4,
    "start_time": "2024-06-19T16:43:07.351Z"
   },
   {
    "duration": 623,
    "start_time": "2024-06-19T16:43:07.357Z"
   },
   {
    "duration": 8,
    "start_time": "2024-06-19T16:43:07.981Z"
   },
   {
    "duration": 44,
    "start_time": "2024-06-19T16:43:07.990Z"
   },
   {
    "duration": 20,
    "start_time": "2024-06-19T16:43:08.036Z"
   },
   {
    "duration": 1894,
    "start_time": "2024-06-19T16:43:08.058Z"
   },
   {
    "duration": 4,
    "start_time": "2024-06-19T16:43:09.954Z"
   },
   {
    "duration": 10,
    "start_time": "2024-06-19T16:43:09.962Z"
   },
   {
    "duration": 8,
    "start_time": "2024-06-19T16:43:09.974Z"
   },
   {
    "duration": 13,
    "start_time": "2024-06-19T16:43:09.983Z"
   },
   {
    "duration": 23,
    "start_time": "2024-06-19T16:43:09.998Z"
   },
   {
    "duration": 16,
    "start_time": "2024-06-19T16:43:10.022Z"
   },
   {
    "duration": 23,
    "start_time": "2024-06-19T16:43:10.040Z"
   },
   {
    "duration": 20,
    "start_time": "2024-06-19T16:43:10.065Z"
   },
   {
    "duration": 1537,
    "start_time": "2024-06-19T16:43:30.850Z"
   },
   {
    "duration": 2,
    "start_time": "2024-06-19T16:43:32.389Z"
   },
   {
    "duration": 34,
    "start_time": "2024-06-19T16:43:32.393Z"
   },
   {
    "duration": 20,
    "start_time": "2024-06-19T16:43:32.429Z"
   },
   {
    "duration": 925,
    "start_time": "2024-06-19T16:43:32.451Z"
   },
   {
    "duration": 417,
    "start_time": "2024-06-19T16:43:33.378Z"
   },
   {
    "duration": 209,
    "start_time": "2024-06-19T16:43:33.796Z"
   },
   {
    "duration": 414,
    "start_time": "2024-06-19T16:43:34.007Z"
   },
   {
    "duration": 9,
    "start_time": "2024-06-19T16:43:34.422Z"
   },
   {
    "duration": 48,
    "start_time": "2024-06-19T16:43:34.433Z"
   },
   {
    "duration": 3,
    "start_time": "2024-06-19T16:43:34.483Z"
   },
   {
    "duration": 73,
    "start_time": "2024-06-19T16:43:34.488Z"
   },
   {
    "duration": 23,
    "start_time": "2024-06-19T16:43:34.562Z"
   },
   {
    "duration": 6,
    "start_time": "2024-06-19T16:43:34.587Z"
   },
   {
    "duration": 30,
    "start_time": "2024-06-19T16:43:34.595Z"
   },
   {
    "duration": 6219,
    "start_time": "2024-06-19T16:43:34.627Z"
   },
   {
    "duration": 6,
    "start_time": "2024-06-19T16:43:40.849Z"
   },
   {
    "duration": 353,
    "start_time": "2024-06-19T16:43:40.856Z"
   },
   {
    "duration": 4,
    "start_time": "2024-06-19T16:43:41.211Z"
   },
   {
    "duration": 45,
    "start_time": "2024-06-19T16:43:41.217Z"
   },
   {
    "duration": 5,
    "start_time": "2024-06-19T16:43:41.264Z"
   },
   {
    "duration": 613,
    "start_time": "2024-06-19T16:43:41.272Z"
   },
   {
    "duration": 7,
    "start_time": "2024-06-19T16:43:41.887Z"
   },
   {
    "duration": 44,
    "start_time": "2024-06-19T16:43:41.896Z"
   },
   {
    "duration": 13,
    "start_time": "2024-06-19T16:43:41.942Z"
   },
   {
    "duration": 1906,
    "start_time": "2024-06-19T16:43:41.957Z"
   },
   {
    "duration": 4,
    "start_time": "2024-06-19T16:43:43.865Z"
   },
   {
    "duration": 5,
    "start_time": "2024-06-19T16:43:43.872Z"
   },
   {
    "duration": 14,
    "start_time": "2024-06-19T16:43:43.879Z"
   },
   {
    "duration": 8,
    "start_time": "2024-06-19T16:43:43.895Z"
   },
   {
    "duration": 12,
    "start_time": "2024-06-19T16:43:43.905Z"
   },
   {
    "duration": 17,
    "start_time": "2024-06-19T16:43:43.919Z"
   },
   {
    "duration": 36,
    "start_time": "2024-06-19T16:43:43.938Z"
   },
   {
    "duration": 0,
    "start_time": "2024-06-19T16:43:43.975Z"
   },
   {
    "duration": 0,
    "start_time": "2024-06-19T16:43:43.977Z"
   },
   {
    "duration": 0,
    "start_time": "2024-06-19T16:43:43.978Z"
   },
   {
    "duration": 0,
    "start_time": "2024-06-19T16:43:43.979Z"
   },
   {
    "duration": 0,
    "start_time": "2024-06-19T16:43:43.980Z"
   },
   {
    "duration": 5,
    "start_time": "2024-06-19T16:44:03.934Z"
   },
   {
    "duration": 5,
    "start_time": "2024-06-19T16:44:06.201Z"
   },
   {
    "duration": 53221,
    "start_time": "2024-06-19T16:44:08.640Z"
   },
   {
    "duration": 297,
    "start_time": "2024-06-19T16:45:01.864Z"
   },
   {
    "duration": 11,
    "start_time": "2024-06-19T16:46:58.731Z"
   },
   {
    "duration": 42210,
    "start_time": "2024-06-19T16:47:11.247Z"
   },
   {
    "duration": 94,
    "start_time": "2024-06-19T16:47:53.461Z"
   },
   {
    "duration": 10,
    "start_time": "2024-06-19T16:48:22.221Z"
   },
   {
    "duration": 6,
    "start_time": "2024-06-19T16:50:16.769Z"
   },
   {
    "duration": 6,
    "start_time": "2024-06-19T16:50:39.148Z"
   },
   {
    "duration": 5,
    "start_time": "2024-06-19T16:50:47.285Z"
   },
   {
    "duration": 12,
    "start_time": "2024-06-19T16:51:20.156Z"
   },
   {
    "duration": 5,
    "start_time": "2024-06-19T16:51:42.204Z"
   },
   {
    "duration": 9,
    "start_time": "2024-06-19T16:51:45.528Z"
   },
   {
    "duration": 9,
    "start_time": "2024-06-19T16:52:21.386Z"
   },
   {
    "duration": 11,
    "start_time": "2024-06-19T16:52:24.500Z"
   },
   {
    "duration": 11,
    "start_time": "2024-06-19T16:53:16.350Z"
   },
   {
    "duration": 5,
    "start_time": "2024-06-19T16:53:35.441Z"
   },
   {
    "duration": 12,
    "start_time": "2024-06-19T16:53:43.389Z"
   },
   {
    "duration": 13,
    "start_time": "2024-06-19T16:53:56.923Z"
   },
   {
    "duration": 6,
    "start_time": "2024-06-19T16:54:04.365Z"
   },
   {
    "duration": 1476,
    "start_time": "2024-06-19T16:57:58.394Z"
   },
   {
    "duration": 3,
    "start_time": "2024-06-19T16:57:59.872Z"
   },
   {
    "duration": 22,
    "start_time": "2024-06-19T16:57:59.876Z"
   },
   {
    "duration": 23,
    "start_time": "2024-06-19T16:57:59.900Z"
   },
   {
    "duration": 946,
    "start_time": "2024-06-19T16:57:59.925Z"
   },
   {
    "duration": 430,
    "start_time": "2024-06-19T16:58:00.873Z"
   },
   {
    "duration": 194,
    "start_time": "2024-06-19T16:58:01.305Z"
   },
   {
    "duration": 409,
    "start_time": "2024-06-19T16:58:01.500Z"
   },
   {
    "duration": 10,
    "start_time": "2024-06-19T16:58:01.910Z"
   },
   {
    "duration": 64,
    "start_time": "2024-06-19T16:58:01.922Z"
   },
   {
    "duration": 3,
    "start_time": "2024-06-19T16:58:01.988Z"
   },
   {
    "duration": 81,
    "start_time": "2024-06-19T16:58:01.993Z"
   },
   {
    "duration": 19,
    "start_time": "2024-06-19T16:58:02.075Z"
   },
   {
    "duration": 22,
    "start_time": "2024-06-19T16:58:02.095Z"
   },
   {
    "duration": 40,
    "start_time": "2024-06-19T16:58:02.118Z"
   },
   {
    "duration": 6441,
    "start_time": "2024-06-19T16:58:02.159Z"
   },
   {
    "duration": 8,
    "start_time": "2024-06-19T16:58:08.602Z"
   },
   {
    "duration": 460,
    "start_time": "2024-06-19T16:58:08.612Z"
   },
   {
    "duration": 4,
    "start_time": "2024-06-19T16:58:09.074Z"
   },
   {
    "duration": 27,
    "start_time": "2024-06-19T16:58:09.080Z"
   },
   {
    "duration": 6,
    "start_time": "2024-06-19T16:58:09.109Z"
   },
   {
    "duration": 655,
    "start_time": "2024-06-19T16:58:09.116Z"
   },
   {
    "duration": 6,
    "start_time": "2024-06-19T16:58:09.773Z"
   },
   {
    "duration": 42,
    "start_time": "2024-06-19T16:58:09.781Z"
   },
   {
    "duration": 5,
    "start_time": "2024-06-19T16:58:09.825Z"
   },
   {
    "duration": 1898,
    "start_time": "2024-06-19T16:58:09.832Z"
   },
   {
    "duration": 3,
    "start_time": "2024-06-19T16:58:11.732Z"
   },
   {
    "duration": 12,
    "start_time": "2024-06-19T16:58:11.738Z"
   },
   {
    "duration": 24,
    "start_time": "2024-06-19T16:58:11.752Z"
   },
   {
    "duration": 27,
    "start_time": "2024-06-19T16:58:11.777Z"
   },
   {
    "duration": 48,
    "start_time": "2024-06-19T16:58:11.806Z"
   },
   {
    "duration": 50,
    "start_time": "2024-06-19T16:58:11.855Z"
   },
   {
    "duration": 30,
    "start_time": "2024-06-19T16:58:11.907Z"
   },
   {
    "duration": 0,
    "start_time": "2024-06-19T16:58:11.940Z"
   },
   {
    "duration": 0,
    "start_time": "2024-06-19T16:58:11.942Z"
   },
   {
    "duration": 0,
    "start_time": "2024-06-19T16:58:11.944Z"
   },
   {
    "duration": 0,
    "start_time": "2024-06-19T16:58:11.945Z"
   },
   {
    "duration": 0,
    "start_time": "2024-06-19T16:58:11.947Z"
   },
   {
    "duration": 0,
    "start_time": "2024-06-19T16:58:11.949Z"
   },
   {
    "duration": 1478,
    "start_time": "2024-06-19T17:02:33.789Z"
   },
   {
    "duration": 3,
    "start_time": "2024-06-19T17:02:35.269Z"
   },
   {
    "duration": 33,
    "start_time": "2024-06-19T17:02:35.273Z"
   },
   {
    "duration": 20,
    "start_time": "2024-06-19T17:02:35.308Z"
   },
   {
    "duration": 969,
    "start_time": "2024-06-19T17:02:35.330Z"
   },
   {
    "duration": 455,
    "start_time": "2024-06-19T17:02:36.301Z"
   },
   {
    "duration": 186,
    "start_time": "2024-06-19T17:02:36.758Z"
   },
   {
    "duration": 430,
    "start_time": "2024-06-19T17:02:36.945Z"
   },
   {
    "duration": 11,
    "start_time": "2024-06-19T17:02:37.377Z"
   },
   {
    "duration": 83,
    "start_time": "2024-06-19T17:02:37.391Z"
   },
   {
    "duration": 4,
    "start_time": "2024-06-19T17:02:37.476Z"
   },
   {
    "duration": 78,
    "start_time": "2024-06-19T17:02:37.482Z"
   },
   {
    "duration": 19,
    "start_time": "2024-06-19T17:02:37.561Z"
   },
   {
    "duration": 15,
    "start_time": "2024-06-19T17:02:37.581Z"
   },
   {
    "duration": 28,
    "start_time": "2024-06-19T17:02:37.597Z"
   },
   {
    "duration": 6162,
    "start_time": "2024-06-19T17:02:37.627Z"
   },
   {
    "duration": 6,
    "start_time": "2024-06-19T17:02:43.792Z"
   },
   {
    "duration": 382,
    "start_time": "2024-06-19T17:02:43.800Z"
   },
   {
    "duration": 4,
    "start_time": "2024-06-19T17:02:44.184Z"
   },
   {
    "duration": 34,
    "start_time": "2024-06-19T17:02:44.190Z"
   },
   {
    "duration": 4,
    "start_time": "2024-06-19T17:02:44.226Z"
   },
   {
    "duration": 640,
    "start_time": "2024-06-19T17:02:44.232Z"
   },
   {
    "duration": 7,
    "start_time": "2024-06-19T17:02:44.874Z"
   },
   {
    "duration": 44,
    "start_time": "2024-06-19T17:02:44.883Z"
   },
   {
    "duration": 5,
    "start_time": "2024-06-19T17:02:44.928Z"
   },
   {
    "duration": 2225,
    "start_time": "2024-06-19T17:02:44.934Z"
   },
   {
    "duration": 4,
    "start_time": "2024-06-19T17:02:47.161Z"
   },
   {
    "duration": 5,
    "start_time": "2024-06-19T17:02:47.168Z"
   },
   {
    "duration": 15,
    "start_time": "2024-06-19T17:02:47.175Z"
   },
   {
    "duration": 16,
    "start_time": "2024-06-19T17:02:47.192Z"
   },
   {
    "duration": 56,
    "start_time": "2024-06-19T17:02:47.210Z"
   },
   {
    "duration": 3,
    "start_time": "2024-06-19T17:02:47.268Z"
   },
   {
    "duration": 8,
    "start_time": "2024-06-19T17:02:47.272Z"
   },
   {
    "duration": 23,
    "start_time": "2024-06-19T17:02:47.282Z"
   },
   {
    "duration": 1556257,
    "start_time": "2024-06-19T17:02:47.306Z"
   },
   {
    "duration": 1611691,
    "start_time": "2024-06-19T17:28:43.566Z"
   },
   {
    "duration": 96,
    "start_time": "2024-06-19T17:55:35.263Z"
   },
   {
    "duration": 97,
    "start_time": "2024-06-19T17:55:35.361Z"
   },
   {
    "duration": 96,
    "start_time": "2024-06-19T17:55:35.460Z"
   }
  ],
  "kernelspec": {
   "display_name": "Python 3 (ipykernel)",
   "language": "python",
   "name": "python3"
  },
  "language_info": {
   "codemirror_mode": {
    "name": "ipython",
    "version": 3
   },
   "file_extension": ".py",
   "mimetype": "text/x-python",
   "name": "python",
   "nbconvert_exporter": "python",
   "pygments_lexer": "ipython3",
   "version": "3.9.5"
  },
  "toc": {
   "base_numbering": 1,
   "nav_menu": {},
   "number_sections": true,
   "sideBar": true,
   "skip_h1_title": true,
   "title_cell": "Table of Contents",
   "title_sidebar": "Contents",
   "toc_cell": false,
   "toc_position": {
    "height": "calc(100% - 180px)",
    "left": "10px",
    "top": "150px",
    "width": "426.667px"
   },
   "toc_section_display": true,
   "toc_window_display": true
  }
 },
 "nbformat": 4,
 "nbformat_minor": 5
}
