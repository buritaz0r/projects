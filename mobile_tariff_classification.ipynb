{
 "cells": [
  {
   "cell_type": "code",
   "execution_count": 1,
   "id": "f03e66ba",
   "metadata": {},
   "outputs": [],
   "source": [
    "# Импортируем необходимые библиотеки\n",
    "import pandas as pd\n",
    "import numpy as np\n",
    "\n",
    "from sklearn.ensemble import RandomForestClassifier, GradientBoostingClassifier\n",
    "from sklearn.tree import DecisionTreeClassifier\n",
    "from sklearn.metrics import accuracy_score\n",
    "from sklearn.dummy import DummyClassifier\n",
    "from sklearn.model_selection import train_test_split, GridSearchCV, StratifiedKFold, cross_val_score\n",
    "\n",
    "from xgboost import XGBClassifier\n",
    "from catboost import CatBoostClassifier\n",
    "\n",
    "import lightgbm as lgb\n",
    "\n",
    "RANDOM_STATE = 12345"
   ]
  },
  {
   "cell_type": "markdown",
   "id": "3af3b947",
   "metadata": {},
   "source": [
    "## Обзор данных"
   ]
  },
  {
   "cell_type": "code",
   "execution_count": 1,
   "id": "1fdb783b",
   "metadata": {},
   "outputs": [
    {
     "ename": "NameError",
     "evalue": "name 'pd' is not defined",
     "output_type": "error",
     "traceback": [
      "\u001b[0;31m---------------------------------------------------------------------------\u001b[0m",
      "\u001b[0;31mNameError\u001b[0m                                 Traceback (most recent call last)",
      "\u001b[0;32m/tmp/ipykernel_158/577673956.py\u001b[0m in \u001b[0;36m<module>\u001b[0;34m\u001b[0m\n\u001b[1;32m      1\u001b[0m \u001b[0;31m# Открываем файл с данными\u001b[0m\u001b[0;34m\u001b[0m\u001b[0;34m\u001b[0m\u001b[0;34m\u001b[0m\u001b[0m\n\u001b[1;32m      2\u001b[0m \u001b[0mfile_path\u001b[0m \u001b[0;34m=\u001b[0m \u001b[0;34m'/datasets/Churn.csv'\u001b[0m\u001b[0;34m\u001b[0m\u001b[0;34m\u001b[0m\u001b[0m\n\u001b[0;32m----> 3\u001b[0;31m \u001b[0mdf\u001b[0m \u001b[0;34m=\u001b[0m \u001b[0mpd\u001b[0m\u001b[0;34m.\u001b[0m\u001b[0mread_csv\u001b[0m\u001b[0;34m(\u001b[0m\u001b[0mfile_path\u001b[0m\u001b[0;34m)\u001b[0m\u001b[0;34m\u001b[0m\u001b[0;34m\u001b[0m\u001b[0m\n\u001b[0m\u001b[1;32m      4\u001b[0m \u001b[0;34m\u001b[0m\u001b[0m\n\u001b[1;32m      5\u001b[0m \u001b[0;31m# Изучаем первые несколько строк данных\u001b[0m\u001b[0;34m\u001b[0m\u001b[0;34m\u001b[0m\u001b[0;34m\u001b[0m\u001b[0m\n",
      "\u001b[0;31mNameError\u001b[0m: name 'pd' is not defined"
     ]
    }
   ],
   "source": [
    "# Открываем файл с данными\n",
    "file_path = '/datasets/users_behavior.csv'\n",
    "df = pd.read_csv(file_path)\n",
    "\n",
    "# Изучаем первые несколько строк данных\n",
    "print(\"Первые несколько строк данных:\")\n",
    "display(df.head())\n",
    "\n",
    "# Выводим общую информацию о данных\n",
    "print(\"\\nОбщая информация о данных:\")\n",
    "df.info()\n",
    "\n",
    "# Описательная статистика по данным\n",
    "print(\"\\nОписательная статистика данных:\")\n",
    "display(df.describe().T)\n",
    "\n",
    "# Проверка на наличие пропущенных значений\n",
    "missing_values_count = df.isnull().sum().sum()\n",
    "print(\"\\nКоличество пропущенных значений в данных:\", missing_values_count)\n",
    "\n",
    "# Проверка на наличие дубликатов\n",
    "duplicate_count = df.duplicated().sum()\n",
    "print(\"\\nКоличество дубликатов в данных:\", duplicate_count)"
   ]
  },
  {
   "cell_type": "markdown",
   "id": "5a088266",
   "metadata": {},
   "source": [
    "**Вывод:**\n",
    "\n",
    "1. Датасет содержит 3214 записей и 5 столбцов.\n",
    "\n",
    "Каждый объект в наборе данных представляет собой информацию о поведении одного пользователя за один месяц. В каждой строке содержатся следующие данные:\n",
    "\n",
    "- `calls` — количество звонков, сделанных пользователем.\n",
    "- `minutes` — суммарная длительность звонков в минутах.\n",
    "- `messages` — количество отправленных SMS-сообщений.\n",
    "- `mb_used` — объем использованного интернет-трафика в мегабайтах.\n",
    "- `is_ultra` — индикатор используемого тарифа (1 — тариф \"Ультра\", 0 — тариф \"Смарт\").\n",
    "\n",
    "2. Пропущенные значения отсутствуют, что означает, что все данные заполнены.\n",
    "3. Дубликаты также отсутствуют, что указывает на то, что все записи уникальны.\n",
    "4. Основные статистические характеристики данных:\n",
    "   - В среднем пользователи совершают 63 звонка, разговаривают 438 минут, отправляют 38 сообщений и используют 17207 Мб интернет-трафика в месяц.\n",
    "   - Значения показателей варьируются в широких пределах: от 0 до 244 звонков, от 0 до 1632 минут разговоров, от 0 до 224 сообщений и от 0 до 49745 Мб интернет-трафика.\n",
    "   - Примерно 30.65% пользователей используют тариф \"Ультра\", остальные 69.35% — тариф \"Смарт\".\n",
    "\n",
    "Эти данные можно использовать для дальнейшего анализа и построения модели машинного обучения для рекомендации тарифов.\n"
   ]
  },
  {
   "cell_type": "markdown",
   "id": "bf8f6df0",
   "metadata": {},
   "source": [
    "## Разделение данных на выборки"
   ]
  },
  {
   "cell_type": "code",
   "execution_count": 3,
   "id": "56deb8a5",
   "metadata": {},
   "outputs": [
    {
     "name": "stdout",
     "output_type": "stream",
     "text": [
      "Размер обучающей выборки: 1928 (59.99%)\n",
      "Размер валидационной выборки: 643 (20.01%)\n",
      "Размер тестовой выборки: 643 (20.01%)\n"
     ]
    }
   ],
   "source": [
    "# Определение признаков (X) и целевой переменной (y)\n",
    "X = df.drop('is_ultra', axis=1)\n",
    "y = df['is_ultra']\n",
    "\n",
    "# Разделение данных на обучающую и тестовую выборки \n",
    "X_train, X_test, y_train, y_test = train_test_split(X, y, test_size=0.2, random_state=RANDOM_STATE, stratify=y)\n",
    "\n",
    "# Разделение обучающей выборки на обучающую и валидационную \n",
    "X_train, X_valid, y_train, y_valid = train_test_split(X_train, y_train, test_size=0.25, random_state=RANDOM_STATE, stratify=y_train)\n",
    "\n",
    "# Вычисление размеров выборок\n",
    "train_size = X_train.shape[0]\n",
    "valid_size = X_valid.shape[0]\n",
    "test_size = X_test.shape[0]\n",
    "total_size = X.shape[0]\n",
    "\n",
    "# Вычисление процентного соотношения\n",
    "train_percentage = (train_size / total_size) * 100\n",
    "valid_percentage = (valid_size / total_size) * 100\n",
    "test_percentage = (test_size / total_size) * 100\n",
    "\n",
    "# Вывод информации\n",
    "print(f\"Размер обучающей выборки: {train_size} ({train_percentage:.2f}%)\")\n",
    "print(f\"Размер валидационной выборки: {valid_size} ({valid_percentage:.2f}%)\")\n",
    "print(f\"Размер тестовой выборки: {test_size} ({test_percentage:.2f}%)\")"
   ]
  },
  {
   "cell_type": "code",
   "execution_count": 4,
   "id": "32d6c206",
   "metadata": {},
   "outputs": [
    {
     "name": "stdout",
     "output_type": "stream",
     "text": [
      "Баланс классов в обучающей выборке:\n",
      "- Тариф \"Смарт\": 69.35%\n",
      "- Тариф \"Ультра\": 30.65%\n",
      "\n",
      "Баланс классов в валидационной выборке:\n",
      "- Тариф \"Смарт\": 69.36%\n",
      "- Тариф \"Ультра\": 30.64%\n",
      "\n",
      "Баланс классов в тестовой выборке:\n",
      "- Тариф \"Смарт\": 69.36%\n",
      "- Тариф \"Ультра\": 30.64%\n"
     ]
    }
   ],
   "source": [
    "# Подсчет количества значений в целевой переменной\n",
    "train_class_counts = y_train.value_counts(normalize=True)\n",
    "valid_class_counts = y_valid.value_counts(normalize=True)\n",
    "test_class_counts = y_test.value_counts(normalize=True)\n",
    "\n",
    "# Форматированный вывод баланса классов\n",
    "print(\"Баланс классов в обучающей выборке:\")\n",
    "print(f\"- Тариф \\\"Смарт\\\": {train_class_counts[0]*100:.2f}%\")\n",
    "print(f\"- Тариф \\\"Ультра\\\": {train_class_counts[1]*100:.2f}%\\n\")\n",
    "\n",
    "print(\"Баланс классов в валидационной выборке:\")\n",
    "print(f\"- Тариф \\\"Смарт\\\": {valid_class_counts[0]*100:.2f}%\")\n",
    "print(f\"- Тариф \\\"Ультра\\\": {valid_class_counts[1]*100:.2f}%\\n\")\n",
    "\n",
    "print(\"Баланс классов в тестовой выборке:\")\n",
    "print(f\"- Тариф \\\"Смарт\\\": {test_class_counts[0]*100:.2f}%\")\n",
    "print(f\"- Тариф \\\"Ультра\\\": {test_class_counts[1]*100:.2f}%\")"
   ]
  },
  {
   "cell_type": "markdown",
   "id": "7753a9b0",
   "metadata": {},
   "source": [
    "**Вывод:**\n",
    "\n",
    "Данные были разделены на обучающую и тестовую выборки (соотношение 3:1:1) с использованием параметра stratify, что гарантировало сохранение пропорций классов в этих выборках."
   ]
  },
  {
   "cell_type": "markdown",
   "id": "5560bda7",
   "metadata": {},
   "source": [
    "## Подбор и оценка моделей с различными гиперпараметрами"
   ]
  },
  {
   "cell_type": "code",
   "execution_count": 5,
   "id": "e124c701",
   "metadata": {},
   "outputs": [],
   "source": [
    "# Используемые модели\n",
    "models = {\n",
    "    \"Decision Tree\": DecisionTreeClassifier(random_state=RANDOM_STATE),\n",
    "    \"Random Forest\": RandomForestClassifier(random_state=RANDOM_STATE),\n",
    "    \"Gradient Boosting\": GradientBoostingClassifier(random_state=RANDOM_STATE),\n",
    "    \"LightGBM\": lgb.LGBMClassifier(random_state=RANDOM_STATE),\n",
    "    \"CatBoost\": CatBoostClassifier(random_state=RANDOM_STATE, verbose=0)\n",
    "}"
   ]
  },
  {
   "cell_type": "code",
   "execution_count": 6,
   "id": "41d79870",
   "metadata": {},
   "outputs": [],
   "source": [
    "# Определение сетки гиперпараметров для каждой модели\n",
    "param_grids = {\n",
    "    \"Decision Tree\": {\n",
    "        \"max_depth\": [5, 10, 15],\n",
    "        \"min_samples_split\": [5, 10, 15],\n",
    "        \"class_weight\": ['balanced', None]\n",
    "    },\n",
    "    \"Random Forest\": {\n",
    "        \"n_estimators\": [50, 100, 150],\n",
    "        \"max_depth\": [5, 10, 15],\n",
    "        \"min_samples_split\": [5, 10, 15],\n",
    "        \"class_weight\": ['balanced', None]\n",
    "    },\n",
    "    \"Gradient Boosting\": {\n",
    "        \"n_estimators\": [50, 100, 200],\n",
    "        \"learning_rate\": [0.01, 0.1, 0.5],\n",
    "        \"max_depth\": [3, 5, 10],\n",
    "    },\n",
    "    \"LightGBM\": {\n",
    "        \"n_estimators\": [50, 100, 200],\n",
    "        \"learning_rate\": [0.01, 0.1, 0.5],\n",
    "        \"max_depth\": [3, 5, 10],\n",
    "        \"scale_pos_weight\": [1, 3, 5]\n",
    "    },\n",
    "    \"CatBoost\": {\n",
    "        \"iterations\": [50, 100, 200],\n",
    "        \"learning_rate\": [0.01, 0.1, 0.5],\n",
    "        \"depth\": [3, 5, 10],\n",
    "        \"scale_pos_weight\": [1, 3, 5]\n",
    "    }\n",
    "}"
   ]
  },
  {
   "cell_type": "code",
   "execution_count": 7,
   "id": "c7a6b1aa",
   "metadata": {},
   "outputs": [
    {
     "name": "stdout",
     "output_type": "stream",
     "text": [
      "\n",
      "Подбор гиперпараметров и оценка моделей на валидационной выборке с помощью GridSearchCV:\n",
      "\n",
      "Модель: Decision Tree\n",
      "Лучшие параметры: {'class_weight': None, 'max_depth': 5, 'min_samples_split': 5}\n",
      "Accuracy: 0.8134\n",
      "\n",
      "Модель: Random Forest\n",
      "Лучшие параметры: {'class_weight': None, 'max_depth': 10, 'min_samples_split': 15, 'n_estimators': 150}\n",
      "Accuracy: 0.8243\n",
      "\n",
      "Модель: Gradient Boosting\n",
      "Лучшие параметры: {'learning_rate': 0.1, 'max_depth': 3, 'n_estimators': 100}\n",
      "Accuracy: 0.8149\n",
      "\n",
      "Модель: LightGBM\n",
      "Лучшие параметры: {'learning_rate': 0.1, 'max_depth': 3, 'n_estimators': 50, 'scale_pos_weight': 1}\n",
      "Accuracy: 0.8149\n",
      "\n",
      "Модель: CatBoost\n",
      "Лучшие параметры: {'depth': 3, 'iterations': 200, 'learning_rate': 0.1, 'scale_pos_weight': 1}\n",
      "Accuracy: 0.8180\n",
      "\n"
     ]
    }
   ],
   "source": [
    "# Определение кросс-валидации\n",
    "cv = StratifiedKFold(n_splits=5, shuffle=True, random_state=RANDOM_STATE)\n",
    "\n",
    "# Создание словаря для хранения лучших моделей\n",
    "best_models = {}\n",
    "\n",
    "# GridSearchCV с StratifiedKFold и оценка на валидационной выборке\n",
    "best_model_name = None\n",
    "best_accuracy = 0\n",
    "\n",
    "print(\"\\nПодбор гиперпараметров и оценка моделей на валидационной выборке с помощью GridSearchCV:\\n\")\n",
    "for model_name, model in models.items():\n",
    "    grid_search = GridSearchCV(model, param_grid=param_grids[model_name], scoring='accuracy', cv=cv)\n",
    "    grid_search.fit(X_train, y_train)\n",
    "    best_model = grid_search.best_estimator_\n",
    "    best_models[model_name] = best_model\n",
    "    \n",
    "    print(f\"Модель: {model_name}\")\n",
    "    print(f\"Лучшие параметры: {grid_search.best_params_}\")\n",
    "    \n",
    "    y_valid_pred = best_model.predict(X_valid)\n",
    "    valid_accuracy = accuracy_score(y_valid, y_valid_pred)\n",
    "    \n",
    "    if valid_accuracy > best_accuracy:\n",
    "        best_accuracy = valid_accuracy\n",
    "        best_model_name = model_name\n",
    "    \n",
    "    print(f\"Accuracy: {valid_accuracy:.4f}\\n\")"
   ]
  },
  {
   "cell_type": "code",
   "execution_count": 8,
   "id": "6821964b",
   "metadata": {},
   "outputs": [
    {
     "data": {
      "text/plain": [
       "RandomForestClassifier(max_depth=10, min_samples_split=15, n_estimators=150,\n",
       "                       random_state=12345)"
      ]
     },
     "execution_count": 8,
     "metadata": {},
     "output_type": "execute_result"
    }
   ],
   "source": [
    "# Дообучение лучшей модели на объединенной выборке\n",
    "final_best_model = best_models[best_model_name]\n",
    "\n",
    "X_train_valid = pd.concat([X_train, X_valid])\n",
    "y_train_valid = pd.concat([y_train, y_valid])\n",
    "\n",
    "final_best_model.fit(X_train_valid, y_train_valid)"
   ]
  },
  {
   "cell_type": "markdown",
   "id": "1a81cfe1",
   "metadata": {},
   "source": [
    "## Оценка качества модели на тестовой выборке"
   ]
  },
  {
   "cell_type": "code",
   "execution_count": 9,
   "id": "f08d8cb5",
   "metadata": {
    "scrolled": true
   },
   "outputs": [
    {
     "name": "stdout",
     "output_type": "stream",
     "text": [
      "Accuracy на тестовой выборке: 0.8227\n"
     ]
    }
   ],
   "source": [
    "# Оценка лучшей модели на тестовой выборке\n",
    "y_test_pred = final_best_model.predict(X_test)\n",
    "test_accuracy = accuracy_score(y_test, y_test_pred)\n",
    "\n",
    "print(f\"Accuracy на тестовой выборке: {test_accuracy:.4f}\")"
   ]
  },
  {
   "cell_type": "markdown",
   "id": "fd36a05c",
   "metadata": {},
   "source": [
    "**Вывод:**\n",
    "\n",
    "Итоговая модель достигла значения accuracy на тестовой выборке, равного 0.8227. Это значение превышает установленный порог в 0.75, что указывает на успешное выполнение поставленной задачи."
   ]
  },
  {
   "cell_type": "markdown",
   "id": "d73f39dc",
   "metadata": {},
   "source": [
    "## Проверка модели на адекватность"
   ]
  },
  {
   "cell_type": "code",
   "execution_count": 10,
   "id": "8e41c7e1",
   "metadata": {},
   "outputs": [
    {
     "name": "stdout",
     "output_type": "stream",
     "text": [
      "Accuracy модели DummyClassifier на тестовой выборке: 0.6936\n"
     ]
    }
   ],
   "source": [
    "# Создание и обучение DummyClassifier с параметром strategy='most_frequent'\n",
    "dummy_clf = DummyClassifier(strategy='most_frequent')\n",
    "dummy_clf.fit(X_train, y_train)\n",
    "\n",
    "# Оценка качества модели DummyClassifier на тестовой выборке\n",
    "dummy_accuracy = dummy_clf.score(X_test, y_test)\n",
    "print(f\"Accuracy модели DummyClassifier на тестовой выборке: {dummy_accuracy:.4f}\")"
   ]
  },
  {
   "cell_type": "markdown",
   "id": "2b747197",
   "metadata": {},
   "source": [
    "**Вывод:**\n",
    "\n",
    "Для проверки адекватности модели была использована базовая модель DummyClassifier, которая показала accuracy на тестовой выборке равное 0.6936. Данное значение значительно ниже, чем accuracy итоговой модели (0.8227). Это свидетельствует о том, что наша модель действительно извлекает полезные закономерности из данных и делает осмысленные предсказания, превосходя простую модель, которая делает случайные предсказания."
   ]
  },
  {
   "cell_type": "markdown",
   "id": "1a7b27dd",
   "metadata": {},
   "source": [
    "## Общий вывод\n",
    "\n",
    "Целью проекта было разработать систему, способную проанализировать поведение клиентов мобильного оператора и предложить им новый тариф: «Смарт» или «Ультра». Для успешного завершения проекта требовалось построить модель с долей правильных ответов не менее 75%.\n",
    "\n",
    "Мы сравнили несколько моделей машинного обучения для выбора лучшего тарифа для пользователей мобильного оператора. Были использованы следующие модели: Decision Tree, Random Forest, Gradient Boosting, LightGBM и CatBoost.\n",
    "\n",
    "**Random Forest** оказалась лучшей моделью с точностью около **82.2%** на тестовой выборке, что значительно выше по сравнению с базовым уровнем (предположительно около 69.4%, представленного DummyClassifier).\n",
    "\n",
    "### Рекомендации\n",
    "\n",
    "Рекомендуется использовать модель Random Forest для системы предложения тарифов, поскольку она обеспечивает высокую точность и надежность в прогнозировании. Эта модель может помочь оператору мобильной связи улучшить удовлетворенность клиентов за счет предложения наиболее подходящих тарифных планов."
   ]
  },
  {
   "cell_type": "code",
   "execution_count": null,
   "id": "5205afe0",
   "metadata": {},
   "outputs": [],
   "source": []
  }
 ],
 "metadata": {
  "ExecuteTimeLog": [
   {
    "duration": 51,
    "start_time": "2024-06-08T07:58:53.337Z"
   },
   {
    "duration": 431,
    "start_time": "2024-06-08T07:58:56.063Z"
   },
   {
    "duration": 141,
    "start_time": "2024-06-08T07:58:57.378Z"
   },
   {
    "duration": 73,
    "start_time": "2024-06-08T07:59:10.846Z"
   },
   {
    "duration": 69,
    "start_time": "2024-06-08T07:59:22.119Z"
   },
   {
    "duration": 81,
    "start_time": "2024-06-08T08:00:24.848Z"
   },
   {
    "duration": 70,
    "start_time": "2024-06-08T08:00:38.197Z"
   },
   {
    "duration": 79,
    "start_time": "2024-06-08T08:01:38.600Z"
   },
   {
    "duration": 44,
    "start_time": "2024-06-08T08:30:39.777Z"
   },
   {
    "duration": 11,
    "start_time": "2024-06-08T08:30:49.985Z"
   },
   {
    "duration": 1159,
    "start_time": "2024-06-08T08:30:55.816Z"
   },
   {
    "duration": 79,
    "start_time": "2024-06-08T08:30:56.977Z"
   },
   {
    "duration": 16,
    "start_time": "2024-06-08T08:30:57.057Z"
   },
   {
    "duration": 13,
    "start_time": "2024-06-08T08:44:28.104Z"
   },
   {
    "duration": 1183,
    "start_time": "2024-06-08T08:44:54.314Z"
   },
   {
    "duration": 83,
    "start_time": "2024-06-08T08:44:55.499Z"
   },
   {
    "duration": 15,
    "start_time": "2024-06-08T08:44:55.584Z"
   },
   {
    "duration": 12,
    "start_time": "2024-06-08T08:44:55.602Z"
   },
   {
    "duration": 11,
    "start_time": "2024-06-08T08:45:12.018Z"
   },
   {
    "duration": 10,
    "start_time": "2024-06-08T08:45:14.165Z"
   },
   {
    "duration": 1109,
    "start_time": "2024-06-08T08:45:26.799Z"
   },
   {
    "duration": 89,
    "start_time": "2024-06-08T08:45:27.911Z"
   },
   {
    "duration": 18,
    "start_time": "2024-06-08T08:45:28.003Z"
   },
   {
    "duration": 13,
    "start_time": "2024-06-08T08:45:28.023Z"
   },
   {
    "duration": 11,
    "start_time": "2024-06-08T08:48:48.163Z"
   },
   {
    "duration": 10,
    "start_time": "2024-06-08T08:48:59.844Z"
   },
   {
    "duration": 9,
    "start_time": "2024-06-08T08:49:07.612Z"
   },
   {
    "duration": 1160,
    "start_time": "2024-06-08T09:06:57.390Z"
   },
   {
    "duration": 79,
    "start_time": "2024-06-08T09:06:58.552Z"
   },
   {
    "duration": 12,
    "start_time": "2024-06-08T09:06:58.632Z"
   },
   {
    "duration": 18,
    "start_time": "2024-06-08T09:06:58.645Z"
   },
   {
    "duration": 1113,
    "start_time": "2024-06-08T09:07:59.440Z"
   },
   {
    "duration": 81,
    "start_time": "2024-06-08T09:08:00.556Z"
   },
   {
    "duration": 131,
    "start_time": "2024-06-08T09:08:00.639Z"
   },
   {
    "duration": 239,
    "start_time": "2024-06-08T09:08:00.772Z"
   },
   {
    "duration": 1209,
    "start_time": "2024-06-08T09:10:36.278Z"
   },
   {
    "duration": 88,
    "start_time": "2024-06-08T09:10:37.489Z"
   },
   {
    "duration": 12,
    "start_time": "2024-06-08T09:10:37.578Z"
   },
   {
    "duration": 11,
    "start_time": "2024-06-08T09:10:37.592Z"
   },
   {
    "duration": 3,
    "start_time": "2024-06-08T09:10:37.605Z"
   },
   {
    "duration": 8,
    "start_time": "2024-06-08T09:10:37.609Z"
   },
   {
    "duration": 102939,
    "start_time": "2024-06-08T09:10:37.619Z"
   },
   {
    "duration": 130,
    "start_time": "2024-06-08T09:12:20.559Z"
   },
   {
    "duration": 1183,
    "start_time": "2024-06-08T09:12:53.964Z"
   },
   {
    "duration": 101,
    "start_time": "2024-06-08T09:12:55.150Z"
   },
   {
    "duration": 15,
    "start_time": "2024-06-08T09:12:55.253Z"
   },
   {
    "duration": 51,
    "start_time": "2024-06-08T09:12:55.271Z"
   },
   {
    "duration": 28,
    "start_time": "2024-06-08T09:12:55.323Z"
   },
   {
    "duration": 26,
    "start_time": "2024-06-08T09:12:55.352Z"
   },
   {
    "duration": 103288,
    "start_time": "2024-06-08T09:12:55.380Z"
   },
   {
    "duration": 26,
    "start_time": "2024-06-08T09:14:38.670Z"
   },
   {
    "duration": 17,
    "start_time": "2024-06-08T09:29:27.470Z"
   },
   {
    "duration": 7,
    "start_time": "2024-06-08T09:30:18.120Z"
   },
   {
    "duration": 15,
    "start_time": "2024-06-08T09:30:30.433Z"
   },
   {
    "duration": 1158,
    "start_time": "2024-06-08T09:50:29.240Z"
   },
   {
    "duration": 91,
    "start_time": "2024-06-08T09:50:30.400Z"
   },
   {
    "duration": 35,
    "start_time": "2024-06-08T09:50:30.493Z"
   },
   {
    "duration": 76,
    "start_time": "2024-06-08T09:50:30.529Z"
   },
   {
    "duration": 193,
    "start_time": "2024-06-08T09:50:30.607Z"
   },
   {
    "duration": 58,
    "start_time": "2024-06-08T09:50:30.801Z"
   },
   {
    "duration": 415686,
    "start_time": "2024-06-08T09:50:30.860Z"
   },
   {
    "duration": 51,
    "start_time": "2024-06-08T09:57:26.548Z"
   },
   {
    "duration": 43,
    "start_time": "2024-06-08T09:57:26.602Z"
   },
   {
    "duration": 29,
    "start_time": "2024-06-08T09:57:56.057Z"
   },
   {
    "duration": 1174,
    "start_time": "2024-06-08T09:58:02.879Z"
   },
   {
    "duration": 83,
    "start_time": "2024-06-08T09:58:04.056Z"
   },
   {
    "duration": 12,
    "start_time": "2024-06-08T09:58:04.141Z"
   },
   {
    "duration": 19,
    "start_time": "2024-06-08T09:58:04.155Z"
   },
   {
    "duration": 6,
    "start_time": "2024-06-08T09:58:04.176Z"
   },
   {
    "duration": 9,
    "start_time": "2024-06-08T09:58:04.195Z"
   },
   {
    "duration": 417811,
    "start_time": "2024-06-08T09:58:04.206Z"
   },
   {
    "duration": 35,
    "start_time": "2024-06-08T10:05:02.019Z"
   },
   {
    "duration": 48,
    "start_time": "2024-06-08T10:05:02.056Z"
   },
   {
    "duration": 106,
    "start_time": "2024-06-08T10:20:37.579Z"
   },
   {
    "duration": 1158,
    "start_time": "2024-06-08T10:20:44.592Z"
   },
   {
    "duration": 88,
    "start_time": "2024-06-08T10:20:45.751Z"
   },
   {
    "duration": 12,
    "start_time": "2024-06-08T10:20:45.841Z"
   },
   {
    "duration": 37,
    "start_time": "2024-06-08T10:20:45.855Z"
   },
   {
    "duration": 54,
    "start_time": "2024-06-08T10:20:45.894Z"
   },
   {
    "duration": 27,
    "start_time": "2024-06-08T10:20:45.950Z"
   },
   {
    "duration": 413213,
    "start_time": "2024-06-08T10:20:45.979Z"
   },
   {
    "duration": 33,
    "start_time": "2024-06-08T10:27:39.193Z"
   },
   {
    "duration": 27,
    "start_time": "2024-06-08T10:27:39.227Z"
   },
   {
    "duration": 49,
    "start_time": "2024-06-08T10:27:39.256Z"
   },
   {
    "duration": 1247,
    "start_time": "2024-06-08T12:50:18.456Z"
   },
   {
    "duration": 88,
    "start_time": "2024-06-08T12:50:19.705Z"
   },
   {
    "duration": 15,
    "start_time": "2024-06-08T12:50:19.796Z"
   },
   {
    "duration": 51,
    "start_time": "2024-06-08T12:50:19.813Z"
   },
   {
    "duration": 19,
    "start_time": "2024-06-08T12:50:19.866Z"
   },
   {
    "duration": 51,
    "start_time": "2024-06-08T12:50:19.887Z"
   },
   {
    "duration": 0,
    "start_time": "2024-06-08T12:50:19.940Z"
   },
   {
    "duration": 0,
    "start_time": "2024-06-08T12:50:19.941Z"
   },
   {
    "duration": 0,
    "start_time": "2024-06-08T12:50:19.942Z"
   },
   {
    "duration": 0,
    "start_time": "2024-06-08T12:50:19.944Z"
   },
   {
    "duration": 1126,
    "start_time": "2024-06-08T12:50:38.010Z"
   },
   {
    "duration": 82,
    "start_time": "2024-06-08T12:50:39.138Z"
   },
   {
    "duration": 13,
    "start_time": "2024-06-08T12:50:39.221Z"
   },
   {
    "duration": 54,
    "start_time": "2024-06-08T12:50:39.236Z"
   },
   {
    "duration": 7,
    "start_time": "2024-06-08T12:50:39.293Z"
   },
   {
    "duration": 51,
    "start_time": "2024-06-08T12:50:39.302Z"
   },
   {
    "duration": 0,
    "start_time": "2024-06-08T12:50:39.354Z"
   },
   {
    "duration": 0,
    "start_time": "2024-06-08T12:50:39.356Z"
   },
   {
    "duration": 0,
    "start_time": "2024-06-08T12:50:39.357Z"
   },
   {
    "duration": 0,
    "start_time": "2024-06-08T12:50:39.358Z"
   },
   {
    "duration": 1154,
    "start_time": "2024-06-08T12:50:51.308Z"
   },
   {
    "duration": 81,
    "start_time": "2024-06-08T12:50:52.464Z"
   },
   {
    "duration": 12,
    "start_time": "2024-06-08T12:50:52.546Z"
   },
   {
    "duration": 42,
    "start_time": "2024-06-08T12:50:52.560Z"
   },
   {
    "duration": 12,
    "start_time": "2024-06-08T12:50:52.604Z"
   },
   {
    "duration": 16,
    "start_time": "2024-06-08T12:50:52.618Z"
   },
   {
    "duration": 302746,
    "start_time": "2024-06-08T12:50:52.636Z"
   },
   {
    "duration": 0,
    "start_time": "2024-06-08T12:55:55.384Z"
   },
   {
    "duration": 0,
    "start_time": "2024-06-08T12:55:55.385Z"
   },
   {
    "duration": 0,
    "start_time": "2024-06-08T12:55:55.391Z"
   },
   {
    "duration": 4,
    "start_time": "2024-06-08T12:57:50.487Z"
   },
   {
    "duration": 1176,
    "start_time": "2024-06-08T12:57:55.985Z"
   },
   {
    "duration": 81,
    "start_time": "2024-06-08T12:57:57.163Z"
   },
   {
    "duration": 13,
    "start_time": "2024-06-08T12:57:57.245Z"
   },
   {
    "duration": 9,
    "start_time": "2024-06-08T12:57:57.260Z"
   },
   {
    "duration": 9,
    "start_time": "2024-06-08T12:57:57.271Z"
   },
   {
    "duration": 6,
    "start_time": "2024-06-08T12:57:57.292Z"
   },
   {
    "duration": 1421,
    "start_time": "2024-06-08T13:00:22.645Z"
   },
   {
    "duration": 100,
    "start_time": "2024-06-08T13:00:24.069Z"
   },
   {
    "duration": 33,
    "start_time": "2024-06-08T13:00:24.171Z"
   },
   {
    "duration": 26,
    "start_time": "2024-06-08T13:00:24.207Z"
   },
   {
    "duration": 43,
    "start_time": "2024-06-08T13:00:24.236Z"
   },
   {
    "duration": 0,
    "start_time": "2024-06-08T13:00:24.281Z"
   },
   {
    "duration": 0,
    "start_time": "2024-06-08T13:00:24.283Z"
   },
   {
    "duration": 0,
    "start_time": "2024-06-08T13:00:24.284Z"
   },
   {
    "duration": 0,
    "start_time": "2024-06-08T13:00:24.286Z"
   },
   {
    "duration": 0,
    "start_time": "2024-06-08T13:00:24.287Z"
   },
   {
    "duration": 1415,
    "start_time": "2024-06-08T13:00:36.768Z"
   },
   {
    "duration": 88,
    "start_time": "2024-06-08T13:00:38.185Z"
   },
   {
    "duration": 16,
    "start_time": "2024-06-08T13:00:38.276Z"
   },
   {
    "duration": 79,
    "start_time": "2024-06-08T13:00:38.294Z"
   },
   {
    "duration": 69,
    "start_time": "2024-06-08T13:00:38.375Z"
   },
   {
    "duration": 84,
    "start_time": "2024-06-08T13:00:38.447Z"
   },
   {
    "duration": 1392,
    "start_time": "2024-06-08T13:01:47.902Z"
   },
   {
    "duration": 79,
    "start_time": "2024-06-08T13:01:49.296Z"
   },
   {
    "duration": 11,
    "start_time": "2024-06-08T13:01:49.377Z"
   },
   {
    "duration": 9,
    "start_time": "2024-06-08T13:01:49.391Z"
   },
   {
    "duration": 14,
    "start_time": "2024-06-08T13:01:49.402Z"
   },
   {
    "duration": 6,
    "start_time": "2024-06-08T13:01:49.417Z"
   },
   {
    "duration": 4456568,
    "start_time": "2024-06-08T13:01:49.424Z"
   },
   {
    "duration": 107,
    "start_time": "2024-06-08T14:16:05.994Z"
   },
   {
    "duration": 97,
    "start_time": "2024-06-08T14:16:06.102Z"
   },
   {
    "duration": 28,
    "start_time": "2024-06-08T14:16:06.202Z"
   },
   {
    "duration": 11,
    "start_time": "2024-06-08T14:18:55.068Z"
   },
   {
    "duration": 4,
    "start_time": "2024-06-08T14:20:36.352Z"
   },
   {
    "duration": 6,
    "start_time": "2024-06-08T14:20:37.903Z"
   },
   {
    "duration": 321121,
    "start_time": "2024-06-08T14:20:41.682Z"
   },
   {
    "duration": 12,
    "start_time": "2024-06-08T14:27:43.858Z"
   },
   {
    "duration": 6,
    "start_time": "2024-06-08T14:28:48.612Z"
   },
   {
    "duration": 11,
    "start_time": "2024-06-08T14:29:00.272Z"
   },
   {
    "duration": 100679,
    "start_time": "2024-06-08T14:29:05.219Z"
   },
   {
    "duration": 1360,
    "start_time": "2024-06-08T14:37:12.627Z"
   },
   {
    "duration": 77,
    "start_time": "2024-06-08T14:37:13.989Z"
   },
   {
    "duration": 12,
    "start_time": "2024-06-08T14:37:14.068Z"
   },
   {
    "duration": 10,
    "start_time": "2024-06-08T14:37:14.083Z"
   },
   {
    "duration": 3,
    "start_time": "2024-06-08T14:37:14.095Z"
   },
   {
    "duration": 6,
    "start_time": "2024-06-08T14:37:14.100Z"
   },
   {
    "duration": 1425,
    "start_time": "2024-06-08T14:39:50.871Z"
   },
   {
    "duration": 79,
    "start_time": "2024-06-08T14:39:52.298Z"
   },
   {
    "duration": 17,
    "start_time": "2024-06-08T14:39:52.379Z"
   },
   {
    "duration": 13,
    "start_time": "2024-06-08T14:39:52.398Z"
   },
   {
    "duration": 43,
    "start_time": "2024-06-08T14:39:52.413Z"
   },
   {
    "duration": 58,
    "start_time": "2024-06-08T14:39:52.458Z"
   },
   {
    "duration": 3555283,
    "start_time": "2024-06-08T14:39:52.517Z"
   },
   {
    "duration": 136,
    "start_time": "2024-06-08T15:39:07.802Z"
   },
   {
    "duration": 147,
    "start_time": "2024-06-08T15:39:07.940Z"
   },
   {
    "duration": 0,
    "start_time": "2024-06-08T15:39:08.089Z"
   },
   {
    "duration": 12,
    "start_time": "2024-06-08T15:43:24.131Z"
   },
   {
    "duration": 43,
    "start_time": "2024-06-08T15:44:02.553Z"
   },
   {
    "duration": 12,
    "start_time": "2024-06-08T15:44:06.916Z"
   },
   {
    "duration": 129,
    "start_time": "2024-06-08T15:44:21.666Z"
   },
   {
    "duration": 110,
    "start_time": "2024-06-08T15:45:13.791Z"
   },
   {
    "duration": 27,
    "start_time": "2024-06-08T15:45:17.911Z"
   },
   {
    "duration": 29,
    "start_time": "2024-06-08T15:45:21.458Z"
   },
   {
    "duration": 31,
    "start_time": "2024-06-08T15:45:41.174Z"
   },
   {
    "duration": 11,
    "start_time": "2024-06-08T15:46:03.136Z"
   },
   {
    "duration": 7400,
    "start_time": "2024-06-08T15:50:05.192Z"
   },
   {
    "duration": 23,
    "start_time": "2024-06-08T15:50:15.379Z"
   },
   {
    "duration": 45,
    "start_time": "2024-06-08T15:51:16.635Z"
   },
   {
    "duration": 53,
    "start_time": "2024-06-08T15:51:25.300Z"
   },
   {
    "duration": 1492,
    "start_time": "2024-06-08T15:54:45.945Z"
   },
   {
    "duration": 112,
    "start_time": "2024-06-08T15:55:40.858Z"
   },
   {
    "duration": 1511,
    "start_time": "2024-06-08T15:55:48.420Z"
   },
   {
    "duration": 85,
    "start_time": "2024-06-08T15:55:49.933Z"
   },
   {
    "duration": 14,
    "start_time": "2024-06-08T15:55:50.020Z"
   },
   {
    "duration": 20,
    "start_time": "2024-06-08T15:55:50.036Z"
   },
   {
    "duration": 17,
    "start_time": "2024-06-08T15:55:50.059Z"
   },
   {
    "duration": 22,
    "start_time": "2024-06-08T15:55:50.078Z"
   },
   {
    "duration": 37,
    "start_time": "2024-06-08T15:55:50.102Z"
   },
   {
    "duration": 1509,
    "start_time": "2024-06-08T15:57:05.023Z"
   },
   {
    "duration": 82,
    "start_time": "2024-06-08T15:57:06.534Z"
   },
   {
    "duration": 15,
    "start_time": "2024-06-08T15:57:06.618Z"
   },
   {
    "duration": 13,
    "start_time": "2024-06-08T15:57:06.635Z"
   },
   {
    "duration": 23,
    "start_time": "2024-06-08T15:57:06.650Z"
   },
   {
    "duration": 3,
    "start_time": "2024-06-08T15:57:06.674Z"
   },
   {
    "duration": 13,
    "start_time": "2024-06-08T15:57:06.678Z"
   },
   {
    "duration": 98434,
    "start_time": "2024-06-08T15:57:06.693Z"
   },
   {
    "duration": 22,
    "start_time": "2024-06-08T15:58:45.129Z"
   },
   {
    "duration": 29,
    "start_time": "2024-06-08T15:58:45.154Z"
   },
   {
    "duration": 26,
    "start_time": "2024-06-08T15:58:45.184Z"
   },
   {
    "duration": 1519,
    "start_time": "2024-06-08T15:59:22.885Z"
   },
   {
    "duration": 82,
    "start_time": "2024-06-08T15:59:24.406Z"
   },
   {
    "duration": 14,
    "start_time": "2024-06-08T15:59:24.490Z"
   },
   {
    "duration": 9,
    "start_time": "2024-06-08T15:59:24.506Z"
   },
   {
    "duration": 11,
    "start_time": "2024-06-08T15:59:24.516Z"
   },
   {
    "duration": 3,
    "start_time": "2024-06-08T15:59:24.529Z"
   },
   {
    "duration": 6,
    "start_time": "2024-06-08T15:59:24.533Z"
   },
   {
    "duration": 98497,
    "start_time": "2024-06-08T15:59:24.540Z"
   },
   {
    "duration": 24,
    "start_time": "2024-06-08T16:01:03.039Z"
   },
   {
    "duration": 32,
    "start_time": "2024-06-08T16:01:03.066Z"
   },
   {
    "duration": 23,
    "start_time": "2024-06-08T16:01:03.100Z"
   },
   {
    "duration": 4,
    "start_time": "2024-06-08T16:02:33.667Z"
   },
   {
    "duration": 1546,
    "start_time": "2024-06-08T16:02:59.180Z"
   },
   {
    "duration": 83,
    "start_time": "2024-06-08T16:03:00.728Z"
   },
   {
    "duration": 293,
    "start_time": "2024-06-08T16:03:00.813Z"
   },
   {
    "duration": 182,
    "start_time": "2024-06-08T16:03:01.108Z"
   },
   {
    "duration": 350,
    "start_time": "2024-06-08T16:03:01.291Z"
   },
   {
    "duration": 0,
    "start_time": "2024-06-08T16:03:01.643Z"
   },
   {
    "duration": 0,
    "start_time": "2024-06-08T16:03:01.644Z"
   },
   {
    "duration": 0,
    "start_time": "2024-06-08T16:03:01.646Z"
   },
   {
    "duration": 0,
    "start_time": "2024-06-08T16:03:01.647Z"
   },
   {
    "duration": 0,
    "start_time": "2024-06-08T16:03:01.648Z"
   },
   {
    "duration": 0,
    "start_time": "2024-06-08T16:03:01.650Z"
   },
   {
    "duration": 1570,
    "start_time": "2024-06-08T16:03:43.140Z"
   },
   {
    "duration": 82,
    "start_time": "2024-06-08T16:03:44.713Z"
   },
   {
    "duration": 13,
    "start_time": "2024-06-08T16:03:44.796Z"
   },
   {
    "duration": 9,
    "start_time": "2024-06-08T16:03:44.811Z"
   },
   {
    "duration": 22,
    "start_time": "2024-06-08T16:03:44.822Z"
   },
   {
    "duration": 19,
    "start_time": "2024-06-08T16:03:44.846Z"
   },
   {
    "duration": 14,
    "start_time": "2024-06-08T16:03:44.867Z"
   },
   {
    "duration": 1651,
    "start_time": "2024-06-08T16:04:03.793Z"
   },
   {
    "duration": 86,
    "start_time": "2024-06-08T16:04:05.446Z"
   },
   {
    "duration": 14,
    "start_time": "2024-06-08T16:04:05.533Z"
   },
   {
    "duration": 10,
    "start_time": "2024-06-08T16:04:05.549Z"
   },
   {
    "duration": 40,
    "start_time": "2024-06-08T16:04:05.560Z"
   },
   {
    "duration": 3,
    "start_time": "2024-06-08T16:04:05.602Z"
   },
   {
    "duration": 6,
    "start_time": "2024-06-08T16:04:05.606Z"
   },
   {
    "duration": 96720,
    "start_time": "2024-06-08T16:04:05.614Z"
   },
   {
    "duration": 19,
    "start_time": "2024-06-08T16:05:42.335Z"
   },
   {
    "duration": 18,
    "start_time": "2024-06-08T16:05:42.356Z"
   },
   {
    "duration": 34,
    "start_time": "2024-06-08T16:05:42.375Z"
   },
   {
    "duration": 1599,
    "start_time": "2024-06-08T16:29:02.578Z"
   },
   {
    "duration": 82,
    "start_time": "2024-06-08T16:29:04.179Z"
   },
   {
    "duration": 13,
    "start_time": "2024-06-08T16:29:04.263Z"
   },
   {
    "duration": 15,
    "start_time": "2024-06-08T16:29:04.278Z"
   },
   {
    "duration": 3,
    "start_time": "2024-06-08T16:29:04.294Z"
   },
   {
    "duration": 6,
    "start_time": "2024-06-08T16:29:04.299Z"
   },
   {
    "duration": 97468,
    "start_time": "2024-06-08T16:29:04.306Z"
   },
   {
    "duration": 58404,
    "start_time": "2024-06-08T16:30:41.777Z"
   },
   {
    "duration": 8,
    "start_time": "2024-06-08T16:31:40.183Z"
   },
   {
    "duration": 133,
    "start_time": "2024-06-08T16:31:40.194Z"
   },
   {
    "duration": 0,
    "start_time": "2024-06-08T16:31:40.329Z"
   },
   {
    "duration": 0,
    "start_time": "2024-06-08T16:31:40.330Z"
   },
   {
    "duration": 27,
    "start_time": "2024-06-08T16:32:01.105Z"
   },
   {
    "duration": 20,
    "start_time": "2024-06-08T16:32:08.455Z"
   },
   {
    "duration": 14,
    "start_time": "2024-06-08T16:33:40.937Z"
   },
   {
    "duration": 16,
    "start_time": "2024-06-08T16:33:42.770Z"
   },
   {
    "duration": 1567,
    "start_time": "2024-06-08T16:34:00.915Z"
   },
   {
    "duration": 85,
    "start_time": "2024-06-08T16:34:02.484Z"
   },
   {
    "duration": 19,
    "start_time": "2024-06-08T16:34:02.572Z"
   },
   {
    "duration": 13,
    "start_time": "2024-06-08T16:34:02.594Z"
   },
   {
    "duration": 4,
    "start_time": "2024-06-08T16:34:02.609Z"
   },
   {
    "duration": 11,
    "start_time": "2024-06-08T16:34:02.615Z"
   },
   {
    "duration": 485863,
    "start_time": "2024-06-08T16:34:02.629Z"
   },
   {
    "duration": 1473,
    "start_time": "2024-06-08T16:43:35.718Z"
   },
   {
    "duration": 82,
    "start_time": "2024-06-08T16:43:37.194Z"
   },
   {
    "duration": 17,
    "start_time": "2024-06-08T16:43:37.277Z"
   },
   {
    "duration": 12,
    "start_time": "2024-06-08T16:43:37.297Z"
   },
   {
    "duration": 4,
    "start_time": "2024-06-08T16:43:37.311Z"
   },
   {
    "duration": 5,
    "start_time": "2024-06-08T16:43:37.316Z"
   },
   {
    "duration": 515777,
    "start_time": "2024-06-08T16:43:37.323Z"
   },
   {
    "duration": 6,
    "start_time": "2024-06-08T16:52:13.101Z"
   },
   {
    "duration": 188,
    "start_time": "2024-06-08T16:52:13.108Z"
   },
   {
    "duration": 8,
    "start_time": "2024-06-08T16:52:13.299Z"
   },
   {
    "duration": 35,
    "start_time": "2024-06-08T16:52:13.309Z"
   },
   {
    "duration": 1608,
    "start_time": "2024-06-08T17:18:16.078Z"
   },
   {
    "duration": 83,
    "start_time": "2024-06-08T17:18:17.689Z"
   },
   {
    "duration": 17,
    "start_time": "2024-06-08T17:18:17.773Z"
   },
   {
    "duration": 12,
    "start_time": "2024-06-08T17:18:17.793Z"
   },
   {
    "duration": 6,
    "start_time": "2024-06-08T17:18:17.807Z"
   },
   {
    "duration": 11,
    "start_time": "2024-06-08T17:18:17.814Z"
   },
   {
    "duration": 28,
    "start_time": "2024-06-08T17:18:17.827Z"
   },
   {
    "duration": 675,
    "start_time": "2024-06-08T17:18:17.857Z"
   },
   {
    "duration": 4,
    "start_time": "2024-06-08T17:18:18.534Z"
   },
   {
    "duration": 32,
    "start_time": "2024-06-08T17:18:18.541Z"
   },
   {
    "duration": 113,
    "start_time": "2024-06-08T17:18:18.574Z"
   },
   {
    "duration": 0,
    "start_time": "2024-06-08T17:18:18.689Z"
   },
   {
    "duration": 1541,
    "start_time": "2024-06-08T17:21:27.117Z"
   },
   {
    "duration": 85,
    "start_time": "2024-06-08T17:21:28.660Z"
   },
   {
    "duration": 14,
    "start_time": "2024-06-08T17:21:28.747Z"
   },
   {
    "duration": 34,
    "start_time": "2024-06-08T17:21:28.763Z"
   },
   {
    "duration": 4,
    "start_time": "2024-06-08T17:21:28.799Z"
   },
   {
    "duration": 17,
    "start_time": "2024-06-08T17:21:28.804Z"
   },
   {
    "duration": 19,
    "start_time": "2024-06-08T17:21:28.824Z"
   },
   {
    "duration": 633,
    "start_time": "2024-06-08T17:21:28.845Z"
   },
   {
    "duration": 4,
    "start_time": "2024-06-08T17:21:29.480Z"
   },
   {
    "duration": 19,
    "start_time": "2024-06-08T17:21:29.485Z"
   },
   {
    "duration": 7,
    "start_time": "2024-06-08T17:21:29.505Z"
   },
   {
    "duration": 9,
    "start_time": "2024-06-08T17:21:29.513Z"
   },
   {
    "duration": 1517,
    "start_time": "2024-06-08T17:22:07.249Z"
   },
   {
    "duration": 88,
    "start_time": "2024-06-08T17:22:08.768Z"
   },
   {
    "duration": 13,
    "start_time": "2024-06-08T17:22:08.858Z"
   },
   {
    "duration": 36,
    "start_time": "2024-06-08T17:22:08.873Z"
   },
   {
    "duration": 3,
    "start_time": "2024-06-08T17:22:08.911Z"
   },
   {
    "duration": 5,
    "start_time": "2024-06-08T17:22:08.915Z"
   },
   {
    "duration": 24,
    "start_time": "2024-06-08T17:22:08.921Z"
   },
   {
    "duration": 629,
    "start_time": "2024-06-08T17:22:08.946Z"
   },
   {
    "duration": 5,
    "start_time": "2024-06-08T17:22:09.577Z"
   },
   {
    "duration": 23,
    "start_time": "2024-06-08T17:22:09.593Z"
   },
   {
    "duration": 6,
    "start_time": "2024-06-08T17:22:09.618Z"
   },
   {
    "duration": 28,
    "start_time": "2024-06-08T17:22:09.626Z"
   },
   {
    "duration": 1542,
    "start_time": "2024-06-08T17:23:21.735Z"
   },
   {
    "duration": 91,
    "start_time": "2024-06-08T17:23:23.279Z"
   },
   {
    "duration": 20,
    "start_time": "2024-06-08T17:23:23.371Z"
   },
   {
    "duration": 9,
    "start_time": "2024-06-08T17:23:23.394Z"
   },
   {
    "duration": 5,
    "start_time": "2024-06-08T17:23:23.405Z"
   },
   {
    "duration": 9,
    "start_time": "2024-06-08T17:23:23.412Z"
   },
   {
    "duration": 29,
    "start_time": "2024-06-08T17:23:23.423Z"
   },
   {
    "duration": 671,
    "start_time": "2024-06-08T17:23:23.454Z"
   },
   {
    "duration": 5,
    "start_time": "2024-06-08T17:23:24.127Z"
   },
   {
    "duration": 18,
    "start_time": "2024-06-08T17:23:24.134Z"
   },
   {
    "duration": 7,
    "start_time": "2024-06-08T17:23:24.154Z"
   },
   {
    "duration": 31,
    "start_time": "2024-06-08T17:23:24.163Z"
   },
   {
    "duration": 1475,
    "start_time": "2024-06-08T17:23:56.238Z"
   },
   {
    "duration": 87,
    "start_time": "2024-06-08T17:23:57.716Z"
   },
   {
    "duration": 13,
    "start_time": "2024-06-08T17:23:57.806Z"
   },
   {
    "duration": 15,
    "start_time": "2024-06-08T17:23:57.821Z"
   },
   {
    "duration": 4,
    "start_time": "2024-06-08T17:23:57.838Z"
   },
   {
    "duration": 13,
    "start_time": "2024-06-08T17:23:57.843Z"
   },
   {
    "duration": 46,
    "start_time": "2024-06-08T17:23:57.858Z"
   },
   {
    "duration": 613,
    "start_time": "2024-06-08T17:23:57.907Z"
   },
   {
    "duration": 4,
    "start_time": "2024-06-08T17:23:58.522Z"
   },
   {
    "duration": 36,
    "start_time": "2024-06-08T17:23:58.528Z"
   },
   {
    "duration": 11,
    "start_time": "2024-06-08T17:23:58.566Z"
   },
   {
    "duration": 11,
    "start_time": "2024-06-08T17:23:58.579Z"
   },
   {
    "duration": 1587,
    "start_time": "2024-06-08T17:24:49.770Z"
   },
   {
    "duration": 83,
    "start_time": "2024-06-08T17:24:51.360Z"
   },
   {
    "duration": 13,
    "start_time": "2024-06-08T17:24:51.445Z"
   },
   {
    "duration": 11,
    "start_time": "2024-06-08T17:24:51.460Z"
   },
   {
    "duration": 33,
    "start_time": "2024-06-08T17:24:51.472Z"
   },
   {
    "duration": 4,
    "start_time": "2024-06-08T17:24:51.506Z"
   },
   {
    "duration": 23,
    "start_time": "2024-06-08T17:24:51.512Z"
   },
   {
    "duration": 665,
    "start_time": "2024-06-08T17:24:51.537Z"
   },
   {
    "duration": 5,
    "start_time": "2024-06-08T17:24:52.204Z"
   },
   {
    "duration": 61,
    "start_time": "2024-06-08T17:24:52.211Z"
   },
   {
    "duration": 34,
    "start_time": "2024-06-08T17:24:52.274Z"
   },
   {
    "duration": 22,
    "start_time": "2024-06-08T17:24:52.310Z"
   },
   {
    "duration": 1546,
    "start_time": "2024-06-08T17:25:17.059Z"
   },
   {
    "duration": 84,
    "start_time": "2024-06-08T17:25:18.607Z"
   },
   {
    "duration": 13,
    "start_time": "2024-06-08T17:25:18.692Z"
   },
   {
    "duration": 10,
    "start_time": "2024-06-08T17:25:18.707Z"
   },
   {
    "duration": 4,
    "start_time": "2024-06-08T17:25:18.718Z"
   },
   {
    "duration": 5,
    "start_time": "2024-06-08T17:25:18.723Z"
   },
   {
    "duration": 15370,
    "start_time": "2024-06-08T17:25:18.730Z"
   },
   {
    "duration": 300691,
    "start_time": "2024-06-08T17:25:34.102Z"
   },
   {
    "duration": 5,
    "start_time": "2024-06-08T17:30:34.795Z"
   },
   {
    "duration": 1710,
    "start_time": "2024-06-08T17:30:34.802Z"
   },
   {
    "duration": 82,
    "start_time": "2024-06-08T17:30:36.514Z"
   },
   {
    "duration": 18,
    "start_time": "2024-06-08T17:30:36.598Z"
   },
   {
    "duration": 1524,
    "start_time": "2024-06-08T17:35:56.307Z"
   },
   {
    "duration": 81,
    "start_time": "2024-06-08T17:35:57.833Z"
   },
   {
    "duration": 13,
    "start_time": "2024-06-08T17:35:57.915Z"
   },
   {
    "duration": 20,
    "start_time": "2024-06-08T17:35:57.930Z"
   },
   {
    "duration": 6,
    "start_time": "2024-06-08T17:35:57.951Z"
   },
   {
    "duration": 5,
    "start_time": "2024-06-08T17:35:57.958Z"
   },
   {
    "duration": 487,
    "start_time": "2024-06-08T17:35:57.964Z"
   },
   {
    "duration": 10638,
    "start_time": "2024-06-08T17:35:58.453Z"
   },
   {
    "duration": 4,
    "start_time": "2024-06-08T17:36:09.093Z"
   },
   {
    "duration": 170,
    "start_time": "2024-06-08T17:36:09.099Z"
   },
   {
    "duration": 11,
    "start_time": "2024-06-08T17:36:09.270Z"
   },
   {
    "duration": 13,
    "start_time": "2024-06-08T17:36:09.291Z"
   },
   {
    "duration": 1519,
    "start_time": "2024-06-08T17:36:44.704Z"
   },
   {
    "duration": 84,
    "start_time": "2024-06-08T17:36:46.225Z"
   },
   {
    "duration": 15,
    "start_time": "2024-06-08T17:36:46.311Z"
   },
   {
    "duration": 23,
    "start_time": "2024-06-08T17:36:46.328Z"
   },
   {
    "duration": 8,
    "start_time": "2024-06-08T17:36:46.352Z"
   },
   {
    "duration": 7,
    "start_time": "2024-06-08T17:36:46.361Z"
   },
   {
    "duration": 500,
    "start_time": "2024-06-08T17:36:46.370Z"
   },
   {
    "duration": 50422,
    "start_time": "2024-06-08T17:36:46.872Z"
   },
   {
    "duration": 4,
    "start_time": "2024-06-08T17:37:37.296Z"
   },
   {
    "duration": 301,
    "start_time": "2024-06-08T17:37:37.302Z"
   },
   {
    "duration": 15,
    "start_time": "2024-06-08T17:37:37.604Z"
   },
   {
    "duration": 17,
    "start_time": "2024-06-08T17:37:37.620Z"
   },
   {
    "duration": 1513,
    "start_time": "2024-06-08T17:44:06.275Z"
   },
   {
    "duration": 84,
    "start_time": "2024-06-08T17:44:07.790Z"
   },
   {
    "duration": 12,
    "start_time": "2024-06-08T17:44:07.876Z"
   },
   {
    "duration": 16,
    "start_time": "2024-06-08T17:44:07.889Z"
   },
   {
    "duration": 6,
    "start_time": "2024-06-08T17:44:07.907Z"
   },
   {
    "duration": 5,
    "start_time": "2024-06-08T17:44:07.915Z"
   },
   {
    "duration": 2475,
    "start_time": "2024-06-08T17:44:07.921Z"
   },
   {
    "duration": 331203,
    "start_time": "2024-06-08T17:44:10.398Z"
   },
   {
    "duration": 4,
    "start_time": "2024-06-08T17:49:41.603Z"
   },
   {
    "duration": 1991,
    "start_time": "2024-06-08T17:49:41.609Z"
   },
   {
    "duration": 16,
    "start_time": "2024-06-08T17:49:43.602Z"
   },
   {
    "duration": 78,
    "start_time": "2024-06-08T17:49:43.620Z"
   },
   {
    "duration": 4,
    "start_time": "2024-06-08T17:52:43.204Z"
   },
   {
    "duration": 21,
    "start_time": "2024-06-08T17:52:50.857Z"
   },
   {
    "duration": 1501,
    "start_time": "2024-06-08T17:54:02.413Z"
   },
   {
    "duration": 82,
    "start_time": "2024-06-08T17:54:03.916Z"
   },
   {
    "duration": 15,
    "start_time": "2024-06-08T17:54:04.000Z"
   },
   {
    "duration": 11,
    "start_time": "2024-06-08T17:54:04.016Z"
   },
   {
    "duration": 5,
    "start_time": "2024-06-08T17:54:04.029Z"
   },
   {
    "duration": 5,
    "start_time": "2024-06-08T17:54:04.036Z"
   },
   {
    "duration": 1850,
    "start_time": "2024-06-08T17:54:04.043Z"
   },
   {
    "duration": 289096,
    "start_time": "2024-06-08T17:54:05.895Z"
   },
   {
    "duration": 5,
    "start_time": "2024-06-08T17:58:54.993Z"
   },
   {
    "duration": 2194,
    "start_time": "2024-06-08T17:58:55.000Z"
   },
   {
    "duration": 13,
    "start_time": "2024-06-08T17:58:57.196Z"
   },
   {
    "duration": 16,
    "start_time": "2024-06-08T17:58:57.211Z"
   },
   {
    "duration": 1612,
    "start_time": "2024-06-08T18:06:23.149Z"
   },
   {
    "duration": 100,
    "start_time": "2024-06-08T18:06:24.763Z"
   },
   {
    "duration": 27,
    "start_time": "2024-06-08T18:06:24.865Z"
   },
   {
    "duration": 10,
    "start_time": "2024-06-08T18:06:24.894Z"
   },
   {
    "duration": 9,
    "start_time": "2024-06-08T18:06:24.905Z"
   },
   {
    "duration": 20,
    "start_time": "2024-06-08T18:06:24.916Z"
   },
   {
    "duration": 2158,
    "start_time": "2024-06-08T18:06:24.938Z"
   },
   {
    "duration": 275897,
    "start_time": "2024-06-08T18:06:27.098Z"
   },
   {
    "duration": 4,
    "start_time": "2024-06-08T18:11:02.997Z"
   },
   {
    "duration": 2093,
    "start_time": "2024-06-08T18:11:03.003Z"
   },
   {
    "duration": 14,
    "start_time": "2024-06-08T18:11:05.098Z"
   },
   {
    "duration": 20,
    "start_time": "2024-06-08T18:11:05.114Z"
   },
   {
    "duration": 1510,
    "start_time": "2024-06-08T18:12:26.019Z"
   },
   {
    "duration": 85,
    "start_time": "2024-06-08T18:12:27.530Z"
   },
   {
    "duration": 14,
    "start_time": "2024-06-08T18:12:27.617Z"
   },
   {
    "duration": 27,
    "start_time": "2024-06-08T18:12:27.633Z"
   },
   {
    "duration": 10,
    "start_time": "2024-06-08T18:12:27.662Z"
   },
   {
    "duration": 17,
    "start_time": "2024-06-08T18:12:27.673Z"
   },
   {
    "duration": 1803,
    "start_time": "2024-06-08T18:12:27.691Z"
   },
   {
    "duration": 112897,
    "start_time": "2024-06-08T18:12:29.496Z"
   },
   {
    "duration": 4,
    "start_time": "2024-06-08T18:14:22.395Z"
   },
   {
    "duration": 595,
    "start_time": "2024-06-08T18:14:22.401Z"
   },
   {
    "duration": 14,
    "start_time": "2024-06-08T18:14:22.998Z"
   },
   {
    "duration": 16,
    "start_time": "2024-06-08T18:14:23.014Z"
   },
   {
    "duration": 1519,
    "start_time": "2024-06-08T18:15:37.495Z"
   },
   {
    "duration": 83,
    "start_time": "2024-06-08T18:15:39.016Z"
   },
   {
    "duration": 13,
    "start_time": "2024-06-08T18:15:39.101Z"
   },
   {
    "duration": 18,
    "start_time": "2024-06-08T18:15:39.116Z"
   },
   {
    "duration": 19,
    "start_time": "2024-06-08T18:15:39.136Z"
   },
   {
    "duration": 12,
    "start_time": "2024-06-08T18:15:39.157Z"
   },
   {
    "duration": 1822,
    "start_time": "2024-06-08T18:15:39.170Z"
   },
   {
    "duration": 77403,
    "start_time": "2024-06-08T18:15:40.994Z"
   },
   {
    "duration": 6,
    "start_time": "2024-06-08T18:16:58.398Z"
   },
   {
    "duration": 789,
    "start_time": "2024-06-08T18:16:58.406Z"
   },
   {
    "duration": 9,
    "start_time": "2024-06-08T18:16:59.197Z"
   },
   {
    "duration": 14,
    "start_time": "2024-06-08T18:16:59.208Z"
   },
   {
    "duration": 1587,
    "start_time": "2024-06-08T18:19:16.487Z"
   },
   {
    "duration": 84,
    "start_time": "2024-06-08T18:19:18.076Z"
   },
   {
    "duration": 12,
    "start_time": "2024-06-08T18:19:18.162Z"
   },
   {
    "duration": 19,
    "start_time": "2024-06-08T18:19:18.176Z"
   },
   {
    "duration": 8,
    "start_time": "2024-06-08T18:19:18.197Z"
   },
   {
    "duration": 11,
    "start_time": "2024-06-08T18:19:18.207Z"
   },
   {
    "duration": 1774,
    "start_time": "2024-06-08T18:19:18.220Z"
   },
   {
    "duration": 79504,
    "start_time": "2024-06-08T18:19:19.997Z"
   },
   {
    "duration": 4,
    "start_time": "2024-06-08T18:20:39.503Z"
   },
   {
    "duration": 685,
    "start_time": "2024-06-08T18:20:39.509Z"
   },
   {
    "duration": 8,
    "start_time": "2024-06-08T18:20:40.196Z"
   },
   {
    "duration": 9,
    "start_time": "2024-06-08T18:20:40.206Z"
   },
   {
    "duration": 1555,
    "start_time": "2024-06-08T18:28:40.564Z"
   },
   {
    "duration": 80,
    "start_time": "2024-06-08T18:28:42.120Z"
   },
   {
    "duration": 13,
    "start_time": "2024-06-08T18:28:42.201Z"
   },
   {
    "duration": 8,
    "start_time": "2024-06-08T18:28:42.216Z"
   },
   {
    "duration": 30,
    "start_time": "2024-06-08T18:28:42.226Z"
   },
   {
    "duration": 13,
    "start_time": "2024-06-08T18:28:42.258Z"
   },
   {
    "duration": 1829,
    "start_time": "2024-06-08T18:28:42.272Z"
   },
   {
    "duration": 79493,
    "start_time": "2024-06-08T18:28:44.103Z"
   },
   {
    "duration": 4,
    "start_time": "2024-06-08T18:30:03.598Z"
   },
   {
    "duration": 495,
    "start_time": "2024-06-08T18:30:03.604Z"
   },
   {
    "duration": 11,
    "start_time": "2024-06-08T18:30:04.100Z"
   },
   {
    "duration": 83,
    "start_time": "2024-06-08T18:30:04.113Z"
   },
   {
    "duration": 1561,
    "start_time": "2024-06-08T18:42:08.770Z"
   },
   {
    "duration": 82,
    "start_time": "2024-06-08T18:42:10.333Z"
   },
   {
    "duration": 14,
    "start_time": "2024-06-08T18:42:10.417Z"
   },
   {
    "duration": 15,
    "start_time": "2024-06-08T18:42:10.432Z"
   },
   {
    "duration": 4,
    "start_time": "2024-06-08T18:42:10.449Z"
   },
   {
    "duration": 5,
    "start_time": "2024-06-08T18:42:10.454Z"
   },
   {
    "duration": 1556,
    "start_time": "2024-06-08T18:43:20.945Z"
   },
   {
    "duration": 82,
    "start_time": "2024-06-08T18:43:22.503Z"
   },
   {
    "duration": 14,
    "start_time": "2024-06-08T18:43:22.586Z"
   },
   {
    "duration": 10,
    "start_time": "2024-06-08T18:43:22.602Z"
   },
   {
    "duration": 7,
    "start_time": "2024-06-08T18:43:22.613Z"
   },
   {
    "duration": 12,
    "start_time": "2024-06-08T18:43:22.622Z"
   },
   {
    "duration": 1538,
    "start_time": "2024-06-08T18:44:19.274Z"
   },
   {
    "duration": 81,
    "start_time": "2024-06-08T18:44:20.814Z"
   },
   {
    "duration": 12,
    "start_time": "2024-06-08T18:44:20.897Z"
   },
   {
    "duration": 10,
    "start_time": "2024-06-08T18:44:20.911Z"
   },
   {
    "duration": 33,
    "start_time": "2024-06-08T18:44:20.924Z"
   },
   {
    "duration": 7,
    "start_time": "2024-06-08T18:44:20.959Z"
   },
   {
    "duration": 105234,
    "start_time": "2024-06-08T18:44:20.967Z"
   },
   {
    "duration": 6,
    "start_time": "2024-06-08T18:46:06.203Z"
   },
   {
    "duration": 151,
    "start_time": "2024-06-08T18:46:06.293Z"
   },
   {
    "duration": 0,
    "start_time": "2024-06-08T18:46:06.446Z"
   },
   {
    "duration": 0,
    "start_time": "2024-06-08T18:46:06.447Z"
   },
   {
    "duration": 1570,
    "start_time": "2024-06-08T18:46:12.655Z"
   },
   {
    "duration": 94,
    "start_time": "2024-06-08T18:46:14.227Z"
   },
   {
    "duration": 14,
    "start_time": "2024-06-08T18:46:14.323Z"
   },
   {
    "duration": 8,
    "start_time": "2024-06-08T18:46:14.340Z"
   },
   {
    "duration": 151,
    "start_time": "2024-06-08T18:46:14.350Z"
   },
   {
    "duration": 0,
    "start_time": "2024-06-08T18:46:14.502Z"
   },
   {
    "duration": 0,
    "start_time": "2024-06-08T18:46:14.504Z"
   },
   {
    "duration": 0,
    "start_time": "2024-06-08T18:46:14.505Z"
   },
   {
    "duration": 0,
    "start_time": "2024-06-08T18:46:14.506Z"
   },
   {
    "duration": 1,
    "start_time": "2024-06-08T18:46:14.507Z"
   },
   {
    "duration": 0,
    "start_time": "2024-06-08T18:46:14.509Z"
   },
   {
    "duration": 0,
    "start_time": "2024-06-08T18:46:14.510Z"
   },
   {
    "duration": 1503,
    "start_time": "2024-06-08T18:50:06.498Z"
   },
   {
    "duration": 85,
    "start_time": "2024-06-08T18:50:08.003Z"
   },
   {
    "duration": 14,
    "start_time": "2024-06-08T18:50:08.089Z"
   },
   {
    "duration": 9,
    "start_time": "2024-06-08T18:50:08.106Z"
   },
   {
    "duration": 10,
    "start_time": "2024-06-08T18:50:08.117Z"
   },
   {
    "duration": 7,
    "start_time": "2024-06-08T18:50:08.128Z"
   },
   {
    "duration": 1562,
    "start_time": "2024-06-08T18:50:08.136Z"
   },
   {
    "duration": 97894,
    "start_time": "2024-06-08T18:50:09.700Z"
   },
   {
    "duration": 5,
    "start_time": "2024-06-08T18:51:47.596Z"
   },
   {
    "duration": 163,
    "start_time": "2024-06-08T18:51:47.603Z"
   },
   {
    "duration": 0,
    "start_time": "2024-06-08T18:51:47.767Z"
   },
   {
    "duration": 0,
    "start_time": "2024-06-08T18:51:47.769Z"
   },
   {
    "duration": 21,
    "start_time": "2024-06-08T18:52:58.592Z"
   },
   {
    "duration": 341,
    "start_time": "2024-06-08T18:53:17.760Z"
   },
   {
    "duration": 12,
    "start_time": "2024-06-08T18:53:22.238Z"
   },
   {
    "duration": 13,
    "start_time": "2024-06-08T18:53:24.429Z"
   },
   {
    "duration": 1471,
    "start_time": "2024-06-08T19:02:51.341Z"
   },
   {
    "duration": 82,
    "start_time": "2024-06-08T19:02:52.814Z"
   },
   {
    "duration": 14,
    "start_time": "2024-06-08T19:02:52.897Z"
   },
   {
    "duration": 10,
    "start_time": "2024-06-08T19:02:52.913Z"
   },
   {
    "duration": 11,
    "start_time": "2024-06-08T19:02:52.925Z"
   },
   {
    "duration": 5,
    "start_time": "2024-06-08T19:02:52.938Z"
   },
   {
    "duration": 454058,
    "start_time": "2024-06-08T19:02:52.944Z"
   },
   {
    "duration": 91,
    "start_time": "2024-06-08T19:10:27.004Z"
   },
   {
    "duration": 12,
    "start_time": "2024-06-08T19:10:27.097Z"
   },
   {
    "duration": 1300,
    "start_time": "2024-06-10T09:02:04.796Z"
   },
   {
    "duration": 0,
    "start_time": "2024-06-10T09:02:06.098Z"
   },
   {
    "duration": 0,
    "start_time": "2024-06-10T09:02:06.099Z"
   },
   {
    "duration": 0,
    "start_time": "2024-06-10T09:02:06.100Z"
   },
   {
    "duration": 0,
    "start_time": "2024-06-10T09:02:06.101Z"
   },
   {
    "duration": 0,
    "start_time": "2024-06-10T09:02:06.101Z"
   },
   {
    "duration": 0,
    "start_time": "2024-06-10T09:02:06.102Z"
   },
   {
    "duration": 0,
    "start_time": "2024-06-10T09:02:06.103Z"
   },
   {
    "duration": 0,
    "start_time": "2024-06-10T09:02:06.104Z"
   },
   {
    "duration": 1241,
    "start_time": "2024-06-10T09:50:55.230Z"
   },
   {
    "duration": 0,
    "start_time": "2024-06-10T09:50:56.473Z"
   },
   {
    "duration": 0,
    "start_time": "2024-06-10T09:50:56.474Z"
   },
   {
    "duration": 0,
    "start_time": "2024-06-10T09:50:56.475Z"
   },
   {
    "duration": 0,
    "start_time": "2024-06-10T09:50:56.476Z"
   },
   {
    "duration": 0,
    "start_time": "2024-06-10T09:50:56.477Z"
   },
   {
    "duration": 0,
    "start_time": "2024-06-10T09:50:56.478Z"
   },
   {
    "duration": 0,
    "start_time": "2024-06-10T09:50:56.479Z"
   },
   {
    "duration": 0,
    "start_time": "2024-06-10T09:50:56.479Z"
   },
   {
    "duration": 1179,
    "start_time": "2024-06-10T09:51:08.801Z"
   },
   {
    "duration": 141,
    "start_time": "2024-06-10T09:51:09.982Z"
   },
   {
    "duration": 11,
    "start_time": "2024-06-10T09:51:10.124Z"
   },
   {
    "duration": 48,
    "start_time": "2024-06-10T09:51:10.137Z"
   },
   {
    "duration": 3,
    "start_time": "2024-06-10T09:51:10.187Z"
   },
   {
    "duration": 23,
    "start_time": "2024-06-10T09:51:10.192Z"
   },
   {
    "duration": 1132,
    "start_time": "2024-06-10T09:54:19.860Z"
   },
   {
    "duration": 92,
    "start_time": "2024-06-10T09:54:20.993Z"
   },
   {
    "duration": 10,
    "start_time": "2024-06-10T09:54:21.087Z"
   },
   {
    "duration": 71,
    "start_time": "2024-06-10T09:54:21.098Z"
   },
   {
    "duration": 3,
    "start_time": "2024-06-10T09:54:21.172Z"
   },
   {
    "duration": 4,
    "start_time": "2024-06-10T09:54:21.176Z"
   },
   {
    "duration": 2791,
    "start_time": "2024-06-10T09:54:21.181Z"
   },
   {
    "duration": 0,
    "start_time": "2024-06-10T09:54:23.973Z"
   },
   {
    "duration": 0,
    "start_time": "2024-06-10T09:54:23.975Z"
   },
   {
    "duration": 1129,
    "start_time": "2024-06-10T09:55:03.542Z"
   },
   {
    "duration": 81,
    "start_time": "2024-06-10T09:55:04.672Z"
   },
   {
    "duration": 12,
    "start_time": "2024-06-10T09:55:04.755Z"
   },
   {
    "duration": 74,
    "start_time": "2024-06-10T09:55:04.768Z"
   },
   {
    "duration": 3,
    "start_time": "2024-06-10T09:55:04.844Z"
   },
   {
    "duration": 34,
    "start_time": "2024-06-10T09:55:04.849Z"
   },
   {
    "duration": 74121,
    "start_time": "2024-06-10T09:55:04.885Z"
   },
   {
    "duration": 0,
    "start_time": "2024-06-10T09:56:19.007Z"
   },
   {
    "duration": 0,
    "start_time": "2024-06-10T09:56:19.011Z"
   },
   {
    "duration": 1157,
    "start_time": "2024-06-10T09:57:40.723Z"
   },
   {
    "duration": 73,
    "start_time": "2024-06-10T09:57:41.882Z"
   },
   {
    "duration": 10,
    "start_time": "2024-06-10T09:57:41.957Z"
   },
   {
    "duration": 63,
    "start_time": "2024-06-10T09:57:41.969Z"
   },
   {
    "duration": 3,
    "start_time": "2024-06-10T09:57:42.034Z"
   },
   {
    "duration": 5,
    "start_time": "2024-06-10T09:57:42.039Z"
   },
   {
    "duration": 73912,
    "start_time": "2024-06-10T09:57:42.045Z"
   },
   {
    "duration": 26,
    "start_time": "2024-06-10T09:58:55.958Z"
   },
   {
    "duration": 35,
    "start_time": "2024-06-10T09:58:55.985Z"
   },
   {
    "duration": 2894,
    "start_time": "2024-06-10T10:01:20.297Z"
   },
   {
    "duration": 72,
    "start_time": "2024-06-10T10:01:23.193Z"
   },
   {
    "duration": 11,
    "start_time": "2024-06-10T10:01:23.266Z"
   },
   {
    "duration": 24,
    "start_time": "2024-06-10T10:01:23.279Z"
   },
   {
    "duration": 9,
    "start_time": "2024-06-10T10:01:23.305Z"
   },
   {
    "duration": 12,
    "start_time": "2024-06-10T10:01:23.315Z"
   },
   {
    "duration": 1288,
    "start_time": "2024-06-10T10:02:05.850Z"
   },
   {
    "duration": 75,
    "start_time": "2024-06-10T10:02:07.140Z"
   },
   {
    "duration": 11,
    "start_time": "2024-06-10T10:02:07.216Z"
   },
   {
    "duration": 18,
    "start_time": "2024-06-10T10:02:07.229Z"
   },
   {
    "duration": 3,
    "start_time": "2024-06-10T10:02:07.249Z"
   },
   {
    "duration": 8,
    "start_time": "2024-06-10T10:02:07.254Z"
   },
   {
    "duration": 1307,
    "start_time": "2024-06-10T10:02:30.155Z"
   },
   {
    "duration": 78,
    "start_time": "2024-06-10T10:02:31.464Z"
   },
   {
    "duration": 11,
    "start_time": "2024-06-10T10:02:31.544Z"
   },
   {
    "duration": 69,
    "start_time": "2024-06-10T10:02:31.556Z"
   },
   {
    "duration": 25,
    "start_time": "2024-06-10T10:02:31.628Z"
   },
   {
    "duration": 46,
    "start_time": "2024-06-10T10:02:31.654Z"
   },
   {
    "duration": 1309,
    "start_time": "2024-06-10T10:24:16.335Z"
   },
   {
    "duration": 74,
    "start_time": "2024-06-10T10:24:17.645Z"
   },
   {
    "duration": 10,
    "start_time": "2024-06-10T10:24:17.721Z"
   },
   {
    "duration": 12,
    "start_time": "2024-06-10T10:24:17.733Z"
   },
   {
    "duration": 4,
    "start_time": "2024-06-10T10:24:17.747Z"
   },
   {
    "duration": 5,
    "start_time": "2024-06-10T10:24:17.752Z"
   },
   {
    "duration": 629561,
    "start_time": "2024-06-10T10:24:17.758Z"
   },
   {
    "duration": 5,
    "start_time": "2024-06-10T10:34:47.320Z"
   },
   {
    "duration": 9,
    "start_time": "2024-06-10T10:34:47.327Z"
   },
   {
    "duration": 1333,
    "start_time": "2024-06-10T10:39:57.681Z"
   },
   {
    "duration": 72,
    "start_time": "2024-06-10T10:39:59.016Z"
   },
   {
    "duration": 12,
    "start_time": "2024-06-10T10:39:59.089Z"
   },
   {
    "duration": 19,
    "start_time": "2024-06-10T10:39:59.103Z"
   },
   {
    "duration": 14,
    "start_time": "2024-06-10T10:39:59.123Z"
   },
   {
    "duration": 5,
    "start_time": "2024-06-10T10:39:59.139Z"
   },
   {
    "duration": 648419,
    "start_time": "2024-06-10T10:39:59.145Z"
   },
   {
    "duration": 5,
    "start_time": "2024-06-10T10:50:47.565Z"
   },
   {
    "duration": 8,
    "start_time": "2024-06-10T10:50:47.571Z"
   },
   {
    "duration": 1332,
    "start_time": "2024-06-10T10:56:07.869Z"
   },
   {
    "duration": 75,
    "start_time": "2024-06-10T10:56:09.203Z"
   },
   {
    "duration": 11,
    "start_time": "2024-06-10T10:56:09.279Z"
   },
   {
    "duration": 21,
    "start_time": "2024-06-10T10:56:09.292Z"
   },
   {
    "duration": 3,
    "start_time": "2024-06-10T10:56:09.314Z"
   },
   {
    "duration": 5,
    "start_time": "2024-06-10T10:56:09.319Z"
   },
   {
    "duration": 1330,
    "start_time": "2024-06-10T10:59:58.381Z"
   },
   {
    "duration": 74,
    "start_time": "2024-06-10T10:59:59.712Z"
   },
   {
    "duration": 11,
    "start_time": "2024-06-10T10:59:59.787Z"
   },
   {
    "duration": 17,
    "start_time": "2024-06-10T10:59:59.799Z"
   },
   {
    "duration": 6,
    "start_time": "2024-06-10T10:59:59.818Z"
   },
   {
    "duration": 10,
    "start_time": "2024-06-10T10:59:59.825Z"
   },
   {
    "duration": 628766,
    "start_time": "2024-06-10T10:59:59.837Z"
   },
   {
    "duration": 3658,
    "start_time": "2024-06-10T11:10:28.605Z"
   },
   {
    "duration": 4,
    "start_time": "2024-06-10T11:10:32.265Z"
   },
   {
    "duration": 42,
    "start_time": "2024-06-10T11:10:32.270Z"
   },
   {
    "duration": 1365,
    "start_time": "2024-06-10T11:15:36.683Z"
   },
   {
    "duration": 75,
    "start_time": "2024-06-10T11:15:38.049Z"
   },
   {
    "duration": 10,
    "start_time": "2024-06-10T11:15:38.126Z"
   },
   {
    "duration": 7,
    "start_time": "2024-06-10T11:15:38.138Z"
   },
   {
    "duration": 3,
    "start_time": "2024-06-10T11:15:38.147Z"
   },
   {
    "duration": 5,
    "start_time": "2024-06-10T11:15:38.151Z"
   },
   {
    "duration": 1361,
    "start_time": "2024-06-10T11:23:23.882Z"
   },
   {
    "duration": 73,
    "start_time": "2024-06-10T11:23:25.244Z"
   },
   {
    "duration": 10,
    "start_time": "2024-06-10T11:23:25.319Z"
   },
   {
    "duration": 8,
    "start_time": "2024-06-10T11:23:25.330Z"
   },
   {
    "duration": 10,
    "start_time": "2024-06-10T11:23:25.340Z"
   },
   {
    "duration": 7,
    "start_time": "2024-06-10T11:23:25.352Z"
   },
   {
    "duration": 19801,
    "start_time": "2024-06-10T11:23:25.360Z"
   },
   {
    "duration": 0,
    "start_time": "2024-06-10T11:23:45.163Z"
   },
   {
    "duration": 0,
    "start_time": "2024-06-10T11:23:45.164Z"
   },
   {
    "duration": 0,
    "start_time": "2024-06-10T11:23:45.165Z"
   },
   {
    "duration": 1378,
    "start_time": "2024-06-10T11:24:32.698Z"
   },
   {
    "duration": 76,
    "start_time": "2024-06-10T11:24:34.078Z"
   },
   {
    "duration": 12,
    "start_time": "2024-06-10T11:24:34.156Z"
   },
   {
    "duration": 10,
    "start_time": "2024-06-10T11:24:34.170Z"
   },
   {
    "duration": 32,
    "start_time": "2024-06-10T11:24:34.182Z"
   },
   {
    "duration": 39,
    "start_time": "2024-06-10T11:24:34.215Z"
   },
   {
    "duration": 639150,
    "start_time": "2024-06-10T11:24:34.256Z"
   },
   {
    "duration": 7,
    "start_time": "2024-06-10T11:35:13.407Z"
   },
   {
    "duration": 119,
    "start_time": "2024-06-10T11:35:13.415Z"
   },
   {
    "duration": 0,
    "start_time": "2024-06-10T11:35:13.536Z"
   },
   {
    "duration": 1352,
    "start_time": "2024-06-10T11:40:58.589Z"
   },
   {
    "duration": 79,
    "start_time": "2024-06-10T11:40:59.942Z"
   },
   {
    "duration": 11,
    "start_time": "2024-06-10T11:41:00.022Z"
   },
   {
    "duration": 68,
    "start_time": "2024-06-10T11:41:00.034Z"
   },
   {
    "duration": 49,
    "start_time": "2024-06-10T11:41:00.103Z"
   },
   {
    "duration": 71,
    "start_time": "2024-06-10T11:41:00.154Z"
   },
   {
    "duration": 1348,
    "start_time": "2024-06-10T11:41:21.980Z"
   },
   {
    "duration": 73,
    "start_time": "2024-06-10T11:41:23.329Z"
   },
   {
    "duration": 10,
    "start_time": "2024-06-10T11:41:23.403Z"
   },
   {
    "duration": 13,
    "start_time": "2024-06-10T11:41:23.415Z"
   },
   {
    "duration": 13,
    "start_time": "2024-06-10T11:41:23.429Z"
   },
   {
    "duration": 8,
    "start_time": "2024-06-10T11:41:23.443Z"
   },
   {
    "duration": 871,
    "start_time": "2024-06-10T11:41:23.453Z"
   },
   {
    "duration": 23,
    "start_time": "2024-06-10T11:41:24.326Z"
   },
   {
    "duration": 11,
    "start_time": "2024-06-10T11:41:24.351Z"
   },
   {
    "duration": 20,
    "start_time": "2024-06-10T11:41:24.363Z"
   },
   {
    "duration": 1537,
    "start_time": "2024-06-10T11:43:38.382Z"
   },
   {
    "duration": 73,
    "start_time": "2024-06-10T11:43:39.920Z"
   },
   {
    "duration": 11,
    "start_time": "2024-06-10T11:43:39.994Z"
   },
   {
    "duration": 16,
    "start_time": "2024-06-10T11:43:40.006Z"
   },
   {
    "duration": 17,
    "start_time": "2024-06-10T11:43:40.024Z"
   },
   {
    "duration": 10,
    "start_time": "2024-06-10T11:43:40.042Z"
   },
   {
    "duration": 871,
    "start_time": "2024-06-10T11:43:40.053Z"
   },
   {
    "duration": 122,
    "start_time": "2024-06-10T11:43:40.925Z"
   },
   {
    "duration": 0,
    "start_time": "2024-06-10T11:43:41.049Z"
   },
   {
    "duration": 0,
    "start_time": "2024-06-10T11:43:41.050Z"
   },
   {
    "duration": 1341,
    "start_time": "2024-06-10T11:44:12.402Z"
   },
   {
    "duration": 73,
    "start_time": "2024-06-10T11:44:13.745Z"
   },
   {
    "duration": 11,
    "start_time": "2024-06-10T11:44:13.819Z"
   },
   {
    "duration": 8,
    "start_time": "2024-06-10T11:44:13.831Z"
   },
   {
    "duration": 4,
    "start_time": "2024-06-10T11:44:13.841Z"
   },
   {
    "duration": 12,
    "start_time": "2024-06-10T11:44:13.847Z"
   },
   {
    "duration": 871,
    "start_time": "2024-06-10T11:44:13.861Z"
   },
   {
    "duration": 25,
    "start_time": "2024-06-10T11:44:14.733Z"
   },
   {
    "duration": 12,
    "start_time": "2024-06-10T11:44:14.760Z"
   },
   {
    "duration": 8,
    "start_time": "2024-06-10T11:44:14.775Z"
   },
   {
    "duration": 1369,
    "start_time": "2024-06-10T11:44:40.285Z"
   },
   {
    "duration": 73,
    "start_time": "2024-06-10T11:44:41.656Z"
   },
   {
    "duration": 11,
    "start_time": "2024-06-10T11:44:41.730Z"
   },
   {
    "duration": 20,
    "start_time": "2024-06-10T11:44:41.743Z"
   },
   {
    "duration": 14,
    "start_time": "2024-06-10T11:44:41.765Z"
   },
   {
    "duration": 6,
    "start_time": "2024-06-10T11:44:41.780Z"
   },
   {
    "duration": 854,
    "start_time": "2024-06-10T11:44:41.787Z"
   },
   {
    "duration": 28,
    "start_time": "2024-06-10T11:44:42.643Z"
   },
   {
    "duration": 15,
    "start_time": "2024-06-10T11:44:42.673Z"
   },
   {
    "duration": 24,
    "start_time": "2024-06-10T11:44:42.690Z"
   },
   {
    "duration": 1417,
    "start_time": "2024-06-10T11:45:28.884Z"
   },
   {
    "duration": 78,
    "start_time": "2024-06-10T11:45:30.303Z"
   },
   {
    "duration": 11,
    "start_time": "2024-06-10T11:45:30.382Z"
   },
   {
    "duration": 81,
    "start_time": "2024-06-10T11:45:30.395Z"
   },
   {
    "duration": 77,
    "start_time": "2024-06-10T11:45:30.478Z"
   },
   {
    "duration": 35,
    "start_time": "2024-06-10T11:45:30.557Z"
   },
   {
    "duration": 987,
    "start_time": "2024-06-10T11:45:30.593Z"
   },
   {
    "duration": 14,
    "start_time": "2024-06-10T11:45:31.581Z"
   },
   {
    "duration": 55,
    "start_time": "2024-06-10T11:45:31.596Z"
   },
   {
    "duration": 21,
    "start_time": "2024-06-10T11:45:31.653Z"
   },
   {
    "duration": 1341,
    "start_time": "2024-06-10T11:45:47.710Z"
   },
   {
    "duration": 81,
    "start_time": "2024-06-10T11:45:49.053Z"
   },
   {
    "duration": 10,
    "start_time": "2024-06-10T11:45:49.136Z"
   },
   {
    "duration": 15,
    "start_time": "2024-06-10T11:45:49.148Z"
   },
   {
    "duration": 7,
    "start_time": "2024-06-10T11:45:49.164Z"
   },
   {
    "duration": 5,
    "start_time": "2024-06-10T11:45:49.172Z"
   },
   {
    "duration": 627430,
    "start_time": "2024-06-10T11:45:49.178Z"
   },
   {
    "duration": 1800,
    "start_time": "2024-06-10T11:56:16.609Z"
   },
   {
    "duration": 593,
    "start_time": "2024-06-10T11:56:18.411Z"
   },
   {
    "duration": 30,
    "start_time": "2024-06-10T11:56:19.006Z"
   },
   {
    "duration": 1364,
    "start_time": "2024-06-10T12:27:02.308Z"
   },
   {
    "duration": 74,
    "start_time": "2024-06-10T12:27:03.674Z"
   },
   {
    "duration": 11,
    "start_time": "2024-06-10T12:27:03.750Z"
   },
   {
    "duration": 9,
    "start_time": "2024-06-10T12:27:03.762Z"
   },
   {
    "duration": 18,
    "start_time": "2024-06-10T12:27:03.772Z"
   },
   {
    "duration": 10,
    "start_time": "2024-06-10T12:27:03.792Z"
   },
   {
    "duration": 625565,
    "start_time": "2024-06-10T12:27:03.803Z"
   },
   {
    "duration": 2098,
    "start_time": "2024-06-10T12:37:29.369Z"
   },
   {
    "duration": 588,
    "start_time": "2024-06-10T12:37:31.468Z"
   },
   {
    "duration": 26,
    "start_time": "2024-06-10T12:37:32.058Z"
   },
   {
    "duration": 1348,
    "start_time": "2024-06-10T12:39:42.815Z"
   },
   {
    "duration": 72,
    "start_time": "2024-06-10T12:39:44.165Z"
   },
   {
    "duration": 9,
    "start_time": "2024-06-10T12:39:44.239Z"
   },
   {
    "duration": 24,
    "start_time": "2024-06-10T12:39:44.250Z"
   },
   {
    "duration": 6,
    "start_time": "2024-06-10T12:39:44.276Z"
   },
   {
    "duration": 5,
    "start_time": "2024-06-10T12:39:44.284Z"
   },
   {
    "duration": 809430,
    "start_time": "2024-06-10T12:39:44.290Z"
   },
   {
    "duration": 1689,
    "start_time": "2024-06-10T12:53:13.722Z"
   },
   {
    "duration": 600,
    "start_time": "2024-06-10T12:53:15.412Z"
   },
   {
    "duration": 4,
    "start_time": "2024-06-10T12:53:16.014Z"
   },
   {
    "duration": 27,
    "start_time": "2024-06-10T12:54:19.908Z"
   },
   {
    "duration": 590,
    "start_time": "2024-06-10T12:54:46.040Z"
   },
   {
    "duration": 1272,
    "start_time": "2024-06-10T12:57:58.854Z"
   },
   {
    "duration": 77,
    "start_time": "2024-06-10T12:58:00.128Z"
   },
   {
    "duration": 11,
    "start_time": "2024-06-10T12:58:00.207Z"
   },
   {
    "duration": 149,
    "start_time": "2024-06-10T12:58:00.219Z"
   },
   {
    "duration": 84,
    "start_time": "2024-06-10T12:58:00.369Z"
   },
   {
    "duration": 51,
    "start_time": "2024-06-10T12:58:00.454Z"
   },
   {
    "duration": 1256,
    "start_time": "2024-06-10T12:58:47.869Z"
   },
   {
    "duration": 73,
    "start_time": "2024-06-10T12:58:49.127Z"
   },
   {
    "duration": 10,
    "start_time": "2024-06-10T12:58:49.202Z"
   },
   {
    "duration": 35,
    "start_time": "2024-06-10T12:58:49.214Z"
   },
   {
    "duration": 26,
    "start_time": "2024-06-10T12:58:49.250Z"
   },
   {
    "duration": 5,
    "start_time": "2024-06-10T12:58:49.277Z"
   },
   {
    "duration": 1436,
    "start_time": "2024-06-10T13:00:02.836Z"
   },
   {
    "duration": 73,
    "start_time": "2024-06-10T13:00:04.274Z"
   },
   {
    "duration": 10,
    "start_time": "2024-06-10T13:00:04.349Z"
   },
   {
    "duration": 21,
    "start_time": "2024-06-10T13:00:04.361Z"
   },
   {
    "duration": 32,
    "start_time": "2024-06-10T13:00:04.384Z"
   },
   {
    "duration": 10,
    "start_time": "2024-06-10T13:00:04.417Z"
   },
   {
    "duration": 783632,
    "start_time": "2024-06-10T13:00:04.428Z"
   },
   {
    "duration": 2103,
    "start_time": "2024-06-10T13:13:08.061Z"
   },
   {
    "duration": 586,
    "start_time": "2024-06-10T13:13:10.166Z"
   },
   {
    "duration": 28,
    "start_time": "2024-06-10T13:13:10.754Z"
   },
   {
    "duration": 1348,
    "start_time": "2024-06-10T14:42:28.298Z"
   },
   {
    "duration": 86,
    "start_time": "2024-06-10T14:42:29.648Z"
   },
   {
    "duration": 10,
    "start_time": "2024-06-10T14:42:29.736Z"
   },
   {
    "duration": 26,
    "start_time": "2024-06-10T14:42:29.748Z"
   },
   {
    "duration": 8,
    "start_time": "2024-06-10T14:42:29.776Z"
   },
   {
    "duration": 5,
    "start_time": "2024-06-10T14:42:29.786Z"
   },
   {
    "duration": 808,
    "start_time": "2024-06-10T14:42:29.792Z"
   },
   {
    "duration": 20,
    "start_time": "2024-06-10T14:42:30.602Z"
   },
   {
    "duration": 54,
    "start_time": "2024-06-10T14:42:30.624Z"
   },
   {
    "duration": 48,
    "start_time": "2024-06-10T14:42:30.679Z"
   },
   {
    "duration": 1309,
    "start_time": "2024-06-10T14:43:44.645Z"
   },
   {
    "duration": 101,
    "start_time": "2024-06-10T14:43:45.955Z"
   },
   {
    "duration": 10,
    "start_time": "2024-06-10T14:43:46.058Z"
   },
   {
    "duration": 9,
    "start_time": "2024-06-10T14:43:46.070Z"
   },
   {
    "duration": 5,
    "start_time": "2024-06-10T14:43:46.080Z"
   },
   {
    "duration": 9,
    "start_time": "2024-06-10T14:43:46.086Z"
   },
   {
    "duration": 1324,
    "start_time": "2024-06-10T14:44:21.307Z"
   },
   {
    "duration": 71,
    "start_time": "2024-06-10T14:44:22.633Z"
   },
   {
    "duration": 19,
    "start_time": "2024-06-10T14:44:22.706Z"
   },
   {
    "duration": 10,
    "start_time": "2024-06-10T14:44:22.727Z"
   },
   {
    "duration": 5,
    "start_time": "2024-06-10T14:44:22.739Z"
   },
   {
    "duration": 6,
    "start_time": "2024-06-10T14:44:22.745Z"
   },
   {
    "duration": 1341,
    "start_time": "2024-06-10T14:55:38.099Z"
   },
   {
    "duration": 79,
    "start_time": "2024-06-10T14:55:39.442Z"
   },
   {
    "duration": 11,
    "start_time": "2024-06-10T14:55:39.523Z"
   },
   {
    "duration": 7,
    "start_time": "2024-06-10T14:55:39.536Z"
   },
   {
    "duration": 8,
    "start_time": "2024-06-10T14:55:39.545Z"
   },
   {
    "duration": 5,
    "start_time": "2024-06-10T14:55:39.554Z"
   },
   {
    "duration": 1346,
    "start_time": "2024-06-10T15:43:13.030Z"
   },
   {
    "duration": 84,
    "start_time": "2024-06-10T15:43:14.377Z"
   },
   {
    "duration": 12,
    "start_time": "2024-06-10T15:43:14.463Z"
   },
   {
    "duration": 13,
    "start_time": "2024-06-10T15:43:14.477Z"
   },
   {
    "duration": 6,
    "start_time": "2024-06-10T15:43:14.491Z"
   },
   {
    "duration": 23,
    "start_time": "2024-06-10T15:43:14.498Z"
   },
   {
    "duration": 5289151,
    "start_time": "2024-06-10T15:43:14.524Z"
   },
   {
    "duration": 598,
    "start_time": "2024-06-10T17:11:23.676Z"
   },
   {
    "duration": 25,
    "start_time": "2024-06-10T17:11:24.276Z"
   },
   {
    "duration": 24,
    "start_time": "2024-06-10T17:11:24.302Z"
   },
   {
    "duration": 1336,
    "start_time": "2024-06-10T17:12:14.823Z"
   },
   {
    "duration": 77,
    "start_time": "2024-06-10T17:12:16.160Z"
   },
   {
    "duration": 12,
    "start_time": "2024-06-10T17:12:16.239Z"
   },
   {
    "duration": 10,
    "start_time": "2024-06-10T17:12:16.252Z"
   },
   {
    "duration": 4,
    "start_time": "2024-06-10T17:12:16.264Z"
   },
   {
    "duration": 9,
    "start_time": "2024-06-10T17:12:16.269Z"
   },
   {
    "duration": 2488218,
    "start_time": "2024-06-10T17:12:16.279Z"
   },
   {
    "duration": 563,
    "start_time": "2024-06-10T17:53:44.498Z"
   },
   {
    "duration": 25,
    "start_time": "2024-06-10T17:53:45.063Z"
   },
   {
    "duration": 7,
    "start_time": "2024-06-10T17:53:45.090Z"
   },
   {
    "duration": 49,
    "start_time": "2024-06-13T11:08:19.602Z"
   }
  ],
  "kernelspec": {
   "display_name": "Python 3 (ipykernel)",
   "language": "python",
   "name": "python3"
  },
  "language_info": {
   "codemirror_mode": {
    "name": "ipython",
    "version": 3
   },
   "file_extension": ".py",
   "mimetype": "text/x-python",
   "name": "python",
   "nbconvert_exporter": "python",
   "pygments_lexer": "ipython3",
   "version": "3.9.5"
  },
  "toc": {
   "base_numbering": 1,
   "nav_menu": {},
   "number_sections": true,
   "sideBar": true,
   "skip_h1_title": true,
   "title_cell": "Table of Contents",
   "title_sidebar": "Contents",
   "toc_cell": false,
   "toc_position": {},
   "toc_section_display": true,
   "toc_window_display": false
  }
 },
 "nbformat": 4,
 "nbformat_minor": 5
}
