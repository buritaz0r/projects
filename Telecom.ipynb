{
 "cells": [
  {
   "cell_type": "markdown",
   "id": "dd5e47a8",
   "metadata": {
    "toc": true
   },
   "source": [
    "<h1>Содержание<span class=\"tocSkip\"></span></h1>\n",
    "<div class=\"toc\"><ul class=\"toc-item\"><li><span><a href=\"#Загрузка-данных.\" data-toc-modified-id=\"Загрузка-данных.-1\"><span class=\"toc-item-num\">1&nbsp;&nbsp;</span>Загрузка данных.</a></span></li><li><span><a href=\"#Исследовательский-анализ-и-предобработка-данных.\" data-toc-modified-id=\"Исследовательский-анализ-и-предобработка-данных.-2\"><span class=\"toc-item-num\">2&nbsp;&nbsp;</span>Исследовательский анализ и предобработка данных.</a></span></li><li><span><a href=\"#Объединение-данных.\" data-toc-modified-id=\"Объединение-данных.-3\"><span class=\"toc-item-num\">3&nbsp;&nbsp;</span>Объединение данных.</a></span></li><li><span><a href=\"#Предобработка-данных.\" data-toc-modified-id=\"Предобработка-данных.-4\"><span class=\"toc-item-num\">4&nbsp;&nbsp;</span>Предобработка данных.</a></span></li><li><span><a href=\"#Анализ-корелляций-объединённого-датафрейма.\" data-toc-modified-id=\"Анализ-корелляций-объединённого-датафрейма.-5\"><span class=\"toc-item-num\">5&nbsp;&nbsp;</span>Анализ корелляций объединённого датафрейма.</a></span></li><li><span><a href=\"#Разделение-данных-на-две-выборки.\" data-toc-modified-id=\"Разделение-данных-на-две-выборки.-6\"><span class=\"toc-item-num\">6&nbsp;&nbsp;</span>Разделение данных на две выборки.</a></span></li><li><span><a href=\"#Кодирование.\" data-toc-modified-id=\"Кодирование.-7\"><span class=\"toc-item-num\">7&nbsp;&nbsp;</span>Кодирование.</a></span></li><li><span><a href=\"#Обучение-моделей-машинного-обучения.\" data-toc-modified-id=\"Обучение-моделей-машинного-обучения.-8\"><span class=\"toc-item-num\">8&nbsp;&nbsp;</span>Обучение моделей машинного обучения.</a></span></li><li><span><a href=\"#Проверка-лучшей-модели-на-тестовой-выборке.\" data-toc-modified-id=\"Проверка-лучшей-модели-на-тестовой-выборке.-9\"><span class=\"toc-item-num\">9&nbsp;&nbsp;</span>Проверка лучшей модели на тестовой выборке.</a></span></li><li><span><a href=\"#Анализ-лучшей-модели.\" data-toc-modified-id=\"Анализ-лучшей-модели.-10\"><span class=\"toc-item-num\">10&nbsp;&nbsp;</span>Анализ лучшей модели.</a></span></li><li><span><a href=\"#Общий-вывод.\" data-toc-modified-id=\"Общий-вывод.-11\"><span class=\"toc-item-num\">11&nbsp;&nbsp;</span>Общий вывод.</a></span></li></ul></div>"
   ]
  },
  {
   "cell_type": "markdown",
   "id": "5181a37e",
   "metadata": {},
   "source": [
    "# Описание проекта: телекоммуникации.\n",
    "\n",
    "Оператор связи «ТелеДом» хочет бороться с оттоком клиентов. Для этого его сотрудники начнут предлагать промокоды и специальные условия всем, кто планирует отказаться от услуг связи. Чтобы заранее находить таких пользователей, «ТелеДому» нужна модель, которая будет предсказывать, разорвёт ли абонент договор. Команда оператора собрала персональные данные о некоторых клиентах, информацию об их тарифах и услугах. Моя задача — обучить на этих данных модель для прогноза оттока клиентов."
   ]
  },
  {
   "cell_type": "markdown",
   "id": "3a917468",
   "metadata": {},
   "source": [
    "### Загрузка данных.\n",
    "Загрузим данные и выполним их первичный осмотр."
   ]
  },
  {
   "cell_type": "code",
   "execution_count": 1,
   "id": "bc99794f",
   "metadata": {},
   "outputs": [
    {
     "name": "stdout",
     "output_type": "stream",
     "text": [
      "Collecting phik\n",
      "  Downloading phik-0.12.3-cp39-cp39-manylinux_2_17_x86_64.manylinux2014_x86_64.whl (679 kB)\n",
      "\u001b[K     |████████████████████████████████| 679 kB 2.5 MB/s eta 0:00:01\n",
      "\u001b[?25hRequirement already satisfied: joblib>=0.14.1 in /opt/conda/lib/python3.9/site-packages (from phik) (1.1.0)\n",
      "Requirement already satisfied: scipy>=1.5.2 in /opt/conda/lib/python3.9/site-packages (from phik) (1.9.1)\n",
      "Requirement already satisfied: matplotlib>=2.2.3 in /opt/conda/lib/python3.9/site-packages (from phik) (3.3.4)\n",
      "Requirement already satisfied: numpy>=1.18.0 in /opt/conda/lib/python3.9/site-packages (from phik) (1.21.1)\n",
      "Requirement already satisfied: pandas>=0.25.1 in /opt/conda/lib/python3.9/site-packages (from phik) (1.2.4)\n",
      "Requirement already satisfied: python-dateutil>=2.1 in /opt/conda/lib/python3.9/site-packages (from matplotlib>=2.2.3->phik) (2.8.1)\n",
      "Requirement already satisfied: pyparsing!=2.0.4,!=2.1.2,!=2.1.6,>=2.0.3 in /opt/conda/lib/python3.9/site-packages (from matplotlib>=2.2.3->phik) (2.4.7)\n",
      "Requirement already satisfied: kiwisolver>=1.0.1 in /opt/conda/lib/python3.9/site-packages (from matplotlib>=2.2.3->phik) (1.4.4)\n",
      "Requirement already satisfied: pillow>=6.2.0 in /opt/conda/lib/python3.9/site-packages (from matplotlib>=2.2.3->phik) (8.4.0)\n",
      "Requirement already satisfied: cycler>=0.10 in /opt/conda/lib/python3.9/site-packages (from matplotlib>=2.2.3->phik) (0.11.0)\n",
      "Requirement already satisfied: pytz>=2017.3 in /opt/conda/lib/python3.9/site-packages (from pandas>=0.25.1->phik) (2021.1)\n",
      "Requirement already satisfied: six>=1.5 in /opt/conda/lib/python3.9/site-packages (from python-dateutil>=2.1->matplotlib>=2.2.3->phik) (1.16.0)\n",
      "Installing collected packages: phik\n",
      "Successfully installed phik-0.12.3\n"
     ]
    }
   ],
   "source": [
    "# Загрузим все нужные библиотеки\n",
    "import pandas as pd\n",
    "import matplotlib.pyplot as plt\n",
    "import seaborn as sns\n",
    "import numpy as np\n",
    "\n",
    "from sklearn.metrics import confusion_matrix\n",
    "from sklearn.dummy import DummyClassifier\n",
    "from sklearn.compose import ColumnTransformer\n",
    "from sklearn.preprocessing import StandardScaler, OneHotEncoder\n",
    "from sklearn.pipeline import Pipeline\n",
    "from sklearn.model_selection import train_test_split\n",
    "from sklearn.model_selection import GridSearchCV\n",
    "from catboost import CatBoostClassifier\n",
    "from sklearn.ensemble import RandomForestClassifier\n",
    "from sklearn.metrics import roc_auc_score\n",
    "\n",
    "# Установка библиотеки phik\n",
    "!pip install phik\n",
    "import phik\n",
    "\n",
    "RANDOM_STATE = 111223"
   ]
  },
  {
   "cell_type": "code",
   "execution_count": 2,
   "id": "10605b97",
   "metadata": {},
   "outputs": [],
   "source": [
    "# Загрузка данных\n",
    "contract_data = pd.read_csv('/datasets/contract_new.csv')\n",
    "personal_data = pd.read_csv('/datasets/personal_new.csv')\n",
    "internet_data = pd.read_csv('/datasets/internet_new.csv')\n",
    "phone_data = pd.read_csv('/datasets/phone_new.csv')"
   ]
  },
  {
   "cell_type": "code",
   "execution_count": 3,
   "id": "4fc2db12",
   "metadata": {
    "scrolled": true
   },
   "outputs": [
    {
     "name": "stdout",
     "output_type": "stream",
     "text": [
      "Contract Data - Head:\n",
      "   customerID   BeginDate EndDate            Type PaperlessBilling  \\\n",
      "0  7590-VHVEG  2020-01-01      No  Month-to-month              Yes   \n",
      "1  5575-GNVDE  2017-04-01      No        One year               No   \n",
      "2  3668-QPYBK  2019-10-01      No  Month-to-month              Yes   \n",
      "3  7795-CFOCW  2016-05-01      No        One year               No   \n",
      "4  9237-HQITU  2019-09-01      No  Month-to-month              Yes   \n",
      "\n",
      "               PaymentMethod  MonthlyCharges TotalCharges  \n",
      "0           Electronic check           29.85        31.04  \n",
      "1               Mailed check           56.95      2071.84  \n",
      "2               Mailed check           53.85       226.17  \n",
      "3  Bank transfer (automatic)           42.30       1960.6  \n",
      "4           Electronic check           70.70        353.5  \n",
      "\n",
      "Contract Data - Info:\n",
      "<class 'pandas.core.frame.DataFrame'>\n",
      "RangeIndex: 7043 entries, 0 to 7042\n",
      "Data columns (total 8 columns):\n",
      " #   Column            Non-Null Count  Dtype  \n",
      "---  ------            --------------  -----  \n",
      " 0   customerID        7043 non-null   object \n",
      " 1   BeginDate         7043 non-null   object \n",
      " 2   EndDate           7043 non-null   object \n",
      " 3   Type              7043 non-null   object \n",
      " 4   PaperlessBilling  7043 non-null   object \n",
      " 5   PaymentMethod     7043 non-null   object \n",
      " 6   MonthlyCharges    7043 non-null   float64\n",
      " 7   TotalCharges      7043 non-null   object \n",
      "dtypes: float64(1), object(7)\n",
      "memory usage: 440.3+ KB\n",
      "None\n",
      "\n",
      "Количество дубликатов в Contract Data: 0\n"
     ]
    }
   ],
   "source": [
    "# Исследование данных для contract_data (информация о договоре).\n",
    "print(\"Contract Data - Head:\")\n",
    "print(contract_data.head(5))\n",
    "\n",
    "print(\"\\nContract Data - Info:\")\n",
    "print(contract_data.info())\n",
    "\n",
    "# Проверка на дубликаты\n",
    "duplicate_rows = contract_data[contract_data.duplicated()]\n",
    "print(\"\\nКоличество дубликатов в Contract Data:\", duplicate_rows.shape[0])"
   ]
  },
  {
   "cell_type": "markdown",
   "id": "3ecaf0b5",
   "metadata": {},
   "source": [
    "**1. Описание данных:**\n",
    "\n",
    "**customerID** — идентификатор абонента  \n",
    "**BeginDate** — дата начала действия договора  \n",
    "**EndDate** — дата окончания действия договора  \n",
    "**Type** — тип оплаты: раз в год-два или ежемесячно  \n",
    "**PaperlessBilling** — электронный расчётный лист  \n",
    "**PaymentMethod** — тип платежа  \n",
    "**MonthlyCharges** — расходы за месяц  \n",
    "**TotalCharges** — общие расходы абонента.  \n",
    "\n",
    "**2. Информация о данных:**\n",
    "\n",
    "7043 записей.  \n",
    "Пропущенных значений нет.  \n",
    "Тип данных: 1 столбец с числовыми данными (MonthlyCharges), 7 столбцов с данными типа \"object\".  \n",
    "\n",
    "**3. Описательная статистика:**\n",
    "\n",
    "Средние ежемесячные расходы абонентов составляют около 64.76.   \n",
    "Минимальные расходы в месяц - 18.25, максимальные - 118.75.    \n",
    "Большинство абонентов имеют ежемесячные расходы в интервале от 35.50 до 89.85.    \n",
    "\n",
    "**4. Проверка на дубликаты:**  \n",
    "\n",
    "Дубликатов не обнаружено.  "
   ]
  },
  {
   "cell_type": "code",
   "execution_count": 4,
   "id": "26a7fd1d",
   "metadata": {},
   "outputs": [
    {
     "name": "stdout",
     "output_type": "stream",
     "text": [
      "\n",
      "Personal Data - Head:\n",
      "   customerID  gender  SeniorCitizen Partner Dependents\n",
      "0  7590-VHVEG  Female              0     Yes         No\n",
      "1  5575-GNVDE    Male              0      No         No\n",
      "2  3668-QPYBK    Male              0      No         No\n",
      "3  7795-CFOCW    Male              0      No         No\n",
      "4  9237-HQITU  Female              0      No         No\n",
      "\n",
      "Personal Data - Info:\n",
      "<class 'pandas.core.frame.DataFrame'>\n",
      "RangeIndex: 7043 entries, 0 to 7042\n",
      "Data columns (total 5 columns):\n",
      " #   Column         Non-Null Count  Dtype \n",
      "---  ------         --------------  ----- \n",
      " 0   customerID     7043 non-null   object\n",
      " 1   gender         7043 non-null   object\n",
      " 2   SeniorCitizen  7043 non-null   int64 \n",
      " 3   Partner        7043 non-null   object\n",
      " 4   Dependents     7043 non-null   object\n",
      "dtypes: int64(1), object(4)\n",
      "memory usage: 275.2+ KB\n",
      "None\n",
      "\n",
      "Количество дубликатов в Personal Data: 0\n"
     ]
    }
   ],
   "source": [
    "# Исследование данных для personal_data (персональные данные клиента).\n",
    "print(\"\\nPersonal Data - Head:\")\n",
    "print(personal_data.head(5))\n",
    "\n",
    "print(\"\\nPersonal Data - Info:\")\n",
    "print(personal_data.info())\n",
    "\n",
    "# Проверка на дубликаты\n",
    "duplicate_rows_personal = personal_data[personal_data.duplicated()]\n",
    "print(\"\\nКоличество дубликатов в Personal Data:\", duplicate_rows_personal.shape[0])"
   ]
  },
  {
   "cell_type": "markdown",
   "id": "6ab1199b",
   "metadata": {},
   "source": [
    "**1. Описание данных:**\n",
    "\n",
    "**customerID** — идентификатор абонента   \n",
    "**gender** — пол (Male/Female)    \n",
    "**SeniorCitizen** — является ли абонент пенсионером (0 - нет, 1 - да)  \n",
    "**Partner** — есть ли у абонента супруг или супруга (Yes/No)  \n",
    "**Dependents** — есть ли у абонента дети (Yes/No).  \n",
    "\n",
    "**2. Информация о данных:**\n",
    "\n",
    "7043 записей.  \n",
    "Пропущенных значений нет.  \n",
    "Тип данных: 1 столбец с числовыми данными (SeniorCitizen), 4 столбца с данными типа \"object\".  \n",
    "\n",
    "**3. Описательная статистика:**  \n",
    "\n",
    "Примерно 16% абонентов являются пенсионерами.  \n",
    "Минимальное и максимальное значения в столбце SeniorCitizen - 0 и 1 соответственно.  \n",
    "\n",
    "**4. Проверка на дубликаты:**  \n",
    "\n",
    "Дубликатов не обнаружено.  "
   ]
  },
  {
   "cell_type": "code",
   "execution_count": 5,
   "id": "6ea9e563",
   "metadata": {},
   "outputs": [
    {
     "name": "stdout",
     "output_type": "stream",
     "text": [
      "\n",
      "Internet Data - Head:\n",
      "   customerID InternetService OnlineSecurity OnlineBackup DeviceProtection  \\\n",
      "0  7590-VHVEG             DSL             No          Yes               No   \n",
      "1  5575-GNVDE             DSL            Yes           No              Yes   \n",
      "2  3668-QPYBK             DSL            Yes          Yes               No   \n",
      "3  7795-CFOCW             DSL            Yes           No              Yes   \n",
      "4  9237-HQITU     Fiber optic             No           No               No   \n",
      "\n",
      "  TechSupport StreamingTV StreamingMovies  \n",
      "0          No          No              No  \n",
      "1          No          No              No  \n",
      "2          No          No              No  \n",
      "3         Yes          No              No  \n",
      "4          No          No              No  \n",
      "\n",
      "Internet Data - Info:\n",
      "<class 'pandas.core.frame.DataFrame'>\n",
      "RangeIndex: 5517 entries, 0 to 5516\n",
      "Data columns (total 8 columns):\n",
      " #   Column            Non-Null Count  Dtype \n",
      "---  ------            --------------  ----- \n",
      " 0   customerID        5517 non-null   object\n",
      " 1   InternetService   5517 non-null   object\n",
      " 2   OnlineSecurity    5517 non-null   object\n",
      " 3   OnlineBackup      5517 non-null   object\n",
      " 4   DeviceProtection  5517 non-null   object\n",
      " 5   TechSupport       5517 non-null   object\n",
      " 6   StreamingTV       5517 non-null   object\n",
      " 7   StreamingMovies   5517 non-null   object\n",
      "dtypes: object(8)\n",
      "memory usage: 344.9+ KB\n",
      "None\n",
      "\n",
      "Internet Data - Describe:\n",
      "        customerID InternetService OnlineSecurity OnlineBackup  \\\n",
      "count         5517            5517           5517         5517   \n",
      "unique        5517               2              2            2   \n",
      "top     1455-ESIQH     Fiber optic             No           No   \n",
      "freq             1            3096           3498         3088   \n",
      "\n",
      "       DeviceProtection TechSupport StreamingTV StreamingMovies  \n",
      "count              5517        5517        5517            5517  \n",
      "unique                2           2           2               2  \n",
      "top                  No          No          No              No  \n",
      "freq               3095        3473        2810            2785  \n",
      "\n",
      "Количество дубликатов в Internet Data: 0\n"
     ]
    }
   ],
   "source": [
    "# Исследование данных для internet_data (информация об интернет-услугах)\n",
    "print(\"\\nInternet Data - Head:\")\n",
    "print(internet_data.head(5))\n",
    "\n",
    "print(\"\\nInternet Data - Info:\")\n",
    "print(internet_data.info())\n",
    "\n",
    "print(\"\\nInternet Data - Describe:\")\n",
    "print(internet_data.describe())\n",
    "\n",
    "# Проверка на дубликаты\n",
    "duplicate_rows_internet = internet_data[internet_data.duplicated()]\n",
    "print(\"\\nКоличество дубликатов в Internet Data:\", duplicate_rows_internet.shape[0])"
   ]
  },
  {
   "cell_type": "markdown",
   "id": "a390c1c0",
   "metadata": {},
   "source": [
    "**1. Описание данных:**  \n",
    "\n",
    "**customerID** — идентификатор абонента  \n",
    "**InternetService** — тип подключения (DSL/Fiber optic)  \n",
    "**OnlineSecurity** — блокировка опасных сайтов (Yes/No)  \n",
    "**OnlineBackup** — облачное хранилище файлов для резервного копирования данных (Yes/No)  \n",
    "**DeviceProtection** — антивирус (Yes/No)  \n",
    "**TechSupport** — выделенная линия технической поддержки (Yes/No)  \n",
    "**StreamingTV** — стриминговое телевидение (Yes/No)  \n",
    "**StreamingMovies** — каталог фильмов (Yes/No).  \n",
    "\n",
    "**2. Информация о данных:**    \n",
    "\n",
    "5517 записей.    \n",
    "Пропущенных значений нет.    \n",
    "Тип данных: все столбцы типа \"object\".    \n",
    "\n",
    "**3. Описательная статистика:**\n",
    "\n",
    "Преобладающий тип подключения - Fiber optic.    \n",
    "Большинство абонентов не используют дополнительные услуги, такие как блокировка опасных сайтов, облачное хранилище файлов, антивирус.    \n",
    "\n",
    "**4. Проверка на дубликаты:**  \n",
    "\n",
    "Дубликатов не обнаружено.    "
   ]
  },
  {
   "cell_type": "code",
   "execution_count": 6,
   "id": "fd89bde3",
   "metadata": {},
   "outputs": [
    {
     "name": "stdout",
     "output_type": "stream",
     "text": [
      "\n",
      "Phone Data - Head:\n",
      "   customerID MultipleLines\n",
      "0  5575-GNVDE            No\n",
      "1  3668-QPYBK            No\n",
      "2  9237-HQITU            No\n",
      "3  9305-CDSKC           Yes\n",
      "4  1452-KIOVK           Yes\n",
      "\n",
      "Phone Data - Info:\n",
      "<class 'pandas.core.frame.DataFrame'>\n",
      "RangeIndex: 6361 entries, 0 to 6360\n",
      "Data columns (total 2 columns):\n",
      " #   Column         Non-Null Count  Dtype \n",
      "---  ------         --------------  ----- \n",
      " 0   customerID     6361 non-null   object\n",
      " 1   MultipleLines  6361 non-null   object\n",
      "dtypes: object(2)\n",
      "memory usage: 99.5+ KB\n",
      "None\n",
      "\n",
      "Количество дубликатов в Phone Data: 0\n"
     ]
    }
   ],
   "source": [
    "# Исследование данных для phone_data\n",
    "print(\"\\nPhone Data - Head:\")\n",
    "print(phone_data.head(5))\n",
    "\n",
    "print(\"\\nPhone Data - Info:\")\n",
    "print(phone_data.info())\n",
    "\n",
    "# Проверка на дубликаты\n",
    "duplicate_rows_phone = phone_data[phone_data.duplicated()]\n",
    "print(\"\\nКоличество дубликатов в Phone Data:\", duplicate_rows_phone.shape[0])"
   ]
  },
  {
   "cell_type": "markdown",
   "id": "762a9b6e",
   "metadata": {},
   "source": [
    "**1. Описание данных:**    \n",
    "\n",
    "**customerID** — идентификатор абонент.  \n",
    "**MultipleLines** — подключение телефона к нескольким линиям одновременно (Yes/No).  \n",
    "\n",
    "**2. Информация о данных:**    \n",
    "\n",
    "6361 записей.  \n",
    "Пропущенных значений нет.  \n",
    "Тип данных: оба столбца типа \"object\".  \n",
    "\n",
    "**3. Описательная статистика:**  \n",
    "\n",
    "Примерно 53% абонентов не имеют возможности подключения телефона к нескольким линиям одновременно.  \n",
    "\n",
    "**4. Проверка на дубликаты:**  \n",
    "\n",
    "Дубликатов не обнаружено.  "
   ]
  },
  {
   "cell_type": "markdown",
   "id": "8ed1448b",
   "metadata": {},
   "source": [
    "### Исследовательский анализ и предобработка данных.\n",
    "\n",
    "Выполним исследовательский анализ каждого датафрейма и при необходимости сделаем предобработку. Сделаем выводы об имеющихся признаках: понадобятся ли они для обучения моделей."
   ]
  },
  {
   "cell_type": "code",
   "execution_count": 7,
   "id": "c941cb3b",
   "metadata": {},
   "outputs": [],
   "source": [
    "# Заменить пустые строки на NaN\n",
    "contract_data['TotalCharges'] = contract_data['TotalCharges'].replace('', np.nan)\n",
    "\n",
    "# Преобразовать столбец 'TotalCharges' в числовой тип\n",
    "contract_data['TotalCharges'] = pd.to_numeric(contract_data['TotalCharges'], errors='coerce')"
   ]
  },
  {
   "cell_type": "code",
   "execution_count": 8,
   "id": "4f52fcba",
   "metadata": {},
   "outputs": [
    {
     "data": {
      "image/png": "[encoded data removed]",
      "text/plain": [
       "<Figure size 864x576 with 1 Axes>"
      ]
     },
     "metadata": {
      "needs_background": "light"
     },
     "output_type": "display_data"
    },
    {
     "data": {
      "image/png": "[encoded data removed]",
      "text/plain": [
       "<Figure size 864x576 with 1 Axes>"
      ]
     },
     "metadata": {
      "needs_background": "light"
     },
     "output_type": "display_data"
    }
   ],
   "source": [
    "# Визуализация распределения месячных платежей\n",
    "plt.figure(figsize=(12, 8))\n",
    "sns.histplot(contract_data['MonthlyCharges'], kde=True)\n",
    "plt.title('Распределение ежемесячных платежей в договорных данных')\n",
    "plt.xlabel('Ежемесячные платежи')\n",
    "plt.ylabel('Частота')\n",
    "plt.show()\n",
    "\n",
    "# Визуализация распределения общих платежей\n",
    "plt.figure(figsize=(12, 8))\n",
    "sns.histplot(contract_data['TotalCharges'], kde=True)\n",
    "plt.title('Распределение общих платежей в договорных данных')\n",
    "plt.xlabel('Общие платежи')\n",
    "plt.ylabel('Частота')\n",
    "plt.show()"
   ]
  },
  {
   "cell_type": "code",
   "execution_count": 9,
   "id": "47c8deb4",
   "metadata": {},
   "outputs": [
    {
     "name": "stdout",
     "output_type": "stream",
     "text": [
      "Describe для месячных платежей:\n",
      "count    7043.000000\n",
      "mean       64.761692\n",
      "std        30.090047\n",
      "min        18.250000\n",
      "25%        35.500000\n",
      "50%        70.350000\n",
      "75%        89.850000\n",
      "max       118.750000\n",
      "Name: MonthlyCharges, dtype: float64\n",
      "\n",
      "Describe для общих платежей:\n",
      "count    7032.000000\n",
      "mean     2118.621822\n",
      "std      2112.736199\n",
      "min        19.050000\n",
      "25%       439.745000\n",
      "50%      1345.275000\n",
      "75%      3239.317500\n",
      "max      9221.380000\n",
      "Name: TotalCharges, dtype: float64\n"
     ]
    }
   ],
   "source": [
    "# Вывод данных describe для месячных платежей и общих платежей\n",
    "print(\"Describe для месячных платежей:\")\n",
    "print(contract_data['MonthlyCharges'].describe())\n",
    "\n",
    "print(\"\\nDescribe для общих платежей:\")\n",
    "print(contract_data['TotalCharges'].describe())"
   ]
  },
  {
   "cell_type": "markdown",
   "id": "4c376f16",
   "metadata": {},
   "source": [
    "**Анализ месячных платежей:**\n",
    "- Средний ежемесячный платеж составляет приблизительно 64.76 доллара, с минимальным значением в 18.25 доллара и максимальным в 118.75 доллара.\n",
    "- Распределение ежемесячных платежей имеет достаточно высокий стандартный разброс (std = 30.09 доллара), что указывает на значительное разнообразие в платежах между клиентами.\n",
    "- 25% клиентов платят менее 35.50 долларов в месяц, в то время как 75% платят менее 89.85 долларов.\n",
    "- Медианное значение (50%) для месячных платежей равно 70.35 доллара, что может служить хорошим показателем центральной тенденции.\n",
    "\n",
    "**Анализ общих платежей:**\n",
    "- Среднее значение общих платежей составляет приблизительно 2118.62 доллара, с минимальным значением в 19.05 доллара и максимальным в 9221.38 доллара.\n",
    "- Аналогично месячным платежам, общие платежи имеют высокий стандартный разброс (std = 2112.74 доллара), что указывает на значительное разнообразие в общих платежах клиентов.\n",
    "- 25% клиентов имеют общие платежи менее 439.75 долларов, в то время как 75% менее 3239.32 долларов.\n",
    "- Медианное значение (50%) для общих платежей равно 1345.28 доллара, что может служить показателем центральной тенденции, но также отражает наличие значительного разброса в данных."
   ]
  },
  {
   "cell_type": "code",
   "execution_count": 10,
   "id": "9041b489",
   "metadata": {},
   "outputs": [
    {
     "data": {
      "image/png": "[encoded data removed]",
      "text/plain": [
       "<Figure size 576x432 with 1 Axes>"
      ]
     },
     "metadata": {
      "needs_background": "light"
     },
     "output_type": "display_data"
    },
    {
     "data": {
      "image/png": "[encoded data removed]",
      "text/plain": [
       "<Figure size 576x432 with 1 Axes>"
      ]
     },
     "metadata": {
      "needs_background": "light"
     },
     "output_type": "display_data"
    },
    {
     "data": {
      "image/png": "[encoded data removed]",
      "text/plain": [
       "<Figure size 576x432 with 1 Axes>"
      ]
     },
     "metadata": {
      "needs_background": "light"
     },
     "output_type": "display_data"
    },
    {
     "data": {
      "image/png": "[encoded data removed]",
      "text/plain": [
       "<Figure size 576x432 with 1 Axes>"
      ]
     },
     "metadata": {
      "needs_background": "light"
     },
     "output_type": "display_data"
    }
   ],
   "source": [
    "plt.figure(figsize=(8, 6))\n",
    "sns.countplot(data=personal_data, x='gender')\n",
    "plt.title('Количество полов в личных данных')\n",
    "plt.xlabel('Пол')\n",
    "plt.ylabel('Количество')\n",
    "plt.show()\n",
    "\n",
    "plt.figure(figsize=(8, 6))\n",
    "sns.countplot(data=personal_data, x='SeniorCitizen')\n",
    "plt.title('Количество пенсионеров в личных данных')\n",
    "plt.xlabel('Пенсионер (1: Да, 0: Нет)')\n",
    "plt.ylabel('Количество')\n",
    "plt.show()\n",
    "\n",
    "plt.figure(figsize=(8, 6))\n",
    "sns.countplot(data=personal_data, x='Partner')\n",
    "plt.title('Количество партнеров в личных данных')\n",
    "plt.xlabel('Партнер (1: Да, 0: Нет)')\n",
    "plt.ylabel('Количество')\n",
    "plt.show()\n",
    "\n",
    "plt.figure(figsize=(8, 6))\n",
    "sns.countplot(data=personal_data, x='Dependents')\n",
    "plt.title('Количество иждивенцев в личных данных')\n",
    "plt.xlabel('Иждивенцы (1: Да, 0: Нет)')\n",
    "plt.ylabel('Количество')\n",
    "plt.show()"
   ]
  },
  {
   "cell_type": "code",
   "execution_count": 11,
   "id": "02ac41dd",
   "metadata": {},
   "outputs": [
    {
     "name": "stdout",
     "output_type": "stream",
     "text": [
      "Количество полов:\n",
      "Male      3555\n",
      "Female    3488\n",
      "Name: gender, dtype: int64\n",
      "\n",
      "Количество пенсионеров:\n",
      "0    5901\n",
      "1    1142\n",
      "Name: SeniorCitizen, dtype: int64\n",
      "\n",
      "Количество клиентов с партнерами:\n",
      "No     3641\n",
      "Yes    3402\n",
      "Name: Partner, dtype: int64\n",
      "\n",
      "Количество клиентов с иждивенцами:\n",
      "No     4933\n",
      "Yes    2110\n",
      "Name: Dependents, dtype: int64\n"
     ]
    }
   ],
   "source": [
    "# Количество уникальных значений и их частота для признака 'gender'\n",
    "gender_counts = personal_data['gender'].value_counts()\n",
    "\n",
    "# Количество уникальных значений и их частота для признака 'SeniorCitizen'\n",
    "senior_citizen_counts = personal_data['SeniorCitizen'].value_counts()\n",
    "\n",
    "# Количество уникальных значений и их частота для признака 'Partner'\n",
    "partner_counts = personal_data['Partner'].value_counts()\n",
    "\n",
    "# Количество уникальных значений и их частота для признака 'Dependents'\n",
    "dependents_counts = personal_data['Dependents'].value_counts()\n",
    "\n",
    "# Количество полов\n",
    "gender_counts = personal_data['gender'].value_counts()\n",
    "print(\"Количество полов:\")\n",
    "print(gender_counts)\n",
    "\n",
    "# Количество пенсионеров\n",
    "senior_citizen_counts = personal_data['SeniorCitizen'].value_counts()\n",
    "print(\"\\nКоличество пенсионеров:\")\n",
    "print(senior_citizen_counts)\n",
    "\n",
    "# Количество клиентов с партнерами\n",
    "partner_counts = personal_data['Partner'].value_counts()\n",
    "print(\"\\nКоличество клиентов с партнерами:\")\n",
    "print(partner_counts)\n",
    "\n",
    "# Количество клиентов с иждивенцами\n",
    "dependents_counts = personal_data['Dependents'].value_counts()\n",
    "print(\"\\nКоличество клиентов с иждивенцами:\")\n",
    "print(dependents_counts)\n"
   ]
  },
  {
   "cell_type": "markdown",
   "id": "bdcc5540",
   "metadata": {},
   "source": [
    "**Анализ признаков в личных данных:**\n",
    "- **Пол (Gender):** В данных представлены как мужчины (Male), так и женщины (Female). Примерно равное распределение, с небольшим преимуществом у мужчин (3555 против 3488).\n",
    "- **Пенсионер (Senior Citizen):** Большинство клиентов не являются пенсионерами (0 - 5901), в то время как 1142 клиента являются пенсионерами (1).\n",
    "- **Партнер (Partner):** Есть примерно равное количество клиентов, у которых есть партнер (Yes - 3402), и тех, у кого нет (No - 3641).\n",
    "- **Иждивенцы (Dependents):** Большинство клиентов не имеют иждивенцев (No - 4933), но также есть значительное количество клиентов с иждивенцами (Yes - 2110)."
   ]
  },
  {
   "cell_type": "code",
   "execution_count": 12,
   "id": "5adda54e",
   "metadata": {},
   "outputs": [
    {
     "data": {
      "image/png": "[encoded data removed]",
      "text/plain": [
       "<Figure size 576x432 with 1 Axes>"
      ]
     },
     "metadata": {
      "needs_background": "light"
     },
     "output_type": "display_data"
    },
    {
     "data": {
      "image/png": "[encoded data removed]",
      "text/plain": [
       "<Figure size 576x432 with 1 Axes>"
      ]
     },
     "metadata": {
      "needs_background": "light"
     },
     "output_type": "display_data"
    },
    {
     "data": {
      "image/png": "[encoded data removed]",
      "text/plain": [
       "<Figure size 576x432 with 1 Axes>"
      ]
     },
     "metadata": {
      "needs_background": "light"
     },
     "output_type": "display_data"
    },
    {
     "data": {
      "image/png": "[encoded data removed]",
      "text/plain": [
       "<Figure size 576x432 with 1 Axes>"
      ]
     },
     "metadata": {
      "needs_background": "light"
     },
     "output_type": "display_data"
    },
    {
     "data": {
      "image/png": "[encoded data removed]",
      "text/plain": [
       "<Figure size 576x432 with 1 Axes>"
      ]
     },
     "metadata": {
      "needs_background": "light"
     },
     "output_type": "display_data"
    },
    {
     "data": {
      "image/png": "[encoded data removed]",
      "text/plain": [
       "<Figure size 576x432 with 1 Axes>"
      ]
     },
     "metadata": {
      "needs_background": "light"
     },
     "output_type": "display_data"
    },
    {
     "data": {
      "image/png": "[encoded data removed]",
      "text/plain": [
       "<Figure size 576x432 with 1 Axes>"
      ]
     },
     "metadata": {
      "needs_background": "light"
     },
     "output_type": "display_data"
    }
   ],
   "source": [
    "# Количество уникальных значений и их частота для признака 'InternetService'\n",
    "internet_service_counts = internet_data['InternetService'].value_counts()\n",
    "\n",
    "# Визуализация\n",
    "plt.figure(figsize=(8, 6))\n",
    "sns.countplot(data=internet_data, x='InternetService')\n",
    "plt.title('Количество уникальных значений и их частота для признака \"InternetService\"')\n",
    "plt.xlabel('InternetService')\n",
    "plt.ylabel('Количество')\n",
    "plt.show()\n",
    "\n",
    "# Количество уникальных значений и их частота для признака 'OnlineSecurity'\n",
    "online_security_counts = internet_data['OnlineSecurity'].value_counts()\n",
    "\n",
    "# Визуализация\n",
    "plt.figure(figsize=(8, 6))\n",
    "sns.countplot(data=internet_data, x='OnlineSecurity')\n",
    "plt.title('Количество уникальных значений и их частота для признака \"OnlineSecurity\"')\n",
    "plt.xlabel('OnlineSecurity')\n",
    "plt.ylabel('Количество')\n",
    "plt.show()\n",
    "\n",
    "# Количество уникальных значений и их частота для признака 'OnlineBackup'\n",
    "online_backup_counts = internet_data['OnlineBackup'].value_counts()\n",
    "\n",
    "# Визуализация\n",
    "plt.figure(figsize=(8, 6))\n",
    "sns.countplot(data=internet_data, x='OnlineBackup')\n",
    "plt.title('Количество уникальных значений и их частота для признака \"OnlineBackup\"')\n",
    "plt.xlabel('OnlineBackup')\n",
    "plt.ylabel('Количество')\n",
    "plt.show()\n",
    "\n",
    "# Количество уникальных значений и их частота для признака 'DeviceProtection'\n",
    "device_protection_counts = internet_data['DeviceProtection'].value_counts()\n",
    "\n",
    "# Визуализация\n",
    "plt.figure(figsize=(8, 6))\n",
    "sns.countplot(data=internet_data, x='DeviceProtection')\n",
    "plt.title('Количество уникальных значений и их частота для признака \"DeviceProtection\"')\n",
    "plt.xlabel('DeviceProtection')\n",
    "plt.ylabel('Количество')\n",
    "plt.show()\n",
    "\n",
    "# Количество уникальных значений и их частота для признака 'TechSupport'\n",
    "tech_support_counts = internet_data['TechSupport'].value_counts()\n",
    "\n",
    "# Визуализация\n",
    "plt.figure(figsize=(8, 6))\n",
    "sns.countplot(data=internet_data, x='TechSupport')\n",
    "plt.title('Количество уникальных значений и их частота для признака \"TechSupport\"')\n",
    "plt.xlabel('TechSupport')\n",
    "plt.ylabel('Количество')\n",
    "plt.show()\n",
    "\n",
    "# Количество уникальных значений и их частота для признака 'StreamingTV'\n",
    "streaming_tv_counts = internet_data['StreamingTV'].value_counts()\n",
    "\n",
    "# Визуализация\n",
    "plt.figure(figsize=(8, 6))\n",
    "sns.countplot(data=internet_data, x='StreamingTV')\n",
    "plt.title('Количество уникальных значений и их частота для признака \"StreamingTV\"')\n",
    "plt.xlabel('StreamingTV')\n",
    "plt.ylabel('Количество')\n",
    "plt.show()\n",
    "\n",
    "# Количество уникальных значений и их частота для признака 'StreamingMovies'\n",
    "streaming_movies_counts = internet_data['StreamingMovies'].value_counts()\n",
    "\n",
    "# Визуализация\n",
    "plt.figure(figsize=(8, 6))\n",
    "sns.countplot(data=internet_data, x='StreamingMovies')\n",
    "plt.title('Количество уникальных значений и их частота для признака \"StreamingMovies\"')\n",
    "plt.xlabel('StreamingMovies')\n",
    "plt.ylabel('Количество')\n",
    "plt.show()\n",
    "\n"
   ]
  },
  {
   "cell_type": "code",
   "execution_count": 13,
   "id": "9d1388d0",
   "metadata": {},
   "outputs": [
    {
     "name": "stdout",
     "output_type": "stream",
     "text": [
      "Уникальные значения и их частота для признака 'InternetService':\n",
      "Fiber optic    3096\n",
      "DSL            2421\n",
      "Name: InternetService, dtype: int64\n",
      "\n",
      "Уникальные значения и их частота для признака 'OnlineSecurity':\n",
      "No     3498\n",
      "Yes    2019\n",
      "Name: OnlineSecurity, dtype: int64\n",
      "\n",
      "Уникальные значения и их частота для признака 'OnlineBackup':\n",
      "No     3088\n",
      "Yes    2429\n",
      "Name: OnlineBackup, dtype: int64\n",
      "\n",
      "Уникальные значения и их частота для признака 'DeviceProtection':\n",
      "No     3095\n",
      "Yes    2422\n",
      "Name: DeviceProtection, dtype: int64\n",
      "\n",
      "Уникальные значения и их частота для признака 'TechSupport':\n",
      "No     3473\n",
      "Yes    2044\n",
      "Name: TechSupport, dtype: int64\n",
      "\n",
      "Уникальные значения и их частота для признака 'StreamingTV':\n",
      "No     2810\n",
      "Yes    2707\n",
      "Name: StreamingTV, dtype: int64\n",
      "\n",
      "Уникальные значения и их частота для признака 'StreamingMovies':\n",
      "No     2785\n",
      "Yes    2732\n",
      "Name: StreamingMovies, dtype: int64\n"
     ]
    }
   ],
   "source": [
    "# Количество уникальных значений и их частота для признака 'InternetService'\n",
    "internet_service_counts = internet_data['InternetService'].value_counts()\n",
    "\n",
    "# Вывод результатов\n",
    "print(\"Уникальные значения и их частота для признака 'InternetService':\")\n",
    "print(internet_service_counts)\n",
    "\n",
    "# Количество уникальных значений и их частота для признака 'OnlineSecurity'\n",
    "online_security_counts = internet_data['OnlineSecurity'].value_counts()\n",
    "\n",
    "# Вывод результатов\n",
    "print(\"\\nУникальные значения и их частота для признака 'OnlineSecurity':\")\n",
    "print(online_security_counts)\n",
    "\n",
    "# Количество уникальных значений и их частота для признака 'OnlineBackup'\n",
    "online_backup_counts = internet_data['OnlineBackup'].value_counts()\n",
    "\n",
    "# Вывод результатов\n",
    "print(\"\\nУникальные значения и их частота для признака 'OnlineBackup':\")\n",
    "print(online_backup_counts)\n",
    "\n",
    "# Количество уникальных значений и их частота для признака 'DeviceProtection'\n",
    "device_protection_counts = internet_data['DeviceProtection'].value_counts()\n",
    "\n",
    "# Вывод результатов\n",
    "print(\"\\nУникальные значения и их частота для признака 'DeviceProtection':\")\n",
    "print(device_protection_counts)\n",
    "\n",
    "# Количество уникальных значений и их частота для признака 'TechSupport'\n",
    "tech_support_counts = internet_data['TechSupport'].value_counts()\n",
    "\n",
    "# Вывод результатов\n",
    "print(\"\\nУникальные значения и их частота для признака 'TechSupport':\")\n",
    "print(tech_support_counts)\n",
    "\n",
    "# Количество уникальных значений и их частота для признака 'StreamingTV'\n",
    "streaming_tv_counts = internet_data['StreamingTV'].value_counts()\n",
    "\n",
    "# Вывод результатов\n",
    "print(\"\\nУникальные значения и их частота для признака 'StreamingTV':\")\n",
    "print(streaming_tv_counts)\n",
    "\n",
    "# Количество уникальных значений и их частота для признака 'StreamingMovies'\n",
    "streaming_movies_counts = internet_data['StreamingMovies'].value_counts()\n",
    "\n",
    "# Вывод результатов\n",
    "print(\"\\nУникальные значения и их частота для признака 'StreamingMovies':\")\n",
    "print(streaming_movies_counts)"
   ]
  },
  {
   "cell_type": "markdown",
   "id": "eac7c9a0",
   "metadata": {},
   "source": [
    "**Тип интернет-сервиса (InternetService):** В данных присутствуют два основных типа интернет-сервиса: Fiber optic (3096) и DSL (2421). Fiber optic является более популярным среди клиентов.\n",
    "\n",
    "**Онлайн безопасность (OnlineSecurity):** Большинство клиентов не используют онлайн-безопасность (No - 3498), в то время как 2019 клиентов предпочитают этот сервис (Yes).\n",
    "\n",
    "**Резервное копирование онлайн (OnlineBackup):** Около половины клиентов не используют резервное копирование онлайн (No - 3088), но также существует значительная группа, предпочитающая это (Yes - 2429).\n",
    "\n",
    "**Защита устройства (DeviceProtection):** Подавляющее большинство клиентов не использует защиту устройства (No - 3095), но также есть заметная группа, которая выбирает этот сервис (Yes - 2422).\n",
    "\n",
    "**Техническая поддержка (TechSupport):** Большинство клиентов не используют техническую поддержку (No - 3473), в то время как 2044 клиента предпочитают этот сервис (Yes).\n",
    "\n",
    "**Стриминг ТВ (StreamingTV):** Распределение клиентов между использованием и неиспользованием стриминга ТВ примерно равномерное (No - 2810, Yes - 2707).\n",
    "\n",
    "**Стриминг фильмов (StreamingMovies):** Похоже, что использование стриминга фильмов также распределено примерно поровну (No - 2785, Yes - 2732).\n",
    "\n",
    "Эти выводы предоставляют обзор предпочтений клиентов по основным услугам интернет-сервиса."
   ]
  },
  {
   "cell_type": "code",
   "execution_count": 14,
   "id": "9655e4a3",
   "metadata": {},
   "outputs": [
    {
     "data": {
      "image/png": "[encoded data removed]",
      "text/plain": [
       "<Figure size 576x432 with 1 Axes>"
      ]
     },
     "metadata": {
      "needs_background": "light"
     },
     "output_type": "display_data"
    }
   ],
   "source": [
    "plt.figure(figsize=(8, 6))\n",
    "sns.countplot(data=phone_data, x='MultipleLines')\n",
    "plt.title('Количество многоканальных подключений в телефонных данных')\n",
    "plt.xlabel('Многоканальные подключения (1: Да, 0: Нет)')\n",
    "plt.ylabel('Количество')\n",
    "plt.show()"
   ]
  },
  {
   "cell_type": "code",
   "execution_count": 15,
   "id": "2dec1c6f",
   "metadata": {},
   "outputs": [
    {
     "name": "stdout",
     "output_type": "stream",
     "text": [
      "Уникальные значения и их частота для признака 'MultipleLines':\n",
      "No     3390\n",
      "Yes    2971\n",
      "Name: MultipleLines, dtype: int64\n"
     ]
    }
   ],
   "source": [
    "# Уникальные значения и их частота для признака 'MultipleLines'\n",
    "multiple_lines_counts = phone_data['MultipleLines'].value_counts()\n",
    "\n",
    "# Вывод результатов\n",
    "print(\"Уникальные значения и их частота для признака 'MultipleLines':\")\n",
    "print(multiple_lines_counts)"
   ]
  },
  {
   "cell_type": "markdown",
   "id": "e7ffa41b",
   "metadata": {},
   "source": [
    "В данных присутствует как клиенты с многоканальными подключениями (Yes - 2971), так и те, у кого только одна линия (No - 3390). Распределение близко к равномерному, с небольшим преимуществом у клиентов без многоканальных подключений."
   ]
  },
  {
   "cell_type": "markdown",
   "id": "dfabc05a",
   "metadata": {},
   "source": [
    "Посмотрим количество пропусков и выбросы."
   ]
  },
  {
   "cell_type": "code",
   "execution_count": 16,
   "id": "554d4761",
   "metadata": {},
   "outputs": [
    {
     "name": "stdout",
     "output_type": "stream",
     "text": [
      "Contract Data - Пропуски:\n",
      "customerID           0\n",
      "BeginDate            0\n",
      "EndDate              0\n",
      "Type                 0\n",
      "PaperlessBilling     0\n",
      "PaymentMethod        0\n",
      "MonthlyCharges       0\n",
      "TotalCharges        11\n",
      "dtype: int64\n",
      "\n",
      "Contract Data - Аномалии:\n",
      "       MonthlyCharges  TotalCharges\n",
      "count     7043.000000   7032.000000\n",
      "mean        64.761692   2118.621822\n",
      "std         30.090047   2112.736199\n",
      "min         18.250000     19.050000\n",
      "25%         35.500000    439.745000\n",
      "50%         70.350000   1345.275000\n",
      "75%         89.850000   3239.317500\n",
      "max        118.750000   9221.380000\n",
      "\n",
      "Personal Data - Пропуски:\n",
      "customerID       0\n",
      "gender           0\n",
      "SeniorCitizen    0\n",
      "Partner          0\n",
      "Dependents       0\n",
      "dtype: int64\n",
      "\n",
      "Personal Data - Аномалии:\n",
      "       SeniorCitizen\n",
      "count    7043.000000\n",
      "mean        0.162147\n",
      "std         0.368612\n",
      "min         0.000000\n",
      "25%         0.000000\n",
      "50%         0.000000\n",
      "75%         0.000000\n",
      "max         1.000000\n",
      "\n",
      "Internet Data - Пропуски:\n",
      "customerID          0\n",
      "InternetService     0\n",
      "OnlineSecurity      0\n",
      "OnlineBackup        0\n",
      "DeviceProtection    0\n",
      "TechSupport         0\n",
      "StreamingTV         0\n",
      "StreamingMovies     0\n",
      "dtype: int64\n",
      "\n",
      "Internet Data - Аномалии:\n",
      "        customerID InternetService OnlineSecurity OnlineBackup  \\\n",
      "count         5517            5517           5517         5517   \n",
      "unique        5517               2              2            2   \n",
      "top     3154-CFSZG     Fiber optic             No           No   \n",
      "freq             1            3096           3498         3088   \n",
      "\n",
      "       DeviceProtection TechSupport StreamingTV StreamingMovies  \n",
      "count              5517        5517        5517            5517  \n",
      "unique                2           2           2               2  \n",
      "top                  No          No          No              No  \n",
      "freq               3095        3473        2810            2785  \n",
      "\n",
      "Phone Data - Пропуски:\n",
      "customerID       0\n",
      "MultipleLines    0\n",
      "dtype: int64\n",
      "\n",
      "Phone Data - Аномалии:\n",
      "        customerID MultipleLines\n",
      "count         6361          6361\n",
      "unique        6361             2\n",
      "top     9578-FOMUK            No\n",
      "freq             1          3390\n"
     ]
    }
   ],
   "source": [
    "# Contract Data\n",
    "print(\"Contract Data - Пропуски:\")\n",
    "print(contract_data.isnull().sum())\n",
    "print(\"\\nContract Data - Аномалии:\")\n",
    "print(contract_data.describe())\n",
    "\n",
    "# Personal Data\n",
    "print(\"\\nPersonal Data - Пропуски:\")\n",
    "print(personal_data.isnull().sum())\n",
    "print(\"\\nPersonal Data - Аномалии:\")\n",
    "print(personal_data.describe())\n",
    "\n",
    "# Internet Data\n",
    "print(\"\\nInternet Data - Пропуски:\")\n",
    "print(internet_data.isnull().sum())\n",
    "print(\"\\nInternet Data - Аномалии:\")\n",
    "print(internet_data.describe())\n",
    "\n",
    "# Phone Data\n",
    "print(\"\\nPhone Data - Пропуски:\")\n",
    "print(phone_data.isnull().sum())\n",
    "print(\"\\nPhone Data - Аномалии:\")\n",
    "print(phone_data.describe())"
   ]
  },
  {
   "cell_type": "markdown",
   "id": "86fadc85",
   "metadata": {},
   "source": [
    "**Вывод:**\n",
    "\n",
    "Аномалии в данных отсутствуют.\n",
    "\n",
    "Проверим версию о том, что если клиент только что подключился, у него еще не было возможности сделать платеж, и, следовательно, общие расходы (TotalCharges) могут быть нулевыми."
   ]
  },
  {
   "cell_type": "code",
   "execution_count": 17,
   "id": "e38971c7",
   "metadata": {},
   "outputs": [],
   "source": [
    "# Заменяем NaN значения в TotalCharges на 0, если BeginDate равна 1 февраля 2020 года\n",
    "contract_data.loc[(contract_data['TotalCharges'].isnull()) & (contract_data['BeginDate'] == '2020-02-01'), 'TotalCharges'] = 0"
   ]
  },
  {
   "cell_type": "code",
   "execution_count": 18,
   "id": "2249a970",
   "metadata": {
    "scrolled": true
   },
   "outputs": [
    {
     "name": "stdout",
     "output_type": "stream",
     "text": [
      "Contract Data - Пропуски:\n",
      "customerID          0\n",
      "BeginDate           0\n",
      "EndDate             0\n",
      "Type                0\n",
      "PaperlessBilling    0\n",
      "PaymentMethod       0\n",
      "MonthlyCharges      0\n",
      "TotalCharges        0\n",
      "dtype: int64\n"
     ]
    }
   ],
   "source": [
    "# Проверим пропуски\n",
    "print(\"Contract Data - Пропуски:\")\n",
    "print(contract_data.isnull().sum())"
   ]
  },
  {
   "cell_type": "markdown",
   "id": "a3a2929d",
   "metadata": {},
   "source": [
    "Теория подтвердилась, заменили значения NaN в столбце TotalCharges на 0."
   ]
  },
  {
   "cell_type": "markdown",
   "id": "172c377f",
   "metadata": {},
   "source": [
    "### Объединение данных."
   ]
  },
  {
   "cell_type": "code",
   "execution_count": 19,
   "id": "354cd301",
   "metadata": {},
   "outputs": [
    {
     "data": {
      "text/html": [
       "<div>\n",
       "<style scoped>\n",
       "    .dataframe tbody tr th:only-of-type {\n",
       "        vertical-align: middle;\n",
       "    }\n",
       "\n",
       "    .dataframe tbody tr th {\n",
       "        vertical-align: top;\n",
       "    }\n",
       "\n",
       "    .dataframe thead th {\n",
       "        text-align: right;\n",
       "    }\n",
       "</style>\n",
       "<table border=\"1\" class=\"dataframe\">\n",
       "  <thead>\n",
       "    <tr style=\"text-align: right;\">\n",
       "      <th></th>\n",
       "      <th>customerID</th>\n",
       "      <th>BeginDate</th>\n",
       "      <th>EndDate</th>\n",
       "      <th>Type</th>\n",
       "      <th>PaperlessBilling</th>\n",
       "      <th>PaymentMethod</th>\n",
       "      <th>MonthlyCharges</th>\n",
       "      <th>TotalCharges</th>\n",
       "      <th>gender</th>\n",
       "      <th>SeniorCitizen</th>\n",
       "      <th>Partner</th>\n",
       "      <th>Dependents</th>\n",
       "      <th>InternetService</th>\n",
       "      <th>OnlineSecurity</th>\n",
       "      <th>OnlineBackup</th>\n",
       "      <th>DeviceProtection</th>\n",
       "      <th>TechSupport</th>\n",
       "      <th>StreamingTV</th>\n",
       "      <th>StreamingMovies</th>\n",
       "      <th>MultipleLines</th>\n",
       "    </tr>\n",
       "  </thead>\n",
       "  <tbody>\n",
       "    <tr>\n",
       "      <th>0</th>\n",
       "      <td>7590-VHVEG</td>\n",
       "      <td>2020-01-01</td>\n",
       "      <td>No</td>\n",
       "      <td>Month-to-month</td>\n",
       "      <td>Yes</td>\n",
       "      <td>Electronic check</td>\n",
       "      <td>29.85</td>\n",
       "      <td>31.04</td>\n",
       "      <td>Female</td>\n",
       "      <td>0</td>\n",
       "      <td>Yes</td>\n",
       "      <td>No</td>\n",
       "      <td>DSL</td>\n",
       "      <td>No</td>\n",
       "      <td>Yes</td>\n",
       "      <td>No</td>\n",
       "      <td>No</td>\n",
       "      <td>No</td>\n",
       "      <td>No</td>\n",
       "      <td>NaN</td>\n",
       "    </tr>\n",
       "    <tr>\n",
       "      <th>1</th>\n",
       "      <td>5575-GNVDE</td>\n",
       "      <td>2017-04-01</td>\n",
       "      <td>No</td>\n",
       "      <td>One year</td>\n",
       "      <td>No</td>\n",
       "      <td>Mailed check</td>\n",
       "      <td>56.95</td>\n",
       "      <td>2071.84</td>\n",
       "      <td>Male</td>\n",
       "      <td>0</td>\n",
       "      <td>No</td>\n",
       "      <td>No</td>\n",
       "      <td>DSL</td>\n",
       "      <td>Yes</td>\n",
       "      <td>No</td>\n",
       "      <td>Yes</td>\n",
       "      <td>No</td>\n",
       "      <td>No</td>\n",
       "      <td>No</td>\n",
       "      <td>No</td>\n",
       "    </tr>\n",
       "    <tr>\n",
       "      <th>2</th>\n",
       "      <td>3668-QPYBK</td>\n",
       "      <td>2019-10-01</td>\n",
       "      <td>No</td>\n",
       "      <td>Month-to-month</td>\n",
       "      <td>Yes</td>\n",
       "      <td>Mailed check</td>\n",
       "      <td>53.85</td>\n",
       "      <td>226.17</td>\n",
       "      <td>Male</td>\n",
       "      <td>0</td>\n",
       "      <td>No</td>\n",
       "      <td>No</td>\n",
       "      <td>DSL</td>\n",
       "      <td>Yes</td>\n",
       "      <td>Yes</td>\n",
       "      <td>No</td>\n",
       "      <td>No</td>\n",
       "      <td>No</td>\n",
       "      <td>No</td>\n",
       "      <td>No</td>\n",
       "    </tr>\n",
       "    <tr>\n",
       "      <th>3</th>\n",
       "      <td>7795-CFOCW</td>\n",
       "      <td>2016-05-01</td>\n",
       "      <td>No</td>\n",
       "      <td>One year</td>\n",
       "      <td>No</td>\n",
       "      <td>Bank transfer (automatic)</td>\n",
       "      <td>42.30</td>\n",
       "      <td>1960.60</td>\n",
       "      <td>Male</td>\n",
       "      <td>0</td>\n",
       "      <td>No</td>\n",
       "      <td>No</td>\n",
       "      <td>DSL</td>\n",
       "      <td>Yes</td>\n",
       "      <td>No</td>\n",
       "      <td>Yes</td>\n",
       "      <td>Yes</td>\n",
       "      <td>No</td>\n",
       "      <td>No</td>\n",
       "      <td>NaN</td>\n",
       "    </tr>\n",
       "    <tr>\n",
       "      <th>4</th>\n",
       "      <td>9237-HQITU</td>\n",
       "      <td>2019-09-01</td>\n",
       "      <td>No</td>\n",
       "      <td>Month-to-month</td>\n",
       "      <td>Yes</td>\n",
       "      <td>Electronic check</td>\n",
       "      <td>70.70</td>\n",
       "      <td>353.50</td>\n",
       "      <td>Female</td>\n",
       "      <td>0</td>\n",
       "      <td>No</td>\n",
       "      <td>No</td>\n",
       "      <td>Fiber optic</td>\n",
       "      <td>No</td>\n",
       "      <td>No</td>\n",
       "      <td>No</td>\n",
       "      <td>No</td>\n",
       "      <td>No</td>\n",
       "      <td>No</td>\n",
       "      <td>No</td>\n",
       "    </tr>\n",
       "  </tbody>\n",
       "</table>\n",
       "</div>"
      ],
      "text/plain": [
       "   customerID   BeginDate EndDate            Type PaperlessBilling  \\\n",
       "0  7590-VHVEG  2020-01-01      No  Month-to-month              Yes   \n",
       "1  5575-GNVDE  2017-04-01      No        One year               No   \n",
       "2  3668-QPYBK  2019-10-01      No  Month-to-month              Yes   \n",
       "3  7795-CFOCW  2016-05-01      No        One year               No   \n",
       "4  9237-HQITU  2019-09-01      No  Month-to-month              Yes   \n",
       "\n",
       "               PaymentMethod  MonthlyCharges  TotalCharges  gender  \\\n",
       "0           Electronic check           29.85         31.04  Female   \n",
       "1               Mailed check           56.95       2071.84    Male   \n",
       "2               Mailed check           53.85        226.17    Male   \n",
       "3  Bank transfer (automatic)           42.30       1960.60    Male   \n",
       "4           Electronic check           70.70        353.50  Female   \n",
       "\n",
       "   SeniorCitizen Partner Dependents InternetService OnlineSecurity  \\\n",
       "0              0     Yes         No             DSL             No   \n",
       "1              0      No         No             DSL            Yes   \n",
       "2              0      No         No             DSL            Yes   \n",
       "3              0      No         No             DSL            Yes   \n",
       "4              0      No         No     Fiber optic             No   \n",
       "\n",
       "  OnlineBackup DeviceProtection TechSupport StreamingTV StreamingMovies  \\\n",
       "0          Yes               No          No          No              No   \n",
       "1           No              Yes          No          No              No   \n",
       "2          Yes               No          No          No              No   \n",
       "3           No              Yes         Yes          No              No   \n",
       "4           No               No          No          No              No   \n",
       "\n",
       "  MultipleLines  \n",
       "0           NaN  \n",
       "1            No  \n",
       "2            No  \n",
       "3           NaN  \n",
       "4            No  "
      ]
     },
     "metadata": {},
     "output_type": "display_data"
    },
    {
     "name": "stdout",
     "output_type": "stream",
     "text": [
      "<class 'pandas.core.frame.DataFrame'>\n",
      "Int64Index: 7043 entries, 0 to 7042\n",
      "Data columns (total 20 columns):\n",
      " #   Column            Non-Null Count  Dtype  \n",
      "---  ------            --------------  -----  \n",
      " 0   customerID        7043 non-null   object \n",
      " 1   BeginDate         7043 non-null   object \n",
      " 2   EndDate           7043 non-null   object \n",
      " 3   Type              7043 non-null   object \n",
      " 4   PaperlessBilling  7043 non-null   object \n",
      " 5   PaymentMethod     7043 non-null   object \n",
      " 6   MonthlyCharges    7043 non-null   float64\n",
      " 7   TotalCharges      7043 non-null   float64\n",
      " 8   gender            7043 non-null   object \n",
      " 9   SeniorCitizen     7043 non-null   int64  \n",
      " 10  Partner           7043 non-null   object \n",
      " 11  Dependents        7043 non-null   object \n",
      " 12  InternetService   5517 non-null   object \n",
      " 13  OnlineSecurity    5517 non-null   object \n",
      " 14  OnlineBackup      5517 non-null   object \n",
      " 15  DeviceProtection  5517 non-null   object \n",
      " 16  TechSupport       5517 non-null   object \n",
      " 17  StreamingTV       5517 non-null   object \n",
      " 18  StreamingMovies   5517 non-null   object \n",
      " 19  MultipleLines     6361 non-null   object \n",
      "dtypes: float64(2), int64(1), object(17)\n",
      "memory usage: 1.1+ MB\n"
     ]
    },
    {
     "data": {
      "text/plain": [
       "None"
      ]
     },
     "metadata": {},
     "output_type": "display_data"
    }
   ],
   "source": [
    "# Объединение данных по столбцу 'customerID'\n",
    "merged_data = pd.merge(contract_data, personal_data, on='customerID', how='inner')\n",
    "merged_data = pd.merge(merged_data, internet_data, on='customerID', how='outer')\n",
    "merged_data = pd.merge(merged_data, phone_data, on='customerID', how='outer')\n",
    "\n",
    "# Вывод первых 5 строк и информации о датафрейме\n",
    "display(merged_data.head())\n",
    "display(merged_data.info())"
   ]
  },
  {
   "cell_type": "markdown",
   "id": "06c3cbde",
   "metadata": {},
   "source": [
    "**Вывод после объединения в одну таблицу:**\n",
    "\n",
    "- В объединённой таблице 20 столбцов и 7043 наблюдения. \n",
    "- Для столбцов с датами (BeginDate, EndDate) нужно преобразовать формат в datetime. \n",
    "- Нужно добавить новый признак \"Длительность\" (сколько клиент находится в компании). Длительность лучше получить в днях.\n",
    "- Появившиеся пропущенные значения (NaN) связаны с тем, что не все пользователи пользуются интернетом с телефонной связью одновременно. \n",
    "- На следующем этапе предобработки данных мы заполним эти пропуски. \n",
    "- Нужно изменить тип данных SeniorCitizen на object а 0 и 1 заменить на Yes и No."
   ]
  },
  {
   "cell_type": "markdown",
   "id": "b97f012a",
   "metadata": {},
   "source": [
    "### Предобработка данных."
   ]
  },
  {
   "cell_type": "code",
   "execution_count": 20,
   "id": "5b478971",
   "metadata": {},
   "outputs": [],
   "source": [
    "# Оптимизация типа данных признака \"BeginDate\"\n",
    "merged_data['BeginDate'] = pd.to_datetime(merged_data['BeginDate'], format='%Y-%m-%d')\n",
    "\n",
    "# Оптимизация типа данных признака \"EndDate\"\n",
    "merged_data.loc[merged_data['EndDate'] == 'No', 'EndDate'] = '2020-02-01'\n",
    "merged_data['EndDate'] = pd.to_datetime(merged_data['EndDate'], format='%Y-%m-%d')\n",
    "\n",
    "# Создаем новый признак \"Длительность\"\n",
    "merged_data['Duration'] = (merged_data['EndDate'] - merged_data['BeginDate']).dt.days\n",
    "\n",
    "# Добавление целевого признака \"Target\"\n",
    "merged_data['Target'] = (merged_data['EndDate'] != '2020-02-01').astype(int)\n",
    "\n",
    "# Удаляем признаки \"BeginDate\" и \"EndDate\", так как теперь у нас есть целевой признак \"Target\"\n",
    "merged_data.drop(['BeginDate', 'EndDate'], axis=1, inplace=True)"
   ]
  },
  {
   "cell_type": "markdown",
   "id": "370123f1",
   "metadata": {},
   "source": [
    "Произведена оптимизация типов данных для признаков \"BeginDate\" и \"EndDate\". Теперь они представлены в формате datetime64[ns], что позволит эффективнее использовать память и улучшит работу с датами. Кроме того, добавлен новый признак \"Duration\", отражающий длительность контракта в днях. Эти изменения придают большую удобство обработке данных и готовят их для последующего анализа и моделирования. Признаки BeginDate и EndDate было решено удалить.\n",
    "\n",
    "Также был добавлен целевой признак Target (отказался ли пользователь от услуг или нет)."
   ]
  },
  {
   "cell_type": "code",
   "execution_count": 21,
   "id": "1e41f8c5",
   "metadata": {},
   "outputs": [
    {
     "name": "stdout",
     "output_type": "stream",
     "text": [
      "<class 'pandas.core.frame.DataFrame'>\n",
      "Int64Index: 7043 entries, 0 to 7042\n",
      "Data columns (total 20 columns):\n",
      " #   Column            Non-Null Count  Dtype  \n",
      "---  ------            --------------  -----  \n",
      " 0   customerID        7043 non-null   object \n",
      " 1   Type              7043 non-null   object \n",
      " 2   PaperlessBilling  7043 non-null   object \n",
      " 3   PaymentMethod     7043 non-null   object \n",
      " 4   MonthlyCharges    7043 non-null   float64\n",
      " 5   TotalCharges      7043 non-null   float64\n",
      " 6   gender            7043 non-null   object \n",
      " 7   SeniorCitizen     7043 non-null   int64  \n",
      " 8   Partner           7043 non-null   object \n",
      " 9   Dependents        7043 non-null   object \n",
      " 10  InternetService   7043 non-null   object \n",
      " 11  OnlineSecurity    7043 non-null   object \n",
      " 12  OnlineBackup      7043 non-null   object \n",
      " 13  DeviceProtection  7043 non-null   object \n",
      " 14  TechSupport       7043 non-null   object \n",
      " 15  StreamingTV       7043 non-null   object \n",
      " 16  StreamingMovies   7043 non-null   object \n",
      " 17  MultipleLines     7043 non-null   object \n",
      " 18  Duration          7043 non-null   int64  \n",
      " 19  Target            7043 non-null   int64  \n",
      "dtypes: float64(2), int64(3), object(15)\n",
      "memory usage: 1.1+ MB\n"
     ]
    }
   ],
   "source": [
    "# Задаем список столбцов для MultipleLines\n",
    "phone_data_columns = ['MultipleLines']\n",
    "\n",
    "# Задаем список столбцов для InternetService, OnlineSecurity, и т.д.\n",
    "internet_data_columns = ['InternetService', 'OnlineSecurity', 'OnlineBackup', 'DeviceProtection', 'TechSupport', 'StreamingTV', 'StreamingMovies']\n",
    "\n",
    "# Заменяем пропуски в соответствующих столбцах на 'No' в датафрейме merged_data\n",
    "merged_data[phone_data_columns] = merged_data[phone_data_columns].fillna('No')\n",
    "merged_data[internet_data_columns] = merged_data[internet_data_columns].fillna('No')\n",
    "\n",
    "# Выводим информацию о датасете\n",
    "merged_data.info()"
   ]
  },
  {
   "cell_type": "code",
   "execution_count": 22,
   "id": "b92a4023",
   "metadata": {},
   "outputs": [
    {
     "name": "stdout",
     "output_type": "stream",
     "text": [
      "<class 'pandas.core.frame.DataFrame'>\n",
      "Int64Index: 7043 entries, 0 to 7042\n",
      "Data columns (total 20 columns):\n",
      " #   Column            Non-Null Count  Dtype  \n",
      "---  ------            --------------  -----  \n",
      " 0   customerID        7043 non-null   object \n",
      " 1   Type              7043 non-null   object \n",
      " 2   PaperlessBilling  7043 non-null   object \n",
      " 3   PaymentMethod     7043 non-null   object \n",
      " 4   MonthlyCharges    7043 non-null   float64\n",
      " 5   TotalCharges      7043 non-null   float64\n",
      " 6   gender            7043 non-null   object \n",
      " 7   SeniorCitizen     7043 non-null   object \n",
      " 8   Partner           7043 non-null   object \n",
      " 9   Dependents        7043 non-null   object \n",
      " 10  InternetService   7043 non-null   object \n",
      " 11  OnlineSecurity    7043 non-null   object \n",
      " 12  OnlineBackup      7043 non-null   object \n",
      " 13  DeviceProtection  7043 non-null   object \n",
      " 14  TechSupport       7043 non-null   object \n",
      " 15  StreamingTV       7043 non-null   object \n",
      " 16  StreamingMovies   7043 non-null   object \n",
      " 17  MultipleLines     7043 non-null   object \n",
      " 18  Duration          7043 non-null   int64  \n",
      " 19  Target            7043 non-null   int64  \n",
      "dtypes: float64(2), int64(2), object(16)\n",
      "memory usage: 1.1+ MB\n"
     ]
    }
   ],
   "source": [
    "# Заменяем значения 0 и 1 на 'No' и 'Yes' в столбце 'SeniorCitizen'\n",
    "merged_data['SeniorCitizen'] = merged_data['SeniorCitizen'].replace({0: 'No', 1: 'Yes'})\n",
    "\n",
    "# Изменяем тип данных столбца 'SeniorCitizen' на object\n",
    "merged_data['SeniorCitizen'] = merged_data['SeniorCitizen'].astype(object)\n",
    "\n",
    "# Выводим информацию о датасете\n",
    "merged_data.info()"
   ]
  },
  {
   "cell_type": "markdown",
   "id": "950dd3bb",
   "metadata": {},
   "source": [
    "**Вывод:**\n",
    "\n",
    "Произведена предобработка датасета merged_data:\n",
    "\n",
    "1. Пропущенные значения в столбцах 'MultipleLines', 'InternetService', 'OnlineSecurity', 'OnlineBackup', 'DeviceProtection', 'TechSupport', 'StreamingTV', 'StreamingMovies' были заменены на 'No'.\n",
    "\n",
    "2. Столбец 'SeniorCitizen' был изменен на тип данных object, и значения 0 и 1 были заменены на 'No' и 'Yes' соответственно.\n",
    "\n",
    "3. Произведена оптимизация типов данных для признаков \"BeginDate\" и \"EndDate\".\n",
    "\n",
    "4. Добавлен новый признак \"Duration\", отражающий длительность контракта в днях."
   ]
  },
  {
   "cell_type": "markdown",
   "id": "59b6673b",
   "metadata": {},
   "source": [
    "### Анализ корелляций объединённого датафрейма."
   ]
  },
  {
   "cell_type": "markdown",
   "id": "4d28041a",
   "metadata": {},
   "source": [
    "Матрица корреляций Пирсона не подходит для анализа датасетов, в которых присутствуют категориальные или дискретные признаки - по ним корреляций Пирсона не может быть оценена вообще (в случае категориальных) или не может быть оценена корректно (в случае дискретных).\n",
    "\n",
    "При использовании phik крайне важно настроить параметр interval_cols, передав ему список с названиями непрерывных признаков: если этого не сделать, библиотека своими силами будет пытаться разнести признаки по типам, и она часто делает в этом ошибки - от этого в свою очередь мы получаем некорректную оценку корреляций, так как от типа признака зависит метод оценки корреляции."
   ]
  },
  {
   "cell_type": "code",
   "execution_count": 23,
   "id": "673b30f0",
   "metadata": {},
   "outputs": [
    {
     "data": {
      "text/html": [
       "<div>\n",
       "<style scoped>\n",
       "    .dataframe tbody tr th:only-of-type {\n",
       "        vertical-align: middle;\n",
       "    }\n",
       "\n",
       "    .dataframe tbody tr th {\n",
       "        vertical-align: top;\n",
       "    }\n",
       "\n",
       "    .dataframe thead th {\n",
       "        text-align: right;\n",
       "    }\n",
       "</style>\n",
       "<table border=\"1\" class=\"dataframe\">\n",
       "  <thead>\n",
       "    <tr style=\"text-align: right;\">\n",
       "      <th></th>\n",
       "      <th>Type</th>\n",
       "      <th>PaperlessBilling</th>\n",
       "      <th>PaymentMethod</th>\n",
       "      <th>MonthlyCharges</th>\n",
       "      <th>TotalCharges</th>\n",
       "      <th>gender</th>\n",
       "      <th>SeniorCitizen</th>\n",
       "      <th>Partner</th>\n",
       "      <th>Dependents</th>\n",
       "      <th>InternetService</th>\n",
       "      <th>OnlineSecurity</th>\n",
       "      <th>OnlineBackup</th>\n",
       "      <th>DeviceProtection</th>\n",
       "      <th>TechSupport</th>\n",
       "      <th>StreamingTV</th>\n",
       "      <th>StreamingMovies</th>\n",
       "      <th>MultipleLines</th>\n",
       "      <th>Duration</th>\n",
       "      <th>Target</th>\n",
       "    </tr>\n",
       "  </thead>\n",
       "  <tbody>\n",
       "    <tr>\n",
       "      <th>Type</th>\n",
       "      <td>1.000000</td>\n",
       "      <td>0.106860</td>\n",
       "      <td>0.277462</td>\n",
       "      <td>0.388444</td>\n",
       "      <td>0.470860</td>\n",
       "      <td>0.000000</td>\n",
       "      <td>0.086231</td>\n",
       "      <td>0.179736</td>\n",
       "      <td>0.147680</td>\n",
       "      <td>0.505187</td>\n",
       "      <td>0.152145</td>\n",
       "      <td>0.098884</td>\n",
       "      <td>0.137610</td>\n",
       "      <td>0.179999</td>\n",
       "      <td>0.066961</td>\n",
       "      <td>0.069608</td>\n",
       "      <td>0.065498</td>\n",
       "      <td>0.634155</td>\n",
       "      <td>0.094015</td>\n",
       "    </tr>\n",
       "    <tr>\n",
       "      <th>PaperlessBilling</th>\n",
       "      <td>0.106860</td>\n",
       "      <td>1.000000</td>\n",
       "      <td>0.370495</td>\n",
       "      <td>0.467812</td>\n",
       "      <td>0.201703</td>\n",
       "      <td>0.000000</td>\n",
       "      <td>0.242133</td>\n",
       "      <td>0.013218</td>\n",
       "      <td>0.172593</td>\n",
       "      <td>0.231438</td>\n",
       "      <td>0.000000</td>\n",
       "      <td>0.196443</td>\n",
       "      <td>0.160796</td>\n",
       "      <td>0.055929</td>\n",
       "      <td>0.343524</td>\n",
       "      <td>0.325551</td>\n",
       "      <td>0.252972</td>\n",
       "      <td>0.026799</td>\n",
       "      <td>0.083398</td>\n",
       "    </tr>\n",
       "    <tr>\n",
       "      <th>PaymentMethod</th>\n",
       "      <td>0.277462</td>\n",
       "      <td>0.370495</td>\n",
       "      <td>1.000000</td>\n",
       "      <td>0.399526</td>\n",
       "      <td>0.335666</td>\n",
       "      <td>0.000000</td>\n",
       "      <td>0.292725</td>\n",
       "      <td>0.243008</td>\n",
       "      <td>0.224903</td>\n",
       "      <td>0.323886</td>\n",
       "      <td>0.262911</td>\n",
       "      <td>0.282475</td>\n",
       "      <td>0.306866</td>\n",
       "      <td>0.272101</td>\n",
       "      <td>0.377209</td>\n",
       "      <td>0.378907</td>\n",
       "      <td>0.339313</td>\n",
       "      <td>0.350964</td>\n",
       "      <td>0.214832</td>\n",
       "    </tr>\n",
       "    <tr>\n",
       "      <th>MonthlyCharges</th>\n",
       "      <td>0.388444</td>\n",
       "      <td>0.467812</td>\n",
       "      <td>0.399526</td>\n",
       "      <td>1.000000</td>\n",
       "      <td>0.710905</td>\n",
       "      <td>0.008175</td>\n",
       "      <td>0.304985</td>\n",
       "      <td>0.203545</td>\n",
       "      <td>0.184366</td>\n",
       "      <td>0.919002</td>\n",
       "      <td>0.551621</td>\n",
       "      <td>0.629541</td>\n",
       "      <td>0.667481</td>\n",
       "      <td>0.576525</td>\n",
       "      <td>0.835340</td>\n",
       "      <td>0.833307</td>\n",
       "      <td>0.675883</td>\n",
       "      <td>0.387727</td>\n",
       "      <td>0.226280</td>\n",
       "    </tr>\n",
       "    <tr>\n",
       "      <th>TotalCharges</th>\n",
       "      <td>0.470860</td>\n",
       "      <td>0.201703</td>\n",
       "      <td>0.335666</td>\n",
       "      <td>0.710905</td>\n",
       "      <td>1.000000</td>\n",
       "      <td>0.000000</td>\n",
       "      <td>0.135650</td>\n",
       "      <td>0.381958</td>\n",
       "      <td>0.084247</td>\n",
       "      <td>0.490081</td>\n",
       "      <td>0.522090</td>\n",
       "      <td>0.622445</td>\n",
       "      <td>0.640977</td>\n",
       "      <td>0.550065</td>\n",
       "      <td>0.641488</td>\n",
       "      <td>0.643210</td>\n",
       "      <td>0.573191</td>\n",
       "      <td>0.848337</td>\n",
       "      <td>0.302890</td>\n",
       "    </tr>\n",
       "    <tr>\n",
       "      <th>gender</th>\n",
       "      <td>0.000000</td>\n",
       "      <td>0.000000</td>\n",
       "      <td>0.000000</td>\n",
       "      <td>0.008175</td>\n",
       "      <td>0.000000</td>\n",
       "      <td>1.000000</td>\n",
       "      <td>0.000000</td>\n",
       "      <td>0.000000</td>\n",
       "      <td>0.000000</td>\n",
       "      <td>0.000000</td>\n",
       "      <td>0.018397</td>\n",
       "      <td>0.009882</td>\n",
       "      <td>0.000000</td>\n",
       "      <td>0.000000</td>\n",
       "      <td>0.000000</td>\n",
       "      <td>0.000000</td>\n",
       "      <td>0.000000</td>\n",
       "      <td>0.000000</td>\n",
       "      <td>0.008581</td>\n",
       "    </tr>\n",
       "    <tr>\n",
       "      <th>SeniorCitizen</th>\n",
       "      <td>0.086231</td>\n",
       "      <td>0.242133</td>\n",
       "      <td>0.292725</td>\n",
       "      <td>0.304985</td>\n",
       "      <td>0.135650</td>\n",
       "      <td>0.000000</td>\n",
       "      <td>1.000000</td>\n",
       "      <td>0.016992</td>\n",
       "      <td>0.324576</td>\n",
       "      <td>0.160702</td>\n",
       "      <td>0.057028</td>\n",
       "      <td>0.102065</td>\n",
       "      <td>0.090686</td>\n",
       "      <td>0.092565</td>\n",
       "      <td>0.163120</td>\n",
       "      <td>0.186141</td>\n",
       "      <td>0.221313</td>\n",
       "      <td>0.063315</td>\n",
       "      <td>0.086159</td>\n",
       "    </tr>\n",
       "    <tr>\n",
       "      <th>Partner</th>\n",
       "      <td>0.179736</td>\n",
       "      <td>0.013218</td>\n",
       "      <td>0.243008</td>\n",
       "      <td>0.203545</td>\n",
       "      <td>0.381958</td>\n",
       "      <td>0.000000</td>\n",
       "      <td>0.016992</td>\n",
       "      <td>1.000000</td>\n",
       "      <td>0.652122</td>\n",
       "      <td>0.000000</td>\n",
       "      <td>0.221673</td>\n",
       "      <td>0.219223</td>\n",
       "      <td>0.238079</td>\n",
       "      <td>0.185993</td>\n",
       "      <td>0.193258</td>\n",
       "      <td>0.182011</td>\n",
       "      <td>0.220101</td>\n",
       "      <td>0.453688</td>\n",
       "      <td>0.226688</td>\n",
       "    </tr>\n",
       "    <tr>\n",
       "      <th>Dependents</th>\n",
       "      <td>0.147680</td>\n",
       "      <td>0.172593</td>\n",
       "      <td>0.224903</td>\n",
       "      <td>0.184366</td>\n",
       "      <td>0.084247</td>\n",
       "      <td>0.000000</td>\n",
       "      <td>0.324576</td>\n",
       "      <td>0.652122</td>\n",
       "      <td>1.000000</td>\n",
       "      <td>0.108463</td>\n",
       "      <td>0.124945</td>\n",
       "      <td>0.031533</td>\n",
       "      <td>0.010416</td>\n",
       "      <td>0.096912</td>\n",
       "      <td>0.017331</td>\n",
       "      <td>0.058999</td>\n",
       "      <td>0.033103</td>\n",
       "      <td>0.198729</td>\n",
       "      <td>0.046871</td>\n",
       "    </tr>\n",
       "    <tr>\n",
       "      <th>InternetService</th>\n",
       "      <td>0.505187</td>\n",
       "      <td>0.231438</td>\n",
       "      <td>0.323886</td>\n",
       "      <td>0.919002</td>\n",
       "      <td>0.490081</td>\n",
       "      <td>0.000000</td>\n",
       "      <td>0.160702</td>\n",
       "      <td>0.000000</td>\n",
       "      <td>0.108463</td>\n",
       "      <td>1.000000</td>\n",
       "      <td>0.241421</td>\n",
       "      <td>0.233602</td>\n",
       "      <td>0.232916</td>\n",
       "      <td>0.239663</td>\n",
       "      <td>0.272818</td>\n",
       "      <td>0.272782</td>\n",
       "      <td>0.225383</td>\n",
       "      <td>0.060845</td>\n",
       "      <td>0.056621</td>\n",
       "    </tr>\n",
       "    <tr>\n",
       "      <th>OnlineSecurity</th>\n",
       "      <td>0.152145</td>\n",
       "      <td>0.000000</td>\n",
       "      <td>0.262911</td>\n",
       "      <td>0.551621</td>\n",
       "      <td>0.522090</td>\n",
       "      <td>0.018397</td>\n",
       "      <td>0.057028</td>\n",
       "      <td>0.221673</td>\n",
       "      <td>0.124945</td>\n",
       "      <td>0.241421</td>\n",
       "      <td>1.000000</td>\n",
       "      <td>0.430425</td>\n",
       "      <td>0.418474</td>\n",
       "      <td>0.528391</td>\n",
       "      <td>0.272186</td>\n",
       "      <td>0.289097</td>\n",
       "      <td>0.151886</td>\n",
       "      <td>0.395693</td>\n",
       "      <td>0.132594</td>\n",
       "    </tr>\n",
       "    <tr>\n",
       "      <th>OnlineBackup</th>\n",
       "      <td>0.098884</td>\n",
       "      <td>0.196443</td>\n",
       "      <td>0.282475</td>\n",
       "      <td>0.629541</td>\n",
       "      <td>0.622445</td>\n",
       "      <td>0.009882</td>\n",
       "      <td>0.102065</td>\n",
       "      <td>0.219223</td>\n",
       "      <td>0.031533</td>\n",
       "      <td>0.233602</td>\n",
       "      <td>0.430425</td>\n",
       "      <td>1.000000</td>\n",
       "      <td>0.458211</td>\n",
       "      <td>0.445130</td>\n",
       "      <td>0.428007</td>\n",
       "      <td>0.417170</td>\n",
       "      <td>0.311403</td>\n",
       "      <td>0.414982</td>\n",
       "      <td>0.229482</td>\n",
       "    </tr>\n",
       "    <tr>\n",
       "      <th>DeviceProtection</th>\n",
       "      <td>0.137610</td>\n",
       "      <td>0.160796</td>\n",
       "      <td>0.306866</td>\n",
       "      <td>0.667481</td>\n",
       "      <td>0.640977</td>\n",
       "      <td>0.000000</td>\n",
       "      <td>0.090686</td>\n",
       "      <td>0.238079</td>\n",
       "      <td>0.010416</td>\n",
       "      <td>0.232916</td>\n",
       "      <td>0.418474</td>\n",
       "      <td>0.458211</td>\n",
       "      <td>1.000000</td>\n",
       "      <td>0.499267</td>\n",
       "      <td>0.575536</td>\n",
       "      <td>0.589888</td>\n",
       "      <td>0.309757</td>\n",
       "      <td>0.426931</td>\n",
       "      <td>0.218380</td>\n",
       "    </tr>\n",
       "    <tr>\n",
       "      <th>TechSupport</th>\n",
       "      <td>0.179999</td>\n",
       "      <td>0.055929</td>\n",
       "      <td>0.272101</td>\n",
       "      <td>0.576525</td>\n",
       "      <td>0.550065</td>\n",
       "      <td>0.000000</td>\n",
       "      <td>0.092565</td>\n",
       "      <td>0.185993</td>\n",
       "      <td>0.096912</td>\n",
       "      <td>0.239663</td>\n",
       "      <td>0.528391</td>\n",
       "      <td>0.445130</td>\n",
       "      <td>0.499267</td>\n",
       "      <td>1.000000</td>\n",
       "      <td>0.422242</td>\n",
       "      <td>0.424078</td>\n",
       "      <td>0.155739</td>\n",
       "      <td>0.404795</td>\n",
       "      <td>0.103652</td>\n",
       "    </tr>\n",
       "    <tr>\n",
       "      <th>StreamingTV</th>\n",
       "      <td>0.066961</td>\n",
       "      <td>0.343524</td>\n",
       "      <td>0.377209</td>\n",
       "      <td>0.835340</td>\n",
       "      <td>0.641488</td>\n",
       "      <td>0.000000</td>\n",
       "      <td>0.163120</td>\n",
       "      <td>0.193258</td>\n",
       "      <td>0.017331</td>\n",
       "      <td>0.272818</td>\n",
       "      <td>0.272186</td>\n",
       "      <td>0.428007</td>\n",
       "      <td>0.575536</td>\n",
       "      <td>0.422242</td>\n",
       "      <td>1.000000</td>\n",
       "      <td>0.742479</td>\n",
       "      <td>0.392239</td>\n",
       "      <td>0.339313</td>\n",
       "      <td>0.200198</td>\n",
       "    </tr>\n",
       "    <tr>\n",
       "      <th>StreamingMovies</th>\n",
       "      <td>0.069608</td>\n",
       "      <td>0.325551</td>\n",
       "      <td>0.378907</td>\n",
       "      <td>0.833307</td>\n",
       "      <td>0.643210</td>\n",
       "      <td>0.000000</td>\n",
       "      <td>0.186141</td>\n",
       "      <td>0.182011</td>\n",
       "      <td>0.058999</td>\n",
       "      <td>0.272782</td>\n",
       "      <td>0.289097</td>\n",
       "      <td>0.417170</td>\n",
       "      <td>0.589888</td>\n",
       "      <td>0.424078</td>\n",
       "      <td>0.742479</td>\n",
       "      <td>1.000000</td>\n",
       "      <td>0.394553</td>\n",
       "      <td>0.339313</td>\n",
       "      <td>0.222232</td>\n",
       "    </tr>\n",
       "    <tr>\n",
       "      <th>MultipleLines</th>\n",
       "      <td>0.065498</td>\n",
       "      <td>0.252972</td>\n",
       "      <td>0.339313</td>\n",
       "      <td>0.675883</td>\n",
       "      <td>0.573191</td>\n",
       "      <td>0.000000</td>\n",
       "      <td>0.221313</td>\n",
       "      <td>0.220101</td>\n",
       "      <td>0.033103</td>\n",
       "      <td>0.225383</td>\n",
       "      <td>0.151886</td>\n",
       "      <td>0.311403</td>\n",
       "      <td>0.309757</td>\n",
       "      <td>0.155739</td>\n",
       "      <td>0.392239</td>\n",
       "      <td>0.394553</td>\n",
       "      <td>1.000000</td>\n",
       "      <td>0.398222</td>\n",
       "      <td>0.261237</td>\n",
       "    </tr>\n",
       "    <tr>\n",
       "      <th>Duration</th>\n",
       "      <td>0.634155</td>\n",
       "      <td>0.026799</td>\n",
       "      <td>0.350964</td>\n",
       "      <td>0.387727</td>\n",
       "      <td>0.848337</td>\n",
       "      <td>0.000000</td>\n",
       "      <td>0.063315</td>\n",
       "      <td>0.453688</td>\n",
       "      <td>0.198729</td>\n",
       "      <td>0.060845</td>\n",
       "      <td>0.395693</td>\n",
       "      <td>0.414982</td>\n",
       "      <td>0.426931</td>\n",
       "      <td>0.404795</td>\n",
       "      <td>0.339313</td>\n",
       "      <td>0.339313</td>\n",
       "      <td>0.398222</td>\n",
       "      <td>1.000000</td>\n",
       "      <td>0.374569</td>\n",
       "    </tr>\n",
       "    <tr>\n",
       "      <th>Target</th>\n",
       "      <td>0.094015</td>\n",
       "      <td>0.083398</td>\n",
       "      <td>0.214832</td>\n",
       "      <td>0.226280</td>\n",
       "      <td>0.302890</td>\n",
       "      <td>0.008581</td>\n",
       "      <td>0.086159</td>\n",
       "      <td>0.226688</td>\n",
       "      <td>0.046871</td>\n",
       "      <td>0.056621</td>\n",
       "      <td>0.132594</td>\n",
       "      <td>0.229482</td>\n",
       "      <td>0.218380</td>\n",
       "      <td>0.103652</td>\n",
       "      <td>0.200198</td>\n",
       "      <td>0.222232</td>\n",
       "      <td>0.261237</td>\n",
       "      <td>0.374569</td>\n",
       "      <td>1.000000</td>\n",
       "    </tr>\n",
       "  </tbody>\n",
       "</table>\n",
       "</div>"
      ],
      "text/plain": [
       "                      Type  PaperlessBilling  PaymentMethod  MonthlyCharges  \\\n",
       "Type              1.000000          0.106860       0.277462        0.388444   \n",
       "PaperlessBilling  0.106860          1.000000       0.370495        0.467812   \n",
       "PaymentMethod     0.277462          0.370495       1.000000        0.399526   \n",
       "MonthlyCharges    0.388444          0.467812       0.399526        1.000000   \n",
       "TotalCharges      0.470860          0.201703       0.335666        0.710905   \n",
       "gender            0.000000          0.000000       0.000000        0.008175   \n",
       "SeniorCitizen     0.086231          0.242133       0.292725        0.304985   \n",
       "Partner           0.179736          0.013218       0.243008        0.203545   \n",
       "Dependents        0.147680          0.172593       0.224903        0.184366   \n",
       "InternetService   0.505187          0.231438       0.323886        0.919002   \n",
       "OnlineSecurity    0.152145          0.000000       0.262911        0.551621   \n",
       "OnlineBackup      0.098884          0.196443       0.282475        0.629541   \n",
       "DeviceProtection  0.137610          0.160796       0.306866        0.667481   \n",
       "TechSupport       0.179999          0.055929       0.272101        0.576525   \n",
       "StreamingTV       0.066961          0.343524       0.377209        0.835340   \n",
       "StreamingMovies   0.069608          0.325551       0.378907        0.833307   \n",
       "MultipleLines     0.065498          0.252972       0.339313        0.675883   \n",
       "Duration          0.634155          0.026799       0.350964        0.387727   \n",
       "Target            0.094015          0.083398       0.214832        0.226280   \n",
       "\n",
       "                  TotalCharges    gender  SeniorCitizen   Partner  Dependents  \\\n",
       "Type                  0.470860  0.000000       0.086231  0.179736    0.147680   \n",
       "PaperlessBilling      0.201703  0.000000       0.242133  0.013218    0.172593   \n",
       "PaymentMethod         0.335666  0.000000       0.292725  0.243008    0.224903   \n",
       "MonthlyCharges        0.710905  0.008175       0.304985  0.203545    0.184366   \n",
       "TotalCharges          1.000000  0.000000       0.135650  0.381958    0.084247   \n",
       "gender                0.000000  1.000000       0.000000  0.000000    0.000000   \n",
       "SeniorCitizen         0.135650  0.000000       1.000000  0.016992    0.324576   \n",
       "Partner               0.381958  0.000000       0.016992  1.000000    0.652122   \n",
       "Dependents            0.084247  0.000000       0.324576  0.652122    1.000000   \n",
       "InternetService       0.490081  0.000000       0.160702  0.000000    0.108463   \n",
       "OnlineSecurity        0.522090  0.018397       0.057028  0.221673    0.124945   \n",
       "OnlineBackup          0.622445  0.009882       0.102065  0.219223    0.031533   \n",
       "DeviceProtection      0.640977  0.000000       0.090686  0.238079    0.010416   \n",
       "TechSupport           0.550065  0.000000       0.092565  0.185993    0.096912   \n",
       "StreamingTV           0.641488  0.000000       0.163120  0.193258    0.017331   \n",
       "StreamingMovies       0.643210  0.000000       0.186141  0.182011    0.058999   \n",
       "MultipleLines         0.573191  0.000000       0.221313  0.220101    0.033103   \n",
       "Duration              0.848337  0.000000       0.063315  0.453688    0.198729   \n",
       "Target                0.302890  0.008581       0.086159  0.226688    0.046871   \n",
       "\n",
       "                  InternetService  OnlineSecurity  OnlineBackup  \\\n",
       "Type                     0.505187        0.152145      0.098884   \n",
       "PaperlessBilling         0.231438        0.000000      0.196443   \n",
       "PaymentMethod            0.323886        0.262911      0.282475   \n",
       "MonthlyCharges           0.919002        0.551621      0.629541   \n",
       "TotalCharges             0.490081        0.522090      0.622445   \n",
       "gender                   0.000000        0.018397      0.009882   \n",
       "SeniorCitizen            0.160702        0.057028      0.102065   \n",
       "Partner                  0.000000        0.221673      0.219223   \n",
       "Dependents               0.108463        0.124945      0.031533   \n",
       "InternetService          1.000000        0.241421      0.233602   \n",
       "OnlineSecurity           0.241421        1.000000      0.430425   \n",
       "OnlineBackup             0.233602        0.430425      1.000000   \n",
       "DeviceProtection         0.232916        0.418474      0.458211   \n",
       "TechSupport              0.239663        0.528391      0.445130   \n",
       "StreamingTV              0.272818        0.272186      0.428007   \n",
       "StreamingMovies          0.272782        0.289097      0.417170   \n",
       "MultipleLines            0.225383        0.151886      0.311403   \n",
       "Duration                 0.060845        0.395693      0.414982   \n",
       "Target                   0.056621        0.132594      0.229482   \n",
       "\n",
       "                  DeviceProtection  TechSupport  StreamingTV  StreamingMovies  \\\n",
       "Type                      0.137610     0.179999     0.066961         0.069608   \n",
       "PaperlessBilling          0.160796     0.055929     0.343524         0.325551   \n",
       "PaymentMethod             0.306866     0.272101     0.377209         0.378907   \n",
       "MonthlyCharges            0.667481     0.576525     0.835340         0.833307   \n",
       "TotalCharges              0.640977     0.550065     0.641488         0.643210   \n",
       "gender                    0.000000     0.000000     0.000000         0.000000   \n",
       "SeniorCitizen             0.090686     0.092565     0.163120         0.186141   \n",
       "Partner                   0.238079     0.185993     0.193258         0.182011   \n",
       "Dependents                0.010416     0.096912     0.017331         0.058999   \n",
       "InternetService           0.232916     0.239663     0.272818         0.272782   \n",
       "OnlineSecurity            0.418474     0.528391     0.272186         0.289097   \n",
       "OnlineBackup              0.458211     0.445130     0.428007         0.417170   \n",
       "DeviceProtection          1.000000     0.499267     0.575536         0.589888   \n",
       "TechSupport               0.499267     1.000000     0.422242         0.424078   \n",
       "StreamingTV               0.575536     0.422242     1.000000         0.742479   \n",
       "StreamingMovies           0.589888     0.424078     0.742479         1.000000   \n",
       "MultipleLines             0.309757     0.155739     0.392239         0.394553   \n",
       "Duration                  0.426931     0.404795     0.339313         0.339313   \n",
       "Target                    0.218380     0.103652     0.200198         0.222232   \n",
       "\n",
       "                  MultipleLines  Duration    Target  \n",
       "Type                   0.065498  0.634155  0.094015  \n",
       "PaperlessBilling       0.252972  0.026799  0.083398  \n",
       "PaymentMethod          0.339313  0.350964  0.214832  \n",
       "MonthlyCharges         0.675883  0.387727  0.226280  \n",
       "TotalCharges           0.573191  0.848337  0.302890  \n",
       "gender                 0.000000  0.000000  0.008581  \n",
       "SeniorCitizen          0.221313  0.063315  0.086159  \n",
       "Partner                0.220101  0.453688  0.226688  \n",
       "Dependents             0.033103  0.198729  0.046871  \n",
       "InternetService        0.225383  0.060845  0.056621  \n",
       "OnlineSecurity         0.151886  0.395693  0.132594  \n",
       "OnlineBackup           0.311403  0.414982  0.229482  \n",
       "DeviceProtection       0.309757  0.426931  0.218380  \n",
       "TechSupport            0.155739  0.404795  0.103652  \n",
       "StreamingTV            0.392239  0.339313  0.200198  \n",
       "StreamingMovies        0.394553  0.339313  0.222232  \n",
       "MultipleLines          1.000000  0.398222  0.261237  \n",
       "Duration               0.398222  1.000000  0.374569  \n",
       "Target                 0.261237  0.374569  1.000000  "
      ]
     },
     "metadata": {},
     "output_type": "display_data"
    },
    {
     "data": {
      "image/png": "[encoded data removed]",
      "text/plain": [
       "<Figure size 1008x720 with 2 Axes>"
      ]
     },
     "metadata": {
      "needs_background": "light"
     },
     "output_type": "display_data"
    }
   ],
   "source": [
    "# Удаляем столбец 'customerID' из merged_data\n",
    "merged_data = merged_data.drop(columns=['customerID'], axis=1)\n",
    "\n",
    "continuous_features = ['MonthlyCharges', 'TotalCharges', 'Duration']\n",
    "\n",
    "# Расчет корреляции с использованием phik с явным указанием непрерывных признаков\n",
    "correlation_matrix_phik = merged_data.phik_matrix(interval_cols=continuous_features)\n",
    "display(correlation_matrix_phik)\n",
    "\n",
    "# Визуализация корреляционной матрицы с phik\n",
    "plt.figure(figsize=(14, 10))\n",
    "sns.heatmap(correlation_matrix_phik, annot=True, cmap='coolwarm', fmt=\".2f\", linewidths=0.5)\n",
    "plt.title('Матрица корреляции phik')\n",
    "plt.show()"
   ]
  },
  {
   "cell_type": "markdown",
   "id": "5abca701",
   "metadata": {},
   "source": [
    "**Вывод:**\n",
    "\n",
    "1. Duration (0.374569)\n",
    "2. TotalCharges (0.302890)\n",
    "3. MonthlyCharges (0.226280)\n",
    "4. PaymentMethod (0.214832)\n",
    "5. OnlineBackup (0.229482)\n",
    "6. StreamingMovies (0.222232)\n",
    "7. MultipleLines (0.261237)\n",
    "8. Partner (0.226688)\n",
    "\n",
    "Эти признаки будут наиболее значимыми для анализа и моделирования в контексте зависимости от целевого признака Target. \n",
    "\n",
    "Числовые: Duration, TotalCharges, MonthlyCharges  \n",
    "Категориальные: PaymentMethod, OnlineBackup, StreamingMovies, MultipleLines, Partner  "
   ]
  },
  {
   "cell_type": "markdown",
   "id": "9c00815b",
   "metadata": {},
   "source": [
    "### Разделение данных на две выборки."
   ]
  },
  {
   "cell_type": "code",
   "execution_count": 24,
   "id": "5e2e4ac5",
   "metadata": {},
   "outputs": [
    {
     "data": {
      "text/html": [
       "<div>\n",
       "<style scoped>\n",
       "    .dataframe tbody tr th:only-of-type {\n",
       "        vertical-align: middle;\n",
       "    }\n",
       "\n",
       "    .dataframe tbody tr th {\n",
       "        vertical-align: top;\n",
       "    }\n",
       "\n",
       "    .dataframe thead th {\n",
       "        text-align: right;\n",
       "    }\n",
       "</style>\n",
       "<table border=\"1\" class=\"dataframe\">\n",
       "  <thead>\n",
       "    <tr style=\"text-align: right;\">\n",
       "      <th></th>\n",
       "      <th>Duration</th>\n",
       "      <th>TotalCharges</th>\n",
       "      <th>MonthlyCharges</th>\n",
       "      <th>PaymentMethod</th>\n",
       "      <th>OnlineBackup</th>\n",
       "      <th>StreamingMovies</th>\n",
       "      <th>MultipleLines</th>\n",
       "      <th>Partner</th>\n",
       "      <th>Target</th>\n",
       "    </tr>\n",
       "  </thead>\n",
       "  <tbody>\n",
       "    <tr>\n",
       "      <th>0</th>\n",
       "      <td>31</td>\n",
       "      <td>31.04</td>\n",
       "      <td>29.85</td>\n",
       "      <td>Electronic check</td>\n",
       "      <td>Yes</td>\n",
       "      <td>No</td>\n",
       "      <td>No</td>\n",
       "      <td>Yes</td>\n",
       "      <td>0</td>\n",
       "    </tr>\n",
       "    <tr>\n",
       "      <th>1</th>\n",
       "      <td>1036</td>\n",
       "      <td>2071.84</td>\n",
       "      <td>56.95</td>\n",
       "      <td>Mailed check</td>\n",
       "      <td>No</td>\n",
       "      <td>No</td>\n",
       "      <td>No</td>\n",
       "      <td>No</td>\n",
       "      <td>0</td>\n",
       "    </tr>\n",
       "    <tr>\n",
       "      <th>2</th>\n",
       "      <td>123</td>\n",
       "      <td>226.17</td>\n",
       "      <td>53.85</td>\n",
       "      <td>Mailed check</td>\n",
       "      <td>Yes</td>\n",
       "      <td>No</td>\n",
       "      <td>No</td>\n",
       "      <td>No</td>\n",
       "      <td>0</td>\n",
       "    </tr>\n",
       "    <tr>\n",
       "      <th>3</th>\n",
       "      <td>1371</td>\n",
       "      <td>1960.60</td>\n",
       "      <td>42.30</td>\n",
       "      <td>Bank transfer (automatic)</td>\n",
       "      <td>No</td>\n",
       "      <td>No</td>\n",
       "      <td>No</td>\n",
       "      <td>No</td>\n",
       "      <td>0</td>\n",
       "    </tr>\n",
       "    <tr>\n",
       "      <th>4</th>\n",
       "      <td>153</td>\n",
       "      <td>353.50</td>\n",
       "      <td>70.70</td>\n",
       "      <td>Electronic check</td>\n",
       "      <td>No</td>\n",
       "      <td>No</td>\n",
       "      <td>No</td>\n",
       "      <td>No</td>\n",
       "      <td>0</td>\n",
       "    </tr>\n",
       "  </tbody>\n",
       "</table>\n",
       "</div>"
      ],
      "text/plain": [
       "   Duration  TotalCharges  MonthlyCharges              PaymentMethod  \\\n",
       "0        31         31.04           29.85           Electronic check   \n",
       "1      1036       2071.84           56.95               Mailed check   \n",
       "2       123        226.17           53.85               Mailed check   \n",
       "3      1371       1960.60           42.30  Bank transfer (automatic)   \n",
       "4       153        353.50           70.70           Electronic check   \n",
       "\n",
       "  OnlineBackup StreamingMovies MultipleLines Partner  Target  \n",
       "0          Yes              No            No     Yes       0  \n",
       "1           No              No            No      No       0  \n",
       "2          Yes              No            No      No       0  \n",
       "3           No              No            No      No       0  \n",
       "4           No              No            No      No       0  "
      ]
     },
     "metadata": {},
     "output_type": "display_data"
    }
   ],
   "source": [
    "# Выберем только важные признаки из списка\n",
    "important_features = [\n",
    "    'Duration',\n",
    "    'TotalCharges',\n",
    "    'MonthlyCharges',\n",
    "    'PaymentMethod',\n",
    "    'OnlineBackup',\n",
    "    'StreamingMovies',\n",
    "    'MultipleLines',\n",
    "    'Partner'\n",
    "]\n",
    "\n",
    "# Оставим только эти признаки в данных\n",
    "filtered_data = merged_data[important_features + ['Target']]\n",
    "\n",
    "# Проверим, что признаки действительно остались\n",
    "display(filtered_data.head())"
   ]
  },
  {
   "cell_type": "code",
   "execution_count": 25,
   "id": "ed02f565",
   "metadata": {},
   "outputs": [
    {
     "name": "stdout",
     "output_type": "stream",
     "text": [
      "Размер обучающей выборки: 5282\n",
      "Размер тестовой выборки: 1761\n",
      "Процент обучающей выборки: 74.99645037626011 %\n",
      "Процент тестовой выборки: 25.003549623739886 %\n"
     ]
    }
   ],
   "source": [
    "# Разделение данных на признаки (X) и целевую переменную (y)\n",
    "X = filtered_data.drop('Target', axis=1)\n",
    "y = filtered_data['Target']\n",
    "\n",
    "# Разделение на тренировочную и тестовую выборки с процентным соотношением 75% на 25%\n",
    "X_train, X_test, y_train, y_test = train_test_split(X, y, test_size=0.25, random_state=RANDOM_STATE)\n",
    "\n",
    "# Выводим размеры обучающей и тестовой выборок\n",
    "print(\"Размер обучающей выборки:\", X_train.shape[0])\n",
    "print(\"Размер тестовой выборки:\", X_test.shape[0])\n",
    "\n",
    "# Вычисляем процентное соотношение\n",
    "train_percent = (X_train.shape[0] / X.shape[0]) * 100\n",
    "test_percent = (X_test.shape[0] / X.shape[0]) * 100\n",
    "\n",
    "print(\"Процент обучающей выборки:\", train_percent, \"%\")\n",
    "print(\"Процент тестовой выборки:\", test_percent, \"%\")"
   ]
  },
  {
   "cell_type": "markdown",
   "id": "e39c7d70",
   "metadata": {},
   "source": [
    "**Вывод:**\n",
    "\n",
    "Данные были разделены на две выборки, теперь мы можем перейти к кодированию."
   ]
  },
  {
   "cell_type": "markdown",
   "id": "03b043f4",
   "metadata": {},
   "source": [
    "### Кодирование."
   ]
  },
  {
   "cell_type": "markdown",
   "id": "052c2b7f",
   "metadata": {},
   "source": [
    "Cоздадим кастомный трансформер, который будет применять различные методы кодирования категориальных и числовых признаков в зависимости от их типа. Мы будем использовать ColumnTransformer из библиотеки sklearn."
   ]
  },
  {
   "cell_type": "code",
   "execution_count": 26,
   "id": "526c20fe",
   "metadata": {},
   "outputs": [],
   "source": [
    "# Определим категориальные и числовые признаки\n",
    "categorical_features = ['PaymentMethod', 'OnlineBackup', 'StreamingMovies', 'MultipleLines', 'Partner']\n",
    "numeric_features = ['Duration', 'TotalCharges', 'MonthlyCharges']\n",
    "\n",
    "# Создаем списки преобразований для категориальных и числовых признаков\n",
    "categorical_transformer = Pipeline(steps=[\n",
    "    ('onehot', OneHotEncoder(handle_unknown='ignore'))\n",
    "])\n",
    "\n",
    "numeric_transformer = Pipeline(steps=[\n",
    "    ('scaler', StandardScaler())\n",
    "])\n",
    "\n",
    "# Соберем все преобразования в один ColumnTransformer\n",
    "preprocessor = ColumnTransformer(\n",
    "    transformers=[\n",
    "        ('cat', categorical_transformer, categorical_features),\n",
    "        ('num', numeric_transformer, numeric_features)\n",
    "    ])"
   ]
  },
  {
   "cell_type": "markdown",
   "id": "1070a8e8",
   "metadata": {},
   "source": [
    "Теперь можем использовать preprocessor в качестве этапа в нашем Pipeline или моделях."
   ]
  },
  {
   "cell_type": "code",
   "execution_count": 27,
   "id": "ecd27f06",
   "metadata": {},
   "outputs": [],
   "source": [
    "# Создаем конвейер для обработки признаков\n",
    "data_preprocessing = Pipeline([\n",
    "    ('preprocessor', preprocessor)\n",
    "])\n",
    "\n",
    "# Применяем трансформер к данным\n",
    "X_train_transformed = data_preprocessing.fit_transform(X_train)\n",
    "X_test_transformed = data_preprocessing.transform(X_test)"
   ]
  },
  {
   "cell_type": "markdown",
   "id": "0ac7051f",
   "metadata": {},
   "source": [
    "### Обучение моделей машинного обучения."
   ]
  },
  {
   "cell_type": "code",
   "execution_count": 28,
   "id": "b05bf5cd",
   "metadata": {},
   "outputs": [],
   "source": [
    "# Создаем объект модели для случайного леса\n",
    "rf_model = RandomForestClassifier(random_state=RANDOM_STATE)\n",
    "\n",
    "# Создаем объект модели для CatBoost\n",
    "catboost_model = CatBoostClassifier(random_state=RANDOM_STATE, verbose=0)"
   ]
  },
  {
   "cell_type": "code",
   "execution_count": 29,
   "id": "e3d85fdc",
   "metadata": {},
   "outputs": [],
   "source": [
    "# Параметры для для RandomForest\n",
    "rf_params = {\n",
    "    'n_estimators': [50, 100, 200],\n",
    "    'max_depth': [10, 15, 20]\n",
    "}\n",
    "\n",
    "# Параметры для CatBoost\n",
    "catboost_params = {\n",
    "    'iterations': [100, 200, 500],\n",
    "    'depth': [5, 10, 15],\n",
    "    'learning_rate': [0.01, 0.1, 0.5]\n",
    "}"
   ]
  },
  {
   "cell_type": "code",
   "execution_count": 30,
   "id": "6e8919e8",
   "metadata": {},
   "outputs": [],
   "source": [
    "# Метрика\n",
    "score = 'roc_auc'\n",
    "\n",
    "# GridSearchCV для Random Forest\n",
    "grid_rf = GridSearchCV(rf_model, rf_params, cv=3, scoring=score)\n",
    "\n",
    "# GridSearchCV для CatBoost\n",
    "grid_catboost = GridSearchCV(catboost_model, catboost_params, cv=3, scoring=score)"
   ]
  },
  {
   "cell_type": "code",
   "execution_count": 31,
   "id": "18c4eaad",
   "metadata": {},
   "outputs": [
    {
     "name": "stdout",
     "output_type": "stream",
     "text": [
      "Лучшие гиперпараметры для Random Forest: {'max_depth': 10, 'n_estimators': 200}\n",
      "AUC ROC для Random Forest на кросс-валидации: 0.7954619869045297\n"
     ]
    }
   ],
   "source": [
    "grid_rf.fit(X_train_transformed, y_train)\n",
    "\n",
    "# Вывод лучших гиперпараметров и AUC ROC для Random Forest\n",
    "print(\"Лучшие гиперпараметры для Random Forest:\", grid_rf.best_params_)\n",
    "print(\"AUC ROC для Random Forest на кросс-валидации:\", grid_rf.best_score_)"
   ]
  },
  {
   "cell_type": "code",
   "execution_count": 32,
   "id": "48efec84",
   "metadata": {},
   "outputs": [
    {
     "name": "stdout",
     "output_type": "stream",
     "text": [
      "\n",
      "Лучшие гиперпараметры для CatBoost: {'depth': 5, 'iterations': 500, 'learning_rate': 0.1}\n",
      "AUC ROC для CatBoost на кросс-валидации: 0.8972119727389677\n"
     ]
    }
   ],
   "source": [
    "grid_catboost.fit(X_train_transformed, y_train)\n",
    "\n",
    "# Вывод лучших гиперпараметров и AUC ROC для CatBoost\n",
    "print(\"\\nЛучшие гиперпараметры для CatBoost:\", grid_catboost.best_params_)\n",
    "print(\"AUC ROC для CatBoost на кросс-валидации:\", grid_catboost.best_score_)"
   ]
  },
  {
   "cell_type": "markdown",
   "id": "2645aaba",
   "metadata": {},
   "source": [
    "**Вывод:**\n",
    "\n",
    "Мы построили две модели RandomForest и CatBoost, подобрали лучшие гиперпараметры и получили метрику на кросс-валидации с помощью GridSearchCV.\n",
    "\n",
    "После анализа данных и обучения моделей можно сделать вывод: модель CatBoost с гиперпараметрами depth: 5, iterations: 500, learning_rate: 0.1 показала лучший результат по метрике AUC ROC на кросс-валидации (0.8972) по сравнению с моделью Random Forest, которая достигла значения 0.7954 с параметрами max_depth: 10, n_estimators: 200. С учетом этих результатов, для дальнейшего использования в проекте рекомендуется использовать модель CatBoost."
   ]
  },
  {
   "cell_type": "markdown",
   "id": "91f3d0d9",
   "metadata": {},
   "source": [
    "### Проверка лучшей модели на тестовой выборке."
   ]
  },
  {
   "cell_type": "code",
   "execution_count": 33,
   "id": "ad263cff",
   "metadata": {},
   "outputs": [
    {
     "name": "stdout",
     "output_type": "stream",
     "text": [
      "AUC-ROC модели CatBoost с лучшими гиперпараметрами на тестовой выборке: 0.8961065573770493\n"
     ]
    }
   ],
   "source": [
    "# Используем лучшие гиперпараметры для создания и обучения модели\n",
    "best_catboost_model = grid_catboost.best_estimator_\n",
    "\n",
    "# Делаем предсказания с помощью модели на тестовой выборке\n",
    "y_pred_best_catboost = best_catboost_model.predict_proba(X_test_transformed)[:, 1]\n",
    "\n",
    "# Оцениваем качество модели на тестовой выборке с помощью AUC-ROC\n",
    "test_auc_best_catboost = roc_auc_score(y_test, y_pred_best_catboost)\n",
    "print(f\"AUC-ROC модели CatBoost с лучшими гиперпараметрами на тестовой выборке: {test_auc_best_catboost}\")"
   ]
  },
  {
   "cell_type": "markdown",
   "id": "12f4720a",
   "metadata": {},
   "source": [
    "**Вывод:**\n",
    "\n",
    "Модель CatBoost с оптимальными гиперпараметрами показала отличный результат по метрике AUC-ROC на тестовой выборке — 0.896. Это говорит о том, что модель хорошо справляется с задачей классификации и имеет высокую предсказательную способность."
   ]
  },
  {
   "cell_type": "markdown",
   "id": "1b65ad0f",
   "metadata": {},
   "source": [
    "### Анализ лучшей модели."
   ]
  },
  {
   "cell_type": "markdown",
   "id": "b95a6907",
   "metadata": {},
   "source": [
    "Матрица ошибок покажет, сколько верных и ошибочных предсказаний сделала модель для каждого из классов. Это поможет оценить, в каких случаях модель совершает ошибки."
   ]
  },
  {
   "cell_type": "code",
   "execution_count": 56,
   "id": "39771998",
   "metadata": {
    "scrolled": true
   },
   "outputs": [
    {
     "data": {
      "image/png": "[encoded data removed]",
      "text/plain": [
       "<Figure size 576x432 with 2 Axes>"
      ]
     },
     "metadata": {
      "needs_background": "light"
     },
     "output_type": "display_data"
    }
   ],
   "source": [
    "# Преобразуем вероятности в двоичные метки (порог)\n",
    "y_pred_binary = (y_pred_best_catboost > 0.5).astype(int)\n",
    "\n",
    "# Строим матрицу ошибок\n",
    "cm = confusion_matrix(y_test, y_pred_binary)\n",
    "\n",
    "# Создаем тепловую карту для матрицы ошибок\n",
    "plt.figure(figsize=(8, 6))\n",
    "sns.heatmap(cm, annot=True, fmt='g', cmap='Reds', cbar=True, cbar_kws={'label': 'Количество'})  # Изменил эту строку\n",
    "\n",
    "plt.xlabel('Предсказанные метки')\n",
    "plt.ylabel('Фактические метки')\n",
    "plt.title('Матрица ошибок')\n",
    "\n",
    "plt.show()"
   ]
  },
  {
   "cell_type": "markdown",
   "id": "b106f2fa",
   "metadata": {},
   "source": [
    "**Вывод:**\n",
    "\n",
    "В матрице ошибок видно, что модель правильно классифицировала 1447 наблюдений как негативные и 162 наблюдения как позитивные. Однако было 9 ложноположительных и 143 ложноотрицательных предсказаний.\n",
    "\n",
    "Построим столбчатую диаграмму для анализа важности признаков."
   ]
  },
  {
   "cell_type": "code",
   "execution_count": 57,
   "id": "e2a1da4e",
   "metadata": {},
   "outputs": [
    {
     "data": {
      "image/png": "[encoded data removed]",
      "text/plain": [
       "<Figure size 720x288 with 1 Axes>"
      ]
     },
     "metadata": {
      "needs_background": "light"
     },
     "output_type": "display_data"
    },
    {
     "name": "stdout",
     "output_type": "stream",
     "text": [
      "   Важность          Признак\n",
      "0  1.865234   MonthlyCharges\n",
      "1  1.624320     TotalCharges\n",
      "2  1.415392         Duration\n",
      "3  1.261655  StreamingMovies\n",
      "4  1.069559    PaymentMethod\n",
      "5  0.920524     OnlineBackup\n",
      "6  0.861937          Partner\n",
      "7  0.670801    MultipleLines\n"
     ]
    }
   ],
   "source": [
    "feature_importances = pd.DataFrame(sorted(zip(grid_catboost.best_estimator_.feature_importances_, important_features)), \n",
    "                                   columns=['Важность', 'Признак'])\n",
    "\n",
    "plt.figure(figsize=(10, 4))\n",
    "sns.barplot(x=\"Признак\", y=\"Важность\", data=feature_importances.sort_values(by=\"Важность\", ascending=False), color='lightblue')\n",
    "\n",
    "plt.title('Анализ признаков лучшей модели Catboost', size=10)\n",
    "plt.tight_layout()\n",
    "plt.xticks(size=8)\n",
    "plt.yticks(size=8)\n",
    "plt.show()\n",
    "\n",
    "# Создаем отсортированную таблицу\n",
    "sorted_feature_importances = feature_importances.sort_values(by=\"Важность\", ascending=False).reset_index(drop=True)\n",
    "\n",
    "# Выводим таблицу\n",
    "print(sorted_feature_importances)"
   ]
  },
  {
   "cell_type": "markdown",
   "id": "703a8f43",
   "metadata": {},
   "source": [
    "**Вывод:**\n",
    "\n",
    "На основе анализа важности признаков можно сделать следующие выводы:\n",
    "\n",
    "1. **MonthlyCharges** и **TotalCharges** наиболее важные признаки с оценками в 1.87 и 1.62 соответственно. Это может указывать на то, что экономические аспекты, связанные с ежемесячными и общими платежами, играют ключевую роль.\n",
    "  \n",
    "2. **Duration** и **StreamingMovies** также показывают высокую важность с оценками 1.42 и 1.26. Это может указывать на то, что продолжительность пользования услугой и интерес к потоковому видео влияют на решения клиентов.\n",
    "  \n",
    "3. **PaymentMethod**, **OnlineBackup**, **Partner** и **MultipleLines** имеют более низкие оценки важности, что может говорить о их менее значимом вкладе в прогнозирование. Однако они все равно могут предоставлять полезную информацию для модели."
   ]
  },
  {
   "cell_type": "markdown",
   "id": "20b7c5d6",
   "metadata": {},
   "source": [
    "### Общий вывод."
   ]
  },
  {
   "attachments": {
    "2023-12-19_21-20-30.png": {
     "image/png": "[encoded data removed]"
    }
   },
   "cell_type": "markdown",
   "id": "84ae2b7e",
   "metadata": {},
   "source": [
    "1. В ходе выполнения дипломного проекта были выполнены следующие пункты плана:\n",
    "- Загрузка данных\n",
    "- Исследовательский анализ и предобработка данных\n",
    "- Объединение данных\n",
    "- Предобработка данных после объединения\n",
    "- Анализ корелляций объединённого датафрейма\n",
    "- Разделение данных на две выборки\n",
    "- Кодирование признаков\n",
    "- Обучение моделей машинного обучения\n",
    "- Проверка лучшей модели на тестовой выборке\n",
    "- Анализ лучшей модели\n",
    "\n",
    "2. Возникли некоторые трудности с объединением всех датасетов в один.\n",
    "\n",
    "- А именно: до просмотра встречи было принято решение объединить данные уже после иследовательского анализа, как это указано в плане работы в Практикуме, в связи с этим появилась некоторая громоздкость пункта под номером 2 (Исследовательский анализ).\n",
    "\n",
    "- Также уже после объединения датасетов не сразу было очевидно что делать с появившимися пропусками. Пропущенные значения в столбцах 'MultipleLines', 'InternetService', 'OnlineSecurity', 'OnlineBackup', 'DeviceProtection', 'TechSupport', 'StreamingTV', 'StreamingMovies' были заменены на 'No', то есть, пользователь не пользуется соответствующей услугой.\n",
    "\n",
    "3. Ключевые шаги:\n",
    "\n",
    "- До объединения таблиц NaN значения в столбце TotalCharges были заменены на 0, если BeginDate равна 1 февраля 2020 года\n",
    "\n",
    "- Данные были объединены уже в 3 пункте с помощью pd.merge (how='inner' и how='outer'). \n",
    "\n",
    "- Добавлен новый признак \"Duration\", отражающий длительность контракта в днях.\n",
    "\n",
    "- Добавлен целевой признак Target (отказался ли пользователь от услуг или нет).\n",
    "\n",
    "- Признаки с датами были удалены, чтобы избежать утечки.\n",
    "\n",
    "- Анализ корелляций объединённого датафрейма с помощью phik (дополнительно была установлена библиотека), помог нам выбрать наиболее значимые для анализа и моделирования в контексте зависимости от целевого признака Target.\n",
    "\n",
    "Числовые: Duration, TotalCharges, MonthlyCharges  \n",
    "Категориальные: PaymentMethod, OnlineBackup, StreamingMovies, MultipleLines, Partner  \n",
    "\n",
    "- Данные были разделены на тренировочную и тестовую выборки с процентным соотношением 75% на 25%.\n",
    "\n",
    "- Для обучения были выбраны две модели: RandomForestClassifier и CatBoostClassifier.\n",
    "\n",
    "- Параметры для RandomForest: n_estimators: 50, 100, 200 и max_depth: 10, 15, 20.\n",
    "\n",
    "- Параметры для CatBoost: iterations: 100, 200, 500, depth: 5, 10, 15 и learning_rate: 0.01, 0.1, 0.5.\n",
    "\n",
    "- Была построена матрица ошибок модели и анализ важности каждого признака.\n",
    "\n",
    "4. Лучшей моделью оказался CatBoost со следующими гиперпараметрами: depth: 5, iterations: 500, и learning_rate: 0.1.\n",
    "\n",
    "Метрика AUC ROC модели CatBoost с лучшими гиперпараметрами на тестовой выборке равна 0.89, что превышает заданный порог в 0.85.\n",
    "\n",
    "5. Список признаков, используемых для обучения лучшей модели:  \n",
    "\n",
    "Duration (длительность контракта в днях) - созданный признак на основе EndDate и BeginDate.\n",
    "TotalCharges (общие расходы абонента)  \n",
    "MonthlyCharges (расходы за месяц)  \n",
    "PaymentMethod (тип платежа)  \n",
    "OnlineBackup (облачное хранилище файлов для резервного копирования данных)  \n",
    "StreamingMovies (каталог фильмов)  \n",
    "MultipleLines (подключение телефона к нескольким линиям одновременно)  \n",
    "Partner (есть ли у абонента супруг или супруга)  \n",
    "\n",
    "Важность каждого признака представлена на графике ниже, также он присутствует в 10 пункте моего проекта. Отмечу, что в указанных признаках предобработка кроме заполнения пропусков не выполнялась, так как аномалии и дубликаты в данных отсутствовали.\n",
    "\n",
    "![2023-12-19_21-20-30.png](attachment:2023-12-19_21-20-30.png)"
   ]
  }
 ],
 "metadata": {
  "ExecuteTimeLog": [
   {
    "duration": 380,
    "start_time": "2023-12-17T09:27:55.702Z"
   },
   {
    "duration": 302,
    "start_time": "2023-12-17T09:27:56.083Z"
   },
   {
    "duration": 78,
    "start_time": "2023-12-17T09:27:56.387Z"
   },
   {
    "duration": 944,
    "start_time": "2023-12-17T09:28:09.462Z"
   },
   {
    "duration": 1055,
    "start_time": "2023-12-17T09:28:13.208Z"
   },
   {
    "duration": 90,
    "start_time": "2023-12-17T09:28:14.265Z"
   },
   {
    "duration": 194,
    "start_time": "2023-12-17T09:28:14.356Z"
   },
   {
    "duration": 1064,
    "start_time": "2023-12-17T09:29:12.789Z"
   },
   {
    "duration": 92,
    "start_time": "2023-12-17T09:29:13.855Z"
   },
   {
    "duration": 190,
    "start_time": "2023-12-17T09:29:13.948Z"
   },
   {
    "duration": 185,
    "start_time": "2023-12-17T09:29:14.139Z"
   },
   {
    "duration": 35,
    "start_time": "2023-12-17T09:29:14.325Z"
   },
   {
    "duration": 35,
    "start_time": "2023-12-17T09:29:14.361Z"
   },
   {
    "duration": 35,
    "start_time": "2023-12-17T09:32:17.358Z"
   },
   {
    "duration": 22,
    "start_time": "2023-12-17T09:32:22.409Z"
   },
   {
    "duration": 1109,
    "start_time": "2023-12-17T09:33:01.188Z"
   },
   {
    "duration": 91,
    "start_time": "2023-12-17T09:33:02.299Z"
   },
   {
    "duration": 230,
    "start_time": "2023-12-17T09:33:02.391Z"
   },
   {
    "duration": 177,
    "start_time": "2023-12-17T09:33:02.623Z"
   },
   {
    "duration": 36,
    "start_time": "2023-12-17T09:33:02.802Z"
   },
   {
    "duration": 86342,
    "start_time": "2023-12-17T09:33:02.839Z"
   },
   {
    "duration": 1142,
    "start_time": "2023-12-17T09:35:10.254Z"
   },
   {
    "duration": 94,
    "start_time": "2023-12-17T09:35:11.398Z"
   },
   {
    "duration": 24,
    "start_time": "2023-12-17T09:35:11.493Z"
   },
   {
    "duration": 22,
    "start_time": "2023-12-17T09:35:11.519Z"
   },
   {
    "duration": 59,
    "start_time": "2023-12-17T09:35:11.543Z"
   },
   {
    "duration": 21,
    "start_time": "2023-12-17T09:35:11.604Z"
   },
   {
    "duration": 19,
    "start_time": "2023-12-17T09:41:53.907Z"
   },
   {
    "duration": 21,
    "start_time": "2023-12-17T09:41:57.834Z"
   },
   {
    "duration": 1095,
    "start_time": "2023-12-17T09:44:46.061Z"
   },
   {
    "duration": 89,
    "start_time": "2023-12-17T09:44:47.158Z"
   },
   {
    "duration": 29,
    "start_time": "2023-12-17T09:44:47.248Z"
   },
   {
    "duration": 20,
    "start_time": "2023-12-17T09:44:47.279Z"
   },
   {
    "duration": 37,
    "start_time": "2023-12-17T09:44:47.301Z"
   },
   {
    "duration": 21,
    "start_time": "2023-12-17T09:44:47.340Z"
   },
   {
    "duration": 1160,
    "start_time": "2023-12-17T09:49:48.019Z"
   },
   {
    "duration": 94,
    "start_time": "2023-12-17T09:49:49.181Z"
   },
   {
    "duration": 33,
    "start_time": "2023-12-17T09:49:49.277Z"
   },
   {
    "duration": 32,
    "start_time": "2023-12-17T09:49:49.312Z"
   },
   {
    "duration": 57,
    "start_time": "2023-12-17T09:49:49.346Z"
   },
   {
    "duration": 23,
    "start_time": "2023-12-17T09:49:49.416Z"
   },
   {
    "duration": 27,
    "start_time": "2023-12-17T09:50:31.446Z"
   },
   {
    "duration": 35,
    "start_time": "2023-12-17T09:59:18.483Z"
   },
   {
    "duration": 22,
    "start_time": "2023-12-17T10:00:04.892Z"
   },
   {
    "duration": 37,
    "start_time": "2023-12-17T10:00:17.266Z"
   },
   {
    "duration": 1040,
    "start_time": "2023-12-17T10:00:26.024Z"
   },
   {
    "duration": 96,
    "start_time": "2023-12-17T10:00:27.066Z"
   },
   {
    "duration": 28,
    "start_time": "2023-12-17T10:00:27.163Z"
   },
   {
    "duration": 22,
    "start_time": "2023-12-17T10:00:27.193Z"
   },
   {
    "duration": 35,
    "start_time": "2023-12-17T10:00:27.217Z"
   },
   {
    "duration": 33,
    "start_time": "2023-12-17T10:00:27.253Z"
   },
   {
    "duration": 36,
    "start_time": "2023-12-17T10:05:03.986Z"
   },
   {
    "duration": 21,
    "start_time": "2023-12-17T10:08:29.284Z"
   },
   {
    "duration": 1095,
    "start_time": "2023-12-17T10:08:46.145Z"
   },
   {
    "duration": 92,
    "start_time": "2023-12-17T10:08:47.242Z"
   },
   {
    "duration": 30,
    "start_time": "2023-12-17T10:08:47.336Z"
   },
   {
    "duration": 37,
    "start_time": "2023-12-17T10:08:47.368Z"
   },
   {
    "duration": 83,
    "start_time": "2023-12-17T10:08:47.407Z"
   },
   {
    "duration": 28,
    "start_time": "2023-12-17T10:08:47.492Z"
   },
   {
    "duration": 22,
    "start_time": "2023-12-17T10:11:55.896Z"
   },
   {
    "duration": 1040,
    "start_time": "2023-12-17T10:41:40.931Z"
   },
   {
    "duration": 89,
    "start_time": "2023-12-17T10:41:41.973Z"
   },
   {
    "duration": 26,
    "start_time": "2023-12-17T10:41:42.064Z"
   },
   {
    "duration": 20,
    "start_time": "2023-12-17T10:41:42.092Z"
   },
   {
    "duration": 35,
    "start_time": "2023-12-17T10:41:42.114Z"
   },
   {
    "duration": 42,
    "start_time": "2023-12-17T10:41:42.150Z"
   },
   {
    "duration": 6,
    "start_time": "2023-12-17T10:41:42.193Z"
   },
   {
    "duration": 1106,
    "start_time": "2023-12-17T10:43:44.260Z"
   },
   {
    "duration": 88,
    "start_time": "2023-12-17T10:43:45.368Z"
   },
   {
    "duration": 28,
    "start_time": "2023-12-17T10:43:45.458Z"
   },
   {
    "duration": 20,
    "start_time": "2023-12-17T10:43:45.487Z"
   },
   {
    "duration": 37,
    "start_time": "2023-12-17T10:43:45.509Z"
   },
   {
    "duration": 39,
    "start_time": "2023-12-17T10:43:45.547Z"
   },
   {
    "duration": 297,
    "start_time": "2023-12-17T14:39:23.554Z"
   },
   {
    "duration": 8,
    "start_time": "2023-12-17T14:45:08.710Z"
   },
   {
    "duration": 1035,
    "start_time": "2023-12-17T14:45:46.321Z"
   },
   {
    "duration": 91,
    "start_time": "2023-12-17T14:45:47.357Z"
   },
   {
    "duration": 27,
    "start_time": "2023-12-17T14:45:47.450Z"
   },
   {
    "duration": 28,
    "start_time": "2023-12-17T14:45:47.479Z"
   },
   {
    "duration": 57,
    "start_time": "2023-12-17T14:45:47.510Z"
   },
   {
    "duration": 31,
    "start_time": "2023-12-17T14:45:47.569Z"
   },
   {
    "duration": 7,
    "start_time": "2023-12-17T14:45:47.602Z"
   },
   {
    "duration": 1976,
    "start_time": "2023-12-17T14:45:47.610Z"
   },
   {
    "duration": 385,
    "start_time": "2023-12-17T14:46:55.110Z"
   },
   {
    "duration": 446,
    "start_time": "2023-12-17T14:47:28.421Z"
   },
   {
    "duration": 189,
    "start_time": "2023-12-17T14:49:50.533Z"
   },
   {
    "duration": 1483,
    "start_time": "2023-12-17T14:51:25.805Z"
   },
   {
    "duration": 126,
    "start_time": "2023-12-17T14:51:27.290Z"
   },
   {
    "duration": 66,
    "start_time": "2023-12-17T14:51:27.417Z"
   },
   {
    "duration": 22,
    "start_time": "2023-12-17T14:51:27.485Z"
   },
   {
    "duration": 92,
    "start_time": "2023-12-17T14:51:27.508Z"
   },
   {
    "duration": 21,
    "start_time": "2023-12-17T14:51:27.601Z"
   },
   {
    "duration": 6,
    "start_time": "2023-12-17T14:51:27.624Z"
   },
   {
    "duration": 434,
    "start_time": "2023-12-17T14:51:27.631Z"
   },
   {
    "duration": 440,
    "start_time": "2023-12-17T14:51:28.066Z"
   },
   {
    "duration": 105,
    "start_time": "2023-12-17T14:51:28.508Z"
   },
   {
    "duration": 12,
    "start_time": "2023-12-17T14:51:40.388Z"
   },
   {
    "duration": 12,
    "start_time": "2023-12-17T14:51:47.485Z"
   },
   {
    "duration": 195,
    "start_time": "2023-12-17T14:52:21.186Z"
   },
   {
    "duration": 108,
    "start_time": "2023-12-17T14:57:26.129Z"
   },
   {
    "duration": 120,
    "start_time": "2023-12-17T15:30:29.410Z"
   },
   {
    "duration": 1050,
    "start_time": "2023-12-17T15:35:21.213Z"
   },
   {
    "duration": 90,
    "start_time": "2023-12-17T15:35:22.265Z"
   },
   {
    "duration": 22,
    "start_time": "2023-12-17T15:35:22.358Z"
   },
   {
    "duration": 15,
    "start_time": "2023-12-17T15:35:22.382Z"
   },
   {
    "duration": 16,
    "start_time": "2023-12-17T15:35:22.399Z"
   },
   {
    "duration": 12,
    "start_time": "2023-12-17T15:35:22.416Z"
   },
   {
    "duration": 10,
    "start_time": "2023-12-17T15:35:22.429Z"
   },
   {
    "duration": 421,
    "start_time": "2023-12-17T15:35:22.440Z"
   },
   {
    "duration": 430,
    "start_time": "2023-12-17T15:35:22.862Z"
   },
   {
    "duration": 182,
    "start_time": "2023-12-17T15:35:23.294Z"
   },
   {
    "duration": 119,
    "start_time": "2023-12-17T15:35:23.482Z"
   },
   {
    "duration": 120,
    "start_time": "2023-12-17T15:35:23.603Z"
   },
   {
    "duration": 404,
    "start_time": "2023-12-17T15:42:06.230Z"
   },
   {
    "duration": 1038,
    "start_time": "2023-12-17T15:42:27.431Z"
   },
   {
    "duration": 93,
    "start_time": "2023-12-17T15:42:28.471Z"
   },
   {
    "duration": 23,
    "start_time": "2023-12-17T15:42:28.566Z"
   },
   {
    "duration": 17,
    "start_time": "2023-12-17T15:42:28.590Z"
   },
   {
    "duration": 36,
    "start_time": "2023-12-17T15:42:28.610Z"
   },
   {
    "duration": 22,
    "start_time": "2023-12-17T15:42:28.647Z"
   },
   {
    "duration": 9,
    "start_time": "2023-12-17T15:42:28.671Z"
   },
   {
    "duration": 420,
    "start_time": "2023-12-17T15:42:28.681Z"
   },
   {
    "duration": 415,
    "start_time": "2023-12-17T15:42:29.103Z"
   },
   {
    "duration": 194,
    "start_time": "2023-12-17T15:42:29.520Z"
   },
   {
    "duration": 142,
    "start_time": "2023-12-17T15:42:29.716Z"
   },
   {
    "duration": 139,
    "start_time": "2023-12-17T15:42:29.861Z"
   },
   {
    "duration": 11,
    "start_time": "2023-12-17T15:51:14.931Z"
   },
   {
    "duration": 1076,
    "start_time": "2023-12-17T15:51:18.679Z"
   },
   {
    "duration": 91,
    "start_time": "2023-12-17T15:51:19.757Z"
   },
   {
    "duration": 37,
    "start_time": "2023-12-17T15:51:19.849Z"
   },
   {
    "duration": 17,
    "start_time": "2023-12-17T15:51:19.887Z"
   },
   {
    "duration": 17,
    "start_time": "2023-12-17T15:51:19.905Z"
   },
   {
    "duration": 75,
    "start_time": "2023-12-17T15:51:19.924Z"
   },
   {
    "duration": 15,
    "start_time": "2023-12-17T15:51:20.000Z"
   },
   {
    "duration": 912,
    "start_time": "2023-12-17T15:51:20.017Z"
   },
   {
    "duration": 10,
    "start_time": "2023-12-17T15:51:20.982Z"
   },
   {
    "duration": 564,
    "start_time": "2023-12-17T15:51:20.994Z"
   },
   {
    "duration": 183,
    "start_time": "2023-12-17T15:51:21.560Z"
   },
   {
    "duration": 119,
    "start_time": "2023-12-17T15:51:21.745Z"
   },
   {
    "duration": 118,
    "start_time": "2023-12-17T15:51:21.866Z"
   },
   {
    "duration": 11,
    "start_time": "2023-12-17T16:06:10.183Z"
   },
   {
    "duration": 14,
    "start_time": "2023-12-17T16:09:06.914Z"
   },
   {
    "duration": 170,
    "start_time": "2023-12-17T16:10:41.556Z"
   },
   {
    "duration": 10,
    "start_time": "2023-12-17T16:11:31.322Z"
   },
   {
    "duration": 9,
    "start_time": "2023-12-17T16:13:55.243Z"
   },
   {
    "duration": 9,
    "start_time": "2023-12-17T16:14:10.153Z"
   },
   {
    "duration": 10,
    "start_time": "2023-12-17T16:14:15.049Z"
   },
   {
    "duration": 17,
    "start_time": "2023-12-17T16:16:30.746Z"
   },
   {
    "duration": 756,
    "start_time": "2023-12-17T16:17:57.871Z"
   },
   {
    "duration": 37,
    "start_time": "2023-12-17T16:18:39.422Z"
   },
   {
    "duration": 1068,
    "start_time": "2023-12-17T16:19:00.197Z"
   },
   {
    "duration": 91,
    "start_time": "2023-12-17T16:19:01.266Z"
   },
   {
    "duration": 22,
    "start_time": "2023-12-17T16:19:01.359Z"
   },
   {
    "duration": 57,
    "start_time": "2023-12-17T16:19:01.383Z"
   },
   {
    "duration": 88,
    "start_time": "2023-12-17T16:19:01.442Z"
   },
   {
    "duration": 76,
    "start_time": "2023-12-17T16:19:01.532Z"
   },
   {
    "duration": 48,
    "start_time": "2023-12-17T16:19:01.610Z"
   },
   {
    "duration": 534,
    "start_time": "2023-12-17T16:19:01.660Z"
   },
   {
    "duration": 9,
    "start_time": "2023-12-17T16:19:02.196Z"
   },
   {
    "duration": 424,
    "start_time": "2023-12-17T16:19:02.206Z"
   },
   {
    "duration": 14,
    "start_time": "2023-12-17T16:19:02.632Z"
   },
   {
    "duration": 841,
    "start_time": "2023-12-17T16:19:02.647Z"
   },
   {
    "duration": 112,
    "start_time": "2023-12-17T16:19:03.490Z"
   },
   {
    "duration": 54,
    "start_time": "2023-12-17T16:19:03.604Z"
   },
   {
    "duration": 17,
    "start_time": "2023-12-17T16:21:05.840Z"
   },
   {
    "duration": 17,
    "start_time": "2023-12-17T16:22:05.286Z"
   },
   {
    "duration": 5,
    "start_time": "2023-12-17T16:32:06.210Z"
   },
   {
    "duration": 22,
    "start_time": "2023-12-17T16:48:47.954Z"
   },
   {
    "duration": 1042,
    "start_time": "2023-12-17T16:49:15.120Z"
   },
   {
    "duration": 90,
    "start_time": "2023-12-17T16:49:16.164Z"
   },
   {
    "duration": 23,
    "start_time": "2023-12-17T16:49:16.256Z"
   },
   {
    "duration": 16,
    "start_time": "2023-12-17T16:49:16.280Z"
   },
   {
    "duration": 36,
    "start_time": "2023-12-17T16:49:16.298Z"
   },
   {
    "duration": 12,
    "start_time": "2023-12-17T16:49:16.336Z"
   },
   {
    "duration": 7,
    "start_time": "2023-12-17T16:49:16.349Z"
   },
   {
    "duration": 420,
    "start_time": "2023-12-17T16:49:16.357Z"
   },
   {
    "duration": 10,
    "start_time": "2023-12-17T16:49:16.781Z"
   },
   {
    "duration": 424,
    "start_time": "2023-12-17T16:49:16.792Z"
   },
   {
    "duration": 14,
    "start_time": "2023-12-17T16:49:17.218Z"
   },
   {
    "duration": 800,
    "start_time": "2023-12-17T16:49:17.234Z"
   },
   {
    "duration": 15,
    "start_time": "2023-12-17T16:49:18.036Z"
   },
   {
    "duration": 122,
    "start_time": "2023-12-17T16:49:18.054Z"
   },
   {
    "duration": 5,
    "start_time": "2023-12-17T16:49:18.181Z"
   },
   {
    "duration": 54,
    "start_time": "2023-12-17T16:49:18.187Z"
   },
   {
    "duration": 50,
    "start_time": "2023-12-17T16:49:18.243Z"
   },
   {
    "duration": 33,
    "start_time": "2023-12-17T16:49:31.866Z"
   },
   {
    "duration": 44,
    "start_time": "2023-12-17T16:50:28.928Z"
   },
   {
    "duration": 45,
    "start_time": "2023-12-17T16:50:45.391Z"
   },
   {
    "duration": 46,
    "start_time": "2023-12-17T16:52:05.011Z"
   },
   {
    "duration": 1262,
    "start_time": "2023-12-18T08:17:09.202Z"
   },
   {
    "duration": 316,
    "start_time": "2023-12-18T08:17:10.466Z"
   },
   {
    "duration": 24,
    "start_time": "2023-12-18T08:17:10.784Z"
   },
   {
    "duration": 71,
    "start_time": "2023-12-18T08:17:10.811Z"
   },
   {
    "duration": 43,
    "start_time": "2023-12-18T08:17:10.884Z"
   },
   {
    "duration": 16,
    "start_time": "2023-12-18T08:17:10.981Z"
   },
   {
    "duration": 17,
    "start_time": "2023-12-18T08:17:10.999Z"
   },
   {
    "duration": 964,
    "start_time": "2023-12-18T08:17:11.018Z"
   },
   {
    "duration": 11,
    "start_time": "2023-12-18T08:17:11.984Z"
   },
   {
    "duration": 928,
    "start_time": "2023-12-18T08:17:11.996Z"
   },
   {
    "duration": 69,
    "start_time": "2023-12-18T08:17:12.925Z"
   },
   {
    "duration": 1696,
    "start_time": "2023-12-18T08:17:12.996Z"
   },
   {
    "duration": 17,
    "start_time": "2023-12-18T08:17:14.694Z"
   },
   {
    "duration": 157,
    "start_time": "2023-12-18T08:17:14.714Z"
   },
   {
    "duration": 9,
    "start_time": "2023-12-18T08:17:14.873Z"
   },
   {
    "duration": 59,
    "start_time": "2023-12-18T08:17:14.883Z"
   },
   {
    "duration": 100,
    "start_time": "2023-12-18T08:17:14.943Z"
   },
   {
    "duration": 0,
    "start_time": "2023-12-18T08:17:15.044Z"
   },
   {
    "duration": 0,
    "start_time": "2023-12-18T08:17:15.045Z"
   },
   {
    "duration": 8,
    "start_time": "2023-12-18T08:18:10.657Z"
   },
   {
    "duration": 4,
    "start_time": "2023-12-18T08:18:18.861Z"
   },
   {
    "duration": 6,
    "start_time": "2023-12-18T08:18:20.880Z"
   },
   {
    "duration": 1042,
    "start_time": "2023-12-18T08:18:27.017Z"
   },
   {
    "duration": 95,
    "start_time": "2023-12-18T08:18:28.061Z"
   },
   {
    "duration": 23,
    "start_time": "2023-12-18T08:18:28.157Z"
   },
   {
    "duration": 16,
    "start_time": "2023-12-18T08:18:28.182Z"
   },
   {
    "duration": 38,
    "start_time": "2023-12-18T08:18:28.199Z"
   },
   {
    "duration": 13,
    "start_time": "2023-12-18T08:18:28.238Z"
   },
   {
    "duration": 30,
    "start_time": "2023-12-18T08:18:28.252Z"
   },
   {
    "duration": 412,
    "start_time": "2023-12-18T08:18:28.283Z"
   },
   {
    "duration": 10,
    "start_time": "2023-12-18T08:18:28.697Z"
   },
   {
    "duration": 773,
    "start_time": "2023-12-18T08:18:28.709Z"
   },
   {
    "duration": 14,
    "start_time": "2023-12-18T08:18:29.483Z"
   },
   {
    "duration": 1621,
    "start_time": "2023-12-18T08:18:29.499Z"
   },
   {
    "duration": 68,
    "start_time": "2023-12-18T08:18:31.122Z"
   },
   {
    "duration": 296,
    "start_time": "2023-12-18T08:18:31.192Z"
   },
   {
    "duration": 5,
    "start_time": "2023-12-18T08:18:31.489Z"
   },
   {
    "duration": 126,
    "start_time": "2023-12-18T08:18:31.496Z"
   },
   {
    "duration": 4,
    "start_time": "2023-12-18T08:18:31.623Z"
   },
   {
    "duration": 59,
    "start_time": "2023-12-18T08:18:31.628Z"
   },
   {
    "duration": 112,
    "start_time": "2023-12-18T08:18:31.688Z"
   },
   {
    "duration": 105,
    "start_time": "2023-12-18T08:24:33.782Z"
   },
   {
    "duration": 2231,
    "start_time": "2023-12-18T08:25:06.326Z"
   },
   {
    "duration": 9,
    "start_time": "2023-12-18T08:29:57.094Z"
   },
   {
    "duration": 9,
    "start_time": "2023-12-18T08:30:16.676Z"
   },
   {
    "duration": 9,
    "start_time": "2023-12-18T08:30:26.315Z"
   },
   {
    "duration": 16,
    "start_time": "2023-12-18T08:30:32.491Z"
   },
   {
    "duration": 33,
    "start_time": "2023-12-18T08:36:20.403Z"
   },
   {
    "duration": 1283,
    "start_time": "2023-12-18T08:38:45.532Z"
   },
   {
    "duration": 1151,
    "start_time": "2023-12-18T08:38:53.672Z"
   },
   {
    "duration": 94,
    "start_time": "2023-12-18T08:38:54.825Z"
   },
   {
    "duration": 22,
    "start_time": "2023-12-18T08:38:54.920Z"
   },
   {
    "duration": 24,
    "start_time": "2023-12-18T08:38:54.944Z"
   },
   {
    "duration": 38,
    "start_time": "2023-12-18T08:38:54.970Z"
   },
   {
    "duration": 14,
    "start_time": "2023-12-18T08:38:55.010Z"
   },
   {
    "duration": 14,
    "start_time": "2023-12-18T08:38:55.026Z"
   },
   {
    "duration": 421,
    "start_time": "2023-12-18T08:38:55.041Z"
   },
   {
    "duration": 10,
    "start_time": "2023-12-18T08:38:55.463Z"
   },
   {
    "duration": 736,
    "start_time": "2023-12-18T08:38:55.475Z"
   },
   {
    "duration": 15,
    "start_time": "2023-12-18T08:38:56.212Z"
   },
   {
    "duration": 1633,
    "start_time": "2023-12-18T08:38:56.282Z"
   },
   {
    "duration": 15,
    "start_time": "2023-12-18T08:38:57.916Z"
   },
   {
    "duration": 206,
    "start_time": "2023-12-18T08:38:57.982Z"
   },
   {
    "duration": 5,
    "start_time": "2023-12-18T08:38:58.190Z"
   },
   {
    "duration": 75,
    "start_time": "2023-12-18T08:38:58.196Z"
   },
   {
    "duration": 4,
    "start_time": "2023-12-18T08:38:58.273Z"
   },
   {
    "duration": 38,
    "start_time": "2023-12-18T08:38:58.282Z"
   },
   {
    "duration": 91,
    "start_time": "2023-12-18T08:38:58.322Z"
   },
   {
    "duration": 10,
    "start_time": "2023-12-18T08:38:58.414Z"
   },
   {
    "duration": 25,
    "start_time": "2023-12-18T08:47:13.439Z"
   },
   {
    "duration": 1091,
    "start_time": "2023-12-18T09:02:54.661Z"
   },
   {
    "duration": 93,
    "start_time": "2023-12-18T09:02:55.753Z"
   },
   {
    "duration": 23,
    "start_time": "2023-12-18T09:02:55.848Z"
   },
   {
    "duration": 16,
    "start_time": "2023-12-18T09:02:55.872Z"
   },
   {
    "duration": 37,
    "start_time": "2023-12-18T09:02:55.889Z"
   },
   {
    "duration": 13,
    "start_time": "2023-12-18T09:02:55.928Z"
   },
   {
    "duration": 6,
    "start_time": "2023-12-18T09:02:55.942Z"
   },
   {
    "duration": 435,
    "start_time": "2023-12-18T09:02:55.950Z"
   },
   {
    "duration": 10,
    "start_time": "2023-12-18T09:02:56.386Z"
   },
   {
    "duration": 410,
    "start_time": "2023-12-18T09:02:56.398Z"
   },
   {
    "duration": 13,
    "start_time": "2023-12-18T09:02:56.810Z"
   },
   {
    "duration": 812,
    "start_time": "2023-12-18T09:02:56.825Z"
   },
   {
    "duration": 16,
    "start_time": "2023-12-18T09:02:57.638Z"
   },
   {
    "duration": 120,
    "start_time": "2023-12-18T09:02:57.655Z"
   },
   {
    "duration": 7,
    "start_time": "2023-12-18T09:02:57.777Z"
   },
   {
    "duration": 61,
    "start_time": "2023-12-18T09:02:57.785Z"
   },
   {
    "duration": 4,
    "start_time": "2023-12-18T09:02:57.848Z"
   },
   {
    "duration": 35,
    "start_time": "2023-12-18T09:02:57.853Z"
   },
   {
    "duration": 59,
    "start_time": "2023-12-18T09:02:57.890Z"
   },
   {
    "duration": 13,
    "start_time": "2023-12-18T09:02:57.951Z"
   },
   {
    "duration": 19,
    "start_time": "2023-12-18T09:02:57.966Z"
   },
   {
    "duration": 16,
    "start_time": "2023-12-18T09:03:28.808Z"
   },
   {
    "duration": 1124,
    "start_time": "2023-12-18T09:07:03.250Z"
   },
   {
    "duration": 94,
    "start_time": "2023-12-18T09:07:04.376Z"
   },
   {
    "duration": 23,
    "start_time": "2023-12-18T09:07:04.472Z"
   },
   {
    "duration": 18,
    "start_time": "2023-12-18T09:07:04.497Z"
   },
   {
    "duration": 43,
    "start_time": "2023-12-18T09:07:04.516Z"
   },
   {
    "duration": 21,
    "start_time": "2023-12-18T09:07:04.561Z"
   },
   {
    "duration": 8,
    "start_time": "2023-12-18T09:07:04.584Z"
   },
   {
    "duration": 410,
    "start_time": "2023-12-18T09:07:04.593Z"
   },
   {
    "duration": 10,
    "start_time": "2023-12-18T09:07:05.004Z"
   },
   {
    "duration": 427,
    "start_time": "2023-12-18T09:07:05.015Z"
   },
   {
    "duration": 19,
    "start_time": "2023-12-18T09:07:05.444Z"
   },
   {
    "duration": 847,
    "start_time": "2023-12-18T09:07:05.465Z"
   },
   {
    "duration": 15,
    "start_time": "2023-12-18T09:07:06.314Z"
   },
   {
    "duration": 142,
    "start_time": "2023-12-18T09:07:06.331Z"
   },
   {
    "duration": 8,
    "start_time": "2023-12-18T09:07:06.474Z"
   },
   {
    "duration": 59,
    "start_time": "2023-12-18T09:07:06.484Z"
   },
   {
    "duration": 4,
    "start_time": "2023-12-18T09:07:06.544Z"
   },
   {
    "duration": 36,
    "start_time": "2023-12-18T09:07:06.550Z"
   },
   {
    "duration": 52,
    "start_time": "2023-12-18T09:07:06.588Z"
   },
   {
    "duration": 13,
    "start_time": "2023-12-18T09:07:06.642Z"
   },
   {
    "duration": 37,
    "start_time": "2023-12-18T09:07:06.656Z"
   },
   {
    "duration": 14,
    "start_time": "2023-12-18T09:07:06.695Z"
   },
   {
    "duration": 14,
    "start_time": "2023-12-18T09:18:30.142Z"
   },
   {
    "duration": 1116,
    "start_time": "2023-12-18T09:18:38.155Z"
   },
   {
    "duration": 93,
    "start_time": "2023-12-18T09:18:39.272Z"
   },
   {
    "duration": 21,
    "start_time": "2023-12-18T09:18:39.367Z"
   },
   {
    "duration": 15,
    "start_time": "2023-12-18T09:18:39.389Z"
   },
   {
    "duration": 42,
    "start_time": "2023-12-18T09:18:39.406Z"
   },
   {
    "duration": 13,
    "start_time": "2023-12-18T09:18:39.449Z"
   },
   {
    "duration": 30,
    "start_time": "2023-12-18T09:18:39.463Z"
   },
   {
    "duration": 417,
    "start_time": "2023-12-18T09:18:39.494Z"
   },
   {
    "duration": 10,
    "start_time": "2023-12-18T09:18:39.912Z"
   },
   {
    "duration": 422,
    "start_time": "2023-12-18T09:18:39.923Z"
   },
   {
    "duration": 22,
    "start_time": "2023-12-18T09:18:40.346Z"
   },
   {
    "duration": 838,
    "start_time": "2023-12-18T09:18:40.370Z"
   },
   {
    "duration": 16,
    "start_time": "2023-12-18T09:18:41.210Z"
   },
   {
    "duration": 129,
    "start_time": "2023-12-18T09:18:41.229Z"
   },
   {
    "duration": 5,
    "start_time": "2023-12-18T09:18:41.360Z"
   },
   {
    "duration": 86,
    "start_time": "2023-12-18T09:18:41.366Z"
   },
   {
    "duration": 4,
    "start_time": "2023-12-18T09:18:41.454Z"
   },
   {
    "duration": 23,
    "start_time": "2023-12-18T09:18:41.459Z"
   },
   {
    "duration": 53,
    "start_time": "2023-12-18T09:18:41.483Z"
   },
   {
    "duration": 17,
    "start_time": "2023-12-18T09:18:41.537Z"
   },
   {
    "duration": 39,
    "start_time": "2023-12-18T09:18:41.555Z"
   },
   {
    "duration": 15,
    "start_time": "2023-12-18T09:18:41.595Z"
   },
   {
    "duration": 4,
    "start_time": "2023-12-18T09:19:21.406Z"
   },
   {
    "duration": 1405,
    "start_time": "2023-12-18T09:19:25.078Z"
   },
   {
    "duration": 119,
    "start_time": "2023-12-18T09:19:26.484Z"
   },
   {
    "duration": 22,
    "start_time": "2023-12-18T09:19:26.605Z"
   },
   {
    "duration": 66,
    "start_time": "2023-12-18T09:19:26.628Z"
   },
   {
    "duration": 92,
    "start_time": "2023-12-18T09:19:26.696Z"
   },
   {
    "duration": 15,
    "start_time": "2023-12-18T09:19:26.789Z"
   },
   {
    "duration": 6,
    "start_time": "2023-12-18T09:19:26.805Z"
   },
   {
    "duration": 564,
    "start_time": "2023-12-18T09:19:26.813Z"
   },
   {
    "duration": 10,
    "start_time": "2023-12-18T09:19:27.381Z"
   },
   {
    "duration": 413,
    "start_time": "2023-12-18T09:19:27.392Z"
   },
   {
    "duration": 14,
    "start_time": "2023-12-18T09:19:27.807Z"
   },
   {
    "duration": 826,
    "start_time": "2023-12-18T09:19:27.823Z"
   },
   {
    "duration": 15,
    "start_time": "2023-12-18T09:19:28.651Z"
   },
   {
    "duration": 114,
    "start_time": "2023-12-18T09:19:28.681Z"
   },
   {
    "duration": 6,
    "start_time": "2023-12-18T09:19:28.797Z"
   },
   {
    "duration": 74,
    "start_time": "2023-12-18T09:19:28.804Z"
   },
   {
    "duration": 4,
    "start_time": "2023-12-18T09:19:28.879Z"
   },
   {
    "duration": 27,
    "start_time": "2023-12-18T09:19:28.884Z"
   },
   {
    "duration": 86,
    "start_time": "2023-12-18T09:19:28.912Z"
   },
   {
    "duration": 13,
    "start_time": "2023-12-18T09:19:28.999Z"
   },
   {
    "duration": 21,
    "start_time": "2023-12-18T09:19:29.014Z"
   },
   {
    "duration": 28,
    "start_time": "2023-12-18T09:19:29.036Z"
   },
   {
    "duration": 113,
    "start_time": "2023-12-18T09:30:42.444Z"
   },
   {
    "duration": 99,
    "start_time": "2023-12-18T09:31:53.065Z"
   },
   {
    "duration": 0,
    "start_time": "2023-12-18T09:31:53.166Z"
   },
   {
    "duration": 0,
    "start_time": "2023-12-18T09:31:53.167Z"
   },
   {
    "duration": 0,
    "start_time": "2023-12-18T09:31:53.168Z"
   },
   {
    "duration": 0,
    "start_time": "2023-12-18T09:31:53.169Z"
   },
   {
    "duration": 0,
    "start_time": "2023-12-18T09:31:53.170Z"
   },
   {
    "duration": 0,
    "start_time": "2023-12-18T09:31:53.171Z"
   },
   {
    "duration": 0,
    "start_time": "2023-12-18T09:31:53.172Z"
   },
   {
    "duration": 0,
    "start_time": "2023-12-18T09:31:53.173Z"
   },
   {
    "duration": 0,
    "start_time": "2023-12-18T09:31:53.174Z"
   },
   {
    "duration": 0,
    "start_time": "2023-12-18T09:31:53.176Z"
   },
   {
    "duration": 0,
    "start_time": "2023-12-18T09:31:53.177Z"
   },
   {
    "duration": 0,
    "start_time": "2023-12-18T09:31:53.178Z"
   },
   {
    "duration": 0,
    "start_time": "2023-12-18T09:31:53.180Z"
   },
   {
    "duration": 0,
    "start_time": "2023-12-18T09:31:53.181Z"
   },
   {
    "duration": 0,
    "start_time": "2023-12-18T09:31:53.182Z"
   },
   {
    "duration": 0,
    "start_time": "2023-12-18T09:31:53.184Z"
   },
   {
    "duration": 0,
    "start_time": "2023-12-18T09:31:53.185Z"
   },
   {
    "duration": 0,
    "start_time": "2023-12-18T09:31:53.186Z"
   },
   {
    "duration": 0,
    "start_time": "2023-12-18T09:31:53.187Z"
   },
   {
    "duration": 0,
    "start_time": "2023-12-18T09:31:53.189Z"
   },
   {
    "duration": 0,
    "start_time": "2023-12-18T09:31:53.190Z"
   },
   {
    "duration": 0,
    "start_time": "2023-12-18T09:31:53.191Z"
   },
   {
    "duration": 74,
    "start_time": "2023-12-18T09:32:12.148Z"
   },
   {
    "duration": 0,
    "start_time": "2023-12-18T09:32:12.224Z"
   },
   {
    "duration": 0,
    "start_time": "2023-12-18T09:32:12.225Z"
   },
   {
    "duration": 0,
    "start_time": "2023-12-18T09:32:12.227Z"
   },
   {
    "duration": 0,
    "start_time": "2023-12-18T09:32:12.229Z"
   },
   {
    "duration": 0,
    "start_time": "2023-12-18T09:32:12.230Z"
   },
   {
    "duration": 0,
    "start_time": "2023-12-18T09:32:12.231Z"
   },
   {
    "duration": 0,
    "start_time": "2023-12-18T09:32:12.233Z"
   },
   {
    "duration": 0,
    "start_time": "2023-12-18T09:32:12.234Z"
   },
   {
    "duration": 0,
    "start_time": "2023-12-18T09:32:12.236Z"
   },
   {
    "duration": 0,
    "start_time": "2023-12-18T09:32:12.237Z"
   },
   {
    "duration": 0,
    "start_time": "2023-12-18T09:32:12.239Z"
   },
   {
    "duration": 0,
    "start_time": "2023-12-18T09:32:12.240Z"
   },
   {
    "duration": 0,
    "start_time": "2023-12-18T09:32:12.242Z"
   },
   {
    "duration": 0,
    "start_time": "2023-12-18T09:32:12.243Z"
   },
   {
    "duration": 0,
    "start_time": "2023-12-18T09:32:12.244Z"
   },
   {
    "duration": 0,
    "start_time": "2023-12-18T09:32:12.245Z"
   },
   {
    "duration": 0,
    "start_time": "2023-12-18T09:32:12.246Z"
   },
   {
    "duration": 0,
    "start_time": "2023-12-18T09:32:12.247Z"
   },
   {
    "duration": 0,
    "start_time": "2023-12-18T09:32:12.248Z"
   },
   {
    "duration": 0,
    "start_time": "2023-12-18T09:32:12.249Z"
   },
   {
    "duration": 0,
    "start_time": "2023-12-18T09:32:12.250Z"
   },
   {
    "duration": 0,
    "start_time": "2023-12-18T09:32:12.251Z"
   },
   {
    "duration": 4729,
    "start_time": "2023-12-18T09:32:39.913Z"
   },
   {
    "duration": 97,
    "start_time": "2023-12-18T09:32:44.644Z"
   },
   {
    "duration": 23,
    "start_time": "2023-12-18T09:32:44.742Z"
   },
   {
    "duration": 20,
    "start_time": "2023-12-18T09:32:44.766Z"
   },
   {
    "duration": 47,
    "start_time": "2023-12-18T09:32:44.788Z"
   },
   {
    "duration": 14,
    "start_time": "2023-12-18T09:32:44.837Z"
   },
   {
    "duration": 28,
    "start_time": "2023-12-18T09:32:44.853Z"
   },
   {
    "duration": 424,
    "start_time": "2023-12-18T09:32:44.883Z"
   },
   {
    "duration": 9,
    "start_time": "2023-12-18T09:32:45.308Z"
   },
   {
    "duration": 417,
    "start_time": "2023-12-18T09:32:45.318Z"
   },
   {
    "duration": 14,
    "start_time": "2023-12-18T09:32:45.736Z"
   },
   {
    "duration": 817,
    "start_time": "2023-12-18T09:32:45.751Z"
   },
   {
    "duration": 18,
    "start_time": "2023-12-18T09:32:46.570Z"
   },
   {
    "duration": 117,
    "start_time": "2023-12-18T09:32:46.590Z"
   },
   {
    "duration": 5,
    "start_time": "2023-12-18T09:32:46.708Z"
   },
   {
    "duration": 71,
    "start_time": "2023-12-18T09:32:46.714Z"
   },
   {
    "duration": 5,
    "start_time": "2023-12-18T09:32:46.787Z"
   },
   {
    "duration": 30,
    "start_time": "2023-12-18T09:32:46.794Z"
   },
   {
    "duration": 57,
    "start_time": "2023-12-18T09:32:46.826Z"
   },
   {
    "duration": 12,
    "start_time": "2023-12-18T09:32:46.885Z"
   },
   {
    "duration": 29,
    "start_time": "2023-12-18T09:32:46.898Z"
   },
   {
    "duration": 16,
    "start_time": "2023-12-18T09:32:46.929Z"
   },
   {
    "duration": 7439,
    "start_time": "2023-12-18T09:32:46.948Z"
   },
   {
    "duration": 6453,
    "start_time": "2023-12-18T09:36:40.094Z"
   },
   {
    "duration": 3339,
    "start_time": "2023-12-18T09:40:21.604Z"
   },
   {
    "duration": 94,
    "start_time": "2023-12-18T09:40:24.945Z"
   },
   {
    "duration": 24,
    "start_time": "2023-12-18T09:40:25.040Z"
   },
   {
    "duration": 16,
    "start_time": "2023-12-18T09:40:25.066Z"
   },
   {
    "duration": 40,
    "start_time": "2023-12-18T09:40:25.083Z"
   },
   {
    "duration": 12,
    "start_time": "2023-12-18T09:40:25.125Z"
   },
   {
    "duration": 9,
    "start_time": "2023-12-18T09:40:25.138Z"
   },
   {
    "duration": 424,
    "start_time": "2023-12-18T09:40:25.149Z"
   },
   {
    "duration": 14,
    "start_time": "2023-12-18T09:40:25.574Z"
   },
   {
    "duration": 446,
    "start_time": "2023-12-18T09:40:25.590Z"
   },
   {
    "duration": 15,
    "start_time": "2023-12-18T09:40:26.037Z"
   },
   {
    "duration": 834,
    "start_time": "2023-12-18T09:40:26.054Z"
   },
   {
    "duration": 16,
    "start_time": "2023-12-18T09:40:26.890Z"
   },
   {
    "duration": 122,
    "start_time": "2023-12-18T09:40:26.907Z"
   },
   {
    "duration": 5,
    "start_time": "2023-12-18T09:40:27.031Z"
   },
   {
    "duration": 98,
    "start_time": "2023-12-18T09:40:27.037Z"
   },
   {
    "duration": 4,
    "start_time": "2023-12-18T09:40:27.137Z"
   },
   {
    "duration": 46,
    "start_time": "2023-12-18T09:40:27.142Z"
   },
   {
    "duration": 67,
    "start_time": "2023-12-18T09:40:27.190Z"
   },
   {
    "duration": 14,
    "start_time": "2023-12-18T09:40:27.258Z"
   },
   {
    "duration": 22,
    "start_time": "2023-12-18T09:40:27.274Z"
   },
   {
    "duration": 38,
    "start_time": "2023-12-18T09:40:27.297Z"
   },
   {
    "duration": 2795,
    "start_time": "2023-12-18T09:40:27.336Z"
   },
   {
    "duration": 3338,
    "start_time": "2023-12-18T09:45:25.586Z"
   },
   {
    "duration": 94,
    "start_time": "2023-12-18T09:45:28.926Z"
   },
   {
    "duration": 24,
    "start_time": "2023-12-18T09:45:29.021Z"
   },
   {
    "duration": 16,
    "start_time": "2023-12-18T09:45:29.047Z"
   },
   {
    "duration": 41,
    "start_time": "2023-12-18T09:45:29.065Z"
   },
   {
    "duration": 13,
    "start_time": "2023-12-18T09:45:29.107Z"
   },
   {
    "duration": 17,
    "start_time": "2023-12-18T09:45:29.121Z"
   },
   {
    "duration": 406,
    "start_time": "2023-12-18T09:45:29.140Z"
   },
   {
    "duration": 10,
    "start_time": "2023-12-18T09:45:29.547Z"
   },
   {
    "duration": 423,
    "start_time": "2023-12-18T09:45:29.559Z"
   },
   {
    "duration": 14,
    "start_time": "2023-12-18T09:45:29.983Z"
   },
   {
    "duration": 853,
    "start_time": "2023-12-18T09:45:29.999Z"
   },
   {
    "duration": 16,
    "start_time": "2023-12-18T09:45:30.854Z"
   },
   {
    "duration": 137,
    "start_time": "2023-12-18T09:45:30.881Z"
   },
   {
    "duration": 6,
    "start_time": "2023-12-18T09:45:31.019Z"
   },
   {
    "duration": 119,
    "start_time": "2023-12-18T09:45:31.026Z"
   },
   {
    "duration": 6,
    "start_time": "2023-12-18T09:45:31.146Z"
   },
   {
    "duration": 63,
    "start_time": "2023-12-18T09:45:31.153Z"
   },
   {
    "duration": 85,
    "start_time": "2023-12-18T09:45:31.218Z"
   },
   {
    "duration": 14,
    "start_time": "2023-12-18T09:45:31.305Z"
   },
   {
    "duration": 48,
    "start_time": "2023-12-18T09:45:31.321Z"
   },
   {
    "duration": 53,
    "start_time": "2023-12-18T09:45:31.371Z"
   },
   {
    "duration": 2903,
    "start_time": "2023-12-18T09:45:31.425Z"
   },
   {
    "duration": 93,
    "start_time": "2023-12-18T09:52:15.948Z"
   },
   {
    "duration": 8,
    "start_time": "2023-12-18T09:53:01.968Z"
   },
   {
    "duration": 2740,
    "start_time": "2023-12-18T09:56:02.289Z"
   },
   {
    "duration": 3483,
    "start_time": "2023-12-18T09:56:07.941Z"
   },
   {
    "duration": 102,
    "start_time": "2023-12-18T09:56:11.426Z"
   },
   {
    "duration": 30,
    "start_time": "2023-12-18T09:56:11.530Z"
   },
   {
    "duration": 18,
    "start_time": "2023-12-18T09:56:11.562Z"
   },
   {
    "duration": 45,
    "start_time": "2023-12-18T09:56:11.581Z"
   },
   {
    "duration": 13,
    "start_time": "2023-12-18T09:56:11.627Z"
   },
   {
    "duration": 20,
    "start_time": "2023-12-18T09:56:11.642Z"
   },
   {
    "duration": 496,
    "start_time": "2023-12-18T09:56:11.663Z"
   },
   {
    "duration": 23,
    "start_time": "2023-12-18T09:56:12.161Z"
   },
   {
    "duration": 490,
    "start_time": "2023-12-18T09:56:12.188Z"
   },
   {
    "duration": 16,
    "start_time": "2023-12-18T09:56:12.681Z"
   },
   {
    "duration": 913,
    "start_time": "2023-12-18T09:56:12.698Z"
   },
   {
    "duration": 15,
    "start_time": "2023-12-18T09:56:13.613Z"
   },
   {
    "duration": 130,
    "start_time": "2023-12-18T09:56:13.630Z"
   },
   {
    "duration": 5,
    "start_time": "2023-12-18T09:56:13.762Z"
   },
   {
    "duration": 72,
    "start_time": "2023-12-18T09:56:13.768Z"
   },
   {
    "duration": 5,
    "start_time": "2023-12-18T09:56:13.841Z"
   },
   {
    "duration": 39,
    "start_time": "2023-12-18T09:56:13.847Z"
   },
   {
    "duration": 83,
    "start_time": "2023-12-18T09:56:13.888Z"
   },
   {
    "duration": 12,
    "start_time": "2023-12-18T09:56:13.973Z"
   },
   {
    "duration": 27,
    "start_time": "2023-12-18T09:56:13.987Z"
   },
   {
    "duration": 15,
    "start_time": "2023-12-18T09:56:14.015Z"
   },
   {
    "duration": 6302,
    "start_time": "2023-12-18T09:56:14.031Z"
   },
   {
    "duration": 9,
    "start_time": "2023-12-18T09:56:20.335Z"
   },
   {
    "duration": 3308,
    "start_time": "2023-12-18T09:56:43.477Z"
   },
   {
    "duration": 94,
    "start_time": "2023-12-18T09:56:46.787Z"
   },
   {
    "duration": 25,
    "start_time": "2023-12-18T09:56:46.882Z"
   },
   {
    "duration": 16,
    "start_time": "2023-12-18T09:56:46.909Z"
   },
   {
    "duration": 56,
    "start_time": "2023-12-18T09:56:46.926Z"
   },
   {
    "duration": 14,
    "start_time": "2023-12-18T09:56:46.983Z"
   },
   {
    "duration": 6,
    "start_time": "2023-12-18T09:56:46.998Z"
   },
   {
    "duration": 421,
    "start_time": "2023-12-18T09:56:47.005Z"
   },
   {
    "duration": 10,
    "start_time": "2023-12-18T09:56:47.427Z"
   },
   {
    "duration": 586,
    "start_time": "2023-12-18T09:56:47.439Z"
   },
   {
    "duration": 14,
    "start_time": "2023-12-18T09:56:48.081Z"
   },
   {
    "duration": 1322,
    "start_time": "2023-12-18T09:56:48.097Z"
   },
   {
    "duration": 18,
    "start_time": "2023-12-18T09:56:49.421Z"
   },
   {
    "duration": 151,
    "start_time": "2023-12-18T09:56:49.441Z"
   },
   {
    "duration": 5,
    "start_time": "2023-12-18T09:56:49.594Z"
   },
   {
    "duration": 83,
    "start_time": "2023-12-18T09:56:49.601Z"
   },
   {
    "duration": 4,
    "start_time": "2023-12-18T09:56:49.686Z"
   },
   {
    "duration": 25,
    "start_time": "2023-12-18T09:56:49.692Z"
   },
   {
    "duration": 53,
    "start_time": "2023-12-18T09:56:49.719Z"
   },
   {
    "duration": 20,
    "start_time": "2023-12-18T09:56:49.774Z"
   },
   {
    "duration": 29,
    "start_time": "2023-12-18T09:56:49.796Z"
   },
   {
    "duration": 18,
    "start_time": "2023-12-18T09:56:49.827Z"
   },
   {
    "duration": 3142,
    "start_time": "2023-12-18T09:56:49.847Z"
   },
   {
    "duration": 10,
    "start_time": "2023-12-18T09:56:52.990Z"
   },
   {
    "duration": 116,
    "start_time": "2023-12-18T09:59:54.252Z"
   },
   {
    "duration": 3510,
    "start_time": "2023-12-18T09:59:59.912Z"
   },
   {
    "duration": 92,
    "start_time": "2023-12-18T10:00:03.424Z"
   },
   {
    "duration": 23,
    "start_time": "2023-12-18T10:00:03.518Z"
   },
   {
    "duration": 44,
    "start_time": "2023-12-18T10:00:03.543Z"
   },
   {
    "duration": 51,
    "start_time": "2023-12-18T10:00:03.588Z"
   },
   {
    "duration": 19,
    "start_time": "2023-12-18T10:00:03.640Z"
   },
   {
    "duration": 22,
    "start_time": "2023-12-18T10:00:03.661Z"
   },
   {
    "duration": 479,
    "start_time": "2023-12-18T10:00:03.684Z"
   },
   {
    "duration": 21,
    "start_time": "2023-12-18T10:00:04.165Z"
   },
   {
    "duration": 424,
    "start_time": "2023-12-18T10:00:04.189Z"
   },
   {
    "duration": 14,
    "start_time": "2023-12-18T10:00:04.614Z"
   },
   {
    "duration": 861,
    "start_time": "2023-12-18T10:00:04.630Z"
   },
   {
    "duration": 15,
    "start_time": "2023-12-18T10:00:05.492Z"
   },
   {
    "duration": 123,
    "start_time": "2023-12-18T10:00:05.509Z"
   },
   {
    "duration": 5,
    "start_time": "2023-12-18T10:00:05.633Z"
   },
   {
    "duration": 68,
    "start_time": "2023-12-18T10:00:05.639Z"
   },
   {
    "duration": 4,
    "start_time": "2023-12-18T10:00:05.709Z"
   },
   {
    "duration": 17,
    "start_time": "2023-12-18T10:00:05.714Z"
   },
   {
    "duration": 59,
    "start_time": "2023-12-18T10:00:05.732Z"
   },
   {
    "duration": 12,
    "start_time": "2023-12-18T10:00:05.792Z"
   },
   {
    "duration": 20,
    "start_time": "2023-12-18T10:00:05.805Z"
   },
   {
    "duration": 39,
    "start_time": "2023-12-18T10:00:05.827Z"
   },
   {
    "duration": 2833,
    "start_time": "2023-12-18T10:00:05.867Z"
   },
   {
    "duration": 10,
    "start_time": "2023-12-18T10:00:08.701Z"
   },
   {
    "duration": 3997,
    "start_time": "2023-12-18T10:17:42.581Z"
   },
   {
    "duration": 104,
    "start_time": "2023-12-18T10:17:46.580Z"
   },
   {
    "duration": 25,
    "start_time": "2023-12-18T10:17:46.685Z"
   },
   {
    "duration": 71,
    "start_time": "2023-12-18T10:17:46.711Z"
   },
   {
    "duration": 38,
    "start_time": "2023-12-18T10:17:46.783Z"
   },
   {
    "duration": 64,
    "start_time": "2023-12-18T10:17:46.822Z"
   },
   {
    "duration": 6,
    "start_time": "2023-12-18T10:17:46.887Z"
   },
   {
    "duration": 827,
    "start_time": "2023-12-18T10:17:46.894Z"
   },
   {
    "duration": 63,
    "start_time": "2023-12-18T10:17:47.723Z"
   },
   {
    "duration": 447,
    "start_time": "2023-12-18T10:17:47.788Z"
   },
   {
    "duration": 13,
    "start_time": "2023-12-18T10:17:48.237Z"
   },
   {
    "duration": 802,
    "start_time": "2023-12-18T10:17:48.252Z"
   },
   {
    "duration": 15,
    "start_time": "2023-12-18T10:17:49.056Z"
   },
   {
    "duration": 122,
    "start_time": "2023-12-18T10:17:49.082Z"
   },
   {
    "duration": 5,
    "start_time": "2023-12-18T10:17:49.206Z"
   },
   {
    "duration": 79,
    "start_time": "2023-12-18T10:17:49.213Z"
   },
   {
    "duration": 5,
    "start_time": "2023-12-18T10:17:49.294Z"
   },
   {
    "duration": 20,
    "start_time": "2023-12-18T10:17:49.301Z"
   },
   {
    "duration": 63,
    "start_time": "2023-12-18T10:17:49.322Z"
   },
   {
    "duration": 17,
    "start_time": "2023-12-18T10:17:49.387Z"
   },
   {
    "duration": 24,
    "start_time": "2023-12-18T10:17:49.406Z"
   },
   {
    "duration": 18,
    "start_time": "2023-12-18T10:17:49.431Z"
   },
   {
    "duration": 3147,
    "start_time": "2023-12-18T10:17:49.482Z"
   },
   {
    "duration": 1437,
    "start_time": "2023-12-18T10:20:44.789Z"
   },
   {
    "duration": 15,
    "start_time": "2023-12-18T10:20:49.583Z"
   },
   {
    "duration": 3415,
    "start_time": "2023-12-18T10:20:56.935Z"
   },
   {
    "duration": 104,
    "start_time": "2023-12-18T10:21:00.352Z"
   },
   {
    "duration": 26,
    "start_time": "2023-12-18T10:21:00.457Z"
   },
   {
    "duration": 28,
    "start_time": "2023-12-18T10:21:00.485Z"
   },
   {
    "duration": 50,
    "start_time": "2023-12-18T10:21:00.515Z"
   },
   {
    "duration": 21,
    "start_time": "2023-12-18T10:21:00.566Z"
   },
   {
    "duration": 38,
    "start_time": "2023-12-18T10:21:00.588Z"
   },
   {
    "duration": 433,
    "start_time": "2023-12-18T10:21:00.628Z"
   },
   {
    "duration": 10,
    "start_time": "2023-12-18T10:21:01.062Z"
   },
   {
    "duration": 448,
    "start_time": "2023-12-18T10:21:01.081Z"
   },
   {
    "duration": 14,
    "start_time": "2023-12-18T10:21:01.531Z"
   },
   {
    "duration": 924,
    "start_time": "2023-12-18T10:21:01.546Z"
   },
   {
    "duration": 21,
    "start_time": "2023-12-18T10:21:02.472Z"
   },
   {
    "duration": 134,
    "start_time": "2023-12-18T10:21:02.494Z"
   },
   {
    "duration": 5,
    "start_time": "2023-12-18T10:21:02.629Z"
   },
   {
    "duration": 61,
    "start_time": "2023-12-18T10:21:02.635Z"
   },
   {
    "duration": 5,
    "start_time": "2023-12-18T10:21:02.697Z"
   },
   {
    "duration": 9,
    "start_time": "2023-12-18T10:21:02.703Z"
   },
   {
    "duration": 45,
    "start_time": "2023-12-18T10:21:02.713Z"
   },
   {
    "duration": 34,
    "start_time": "2023-12-18T10:21:02.759Z"
   },
   {
    "duration": 22,
    "start_time": "2023-12-18T10:21:02.794Z"
   },
   {
    "duration": 24,
    "start_time": "2023-12-18T10:21:02.818Z"
   },
   {
    "duration": 3139,
    "start_time": "2023-12-18T10:21:02.843Z"
   },
   {
    "duration": 101,
    "start_time": "2023-12-18T11:00:18.186Z"
   },
   {
    "duration": 10,
    "start_time": "2023-12-18T11:00:38.394Z"
   },
   {
    "duration": 10,
    "start_time": "2023-12-18T11:01:30.050Z"
   },
   {
    "duration": 11,
    "start_time": "2023-12-18T11:01:52.162Z"
   },
   {
    "duration": 14,
    "start_time": "2023-12-18T11:02:50.580Z"
   },
   {
    "duration": 3276,
    "start_time": "2023-12-18T11:19:18.224Z"
   },
   {
    "duration": 100,
    "start_time": "2023-12-18T11:19:21.502Z"
   },
   {
    "duration": 24,
    "start_time": "2023-12-18T11:19:21.603Z"
   },
   {
    "duration": 16,
    "start_time": "2023-12-18T11:19:21.628Z"
   },
   {
    "duration": 45,
    "start_time": "2023-12-18T11:19:21.645Z"
   },
   {
    "duration": 13,
    "start_time": "2023-12-18T11:19:21.691Z"
   },
   {
    "duration": 23,
    "start_time": "2023-12-18T11:19:21.705Z"
   },
   {
    "duration": 430,
    "start_time": "2023-12-18T11:19:21.729Z"
   },
   {
    "duration": 10,
    "start_time": "2023-12-18T11:19:22.160Z"
   },
   {
    "duration": 456,
    "start_time": "2023-12-18T11:19:22.172Z"
   },
   {
    "duration": 15,
    "start_time": "2023-12-18T11:19:22.629Z"
   },
   {
    "duration": 828,
    "start_time": "2023-12-18T11:19:22.645Z"
   },
   {
    "duration": 20,
    "start_time": "2023-12-18T11:19:23.482Z"
   },
   {
    "duration": 126,
    "start_time": "2023-12-18T11:19:23.504Z"
   },
   {
    "duration": 5,
    "start_time": "2023-12-18T11:19:23.631Z"
   },
   {
    "duration": 66,
    "start_time": "2023-12-18T11:19:23.637Z"
   },
   {
    "duration": 4,
    "start_time": "2023-12-18T11:19:23.704Z"
   },
   {
    "duration": 23,
    "start_time": "2023-12-18T11:19:23.710Z"
   },
   {
    "duration": 49,
    "start_time": "2023-12-18T11:19:23.734Z"
   },
   {
    "duration": 13,
    "start_time": "2023-12-18T11:19:23.784Z"
   },
   {
    "duration": 19,
    "start_time": "2023-12-18T11:19:23.799Z"
   },
   {
    "duration": 16,
    "start_time": "2023-12-18T11:19:23.820Z"
   },
   {
    "duration": 3124,
    "start_time": "2023-12-18T11:19:23.838Z"
   },
   {
    "duration": 5206,
    "start_time": "2023-12-19T08:41:12.231Z"
   },
   {
    "duration": 312,
    "start_time": "2023-12-19T08:41:17.439Z"
   },
   {
    "duration": 29,
    "start_time": "2023-12-19T08:41:17.752Z"
   },
   {
    "duration": 19,
    "start_time": "2023-12-19T08:41:17.783Z"
   },
   {
    "duration": 45,
    "start_time": "2023-12-19T08:41:17.804Z"
   },
   {
    "duration": 24,
    "start_time": "2023-12-19T08:41:17.851Z"
   },
   {
    "duration": 18,
    "start_time": "2023-12-19T08:41:17.876Z"
   },
   {
    "duration": 498,
    "start_time": "2023-12-19T08:41:17.896Z"
   },
   {
    "duration": 12,
    "start_time": "2023-12-19T08:41:18.396Z"
   },
   {
    "duration": 568,
    "start_time": "2023-12-19T08:41:18.411Z"
   },
   {
    "duration": 15,
    "start_time": "2023-12-19T08:41:18.981Z"
   },
   {
    "duration": 924,
    "start_time": "2023-12-19T08:41:18.998Z"
   },
   {
    "duration": 17,
    "start_time": "2023-12-19T08:41:19.924Z"
   },
   {
    "duration": 168,
    "start_time": "2023-12-19T08:41:19.943Z"
   },
   {
    "duration": 9,
    "start_time": "2023-12-19T08:41:20.113Z"
   },
   {
    "duration": 75,
    "start_time": "2023-12-19T08:41:20.124Z"
   },
   {
    "duration": 13,
    "start_time": "2023-12-19T08:41:20.201Z"
   },
   {
    "duration": 12,
    "start_time": "2023-12-19T08:41:20.215Z"
   },
   {
    "duration": 60,
    "start_time": "2023-12-19T08:41:20.229Z"
   },
   {
    "duration": 19,
    "start_time": "2023-12-19T08:41:20.291Z"
   },
   {
    "duration": 25,
    "start_time": "2023-12-19T08:41:20.321Z"
   },
   {
    "duration": 19,
    "start_time": "2023-12-19T08:41:20.348Z"
   },
   {
    "duration": 3621,
    "start_time": "2023-12-19T08:41:20.368Z"
   },
   {
    "duration": 16,
    "start_time": "2023-12-19T08:45:32.941Z"
   },
   {
    "duration": 4108,
    "start_time": "2023-12-19T08:47:24.731Z"
   },
   {
    "duration": 100,
    "start_time": "2023-12-19T08:47:28.841Z"
   },
   {
    "duration": 29,
    "start_time": "2023-12-19T08:47:28.942Z"
   },
   {
    "duration": 28,
    "start_time": "2023-12-19T08:47:28.974Z"
   },
   {
    "duration": 59,
    "start_time": "2023-12-19T08:47:29.004Z"
   },
   {
    "duration": 16,
    "start_time": "2023-12-19T08:47:29.065Z"
   },
   {
    "duration": 11,
    "start_time": "2023-12-19T08:47:29.082Z"
   },
   {
    "duration": 524,
    "start_time": "2023-12-19T08:47:29.094Z"
   },
   {
    "duration": 12,
    "start_time": "2023-12-19T08:47:29.620Z"
   },
   {
    "duration": 590,
    "start_time": "2023-12-19T08:47:29.634Z"
   },
   {
    "duration": 17,
    "start_time": "2023-12-19T08:47:30.226Z"
   },
   {
    "duration": 948,
    "start_time": "2023-12-19T08:47:30.245Z"
   },
   {
    "duration": 29,
    "start_time": "2023-12-19T08:47:31.195Z"
   },
   {
    "duration": 146,
    "start_time": "2023-12-19T08:47:31.226Z"
   },
   {
    "duration": 5,
    "start_time": "2023-12-19T08:47:31.374Z"
   },
   {
    "duration": 118,
    "start_time": "2023-12-19T08:47:31.381Z"
   },
   {
    "duration": 6,
    "start_time": "2023-12-19T08:47:31.500Z"
   },
   {
    "duration": 61,
    "start_time": "2023-12-19T08:47:31.507Z"
   },
   {
    "duration": 125,
    "start_time": "2023-12-19T08:47:31.569Z"
   },
   {
    "duration": 27,
    "start_time": "2023-12-19T08:47:31.696Z"
   },
   {
    "duration": 367,
    "start_time": "2023-12-19T08:47:31.725Z"
   },
   {
    "duration": 34,
    "start_time": "2023-12-19T08:47:32.094Z"
   },
   {
    "duration": 3700,
    "start_time": "2023-12-19T08:47:32.129Z"
   },
   {
    "duration": 13,
    "start_time": "2023-12-19T08:47:35.831Z"
   },
   {
    "duration": 21,
    "start_time": "2023-12-19T08:47:35.846Z"
   },
   {
    "duration": 10,
    "start_time": "2023-12-19T09:05:07.819Z"
   },
   {
    "duration": 11,
    "start_time": "2023-12-19T09:07:56.051Z"
   },
   {
    "duration": 14,
    "start_time": "2023-12-19T09:10:18.483Z"
   },
   {
    "duration": 14,
    "start_time": "2023-12-19T09:10:28.040Z"
   },
   {
    "duration": 2706,
    "start_time": "2023-12-19T09:12:21.400Z"
   },
   {
    "duration": 5,
    "start_time": "2023-12-19T09:13:32.448Z"
   },
   {
    "duration": 4058,
    "start_time": "2023-12-19T09:15:38.125Z"
   },
   {
    "duration": 101,
    "start_time": "2023-12-19T09:15:42.186Z"
   },
   {
    "duration": 27,
    "start_time": "2023-12-19T09:15:42.289Z"
   },
   {
    "duration": 20,
    "start_time": "2023-12-19T09:15:42.319Z"
   },
   {
    "duration": 106,
    "start_time": "2023-12-19T09:15:42.341Z"
   },
   {
    "duration": 16,
    "start_time": "2023-12-19T09:15:42.448Z"
   },
   {
    "duration": 24,
    "start_time": "2023-12-19T09:15:42.465Z"
   },
   {
    "duration": 535,
    "start_time": "2023-12-19T09:15:42.490Z"
   },
   {
    "duration": 14,
    "start_time": "2023-12-19T09:15:43.027Z"
   },
   {
    "duration": 607,
    "start_time": "2023-12-19T09:15:43.044Z"
   },
   {
    "duration": 16,
    "start_time": "2023-12-19T09:15:43.653Z"
   },
   {
    "duration": 946,
    "start_time": "2023-12-19T09:15:43.670Z"
   },
   {
    "duration": 30,
    "start_time": "2023-12-19T09:15:44.618Z"
   },
   {
    "duration": 229,
    "start_time": "2023-12-19T09:15:44.650Z"
   },
   {
    "duration": 7,
    "start_time": "2023-12-19T09:15:44.880Z"
   },
   {
    "duration": 88,
    "start_time": "2023-12-19T09:15:44.888Z"
   },
   {
    "duration": 5,
    "start_time": "2023-12-19T09:15:44.978Z"
   },
   {
    "duration": 78,
    "start_time": "2023-12-19T09:15:44.985Z"
   },
   {
    "duration": 116,
    "start_time": "2023-12-19T09:15:45.065Z"
   },
   {
    "duration": 16,
    "start_time": "2023-12-19T09:15:45.183Z"
   },
   {
    "duration": 67,
    "start_time": "2023-12-19T09:15:45.201Z"
   },
   {
    "duration": 34,
    "start_time": "2023-12-19T09:15:45.270Z"
   },
   {
    "duration": 4052,
    "start_time": "2023-12-19T09:15:45.305Z"
   },
   {
    "duration": 15,
    "start_time": "2023-12-19T09:15:49.359Z"
   },
   {
    "duration": 200,
    "start_time": "2023-12-19T09:15:49.376Z"
   },
   {
    "duration": 45,
    "start_time": "2023-12-19T09:15:49.578Z"
   },
   {
    "duration": 29,
    "start_time": "2023-12-19T09:17:27.306Z"
   },
   {
    "duration": 4275,
    "start_time": "2023-12-19T09:22:58.044Z"
   },
   {
    "duration": 105,
    "start_time": "2023-12-19T09:23:02.321Z"
   },
   {
    "duration": 33,
    "start_time": "2023-12-19T09:23:02.428Z"
   },
   {
    "duration": 31,
    "start_time": "2023-12-19T09:23:02.464Z"
   },
   {
    "duration": 65,
    "start_time": "2023-12-19T09:23:02.497Z"
   },
   {
    "duration": 15,
    "start_time": "2023-12-19T09:23:02.563Z"
   },
   {
    "duration": 17,
    "start_time": "2023-12-19T09:23:02.580Z"
   },
   {
    "duration": 520,
    "start_time": "2023-12-19T09:23:02.598Z"
   },
   {
    "duration": 15,
    "start_time": "2023-12-19T09:23:03.122Z"
   },
   {
    "duration": 647,
    "start_time": "2023-12-19T09:23:03.140Z"
   },
   {
    "duration": 17,
    "start_time": "2023-12-19T09:23:03.790Z"
   },
   {
    "duration": 1006,
    "start_time": "2023-12-19T09:23:03.808Z"
   },
   {
    "duration": 25,
    "start_time": "2023-12-19T09:23:04.816Z"
   },
   {
    "duration": 157,
    "start_time": "2023-12-19T09:23:04.844Z"
   },
   {
    "duration": 5,
    "start_time": "2023-12-19T09:23:05.003Z"
   },
   {
    "duration": 84,
    "start_time": "2023-12-19T09:23:05.022Z"
   },
   {
    "duration": 5,
    "start_time": "2023-12-19T09:23:05.108Z"
   },
   {
    "duration": 41,
    "start_time": "2023-12-19T09:23:05.114Z"
   },
   {
    "duration": 63,
    "start_time": "2023-12-19T09:23:05.156Z"
   },
   {
    "duration": 23,
    "start_time": "2023-12-19T09:23:05.221Z"
   },
   {
    "duration": 25,
    "start_time": "2023-12-19T09:23:05.246Z"
   },
   {
    "duration": 22,
    "start_time": "2023-12-19T09:23:05.272Z"
   },
   {
    "duration": 3885,
    "start_time": "2023-12-19T09:23:05.296Z"
   },
   {
    "duration": 15,
    "start_time": "2023-12-19T09:23:09.183Z"
   },
   {
    "duration": 19,
    "start_time": "2023-12-19T09:23:09.200Z"
   },
   {
    "duration": 16,
    "start_time": "2023-12-19T09:23:09.221Z"
   },
   {
    "duration": 37,
    "start_time": "2023-12-19T09:23:09.239Z"
   },
   {
    "duration": 125,
    "start_time": "2023-12-19T09:23:09.280Z"
   },
   {
    "duration": 4388,
    "start_time": "2023-12-19T09:25:02.686Z"
   },
   {
    "duration": 102,
    "start_time": "2023-12-19T09:25:07.076Z"
   },
   {
    "duration": 29,
    "start_time": "2023-12-19T09:25:07.180Z"
   },
   {
    "duration": 27,
    "start_time": "2023-12-19T09:25:07.211Z"
   },
   {
    "duration": 51,
    "start_time": "2023-12-19T09:25:07.242Z"
   },
   {
    "duration": 29,
    "start_time": "2023-12-19T09:25:07.295Z"
   },
   {
    "duration": 8,
    "start_time": "2023-12-19T09:25:07.326Z"
   },
   {
    "duration": 537,
    "start_time": "2023-12-19T09:25:07.336Z"
   },
   {
    "duration": 12,
    "start_time": "2023-12-19T09:25:07.875Z"
   },
   {
    "duration": 580,
    "start_time": "2023-12-19T09:25:07.889Z"
   },
   {
    "duration": 16,
    "start_time": "2023-12-19T09:25:08.471Z"
   },
   {
    "duration": 916,
    "start_time": "2023-12-19T09:25:08.488Z"
   },
   {
    "duration": 29,
    "start_time": "2023-12-19T09:25:09.406Z"
   },
   {
    "duration": 154,
    "start_time": "2023-12-19T09:25:09.439Z"
   },
   {
    "duration": 6,
    "start_time": "2023-12-19T09:25:09.594Z"
   },
   {
    "duration": 85,
    "start_time": "2023-12-19T09:25:09.602Z"
   },
   {
    "duration": 5,
    "start_time": "2023-12-19T09:25:09.688Z"
   },
   {
    "duration": 11,
    "start_time": "2023-12-19T09:25:09.694Z"
   },
   {
    "duration": 62,
    "start_time": "2023-12-19T09:25:09.722Z"
   },
   {
    "duration": 36,
    "start_time": "2023-12-19T09:25:09.786Z"
   },
   {
    "duration": 30,
    "start_time": "2023-12-19T09:25:09.825Z"
   },
   {
    "duration": 17,
    "start_time": "2023-12-19T09:25:09.857Z"
   },
   {
    "duration": 3941,
    "start_time": "2023-12-19T09:25:09.876Z"
   },
   {
    "duration": 16,
    "start_time": "2023-12-19T09:25:13.819Z"
   },
   {
    "duration": 16,
    "start_time": "2023-12-19T09:25:13.837Z"
   },
   {
    "duration": 11,
    "start_time": "2023-12-19T09:25:13.855Z"
   },
   {
    "duration": 49,
    "start_time": "2023-12-19T09:25:13.868Z"
   },
   {
    "duration": 4,
    "start_time": "2023-12-19T09:25:13.919Z"
   },
   {
    "duration": 4372,
    "start_time": "2023-12-19T09:29:24.637Z"
   },
   {
    "duration": 111,
    "start_time": "2023-12-19T09:29:29.011Z"
   },
   {
    "duration": 35,
    "start_time": "2023-12-19T09:29:29.125Z"
   },
   {
    "duration": 21,
    "start_time": "2023-12-19T09:29:29.162Z"
   },
   {
    "duration": 73,
    "start_time": "2023-12-19T09:29:29.186Z"
   },
   {
    "duration": 16,
    "start_time": "2023-12-19T09:29:29.261Z"
   },
   {
    "duration": 18,
    "start_time": "2023-12-19T09:29:29.279Z"
   },
   {
    "duration": 516,
    "start_time": "2023-12-19T09:29:29.299Z"
   },
   {
    "duration": 13,
    "start_time": "2023-12-19T09:29:29.823Z"
   },
   {
    "duration": 654,
    "start_time": "2023-12-19T09:29:29.838Z"
   },
   {
    "duration": 28,
    "start_time": "2023-12-19T09:29:30.494Z"
   },
   {
    "duration": 987,
    "start_time": "2023-12-19T09:29:30.525Z"
   },
   {
    "duration": 34,
    "start_time": "2023-12-19T09:29:31.514Z"
   },
   {
    "duration": 438,
    "start_time": "2023-12-19T09:29:31.550Z"
   },
   {
    "duration": 5,
    "start_time": "2023-12-19T09:29:31.990Z"
   },
   {
    "duration": 224,
    "start_time": "2023-12-19T09:29:31.997Z"
   },
   {
    "duration": 159,
    "start_time": "2023-12-19T09:29:32.226Z"
   },
   {
    "duration": 60,
    "start_time": "2023-12-19T09:29:32.387Z"
   },
   {
    "duration": 69,
    "start_time": "2023-12-19T09:29:32.449Z"
   },
   {
    "duration": 22,
    "start_time": "2023-12-19T09:29:32.520Z"
   },
   {
    "duration": 23,
    "start_time": "2023-12-19T09:29:32.544Z"
   },
   {
    "duration": 18,
    "start_time": "2023-12-19T09:29:32.569Z"
   },
   {
    "duration": 3832,
    "start_time": "2023-12-19T09:29:32.589Z"
   },
   {
    "duration": 18,
    "start_time": "2023-12-19T09:29:36.423Z"
   },
   {
    "duration": 24,
    "start_time": "2023-12-19T09:29:36.447Z"
   },
   {
    "duration": 31,
    "start_time": "2023-12-19T09:29:36.472Z"
   },
   {
    "duration": 85,
    "start_time": "2023-12-19T09:29:36.505Z"
   },
   {
    "duration": 4,
    "start_time": "2023-12-19T09:29:36.591Z"
   },
   {
    "duration": 154,
    "start_time": "2023-12-19T09:29:36.596Z"
   },
   {
    "duration": 4367,
    "start_time": "2023-12-19T09:30:09.306Z"
   },
   {
    "duration": 105,
    "start_time": "2023-12-19T09:30:13.676Z"
   },
   {
    "duration": 29,
    "start_time": "2023-12-19T09:30:13.783Z"
   },
   {
    "duration": 23,
    "start_time": "2023-12-19T09:30:13.814Z"
   },
   {
    "duration": 54,
    "start_time": "2023-12-19T09:30:13.838Z"
   },
   {
    "duration": 17,
    "start_time": "2023-12-19T09:30:13.893Z"
   },
   {
    "duration": 11,
    "start_time": "2023-12-19T09:30:13.923Z"
   },
   {
    "duration": 506,
    "start_time": "2023-12-19T09:30:13.936Z"
   },
   {
    "duration": 12,
    "start_time": "2023-12-19T09:30:14.443Z"
   },
   {
    "duration": 648,
    "start_time": "2023-12-19T09:30:14.458Z"
   },
   {
    "duration": 27,
    "start_time": "2023-12-19T09:30:15.108Z"
   },
   {
    "duration": 934,
    "start_time": "2023-12-19T09:30:15.137Z"
   },
   {
    "duration": 18,
    "start_time": "2023-12-19T09:30:16.073Z"
   },
   {
    "duration": 155,
    "start_time": "2023-12-19T09:30:16.093Z"
   },
   {
    "duration": 5,
    "start_time": "2023-12-19T09:30:16.250Z"
   },
   {
    "duration": 80,
    "start_time": "2023-12-19T09:30:16.257Z"
   },
   {
    "duration": 7,
    "start_time": "2023-12-19T09:30:16.339Z"
   },
   {
    "duration": 28,
    "start_time": "2023-12-19T09:30:16.348Z"
   },
   {
    "duration": 71,
    "start_time": "2023-12-19T09:30:16.378Z"
   },
   {
    "duration": 17,
    "start_time": "2023-12-19T09:30:16.451Z"
   },
   {
    "duration": 24,
    "start_time": "2023-12-19T09:30:16.470Z"
   },
   {
    "duration": 36,
    "start_time": "2023-12-19T09:30:16.495Z"
   },
   {
    "duration": 3820,
    "start_time": "2023-12-19T09:30:16.533Z"
   },
   {
    "duration": 13,
    "start_time": "2023-12-19T09:30:20.355Z"
   },
   {
    "duration": 28,
    "start_time": "2023-12-19T09:30:20.369Z"
   },
   {
    "duration": 19,
    "start_time": "2023-12-19T09:30:20.399Z"
   },
   {
    "duration": 52,
    "start_time": "2023-12-19T09:30:20.419Z"
   },
   {
    "duration": 4,
    "start_time": "2023-12-19T09:30:20.474Z"
   },
   {
    "duration": 133,
    "start_time": "2023-12-19T09:30:20.479Z"
   },
   {
    "duration": 4307,
    "start_time": "2023-12-19T09:31:01.867Z"
   },
   {
    "duration": 99,
    "start_time": "2023-12-19T09:31:06.177Z"
   },
   {
    "duration": 29,
    "start_time": "2023-12-19T09:31:06.278Z"
   },
   {
    "duration": 21,
    "start_time": "2023-12-19T09:31:06.308Z"
   },
   {
    "duration": 46,
    "start_time": "2023-12-19T09:31:06.331Z"
   },
   {
    "duration": 16,
    "start_time": "2023-12-19T09:31:06.379Z"
   },
   {
    "duration": 35,
    "start_time": "2023-12-19T09:31:06.397Z"
   },
   {
    "duration": 542,
    "start_time": "2023-12-19T09:31:06.434Z"
   },
   {
    "duration": 12,
    "start_time": "2023-12-19T09:31:06.978Z"
   },
   {
    "duration": 619,
    "start_time": "2023-12-19T09:31:06.992Z"
   },
   {
    "duration": 31,
    "start_time": "2023-12-19T09:31:07.613Z"
   },
   {
    "duration": 983,
    "start_time": "2023-12-19T09:31:07.647Z"
   },
   {
    "duration": 27,
    "start_time": "2023-12-19T09:31:08.632Z"
   },
   {
    "duration": 153,
    "start_time": "2023-12-19T09:31:08.662Z"
   },
   {
    "duration": 10,
    "start_time": "2023-12-19T09:31:08.816Z"
   },
   {
    "duration": 88,
    "start_time": "2023-12-19T09:31:08.828Z"
   },
   {
    "duration": 10,
    "start_time": "2023-12-19T09:31:08.917Z"
   },
   {
    "duration": 47,
    "start_time": "2023-12-19T09:31:08.929Z"
   },
   {
    "duration": 97,
    "start_time": "2023-12-19T09:31:08.978Z"
   },
   {
    "duration": 19,
    "start_time": "2023-12-19T09:31:09.076Z"
   },
   {
    "duration": 41,
    "start_time": "2023-12-19T09:31:09.097Z"
   },
   {
    "duration": 30,
    "start_time": "2023-12-19T09:31:09.140Z"
   },
   {
    "duration": 4001,
    "start_time": "2023-12-19T09:31:09.172Z"
   },
   {
    "duration": 15,
    "start_time": "2023-12-19T09:31:13.175Z"
   },
   {
    "duration": 43,
    "start_time": "2023-12-19T09:31:13.192Z"
   },
   {
    "duration": 33,
    "start_time": "2023-12-19T09:31:13.237Z"
   },
   {
    "duration": 75,
    "start_time": "2023-12-19T09:31:13.272Z"
   },
   {
    "duration": 4,
    "start_time": "2023-12-19T09:31:13.349Z"
   },
   {
    "duration": 31,
    "start_time": "2023-12-19T09:31:13.355Z"
   },
   {
    "duration": 41,
    "start_time": "2023-12-19T09:31:13.388Z"
   },
   {
    "duration": 4375,
    "start_time": "2023-12-19T09:32:50.757Z"
   },
   {
    "duration": 99,
    "start_time": "2023-12-19T09:32:55.134Z"
   },
   {
    "duration": 33,
    "start_time": "2023-12-19T09:32:55.235Z"
   },
   {
    "duration": 42,
    "start_time": "2023-12-19T09:32:55.270Z"
   },
   {
    "duration": 53,
    "start_time": "2023-12-19T09:32:55.314Z"
   },
   {
    "duration": 16,
    "start_time": "2023-12-19T09:32:55.369Z"
   },
   {
    "duration": 23,
    "start_time": "2023-12-19T09:32:55.387Z"
   },
   {
    "duration": 498,
    "start_time": "2023-12-19T09:32:55.412Z"
   },
   {
    "duration": 16,
    "start_time": "2023-12-19T09:32:55.911Z"
   },
   {
    "duration": 659,
    "start_time": "2023-12-19T09:32:55.931Z"
   },
   {
    "duration": 22,
    "start_time": "2023-12-19T09:32:56.591Z"
   },
   {
    "duration": 991,
    "start_time": "2023-12-19T09:32:56.624Z"
   },
   {
    "duration": 23,
    "start_time": "2023-12-19T09:32:57.617Z"
   },
   {
    "duration": 204,
    "start_time": "2023-12-19T09:32:57.641Z"
   },
   {
    "duration": 6,
    "start_time": "2023-12-19T09:32:57.848Z"
   },
   {
    "duration": 90,
    "start_time": "2023-12-19T09:32:57.856Z"
   },
   {
    "duration": 5,
    "start_time": "2023-12-19T09:32:57.948Z"
   },
   {
    "duration": 29,
    "start_time": "2023-12-19T09:32:57.955Z"
   },
   {
    "duration": 64,
    "start_time": "2023-12-19T09:32:57.986Z"
   },
   {
    "duration": 21,
    "start_time": "2023-12-19T09:32:58.052Z"
   },
   {
    "duration": 32,
    "start_time": "2023-12-19T09:32:58.075Z"
   },
   {
    "duration": 38,
    "start_time": "2023-12-19T09:32:58.108Z"
   },
   {
    "duration": 3837,
    "start_time": "2023-12-19T09:32:58.148Z"
   },
   {
    "duration": 14,
    "start_time": "2023-12-19T09:33:01.987Z"
   },
   {
    "duration": 219,
    "start_time": "2023-12-19T09:33:02.002Z"
   },
   {
    "duration": 51,
    "start_time": "2023-12-19T09:33:02.223Z"
   },
   {
    "duration": 87,
    "start_time": "2023-12-19T09:33:02.275Z"
   },
   {
    "duration": 3,
    "start_time": "2023-12-19T09:33:02.366Z"
   },
   {
    "duration": 38,
    "start_time": "2023-12-19T09:33:02.370Z"
   },
   {
    "duration": 30,
    "start_time": "2023-12-19T09:33:02.410Z"
   },
   {
    "duration": 3948,
    "start_time": "2023-12-19T09:33:02.441Z"
   },
   {
    "duration": 4213,
    "start_time": "2023-12-19T09:40:52.285Z"
   },
   {
    "duration": 101,
    "start_time": "2023-12-19T09:40:56.501Z"
   },
   {
    "duration": 29,
    "start_time": "2023-12-19T09:40:56.603Z"
   },
   {
    "duration": 20,
    "start_time": "2023-12-19T09:40:56.634Z"
   },
   {
    "duration": 51,
    "start_time": "2023-12-19T09:40:56.656Z"
   },
   {
    "duration": 18,
    "start_time": "2023-12-19T09:40:56.723Z"
   },
   {
    "duration": 13,
    "start_time": "2023-12-19T09:40:56.742Z"
   },
   {
    "duration": 503,
    "start_time": "2023-12-19T09:40:56.757Z"
   },
   {
    "duration": 13,
    "start_time": "2023-12-19T09:40:57.261Z"
   },
   {
    "duration": 615,
    "start_time": "2023-12-19T09:40:57.275Z"
   },
   {
    "duration": 31,
    "start_time": "2023-12-19T09:40:57.892Z"
   },
   {
    "duration": 919,
    "start_time": "2023-12-19T09:40:57.925Z"
   },
   {
    "duration": 18,
    "start_time": "2023-12-19T09:40:58.845Z"
   },
   {
    "duration": 156,
    "start_time": "2023-12-19T09:40:58.866Z"
   },
   {
    "duration": 5,
    "start_time": "2023-12-19T09:40:59.024Z"
   },
   {
    "duration": 67,
    "start_time": "2023-12-19T09:40:59.031Z"
   },
   {
    "duration": 26,
    "start_time": "2023-12-19T09:40:59.100Z"
   },
   {
    "duration": 33,
    "start_time": "2023-12-19T09:40:59.128Z"
   },
   {
    "duration": 60,
    "start_time": "2023-12-19T09:40:59.163Z"
   },
   {
    "duration": 19,
    "start_time": "2023-12-19T09:40:59.225Z"
   },
   {
    "duration": 26,
    "start_time": "2023-12-19T09:40:59.246Z"
   },
   {
    "duration": 50,
    "start_time": "2023-12-19T09:40:59.275Z"
   },
   {
    "duration": 3630,
    "start_time": "2023-12-19T09:40:59.327Z"
   },
   {
    "duration": 16,
    "start_time": "2023-12-19T09:41:02.959Z"
   },
   {
    "duration": 64,
    "start_time": "2023-12-19T09:41:02.977Z"
   },
   {
    "duration": 21,
    "start_time": "2023-12-19T09:41:03.042Z"
   },
   {
    "duration": 56,
    "start_time": "2023-12-19T09:41:03.065Z"
   },
   {
    "duration": 24,
    "start_time": "2023-12-19T09:41:03.122Z"
   },
   {
    "duration": 73,
    "start_time": "2023-12-19T09:41:03.148Z"
   },
   {
    "duration": 60,
    "start_time": "2023-12-19T09:41:03.222Z"
   },
   {
    "duration": 3929,
    "start_time": "2023-12-19T09:41:03.284Z"
   },
   {
    "duration": 1125679,
    "start_time": "2023-12-19T09:41:07.214Z"
   },
   {
    "duration": 4183,
    "start_time": "2023-12-19T10:23:48.843Z"
   },
   {
    "duration": 106,
    "start_time": "2023-12-19T10:23:53.029Z"
   },
   {
    "duration": 28,
    "start_time": "2023-12-19T10:23:53.136Z"
   },
   {
    "duration": 31,
    "start_time": "2023-12-19T10:23:53.166Z"
   },
   {
    "duration": 59,
    "start_time": "2023-12-19T10:23:53.199Z"
   },
   {
    "duration": 16,
    "start_time": "2023-12-19T10:23:53.260Z"
   },
   {
    "duration": 18,
    "start_time": "2023-12-19T10:23:53.277Z"
   },
   {
    "duration": 512,
    "start_time": "2023-12-19T10:23:53.297Z"
   },
   {
    "duration": 14,
    "start_time": "2023-12-19T10:23:53.811Z"
   },
   {
    "duration": 577,
    "start_time": "2023-12-19T10:23:53.828Z"
   },
   {
    "duration": 24,
    "start_time": "2023-12-19T10:23:54.407Z"
   },
   {
    "duration": 954,
    "start_time": "2023-12-19T10:23:54.432Z"
   },
   {
    "duration": 18,
    "start_time": "2023-12-19T10:23:55.389Z"
   },
   {
    "duration": 153,
    "start_time": "2023-12-19T10:23:55.408Z"
   },
   {
    "duration": 6,
    "start_time": "2023-12-19T10:23:55.563Z"
   },
   {
    "duration": 83,
    "start_time": "2023-12-19T10:23:55.571Z"
   },
   {
    "duration": 7,
    "start_time": "2023-12-19T10:23:55.656Z"
   },
   {
    "duration": 20,
    "start_time": "2023-12-19T10:23:55.665Z"
   },
   {
    "duration": 81,
    "start_time": "2023-12-19T10:23:55.687Z"
   },
   {
    "duration": 17,
    "start_time": "2023-12-19T10:23:55.770Z"
   },
   {
    "duration": 45,
    "start_time": "2023-12-19T10:23:55.789Z"
   },
   {
    "duration": 18,
    "start_time": "2023-12-19T10:23:55.836Z"
   },
   {
    "duration": 3710,
    "start_time": "2023-12-19T10:23:55.855Z"
   },
   {
    "duration": 14,
    "start_time": "2023-12-19T10:23:59.567Z"
   },
   {
    "duration": 16,
    "start_time": "2023-12-19T10:23:59.583Z"
   },
   {
    "duration": 18,
    "start_time": "2023-12-19T10:23:59.600Z"
   },
   {
    "duration": 34,
    "start_time": "2023-12-19T10:23:59.621Z"
   },
   {
    "duration": 9,
    "start_time": "2023-12-19T10:23:59.658Z"
   },
   {
    "duration": 22,
    "start_time": "2023-12-19T10:23:59.669Z"
   },
   {
    "duration": 17,
    "start_time": "2023-12-19T10:23:59.693Z"
   },
   {
    "duration": 1901,
    "start_time": "2023-12-19T10:23:59.712Z"
   },
   {
    "duration": 4200,
    "start_time": "2023-12-19T10:29:24.632Z"
   },
   {
    "duration": 101,
    "start_time": "2023-12-19T10:29:28.835Z"
   },
   {
    "duration": 30,
    "start_time": "2023-12-19T10:29:28.938Z"
   },
   {
    "duration": 55,
    "start_time": "2023-12-19T10:29:28.969Z"
   },
   {
    "duration": 67,
    "start_time": "2023-12-19T10:29:29.027Z"
   },
   {
    "duration": 28,
    "start_time": "2023-12-19T10:29:29.096Z"
   },
   {
    "duration": 8,
    "start_time": "2023-12-19T10:29:29.126Z"
   },
   {
    "duration": 524,
    "start_time": "2023-12-19T10:29:29.136Z"
   },
   {
    "duration": 11,
    "start_time": "2023-12-19T10:29:29.662Z"
   },
   {
    "duration": 588,
    "start_time": "2023-12-19T10:29:29.675Z"
   },
   {
    "duration": 16,
    "start_time": "2023-12-19T10:29:30.265Z"
   },
   {
    "duration": 968,
    "start_time": "2023-12-19T10:29:30.283Z"
   },
   {
    "duration": 20,
    "start_time": "2023-12-19T10:29:31.253Z"
   },
   {
    "duration": 183,
    "start_time": "2023-12-19T10:29:31.277Z"
   },
   {
    "duration": 6,
    "start_time": "2023-12-19T10:29:31.462Z"
   },
   {
    "duration": 103,
    "start_time": "2023-12-19T10:29:31.469Z"
   },
   {
    "duration": 5,
    "start_time": "2023-12-19T10:29:31.574Z"
   },
   {
    "duration": 397,
    "start_time": "2023-12-19T10:29:31.581Z"
   },
   {
    "duration": 178,
    "start_time": "2023-12-19T10:29:31.980Z"
   },
   {
    "duration": 52,
    "start_time": "2023-12-19T10:29:32.160Z"
   },
   {
    "duration": 75,
    "start_time": "2023-12-19T10:29:32.214Z"
   },
   {
    "duration": 44,
    "start_time": "2023-12-19T10:29:32.291Z"
   },
   {
    "duration": 3724,
    "start_time": "2023-12-19T10:29:32.337Z"
   },
   {
    "duration": 14,
    "start_time": "2023-12-19T10:29:36.063Z"
   },
   {
    "duration": 22,
    "start_time": "2023-12-19T10:29:36.079Z"
   },
   {
    "duration": 12,
    "start_time": "2023-12-19T10:29:36.102Z"
   },
   {
    "duration": 36,
    "start_time": "2023-12-19T10:29:36.116Z"
   },
   {
    "duration": 13,
    "start_time": "2023-12-19T10:29:36.153Z"
   },
   {
    "duration": 16,
    "start_time": "2023-12-19T10:29:36.167Z"
   },
   {
    "duration": 13,
    "start_time": "2023-12-19T10:29:36.185Z"
   },
   {
    "duration": 1871,
    "start_time": "2023-12-19T10:29:36.199Z"
   },
   {
    "duration": 899232,
    "start_time": "2023-12-19T10:29:38.072Z"
   },
   {
    "duration": 9,
    "start_time": "2023-12-19T10:44:37.307Z"
   },
   {
    "duration": 15,
    "start_time": "2023-12-19T11:01:36.741Z"
   },
   {
    "duration": 4111,
    "start_time": "2023-12-19T11:05:20.099Z"
   },
   {
    "duration": 97,
    "start_time": "2023-12-19T11:05:24.213Z"
   },
   {
    "duration": 28,
    "start_time": "2023-12-19T11:05:24.311Z"
   },
   {
    "duration": 31,
    "start_time": "2023-12-19T11:05:24.340Z"
   },
   {
    "duration": 70,
    "start_time": "2023-12-19T11:05:24.373Z"
   },
   {
    "duration": 15,
    "start_time": "2023-12-19T11:05:24.444Z"
   },
   {
    "duration": 26,
    "start_time": "2023-12-19T11:05:24.460Z"
   },
   {
    "duration": 513,
    "start_time": "2023-12-19T11:05:24.488Z"
   },
   {
    "duration": 20,
    "start_time": "2023-12-19T11:05:25.002Z"
   },
   {
    "duration": 546,
    "start_time": "2023-12-19T11:05:25.024Z"
   },
   {
    "duration": 17,
    "start_time": "2023-12-19T11:05:25.571Z"
   },
   {
    "duration": 932,
    "start_time": "2023-12-19T11:05:25.590Z"
   },
   {
    "duration": 17,
    "start_time": "2023-12-19T11:05:26.524Z"
   },
   {
    "duration": 152,
    "start_time": "2023-12-19T11:05:26.543Z"
   },
   {
    "duration": 5,
    "start_time": "2023-12-19T11:05:26.697Z"
   },
   {
    "duration": 80,
    "start_time": "2023-12-19T11:05:26.704Z"
   },
   {
    "duration": 5,
    "start_time": "2023-12-19T11:05:26.785Z"
   },
   {
    "duration": 27,
    "start_time": "2023-12-19T11:05:26.792Z"
   },
   {
    "duration": 56,
    "start_time": "2023-12-19T11:05:26.821Z"
   },
   {
    "duration": 18,
    "start_time": "2023-12-19T11:05:26.878Z"
   },
   {
    "duration": 44,
    "start_time": "2023-12-19T11:05:26.898Z"
   },
   {
    "duration": 20,
    "start_time": "2023-12-19T11:05:26.944Z"
   },
   {
    "duration": 3623,
    "start_time": "2023-12-19T11:05:26.966Z"
   },
   {
    "duration": 15,
    "start_time": "2023-12-19T11:05:30.592Z"
   },
   {
    "duration": 271,
    "start_time": "2023-12-19T11:05:30.609Z"
   },
   {
    "duration": 604,
    "start_time": "2023-12-19T11:05:30.882Z"
   },
   {
    "duration": 391,
    "start_time": "2023-12-19T11:05:31.489Z"
   },
   {
    "duration": 70,
    "start_time": "2023-12-19T11:05:31.881Z"
   },
   {
    "duration": 94,
    "start_time": "2023-12-19T11:05:31.952Z"
   },
   {
    "duration": 13,
    "start_time": "2023-12-19T11:05:32.047Z"
   },
   {
    "duration": 11950,
    "start_time": "2023-12-19T11:05:32.062Z"
   },
   {
    "duration": 4843,
    "start_time": "2023-12-19T11:09:27.159Z"
   },
   {
    "duration": 100,
    "start_time": "2023-12-19T11:09:32.004Z"
   },
   {
    "duration": 28,
    "start_time": "2023-12-19T11:09:32.106Z"
   },
   {
    "duration": 24,
    "start_time": "2023-12-19T11:09:32.135Z"
   },
   {
    "duration": 56,
    "start_time": "2023-12-19T11:09:32.162Z"
   },
   {
    "duration": 17,
    "start_time": "2023-12-19T11:09:32.219Z"
   },
   {
    "duration": 43,
    "start_time": "2023-12-19T11:09:32.237Z"
   },
   {
    "duration": 526,
    "start_time": "2023-12-19T11:09:32.282Z"
   },
   {
    "duration": 17,
    "start_time": "2023-12-19T11:09:32.810Z"
   },
   {
    "duration": 684,
    "start_time": "2023-12-19T11:09:32.828Z"
   },
   {
    "duration": 20,
    "start_time": "2023-12-19T11:09:33.514Z"
   },
   {
    "duration": 909,
    "start_time": "2023-12-19T11:09:33.537Z"
   },
   {
    "duration": 20,
    "start_time": "2023-12-19T11:09:34.448Z"
   },
   {
    "duration": 297,
    "start_time": "2023-12-19T11:09:34.472Z"
   },
   {
    "duration": 7,
    "start_time": "2023-12-19T11:09:34.771Z"
   },
   {
    "duration": 110,
    "start_time": "2023-12-19T11:09:34.779Z"
   },
   {
    "duration": 5,
    "start_time": "2023-12-19T11:09:34.891Z"
   },
   {
    "duration": 37,
    "start_time": "2023-12-19T11:09:34.898Z"
   },
   {
    "duration": 89,
    "start_time": "2023-12-19T11:09:34.937Z"
   },
   {
    "duration": 18,
    "start_time": "2023-12-19T11:09:35.028Z"
   },
   {
    "duration": 121,
    "start_time": "2023-12-19T11:09:35.048Z"
   },
   {
    "duration": 81,
    "start_time": "2023-12-19T11:09:35.171Z"
   },
   {
    "duration": 3660,
    "start_time": "2023-12-19T11:09:35.253Z"
   },
   {
    "duration": 15,
    "start_time": "2023-12-19T11:09:38.915Z"
   },
   {
    "duration": 28,
    "start_time": "2023-12-19T11:09:38.931Z"
   },
   {
    "duration": 5,
    "start_time": "2023-12-19T11:09:38.961Z"
   },
   {
    "duration": 63,
    "start_time": "2023-12-19T11:09:38.968Z"
   },
   {
    "duration": 3,
    "start_time": "2023-12-19T11:09:39.033Z"
   },
   {
    "duration": 17,
    "start_time": "2023-12-19T11:09:39.038Z"
   },
   {
    "duration": 210,
    "start_time": "2023-12-19T11:09:39.057Z"
   },
   {
    "duration": 21522,
    "start_time": "2023-12-19T11:09:39.269Z"
   },
   {
    "duration": 3771,
    "start_time": "2023-12-19T12:49:05.103Z"
   },
   {
    "duration": 96,
    "start_time": "2023-12-19T12:49:08.877Z"
   },
   {
    "duration": 26,
    "start_time": "2023-12-19T12:49:08.975Z"
   },
   {
    "duration": 40,
    "start_time": "2023-12-19T12:49:09.003Z"
   },
   {
    "duration": 41,
    "start_time": "2023-12-19T12:49:09.046Z"
   },
   {
    "duration": 15,
    "start_time": "2023-12-19T12:49:09.089Z"
   },
   {
    "duration": 22,
    "start_time": "2023-12-19T12:49:09.106Z"
   },
   {
    "duration": 485,
    "start_time": "2023-12-19T12:49:09.130Z"
   },
   {
    "duration": 11,
    "start_time": "2023-12-19T12:49:09.622Z"
   },
   {
    "duration": 533,
    "start_time": "2023-12-19T12:49:09.634Z"
   },
   {
    "duration": 17,
    "start_time": "2023-12-19T12:49:10.169Z"
   },
   {
    "duration": 858,
    "start_time": "2023-12-19T12:49:10.188Z"
   },
   {
    "duration": 17,
    "start_time": "2023-12-19T12:49:11.047Z"
   },
   {
    "duration": 150,
    "start_time": "2023-12-19T12:49:11.066Z"
   },
   {
    "duration": 6,
    "start_time": "2023-12-19T12:49:11.221Z"
   },
   {
    "duration": 77,
    "start_time": "2023-12-19T12:49:11.228Z"
   },
   {
    "duration": 4,
    "start_time": "2023-12-19T12:49:11.307Z"
   },
   {
    "duration": 14,
    "start_time": "2023-12-19T12:49:11.313Z"
   },
   {
    "duration": 74,
    "start_time": "2023-12-19T12:49:11.328Z"
   },
   {
    "duration": 16,
    "start_time": "2023-12-19T12:49:11.403Z"
   },
   {
    "duration": 21,
    "start_time": "2023-12-19T12:49:11.421Z"
   },
   {
    "duration": 28,
    "start_time": "2023-12-19T12:49:11.444Z"
   },
   {
    "duration": 3344,
    "start_time": "2023-12-19T12:49:11.473Z"
   },
   {
    "duration": 12,
    "start_time": "2023-12-19T12:49:14.819Z"
   },
   {
    "duration": 26,
    "start_time": "2023-12-19T12:49:14.833Z"
   },
   {
    "duration": 24,
    "start_time": "2023-12-19T12:49:14.861Z"
   },
   {
    "duration": 41,
    "start_time": "2023-12-19T12:49:14.887Z"
   },
   {
    "duration": 3,
    "start_time": "2023-12-19T12:49:14.929Z"
   },
   {
    "duration": 14,
    "start_time": "2023-12-19T12:49:14.934Z"
   },
   {
    "duration": 7,
    "start_time": "2023-12-19T12:49:14.950Z"
   },
   {
    "duration": 11117,
    "start_time": "2023-12-19T12:49:14.958Z"
   },
   {
    "duration": 5839237,
    "start_time": "2023-12-19T12:49:26.076Z"
   },
   {
    "duration": 123,
    "start_time": "2023-12-19T14:26:45.315Z"
   },
   {
    "duration": 2641,
    "start_time": "2023-12-19T14:52:53.985Z"
   },
   {
    "duration": 16,
    "start_time": "2023-12-19T14:53:00.960Z"
   },
   {
    "duration": 2551,
    "start_time": "2023-12-19T14:58:27.526Z"
   },
   {
    "duration": 16,
    "start_time": "2023-12-19T14:59:16.373Z"
   },
   {
    "duration": 300,
    "start_time": "2023-12-19T15:00:37.374Z"
   },
   {
    "duration": 312,
    "start_time": "2023-12-19T15:02:38.918Z"
   },
   {
    "duration": 307,
    "start_time": "2023-12-19T15:03:59.684Z"
   },
   {
    "duration": 322,
    "start_time": "2023-12-19T15:05:28.788Z"
   },
   {
    "duration": 311,
    "start_time": "2023-12-19T15:05:59.389Z"
   },
   {
    "duration": 21,
    "start_time": "2023-12-19T15:11:02.341Z"
   },
   {
    "duration": 301,
    "start_time": "2023-12-19T15:11:05.095Z"
   },
   {
    "duration": 16,
    "start_time": "2023-12-19T15:13:11.128Z"
   },
   {
    "duration": 4,
    "start_time": "2023-12-19T15:14:45.528Z"
   },
   {
    "duration": 14,
    "start_time": "2023-12-19T15:20:08.071Z"
   },
   {
    "duration": 3337,
    "start_time": "2023-12-19T15:20:41.214Z"
   },
   {
    "duration": 2725,
    "start_time": "2023-12-19T15:20:54.254Z"
   },
   {
    "duration": 13,
    "start_time": "2023-12-19T15:23:18.589Z"
   },
   {
    "duration": 15,
    "start_time": "2023-12-19T15:26:28.923Z"
   },
   {
    "duration": 4,
    "start_time": "2023-12-19T15:26:49.181Z"
   },
   {
    "duration": 13,
    "start_time": "2023-12-19T15:29:37.658Z"
   },
   {
    "duration": 442,
    "start_time": "2023-12-19T15:32:21.225Z"
   },
   {
    "duration": 20,
    "start_time": "2023-12-19T15:34:18.926Z"
   },
   {
    "duration": 16,
    "start_time": "2023-12-19T15:34:25.783Z"
   },
   {
    "duration": 361,
    "start_time": "2023-12-19T15:34:33.423Z"
   },
   {
    "duration": 143,
    "start_time": "2023-12-19T15:35:40.479Z"
   },
   {
    "duration": 352,
    "start_time": "2023-12-19T15:36:35.239Z"
   },
   {
    "duration": 3,
    "start_time": "2023-12-19T15:38:02.063Z"
   },
   {
    "duration": 117,
    "start_time": "2023-12-19T15:38:08.718Z"
   },
   {
    "duration": 16,
    "start_time": "2023-12-19T15:38:17.629Z"
   },
   {
    "duration": 7,
    "start_time": "2023-12-19T15:38:56.436Z"
   },
   {
    "duration": 12,
    "start_time": "2023-12-19T15:40:38.477Z"
   },
   {
    "duration": 10,
    "start_time": "2023-12-19T15:42:56.171Z"
   },
   {
    "duration": 11,
    "start_time": "2023-12-19T15:43:30.012Z"
   },
   {
    "duration": 11,
    "start_time": "2023-12-19T15:43:33.682Z"
   },
   {
    "duration": 11,
    "start_time": "2023-12-19T15:44:55.585Z"
   },
   {
    "duration": 9,
    "start_time": "2023-12-19T15:45:12.413Z"
   },
   {
    "duration": 10,
    "start_time": "2023-12-19T15:45:31.522Z"
   },
   {
    "duration": 7662,
    "start_time": "2023-12-19T15:47:46.474Z"
   },
   {
    "duration": 1591,
    "start_time": "2023-12-19T15:48:17.829Z"
   },
   {
    "duration": 3429,
    "start_time": "2023-12-19T15:49:10.705Z"
   },
   {
    "duration": 74,
    "start_time": "2023-12-19T15:51:58.023Z"
   },
   {
    "duration": 4,
    "start_time": "2023-12-19T15:52:28.302Z"
   },
   {
    "duration": 5,
    "start_time": "2023-12-19T15:54:19.693Z"
   },
   {
    "duration": 5,
    "start_time": "2023-12-19T15:54:29.183Z"
   },
   {
    "duration": 13,
    "start_time": "2023-12-19T15:57:41.783Z"
   },
   {
    "duration": 15,
    "start_time": "2023-12-19T15:58:15.509Z"
   },
   {
    "duration": 14,
    "start_time": "2023-12-19T15:58:33.163Z"
   },
   {
    "duration": 7,
    "start_time": "2023-12-19T15:58:42.300Z"
   },
   {
    "duration": 13,
    "start_time": "2023-12-19T15:58:59.868Z"
   },
   {
    "duration": 11,
    "start_time": "2023-12-19T16:01:33.195Z"
   },
   {
    "duration": 17,
    "start_time": "2023-12-19T16:02:56.963Z"
   },
   {
    "duration": 12,
    "start_time": "2023-12-19T16:05:55.585Z"
   },
   {
    "duration": 3549,
    "start_time": "2023-12-19T16:06:28.593Z"
   },
   {
    "duration": 19,
    "start_time": "2023-12-19T16:06:32.357Z"
   },
   {
    "duration": 1963,
    "start_time": "2023-12-19T16:08:33.072Z"
   },
   {
    "duration": 1851,
    "start_time": "2023-12-19T16:09:42.438Z"
   },
   {
    "duration": 3041,
    "start_time": "2023-12-19T16:10:01.069Z"
   },
   {
    "duration": 12,
    "start_time": "2023-12-19T16:12:00.502Z"
   },
   {
    "duration": 12,
    "start_time": "2023-12-19T16:12:33.045Z"
   },
   {
    "duration": 100,
    "start_time": "2023-12-19T16:14:03.583Z"
   },
   {
    "duration": 34,
    "start_time": "2023-12-19T16:14:22.844Z"
   },
   {
    "duration": 1740,
    "start_time": "2023-12-19T16:16:17.708Z"
   },
   {
    "duration": 4,
    "start_time": "2023-12-19T16:17:05.461Z"
   },
   {
    "duration": 4,
    "start_time": "2023-12-19T16:18:02.242Z"
   },
   {
    "duration": 16,
    "start_time": "2023-12-19T16:19:54.330Z"
   },
   {
    "duration": 3,
    "start_time": "2023-12-19T16:22:20.185Z"
   },
   {
    "duration": 3,
    "start_time": "2023-12-19T16:22:40.394Z"
   },
   {
    "duration": 15,
    "start_time": "2023-12-19T16:24:07.081Z"
   },
   {
    "duration": 14,
    "start_time": "2023-12-19T16:25:24.897Z"
   },
   {
    "duration": 6,
    "start_time": "2023-12-19T16:26:18.113Z"
   },
   {
    "duration": 13,
    "start_time": "2023-12-19T16:26:48.448Z"
   },
   {
    "duration": 13,
    "start_time": "2023-12-19T16:27:01.296Z"
   },
   {
    "duration": 16,
    "start_time": "2023-12-19T16:27:45.392Z"
   },
   {
    "duration": 1828,
    "start_time": "2023-12-19T16:32:58.252Z"
   },
   {
    "duration": 1808,
    "start_time": "2023-12-19T16:33:50.961Z"
   },
   {
    "duration": 13,
    "start_time": "2023-12-19T16:35:12.075Z"
   },
   {
    "duration": 14,
    "start_time": "2023-12-19T16:35:49.309Z"
   },
   {
    "duration": 13,
    "start_time": "2023-12-19T16:35:54.131Z"
   },
   {
    "duration": 13,
    "start_time": "2023-12-19T16:37:16.557Z"
   },
   {
    "duration": 12,
    "start_time": "2023-12-19T16:38:30.866Z"
   },
   {
    "duration": 14,
    "start_time": "2023-12-19T16:38:56.093Z"
   },
   {
    "duration": 16,
    "start_time": "2023-12-19T16:39:27.674Z"
   },
   {
    "duration": 12,
    "start_time": "2023-12-19T16:39:55.090Z"
   },
   {
    "duration": 13,
    "start_time": "2023-12-19T16:40:34.459Z"
   },
   {
    "duration": 8,
    "start_time": "2023-12-19T16:40:56.995Z"
   },
   {
    "duration": 6,
    "start_time": "2023-12-19T16:42:05.767Z"
   },
   {
    "duration": 7,
    "start_time": "2023-12-19T16:43:04.479Z"
   },
   {
    "duration": 376,
    "start_time": "2023-12-19T16:43:18.081Z"
   },
   {
    "duration": 308,
    "start_time": "2023-12-19T16:44:59.255Z"
   },
   {
    "duration": 222,
    "start_time": "2023-12-19T16:45:05.120Z"
   },
   {
    "duration": 21,
    "start_time": "2023-12-19T16:47:08.974Z"
   },
   {
    "duration": 18,
    "start_time": "2023-12-19T16:47:42.471Z"
   },
   {
    "duration": 10,
    "start_time": "2023-12-19T16:50:23.519Z"
   },
   {
    "duration": 10,
    "start_time": "2023-12-19T16:50:29.829Z"
   },
   {
    "duration": 13,
    "start_time": "2023-12-19T16:50:57.673Z"
   },
   {
    "duration": 18,
    "start_time": "2023-12-19T16:52:42.728Z"
   },
   {
    "duration": 14,
    "start_time": "2023-12-19T16:55:31.461Z"
   },
   {
    "duration": 4,
    "start_time": "2023-12-19T16:56:07.915Z"
   },
   {
    "duration": 12,
    "start_time": "2023-12-19T16:56:31.203Z"
   },
   {
    "duration": 12,
    "start_time": "2023-12-19T16:57:13.076Z"
   },
   {
    "duration": 11,
    "start_time": "2023-12-19T16:58:15.586Z"
   },
   {
    "duration": 18,
    "start_time": "2023-12-19T16:58:39.922Z"
   },
   {
    "duration": 34,
    "start_time": "2023-12-19T17:00:06.643Z"
   },
   {
    "duration": 11,
    "start_time": "2023-12-19T17:01:18.137Z"
   },
   {
    "duration": 11,
    "start_time": "2023-12-19T17:01:24.604Z"
   },
   {
    "duration": 13,
    "start_time": "2023-12-19T17:03:01.375Z"
   },
   {
    "duration": 18,
    "start_time": "2023-12-19T17:03:49.344Z"
   },
   {
    "duration": 6,
    "start_time": "2023-12-19T17:04:26.066Z"
   },
   {
    "duration": 3,
    "start_time": "2023-12-19T17:05:25.407Z"
   },
   {
    "duration": 18,
    "start_time": "2023-12-19T17:08:20.222Z"
   },
   {
    "duration": 9,
    "start_time": "2023-12-19T17:08:48.253Z"
   },
   {
    "duration": 3,
    "start_time": "2023-12-19T17:09:03.852Z"
   },
   {
    "duration": 12,
    "start_time": "2023-12-19T17:11:44.975Z"
   },
   {
    "duration": 11,
    "start_time": "2023-12-19T17:12:17.502Z"
   },
   {
    "duration": 14,
    "start_time": "2023-12-19T17:12:41.219Z"
   },
   {
    "duration": 6,
    "start_time": "2023-12-19T17:16:01.453Z"
   },
   {
    "duration": 7,
    "start_time": "2023-12-19T17:16:13.003Z"
   },
   {
    "duration": 16,
    "start_time": "2023-12-19T17:18:39.936Z"
   },
   {
    "duration": 19,
    "start_time": "2023-12-19T17:20:41.977Z"
   },
   {
    "duration": 11,
    "start_time": "2023-12-19T17:21:12.399Z"
   },
   {
    "duration": 10,
    "start_time": "2023-12-19T17:21:56.191Z"
   },
   {
    "duration": 16,
    "start_time": "2023-12-19T17:22:19.848Z"
   },
   {
    "duration": 15,
    "start_time": "2023-12-19T17:24:53.038Z"
   },
   {
    "duration": 11,
    "start_time": "2023-12-19T17:25:59.246Z"
   },
   {
    "duration": 398,
    "start_time": "2023-12-19T17:27:43.734Z"
   },
   {
    "duration": 16,
    "start_time": "2023-12-19T17:29:10.527Z"
   },
   {
    "duration": 350,
    "start_time": "2023-12-19T17:29:30.724Z"
   },
   {
    "duration": 350,
    "start_time": "2023-12-19T17:30:02.676Z"
   },
   {
    "duration": 304,
    "start_time": "2023-12-19T17:30:52.323Z"
   },
   {
    "duration": 319,
    "start_time": "2023-12-19T17:30:59.261Z"
   },
   {
    "duration": 314,
    "start_time": "2023-12-19T17:31:51.475Z"
   },
   {
    "duration": 282,
    "start_time": "2023-12-19T17:32:06.098Z"
   },
   {
    "duration": 294,
    "start_time": "2023-12-19T17:32:12.538Z"
   },
   {
    "duration": 318,
    "start_time": "2023-12-19T17:33:15.458Z"
   },
   {
    "duration": 310,
    "start_time": "2023-12-19T17:34:05.441Z"
   },
   {
    "duration": 299,
    "start_time": "2023-12-19T17:34:47.025Z"
   },
   {
    "duration": 592,
    "start_time": "2023-12-19T17:36:23.395Z"
   },
   {
    "duration": 410,
    "start_time": "2023-12-19T17:36:31.682Z"
   },
   {
    "duration": 308,
    "start_time": "2023-12-19T17:38:01.368Z"
   },
   {
    "duration": 4166,
    "start_time": "2023-12-19T18:24:11.696Z"
   },
   {
    "duration": 96,
    "start_time": "2023-12-19T18:24:15.864Z"
   },
   {
    "duration": 37,
    "start_time": "2023-12-19T18:24:15.961Z"
   },
   {
    "duration": 27,
    "start_time": "2023-12-19T18:24:16.000Z"
   },
   {
    "duration": 44,
    "start_time": "2023-12-19T18:24:16.029Z"
   },
   {
    "duration": 15,
    "start_time": "2023-12-19T18:24:16.075Z"
   },
   {
    "duration": 22,
    "start_time": "2023-12-19T18:24:16.091Z"
   },
   {
    "duration": 496,
    "start_time": "2023-12-19T18:24:16.121Z"
   },
   {
    "duration": 13,
    "start_time": "2023-12-19T18:24:16.618Z"
   },
   {
    "duration": 569,
    "start_time": "2023-12-19T18:24:16.632Z"
   },
   {
    "duration": 26,
    "start_time": "2023-12-19T18:24:17.203Z"
   },
   {
    "duration": 924,
    "start_time": "2023-12-19T18:24:17.231Z"
   },
   {
    "duration": 20,
    "start_time": "2023-12-19T18:24:18.157Z"
   },
   {
    "duration": 151,
    "start_time": "2023-12-19T18:24:18.180Z"
   },
   {
    "duration": 5,
    "start_time": "2023-12-19T18:24:18.333Z"
   },
   {
    "duration": 62,
    "start_time": "2023-12-19T18:24:18.340Z"
   },
   {
    "duration": 5,
    "start_time": "2023-12-19T18:24:18.422Z"
   },
   {
    "duration": 10,
    "start_time": "2023-12-19T18:24:18.429Z"
   },
   {
    "duration": 54,
    "start_time": "2023-12-19T18:24:18.441Z"
   },
   {
    "duration": 39,
    "start_time": "2023-12-19T18:24:18.497Z"
   },
   {
    "duration": 23,
    "start_time": "2023-12-19T18:24:18.538Z"
   },
   {
    "duration": 19,
    "start_time": "2023-12-19T18:24:18.563Z"
   },
   {
    "duration": 4378,
    "start_time": "2023-12-19T18:24:18.583Z"
   },
   {
    "duration": 14,
    "start_time": "2023-12-19T18:24:22.963Z"
   },
   {
    "duration": 10,
    "start_time": "2023-12-19T18:24:22.978Z"
   },
   {
    "duration": 4,
    "start_time": "2023-12-19T18:24:22.990Z"
   },
   {
    "duration": 27,
    "start_time": "2023-12-19T18:24:22.996Z"
   },
   {
    "duration": 3,
    "start_time": "2023-12-19T18:24:23.025Z"
   },
   {
    "duration": 9,
    "start_time": "2023-12-19T18:24:23.029Z"
   },
   {
    "duration": 4,
    "start_time": "2023-12-19T18:24:23.040Z"
   },
   {
    "duration": 12011,
    "start_time": "2023-12-19T18:24:23.046Z"
   },
   {
    "duration": 5511215,
    "start_time": "2023-12-19T18:24:35.058Z"
   },
   {
    "duration": 20,
    "start_time": "2023-12-19T19:56:26.275Z"
   },
   {
    "duration": 122,
    "start_time": "2023-12-19T19:56:26.297Z"
   },
   {
    "duration": 0,
    "start_time": "2023-12-19T19:56:26.421Z"
   },
   {
    "duration": 13,
    "start_time": "2023-12-19T20:10:31.526Z"
   },
   {
    "duration": 164,
    "start_time": "2023-12-19T20:14:59.096Z"
   },
   {
    "duration": 295,
    "start_time": "2023-12-19T20:15:40.291Z"
   },
   {
    "duration": 258,
    "start_time": "2023-12-19T20:15:48.138Z"
   },
   {
    "duration": 15,
    "start_time": "2023-12-19T20:16:28.305Z"
   },
   {
    "duration": 14,
    "start_time": "2023-12-19T20:17:18.466Z"
   },
   {
    "duration": 12,
    "start_time": "2023-12-19T20:18:48.537Z"
   },
   {
    "duration": 12,
    "start_time": "2023-12-19T20:19:21.610Z"
   },
   {
    "duration": 12,
    "start_time": "2023-12-19T20:19:29.817Z"
   },
   {
    "duration": 70,
    "start_time": "2023-12-19T20:23:42.534Z"
   },
   {
    "duration": 80,
    "start_time": "2023-12-19T20:24:41.624Z"
   },
   {
    "duration": 14,
    "start_time": "2023-12-19T20:25:15.401Z"
   },
   {
    "duration": 12,
    "start_time": "2023-12-19T20:25:49.822Z"
   },
   {
    "duration": 14,
    "start_time": "2023-12-19T20:26:39.526Z"
   },
   {
    "duration": 11,
    "start_time": "2023-12-19T20:30:10.108Z"
   },
   {
    "duration": 20,
    "start_time": "2023-12-19T20:30:29.443Z"
   },
   {
    "duration": 294,
    "start_time": "2023-12-19T20:30:42.609Z"
   },
   {
    "duration": 288,
    "start_time": "2023-12-19T20:30:50.499Z"
   },
   {
    "duration": 278,
    "start_time": "2023-12-19T20:30:53.523Z"
   },
   {
    "duration": 77,
    "start_time": "2023-12-19T20:31:27.684Z"
   },
   {
    "duration": 303,
    "start_time": "2023-12-19T20:32:02.148Z"
   },
   {
    "duration": 250,
    "start_time": "2023-12-19T20:32:28.259Z"
   },
   {
    "duration": 456,
    "start_time": "2023-12-19T20:32:30.937Z"
   },
   {
    "duration": 5734,
    "start_time": "2023-12-20T20:19:08.751Z"
   },
   {
    "duration": 314,
    "start_time": "2023-12-20T20:19:19.852Z"
   },
   {
    "duration": 26,
    "start_time": "2023-12-20T20:19:21.910Z"
   },
   {
    "duration": 18,
    "start_time": "2023-12-20T20:19:26.799Z"
   },
   {
    "duration": 47,
    "start_time": "2023-12-20T20:19:32.438Z"
   },
   {
    "duration": 13,
    "start_time": "2023-12-20T20:19:37.191Z"
   }
  ],
  "kernelspec": {
   "display_name": "Python 3 (ipykernel)",
   "language": "python",
   "name": "python3"
  },
  "language_info": {
   "codemirror_mode": {
    "name": "ipython",
    "version": 3
   },
   "file_extension": ".py",
   "mimetype": "text/x-python",
   "name": "python",
   "nbconvert_exporter": "python",
   "pygments_lexer": "ipython3",
   "version": "3.9.5"
  },
  "toc": {
   "base_numbering": 1,
   "nav_menu": {},
   "number_sections": true,
   "sideBar": true,
   "skip_h1_title": true,
   "title_cell": "Содержание",
   "title_sidebar": "Содержание",
   "toc_cell": true,
   "toc_position": {
    "height": "calc(100% - 180px)",
    "left": "10px",
    "top": "150px",
    "width": "333.047px"
   },
   "toc_section_display": true,
   "toc_window_display": true
  }
 },
 "nbformat": 4,
 "nbformat_minor": 5
}
