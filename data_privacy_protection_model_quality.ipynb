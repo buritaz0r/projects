{
 "cells": [
  {
   "cell_type": "markdown",
   "id": "523e5dee",
   "metadata": {},
   "source": [
    "## Загрузка данных"
   ]
  },
  {
   "cell_type": "code",
   "execution_count": 1,
   "id": "017ee3bc",
   "metadata": {},
   "outputs": [],
   "source": [
    "#Импортируем библиотеки\n",
    "import pandas as pd\n",
    "import numpy as np\n",
    "import math\n",
    "\n",
    "from sklearn.linear_model import LinearRegression\n",
    "from sklearn.metrics import r2_score"
   ]
  },
  {
   "cell_type": "code",
   "execution_count": 2,
   "id": "9a100ea3",
   "metadata": {},
   "outputs": [],
   "source": [
    "#Загружаем датасет\n",
    "data = pd.read_csv('/datasets/insurance.csv')"
   ]
  },
  {
   "cell_type": "code",
   "execution_count": 3,
   "id": "945dbfa1",
   "metadata": {},
   "outputs": [
    {
     "name": "stdout",
     "output_type": "stream",
     "text": [
      "----------------------------------------------------------------------------------------------------\n"
     ]
    },
    {
     "data": {
      "text/html": [
       "<div>\n",
       "<style scoped>\n",
       "    .dataframe tbody tr th:only-of-type {\n",
       "        vertical-align: middle;\n",
       "    }\n",
       "\n",
       "    .dataframe tbody tr th {\n",
       "        vertical-align: top;\n",
       "    }\n",
       "\n",
       "    .dataframe thead th {\n",
       "        text-align: right;\n",
       "    }\n",
       "</style>\n",
       "<table border=\"1\" class=\"dataframe\">\n",
       "  <thead>\n",
       "    <tr style=\"text-align: right;\">\n",
       "      <th></th>\n",
       "      <th>Пол</th>\n",
       "      <th>Возраст</th>\n",
       "      <th>Зарплата</th>\n",
       "      <th>Члены семьи</th>\n",
       "      <th>Страховые выплаты</th>\n",
       "    </tr>\n",
       "  </thead>\n",
       "  <tbody>\n",
       "    <tr>\n",
       "      <th>0</th>\n",
       "      <td>1</td>\n",
       "      <td>41.0</td>\n",
       "      <td>49600.0</td>\n",
       "      <td>1</td>\n",
       "      <td>0</td>\n",
       "    </tr>\n",
       "    <tr>\n",
       "      <th>1</th>\n",
       "      <td>0</td>\n",
       "      <td>46.0</td>\n",
       "      <td>38000.0</td>\n",
       "      <td>1</td>\n",
       "      <td>1</td>\n",
       "    </tr>\n",
       "    <tr>\n",
       "      <th>2</th>\n",
       "      <td>0</td>\n",
       "      <td>29.0</td>\n",
       "      <td>21000.0</td>\n",
       "      <td>0</td>\n",
       "      <td>0</td>\n",
       "    </tr>\n",
       "    <tr>\n",
       "      <th>3</th>\n",
       "      <td>0</td>\n",
       "      <td>21.0</td>\n",
       "      <td>41700.0</td>\n",
       "      <td>2</td>\n",
       "      <td>0</td>\n",
       "    </tr>\n",
       "    <tr>\n",
       "      <th>4</th>\n",
       "      <td>1</td>\n",
       "      <td>28.0</td>\n",
       "      <td>26100.0</td>\n",
       "      <td>0</td>\n",
       "      <td>0</td>\n",
       "    </tr>\n",
       "    <tr>\n",
       "      <th>5</th>\n",
       "      <td>1</td>\n",
       "      <td>43.0</td>\n",
       "      <td>41000.0</td>\n",
       "      <td>2</td>\n",
       "      <td>1</td>\n",
       "    </tr>\n",
       "    <tr>\n",
       "      <th>6</th>\n",
       "      <td>1</td>\n",
       "      <td>39.0</td>\n",
       "      <td>39700.0</td>\n",
       "      <td>2</td>\n",
       "      <td>0</td>\n",
       "    </tr>\n",
       "    <tr>\n",
       "      <th>7</th>\n",
       "      <td>1</td>\n",
       "      <td>25.0</td>\n",
       "      <td>38600.0</td>\n",
       "      <td>4</td>\n",
       "      <td>0</td>\n",
       "    </tr>\n",
       "    <tr>\n",
       "      <th>8</th>\n",
       "      <td>1</td>\n",
       "      <td>36.0</td>\n",
       "      <td>49700.0</td>\n",
       "      <td>1</td>\n",
       "      <td>0</td>\n",
       "    </tr>\n",
       "    <tr>\n",
       "      <th>9</th>\n",
       "      <td>1</td>\n",
       "      <td>32.0</td>\n",
       "      <td>51700.0</td>\n",
       "      <td>1</td>\n",
       "      <td>0</td>\n",
       "    </tr>\n",
       "  </tbody>\n",
       "</table>\n",
       "</div>"
      ],
      "text/plain": [
       "   Пол  Возраст  Зарплата  Члены семьи  Страховые выплаты\n",
       "0    1     41.0   49600.0            1                  0\n",
       "1    0     46.0   38000.0            1                  1\n",
       "2    0     29.0   21000.0            0                  0\n",
       "3    0     21.0   41700.0            2                  0\n",
       "4    1     28.0   26100.0            0                  0\n",
       "5    1     43.0   41000.0            2                  1\n",
       "6    1     39.0   39700.0            2                  0\n",
       "7    1     25.0   38600.0            4                  0\n",
       "8    1     36.0   49700.0            1                  0\n",
       "9    1     32.0   51700.0            1                  0"
      ]
     },
     "metadata": {},
     "output_type": "display_data"
    },
    {
     "name": "stdout",
     "output_type": "stream",
     "text": [
      "----------------------------------------------------------------------------------------------------\n",
      "<class 'pandas.core.frame.DataFrame'>\n",
      "RangeIndex: 5000 entries, 0 to 4999\n",
      "Data columns (total 5 columns):\n",
      " #   Column             Non-Null Count  Dtype  \n",
      "---  ------             --------------  -----  \n",
      " 0   Пол                5000 non-null   int64  \n",
      " 1   Возраст            5000 non-null   float64\n",
      " 2   Зарплата           5000 non-null   float64\n",
      " 3   Члены семьи        5000 non-null   int64  \n",
      " 4   Страховые выплаты  5000 non-null   int64  \n",
      "dtypes: float64(2), int64(3)\n",
      "memory usage: 195.4 KB\n",
      "----------------------------------------------------------------------------------------------------\n"
     ]
    },
    {
     "data": {
      "text/html": [
       "<div>\n",
       "<style scoped>\n",
       "    .dataframe tbody tr th:only-of-type {\n",
       "        vertical-align: middle;\n",
       "    }\n",
       "\n",
       "    .dataframe tbody tr th {\n",
       "        vertical-align: top;\n",
       "    }\n",
       "\n",
       "    .dataframe thead th {\n",
       "        text-align: right;\n",
       "    }\n",
       "</style>\n",
       "<table border=\"1\" class=\"dataframe\">\n",
       "  <thead>\n",
       "    <tr style=\"text-align: right;\">\n",
       "      <th></th>\n",
       "      <th>Пол</th>\n",
       "      <th>Возраст</th>\n",
       "      <th>Зарплата</th>\n",
       "      <th>Члены семьи</th>\n",
       "      <th>Страховые выплаты</th>\n",
       "    </tr>\n",
       "  </thead>\n",
       "  <tbody>\n",
       "    <tr>\n",
       "      <th>count</th>\n",
       "      <td>5000.000000</td>\n",
       "      <td>5000.000000</td>\n",
       "      <td>5000.000000</td>\n",
       "      <td>5000.000000</td>\n",
       "      <td>5000.000000</td>\n",
       "    </tr>\n",
       "    <tr>\n",
       "      <th>mean</th>\n",
       "      <td>0.499000</td>\n",
       "      <td>30.952800</td>\n",
       "      <td>39916.360000</td>\n",
       "      <td>1.194200</td>\n",
       "      <td>0.148000</td>\n",
       "    </tr>\n",
       "    <tr>\n",
       "      <th>std</th>\n",
       "      <td>0.500049</td>\n",
       "      <td>8.440807</td>\n",
       "      <td>9900.083569</td>\n",
       "      <td>1.091387</td>\n",
       "      <td>0.463183</td>\n",
       "    </tr>\n",
       "    <tr>\n",
       "      <th>min</th>\n",
       "      <td>0.000000</td>\n",
       "      <td>18.000000</td>\n",
       "      <td>5300.000000</td>\n",
       "      <td>0.000000</td>\n",
       "      <td>0.000000</td>\n",
       "    </tr>\n",
       "    <tr>\n",
       "      <th>25%</th>\n",
       "      <td>0.000000</td>\n",
       "      <td>24.000000</td>\n",
       "      <td>33300.000000</td>\n",
       "      <td>0.000000</td>\n",
       "      <td>0.000000</td>\n",
       "    </tr>\n",
       "    <tr>\n",
       "      <th>50%</th>\n",
       "      <td>0.000000</td>\n",
       "      <td>30.000000</td>\n",
       "      <td>40200.000000</td>\n",
       "      <td>1.000000</td>\n",
       "      <td>0.000000</td>\n",
       "    </tr>\n",
       "    <tr>\n",
       "      <th>75%</th>\n",
       "      <td>1.000000</td>\n",
       "      <td>37.000000</td>\n",
       "      <td>46600.000000</td>\n",
       "      <td>2.000000</td>\n",
       "      <td>0.000000</td>\n",
       "    </tr>\n",
       "    <tr>\n",
       "      <th>max</th>\n",
       "      <td>1.000000</td>\n",
       "      <td>65.000000</td>\n",
       "      <td>79000.000000</td>\n",
       "      <td>6.000000</td>\n",
       "      <td>5.000000</td>\n",
       "    </tr>\n",
       "  </tbody>\n",
       "</table>\n",
       "</div>"
      ],
      "text/plain": [
       "               Пол      Возраст      Зарплата  Члены семьи  Страховые выплаты\n",
       "count  5000.000000  5000.000000   5000.000000  5000.000000        5000.000000\n",
       "mean      0.499000    30.952800  39916.360000     1.194200           0.148000\n",
       "std       0.500049     8.440807   9900.083569     1.091387           0.463183\n",
       "min       0.000000    18.000000   5300.000000     0.000000           0.000000\n",
       "25%       0.000000    24.000000  33300.000000     0.000000           0.000000\n",
       "50%       0.000000    30.000000  40200.000000     1.000000           0.000000\n",
       "75%       1.000000    37.000000  46600.000000     2.000000           0.000000\n",
       "max       1.000000    65.000000  79000.000000     6.000000           5.000000"
      ]
     },
     "execution_count": 3,
     "metadata": {},
     "output_type": "execute_result"
    }
   ],
   "source": [
    "#Смотрим данные\n",
    "print('-' * 100)\n",
    "display(data.head(10))\n",
    "print('-' * 100)\n",
    "data.info()\n",
    "print('-' * 100)\n",
    "data.describe()"
   ]
  },
  {
   "cell_type": "markdown",
   "id": "fa9a4c35",
   "metadata": {},
   "source": [
    "**Описание:**\n",
    "\n",
    "В данных имеются 5 признаков: Пол, возраст, зарплата застрахованного, количество членов семьи.  \n",
    "Целевой признак: количество страховых выплат клиенту за последние 5 лет.  "
   ]
  },
  {
   "cell_type": "code",
   "execution_count": 4,
   "id": "06a56144",
   "metadata": {},
   "outputs": [
    {
     "name": "stdout",
     "output_type": "stream",
     "text": [
      "Количество дубликатов: 153\n",
      "Количество пропусков: 0\n"
     ]
    }
   ],
   "source": [
    "print(f'Количество дубликатов:', data.duplicated().sum())\n",
    "print(f'Количество пропусков:', data.isna().sum().sum())"
   ]
  },
  {
   "cell_type": "code",
   "execution_count": 5,
   "id": "65ece193",
   "metadata": {},
   "outputs": [
    {
     "name": "stdout",
     "output_type": "stream",
     "text": [
      "Общее количество уникальных комбинаций: 2024736\n",
      "Вероятность отсутствия дубликатов среди 5000 записей: 0.0020756182\n"
     ]
    }
   ],
   "source": [
    "# Подсчет уникальных значений для каждого признака\n",
    "unique_counts = {\n",
    "    'Пол': data['Пол'].nunique(),\n",
    "    'Возраст': data['Возраст'].nunique(),\n",
    "    'Зарплата': data['Зарплата'].nunique(),\n",
    "    'Члены семьи': data['Члены семьи'].nunique(),\n",
    "    'Страховые выплаты': data['Страховые выплаты'].nunique()\n",
    "}\n",
    "\n",
    "# Общее количество уникальных комбинаций\n",
    "N = 1\n",
    "for count in unique_counts.values():\n",
    "    N *= count\n",
    "\n",
    "# Количество записей\n",
    "num_records = len(data)\n",
    "\n",
    "# Вероятность отсутствия дубликатов\n",
    "if N >= num_records:\n",
    "    probability_no_duplicates = (math.factorial(N) / (math.factorial(N - num_records) * (N ** num_records)))\n",
    "else:\n",
    "    probability_no_duplicates = 0\n",
    "\n",
    "print(f'Общее количество уникальных комбинаций: {N}')\n",
    "print(f'Вероятность отсутствия дубликатов среди {num_records} записей: {probability_no_duplicates:.10f}')"
   ]
  },
  {
   "cell_type": "markdown",
   "id": "c971a249",
   "metadata": {},
   "source": [
    "**Выводы:**\n",
    "\n",
    "С учетом полученных результатов, вероятность отсутствия дубликатов в наборе данных очень низка, что может говорить о том, что наличие дубликатов является обычным явлением и это признаки разных клиентов.\n",
    "\n",
    "Пропуски в данных отсутствуют."
   ]
  },
  {
   "cell_type": "markdown",
   "id": "bb4b1ea1",
   "metadata": {},
   "source": [
    "## Изменение качества линейной регрессии"
   ]
  },
  {
   "cell_type": "markdown",
   "id": "b4e1cd72",
   "metadata": {},
   "source": [
    "Обозначения:\n",
    "\n",
    "- $X$ — матрица признаков (нулевой столбец состоит из единиц)\n",
    "\n",
    "- $y$ — вектор целевого признака\n",
    "\n",
    "- $P$ — матрица, на которую умножаются признаки\n",
    "\n",
    "- $w$ — вектор весов линейной регрессии (нулевой элемент равен сдвигу)"
   ]
  },
  {
   "cell_type": "markdown",
   "id": "82dca1fa",
   "metadata": {},
   "source": [
    "Предсказания:\n",
    "\n",
    "$$\n",
    "a = Xw\n",
    "$$\n",
    "\n",
    "Задача обучения:\n",
    "\n",
    "$$\n",
    "w = \\arg\\min_w MSE(Xw, y)\n",
    "$$\n",
    "\n",
    "Формула обучения:\n",
    "\n",
    "$$\n",
    "w = (X^T X)^{-1} X^T y\n",
    "$$"
   ]
  },
  {
   "cell_type": "markdown",
   "id": "6f8382f6",
   "metadata": {},
   "source": [
    "**Ответьте на вопрос и обоснуйте решение.**\n",
    "\n",
    "Признаки умножают на обратимую матрицу. Изменится ли качество линейной регрессии? (Её можно обучить заново.)  \n",
    "\n",
    "a. Изменится. Приведите примеры матриц.  \n",
    "b. Не изменится. Укажите, как связаны параметры линейной регрессии в исходной задаче и в преобразованной.  "
   ]
  },
  {
   "cell_type": "markdown",
   "id": "f7554229",
   "metadata": {},
   "source": [
    "**Ответ:** Качество линейной регрессии не изменится, если признаки умножаются на обратимую матрицу.\n",
    "\n",
    "**Обоснование:** Это обосновывается следующим образом:\n",
    "\n",
    "Исходно у нас есть линейная регрессия, моделирующая зависимость между признаками \\(X\\) и целевым признаком \\(y\\):\n",
    "\n",
    "$y = Xw$\n",
    "\n",
    "Где:\n",
    "- $y$- вектор целевых значений,\n",
    "- $X$ - матрица признаков,\n",
    "- $w$ - вектор весов (параметров) модели.\n",
    "\n",
    "Теперь мы умножим признаки $X$ на обратимую матрицу $A$ и получим новую матрицу признаков $X'$:\n",
    "\n",
    "$X' = XA$\n",
    "\n",
    "Затем обучим новую линейную регрессию на $X'$ и получим новый вектор весов $w'$:\n",
    "\n",
    "$y = X'w'$\n",
    "\n",
    "Из уравнения $y = Xw$ и $X' = XA$, мы можем выразить $w'$ как:\n",
    "\n",
    "$w' = A^{-1}w$\n",
    "\n",
    "Это означает, что новые веса модели $w'$ связаны с исходными весами $w$ умножением на обратную матрицу $A^{-1}$. Важно отметить, что $A^{-1}$ - это обратимая матрица, поэтому никакая информация не теряется в процессе преобразования.\n",
    "\n",
    "Таким образом, хотя признаки были изменены (умножены на матрицу $A$), модель линейной регрессии на новых признаках будет иметь ту же функциональную форму и качество, что и исходная модель. Качество линейной регрессии не изменится."
   ]
  },
  {
   "cell_type": "markdown",
   "id": "16760d29",
   "metadata": {},
   "source": [
    "**Алгоритм преобразования данных для защиты информации клиентов в задаче линейной регрессии:**\n",
    "\n",
    "1. **Генерация обратимой матрицы $A$**:\n",
    "   - Для обеспечения безопасности данных, генерируется случайная обратимая матрица $A$ размером $n x n$, где $n$ - количество признаков.\n",
    "\n",
    "2. **Преобразование данных**:\n",
    "   - Признаки данных умножаются на матрицу $A$, получая новую матрицу признаков $X'$.\n",
    "\n",
    "3. **Обучение линейной регрессии**:\n",
    "   - Модель линейной регрессии обучается на новой матрице признаков $X'$, с использованием библиотеки scikit-learn.\n",
    "\n",
    "4. **Оценка качества модели**:\n",
    "   - Эффективность преобразования оценивается путем измерения качества модели на тестовых данных с использованием метрик, таких как $R^2$ score или других метрик регрессии, чтобы убедиться, что качество модели остается на приемлемом уровне."
   ]
  },
  {
   "cell_type": "markdown",
   "id": "3a8b5b86",
   "metadata": {},
   "source": [
    "**Обоснование:**\n",
    "\n",
    "Линейная регрессия является линейной моделью, и она линейно зависит от признаков. Умножение признаков на обратимую матрицу \n",
    "$A$ также представляет собой линейное преобразование. Поэтому линейная регрессия будет работать с преобразованными данными так же, как и с исходными данными, так как линейная модель сохраняет линейные зависимости.\n",
    "\n",
    "Преобразование данных путем умножения на обратимую матрицу не разрушает информацию о линейных зависимостях между признаками, и эта информация может быть восстановлена после обратного преобразования данных.\n",
    "\n",
    "Матрица $A$ обратима, что гарантирует возможность восстановления исходных данных из преобразованных данных при необходимости. Это важно для целостности исходной информации."
   ]
  },
  {
   "cell_type": "markdown",
   "id": "86f2a10d",
   "metadata": {},
   "source": [
    "## Проверка алгоритма"
   ]
  },
  {
   "cell_type": "code",
   "execution_count": 6,
   "id": "9b6e2d3e",
   "metadata": {},
   "outputs": [],
   "source": [
    "# Выделим признаки и целевой признак\n",
    "features = data.drop(['Страховые выплаты'], axis=1)\n",
    "target = data['Страховые выплаты']"
   ]
  },
  {
   "cell_type": "code",
   "execution_count": 14,
   "id": "58c39641",
   "metadata": {},
   "outputs": [
    {
     "name": "stdout",
     "output_type": "stream",
     "text": [
      "R2 score до преобразования данных: 0.4249455028666801\n",
      "R2 score после преобразования данных: 0.42494550286670385\n"
     ]
    }
   ],
   "source": [
    "# Шаг 1: Создание обратимой матрицы A\n",
    "n_features = features.shape[1]\n",
    "A = np.random.rand(n_features, n_features)\n",
    "\n",
    "# Проверка на обратимость и генерация новой матрицы\n",
    "while np.linalg.det(A) == 0:\n",
    "    A = np.random.rand(n_features, n_features)\n",
    "\n",
    "# Шаг 2: Преобразование признаков\n",
    "features_transformed = np.dot(features, A)\n",
    "\n",
    "# Шаг 3: Обучение модели линейной регрессии на исходных признаках\n",
    "model_original = LinearRegression()\n",
    "model_original.fit(features, target)\n",
    "predictions_original = model_original.predict(features)\n",
    "r2_before = r2_score(target, predictions_original)\n",
    "\n",
    "# Обучение модели линейной регрессии на преобразованных признаках\n",
    "model_transformed = LinearRegression()\n",
    "model_transformed.fit(features_transformed, target)\n",
    "predictions_transformed = model_transformed.predict(features_transformed)\n",
    "r2_after = r2_score(target, predictions_transformed)\n",
    "\n",
    "# Шаг 4: Вывод результатов\n",
    "print(f\"R2 score до преобразования данных: {r2_before}\")\n",
    "print(f\"R2 score после преобразования данных: {r2_after}\")"
   ]
  },
  {
   "cell_type": "markdown",
   "id": "324eed64",
   "metadata": {},
   "source": [
    "**Вывод:**\n",
    "\n",
    "R2 score до и после преобразования данных практически одинаковы, что подтверждает, что качество линейной регрессии не изменилось после преобразования данных. Это подтверждает корректность примененного алгоритма для защиты данных клиентов в задаче линейной регрессии."
   ]
  }
 ],
 "metadata": {
  "ExecuteTimeLog": [
   {
    "duration": 47,
    "start_time": "2024-09-30T09:40:42.513Z"
   },
   {
    "duration": 439,
    "start_time": "2024-09-30T09:40:48.886Z"
   },
   {
    "duration": 76,
    "start_time": "2024-09-30T09:40:49.327Z"
   },
   {
    "duration": 17,
    "start_time": "2024-09-30T09:40:49.405Z"
   },
   {
    "duration": 10,
    "start_time": "2024-09-30T10:03:58.071Z"
   },
   {
    "duration": 5,
    "start_time": "2024-09-30T10:04:06.443Z"
   },
   {
    "duration": 7,
    "start_time": "2024-09-30T10:05:56.485Z"
   },
   {
    "duration": 8,
    "start_time": "2024-09-30T10:06:16.517Z"
   },
   {
    "duration": 6,
    "start_time": "2024-09-30T10:06:23.176Z"
   },
   {
    "duration": 8,
    "start_time": "2024-09-30T10:06:46.912Z"
   },
   {
    "duration": 7,
    "start_time": "2024-09-30T10:06:55.442Z"
   },
   {
    "duration": 5,
    "start_time": "2024-09-30T10:07:05.913Z"
   },
   {
    "duration": 5,
    "start_time": "2024-09-30T10:07:09.017Z"
   },
   {
    "duration": 104,
    "start_time": "2024-09-30T10:07:15.494Z"
   },
   {
    "duration": 6,
    "start_time": "2024-09-30T10:07:18.022Z"
   },
   {
    "duration": 9,
    "start_time": "2024-09-30T10:07:47.440Z"
   },
   {
    "duration": 6,
    "start_time": "2024-09-30T10:07:51.722Z"
   },
   {
    "duration": 75,
    "start_time": "2024-09-30T10:11:32.307Z"
   },
   {
    "duration": 14,
    "start_time": "2024-09-30T10:11:40.490Z"
   },
   {
    "duration": 37,
    "start_time": "2024-09-30T10:11:56.028Z"
   },
   {
    "duration": 18,
    "start_time": "2024-09-30T10:12:10.043Z"
   },
   {
    "duration": 18,
    "start_time": "2024-09-30T10:15:49.397Z"
   },
   {
    "duration": 3,
    "start_time": "2024-09-30T10:16:00.656Z"
   },
   {
    "duration": 51903,
    "start_time": "2024-09-30T10:16:04.052Z"
   },
   {
    "duration": 17,
    "start_time": "2024-09-30T10:19:08.763Z"
   },
   {
    "duration": 16,
    "start_time": "2024-09-30T10:19:13.083Z"
   },
   {
    "duration": 35,
    "start_time": "2024-09-30T10:19:24.533Z"
   },
   {
    "duration": 39,
    "start_time": "2024-09-30T10:19:36.941Z"
   },
   {
    "duration": 39,
    "start_time": "2024-09-30T10:19:44.051Z"
   },
   {
    "duration": 33,
    "start_time": "2024-09-30T10:19:49.938Z"
   },
   {
    "duration": 40,
    "start_time": "2024-09-30T10:19:59.402Z"
   },
   {
    "duration": 54,
    "start_time": "2024-09-30T10:29:01.621Z"
   },
   {
    "duration": 6,
    "start_time": "2024-09-30T10:33:38.062Z"
   },
   {
    "duration": 15,
    "start_time": "2024-09-30T10:33:45.447Z"
   },
   {
    "duration": 753,
    "start_time": "2024-09-30T10:34:08.197Z"
   },
   {
    "duration": 1134,
    "start_time": "2024-09-30T10:34:12.532Z"
   },
   {
    "duration": 30,
    "start_time": "2024-09-30T10:34:13.668Z"
   },
   {
    "duration": 46,
    "start_time": "2024-09-30T10:34:13.700Z"
   },
   {
    "duration": 9,
    "start_time": "2024-09-30T10:34:13.749Z"
   },
   {
    "duration": 50531,
    "start_time": "2024-09-30T10:34:13.759Z"
   },
   {
    "duration": 5,
    "start_time": "2024-09-30T10:35:04.292Z"
   },
   {
    "duration": 27,
    "start_time": "2024-09-30T10:35:04.298Z"
   },
   {
    "duration": 11,
    "start_time": "2024-09-30T10:44:48.033Z"
   },
   {
    "duration": 106,
    "start_time": "2024-09-30T10:45:09.953Z"
   },
   {
    "duration": 12,
    "start_time": "2024-09-30T10:45:37.847Z"
   },
   {
    "duration": 18,
    "start_time": "2024-09-30T10:48:47.000Z"
   },
   {
    "duration": 17,
    "start_time": "2024-09-30T10:49:01.302Z"
   },
   {
    "duration": 15,
    "start_time": "2024-09-30T10:49:09.099Z"
   },
   {
    "duration": 14,
    "start_time": "2024-09-30T10:49:50.626Z"
   }
  ],
  "kernelspec": {
   "display_name": "Python 3 (ipykernel)",
   "language": "python",
   "name": "python3"
  },
  "language_info": {
   "codemirror_mode": {
    "name": "ipython",
    "version": 3
   },
   "file_extension": ".py",
   "mimetype": "text/x-python",
   "name": "python",
   "nbconvert_exporter": "python",
   "pygments_lexer": "ipython3",
   "version": "3.9.5"
  },
  "toc": {
   "base_numbering": 1,
   "nav_menu": {},
   "number_sections": true,
   "sideBar": true,
   "skip_h1_title": true,
   "title_cell": "Table of Contents",
   "title_sidebar": "Contents",
   "toc_cell": false,
   "toc_position": {},
   "toc_section_display": true,
   "toc_window_display": false
  }
 },
 "nbformat": 4,
 "nbformat_minor": 5
}
