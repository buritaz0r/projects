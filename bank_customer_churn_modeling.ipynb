{
 "cells": [
  {
   "cell_type": "code",
   "execution_count": 1,
   "id": "f4910775",
   "metadata": {
    "scrolled": false
   },
   "outputs": [],
   "source": [
    "%%capture\n",
    "!pip install skimpy\n",
    "!pip install scikit-learn==1.1.3\n",
    "!pip install imblearn"
   ]
  },
  {
   "cell_type": "code",
   "execution_count": 31,
   "id": "0f1fe8fd",
   "metadata": {},
   "outputs": [],
   "source": [
    "import pandas as pd\n",
    "import matplotlib.pyplot as plt\n",
    "\n",
    "from skimpy import clean_columns\n",
    "\n",
    "from sklearn.preprocessing import StandardScaler\n",
    "from sklearn.model_selection import train_test_split\n",
    "from sklearn.dummy import DummyClassifier\n",
    "from sklearn.model_selection import GridSearchCV, train_test_split, cross_val_score\n",
    "from sklearn.metrics import accuracy_score, precision_score, recall_score, f1_score, roc_auc_score, roc_curve, auc\n",
    "from sklearn.linear_model import LogisticRegression\n",
    "from sklearn.tree import DecisionTreeClassifier\n",
    "from sklearn.ensemble import RandomForestClassifier, GradientBoostingClassifier\n",
    "\n",
    "from imblearn.under_sampling import RandomUnderSampler\n",
    "from imblearn.over_sampling import SMOTE\n",
    "\n",
    "import numpy as np\n",
    "from collections import Counter\n",
    "\n",
    "RANDOM_STATE = 12345"
   ]
  },
  {
   "cell_type": "markdown",
   "id": "93a638e7",
   "metadata": {},
   "source": [
    "## Обзор данных"
   ]
  },
  {
   "cell_type": "code",
   "execution_count": 3,
   "id": "fa1f16d4",
   "metadata": {},
   "outputs": [
    {
     "name": "stdout",
     "output_type": "stream",
     "text": [
      "Первые несколько строк данных:\n"
     ]
    },
    {
     "data": {
      "text/html": [
       "<div>\n",
       "<style scoped>\n",
       "    .dataframe tbody tr th:only-of-type {\n",
       "        vertical-align: middle;\n",
       "    }\n",
       "\n",
       "    .dataframe tbody tr th {\n",
       "        vertical-align: top;\n",
       "    }\n",
       "\n",
       "    .dataframe thead th {\n",
       "        text-align: right;\n",
       "    }\n",
       "</style>\n",
       "<table border=\"1\" class=\"dataframe\">\n",
       "  <thead>\n",
       "    <tr style=\"text-align: right;\">\n",
       "      <th></th>\n",
       "      <th>RowNumber</th>\n",
       "      <th>CustomerId</th>\n",
       "      <th>Surname</th>\n",
       "      <th>CreditScore</th>\n",
       "      <th>Geography</th>\n",
       "      <th>Gender</th>\n",
       "      <th>Age</th>\n",
       "      <th>Tenure</th>\n",
       "      <th>Balance</th>\n",
       "      <th>NumOfProducts</th>\n",
       "      <th>HasCrCard</th>\n",
       "      <th>IsActiveMember</th>\n",
       "      <th>EstimatedSalary</th>\n",
       "      <th>Exited</th>\n",
       "    </tr>\n",
       "  </thead>\n",
       "  <tbody>\n",
       "    <tr>\n",
       "      <th>0</th>\n",
       "      <td>1</td>\n",
       "      <td>15634602</td>\n",
       "      <td>Hargrave</td>\n",
       "      <td>619</td>\n",
       "      <td>France</td>\n",
       "      <td>Female</td>\n",
       "      <td>42</td>\n",
       "      <td>2.0</td>\n",
       "      <td>0.00</td>\n",
       "      <td>1</td>\n",
       "      <td>1</td>\n",
       "      <td>1</td>\n",
       "      <td>101348.88</td>\n",
       "      <td>1</td>\n",
       "    </tr>\n",
       "    <tr>\n",
       "      <th>1</th>\n",
       "      <td>2</td>\n",
       "      <td>15647311</td>\n",
       "      <td>Hill</td>\n",
       "      <td>608</td>\n",
       "      <td>Spain</td>\n",
       "      <td>Female</td>\n",
       "      <td>41</td>\n",
       "      <td>1.0</td>\n",
       "      <td>83807.86</td>\n",
       "      <td>1</td>\n",
       "      <td>0</td>\n",
       "      <td>1</td>\n",
       "      <td>112542.58</td>\n",
       "      <td>0</td>\n",
       "    </tr>\n",
       "    <tr>\n",
       "      <th>2</th>\n",
       "      <td>3</td>\n",
       "      <td>15619304</td>\n",
       "      <td>Onio</td>\n",
       "      <td>502</td>\n",
       "      <td>France</td>\n",
       "      <td>Female</td>\n",
       "      <td>42</td>\n",
       "      <td>8.0</td>\n",
       "      <td>159660.80</td>\n",
       "      <td>3</td>\n",
       "      <td>1</td>\n",
       "      <td>0</td>\n",
       "      <td>113931.57</td>\n",
       "      <td>1</td>\n",
       "    </tr>\n",
       "    <tr>\n",
       "      <th>3</th>\n",
       "      <td>4</td>\n",
       "      <td>15701354</td>\n",
       "      <td>Boni</td>\n",
       "      <td>699</td>\n",
       "      <td>France</td>\n",
       "      <td>Female</td>\n",
       "      <td>39</td>\n",
       "      <td>1.0</td>\n",
       "      <td>0.00</td>\n",
       "      <td>2</td>\n",
       "      <td>0</td>\n",
       "      <td>0</td>\n",
       "      <td>93826.63</td>\n",
       "      <td>0</td>\n",
       "    </tr>\n",
       "    <tr>\n",
       "      <th>4</th>\n",
       "      <td>5</td>\n",
       "      <td>15737888</td>\n",
       "      <td>Mitchell</td>\n",
       "      <td>850</td>\n",
       "      <td>Spain</td>\n",
       "      <td>Female</td>\n",
       "      <td>43</td>\n",
       "      <td>2.0</td>\n",
       "      <td>125510.82</td>\n",
       "      <td>1</td>\n",
       "      <td>1</td>\n",
       "      <td>1</td>\n",
       "      <td>79084.10</td>\n",
       "      <td>0</td>\n",
       "    </tr>\n",
       "  </tbody>\n",
       "</table>\n",
       "</div>"
      ],
      "text/plain": [
       "   RowNumber  CustomerId   Surname  CreditScore Geography  Gender  Age  \\\n",
       "0          1    15634602  Hargrave          619    France  Female   42   \n",
       "1          2    15647311      Hill          608     Spain  Female   41   \n",
       "2          3    15619304      Onio          502    France  Female   42   \n",
       "3          4    15701354      Boni          699    France  Female   39   \n",
       "4          5    15737888  Mitchell          850     Spain  Female   43   \n",
       "\n",
       "   Tenure    Balance  NumOfProducts  HasCrCard  IsActiveMember  \\\n",
       "0     2.0       0.00              1          1               1   \n",
       "1     1.0   83807.86              1          0               1   \n",
       "2     8.0  159660.80              3          1               0   \n",
       "3     1.0       0.00              2          0               0   \n",
       "4     2.0  125510.82              1          1               1   \n",
       "\n",
       "   EstimatedSalary  Exited  \n",
       "0        101348.88       1  \n",
       "1        112542.58       0  \n",
       "2        113931.57       1  \n",
       "3         93826.63       0  \n",
       "4         79084.10       0  "
      ]
     },
     "metadata": {},
     "output_type": "display_data"
    },
    {
     "name": "stdout",
     "output_type": "stream",
     "text": [
      "\n",
      "Общая информация о данных:\n",
      "<class 'pandas.core.frame.DataFrame'>\n",
      "RangeIndex: 10000 entries, 0 to 9999\n",
      "Data columns (total 14 columns):\n",
      " #   Column           Non-Null Count  Dtype  \n",
      "---  ------           --------------  -----  \n",
      " 0   RowNumber        10000 non-null  int64  \n",
      " 1   CustomerId       10000 non-null  int64  \n",
      " 2   Surname          10000 non-null  object \n",
      " 3   CreditScore      10000 non-null  int64  \n",
      " 4   Geography        10000 non-null  object \n",
      " 5   Gender           10000 non-null  object \n",
      " 6   Age              10000 non-null  int64  \n",
      " 7   Tenure           9091 non-null   float64\n",
      " 8   Balance          10000 non-null  float64\n",
      " 9   NumOfProducts    10000 non-null  int64  \n",
      " 10  HasCrCard        10000 non-null  int64  \n",
      " 11  IsActiveMember   10000 non-null  int64  \n",
      " 12  EstimatedSalary  10000 non-null  float64\n",
      " 13  Exited           10000 non-null  int64  \n",
      "dtypes: float64(3), int64(8), object(3)\n",
      "memory usage: 1.1+ MB\n",
      "\n",
      "Описательная статистика данных:\n"
     ]
    },
    {
     "data": {
      "text/html": [
       "<div>\n",
       "<style scoped>\n",
       "    .dataframe tbody tr th:only-of-type {\n",
       "        vertical-align: middle;\n",
       "    }\n",
       "\n",
       "    .dataframe tbody tr th {\n",
       "        vertical-align: top;\n",
       "    }\n",
       "\n",
       "    .dataframe thead th {\n",
       "        text-align: right;\n",
       "    }\n",
       "</style>\n",
       "<table border=\"1\" class=\"dataframe\">\n",
       "  <thead>\n",
       "    <tr style=\"text-align: right;\">\n",
       "      <th></th>\n",
       "      <th>count</th>\n",
       "      <th>mean</th>\n",
       "      <th>std</th>\n",
       "      <th>min</th>\n",
       "      <th>25%</th>\n",
       "      <th>50%</th>\n",
       "      <th>75%</th>\n",
       "      <th>max</th>\n",
       "    </tr>\n",
       "  </thead>\n",
       "  <tbody>\n",
       "    <tr>\n",
       "      <th>RowNumber</th>\n",
       "      <td>10000.0</td>\n",
       "      <td>5.000500e+03</td>\n",
       "      <td>2886.895680</td>\n",
       "      <td>1.00</td>\n",
       "      <td>2500.75</td>\n",
       "      <td>5.000500e+03</td>\n",
       "      <td>7.500250e+03</td>\n",
       "      <td>10000.00</td>\n",
       "    </tr>\n",
       "    <tr>\n",
       "      <th>CustomerId</th>\n",
       "      <td>10000.0</td>\n",
       "      <td>1.569094e+07</td>\n",
       "      <td>71936.186123</td>\n",
       "      <td>15565701.00</td>\n",
       "      <td>15628528.25</td>\n",
       "      <td>1.569074e+07</td>\n",
       "      <td>1.575323e+07</td>\n",
       "      <td>15815690.00</td>\n",
       "    </tr>\n",
       "    <tr>\n",
       "      <th>CreditScore</th>\n",
       "      <td>10000.0</td>\n",
       "      <td>6.505288e+02</td>\n",
       "      <td>96.653299</td>\n",
       "      <td>350.00</td>\n",
       "      <td>584.00</td>\n",
       "      <td>6.520000e+02</td>\n",
       "      <td>7.180000e+02</td>\n",
       "      <td>850.00</td>\n",
       "    </tr>\n",
       "    <tr>\n",
       "      <th>Age</th>\n",
       "      <td>10000.0</td>\n",
       "      <td>3.892180e+01</td>\n",
       "      <td>10.487806</td>\n",
       "      <td>18.00</td>\n",
       "      <td>32.00</td>\n",
       "      <td>3.700000e+01</td>\n",
       "      <td>4.400000e+01</td>\n",
       "      <td>92.00</td>\n",
       "    </tr>\n",
       "    <tr>\n",
       "      <th>Tenure</th>\n",
       "      <td>9091.0</td>\n",
       "      <td>4.997690e+00</td>\n",
       "      <td>2.894723</td>\n",
       "      <td>0.00</td>\n",
       "      <td>2.00</td>\n",
       "      <td>5.000000e+00</td>\n",
       "      <td>7.000000e+00</td>\n",
       "      <td>10.00</td>\n",
       "    </tr>\n",
       "    <tr>\n",
       "      <th>Balance</th>\n",
       "      <td>10000.0</td>\n",
       "      <td>7.648589e+04</td>\n",
       "      <td>62397.405202</td>\n",
       "      <td>0.00</td>\n",
       "      <td>0.00</td>\n",
       "      <td>9.719854e+04</td>\n",
       "      <td>1.276442e+05</td>\n",
       "      <td>250898.09</td>\n",
       "    </tr>\n",
       "    <tr>\n",
       "      <th>NumOfProducts</th>\n",
       "      <td>10000.0</td>\n",
       "      <td>1.530200e+00</td>\n",
       "      <td>0.581654</td>\n",
       "      <td>1.00</td>\n",
       "      <td>1.00</td>\n",
       "      <td>1.000000e+00</td>\n",
       "      <td>2.000000e+00</td>\n",
       "      <td>4.00</td>\n",
       "    </tr>\n",
       "    <tr>\n",
       "      <th>HasCrCard</th>\n",
       "      <td>10000.0</td>\n",
       "      <td>7.055000e-01</td>\n",
       "      <td>0.455840</td>\n",
       "      <td>0.00</td>\n",
       "      <td>0.00</td>\n",
       "      <td>1.000000e+00</td>\n",
       "      <td>1.000000e+00</td>\n",
       "      <td>1.00</td>\n",
       "    </tr>\n",
       "    <tr>\n",
       "      <th>IsActiveMember</th>\n",
       "      <td>10000.0</td>\n",
       "      <td>5.151000e-01</td>\n",
       "      <td>0.499797</td>\n",
       "      <td>0.00</td>\n",
       "      <td>0.00</td>\n",
       "      <td>1.000000e+00</td>\n",
       "      <td>1.000000e+00</td>\n",
       "      <td>1.00</td>\n",
       "    </tr>\n",
       "    <tr>\n",
       "      <th>EstimatedSalary</th>\n",
       "      <td>10000.0</td>\n",
       "      <td>1.000902e+05</td>\n",
       "      <td>57510.492818</td>\n",
       "      <td>11.58</td>\n",
       "      <td>51002.11</td>\n",
       "      <td>1.001939e+05</td>\n",
       "      <td>1.493882e+05</td>\n",
       "      <td>199992.48</td>\n",
       "    </tr>\n",
       "    <tr>\n",
       "      <th>Exited</th>\n",
       "      <td>10000.0</td>\n",
       "      <td>2.037000e-01</td>\n",
       "      <td>0.402769</td>\n",
       "      <td>0.00</td>\n",
       "      <td>0.00</td>\n",
       "      <td>0.000000e+00</td>\n",
       "      <td>0.000000e+00</td>\n",
       "      <td>1.00</td>\n",
       "    </tr>\n",
       "  </tbody>\n",
       "</table>\n",
       "</div>"
      ],
      "text/plain": [
       "                   count          mean           std          min  \\\n",
       "RowNumber        10000.0  5.000500e+03   2886.895680         1.00   \n",
       "CustomerId       10000.0  1.569094e+07  71936.186123  15565701.00   \n",
       "CreditScore      10000.0  6.505288e+02     96.653299       350.00   \n",
       "Age              10000.0  3.892180e+01     10.487806        18.00   \n",
       "Tenure            9091.0  4.997690e+00      2.894723         0.00   \n",
       "Balance          10000.0  7.648589e+04  62397.405202         0.00   \n",
       "NumOfProducts    10000.0  1.530200e+00      0.581654         1.00   \n",
       "HasCrCard        10000.0  7.055000e-01      0.455840         0.00   \n",
       "IsActiveMember   10000.0  5.151000e-01      0.499797         0.00   \n",
       "EstimatedSalary  10000.0  1.000902e+05  57510.492818        11.58   \n",
       "Exited           10000.0  2.037000e-01      0.402769         0.00   \n",
       "\n",
       "                         25%           50%           75%          max  \n",
       "RowNumber            2500.75  5.000500e+03  7.500250e+03     10000.00  \n",
       "CustomerId       15628528.25  1.569074e+07  1.575323e+07  15815690.00  \n",
       "CreditScore           584.00  6.520000e+02  7.180000e+02       850.00  \n",
       "Age                    32.00  3.700000e+01  4.400000e+01        92.00  \n",
       "Tenure                  2.00  5.000000e+00  7.000000e+00        10.00  \n",
       "Balance                 0.00  9.719854e+04  1.276442e+05    250898.09  \n",
       "NumOfProducts           1.00  1.000000e+00  2.000000e+00         4.00  \n",
       "HasCrCard               0.00  1.000000e+00  1.000000e+00         1.00  \n",
       "IsActiveMember          0.00  1.000000e+00  1.000000e+00         1.00  \n",
       "EstimatedSalary     51002.11  1.001939e+05  1.493882e+05    199992.48  \n",
       "Exited                  0.00  0.000000e+00  0.000000e+00         1.00  "
      ]
     },
     "metadata": {},
     "output_type": "display_data"
    },
    {
     "name": "stdout",
     "output_type": "stream",
     "text": [
      "\n",
      "Количество пропущенных значений в в каждом столбце:\n",
      "RowNumber            0\n",
      "CustomerId           0\n",
      "Surname              0\n",
      "CreditScore          0\n",
      "Geography            0\n",
      "Gender               0\n",
      "Age                  0\n",
      "Tenure             909\n",
      "Balance              0\n",
      "NumOfProducts        0\n",
      "HasCrCard            0\n",
      "IsActiveMember       0\n",
      "EstimatedSalary      0\n",
      "Exited               0\n",
      "dtype: int64\n",
      "\n",
      "Количество дубликатов в данных: 0\n"
     ]
    }
   ],
   "source": [
    "# Открываем файл с данными\n",
    "file_path = '/datasets/Churn.csv'\n",
    "df = pd.read_csv(file_path)\n",
    "\n",
    "# Изучаем первые несколько строк данных\n",
    "print(\"Первые несколько строк данных:\")\n",
    "display(df.head())\n",
    "\n",
    "# Выводим общую информацию о данных\n",
    "print(\"\\nОбщая информация о данных:\")\n",
    "df.info()\n",
    "\n",
    "# Описательная статистика по данным\n",
    "print(\"\\nОписательная статистика данных:\")\n",
    "display(df.describe().T)\n",
    "\n",
    "# Проверка на наличие пропущенных значений\n",
    "missing_values_count = df.isnull().sum()\n",
    "print(\"\\nКоличество пропущенных значений в в каждом столбце:\")\n",
    "print(missing_values_count)\n",
    "\n",
    "# Проверка на наличие дубликатов\n",
    "duplicate_count = df.duplicated().sum()\n",
    "print(\"\\nКоличество дубликатов в данных:\", duplicate_count)"
   ]
  },
  {
   "cell_type": "markdown",
   "id": "96e271c8",
   "metadata": {},
   "source": [
    "**Вывод:**\n",
    "\n",
    "Описание признаков:\n",
    "\n",
    "1. **RowNumber** — индекс строки в данных. Это технический признак и не имеет значения для анализа.\n",
    "2. **CustomerId** — уникальный идентификатор клиента. Уникальный идентификатор, который также не нужен для моделирования.\n",
    "3. **Surname** — фамилия клиента. Этот признак не имеет значения для предсказания и может быть исключен из анализа.\n",
    "4. **CreditScore** — кредитный рейтинг клиента. Важный финансовый показатель, который влияет на вероятность ухода клиента.\n",
    "5. **Geography** — страна проживания клиента. Категориальный признак, который может быть важным для анализа.\n",
    "6. **Gender** — пол клиента. Категориальный признак, который может влиять на поведение клиента.\n",
    "7. **Age** — возраст клиента. Возраст может быть значимым фактором в предсказании ухода клиента.\n",
    "8. **Tenure** — сколько лет человек является клиентом банка. Длительность обслуживания в банке может влиять на вероятность ухода.\n",
    "9. **Balance** — баланс на счёте клиента. Финансовый показатель, который может быть важен для анализа.\n",
    "10. **NumOfProducts** — количество продуктов банка, используемых клиентом. Может влиять на уровень удовлетворенности клиента.\n",
    "11. **HasCrCard** — наличие кредитной карты у клиента. Бинарный признак, который может влиять на уход клиента.\n",
    "12. **IsActiveMember** — активность клиента. Важный признак для определения вероятности ухода.\n",
    "13. **EstimatedSalary** — предполагаемая зарплата клиента. Финансовый показатель, который может быть значимым для анализа.\n",
    "\n",
    "Целевой признак:\n",
    "\n",
    "- **Exited** — факт ухода клиента. Целевой признак, который мы будем предсказывать.\n",
    "\n",
    "Статистические данные:\n",
    "\n",
    "- **Размер набора данных**: 10000 записей.\n",
    "- **Пропуски в данных**: Колонка `Tenure` имеет 909 пропущенных значений.\n",
    "\n",
    "Общая информация:\n",
    "\n",
    "- **CreditScore** варьируется от 350 до 850.\n",
    "- **Возраст** клиентов варьируется от 18 до 92 лет.\n",
    "- **Tenure** варьируется от 0 до 10 лет.\n",
    "- **Balance** варьируется от 0 до 250898.09.\n",
    "- **NumOfProducts** варьируется от 1 до 4.\n",
    "- **EstimatedSalary** варьируется от 11.58 до 199992.48.\n",
    "- **Exited**: 20.37% клиентов ушли.\n",
    "\n",
    "Для дальнейшего анализа мы:\n",
    "\n",
    "1. Исключим из анализа технические признаки (RowNumber, CustomerId, Surname).\n",
    "2. Приведём колонки к змеиному регистру.\n",
    "3. Заполним пропуски в колонке `Tenure` медианным значением"
   ]
  },
  {
   "cell_type": "markdown",
   "id": "aa060e38",
   "metadata": {},
   "source": [
    "### Предобработка данных"
   ]
  },
  {
   "cell_type": "code",
   "execution_count": 4,
   "id": "7f518493",
   "metadata": {},
   "outputs": [],
   "source": [
    "# Удалим неважные для дальнейшего анализа столбцы\n",
    "df = df.drop(columns=['RowNumber', 'CustomerId', 'Surname'])"
   ]
  },
  {
   "cell_type": "code",
   "execution_count": 5,
   "id": "2244ca13",
   "metadata": {},
   "outputs": [
    {
     "data": {
      "text/plain": [
       "Index(['credit_score', 'geography', 'gender', 'age', 'tenure', 'balance',\n",
       "       'num_of_products', 'has_cr_card', 'is_active_member',\n",
       "       'estimated_salary', 'exited'],\n",
       "      dtype='object')"
      ]
     },
     "execution_count": 5,
     "metadata": {},
     "output_type": "execute_result"
    }
   ],
   "source": [
    "# Приведём колонки к змеиному регистру\n",
    "df = clean_columns(df)\n",
    "\n",
    "# Посмотрим на новые названия столбцов\n",
    "df.columns"
   ]
  },
  {
   "cell_type": "code",
   "execution_count": 6,
   "id": "1e1a3cff",
   "metadata": {},
   "outputs": [
    {
     "name": "stdout",
     "output_type": "stream",
     "text": [
      "Процент пропусков в столбце Tenure: 9.09%\n"
     ]
    }
   ],
   "source": [
    "# Процент пропусков в столбце tenure\n",
    "missing_ratio = df['tenure'].isnull().mean() * 100\n",
    "print(f\"Процент пропусков в столбце Tenure: {missing_ratio:.2f}%\")"
   ]
  },
  {
   "cell_type": "markdown",
   "id": "2a35d309",
   "metadata": {},
   "source": [
    "Возможно, пропуски в столбце **tenure** могут быть связаны с ошибкой при сборе данных, поэтому будем следовать принципу, что следующие данные будут такими же по распределению, как текущие, и лучшей тактикой минимизации ошибки будет значение из области наибольшей плотности распределения, не изменяющую структуры распределения признака.\n",
    "\n",
    "Доля пропусков не критично велика, возможно и решение с удалением. Однако данных у нас не много, я остановлюсь на заполнении пропусков медианным значением."
   ]
  },
  {
   "cell_type": "code",
   "execution_count": 7,
   "id": "b0a407e4",
   "metadata": {},
   "outputs": [
    {
     "name": "stdout",
     "output_type": "stream",
     "text": [
      "Количество пропусков после заполнения: 0\n"
     ]
    }
   ],
   "source": [
    "# Заполним пропуски медианным значением\n",
    "df['tenure'] = df['tenure'].fillna(df['tenure'].median())\n",
    "\n",
    "# Проверка\n",
    "print(\"Количество пропусков после заполнения:\", df['tenure'].isnull().sum())"
   ]
  },
  {
   "cell_type": "code",
   "execution_count": 8,
   "id": "666511fb",
   "metadata": {},
   "outputs": [],
   "source": [
    "df = pd.get_dummies(df, columns=['geography', 'gender'], drop_first=True)"
   ]
  },
  {
   "cell_type": "markdown",
   "id": "dd08d93c",
   "metadata": {},
   "source": [
    "**Вывод:**\n",
    "\n",
    "Удалены столбцы 'RowNumber', 'CustomerId' и 'Surname' с помощью метода drop(), так как они не представляют ценности для задачи классификации и не несут информации о поведении клиентов.\n",
    "\n",
    "Имена столбцов были приведены к нижнему регистру и добавлены пробелы между словами, чтобы сделать названия более читаемыми. Это было сделано с помощью функции clean_columns из библиотеки skimpy.\n",
    "\n",
    "Далее было проанализировано наличие пропущенных значений в столбце 'Tenure', который показал 9.09% пропусков. Пропуски были заполнены медианным значением."
   ]
  },
  {
   "cell_type": "markdown",
   "id": "6a603ae0",
   "metadata": {},
   "source": [
    "## Исследование баланса классов и обучение модели без учёта дисбаланса"
   ]
  },
  {
   "cell_type": "code",
   "execution_count": 9,
   "id": "0a6be32e",
   "metadata": {},
   "outputs": [
    {
     "name": "stdout",
     "output_type": "stream",
     "text": [
      "exited\n",
      "0    0.7963\n",
      "1    0.2037\n",
      "Name: proportion, dtype: float64\n"
     ]
    }
   ],
   "source": [
    "# Проверка баланса классов\n",
    "class_balance = df['exited'].value_counts(normalize=True) \n",
    "print(class_balance)"
   ]
  },
  {
   "cell_type": "markdown",
   "id": "30fcf933",
   "metadata": {},
   "source": [
    "Баланс классов в данных:\n",
    "\n",
    "Класс 0 (клиенты, которые не ушли): 79.63%  \n",
    "Класс 1 (клиенты, которые ушли): 20.37%  "
   ]
  },
  {
   "cell_type": "code",
   "execution_count": 10,
   "id": "f1050dc9",
   "metadata": {},
   "outputs": [
    {
     "name": "stdout",
     "output_type": "stream",
     "text": [
      "Размер исходного датасета: 10000\n",
      "Размер обучающей выборки: 6000 (60.00%)\n",
      "Размер валидационной выборки: 2000 (20.00%)\n",
      "Размер тестовой выборки: 2000 (20.00%)\n"
     ]
    }
   ],
   "source": [
    "# Разделение данных на признаки и целевой признак\n",
    "X = df.drop('exited', axis=1)\n",
    "y = df['exited']\n",
    "\n",
    "# Разделение на обучающую, валидационную и тестовую выборки\n",
    "X_train, X_test, y_train, y_test = train_test_split(X, y, test_size=0.2, random_state=RANDOM_STATE)\n",
    "X_train, X_valid, y_train, y_valid = train_test_split(X_train, y_train, test_size=0.25, random_state=RANDOM_STATE)\n",
    "\n",
    "# Списки признаков для обработки\n",
    "numeric_features = ['balance', 'estimated_salary', 'credit_score', 'age', 'tenure']\n",
    "\n",
    "# Масштабируем числовые признаки\n",
    "scaler = StandardScaler()\n",
    "scaler.fit(X_train[numeric_features])\n",
    "\n",
    "X_train[numeric_features] = scaler.transform(X_train[numeric_features])\n",
    "X_valid[numeric_features] = scaler.transform(X_valid[numeric_features])\n",
    "X_test[numeric_features] = scaler.transform(X_test[numeric_features])\n",
    "\n",
    "# Вычисляем размеры исходного датасета и выборок\n",
    "total_samples = len(df)\n",
    "train_samples = len(X_train)\n",
    "valid_samples = len(X_valid)\n",
    "test_samples = len(X_test)\n",
    "\n",
    "# Вычисляем проценты от исходного датасета\n",
    "train_percent = (train_samples / total_samples) * 100\n",
    "valid_percent = (valid_samples / total_samples) * 100\n",
    "test_percent = (test_samples / total_samples) * 100\n",
    "\n",
    "# Выводим информацию о размерах выборок\n",
    "print(f\"Размер исходного датасета: {total_samples}\")\n",
    "print(f\"Размер обучающей выборки: {train_samples} ({train_percent:.2f}%)\")\n",
    "print(f\"Размер валидационной выборки: {valid_samples} ({valid_percent:.2f}%)\")\n",
    "print(f\"Размер тестовой выборки: {test_samples} ({test_percent:.2f}%)\")"
   ]
  },
  {
   "cell_type": "markdown",
   "id": "8e495798",
   "metadata": {},
   "source": [
    "Теперь готовы для обучения модели."
   ]
  },
  {
   "cell_type": "code",
   "execution_count": 11,
   "id": "14ff339f",
   "metadata": {},
   "outputs": [],
   "source": [
    "# Инициализируем модели\n",
    "models = {\n",
    "    'Logistic Regression': LogisticRegression(random_state=RANDOM_STATE),\n",
    "    'Decision Tree': DecisionTreeClassifier(random_state=RANDOM_STATE),\n",
    "    'Random Forest': RandomForestClassifier(random_state=RANDOM_STATE),\n",
    "    'Gradient Boosting': GradientBoostingClassifier(random_state=RANDOM_STATE)\n",
    "}"
   ]
  },
  {
   "cell_type": "code",
   "execution_count": 12,
   "id": "00e329f2",
   "metadata": {},
   "outputs": [],
   "source": [
    "# Словарь параметров для каждой модели\n",
    "param_grid = {\n",
    "    'Logistic Regression': {\n",
    "        'C': [0.001, 0.01, 0.1, 1, 10, 100]\n",
    "    },\n",
    "    'Decision Tree': {\n",
    "        'max_depth': [None, 5, 10, 15, 20],\n",
    "        'min_samples_split': [2, 5, 10],\n",
    "    },\n",
    "    'Random Forest': {\n",
    "        'n_estimators': [25, 50, 100],\n",
    "        'max_depth': [5, 15, 25],\n",
    "        'min_samples_split': [2, 5, 10],\n",
    "    },\n",
    "    'Gradient Boosting': {\n",
    "        'n_estimators': [25, 50, 100],\n",
    "        'learning_rate': [0.01, 0.1, 0.5],\n",
    "        'max_depth': [3, 5, 7]\n",
    "    }\n",
    "}"
   ]
  },
  {
   "cell_type": "code",
   "execution_count": 13,
   "id": "f51afc84",
   "metadata": {},
   "outputs": [],
   "source": [
    "# Инициализируем модели\n",
    "models = {\n",
    "    'Logistic Regression': LogisticRegression(random_state=RANDOM_STATE),\n",
    "    'Decision Tree': DecisionTreeClassifier(random_state=RANDOM_STATE),\n",
    "    'Random Forest': RandomForestClassifier(random_state=RANDOM_STATE),\n",
    "    'Gradient Boosting': GradientBoostingClassifier(random_state=RANDOM_STATE)\n",
    "}"
   ]
  },
  {
   "cell_type": "code",
   "execution_count": 14,
   "id": "a2cca0fc",
   "metadata": {},
   "outputs": [
    {
     "name": "stdout",
     "output_type": "stream",
     "text": [
      "Модель: Logistic Regression\n",
      "Лучшие параметры:\n",
      "C: 10\n",
      "Precision: 0.5745\n",
      "Recall: 0.2072\n",
      "F1-score: 0.3045\n",
      "Площадь ROC-кривой: 0.7703\n",
      "--------------------------------------------\n",
      "Модель: Decision Tree\n",
      "Лучшие параметры:\n",
      "max_depth: 10\n",
      "min_samples_split: 10\n",
      "Precision: 0.6221\n",
      "Recall: 0.4885\n",
      "F1-score: 0.5473\n",
      "Площадь ROC-кривой: 0.7678\n",
      "--------------------------------------------\n",
      "Модель: Random Forest\n",
      "Лучшие параметры:\n",
      "max_depth: 25\n",
      "min_samples_split: 10\n",
      "n_estimators: 50\n",
      "Precision: 0.7623\n",
      "Recall: 0.4348\n",
      "F1-score: 0.5537\n",
      "Площадь ROC-кривой: 0.8474\n",
      "--------------------------------------------\n",
      "Модель: Gradient Boosting\n",
      "Лучшие параметры:\n",
      "learning_rate: 0.1\n",
      "max_depth: 3\n",
      "n_estimators: 100\n",
      "Precision: 0.7173\n",
      "Recall: 0.4348\n",
      "F1-score: 0.5414\n",
      "Площадь ROC-кривой: 0.8591\n",
      "--------------------------------------------\n"
     ]
    }
   ],
   "source": [
    "# Подбор лучших параметров и оценка качества моделей\n",
    "for model_name, model in models.items():\n",
    "    print(f\"Модель: {model_name}\")\n",
    "    \n",
    "    # Поиск лучших параметров с использованием F1 в качестве целевой метрики\n",
    "    grid_search = GridSearchCV(estimator=model, param_grid=param_grid[model_name], cv=5, scoring='f1')\n",
    "    grid_search.fit(X_train, y_train)\n",
    "    \n",
    "    # Лучшие параметры и оценка на валидационной выборке\n",
    "    best_params = grid_search.best_params_\n",
    "    print(f\"Лучшие параметры:\")\n",
    "    for param, value in best_params.items():\n",
    "        print(f\"{param}: {value}\")\n",
    "    \n",
    "    # Лучшая модель с лучшими параметрами\n",
    "    best_model = grid_search.best_estimator_\n",
    "    \n",
    "    # Предсказание на валидационной выборке\n",
    "    y_pred = best_model.predict(X_valid)\n",
    "    \n",
    "    # Рассчитываем метрики\n",
    "    precision = precision_score(y_valid, y_pred)\n",
    "    recall = recall_score(y_valid, y_pred)\n",
    "    f1 = f1_score(y_valid, y_pred)\n",
    "    \n",
    "    # Вывод метрик\n",
    "    print(f\"Precision: {precision:.4f}\")\n",
    "    print(f\"Recall: {recall:.4f}\")\n",
    "    print(f\"F1-score: {f1:.4f}\")\n",
    "    \n",
    "    # Предсказание вероятностей классов для расчета ROC AUC\n",
    "    probabilities = best_model.predict_proba(X_valid)\n",
    "    probabilities_one = probabilities[:, 1]\n",
    "    roc_auc = roc_auc_score(y_valid, probabilities_one)\n",
    "    print(f\"Площадь ROC-кривой: {roc_auc:.4f}\")\n",
    "    \n",
    "    print(\"--------------------------------------------\")"
   ]
  },
  {
   "cell_type": "markdown",
   "id": "bc81c815",
   "metadata": {},
   "source": [
    "**Вывод:**\n",
    "\n",
    "1. **Баланс классов**:\n",
    "   - Данные сильно несбалансированы: 79.63% записей относятся к классу 0 и только 20.37% к классу 1.\n",
    "\n",
    "2. **Производительность моделей без учёта дисбаланса**:\n",
    "   - Модель логистической регрессии показала низкое значение F1-score (0.3045) из-за низкого recall (0.2072). Это свидетельствует о том, что модель плохо справляется с идентификацией положительных случаев.\n",
    "   - Дерево решений и случайный лес показали более высокие значения F1-score (0.5473 и 0.5537 соответственно), что делает их более эффективными в данной задаче.\n",
    "   - Градиентный бустинг показал самую высокую площадь под ROC-кривой (0.8591), что указывает на его лучшую общую производительность, несмотря на F1-score 0.5414.\n",
    "\n",
    "3. **Лучшая модель**:\n",
    "   - С учетом как F1-score, так и ROC AUC, модель случайного леса является наилучшей в данной задаче.\n",
    "   - Она показывает хороший баланс между precision и recall, а также высокое значение ROC AUC, что свидетельствует о её общей эффективности."
   ]
  },
  {
   "cell_type": "markdown",
   "id": "d6b933c2",
   "metadata": {},
   "source": [
    "## Обучение модели с учётом дисбаланса"
   ]
  },
  {
   "cell_type": "markdown",
   "id": "a4973942",
   "metadata": {},
   "source": [
    "**Oversample и Undersample**"
   ]
  },
  {
   "cell_type": "code",
   "execution_count": 15,
   "id": "99fb9247",
   "metadata": {},
   "outputs": [],
   "source": [
    "# Методы балансировки\n",
    "sampling_methods = {\n",
    "    'oversample': SMOTE(random_state=RANDOM_STATE),\n",
    "    'undersample': RandomUnderSampler(random_state=RANDOM_STATE)\n",
    "}"
   ]
  },
  {
   "cell_type": "code",
   "execution_count": 16,
   "id": "4c9db667",
   "metadata": {},
   "outputs": [
    {
     "name": "stdout",
     "output_type": "stream",
     "text": [
      "\n",
      "Результаты для метода балансировки: Oversample\n",
      "\n"
     ]
    },
    {
     "data": {
      "text/html": [
       "<div>\n",
       "<style scoped>\n",
       "    .dataframe tbody tr th:only-of-type {\n",
       "        vertical-align: middle;\n",
       "    }\n",
       "\n",
       "    .dataframe tbody tr th {\n",
       "        vertical-align: top;\n",
       "    }\n",
       "\n",
       "    .dataframe thead th {\n",
       "        text-align: right;\n",
       "    }\n",
       "</style>\n",
       "<table border=\"1\" class=\"dataframe\">\n",
       "  <thead>\n",
       "    <tr style=\"text-align: right;\">\n",
       "      <th></th>\n",
       "      <th>Model</th>\n",
       "      <th>Best Params</th>\n",
       "      <th>Precision</th>\n",
       "      <th>Recall</th>\n",
       "      <th>F1-score</th>\n",
       "      <th>ROC AUC</th>\n",
       "    </tr>\n",
       "  </thead>\n",
       "  <tbody>\n",
       "    <tr>\n",
       "      <th>0</th>\n",
       "      <td>Logistic Regression</td>\n",
       "      <td>{'C': 0.1}</td>\n",
       "      <td>0.369276</td>\n",
       "      <td>0.639386</td>\n",
       "      <td>0.468165</td>\n",
       "      <td>0.765218</td>\n",
       "    </tr>\n",
       "    <tr>\n",
       "      <th>1</th>\n",
       "      <td>Decision Tree</td>\n",
       "      <td>{'max_depth': 15, 'min_samples_split': 2}</td>\n",
       "      <td>0.436255</td>\n",
       "      <td>0.560102</td>\n",
       "      <td>0.490482</td>\n",
       "      <td>0.704454</td>\n",
       "    </tr>\n",
       "    <tr>\n",
       "      <th>2</th>\n",
       "      <td>Random Forest</td>\n",
       "      <td>{'max_depth': 25, 'min_samples_split': 2, 'n_estimators': 100}</td>\n",
       "      <td>0.580645</td>\n",
       "      <td>0.598465</td>\n",
       "      <td>0.589421</td>\n",
       "      <td>0.842390</td>\n",
       "    </tr>\n",
       "    <tr>\n",
       "      <th>3</th>\n",
       "      <td>Gradient Boosting</td>\n",
       "      <td>{'learning_rate': 0.1, 'max_depth': 7, 'n_estimators': 100}</td>\n",
       "      <td>0.591304</td>\n",
       "      <td>0.521739</td>\n",
       "      <td>0.554348</td>\n",
       "      <td>0.841179</td>\n",
       "    </tr>\n",
       "  </tbody>\n",
       "</table>\n",
       "</div>"
      ],
      "text/plain": [
       "                 Model  \\\n",
       "0  Logistic Regression   \n",
       "1        Decision Tree   \n",
       "2        Random Forest   \n",
       "3    Gradient Boosting   \n",
       "\n",
       "                                                      Best Params  Precision  \\\n",
       "0                                                      {'C': 0.1}   0.369276   \n",
       "1                       {'max_depth': 15, 'min_samples_split': 2}   0.436255   \n",
       "2  {'max_depth': 25, 'min_samples_split': 2, 'n_estimators': 100}   0.580645   \n",
       "3     {'learning_rate': 0.1, 'max_depth': 7, 'n_estimators': 100}   0.591304   \n",
       "\n",
       "     Recall  F1-score   ROC AUC  \n",
       "0  0.639386  0.468165  0.765218  \n",
       "1  0.560102  0.490482  0.704454  \n",
       "2  0.598465  0.589421  0.842390  \n",
       "3  0.521739  0.554348  0.841179  "
      ]
     },
     "metadata": {},
     "output_type": "display_data"
    },
    {
     "name": "stdout",
     "output_type": "stream",
     "text": [
      "\n",
      "Результаты для метода балансировки: Undersample\n",
      "\n"
     ]
    },
    {
     "data": {
      "text/html": [
       "<div>\n",
       "<style scoped>\n",
       "    .dataframe tbody tr th:only-of-type {\n",
       "        vertical-align: middle;\n",
       "    }\n",
       "\n",
       "    .dataframe tbody tr th {\n",
       "        vertical-align: top;\n",
       "    }\n",
       "\n",
       "    .dataframe thead th {\n",
       "        text-align: right;\n",
       "    }\n",
       "</style>\n",
       "<table border=\"1\" class=\"dataframe\">\n",
       "  <thead>\n",
       "    <tr style=\"text-align: right;\">\n",
       "      <th></th>\n",
       "      <th>Model</th>\n",
       "      <th>Best Params</th>\n",
       "      <th>Precision</th>\n",
       "      <th>Recall</th>\n",
       "      <th>F1-score</th>\n",
       "      <th>ROC AUC</th>\n",
       "    </tr>\n",
       "  </thead>\n",
       "  <tbody>\n",
       "    <tr>\n",
       "      <th>0</th>\n",
       "      <td>Logistic Regression</td>\n",
       "      <td>{'C': 0.01}</td>\n",
       "      <td>0.367263</td>\n",
       "      <td>0.682864</td>\n",
       "      <td>0.477639</td>\n",
       "      <td>0.770624</td>\n",
       "    </tr>\n",
       "    <tr>\n",
       "      <th>1</th>\n",
       "      <td>Decision Tree</td>\n",
       "      <td>{'max_depth': 5, 'min_samples_split': 5}</td>\n",
       "      <td>0.396907</td>\n",
       "      <td>0.787724</td>\n",
       "      <td>0.527849</td>\n",
       "      <td>0.809903</td>\n",
       "    </tr>\n",
       "    <tr>\n",
       "      <th>2</th>\n",
       "      <td>Random Forest</td>\n",
       "      <td>{'max_depth': 25, 'min_samples_split': 10, 'n_estimators': 50}</td>\n",
       "      <td>0.443411</td>\n",
       "      <td>0.731458</td>\n",
       "      <td>0.552124</td>\n",
       "      <td>0.844594</td>\n",
       "    </tr>\n",
       "    <tr>\n",
       "      <th>3</th>\n",
       "      <td>Gradient Boosting</td>\n",
       "      <td>{'learning_rate': 0.01, 'max_depth': 5, 'n_estimators': 100}</td>\n",
       "      <td>0.455538</td>\n",
       "      <td>0.746803</td>\n",
       "      <td>0.565891</td>\n",
       "      <td>0.845308</td>\n",
       "    </tr>\n",
       "  </tbody>\n",
       "</table>\n",
       "</div>"
      ],
      "text/plain": [
       "                 Model  \\\n",
       "0  Logistic Regression   \n",
       "1        Decision Tree   \n",
       "2        Random Forest   \n",
       "3    Gradient Boosting   \n",
       "\n",
       "                                                      Best Params  Precision  \\\n",
       "0                                                     {'C': 0.01}   0.367263   \n",
       "1                        {'max_depth': 5, 'min_samples_split': 5}   0.396907   \n",
       "2  {'max_depth': 25, 'min_samples_split': 10, 'n_estimators': 50}   0.443411   \n",
       "3    {'learning_rate': 0.01, 'max_depth': 5, 'n_estimators': 100}   0.455538   \n",
       "\n",
       "     Recall  F1-score   ROC AUC  \n",
       "0  0.682864  0.477639  0.770624  \n",
       "1  0.787724  0.527849  0.809903  \n",
       "2  0.731458  0.552124  0.844594  \n",
       "3  0.746803  0.565891  0.845308  "
      ]
     },
     "metadata": {},
     "output_type": "display_data"
    }
   ],
   "source": [
    "# Для сохранения лучших моделей\n",
    "best_models = {'oversample': {}, 'undersample': {}}\n",
    "\n",
    "# Подбор лучших параметров и оценка качества моделей для каждого метода балансировки\n",
    "results = {'oversample': [], 'undersample': []}\n",
    "\n",
    "for sampling_name, sampler in sampling_methods.items():\n",
    "    # Применение метода балансировки\n",
    "    X_resampled, y_resampled = sampler.fit_resample(X_train, y_train)\n",
    "    class_distribution = y_resampled.value_counts(normalize=True)\n",
    "    \n",
    "    for model_name, model in models.items():\n",
    "        # Поиск лучших параметров с использованием F1 в качестве целевой метрики\n",
    "        grid_search = GridSearchCV(estimator=model, param_grid=param_grid[model_name], cv=5, scoring='f1')\n",
    "        grid_search.fit(X_resampled, y_resampled)\n",
    "        \n",
    "        # Лучшие параметры и оценка на валидационной выборке\n",
    "        best_params = grid_search.best_params_\n",
    "        \n",
    "        # Лучшая модель с лучшими параметрами\n",
    "        best_model = grid_search.best_estimator_\n",
    "        \n",
    "        # Предсказание на валидационной выборке\n",
    "        y_pred = best_model.predict(X_valid)\n",
    "        \n",
    "        # Рассчитываем метрики\n",
    "        precision = precision_score(y_valid, y_pred)\n",
    "        recall = recall_score(y_valid, y_pred)\n",
    "        f1 = f1_score(y_valid, y_pred)\n",
    "        \n",
    "        # Предсказание вероятностей классов для расчета ROC AUC\n",
    "        probabilities = best_model.predict_proba(X_valid)\n",
    "        probabilities_one = probabilities[:, 1]\n",
    "        roc_auc = roc_auc_score(y_valid, probabilities_one)\n",
    "        \n",
    "        # Сохранение результатов\n",
    "        results[sampling_name].append({\n",
    "            'Model': model_name,\n",
    "            'Best Params': best_params,\n",
    "            'Precision': precision,\n",
    "            'Recall': recall,\n",
    "            'F1-score': f1,\n",
    "            'ROC AUC': roc_auc\n",
    "        })\n",
    "        \n",
    "        # Сохранение лучшей модели\n",
    "        best_models[sampling_name][model_name] = best_model\n",
    "\n",
    "# Вывод результатов в виде таблиц с расширенными столбцами\n",
    "pd.set_option('display.max_colwidth', None)\n",
    "for sampling_name, sampling_results in results.items():\n",
    "    print(f\"\\nРезультаты для метода балансировки: {sampling_name.capitalize()}\\n\")\n",
    "    df_results = pd.DataFrame(sampling_results)\n",
    "    display(df_results)"
   ]
  },
  {
   "cell_type": "markdown",
   "id": "3937fd1f",
   "metadata": {},
   "source": [
    "**Вывод:**\n",
    "\n",
    "На основе F1-score наилучшие результаты показала модель **Random Forest** при использовании oversample с параметрами:\n",
    "- `max_depth`: 25\n",
    "- `min_samples_split`: 2\n",
    "- `n_estimators`: 100\n",
    "\n",
    "Эта модель показала F1-score = 0.589421 и ROC AUC = 0.842390."
   ]
  },
  {
   "cell_type": "markdown",
   "id": "0197f730",
   "metadata": {},
   "source": [
    "## Проверка лучшей модели на тестовой выборке"
   ]
  },
  {
   "cell_type": "code",
   "execution_count": 18,
   "id": "51700121",
   "metadata": {},
   "outputs": [
    {
     "name": "stdout",
     "output_type": "stream",
     "text": [
      "Метрики для Random Forest на тестовой выборке:\n",
      "Precision: 0.6188\n",
      "Recall: 0.6159\n",
      "F1-score: 0.6174\n",
      "Площадь ROC-кривой: 0.8494\n"
     ]
    }
   ],
   "source": [
    "# Проверка лучшей модели на тестовой выборке\n",
    "best_model_params = {'max_depth': 25, 'min_samples_split': 2, 'n_estimators': 100}\n",
    "\n",
    "# Обучение лучшей модели Random Forest с использованием SMOTE\n",
    "sampler = SMOTE(random_state=RANDOM_STATE)\n",
    "X_resampled, y_resampled = sampler.fit_resample(X_train, y_train)\n",
    "\n",
    "best_model_rf = RandomForestClassifier(random_state=RANDOM_STATE, **best_model_params)\n",
    "best_model_rf.fit(X_resampled, y_resampled)\n",
    "\n",
    "# Оценка модели на тестовой выборке\n",
    "y_test_pred = best_model_rf.predict(X_test)\n",
    "precision_test = precision_score(y_test, y_test_pred)\n",
    "recall_test = recall_score(y_test, y_test_pred)\n",
    "f1_test = f1_score(y_test, y_test_pred)\n",
    "roc_auc_test = roc_auc_score(y_test, best_model_rf.predict_proba(X_test)[:, 1])\n",
    "и"
   ]
  },
  {
   "cell_type": "code",
   "execution_count": 30,
   "id": "3b2e60a3",
   "metadata": {},
   "outputs": [
    {
     "data": {
      "image/png": "[encoded data removed]",
      "text/plain": [
       "<Figure size 576x576 with 1 Axes>"
      ]
     },
     "metadata": {
      "needs_background": "light"
     },
     "output_type": "display_data"
    }
   ],
   "source": [
    "# Построение графика\n",
    "plt.figure(figsize=(8,8))\n",
    "plt.plot(fpr, tpr, color='darkorange', lw=2, label=f'ROC кривая (площадь = {roc_auc:.4f})')\n",
    "plt.plot([0, 1], [0, 1], color='navy', lw=2, linestyle='--')\n",
    "plt.xlim([0.0, 1.0])\n",
    "plt.ylim([0.0, 1.05])\n",
    "plt.xlabel('Доля ложноположительных классификаций')\n",
    "plt.ylabel('Доля истинно положительных классификаций')\n",
    "plt.title('Кривая характеристик работы приёмника (ROC)')\n",
    "plt.legend(loc='lower right')\n",
    "plt.show()"
   ]
  },
  {
   "cell_type": "code",
   "execution_count": 32,
   "id": "d2c53e88",
   "metadata": {},
   "outputs": [
    {
     "name": "stdout",
     "output_type": "stream",
     "text": [
      "Метрики для Dummy модели на тестовой выборке:\n",
      "Precision: 0.2135\n",
      "Recall: 1.0000\n",
      "F1-score: 0.3519\n",
      "\n",
      "Сравнение моделей на тестовой выборке:\n",
      "Random Forest - F1-score: 0.6174, Recall: 0.6159\n",
      "Dummy модель - F1-score: 0.3519, Recall: 1.0000\n",
      "\n",
      "Модель Random Forest превосходит Dummy модель по F1-мере.\n",
      "\n",
      "Доля верно детектированных клиентов на отток моделью Random Forest: 0.6159\n",
      "Доля верно детектированных клиентов на отток Dummy моделью: 1.0000\n"
     ]
    }
   ],
   "source": [
    "# Обучение Dummy модели, которая предсказывает только класс '1'\n",
    "dummy_model = DummyClassifier(strategy='constant', constant=1)\n",
    "dummy_model.fit(X_train, y_train)\n",
    "\n",
    "# Предсказание и оценка Dummy модели на тестовой выборке\n",
    "y_test_dummy_pred = dummy_model.predict(X_test)\n",
    "precision_dummy = precision_score(y_test, y_test_dummy_pred)\n",
    "recall_dummy = recall_score(y_test, y_test_dummy_pred)\n",
    "f1_dummy = f1_score(y_test, y_test_dummy_pred)\n",
    "\n",
    "# Вывод метрик Dummy модели на тестовой выборке\n",
    "print(f\"Метрики для Dummy модели на тестовой выборке:\")\n",
    "print(f\"Precision: {precision_dummy:.4f}\")\n",
    "print(f\"Recall: {recall_dummy:.4f}\")\n",
    "print(f\"F1-score: {f1_dummy:.4f}\")\n",
    "\n",
    "# Сравнение с моделью Random Forest\n",
    "print(f\"\\nСравнение моделей на тестовой выборке:\")\n",
    "print(f\"Random Forest - F1-score: {f1_test:.4f}, Recall: {recall_test:.4f}\")\n",
    "print(f\"Dummy модель - F1-score: {f1_dummy:.4f}, Recall: {recall_dummy:.4f}\")\n",
    "\n",
    "# Анализ результатов\n",
    "if f1_test > f1_dummy:\n",
    "    print(\"\\nМодель Random Forest превосходит Dummy модель по F1-мере.\")\n",
    "else:\n",
    "    print(\"\\nМодель Random Forest не превосходит Dummy модель по F1-мере.\")\n",
    "\n",
    "# Вывод на основе recall\n",
    "print(f\"\\nДоля верно детектированных клиентов на отток моделью Random Forest: {recall_test:.4f}\")\n",
    "print(f\"Доля верно детектированных клиентов на отток Dummy моделью: {recall_dummy:.4f}\")"
   ]
  },
  {
   "cell_type": "markdown",
   "id": "820d7367",
   "metadata": {},
   "source": [
    "**Вывод:**\n",
    "\n",
    "Модель Random Forest превосходит Dummy модель по F1-мере, что указывает на ее более высокую общую производительность в распознавании клиентов, склонных к оттоку, при учете баланса между точностью и полнотой. Наша модель корректно идентифицирует около 61.59% клиентов, склонных к оттоку, что достаточно хорошо для большинства практических задач. Dummy модель, предсказывающая всех клиентов как склонных к оттоку, имеет Recall 100%, но ее низкая Precision и F1-score показывают, что она не является практически полезной, так как она не дифференцирует клиентов, действительно склонных к оттоку, от тех, кто остается.\n",
    "\n",
    "ROC-кривая (Receiver Operating Characteristic curve) на предоставленном графике показывает, что модель имеет AUC-ROC (площадь под кривой) = 0.8494, что также является хорошим показателем. Высокое значение AUC-ROC свидетельствует о том, что модель хорошо различает классы.\n",
    "\n",
    "По заданию требовалось довести метрику F1 до 0.59, результат нашей модели - 0.6174."
   ]
  },
  {
   "cell_type": "code",
   "execution_count": null,
   "id": "4b458044",
   "metadata": {},
   "outputs": [],
   "source": []
  }
 ],
 "metadata": {
  "ExecuteTimeLog": [
   {
    "duration": 443,
    "start_time": "2024-06-13T11:05:06.828Z"
   },
   {
    "duration": 180,
    "start_time": "2024-06-13T11:07:05.637Z"
   },
   {
    "duration": 150,
    "start_time": "2024-06-13T11:08:02.017Z"
   },
   {
    "duration": 126,
    "start_time": "2024-06-13T11:08:38.389Z"
   },
   {
    "duration": 115,
    "start_time": "2024-06-13T11:09:42.407Z"
   },
   {
    "duration": 114,
    "start_time": "2024-06-13T11:10:09.733Z"
   },
   {
    "duration": 113,
    "start_time": "2024-06-13T11:10:18.646Z"
   },
   {
    "duration": 125,
    "start_time": "2024-06-13T11:12:12.060Z"
   },
   {
    "duration": 120,
    "start_time": "2024-06-13T11:24:30.767Z"
   },
   {
    "duration": 4,
    "start_time": "2024-06-13T11:27:01.615Z"
   },
   {
    "duration": 67,
    "start_time": "2024-06-13T11:29:32.993Z"
   },
   {
    "duration": 38776,
    "start_time": "2024-06-13T11:29:45.867Z"
   },
   {
    "duration": 544,
    "start_time": "2024-06-13T11:30:32.919Z"
   },
   {
    "duration": 2885,
    "start_time": "2024-06-13T11:31:27.085Z"
   },
   {
    "duration": 14,
    "start_time": "2024-06-13T11:33:21.861Z"
   },
   {
    "duration": 2904,
    "start_time": "2024-06-13T11:33:30.659Z"
   },
   {
    "duration": 1151,
    "start_time": "2024-06-13T11:33:33.567Z"
   },
   {
    "duration": 113,
    "start_time": "2024-06-13T11:33:34.720Z"
   },
   {
    "duration": 12,
    "start_time": "2024-06-13T11:33:34.835Z"
   },
   {
    "duration": 9,
    "start_time": "2024-06-13T11:33:34.850Z"
   },
   {
    "duration": 92,
    "start_time": "2024-06-13T11:44:12.442Z"
   },
   {
    "duration": 6,
    "start_time": "2024-06-13T11:44:19.293Z"
   },
   {
    "duration": 5,
    "start_time": "2024-06-13T11:44:31.536Z"
   },
   {
    "duration": 4,
    "start_time": "2024-06-13T11:44:38.051Z"
   },
   {
    "duration": 5,
    "start_time": "2024-06-13T11:44:57.724Z"
   },
   {
    "duration": 5,
    "start_time": "2024-06-13T11:45:24.538Z"
   },
   {
    "duration": 8,
    "start_time": "2024-06-13T11:46:51.165Z"
   },
   {
    "duration": 7,
    "start_time": "2024-06-13T11:47:28.959Z"
   },
   {
    "duration": 6,
    "start_time": "2024-06-13T11:48:13.598Z"
   },
   {
    "duration": 2868,
    "start_time": "2024-06-13T11:49:23.578Z"
   },
   {
    "duration": 2058,
    "start_time": "2024-06-13T11:49:26.450Z"
   },
   {
    "duration": 0,
    "start_time": "2024-06-13T11:49:28.511Z"
   },
   {
    "duration": 0,
    "start_time": "2024-06-13T11:49:28.513Z"
   },
   {
    "duration": 0,
    "start_time": "2024-06-13T11:49:28.515Z"
   },
   {
    "duration": 1,
    "start_time": "2024-06-13T11:49:28.516Z"
   },
   {
    "duration": 0,
    "start_time": "2024-06-13T11:49:28.518Z"
   },
   {
    "duration": 2838,
    "start_time": "2024-06-13T11:49:36.727Z"
   },
   {
    "duration": 1906,
    "start_time": "2024-06-13T11:49:39.568Z"
   },
   {
    "duration": 0,
    "start_time": "2024-06-13T11:49:41.476Z"
   },
   {
    "duration": 0,
    "start_time": "2024-06-13T11:49:41.478Z"
   },
   {
    "duration": 0,
    "start_time": "2024-06-13T11:49:41.479Z"
   },
   {
    "duration": 0,
    "start_time": "2024-06-13T11:49:41.481Z"
   },
   {
    "duration": 0,
    "start_time": "2024-06-13T11:49:41.482Z"
   },
   {
    "duration": 2787,
    "start_time": "2024-06-13T11:49:53.611Z"
   },
   {
    "duration": 1830,
    "start_time": "2024-06-13T11:49:56.400Z"
   },
   {
    "duration": 115,
    "start_time": "2024-06-13T11:49:58.233Z"
   },
   {
    "duration": 5,
    "start_time": "2024-06-13T11:49:58.351Z"
   },
   {
    "duration": 58,
    "start_time": "2024-06-13T11:49:58.359Z"
   },
   {
    "duration": 30,
    "start_time": "2024-06-13T11:49:58.419Z"
   },
   {
    "duration": 18,
    "start_time": "2024-06-13T11:49:58.451Z"
   },
   {
    "duration": 3,
    "start_time": "2024-06-13T12:06:15.918Z"
   },
   {
    "duration": 79,
    "start_time": "2024-06-13T12:07:19.111Z"
   },
   {
    "duration": 146,
    "start_time": "2024-06-13T12:07:21.741Z"
   },
   {
    "duration": 15,
    "start_time": "2024-06-13T12:07:35.542Z"
   },
   {
    "duration": 13813,
    "start_time": "2024-06-13T12:09:16.796Z"
   },
   {
    "duration": 5717,
    "start_time": "2024-06-13T12:10:00.252Z"
   },
   {
    "duration": 1715,
    "start_time": "2024-06-13T12:10:05.972Z"
   },
   {
    "duration": 114,
    "start_time": "2024-06-13T12:10:07.690Z"
   },
   {
    "duration": 4,
    "start_time": "2024-06-13T12:10:07.807Z"
   },
   {
    "duration": 28,
    "start_time": "2024-06-13T12:10:07.813Z"
   },
   {
    "duration": 5,
    "start_time": "2024-06-13T12:10:07.843Z"
   },
   {
    "duration": 7,
    "start_time": "2024-06-13T12:10:07.850Z"
   },
   {
    "duration": 144,
    "start_time": "2024-06-13T12:10:07.859Z"
   },
   {
    "duration": 5656,
    "start_time": "2024-06-13T12:10:34.323Z"
   },
   {
    "duration": 1594,
    "start_time": "2024-06-13T12:10:39.983Z"
   },
   {
    "duration": 116,
    "start_time": "2024-06-13T12:10:41.579Z"
   },
   {
    "duration": 5,
    "start_time": "2024-06-13T12:10:41.698Z"
   },
   {
    "duration": 20,
    "start_time": "2024-06-13T12:10:41.704Z"
   },
   {
    "duration": 8,
    "start_time": "2024-06-13T12:10:41.726Z"
   },
   {
    "duration": 10,
    "start_time": "2024-06-13T12:10:41.747Z"
   },
   {
    "duration": 5,
    "start_time": "2024-06-13T12:17:28.815Z"
   },
   {
    "duration": 7,
    "start_time": "2024-06-13T12:17:46.126Z"
   },
   {
    "duration": 6,
    "start_time": "2024-06-13T12:17:51.645Z"
   },
   {
    "duration": 6,
    "start_time": "2024-06-13T12:19:43.411Z"
   },
   {
    "duration": 5,
    "start_time": "2024-06-13T12:19:51.362Z"
   },
   {
    "duration": 125,
    "start_time": "2024-06-13T12:37:40.982Z"
   },
   {
    "duration": 5593,
    "start_time": "2024-06-13T12:38:25.438Z"
   },
   {
    "duration": 1784,
    "start_time": "2024-06-13T12:38:31.035Z"
   },
   {
    "duration": 112,
    "start_time": "2024-06-13T12:38:32.821Z"
   },
   {
    "duration": 34,
    "start_time": "2024-06-13T12:38:32.935Z"
   },
   {
    "duration": 22,
    "start_time": "2024-06-13T12:38:32.972Z"
   },
   {
    "duration": 21,
    "start_time": "2024-06-13T12:38:32.996Z"
   },
   {
    "duration": 17,
    "start_time": "2024-06-13T12:38:33.019Z"
   },
   {
    "duration": 22,
    "start_time": "2024-06-13T12:38:33.038Z"
   },
   {
    "duration": 33,
    "start_time": "2024-06-13T12:38:33.062Z"
   },
   {
    "duration": 27,
    "start_time": "2024-06-13T12:42:17.626Z"
   },
   {
    "duration": 26,
    "start_time": "2024-06-13T12:47:02.003Z"
   },
   {
    "duration": 37,
    "start_time": "2024-06-13T12:47:52.009Z"
   },
   {
    "duration": 46,
    "start_time": "2024-06-13T12:49:02.057Z"
   },
   {
    "duration": 36,
    "start_time": "2024-06-13T12:49:14.251Z"
   },
   {
    "duration": 36,
    "start_time": "2024-06-13T12:49:42.155Z"
   },
   {
    "duration": 42072,
    "start_time": "2024-06-14T06:15:37.215Z"
   },
   {
    "duration": 1489,
    "start_time": "2024-06-14T06:16:19.289Z"
   },
   {
    "duration": 145,
    "start_time": "2024-06-14T06:16:20.780Z"
   },
   {
    "duration": 4,
    "start_time": "2024-06-14T06:16:20.926Z"
   },
   {
    "duration": 19,
    "start_time": "2024-06-14T06:16:20.931Z"
   },
   {
    "duration": 4,
    "start_time": "2024-06-14T06:16:20.952Z"
   },
   {
    "duration": 7,
    "start_time": "2024-06-14T06:16:20.958Z"
   },
   {
    "duration": 16,
    "start_time": "2024-06-14T06:16:20.966Z"
   },
   {
    "duration": 19,
    "start_time": "2024-06-14T06:16:20.984Z"
   },
   {
    "duration": 31,
    "start_time": "2024-06-14T06:16:21.008Z"
   },
   {
    "duration": 5564,
    "start_time": "2024-06-14T06:29:45.440Z"
   },
   {
    "duration": 1372,
    "start_time": "2024-06-14T06:29:51.007Z"
   },
   {
    "duration": 94,
    "start_time": "2024-06-14T06:29:52.381Z"
   },
   {
    "duration": 3,
    "start_time": "2024-06-14T06:29:52.477Z"
   },
   {
    "duration": 21,
    "start_time": "2024-06-14T06:29:52.482Z"
   },
   {
    "duration": 4,
    "start_time": "2024-06-14T06:29:52.509Z"
   },
   {
    "duration": 26,
    "start_time": "2024-06-14T06:29:52.515Z"
   },
   {
    "duration": 20,
    "start_time": "2024-06-14T06:29:52.543Z"
   },
   {
    "duration": 24,
    "start_time": "2024-06-14T06:29:52.564Z"
   },
   {
    "duration": 37,
    "start_time": "2024-06-14T06:29:52.590Z"
   },
   {
    "duration": 127,
    "start_time": "2024-06-14T06:29:52.629Z"
   },
   {
    "duration": 0,
    "start_time": "2024-06-14T06:29:52.758Z"
   },
   {
    "duration": 0,
    "start_time": "2024-06-14T06:29:52.759Z"
   },
   {
    "duration": 0,
    "start_time": "2024-06-14T06:29:52.760Z"
   },
   {
    "duration": 5550,
    "start_time": "2024-06-14T06:30:39.813Z"
   },
   {
    "duration": 1352,
    "start_time": "2024-06-14T06:30:45.368Z"
   },
   {
    "duration": 94,
    "start_time": "2024-06-14T06:30:46.722Z"
   },
   {
    "duration": 4,
    "start_time": "2024-06-14T06:30:46.818Z"
   },
   {
    "duration": 8,
    "start_time": "2024-06-14T06:30:46.824Z"
   },
   {
    "duration": 4,
    "start_time": "2024-06-14T06:30:46.834Z"
   },
   {
    "duration": 11,
    "start_time": "2024-06-14T06:30:46.839Z"
   },
   {
    "duration": 5,
    "start_time": "2024-06-14T06:30:46.852Z"
   },
   {
    "duration": 54,
    "start_time": "2024-06-14T06:30:46.859Z"
   },
   {
    "duration": 36,
    "start_time": "2024-06-14T06:30:46.915Z"
   },
   {
    "duration": 3,
    "start_time": "2024-06-14T06:30:46.953Z"
   },
   {
    "duration": 4,
    "start_time": "2024-06-14T06:30:46.958Z"
   },
   {
    "duration": 3,
    "start_time": "2024-06-14T06:30:46.965Z"
   },
   {
    "duration": 246,
    "start_time": "2024-06-14T06:30:46.970Z"
   },
   {
    "duration": 5562,
    "start_time": "2024-06-14T06:37:08.779Z"
   },
   {
    "duration": 1445,
    "start_time": "2024-06-14T06:37:14.344Z"
   },
   {
    "duration": 93,
    "start_time": "2024-06-14T06:37:15.791Z"
   },
   {
    "duration": 4,
    "start_time": "2024-06-14T06:37:15.886Z"
   },
   {
    "duration": 11,
    "start_time": "2024-06-14T06:37:15.892Z"
   },
   {
    "duration": 16,
    "start_time": "2024-06-14T06:37:15.905Z"
   },
   {
    "duration": 5,
    "start_time": "2024-06-14T06:37:15.923Z"
   },
   {
    "duration": 16,
    "start_time": "2024-06-14T06:37:15.929Z"
   },
   {
    "duration": 54,
    "start_time": "2024-06-14T06:37:15.946Z"
   },
   {
    "duration": 47,
    "start_time": "2024-06-14T06:37:16.003Z"
   },
   {
    "duration": 3,
    "start_time": "2024-06-14T06:37:16.052Z"
   },
   {
    "duration": 21,
    "start_time": "2024-06-14T06:37:16.056Z"
   },
   {
    "duration": 19,
    "start_time": "2024-06-14T06:37:16.079Z"
   },
   {
    "duration": 231,
    "start_time": "2024-06-14T06:37:16.100Z"
   },
   {
    "duration": 5655,
    "start_time": "2024-06-14T06:38:18.083Z"
   },
   {
    "duration": 1465,
    "start_time": "2024-06-14T06:38:23.742Z"
   },
   {
    "duration": 95,
    "start_time": "2024-06-14T06:38:25.210Z"
   },
   {
    "duration": 4,
    "start_time": "2024-06-14T06:38:25.307Z"
   },
   {
    "duration": 37,
    "start_time": "2024-06-14T06:38:25.312Z"
   },
   {
    "duration": 27,
    "start_time": "2024-06-14T06:38:25.351Z"
   },
   {
    "duration": 32,
    "start_time": "2024-06-14T06:38:25.380Z"
   },
   {
    "duration": 52,
    "start_time": "2024-06-14T06:38:25.414Z"
   },
   {
    "duration": 66,
    "start_time": "2024-06-14T06:38:25.468Z"
   },
   {
    "duration": 39,
    "start_time": "2024-06-14T06:38:25.538Z"
   },
   {
    "duration": 15,
    "start_time": "2024-06-14T06:38:25.579Z"
   },
   {
    "duration": 43,
    "start_time": "2024-06-14T06:38:25.596Z"
   },
   {
    "duration": 23,
    "start_time": "2024-06-14T06:38:25.640Z"
   },
   {
    "duration": 222,
    "start_time": "2024-06-14T06:38:25.665Z"
   },
   {
    "duration": 5643,
    "start_time": "2024-06-14T06:40:57.711Z"
   },
   {
    "duration": 1472,
    "start_time": "2024-06-14T06:41:03.357Z"
   },
   {
    "duration": 103,
    "start_time": "2024-06-14T06:41:04.831Z"
   },
   {
    "duration": 3,
    "start_time": "2024-06-14T06:41:04.938Z"
   },
   {
    "duration": 11,
    "start_time": "2024-06-14T06:41:04.943Z"
   },
   {
    "duration": 10,
    "start_time": "2024-06-14T06:41:04.956Z"
   },
   {
    "duration": 6,
    "start_time": "2024-06-14T06:41:04.968Z"
   },
   {
    "duration": 5,
    "start_time": "2024-06-14T06:41:04.975Z"
   },
   {
    "duration": 58,
    "start_time": "2024-06-14T06:41:04.982Z"
   },
   {
    "duration": 27,
    "start_time": "2024-06-14T06:41:05.043Z"
   },
   {
    "duration": 4,
    "start_time": "2024-06-14T06:41:05.072Z"
   },
   {
    "duration": 27,
    "start_time": "2024-06-14T06:41:05.078Z"
   },
   {
    "duration": 5,
    "start_time": "2024-06-14T06:41:05.109Z"
   },
   {
    "duration": 224,
    "start_time": "2024-06-14T06:41:05.117Z"
   },
   {
    "duration": 6025,
    "start_time": "2024-06-14T06:44:55.130Z"
   },
   {
    "duration": 1483,
    "start_time": "2024-06-14T06:45:01.159Z"
   },
   {
    "duration": 95,
    "start_time": "2024-06-14T06:45:02.644Z"
   },
   {
    "duration": 143,
    "start_time": "2024-06-14T06:45:02.741Z"
   },
   {
    "duration": 112,
    "start_time": "2024-06-14T06:45:02.886Z"
   },
   {
    "duration": 100,
    "start_time": "2024-06-14T06:45:03.000Z"
   },
   {
    "duration": 47,
    "start_time": "2024-06-14T06:45:03.102Z"
   },
   {
    "duration": 14,
    "start_time": "2024-06-14T06:45:03.151Z"
   },
   {
    "duration": 31,
    "start_time": "2024-06-14T06:45:03.168Z"
   },
   {
    "duration": 28,
    "start_time": "2024-06-14T06:45:03.201Z"
   },
   {
    "duration": 19,
    "start_time": "2024-06-14T06:45:03.231Z"
   },
   {
    "duration": 32,
    "start_time": "2024-06-14T06:45:03.252Z"
   },
   {
    "duration": 11,
    "start_time": "2024-06-14T06:45:03.286Z"
   },
   {
    "duration": 262,
    "start_time": "2024-06-14T06:45:03.299Z"
   },
   {
    "duration": 5850,
    "start_time": "2024-06-14T06:47:32.651Z"
   },
   {
    "duration": 1537,
    "start_time": "2024-06-14T06:47:38.504Z"
   },
   {
    "duration": 101,
    "start_time": "2024-06-14T06:47:40.044Z"
   },
   {
    "duration": 4,
    "start_time": "2024-06-14T06:47:40.148Z"
   },
   {
    "duration": 14,
    "start_time": "2024-06-14T06:47:40.153Z"
   },
   {
    "duration": 6,
    "start_time": "2024-06-14T06:47:40.170Z"
   },
   {
    "duration": 6,
    "start_time": "2024-06-14T06:47:40.178Z"
   },
   {
    "duration": 25,
    "start_time": "2024-06-14T06:47:40.186Z"
   },
   {
    "duration": 34,
    "start_time": "2024-06-14T06:47:40.213Z"
   },
   {
    "duration": 26,
    "start_time": "2024-06-14T06:47:40.250Z"
   },
   {
    "duration": 3,
    "start_time": "2024-06-14T06:47:40.278Z"
   },
   {
    "duration": 26,
    "start_time": "2024-06-14T06:47:40.283Z"
   },
   {
    "duration": 5,
    "start_time": "2024-06-14T06:47:40.311Z"
   },
   {
    "duration": 250,
    "start_time": "2024-06-14T06:47:40.318Z"
   },
   {
    "duration": 17,
    "start_time": "2024-06-14T06:55:55.444Z"
   },
   {
    "duration": 17,
    "start_time": "2024-06-14T06:56:13.194Z"
   },
   {
    "duration": 29,
    "start_time": "2024-06-14T06:57:28.991Z"
   },
   {
    "duration": 16,
    "start_time": "2024-06-14T06:57:32.784Z"
   },
   {
    "duration": 28,
    "start_time": "2024-06-14T06:58:54.302Z"
   },
   {
    "duration": 20,
    "start_time": "2024-06-14T07:08:15.639Z"
   },
   {
    "duration": 22,
    "start_time": "2024-06-14T07:08:32.041Z"
   },
   {
    "duration": 5555,
    "start_time": "2024-06-14T07:08:40.454Z"
   },
   {
    "duration": 1502,
    "start_time": "2024-06-14T07:08:46.012Z"
   },
   {
    "duration": 106,
    "start_time": "2024-06-14T07:08:47.516Z"
   },
   {
    "duration": 4,
    "start_time": "2024-06-14T07:08:47.624Z"
   },
   {
    "duration": 8,
    "start_time": "2024-06-14T07:08:47.630Z"
   },
   {
    "duration": 4,
    "start_time": "2024-06-14T07:08:47.640Z"
   },
   {
    "duration": 16,
    "start_time": "2024-06-14T07:08:47.645Z"
   },
   {
    "duration": 5,
    "start_time": "2024-06-14T07:08:47.663Z"
   },
   {
    "duration": 48,
    "start_time": "2024-06-14T07:08:47.670Z"
   },
   {
    "duration": 134,
    "start_time": "2024-06-14T07:08:47.720Z"
   },
   {
    "duration": 0,
    "start_time": "2024-06-14T07:08:47.856Z"
   },
   {
    "duration": 0,
    "start_time": "2024-06-14T07:08:47.857Z"
   },
   {
    "duration": 0,
    "start_time": "2024-06-14T07:08:47.858Z"
   },
   {
    "duration": 0,
    "start_time": "2024-06-14T07:08:47.860Z"
   },
   {
    "duration": 31,
    "start_time": "2024-06-14T07:10:23.015Z"
   },
   {
    "duration": 4,
    "start_time": "2024-06-14T07:12:19.609Z"
   },
   {
    "duration": 11,
    "start_time": "2024-06-14T07:12:42.522Z"
   },
   {
    "duration": 10,
    "start_time": "2024-06-14T07:28:18.616Z"
   },
   {
    "duration": 4,
    "start_time": "2024-06-14T07:28:37.659Z"
   },
   {
    "duration": 5558,
    "start_time": "2024-06-14T07:28:42.354Z"
   },
   {
    "duration": 1491,
    "start_time": "2024-06-14T07:28:47.916Z"
   },
   {
    "duration": 114,
    "start_time": "2024-06-14T07:28:49.409Z"
   },
   {
    "duration": 4,
    "start_time": "2024-06-14T07:28:49.527Z"
   },
   {
    "duration": 9,
    "start_time": "2024-06-14T07:28:49.534Z"
   },
   {
    "duration": 5,
    "start_time": "2024-06-14T07:28:49.545Z"
   },
   {
    "duration": 7,
    "start_time": "2024-06-14T07:28:49.552Z"
   },
   {
    "duration": 6,
    "start_time": "2024-06-14T07:28:49.560Z"
   },
   {
    "duration": 75,
    "start_time": "2024-06-14T07:28:49.567Z"
   },
   {
    "duration": 138,
    "start_time": "2024-06-14T07:28:49.644Z"
   },
   {
    "duration": 0,
    "start_time": "2024-06-14T07:28:49.784Z"
   },
   {
    "duration": 0,
    "start_time": "2024-06-14T07:28:49.785Z"
   },
   {
    "duration": 0,
    "start_time": "2024-06-14T07:28:49.787Z"
   },
   {
    "duration": 0,
    "start_time": "2024-06-14T07:28:49.788Z"
   },
   {
    "duration": 8,
    "start_time": "2024-06-14T07:29:41.815Z"
   },
   {
    "duration": 5774,
    "start_time": "2024-06-14T07:37:46.966Z"
   },
   {
    "duration": 1504,
    "start_time": "2024-06-14T07:37:52.743Z"
   },
   {
    "duration": 108,
    "start_time": "2024-06-14T07:37:54.250Z"
   },
   {
    "duration": 4,
    "start_time": "2024-06-14T07:37:54.360Z"
   },
   {
    "duration": 27,
    "start_time": "2024-06-14T07:37:54.367Z"
   },
   {
    "duration": 8,
    "start_time": "2024-06-14T07:37:54.396Z"
   },
   {
    "duration": 8,
    "start_time": "2024-06-14T07:37:54.409Z"
   },
   {
    "duration": 13,
    "start_time": "2024-06-14T07:37:54.419Z"
   },
   {
    "duration": 43,
    "start_time": "2024-06-14T07:37:54.434Z"
   },
   {
    "duration": 3,
    "start_time": "2024-06-14T07:37:54.479Z"
   },
   {
    "duration": 27,
    "start_time": "2024-06-14T07:37:54.483Z"
   },
   {
    "duration": 5,
    "start_time": "2024-06-14T07:37:54.512Z"
   },
   {
    "duration": 7802,
    "start_time": "2024-06-14T07:37:54.520Z"
   },
   {
    "duration": 5708,
    "start_time": "2024-06-14T07:38:56.434Z"
   },
   {
    "duration": 1497,
    "start_time": "2024-06-14T07:39:02.145Z"
   },
   {
    "duration": 96,
    "start_time": "2024-06-14T07:39:03.646Z"
   },
   {
    "duration": 5,
    "start_time": "2024-06-14T07:39:03.745Z"
   },
   {
    "duration": 42,
    "start_time": "2024-06-14T07:39:03.752Z"
   },
   {
    "duration": 25,
    "start_time": "2024-06-14T07:39:03.797Z"
   },
   {
    "duration": 15,
    "start_time": "2024-06-14T07:39:03.824Z"
   },
   {
    "duration": 6,
    "start_time": "2024-06-14T07:39:03.842Z"
   },
   {
    "duration": 38,
    "start_time": "2024-06-14T07:39:03.850Z"
   },
   {
    "duration": 3,
    "start_time": "2024-06-14T07:39:03.891Z"
   },
   {
    "duration": 21,
    "start_time": "2024-06-14T07:39:03.896Z"
   },
   {
    "duration": 13,
    "start_time": "2024-06-14T07:39:03.919Z"
   },
   {
    "duration": 125907,
    "start_time": "2024-06-14T07:39:03.934Z"
   },
   {
    "duration": 10120,
    "start_time": "2024-06-14T08:05:00.401Z"
   },
   {
    "duration": 1525,
    "start_time": "2024-06-14T08:05:10.524Z"
   },
   {
    "duration": 100,
    "start_time": "2024-06-14T08:05:12.051Z"
   },
   {
    "duration": 4,
    "start_time": "2024-06-14T08:05:12.153Z"
   },
   {
    "duration": 25,
    "start_time": "2024-06-14T08:05:12.159Z"
   },
   {
    "duration": 4,
    "start_time": "2024-06-14T08:05:12.186Z"
   },
   {
    "duration": 6,
    "start_time": "2024-06-14T08:05:12.191Z"
   },
   {
    "duration": 12,
    "start_time": "2024-06-14T08:05:12.199Z"
   },
   {
    "duration": 38,
    "start_time": "2024-06-14T08:05:12.212Z"
   },
   {
    "duration": 4,
    "start_time": "2024-06-14T08:05:12.254Z"
   },
   {
    "duration": 8,
    "start_time": "2024-06-14T08:05:12.260Z"
   },
   {
    "duration": 11,
    "start_time": "2024-06-14T08:05:12.269Z"
   },
   {
    "duration": 123498,
    "start_time": "2024-06-14T08:05:12.282Z"
   },
   {
    "duration": 50,
    "start_time": "2024-06-14T08:07:15.781Z"
   },
   {
    "duration": 0,
    "start_time": "2024-06-14T08:07:15.833Z"
   },
   {
    "duration": 19,
    "start_time": "2024-06-14T08:08:33.831Z"
   },
   {
    "duration": 219210,
    "start_time": "2024-06-14T08:08:37.102Z"
   },
   {
    "duration": 4,
    "start_time": "2024-06-14T08:33:29.290Z"
   },
   {
    "duration": 22,
    "start_time": "2024-06-14T08:33:47.703Z"
   },
   {
    "duration": 8472,
    "start_time": "2024-06-14T08:48:56.173Z"
   },
   {
    "duration": 1506,
    "start_time": "2024-06-14T08:49:04.648Z"
   },
   {
    "duration": 100,
    "start_time": "2024-06-14T08:49:06.156Z"
   },
   {
    "duration": 4,
    "start_time": "2024-06-14T08:49:06.259Z"
   },
   {
    "duration": 10,
    "start_time": "2024-06-14T08:49:06.264Z"
   },
   {
    "duration": 4,
    "start_time": "2024-06-14T08:49:06.276Z"
   },
   {
    "duration": 29,
    "start_time": "2024-06-14T08:49:06.281Z"
   },
   {
    "duration": 4,
    "start_time": "2024-06-14T08:49:06.311Z"
   },
   {
    "duration": 35,
    "start_time": "2024-06-14T08:49:06.317Z"
   },
   {
    "duration": 3,
    "start_time": "2024-06-14T08:49:06.355Z"
   },
   {
    "duration": 18,
    "start_time": "2024-06-14T08:49:06.359Z"
   },
   {
    "duration": 6,
    "start_time": "2024-06-14T08:49:06.379Z"
   },
   {
    "duration": 8416,
    "start_time": "2024-06-14T08:50:35.926Z"
   },
   {
    "duration": 1495,
    "start_time": "2024-06-14T08:50:44.345Z"
   },
   {
    "duration": 94,
    "start_time": "2024-06-14T08:50:45.842Z"
   },
   {
    "duration": 3,
    "start_time": "2024-06-14T08:50:45.939Z"
   },
   {
    "duration": 10,
    "start_time": "2024-06-14T08:50:45.944Z"
   },
   {
    "duration": 4,
    "start_time": "2024-06-14T08:50:45.956Z"
   },
   {
    "duration": 7,
    "start_time": "2024-06-14T08:50:45.962Z"
   },
   {
    "duration": 5,
    "start_time": "2024-06-14T08:50:45.971Z"
   },
   {
    "duration": 56,
    "start_time": "2024-06-14T08:50:45.978Z"
   },
   {
    "duration": 3,
    "start_time": "2024-06-14T08:50:46.038Z"
   },
   {
    "duration": 38,
    "start_time": "2024-06-14T08:50:46.043Z"
   },
   {
    "duration": 4,
    "start_time": "2024-06-14T08:50:46.082Z"
   },
   {
    "duration": 118147,
    "start_time": "2024-06-14T08:50:46.088Z"
   },
   {
    "duration": 20,
    "start_time": "2024-06-14T08:52:44.237Z"
   },
   {
    "duration": 211566,
    "start_time": "2024-06-14T08:52:44.259Z"
   },
   {
    "duration": 8569,
    "start_time": "2024-06-14T09:00:33.253Z"
   },
   {
    "duration": 1509,
    "start_time": "2024-06-14T09:00:41.825Z"
   },
   {
    "duration": 92,
    "start_time": "2024-06-14T09:00:43.336Z"
   },
   {
    "duration": 4,
    "start_time": "2024-06-14T09:00:43.430Z"
   },
   {
    "duration": 9,
    "start_time": "2024-06-14T09:00:43.436Z"
   },
   {
    "duration": 41,
    "start_time": "2024-06-14T09:00:43.446Z"
   },
   {
    "duration": 31,
    "start_time": "2024-06-14T09:00:43.488Z"
   },
   {
    "duration": 34,
    "start_time": "2024-06-14T09:00:43.521Z"
   },
   {
    "duration": 165,
    "start_time": "2024-06-14T09:00:43.556Z"
   },
   {
    "duration": 0,
    "start_time": "2024-06-14T09:00:43.723Z"
   },
   {
    "duration": 0,
    "start_time": "2024-06-14T09:00:43.724Z"
   },
   {
    "duration": 0,
    "start_time": "2024-06-14T09:00:43.725Z"
   },
   {
    "duration": 0,
    "start_time": "2024-06-14T09:00:43.727Z"
   },
   {
    "duration": 0,
    "start_time": "2024-06-14T09:00:43.728Z"
   },
   {
    "duration": 0,
    "start_time": "2024-06-14T09:00:43.729Z"
   },
   {
    "duration": 8577,
    "start_time": "2024-06-14T09:01:25.285Z"
   },
   {
    "duration": 1479,
    "start_time": "2024-06-14T09:01:33.865Z"
   },
   {
    "duration": 96,
    "start_time": "2024-06-14T09:01:35.346Z"
   },
   {
    "duration": 3,
    "start_time": "2024-06-14T09:01:35.444Z"
   },
   {
    "duration": 14,
    "start_time": "2024-06-14T09:01:35.450Z"
   },
   {
    "duration": 15,
    "start_time": "2024-06-14T09:01:35.466Z"
   },
   {
    "duration": 35,
    "start_time": "2024-06-14T09:01:35.483Z"
   },
   {
    "duration": 18,
    "start_time": "2024-06-14T09:01:35.520Z"
   },
   {
    "duration": 139,
    "start_time": "2024-06-14T09:01:35.540Z"
   },
   {
    "duration": 0,
    "start_time": "2024-06-14T09:01:35.681Z"
   },
   {
    "duration": 0,
    "start_time": "2024-06-14T09:01:35.682Z"
   },
   {
    "duration": 0,
    "start_time": "2024-06-14T09:01:35.683Z"
   },
   {
    "duration": 0,
    "start_time": "2024-06-14T09:01:35.684Z"
   },
   {
    "duration": 0,
    "start_time": "2024-06-14T09:01:35.685Z"
   },
   {
    "duration": 0,
    "start_time": "2024-06-14T09:01:35.686Z"
   },
   {
    "duration": 8478,
    "start_time": "2024-06-14T09:02:13.278Z"
   },
   {
    "duration": 1503,
    "start_time": "2024-06-14T09:02:21.759Z"
   },
   {
    "duration": 96,
    "start_time": "2024-06-14T09:02:23.264Z"
   },
   {
    "duration": 4,
    "start_time": "2024-06-14T09:02:23.362Z"
   },
   {
    "duration": 9,
    "start_time": "2024-06-14T09:02:23.368Z"
   },
   {
    "duration": 11,
    "start_time": "2024-06-14T09:02:23.379Z"
   },
   {
    "duration": 17,
    "start_time": "2024-06-14T09:02:23.392Z"
   },
   {
    "duration": 55,
    "start_time": "2024-06-14T09:02:23.411Z"
   },
   {
    "duration": 50,
    "start_time": "2024-06-14T09:02:23.468Z"
   },
   {
    "duration": 11,
    "start_time": "2024-06-14T09:02:23.520Z"
   },
   {
    "duration": 10,
    "start_time": "2024-06-14T09:02:23.533Z"
   },
   {
    "duration": 19,
    "start_time": "2024-06-14T09:02:23.545Z"
   },
   {
    "duration": 217,
    "start_time": "2024-06-14T09:02:23.566Z"
   },
   {
    "duration": 0,
    "start_time": "2024-06-14T09:02:23.785Z"
   },
   {
    "duration": 0,
    "start_time": "2024-06-14T09:02:23.786Z"
   },
   {
    "duration": 8422,
    "start_time": "2024-06-14T09:04:10.995Z"
   },
   {
    "duration": 1554,
    "start_time": "2024-06-14T09:04:19.421Z"
   },
   {
    "duration": 102,
    "start_time": "2024-06-14T09:04:20.977Z"
   },
   {
    "duration": 4,
    "start_time": "2024-06-14T09:04:21.080Z"
   },
   {
    "duration": 33,
    "start_time": "2024-06-14T09:04:21.087Z"
   },
   {
    "duration": 34,
    "start_time": "2024-06-14T09:04:21.122Z"
   },
   {
    "duration": 29,
    "start_time": "2024-06-14T09:04:21.158Z"
   },
   {
    "duration": 154,
    "start_time": "2024-06-14T09:04:21.190Z"
   },
   {
    "duration": 0,
    "start_time": "2024-06-14T09:04:21.346Z"
   },
   {
    "duration": 0,
    "start_time": "2024-06-14T09:04:21.348Z"
   },
   {
    "duration": 0,
    "start_time": "2024-06-14T09:04:21.350Z"
   },
   {
    "duration": 0,
    "start_time": "2024-06-14T09:04:21.352Z"
   },
   {
    "duration": 0,
    "start_time": "2024-06-14T09:04:21.354Z"
   },
   {
    "duration": 0,
    "start_time": "2024-06-14T09:04:21.355Z"
   },
   {
    "duration": 0,
    "start_time": "2024-06-14T09:04:21.357Z"
   },
   {
    "duration": 0,
    "start_time": "2024-06-14T09:04:21.358Z"
   },
   {
    "duration": 8982,
    "start_time": "2024-06-14T09:04:39.454Z"
   },
   {
    "duration": 1551,
    "start_time": "2024-06-14T09:04:48.440Z"
   },
   {
    "duration": 101,
    "start_time": "2024-06-14T09:04:49.993Z"
   },
   {
    "duration": 3,
    "start_time": "2024-06-14T09:04:50.098Z"
   },
   {
    "duration": 66,
    "start_time": "2024-06-14T09:04:50.103Z"
   },
   {
    "duration": 62,
    "start_time": "2024-06-14T09:04:50.171Z"
   },
   {
    "duration": 11,
    "start_time": "2024-06-14T09:04:50.235Z"
   },
   {
    "duration": 22,
    "start_time": "2024-06-14T09:04:50.248Z"
   },
   {
    "duration": 19,
    "start_time": "2024-06-14T09:04:50.272Z"
   },
   {
    "duration": 30,
    "start_time": "2024-06-14T09:04:50.295Z"
   },
   {
    "duration": 6,
    "start_time": "2024-06-14T09:04:50.327Z"
   },
   {
    "duration": 21,
    "start_time": "2024-06-14T09:04:50.335Z"
   },
   {
    "duration": 4,
    "start_time": "2024-06-14T09:04:50.358Z"
   },
   {
    "duration": 142176,
    "start_time": "2024-06-14T09:04:50.364Z"
   },
   {
    "duration": 32,
    "start_time": "2024-06-14T09:07:12.542Z"
   },
   {
    "duration": 242271,
    "start_time": "2024-06-14T09:07:12.576Z"
   },
   {
    "duration": 8530,
    "start_time": "2024-06-14T10:18:45.199Z"
   },
   {
    "duration": 1534,
    "start_time": "2024-06-14T10:18:53.732Z"
   },
   {
    "duration": 93,
    "start_time": "2024-06-14T10:18:55.268Z"
   },
   {
    "duration": 4,
    "start_time": "2024-06-14T10:18:55.363Z"
   },
   {
    "duration": 29,
    "start_time": "2024-06-14T10:18:55.368Z"
   },
   {
    "duration": 28,
    "start_time": "2024-06-14T10:18:55.399Z"
   },
   {
    "duration": 18,
    "start_time": "2024-06-14T10:18:55.429Z"
   },
   {
    "duration": 25,
    "start_time": "2024-06-14T10:18:55.449Z"
   },
   {
    "duration": 16,
    "start_time": "2024-06-14T10:18:55.476Z"
   },
   {
    "duration": 21,
    "start_time": "2024-06-14T10:18:55.496Z"
   },
   {
    "duration": 4,
    "start_time": "2024-06-14T10:18:55.519Z"
   },
   {
    "duration": 43,
    "start_time": "2024-06-14T10:18:55.525Z"
   },
   {
    "duration": 0,
    "start_time": "2024-06-14T10:18:55.570Z"
   },
   {
    "duration": 0,
    "start_time": "2024-06-14T10:18:55.572Z"
   },
   {
    "duration": 0,
    "start_time": "2024-06-14T10:18:55.574Z"
   },
   {
    "duration": 0,
    "start_time": "2024-06-14T10:18:55.575Z"
   },
   {
    "duration": 8453,
    "start_time": "2024-06-14T10:21:12.874Z"
   },
   {
    "duration": 1518,
    "start_time": "2024-06-14T10:21:21.330Z"
   },
   {
    "duration": 94,
    "start_time": "2024-06-14T10:21:22.849Z"
   },
   {
    "duration": 5,
    "start_time": "2024-06-14T10:21:22.944Z"
   },
   {
    "duration": 14,
    "start_time": "2024-06-14T10:21:22.952Z"
   },
   {
    "duration": 57,
    "start_time": "2024-06-14T10:21:22.968Z"
   },
   {
    "duration": 48,
    "start_time": "2024-06-14T10:21:23.027Z"
   },
   {
    "duration": 33,
    "start_time": "2024-06-14T10:21:23.077Z"
   },
   {
    "duration": 39,
    "start_time": "2024-06-14T10:21:23.112Z"
   },
   {
    "duration": 72,
    "start_time": "2024-06-14T10:21:23.152Z"
   },
   {
    "duration": 9,
    "start_time": "2024-06-14T10:21:23.226Z"
   },
   {
    "duration": 53,
    "start_time": "2024-06-14T10:21:23.237Z"
   },
   {
    "duration": 42,
    "start_time": "2024-06-14T10:21:23.292Z"
   },
   {
    "duration": 168757,
    "start_time": "2024-06-14T10:21:23.337Z"
   },
   {
    "duration": 44,
    "start_time": "2024-06-14T10:24:12.096Z"
   },
   {
    "duration": 289440,
    "start_time": "2024-06-14T10:24:12.142Z"
   },
   {
    "duration": 8540,
    "start_time": "2024-06-14T10:31:52.779Z"
   },
   {
    "duration": 1542,
    "start_time": "2024-06-14T10:32:01.322Z"
   },
   {
    "duration": 97,
    "start_time": "2024-06-14T10:32:02.866Z"
   },
   {
    "duration": 71,
    "start_time": "2024-06-14T10:32:02.965Z"
   },
   {
    "duration": 87,
    "start_time": "2024-06-14T10:32:03.038Z"
   },
   {
    "duration": 29,
    "start_time": "2024-06-14T10:32:03.127Z"
   },
   {
    "duration": 25,
    "start_time": "2024-06-14T10:32:03.158Z"
   },
   {
    "duration": 12,
    "start_time": "2024-06-14T10:32:03.185Z"
   },
   {
    "duration": 17,
    "start_time": "2024-06-14T10:32:03.199Z"
   },
   {
    "duration": 20,
    "start_time": "2024-06-14T10:32:03.219Z"
   },
   {
    "duration": 3,
    "start_time": "2024-06-14T10:32:03.240Z"
   },
   {
    "duration": 5,
    "start_time": "2024-06-14T10:32:03.245Z"
   },
   {
    "duration": 19,
    "start_time": "2024-06-14T10:32:03.252Z"
   },
   {
    "duration": 130322,
    "start_time": "2024-06-14T10:32:03.273Z"
   },
   {
    "duration": 223852,
    "start_time": "2024-06-14T10:34:13.636Z"
   },
   {
    "duration": 42,
    "start_time": "2024-06-14T10:37:57.492Z"
   },
   {
    "duration": 146,
    "start_time": "2024-06-14T10:38:52.332Z"
   },
   {
    "duration": 4,
    "start_time": "2024-06-14T10:39:04.905Z"
   },
   {
    "duration": 10,
    "start_time": "2024-06-14T10:39:13.479Z"
   },
   {
    "duration": 63899,
    "start_time": "2024-06-14T10:39:15.512Z"
   },
   {
    "duration": 49,
    "start_time": "2024-06-14T10:40:53.425Z"
   },
   {
    "duration": 32,
    "start_time": "2024-06-14T10:40:58.869Z"
   },
   {
    "duration": 36,
    "start_time": "2024-06-14T10:44:55.932Z"
   },
   {
    "duration": 225624,
    "start_time": "2024-06-14T10:44:55.970Z"
   },
   {
    "duration": 3,
    "start_time": "2024-06-14T11:03:55.336Z"
   },
   {
    "duration": 8384,
    "start_time": "2024-06-14T11:04:52.900Z"
   },
   {
    "duration": 1566,
    "start_time": "2024-06-14T11:05:01.287Z"
   },
   {
    "duration": 92,
    "start_time": "2024-06-14T11:05:02.856Z"
   },
   {
    "duration": 155,
    "start_time": "2024-06-14T11:05:02.950Z"
   },
   {
    "duration": 9,
    "start_time": "2024-06-14T11:05:03.107Z"
   },
   {
    "duration": 6,
    "start_time": "2024-06-14T11:05:03.118Z"
   },
   {
    "duration": 17,
    "start_time": "2024-06-14T11:05:03.125Z"
   },
   {
    "duration": 14,
    "start_time": "2024-06-14T11:05:03.144Z"
   },
   {
    "duration": 7,
    "start_time": "2024-06-14T11:05:03.159Z"
   },
   {
    "duration": 34,
    "start_time": "2024-06-14T11:05:03.169Z"
   },
   {
    "duration": 11,
    "start_time": "2024-06-14T11:05:03.204Z"
   },
   {
    "duration": 31,
    "start_time": "2024-06-14T11:05:03.217Z"
   },
   {
    "duration": 3,
    "start_time": "2024-06-14T11:05:03.250Z"
   },
   {
    "duration": 128711,
    "start_time": "2024-06-14T11:05:03.255Z"
   },
   {
    "duration": 4,
    "start_time": "2024-06-14T11:07:11.968Z"
   },
   {
    "duration": 8435,
    "start_time": "2024-06-14T11:09:28.583Z"
   },
   {
    "duration": 1519,
    "start_time": "2024-06-14T11:09:37.021Z"
   },
   {
    "duration": 94,
    "start_time": "2024-06-14T11:09:38.542Z"
   },
   {
    "duration": 3,
    "start_time": "2024-06-14T11:09:38.638Z"
   },
   {
    "duration": 6,
    "start_time": "2024-06-14T11:09:38.645Z"
   },
   {
    "duration": 4,
    "start_time": "2024-06-14T11:09:38.653Z"
   },
   {
    "duration": 8,
    "start_time": "2024-06-14T11:09:38.658Z"
   },
   {
    "duration": 8,
    "start_time": "2024-06-14T11:09:38.668Z"
   },
   {
    "duration": 8,
    "start_time": "2024-06-14T11:09:38.677Z"
   },
   {
    "duration": 19,
    "start_time": "2024-06-14T11:09:38.710Z"
   },
   {
    "duration": 3,
    "start_time": "2024-06-14T11:09:38.731Z"
   },
   {
    "duration": 6,
    "start_time": "2024-06-14T11:09:38.736Z"
   },
   {
    "duration": 6,
    "start_time": "2024-06-14T11:09:38.744Z"
   },
   {
    "duration": 128661,
    "start_time": "2024-06-14T11:09:38.754Z"
   },
   {
    "duration": 3,
    "start_time": "2024-06-14T11:11:47.417Z"
   },
   {
    "duration": 294390,
    "start_time": "2024-06-14T11:11:47.421Z"
   },
   {
    "duration": 8454,
    "start_time": "2024-06-14T11:20:19.959Z"
   },
   {
    "duration": 1538,
    "start_time": "2024-06-14T11:20:28.416Z"
   },
   {
    "duration": 96,
    "start_time": "2024-06-14T11:20:29.956Z"
   },
   {
    "duration": 4,
    "start_time": "2024-06-14T11:20:30.054Z"
   },
   {
    "duration": 148,
    "start_time": "2024-06-14T11:20:30.061Z"
   },
   {
    "duration": 72,
    "start_time": "2024-06-14T11:20:30.210Z"
   },
   {
    "duration": 101,
    "start_time": "2024-06-14T11:20:30.284Z"
   },
   {
    "duration": 34,
    "start_time": "2024-06-14T11:20:30.386Z"
   },
   {
    "duration": 42,
    "start_time": "2024-06-14T11:20:30.422Z"
   },
   {
    "duration": 99,
    "start_time": "2024-06-14T11:20:30.466Z"
   },
   {
    "duration": 80,
    "start_time": "2024-06-14T11:20:30.567Z"
   },
   {
    "duration": 45,
    "start_time": "2024-06-14T11:20:30.649Z"
   },
   {
    "duration": 98,
    "start_time": "2024-06-14T11:20:30.696Z"
   },
   {
    "duration": 128018,
    "start_time": "2024-06-14T11:20:30.798Z"
   },
   {
    "duration": 3,
    "start_time": "2024-06-14T11:22:38.818Z"
   },
   {
    "duration": 285769,
    "start_time": "2024-06-14T11:22:38.822Z"
   },
   {
    "duration": 286903,
    "start_time": "2024-06-14T11:32:11.105Z"
   },
   {
    "duration": 8438,
    "start_time": "2024-06-14T11:46:03.626Z"
   },
   {
    "duration": 1384,
    "start_time": "2024-06-14T11:46:12.067Z"
   },
   {
    "duration": 102,
    "start_time": "2024-06-14T11:46:13.453Z"
   },
   {
    "duration": 4,
    "start_time": "2024-06-14T11:46:13.557Z"
   },
   {
    "duration": 16,
    "start_time": "2024-06-14T11:46:13.562Z"
   },
   {
    "duration": 4,
    "start_time": "2024-06-14T11:46:13.580Z"
   },
   {
    "duration": 11,
    "start_time": "2024-06-14T11:46:13.586Z"
   },
   {
    "duration": 15,
    "start_time": "2024-06-14T11:46:13.599Z"
   },
   {
    "duration": 4,
    "start_time": "2024-06-14T11:46:13.616Z"
   },
   {
    "duration": 19,
    "start_time": "2024-06-14T11:46:13.623Z"
   },
   {
    "duration": 4,
    "start_time": "2024-06-14T11:46:13.643Z"
   },
   {
    "duration": 20,
    "start_time": "2024-06-14T11:46:13.649Z"
   },
   {
    "duration": 20,
    "start_time": "2024-06-14T11:46:13.671Z"
   },
   {
    "duration": 129446,
    "start_time": "2024-06-14T11:46:13.692Z"
   },
   {
    "duration": 3,
    "start_time": "2024-06-14T11:48:23.139Z"
   },
   {
    "duration": 287258,
    "start_time": "2024-06-14T11:48:23.144Z"
   },
   {
    "duration": 158,
    "start_time": "2024-06-14T11:59:39.693Z"
   },
   {
    "duration": 1286,
    "start_time": "2024-06-14T12:00:43.135Z"
   },
   {
    "duration": 6,
    "start_time": "2024-06-14T12:51:53.920Z"
   },
   {
    "duration": 4,
    "start_time": "2024-06-14T12:52:02.877Z"
   },
   {
    "duration": 10,
    "start_time": "2024-06-14T12:53:34.534Z"
   },
   {
    "duration": 51,
    "start_time": "2024-06-14T12:53:54.770Z"
   },
   {
    "duration": 54,
    "start_time": "2024-06-14T12:53:57.995Z"
   },
   {
    "duration": 273,
    "start_time": "2024-06-14T12:54:13.030Z"
   },
   {
    "duration": 172,
    "start_time": "2024-06-14T12:54:17.426Z"
   },
   {
    "duration": 134,
    "start_time": "2024-06-14T12:55:18.041Z"
   },
   {
    "duration": 190,
    "start_time": "2024-06-14T12:56:20.026Z"
   },
   {
    "duration": 185,
    "start_time": "2024-06-14T12:56:28.057Z"
   },
   {
    "duration": 164,
    "start_time": "2024-06-14T12:56:35.806Z"
   },
   {
    "duration": 146,
    "start_time": "2024-06-14T12:56:42.512Z"
   },
   {
    "duration": 4,
    "start_time": "2024-06-14T12:58:31.235Z"
   },
   {
    "duration": 12,
    "start_time": "2024-06-14T12:59:22.902Z"
   }
  ],
  "kernelspec": {
   "display_name": "Python 3 (ipykernel)",
   "language": "python",
   "name": "python3"
  },
  "language_info": {
   "codemirror_mode": {
    "name": "ipython",
    "version": 3
   },
   "file_extension": ".py",
   "mimetype": "text/x-python",
   "name": "python",
   "nbconvert_exporter": "python",
   "pygments_lexer": "ipython3",
   "version": "3.9.5"
  },
  "toc": {
   "base_numbering": 1,
   "nav_menu": {},
   "number_sections": true,
   "sideBar": true,
   "skip_h1_title": true,
   "title_cell": "Table of Contents",
   "title_sidebar": "Contents",
   "toc_cell": false,
   "toc_position": {},
   "toc_section_display": true,
   "toc_window_display": false
  }
 },
 "nbformat": 4,
 "nbformat_minor": 5
}
