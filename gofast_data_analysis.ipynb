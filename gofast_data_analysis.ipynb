{
 "cells": [
  {
   "cell_type": "markdown",
   "id": "4464d0d3",
   "metadata": {},
   "source": [
    "## Загрузка данных"
   ]
  },
  {
   "cell_type": "code",
   "execution_count": 1,
   "id": "ab63d62a",
   "metadata": {},
   "outputs": [],
   "source": [
    "# Импорт библиотек\n",
    "import pandas as pd\n",
    "import matplotlib.pyplot as plt\n",
    "import numpy as np\n",
    "import scipy.stats as st"
   ]
  },
  {
   "cell_type": "code",
   "execution_count": 2,
   "id": "8ac068a2",
   "metadata": {},
   "outputs": [],
   "source": [
    "# Пути к файлам\n",
    "users_file = '/datasets/users_go.csv'\n",
    "rides_file = '/datasets/rides_go.csv'\n",
    "subscriptions_file = '/datasets/subscriptions_go.csv'"
   ]
  },
  {
   "cell_type": "code",
   "execution_count": 3,
   "id": "c5b20453",
   "metadata": {},
   "outputs": [],
   "source": [
    "# Функции для загрузки и просмотра данных\n",
    "def load_data(file_path):\n",
    "    \"\"\"\n",
    "    Загружает данные из CSV-файла в DataFrame.\n",
    "    \n",
    "    :param file_path: путь к CSV-файлу\n",
    "    :return: DataFrame с загруженными данными\n",
    "    \"\"\"\n",
    "    return pd.read_csv(file_path)\n",
    "\n",
    "def display_data(df, df_name, n=5):\n",
    "    \"\"\"\n",
    "    Выводит первые строки DataFrame и общую информацию о нем.\n",
    "    \n",
    "    :param df: DataFrame для отображения\n",
    "    :param df_name: Имя DataFrame для отображения в заголовке\n",
    "    :param n: количество строк для отображения (по умолчанию 5)\n",
    "    \"\"\"\n",
    "    print(f\"{df_name} DataFrame\")\n",
    "    print(\"\\nПервые строки DataFrame:\")\n",
    "    display(df.head(n))\n",
    "    print(\"\\nОбщая информация о DataFrame:\\n\")\n",
    "    df.info()\n",
    "    print(\"\\n\" + \"=\"*50 + \"\\n\")"
   ]
  },
  {
   "cell_type": "code",
   "execution_count": 4,
   "id": "4fa41e4a",
   "metadata": {},
   "outputs": [],
   "source": [
    "# Загрузка данных\n",
    "users_df = load_data(users_file)\n",
    "rides_df = load_data(rides_file)\n",
    "subscriptions_df = load_data(subscriptions_file)"
   ]
  },
  {
   "cell_type": "code",
   "execution_count": 5,
   "id": "62d90a33",
   "metadata": {},
   "outputs": [
    {
     "name": "stdout",
     "output_type": "stream",
     "text": [
      "Users DataFrame\n",
      "\n",
      "Первые строки DataFrame:\n"
     ]
    },
    {
     "data": {
      "text/html": [
       "<div>\n",
       "<style scoped>\n",
       "    .dataframe tbody tr th:only-of-type {\n",
       "        vertical-align: middle;\n",
       "    }\n",
       "\n",
       "    .dataframe tbody tr th {\n",
       "        vertical-align: top;\n",
       "    }\n",
       "\n",
       "    .dataframe thead th {\n",
       "        text-align: right;\n",
       "    }\n",
       "</style>\n",
       "<table border=\"1\" class=\"dataframe\">\n",
       "  <thead>\n",
       "    <tr style=\"text-align: right;\">\n",
       "      <th></th>\n",
       "      <th>user_id</th>\n",
       "      <th>name</th>\n",
       "      <th>age</th>\n",
       "      <th>city</th>\n",
       "      <th>subscription_type</th>\n",
       "    </tr>\n",
       "  </thead>\n",
       "  <tbody>\n",
       "    <tr>\n",
       "      <th>0</th>\n",
       "      <td>1</td>\n",
       "      <td>Кира</td>\n",
       "      <td>22</td>\n",
       "      <td>Тюмень</td>\n",
       "      <td>ultra</td>\n",
       "    </tr>\n",
       "    <tr>\n",
       "      <th>1</th>\n",
       "      <td>2</td>\n",
       "      <td>Станислав</td>\n",
       "      <td>31</td>\n",
       "      <td>Омск</td>\n",
       "      <td>ultra</td>\n",
       "    </tr>\n",
       "    <tr>\n",
       "      <th>2</th>\n",
       "      <td>3</td>\n",
       "      <td>Алексей</td>\n",
       "      <td>20</td>\n",
       "      <td>Москва</td>\n",
       "      <td>ultra</td>\n",
       "    </tr>\n",
       "    <tr>\n",
       "      <th>3</th>\n",
       "      <td>4</td>\n",
       "      <td>Константин</td>\n",
       "      <td>26</td>\n",
       "      <td>Ростов-на-Дону</td>\n",
       "      <td>ultra</td>\n",
       "    </tr>\n",
       "    <tr>\n",
       "      <th>4</th>\n",
       "      <td>5</td>\n",
       "      <td>Адель</td>\n",
       "      <td>28</td>\n",
       "      <td>Омск</td>\n",
       "      <td>ultra</td>\n",
       "    </tr>\n",
       "  </tbody>\n",
       "</table>\n",
       "</div>"
      ],
      "text/plain": [
       "   user_id        name  age            city subscription_type\n",
       "0        1        Кира   22          Тюмень             ultra\n",
       "1        2   Станислав   31            Омск             ultra\n",
       "2        3     Алексей   20          Москва             ultra\n",
       "3        4  Константин   26  Ростов-на-Дону             ultra\n",
       "4        5       Адель   28            Омск             ultra"
      ]
     },
     "metadata": {},
     "output_type": "display_data"
    },
    {
     "name": "stdout",
     "output_type": "stream",
     "text": [
      "\n",
      "Общая информация о DataFrame:\n",
      "\n",
      "<class 'pandas.core.frame.DataFrame'>\n",
      "RangeIndex: 1565 entries, 0 to 1564\n",
      "Data columns (total 5 columns):\n",
      " #   Column             Non-Null Count  Dtype \n",
      "---  ------             --------------  ----- \n",
      " 0   user_id            1565 non-null   int64 \n",
      " 1   name               1565 non-null   object\n",
      " 2   age                1565 non-null   int64 \n",
      " 3   city               1565 non-null   object\n",
      " 4   subscription_type  1565 non-null   object\n",
      "dtypes: int64(2), object(3)\n",
      "memory usage: 61.3+ KB\n",
      "\n",
      "==================================================\n",
      "\n",
      "Rides DataFrame\n",
      "\n",
      "Первые строки DataFrame:\n"
     ]
    },
    {
     "data": {
      "text/html": [
       "<div>\n",
       "<style scoped>\n",
       "    .dataframe tbody tr th:only-of-type {\n",
       "        vertical-align: middle;\n",
       "    }\n",
       "\n",
       "    .dataframe tbody tr th {\n",
       "        vertical-align: top;\n",
       "    }\n",
       "\n",
       "    .dataframe thead th {\n",
       "        text-align: right;\n",
       "    }\n",
       "</style>\n",
       "<table border=\"1\" class=\"dataframe\">\n",
       "  <thead>\n",
       "    <tr style=\"text-align: right;\">\n",
       "      <th></th>\n",
       "      <th>user_id</th>\n",
       "      <th>distance</th>\n",
       "      <th>duration</th>\n",
       "      <th>date</th>\n",
       "    </tr>\n",
       "  </thead>\n",
       "  <tbody>\n",
       "    <tr>\n",
       "      <th>0</th>\n",
       "      <td>1</td>\n",
       "      <td>4409.919140</td>\n",
       "      <td>25.599769</td>\n",
       "      <td>2021-01-01</td>\n",
       "    </tr>\n",
       "    <tr>\n",
       "      <th>1</th>\n",
       "      <td>1</td>\n",
       "      <td>2617.592153</td>\n",
       "      <td>15.816871</td>\n",
       "      <td>2021-01-18</td>\n",
       "    </tr>\n",
       "    <tr>\n",
       "      <th>2</th>\n",
       "      <td>1</td>\n",
       "      <td>754.159807</td>\n",
       "      <td>6.232113</td>\n",
       "      <td>2021-04-20</td>\n",
       "    </tr>\n",
       "    <tr>\n",
       "      <th>3</th>\n",
       "      <td>1</td>\n",
       "      <td>2694.783254</td>\n",
       "      <td>18.511000</td>\n",
       "      <td>2021-08-11</td>\n",
       "    </tr>\n",
       "    <tr>\n",
       "      <th>4</th>\n",
       "      <td>1</td>\n",
       "      <td>4028.687306</td>\n",
       "      <td>26.265803</td>\n",
       "      <td>2021-08-28</td>\n",
       "    </tr>\n",
       "  </tbody>\n",
       "</table>\n",
       "</div>"
      ],
      "text/plain": [
       "   user_id     distance   duration        date\n",
       "0        1  4409.919140  25.599769  2021-01-01\n",
       "1        1  2617.592153  15.816871  2021-01-18\n",
       "2        1   754.159807   6.232113  2021-04-20\n",
       "3        1  2694.783254  18.511000  2021-08-11\n",
       "4        1  4028.687306  26.265803  2021-08-28"
      ]
     },
     "metadata": {},
     "output_type": "display_data"
    },
    {
     "name": "stdout",
     "output_type": "stream",
     "text": [
      "\n",
      "Общая информация о DataFrame:\n",
      "\n",
      "<class 'pandas.core.frame.DataFrame'>\n",
      "RangeIndex: 18068 entries, 0 to 18067\n",
      "Data columns (total 4 columns):\n",
      " #   Column    Non-Null Count  Dtype  \n",
      "---  ------    --------------  -----  \n",
      " 0   user_id   18068 non-null  int64  \n",
      " 1   distance  18068 non-null  float64\n",
      " 2   duration  18068 non-null  float64\n",
      " 3   date      18068 non-null  object \n",
      "dtypes: float64(2), int64(1), object(1)\n",
      "memory usage: 564.8+ KB\n",
      "\n",
      "==================================================\n",
      "\n",
      "Subscriptions DataFrame\n",
      "\n",
      "Первые строки DataFrame:\n"
     ]
    },
    {
     "data": {
      "text/html": [
       "<div>\n",
       "<style scoped>\n",
       "    .dataframe tbody tr th:only-of-type {\n",
       "        vertical-align: middle;\n",
       "    }\n",
       "\n",
       "    .dataframe tbody tr th {\n",
       "        vertical-align: top;\n",
       "    }\n",
       "\n",
       "    .dataframe thead th {\n",
       "        text-align: right;\n",
       "    }\n",
       "</style>\n",
       "<table border=\"1\" class=\"dataframe\">\n",
       "  <thead>\n",
       "    <tr style=\"text-align: right;\">\n",
       "      <th></th>\n",
       "      <th>subscription_type</th>\n",
       "      <th>minute_price</th>\n",
       "      <th>start_ride_price</th>\n",
       "      <th>subscription_fee</th>\n",
       "    </tr>\n",
       "  </thead>\n",
       "  <tbody>\n",
       "    <tr>\n",
       "      <th>0</th>\n",
       "      <td>free</td>\n",
       "      <td>8</td>\n",
       "      <td>50</td>\n",
       "      <td>0</td>\n",
       "    </tr>\n",
       "    <tr>\n",
       "      <th>1</th>\n",
       "      <td>ultra</td>\n",
       "      <td>6</td>\n",
       "      <td>0</td>\n",
       "      <td>199</td>\n",
       "    </tr>\n",
       "  </tbody>\n",
       "</table>\n",
       "</div>"
      ],
      "text/plain": [
       "  subscription_type  minute_price  start_ride_price  subscription_fee\n",
       "0              free             8                50                 0\n",
       "1             ultra             6                 0               199"
      ]
     },
     "metadata": {},
     "output_type": "display_data"
    },
    {
     "name": "stdout",
     "output_type": "stream",
     "text": [
      "\n",
      "Общая информация о DataFrame:\n",
      "\n",
      "<class 'pandas.core.frame.DataFrame'>\n",
      "RangeIndex: 2 entries, 0 to 1\n",
      "Data columns (total 4 columns):\n",
      " #   Column             Non-Null Count  Dtype \n",
      "---  ------             --------------  ----- \n",
      " 0   subscription_type  2 non-null      object\n",
      " 1   minute_price       2 non-null      int64 \n",
      " 2   start_ride_price   2 non-null      int64 \n",
      " 3   subscription_fee   2 non-null      int64 \n",
      "dtypes: int64(3), object(1)\n",
      "memory usage: 192.0+ bytes\n",
      "\n",
      "==================================================\n",
      "\n"
     ]
    }
   ],
   "source": [
    "# Отображение данных\n",
    "display_data(users_df, \"Users\")\n",
    "display_data(rides_df, \"Rides\")\n",
    "display_data(subscriptions_df, \"Subscriptions\")"
   ]
  },
  {
   "cell_type": "markdown",
   "id": "67d6ed8c",
   "metadata": {},
   "source": [
    "**Вывод:**\n",
    "\n",
    "В данных отсутствуют пропущенные значения. Замена типа данных столбца \"date\" на \"datetime\" упростит операции с датами в дальнейшей работе."
   ]
  },
  {
   "cell_type": "markdown",
   "id": "404ca5a1",
   "metadata": {},
   "source": [
    "## Предобработка данных"
   ]
  },
  {
   "cell_type": "code",
   "execution_count": 6,
   "id": "9044c725",
   "metadata": {},
   "outputs": [
    {
     "name": "stdout",
     "output_type": "stream",
     "text": [
      "Тип столбца 'date' после преобразования: datetime64[ns]\n"
     ]
    }
   ],
   "source": [
    "# Приведение столбца \"date\" к типу данных даты\n",
    "rides_df['date'] = pd.to_datetime(rides_df['date'])\n",
    "\n",
    "# Сделаем проверку\n",
    "print(\"Тип столбца 'date' после преобразования:\", rides_df['date'].dtype)"
   ]
  },
  {
   "cell_type": "code",
   "execution_count": 7,
   "id": "ff1b7b61",
   "metadata": {},
   "outputs": [
    {
     "data": {
      "text/html": [
       "<div>\n",
       "<style scoped>\n",
       "    .dataframe tbody tr th:only-of-type {\n",
       "        vertical-align: middle;\n",
       "    }\n",
       "\n",
       "    .dataframe tbody tr th {\n",
       "        vertical-align: top;\n",
       "    }\n",
       "\n",
       "    .dataframe thead th {\n",
       "        text-align: right;\n",
       "    }\n",
       "</style>\n",
       "<table border=\"1\" class=\"dataframe\">\n",
       "  <thead>\n",
       "    <tr style=\"text-align: right;\">\n",
       "      <th></th>\n",
       "      <th>user_id</th>\n",
       "      <th>distance</th>\n",
       "      <th>duration</th>\n",
       "      <th>date</th>\n",
       "      <th>month</th>\n",
       "    </tr>\n",
       "  </thead>\n",
       "  <tbody>\n",
       "    <tr>\n",
       "      <th>0</th>\n",
       "      <td>1</td>\n",
       "      <td>4409.919140</td>\n",
       "      <td>25.599769</td>\n",
       "      <td>2021-01-01</td>\n",
       "      <td>1</td>\n",
       "    </tr>\n",
       "    <tr>\n",
       "      <th>1</th>\n",
       "      <td>1</td>\n",
       "      <td>2617.592153</td>\n",
       "      <td>15.816871</td>\n",
       "      <td>2021-01-18</td>\n",
       "      <td>1</td>\n",
       "    </tr>\n",
       "    <tr>\n",
       "      <th>2</th>\n",
       "      <td>1</td>\n",
       "      <td>754.159807</td>\n",
       "      <td>6.232113</td>\n",
       "      <td>2021-04-20</td>\n",
       "      <td>4</td>\n",
       "    </tr>\n",
       "    <tr>\n",
       "      <th>3</th>\n",
       "      <td>1</td>\n",
       "      <td>2694.783254</td>\n",
       "      <td>18.511000</td>\n",
       "      <td>2021-08-11</td>\n",
       "      <td>8</td>\n",
       "    </tr>\n",
       "    <tr>\n",
       "      <th>4</th>\n",
       "      <td>1</td>\n",
       "      <td>4028.687306</td>\n",
       "      <td>26.265803</td>\n",
       "      <td>2021-08-28</td>\n",
       "      <td>8</td>\n",
       "    </tr>\n",
       "  </tbody>\n",
       "</table>\n",
       "</div>"
      ],
      "text/plain": [
       "   user_id     distance   duration       date  month\n",
       "0        1  4409.919140  25.599769 2021-01-01      1\n",
       "1        1  2617.592153  15.816871 2021-01-18      1\n",
       "2        1   754.159807   6.232113 2021-04-20      4\n",
       "3        1  2694.783254  18.511000 2021-08-11      8\n",
       "4        1  4028.687306  26.265803 2021-08-28      8"
      ]
     },
     "metadata": {},
     "output_type": "display_data"
    }
   ],
   "source": [
    "# Создание нового столбца с номером месяца\n",
    "rides_df['month'] = rides_df['date'].dt.month\n",
    "\n",
    "# Вывод первых строк DataFrame для проверки\n",
    "display(rides_df.head())"
   ]
  },
  {
   "cell_type": "code",
   "execution_count": 8,
   "id": "d51508a3",
   "metadata": {},
   "outputs": [
    {
     "name": "stdout",
     "output_type": "stream",
     "text": [
      "Период данных: с 2021-01 по 2021-12\n",
      "Количество месяцев: 12\n"
     ]
    }
   ],
   "source": [
    "# Определение минимальной и максимальной даты\n",
    "min_date = pd.to_datetime(rides_df['date'].min())\n",
    "max_date = pd.to_datetime(rides_df['date'].max())\n",
    "\n",
    "# Подсчет количества месяцев за период доступных данных\n",
    "months_count = (max_date.year - min_date.year) * 12 + max_date.month - min_date.month + 1\n",
    "\n",
    "# Вывод периода данных и количества месяцев\n",
    "print(f\"Период данных: с {min_date.strftime('%Y-%m')} по {max_date.strftime('%Y-%m')}\")\n",
    "print(f\"Количество месяцев: {months_count}\")"
   ]
  },
  {
   "cell_type": "code",
   "execution_count": 9,
   "id": "22ccd131",
   "metadata": {},
   "outputs": [
    {
     "name": "stdout",
     "output_type": "stream",
     "text": [
      "==================================================\n",
      "Информация о DataFrame 'Users':\n",
      "Количество пропущенных значений: 0\n",
      "Количество явных дубликатов: 31\n",
      "==================================================\n",
      "==================================================\n",
      "Информация о DataFrame 'Rides':\n",
      "Количество пропущенных значений: 0\n",
      "Количество явных дубликатов: 0\n",
      "==================================================\n",
      "==================================================\n",
      "Информация о DataFrame 'Subscriptions':\n",
      "Количество пропущенных значений: 0\n",
      "Количество явных дубликатов: 0\n",
      "==================================================\n"
     ]
    }
   ],
   "source": [
    "def check_data(df_name, df):\n",
    "    \"\"\"\n",
    "    Выводит количество явных дубликатов и пропусков в DataFrame.\n",
    "\n",
    "    :param df_name: Название DataFrame для вывода\n",
    "    :param df: DataFrame для проверки\n",
    "    \"\"\"\n",
    "    print(\"=\" * 50)\n",
    "    print(f\"Информация о DataFrame '{df_name}':\")\n",
    "    \n",
    "    # Проверка наличия пропущенных значений в данных\n",
    "    missing_values_count = df.isnull().sum().sum()\n",
    "    print(f\"Количество пропущенных значений: {missing_values_count}\")\n",
    "    \n",
    "    # Проверка наличия дубликатов в данных\n",
    "    duplicates_count = df.duplicated().sum()\n",
    "    print(f\"Количество явных дубликатов: {duplicates_count}\")\n",
    "    print(\"=\" * 50)\n",
    "\n",
    "# Пример использования функции для каждого DataFrame\n",
    "check_data(\"Users\", users_df)\n",
    "check_data(\"Rides\", rides_df)\n",
    "check_data(\"Subscriptions\", subscriptions_df)"
   ]
  },
  {
   "cell_type": "code",
   "execution_count": 10,
   "id": "27a0b3b6",
   "metadata": {},
   "outputs": [
    {
     "name": "stdout",
     "output_type": "stream",
     "text": [
      "Количество дубликатов в DataFrame 'Users': 0\n"
     ]
    }
   ],
   "source": [
    "# Удаление дубликатов из DataFrame с пользователями\n",
    "users_df.drop_duplicates(inplace=True)\n",
    "\n",
    "# Проверка\n",
    "duplicates_count = users_df.duplicated().sum()\n",
    "print(f\"Количество дубликатов в DataFrame 'Users': {duplicates_count}\")"
   ]
  },
  {
   "cell_type": "markdown",
   "id": "8efd6311",
   "metadata": {},
   "source": [
    "**Вывод:**\n",
    "\n",
    "1. Столбец 'date' был приведён к типу даты pandas.\n",
    "2. В данных с поездками был создан новый столбец 'month', содержащий номер месяца для каждой поездки.\n",
    "3. Данные доступны за 12 месяцев, с января 2021 года по декабрь 2021 года.\n",
    "4. Пропущенные значения в датафреймах отсутствуют.\n",
    "5. В результате проверки данных о пользователях было выявлено 31 дублирующихся записей, которые успешно удалены. В остальных данных дубликатов не обнаружено."
   ]
  },
  {
   "cell_type": "markdown",
   "id": "2c415b41",
   "metadata": {},
   "source": [
    "## Исследовательский анализ данных"
   ]
  },
  {
   "cell_type": "markdown",
   "id": "4d2f3c5f",
   "metadata": {},
   "source": [
    "### Частота встречаемости городов"
   ]
  },
  {
   "cell_type": "code",
   "execution_count": 11,
   "id": "6b715cec",
   "metadata": {},
   "outputs": [
    {
     "data": {
      "image/png": "[encoded data removed]",
      "text/plain": [
       "<Figure size 720x432 with 1 Axes>"
      ]
     },
     "metadata": {
      "needs_background": "light"
     },
     "output_type": "display_data"
    },
    {
     "name": "stdout",
     "output_type": "stream",
     "text": [
      "Общее количество пользователей сервиса: 1534\n",
      "Пятигорск         219\n",
      "Екатеринбург      204\n",
      "Ростов-на-Дону    198\n",
      "Краснодар         193\n",
      "Сочи              189\n",
      "Омск              183\n",
      "Тюмень            180\n",
      "Москва            168\n",
      "Name: city, dtype: int64\n"
     ]
    }
   ],
   "source": [
    "# Подсчет частоты встречаемости городов и сортировка по убыванию\n",
    "city_counts = users_df['city'].value_counts()\n",
    "\n",
    "# Визуализация частоты встречаемости городов\n",
    "city_counts.sort_values().plot(kind='barh', color='blue', figsize=(10, 6), \n",
    "                               title='Частота встречаемости городов')\n",
    "plt.xlabel('Количество пользователей')\n",
    "plt.ylabel('Город')\n",
    "plt.grid(axis='x', linestyle='--', alpha=1)\n",
    "plt.show()\n",
    "\n",
    "total_users = users_df.shape[0]\n",
    "\n",
    "# Общее количество пользователей во всех городах\n",
    "print(f'Общее количество пользователей сервиса: {total_users}')\n",
    "\n",
    "# Вывод количества пользователей в каждом городе\n",
    "print(city_counts)"
   ]
  },
  {
   "cell_type": "markdown",
   "id": "90534519",
   "metadata": {},
   "source": [
    "Всего сервисом GoFast пользуются 1534 человека в 8 городах, особой популярностью сервис пользуется в городе Пятигорск - 219 пользователей.\n",
    "\n",
    "Меньшая популярность в Москве - 168 пользователей. Стоит отметить, что во всех городах примерно одинаковое количество пользователей."
   ]
  },
  {
   "cell_type": "markdown",
   "id": "73c7fc4b",
   "metadata": {},
   "source": [
    "### Cоотношение пользователей с подпиской и без подписки"
   ]
  },
  {
   "cell_type": "code",
   "execution_count": 12,
   "id": "4450e596",
   "metadata": {},
   "outputs": [
    {
     "data": {
      "image/png": "[encoded data removed]",
      "text/plain": [
       "<Figure size 504x504 with 1 Axes>"
      ]
     },
     "metadata": {},
     "output_type": "display_data"
    },
    {
     "name": "stdout",
     "output_type": "stream",
     "text": [
      "Пользователей с подпиской: 699 (45.57%), пользователей без подписки: 835 (54.43%)\n"
     ]
    }
   ],
   "source": [
    "# Подсчет количества пользователей с подпиской и без подписки\n",
    "subscription_counts = users_df['subscription_type'].value_counts()\n",
    "\n",
    "# Визуализация соотношения пользователей с подпиской и без подписки\n",
    "plt.figure(figsize=(7, 7))\n",
    "subscription_counts.plot(\n",
    "    kind='pie',\n",
    "    labels=['Без подписки', 'С подпиской'],\n",
    "    autopct='%1.2f%%',\n",
    "    wedgeprops={'linewidth': 1, 'edgecolor': 'white'},\n",
    "    colors=['lightcoral', 'lightgreen'],\n",
    "    startangle=140,\n",
    "    explode=[0.1, 0]  # Сдвиг части \"Без подписки\" для выделения\n",
    ")\n",
    "plt.title('Соотношение пользователей с подпиской и без подписки')\n",
    "plt.ylabel('')\n",
    "plt.show()\n",
    "\n",
    "# Получение значений\n",
    "users_with_ultra = subscription_counts['ultra']\n",
    "users_with_free = subscription_counts['free']\n",
    "\n",
    "# Вывод количества пользователей с подпиской и без подписки\n",
    "print(f'Пользователей с подпиской: {users_with_ultra} ({users_with_ultra / total_users * 100:.2f}%), пользователей без подписки: {users_with_free} ({users_with_free / total_users * 100:.2f}%)')"
   ]
  },
  {
   "cell_type": "markdown",
   "id": "1018a3bd",
   "metadata": {},
   "source": [
    "Общее количество пользователей составляет 1534. Из них 699 пользователей (45.57%) имеют подписку, в то время как 835 пользователей (54.43%) не имеют подписки. Таким образом, пользователи с подпиской составляют менее половины общего числа пользователей."
   ]
  },
  {
   "cell_type": "markdown",
   "id": "afa8d3f8",
   "metadata": {},
   "source": [
    "### Возраст пользователей"
   ]
  },
  {
   "cell_type": "code",
   "execution_count": 13,
   "id": "774f6332",
   "metadata": {},
   "outputs": [
    {
     "data": {
      "image/png": "[encoded data removed]",
      "text/plain": [
       "<Figure size 720x432 with 1 Axes>"
      ]
     },
     "metadata": {
      "needs_background": "light"
     },
     "output_type": "display_data"
    },
    {
     "data": {
      "text/plain": [
       "count    1534.000000\n",
       "mean       24.903520\n",
       "std         4.572367\n",
       "min        12.000000\n",
       "25%        22.000000\n",
       "50%        25.000000\n",
       "75%        28.000000\n",
       "max        43.000000\n",
       "Name: age, dtype: float64"
      ]
     },
     "execution_count": 13,
     "metadata": {},
     "output_type": "execute_result"
    }
   ],
   "source": [
    "# Гистограмма распределения возрастов\n",
    "plt.figure(figsize=(10, 6))\n",
    "plt.hist(users_df['age'], bins=20, color='skyblue', edgecolor='black')\n",
    "plt.title('Распределение возрастов пользователей')\n",
    "plt.xlabel('Возраст')\n",
    "plt.ylabel('Частота')\n",
    "plt.grid(axis='y', linestyle='--', alpha=0.7)\n",
    "plt.show()\n",
    "\n",
    "# Описательная статистика для возраста пользователей\n",
    "users_df['age'].describe().T"
   ]
  },
  {
   "cell_type": "markdown",
   "id": "bc9ca47a",
   "metadata": {},
   "source": [
    "Средний возраст пользователей составляет приблизительно 25 лет, со стандартным отклонением около 4.5 лет. Минимальный возраст составляет 12 лет, а максимальный - 43 года. Половина пользователей (50%) находится в возрасте до 25 лет, что указывает на молодую аудиторию. Третий квартиль (75%) составляет 28 лет, что означает, что 75% пользователей моложе 28 лет."
   ]
  },
  {
   "cell_type": "markdown",
   "id": "8a8b31ca",
   "metadata": {},
   "source": [
    "### Расстояние, которое пользователь преодолел за одну поездку"
   ]
  },
  {
   "cell_type": "code",
   "execution_count": 14,
   "id": "ca67b458",
   "metadata": {},
   "outputs": [
    {
     "data": {
      "image/png": "[encoded data removed]",
      "text/plain": [
       "<Figure size 720x432 with 1 Axes>"
      ]
     },
     "metadata": {
      "needs_background": "light"
     },
     "output_type": "display_data"
    },
    {
     "data": {
      "text/plain": [
       "count    18068.000000\n",
       "mean         3.070660\n",
       "std          1.116831\n",
       "min          0.000856\n",
       "25%          2.543226\n",
       "50%          3.133610\n",
       "75%          3.776223\n",
       "max          7.211008\n",
       "Name: distance_km, dtype: float64"
      ]
     },
     "execution_count": 14,
     "metadata": {},
     "output_type": "execute_result"
    }
   ],
   "source": [
    "# Преобразование расстояния из метров в километры для удобства анализа\n",
    "rides_df['distance_km'] = rides_df['distance'] / 1000\n",
    "\n",
    "# Гистограмма распределения расстояний за одну поездку\n",
    "plt.figure(figsize=(10, 6))\n",
    "plt.hist(rides_df['distance_km'], bins=30, color='skyblue', edgecolor='black')\n",
    "plt.title('Распределение расстояний за одну поездку')\n",
    "plt.xlabel('Расстояние (км)')\n",
    "plt.ylabel('Частота')\n",
    "plt.grid(axis='y', linestyle='--', alpha=0.7)\n",
    "plt.show()\n",
    "\n",
    "# Описательная статистика для расстояния за одну поездку\n",
    "rides_df['distance_km'].describe().T"
   ]
  },
  {
   "cell_type": "markdown",
   "id": "ba103190",
   "metadata": {},
   "source": [
    "Среднее расстояние за одну поездку составляет примерно 3.07 километра, что указывает на типичное расстояние, преодолеваемое пользователями. Стандартное отклонение составляет около 1.12 километра, что говорит о некоторой вариативности в данных.\n",
    "\n",
    "Минимальное расстояние за одну поездку составляет всего 0.86 метра, что может указывать на аномалии в данных. Максимальное расстояние достигает 7.2 километра, что свидетельствует о том, что некоторые пользователи совершают довольно длинные поездки."
   ]
  },
  {
   "cell_type": "markdown",
   "id": "356496ca",
   "metadata": {},
   "source": [
    "### Продолжительность поездок"
   ]
  },
  {
   "cell_type": "code",
   "execution_count": 15,
   "id": "257a47ce",
   "metadata": {},
   "outputs": [
    {
     "data": {
      "image/png": "[encoded data removed]",
      "text/plain": [
       "<Figure size 720x432 with 1 Axes>"
      ]
     },
     "metadata": {
      "needs_background": "light"
     },
     "output_type": "display_data"
    },
    {
     "data": {
      "text/plain": [
       "count    18068.000000\n",
       "mean        17.805011\n",
       "std          6.091051\n",
       "min          0.500000\n",
       "25%         13.597563\n",
       "50%         17.678395\n",
       "75%         21.724800\n",
       "max         40.823963\n",
       "Name: duration, dtype: float64"
      ]
     },
     "execution_count": 15,
     "metadata": {},
     "output_type": "execute_result"
    }
   ],
   "source": [
    "# Гистограмма распределения продолжительности поездок\n",
    "plt.figure(figsize=(10, 6))\n",
    "plt.hist(rides_df['duration'], bins=50, color='skyblue', edgecolor='black')\n",
    "plt.title('Распределение продолжительности сессий')\n",
    "plt.xlabel('Продолжительность (минуты)')\n",
    "plt.ylabel('Частота')\n",
    "plt.grid(axis='y', linestyle='--', alpha=0.7)\n",
    "plt.show()\n",
    "\n",
    "# Описательная статистика для продолжительности поездок\n",
    "rides_df['duration'].describe().T"
   ]
  },
  {
   "cell_type": "markdown",
   "id": "57e30c0f",
   "metadata": {},
   "source": [
    "Минимальная продолжительность одной поездки составляет всего 30 секунд, что может указывать на очень короткие поездки или возможные аномалии в данных. Максимальная продолжительность достигает 40.82 минут, что свидетельствует о том, что некоторые пользователи совершают довольно длинные поездки.\n",
    "\n",
    "Медиана, составляющая 17.68 минут, указывает на то, что половина всех поездок составляет менее 17.68 минут."
   ]
  },
  {
   "cell_type": "markdown",
   "id": "98cf128a",
   "metadata": {},
   "source": [
    "### Анализ коротких поездок (обработка аномалий)"
   ]
  },
  {
   "cell_type": "code",
   "execution_count": 16,
   "id": "20e53dc9",
   "metadata": {},
   "outputs": [
    {
     "data": {
      "image/png": "[encoded data removed]",
      "text/plain": [
       "<Figure size 720x432 with 1 Axes>"
      ]
     },
     "metadata": {
      "needs_background": "light"
     },
     "output_type": "display_data"
    },
    {
     "name": "stdout",
     "output_type": "stream",
     "text": [
      "Процент аномально быстрых поездок от общего числа: 0.53%\n"
     ]
    }
   ],
   "source": [
    "# Фильтрация поездок с продолжительностью менее минуты\n",
    "short_rides_df = rides_df[rides_df['duration'] < 1]\n",
    "\n",
    "# Гистограмма распределения расстояний этих поездок\n",
    "plt.figure(figsize=(10, 6))\n",
    "plt.hist(short_rides_df['distance_km'], bins=20, color='skyblue', edgecolor='black')\n",
    "plt.title('Распределение расстояний поездок с продолжительностью менее минуты')\n",
    "plt.xlabel('Расстояние (км)')\n",
    "plt.ylabel('Частота')\n",
    "plt.grid(axis='y', linestyle='--', alpha=0.7)\n",
    "plt.show()\n",
    "\n",
    "# Описательная статистика для расстояний этих поездок\n",
    "short_rides_df['distance_km'].describe().T\n",
    "\n",
    "# Общее количество поездок\n",
    "total_rides = len(rides_df)\n",
    "\n",
    "# Количество аномально быстрых поездок (продолжительностью менее минуты)\n",
    "fast_rides = len(short_rides_df)\n",
    "\n",
    "# Расчет процента аномально быстрых поездок от общего числа\n",
    "percentage_fast_rides = (fast_rides / total_rides) * 100\n",
    "\n",
    "print(\"Процент аномально быстрых поездок от общего числа: {:.2f}%\".format(percentage_fast_rides))"
   ]
  },
  {
   "cell_type": "markdown",
   "id": "97b9d828",
   "metadata": {},
   "source": [
    "Из-за наличия большого количества поездок длительностью менее одной минуты было принято решение рассмотреть их отдельно.\n",
    "\n",
    "В выборке содержится 95 записей. Среднее расстояние за такие поездки составляет приблизительно 5.11 километра, что указывает на довольно большие перемещения за очень короткое время. \n",
    "\n",
    "Минимальное расстояние за одну поездку составляет 4.03 километра, что уже является значительным расстоянием для поездки, длительностью менее минуты. Максимальное расстояние достигает 7.21 километра.\n",
    "\n",
    "Процент быстрых поездок от общего числа - 0.53, в рамках проекта нет возможности уточнить причину ошибки в данных, поэтому в дальнейшем они будут удалены."
   ]
  },
  {
   "cell_type": "code",
   "execution_count": 17,
   "id": "fa0957d2",
   "metadata": {},
   "outputs": [
    {
     "name": "stdout",
     "output_type": "stream",
     "text": [
      "Общее количество поездок после удаления аномально быстрых: 17973\n"
     ]
    }
   ],
   "source": [
    "# Удаление аномально быстрых поездок (продолжительностью менее минуты) из исходного DataFrame\n",
    "rides_df = rides_df[rides_df['duration'] >= 1]\n",
    "\n",
    "# Выводим обновленное количество всех поездок после удаления аномально быстрых\n",
    "print(\"Общее количество поездок после удаления аномально быстрых:\", len(rides_df))"
   ]
  },
  {
   "cell_type": "markdown",
   "id": "2c3539e0",
   "metadata": {},
   "source": [
    "## Объединение данных"
   ]
  },
  {
   "cell_type": "markdown",
   "id": "77e8ac5f",
   "metadata": {},
   "source": [
    "### Объединим данные о пользователях, поездках и подписках в один датафрейм. Для этого воспользуйтесь методом merge()"
   ]
  },
  {
   "cell_type": "code",
   "execution_count": 18,
   "id": "5bef8621",
   "metadata": {},
   "outputs": [
    {
     "data": {
      "text/html": [
       "<div>\n",
       "<style scoped>\n",
       "    .dataframe tbody tr th:only-of-type {\n",
       "        vertical-align: middle;\n",
       "    }\n",
       "\n",
       "    .dataframe tbody tr th {\n",
       "        vertical-align: top;\n",
       "    }\n",
       "\n",
       "    .dataframe thead th {\n",
       "        text-align: right;\n",
       "    }\n",
       "</style>\n",
       "<table border=\"1\" class=\"dataframe\">\n",
       "  <thead>\n",
       "    <tr style=\"text-align: right;\">\n",
       "      <th></th>\n",
       "      <th>user_id</th>\n",
       "      <th>distance</th>\n",
       "      <th>duration</th>\n",
       "      <th>date</th>\n",
       "      <th>month</th>\n",
       "      <th>distance_km</th>\n",
       "      <th>name</th>\n",
       "      <th>age</th>\n",
       "      <th>city</th>\n",
       "      <th>subscription_type</th>\n",
       "      <th>minute_price</th>\n",
       "      <th>start_ride_price</th>\n",
       "      <th>subscription_fee</th>\n",
       "    </tr>\n",
       "  </thead>\n",
       "  <tbody>\n",
       "    <tr>\n",
       "      <th>0</th>\n",
       "      <td>1</td>\n",
       "      <td>4409.919140</td>\n",
       "      <td>25.599769</td>\n",
       "      <td>2021-01-01</td>\n",
       "      <td>1</td>\n",
       "      <td>4.409919</td>\n",
       "      <td>Кира</td>\n",
       "      <td>22</td>\n",
       "      <td>Тюмень</td>\n",
       "      <td>ultra</td>\n",
       "      <td>6</td>\n",
       "      <td>0</td>\n",
       "      <td>199</td>\n",
       "    </tr>\n",
       "    <tr>\n",
       "      <th>1</th>\n",
       "      <td>1</td>\n",
       "      <td>2617.592153</td>\n",
       "      <td>15.816871</td>\n",
       "      <td>2021-01-18</td>\n",
       "      <td>1</td>\n",
       "      <td>2.617592</td>\n",
       "      <td>Кира</td>\n",
       "      <td>22</td>\n",
       "      <td>Тюмень</td>\n",
       "      <td>ultra</td>\n",
       "      <td>6</td>\n",
       "      <td>0</td>\n",
       "      <td>199</td>\n",
       "    </tr>\n",
       "    <tr>\n",
       "      <th>2</th>\n",
       "      <td>1</td>\n",
       "      <td>754.159807</td>\n",
       "      <td>6.232113</td>\n",
       "      <td>2021-04-20</td>\n",
       "      <td>4</td>\n",
       "      <td>0.754160</td>\n",
       "      <td>Кира</td>\n",
       "      <td>22</td>\n",
       "      <td>Тюмень</td>\n",
       "      <td>ultra</td>\n",
       "      <td>6</td>\n",
       "      <td>0</td>\n",
       "      <td>199</td>\n",
       "    </tr>\n",
       "    <tr>\n",
       "      <th>3</th>\n",
       "      <td>1</td>\n",
       "      <td>2694.783254</td>\n",
       "      <td>18.511000</td>\n",
       "      <td>2021-08-11</td>\n",
       "      <td>8</td>\n",
       "      <td>2.694783</td>\n",
       "      <td>Кира</td>\n",
       "      <td>22</td>\n",
       "      <td>Тюмень</td>\n",
       "      <td>ultra</td>\n",
       "      <td>6</td>\n",
       "      <td>0</td>\n",
       "      <td>199</td>\n",
       "    </tr>\n",
       "    <tr>\n",
       "      <th>4</th>\n",
       "      <td>1</td>\n",
       "      <td>4028.687306</td>\n",
       "      <td>26.265803</td>\n",
       "      <td>2021-08-28</td>\n",
       "      <td>8</td>\n",
       "      <td>4.028687</td>\n",
       "      <td>Кира</td>\n",
       "      <td>22</td>\n",
       "      <td>Тюмень</td>\n",
       "      <td>ultra</td>\n",
       "      <td>6</td>\n",
       "      <td>0</td>\n",
       "      <td>199</td>\n",
       "    </tr>\n",
       "  </tbody>\n",
       "</table>\n",
       "</div>"
      ],
      "text/plain": [
       "   user_id     distance   duration       date  month  distance_km  name  age  \\\n",
       "0        1  4409.919140  25.599769 2021-01-01      1     4.409919  Кира   22   \n",
       "1        1  2617.592153  15.816871 2021-01-18      1     2.617592  Кира   22   \n",
       "2        1   754.159807   6.232113 2021-04-20      4     0.754160  Кира   22   \n",
       "3        1  2694.783254  18.511000 2021-08-11      8     2.694783  Кира   22   \n",
       "4        1  4028.687306  26.265803 2021-08-28      8     4.028687  Кира   22   \n",
       "\n",
       "     city subscription_type  minute_price  start_ride_price  subscription_fee  \n",
       "0  Тюмень             ultra             6                 0               199  \n",
       "1  Тюмень             ultra             6                 0               199  \n",
       "2  Тюмень             ultra             6                 0               199  \n",
       "3  Тюмень             ultra             6                 0               199  \n",
       "4  Тюмень             ultra             6                 0               199  "
      ]
     },
     "metadata": {},
     "output_type": "display_data"
    }
   ],
   "source": [
    "# Объединение данных о пользователях, поездках и подписках в один DataFrame\n",
    "merged_data = rides_df.merge(users_df, on='user_id').merge(subscriptions_df, on='subscription_type')\n",
    "\n",
    "display(merged_data.head())"
   ]
  },
  {
   "cell_type": "code",
   "execution_count": 19,
   "id": "4d1d4e26",
   "metadata": {
    "scrolled": true
   },
   "outputs": [
    {
     "name": "stdout",
     "output_type": "stream",
     "text": [
      "Количество строк в таблице rides_df до объединения: 17973\n",
      "Количество строк в таблице users_df до объединения: 1534\n",
      "Количество строк в таблице subscriptions_df до объединения: 2\n",
      "Количество строк в объединенной таблице после объединения: 17973\n",
      "Количество уникальных пользователей: 1534\n",
      "Количество пропусков в данных: 0\n"
     ]
    }
   ],
   "source": [
    "# Сравнение количества строк до и после объединения\n",
    "print(\"Количество строк в таблице rides_df до объединения:\", len(rides_df))\n",
    "print(\"Количество строк в таблице users_df до объединения:\", len(users_df))\n",
    "print(\"Количество строк в таблице subscriptions_df до объединения:\", len(subscriptions_df))\n",
    "print(\"Количество строк в объединенной таблице после объединения:\", len(merged_data))\n",
    "\n",
    "# Подсчет количества уникальных пользователей\n",
    "unique_users = merged_data['user_id'].nunique()\n",
    "print(\"Количество уникальных пользователей:\", unique_users)\n",
    "\n",
    "# Проверка наличия пропусков\n",
    "missing_values = merged_data.isnull().sum().sum()\n",
    "print(\"Количество пропусков в данных:\", missing_values)"
   ]
  },
  {
   "cell_type": "markdown",
   "id": "d53572d8",
   "metadata": {},
   "source": [
    "Данные успешно объеденины в один датафрейм."
   ]
  },
  {
   "cell_type": "markdown",
   "id": "9e7c7e4a",
   "metadata": {},
   "source": [
    "### Создадим ещё два датафрейма из датафрейма, созданного на этапе 4.1:\n",
    "**c данными о пользователях без подписки**  \n",
    "**с данными о пользователях с подпиской**  "
   ]
  },
  {
   "cell_type": "code",
   "execution_count": 20,
   "id": "70f3cc25",
   "metadata": {},
   "outputs": [
    {
     "name": "stdout",
     "output_type": "stream",
     "text": [
      "Количество строк в датафрейме с подпиской: 6500\n",
      "Количество строк в датафрейме без подписки: 11473\n",
      "Количество уникальных пользователей с подпиской: 699\n",
      "Количество уникальных пользователей без подписки: 835\n"
     ]
    }
   ],
   "source": [
    "# Фильтрация данных о пользователях с подпиской\n",
    "with_subscription_df = merged_data[merged_data['subscription_type'] == 'ultra']\n",
    "\n",
    "# Фильтрация данных о пользователях без подписки\n",
    "without_subscription_df = merged_data[merged_data['subscription_type'] == 'free']\n",
    "\n",
    "# Проверка количества строк в каждом датафрейме\n",
    "print(\"Количество строк в датафрейме с подпиской:\", len(with_subscription_df))\n",
    "print(\"Количество строк в датафрейме без подписки:\", len(without_subscription_df))\n",
    "\n",
    "# Проверка количества уникальных пользователей в каждом датафрейме\n",
    "unique_users_with_subscription = with_subscription_df['user_id'].nunique()\n",
    "unique_users_without_subscription = without_subscription_df['user_id'].nunique()\n",
    "\n",
    "print(\"Количество уникальных пользователей с подпиской:\", unique_users_with_subscription)\n",
    "print(\"Количество уникальных пользователей без подписки:\", unique_users_without_subscription)"
   ]
  },
  {
   "cell_type": "code",
   "execution_count": 21,
   "id": "a23b6c24",
   "metadata": {},
   "outputs": [
    {
     "data": {
      "image/png": "[encoded data removed]",
      "text/plain": [
       "<Figure size 1008x432 with 2 Axes>"
      ]
     },
     "metadata": {
      "needs_background": "light"
     },
     "output_type": "display_data"
    },
    {
     "name": "stdout",
     "output_type": "stream",
     "text": [
      "Описательная статистика для пользователей с подпиской:\n",
      "       distance_km     duration\n",
      "count  6500.000000  6500.000000\n",
      "mean      3.115445    18.541985\n",
      "std       0.836895     5.572048\n",
      "min       0.244210     3.760353\n",
      "25%       2.785444    14.524654\n",
      "50%       3.148637    18.178153\n",
      "75%       3.560574    21.884129\n",
      "max       5.699770    40.823963\n",
      "\n",
      "Описательная статистика для пользователей без подписки:\n",
      "        distance_km      duration\n",
      "count  11473.000000  11473.000000\n",
      "mean       3.028374     17.530771\n",
      "std        1.235541      6.162609\n",
      "min        0.000856      2.035632\n",
      "25%        2.360878     13.085688\n",
      "50%        3.102083     17.383807\n",
      "75%        3.883979     21.638038\n",
      "max        7.066004     34.948498\n"
     ]
    }
   ],
   "source": [
    "# Настройка размера графика\n",
    "plt.figure(figsize=(14, 6))\n",
    "\n",
    "# Гистограмма расстояний поездок для пользователей с подпиской и без подписки\n",
    "plt.subplot(1, 2, 1)\n",
    "plt.hist(with_subscription_df['distance_km'], bins=30, alpha=0.5, label='С подпиской', color='blue', edgecolor='black')\n",
    "plt.hist(without_subscription_df['distance_km'], bins=30, alpha=0.5, label='Без подписки', color='coral')\n",
    "plt.xlabel('Расстояние поездки (км)')\n",
    "plt.ylabel('Частота')\n",
    "plt.grid(axis='y', linestyle='--', alpha=0.7)\n",
    "plt.title('Распределение расстояний поездок')\n",
    "plt.legend()\n",
    "\n",
    "# Гистограмма времени поездок для пользователей с подпиской и без подписки\n",
    "plt.subplot(1, 2, 2)\n",
    "plt.hist(with_subscription_df['duration'], bins=30, alpha=0.5, label='С подпиской', color='blue', edgecolor='black')\n",
    "plt.hist(without_subscription_df['duration'], bins=30, alpha=0.5, label='Без подписки', color='coral')\n",
    "plt.xlabel('Время поездки (минуты)')\n",
    "plt.ylabel('Частота')\n",
    "plt.grid(axis='y', linestyle='--', alpha=0.7)\n",
    "plt.title('Распределение времени поездок')\n",
    "plt.legend()\n",
    "\n",
    "# Настройка плотного размещения графиков\n",
    "plt.tight_layout()\n",
    "plt.show()\n",
    "\n",
    "# Вывод описательной статистики для пользователей с подпиской\n",
    "print(\"Описательная статистика для пользователей с подпиской:\")\n",
    "print(with_subscription_df[['distance_km', 'duration']].describe())\n",
    "\n",
    "# Вывод описательной статистики для пользователей без подписки\n",
    "print(\"\\nОписательная статистика для пользователей без подписки:\")\n",
    "print(without_subscription_df[['distance_km', 'duration']].describe())"
   ]
  },
  {
   "cell_type": "markdown",
   "id": "3c211ef7",
   "metadata": {},
   "source": [
    "**Вывод:**\n",
    "\n",
    "**Распределение расстояний поездок:**\n",
    "\n",
    "- Оба типа пользователей имеют схожее распределение расстояний поездок, с пиком в районе 3 км.\n",
    "- Среднее расстояние поездок у пользователей с подпиской чуть выше (3.115 км) по сравнению с пользователями без подписки (3.028 км).\n",
    "- Пользователи без подписки совершают более короткие поездки (мин. 0.0008 км) и несколько длиннее поездки (макс. 7.07 км), чем пользователи с подпиской (мин. 0.24 км, макс. 5.70 км).\n",
    "\n",
    "**Распределение времени поездок:**\n",
    "\n",
    "- Средняя продолжительность поездок у пользователей с подпиской (18.54 минут) немного выше, чем у пользователей без подписки (17.53 минут).\n",
    "- Пользователи без подписки совершают поездки с большей разбросанностью по продолжительности, что видно по более высокому стандартному отклонению (6.16 минут против 5.57 минут у пользователей с подпиской).\n",
    "-Максимальная продолжительность поездки у пользователей с подпиской выше (40.82 минут против 34.95 минут у пользователей без подписки)."
   ]
  },
  {
   "cell_type": "markdown",
   "id": "1c212a93",
   "metadata": {},
   "source": [
    "## Подсчёт выручки"
   ]
  },
  {
   "cell_type": "markdown",
   "id": "fca1538a",
   "metadata": {},
   "source": [
    "### Создадим датафрейм с агрегированными данными о поездках на основе датафрейма с объединёнными данными из шага 4: найдём суммарное расстояние, количество поездок и суммарное время для каждого пользователя за каждый месяц."
   ]
  },
  {
   "cell_type": "code",
   "execution_count": 22,
   "id": "1f8530ae",
   "metadata": {},
   "outputs": [
    {
     "data": {
      "text/html": [
       "<div>\n",
       "<style scoped>\n",
       "    .dataframe tbody tr th:only-of-type {\n",
       "        vertical-align: middle;\n",
       "    }\n",
       "\n",
       "    .dataframe tbody tr th {\n",
       "        vertical-align: top;\n",
       "    }\n",
       "\n",
       "    .dataframe thead th {\n",
       "        text-align: right;\n",
       "    }\n",
       "</style>\n",
       "<table border=\"1\" class=\"dataframe\">\n",
       "  <thead>\n",
       "    <tr style=\"text-align: right;\">\n",
       "      <th></th>\n",
       "      <th>user_id</th>\n",
       "      <th>month</th>\n",
       "      <th>distance</th>\n",
       "      <th>duration</th>\n",
       "      <th>ride_count</th>\n",
       "      <th>minute_price</th>\n",
       "      <th>start_ride_price</th>\n",
       "      <th>subscription_fee</th>\n",
       "      <th>subscription_type</th>\n",
       "    </tr>\n",
       "  </thead>\n",
       "  <tbody>\n",
       "    <tr>\n",
       "      <th>0</th>\n",
       "      <td>1</td>\n",
       "      <td>1</td>\n",
       "      <td>7027.511294</td>\n",
       "      <td>42.0</td>\n",
       "      <td>2</td>\n",
       "      <td>6</td>\n",
       "      <td>0</td>\n",
       "      <td>199</td>\n",
       "      <td>ultra</td>\n",
       "    </tr>\n",
       "    <tr>\n",
       "      <th>1</th>\n",
       "      <td>1</td>\n",
       "      <td>4</td>\n",
       "      <td>754.159807</td>\n",
       "      <td>7.0</td>\n",
       "      <td>1</td>\n",
       "      <td>6</td>\n",
       "      <td>0</td>\n",
       "      <td>199</td>\n",
       "      <td>ultra</td>\n",
       "    </tr>\n",
       "    <tr>\n",
       "      <th>2</th>\n",
       "      <td>1</td>\n",
       "      <td>8</td>\n",
       "      <td>6723.470560</td>\n",
       "      <td>46.0</td>\n",
       "      <td>2</td>\n",
       "      <td>6</td>\n",
       "      <td>0</td>\n",
       "      <td>199</td>\n",
       "      <td>ultra</td>\n",
       "    </tr>\n",
       "    <tr>\n",
       "      <th>3</th>\n",
       "      <td>1</td>\n",
       "      <td>10</td>\n",
       "      <td>5809.911100</td>\n",
       "      <td>32.0</td>\n",
       "      <td>2</td>\n",
       "      <td>6</td>\n",
       "      <td>0</td>\n",
       "      <td>199</td>\n",
       "      <td>ultra</td>\n",
       "    </tr>\n",
       "    <tr>\n",
       "      <th>4</th>\n",
       "      <td>1</td>\n",
       "      <td>11</td>\n",
       "      <td>7003.499363</td>\n",
       "      <td>56.0</td>\n",
       "      <td>3</td>\n",
       "      <td>6</td>\n",
       "      <td>0</td>\n",
       "      <td>199</td>\n",
       "      <td>ultra</td>\n",
       "    </tr>\n",
       "  </tbody>\n",
       "</table>\n",
       "</div>"
      ],
      "text/plain": [
       "   user_id  month     distance  duration  ride_count  minute_price  \\\n",
       "0        1      1  7027.511294      42.0           2             6   \n",
       "1        1      4   754.159807       7.0           1             6   \n",
       "2        1      8  6723.470560      46.0           2             6   \n",
       "3        1     10  5809.911100      32.0           2             6   \n",
       "4        1     11  7003.499363      56.0           3             6   \n",
       "\n",
       "   start_ride_price  subscription_fee subscription_type  \n",
       "0                 0               199             ultra  \n",
       "1                 0               199             ultra  \n",
       "2                 0               199             ultra  \n",
       "3                 0               199             ultra  \n",
       "4                 0               199             ultra  "
      ]
     },
     "metadata": {},
     "output_type": "display_data"
    }
   ],
   "source": [
    "# Округляем время поездки вверх до целого числа минут\n",
    "merged_data['duration'] = np.ceil(merged_data['duration'])\n",
    "\n",
    "# Создаем датафрейм с агрегированными данными\n",
    "aggregated_data = merged_data.groupby(['user_id', 'month']).agg({\n",
    "    'distance': 'sum',         # Суммарное расстояние\n",
    "    'duration': 'sum',            # Суммарное время поездок\n",
    "    'user_id': 'count',           # Количество поездок\n",
    "    'minute_price': 'first',      # Цена за минуту\n",
    "    'start_ride_price': 'first',  # Цена за старт поездки\n",
    "    'subscription_fee': 'first',  # Абонентская плата\n",
    "    'subscription_type': 'first'  # Тип подписки\n",
    "}).rename(columns={'user_id': 'ride_count'}).reset_index()\n",
    "\n",
    "# Вывод первых строк для проверки\n",
    "display(aggregated_data.head())"
   ]
  },
  {
   "cell_type": "markdown",
   "id": "9c566a44",
   "metadata": {},
   "source": [
    "### В этот же датафрейм добавим столбец с помесячной выручкой, которую принёс каждый пользователь"
   ]
  },
  {
   "cell_type": "code",
   "execution_count": 23,
   "id": "b6ecc168",
   "metadata": {},
   "outputs": [
    {
     "data": {
      "text/html": [
       "<div>\n",
       "<style scoped>\n",
       "    .dataframe tbody tr th:only-of-type {\n",
       "        vertical-align: middle;\n",
       "    }\n",
       "\n",
       "    .dataframe tbody tr th {\n",
       "        vertical-align: top;\n",
       "    }\n",
       "\n",
       "    .dataframe thead th {\n",
       "        text-align: right;\n",
       "    }\n",
       "</style>\n",
       "<table border=\"1\" class=\"dataframe\">\n",
       "  <thead>\n",
       "    <tr style=\"text-align: right;\">\n",
       "      <th></th>\n",
       "      <th>user_id</th>\n",
       "      <th>month</th>\n",
       "      <th>distance</th>\n",
       "      <th>duration</th>\n",
       "      <th>ride_count</th>\n",
       "      <th>minute_price</th>\n",
       "      <th>start_ride_price</th>\n",
       "      <th>subscription_fee</th>\n",
       "      <th>subscription_type</th>\n",
       "      <th>revenue</th>\n",
       "    </tr>\n",
       "  </thead>\n",
       "  <tbody>\n",
       "    <tr>\n",
       "      <th>0</th>\n",
       "      <td>1</td>\n",
       "      <td>1</td>\n",
       "      <td>7027.511294</td>\n",
       "      <td>42.0</td>\n",
       "      <td>2</td>\n",
       "      <td>6</td>\n",
       "      <td>0</td>\n",
       "      <td>199</td>\n",
       "      <td>ultra</td>\n",
       "      <td>451.0</td>\n",
       "    </tr>\n",
       "    <tr>\n",
       "      <th>1</th>\n",
       "      <td>1</td>\n",
       "      <td>4</td>\n",
       "      <td>754.159807</td>\n",
       "      <td>7.0</td>\n",
       "      <td>1</td>\n",
       "      <td>6</td>\n",
       "      <td>0</td>\n",
       "      <td>199</td>\n",
       "      <td>ultra</td>\n",
       "      <td>241.0</td>\n",
       "    </tr>\n",
       "    <tr>\n",
       "      <th>2</th>\n",
       "      <td>1</td>\n",
       "      <td>8</td>\n",
       "      <td>6723.470560</td>\n",
       "      <td>46.0</td>\n",
       "      <td>2</td>\n",
       "      <td>6</td>\n",
       "      <td>0</td>\n",
       "      <td>199</td>\n",
       "      <td>ultra</td>\n",
       "      <td>475.0</td>\n",
       "    </tr>\n",
       "    <tr>\n",
       "      <th>3</th>\n",
       "      <td>1</td>\n",
       "      <td>10</td>\n",
       "      <td>5809.911100</td>\n",
       "      <td>32.0</td>\n",
       "      <td>2</td>\n",
       "      <td>6</td>\n",
       "      <td>0</td>\n",
       "      <td>199</td>\n",
       "      <td>ultra</td>\n",
       "      <td>391.0</td>\n",
       "    </tr>\n",
       "    <tr>\n",
       "      <th>4</th>\n",
       "      <td>1</td>\n",
       "      <td>11</td>\n",
       "      <td>7003.499363</td>\n",
       "      <td>56.0</td>\n",
       "      <td>3</td>\n",
       "      <td>6</td>\n",
       "      <td>0</td>\n",
       "      <td>199</td>\n",
       "      <td>ultra</td>\n",
       "      <td>535.0</td>\n",
       "    </tr>\n",
       "  </tbody>\n",
       "</table>\n",
       "</div>"
      ],
      "text/plain": [
       "   user_id  month     distance  duration  ride_count  minute_price  \\\n",
       "0        1      1  7027.511294      42.0           2             6   \n",
       "1        1      4   754.159807       7.0           1             6   \n",
       "2        1      8  6723.470560      46.0           2             6   \n",
       "3        1     10  5809.911100      32.0           2             6   \n",
       "4        1     11  7003.499363      56.0           3             6   \n",
       "\n",
       "   start_ride_price  subscription_fee subscription_type  revenue  \n",
       "0                 0               199             ultra    451.0  \n",
       "1                 0               199             ultra    241.0  \n",
       "2                 0               199             ultra    475.0  \n",
       "3                 0               199             ultra    391.0  \n",
       "4                 0               199             ultra    535.0  "
      ]
     },
     "metadata": {},
     "output_type": "display_data"
    }
   ],
   "source": [
    "# Добавим столбец с помесячной выручкой\n",
    "aggregated_data['revenue'] = (\n",
    "    aggregated_data['ride_count'] * aggregated_data['start_ride_price'] + \n",
    "    aggregated_data['duration'] * aggregated_data['minute_price'] + \n",
    "    aggregated_data['subscription_fee']\n",
    ")\n",
    "\n",
    "# Вывод первых строк для проверки\n",
    "display(aggregated_data.head())"
   ]
  },
  {
   "cell_type": "markdown",
   "id": "19966fa2",
   "metadata": {},
   "source": [
    "**Вывод:**\n",
    "\n",
    "На этапе 5 мы произвели следующие действия:\n",
    "\n",
    "1. Агрегирование данных: Мы создали новый датафрейм aggregated_data, который содержит суммарное расстояние, суммарное время поездок, количество поездок, цену за минуту, цену за старт поездки, абонентскую плату и тип подписки каждого пользователя.\n",
    "\n",
    "2. Расчет помесячной выручки: Мы добавили столбец revenue, в котором рассчитывается помесячная выручка для каждого пользователя на основе условий оплаты:\n",
    "    - Для пользователей с подпиской \"Ultra\" выручка включает абонентскую плату и стоимость поездок.\n",
    "    - Для пользователей без подписки выручка включает стоимость стартов поездок и стоимость времени поездок."
   ]
  },
  {
   "cell_type": "markdown",
   "id": "d47ccb4a",
   "metadata": {},
   "source": [
    "## Проверка гипотез"
   ]
  },
  {
   "cell_type": "markdown",
   "id": "11bd54ab",
   "metadata": {},
   "source": [
    "### Важно понять, тратят ли пользователи с подпиской больше времени на поездки? Если да, то пользователи с подпиской могут быть «выгоднее» для компании. Проверьте гипотезу. Используйте исходные данные о продолжительности каждой сессии — отдельно для подписчиков и тех, у кого нет подписки."
   ]
  },
  {
   "cell_type": "markdown",
   "id": "d6af4862",
   "metadata": {},
   "source": [
    "Нулевая гипотеза (H₀): Средние продолжительности поездок для пользователей с подпиской и без подписки равны.\n",
    "\n",
    "Альтернативная гипотеза (H₁): Средняя продолжительность поездок для пользователей с подпиской больше, чем для пользователей без подписки."
   ]
  },
  {
   "cell_type": "code",
   "execution_count": 24,
   "id": "1cb115c4",
   "metadata": {},
   "outputs": [
    {
     "name": "stdout",
     "output_type": "stream",
     "text": [
      "p-значение: 1.6162210195311063e-29\n",
      "Отвергаем нулевую гипотезу: существует статистически значимая разница в продолжительности поездок между пользователями с подпиской и без нее. Пользователи с подпиской тратят больше времени на поездки.\n"
     ]
    }
   ],
   "source": [
    "# Разделим данные на две группы: с подпиской и без подписки\n",
    "duration_without_subscription = without_subscription_df['duration']\n",
    "duration_with_subscription = with_subscription_df['duration']\n",
    "\n",
    "# Проведем t-тест\n",
    "results = st.ttest_ind(duration_with_subscription, duration_without_subscription, equal_var=False, alternative='greater')\n",
    "\n",
    "# Определим уровень значимости\n",
    "alpha = 0.05\n",
    "\n",
    "# Посмотрим на результаты\n",
    "print(\"p-значение:\", results.pvalue)\n",
    "\n",
    "# Проверим, статистически значимы ли различия\n",
    "if results.pvalue < alpha:\n",
    "    print(\"Отвергаем нулевую гипотезу: существует статистически значимая разница в продолжительности поездок между пользователями с подпиской и без нее. Пользователи с подпиской тратят больше времени на поездки.\")\n",
    "else:\n",
    "    print(\"Не получилось отвергнуть нулевую гипотезу: нет статистически значимой разницы в продолжительности поездок между пользователями с подпиской и без нее.\")"
   ]
  },
  {
   "cell_type": "markdown",
   "id": "fe1b96a0",
   "metadata": {},
   "source": [
    "### Расстояние одной поездки в 3130 метров — оптимальное с точки зрения износа самоката. Можно ли сказать, что среднее расстояние, которое проезжают пользователи с подпиской за одну поездку, не превышает 3130 метров? Проверим гипотезу и сделаем выводы."
   ]
  },
  {
   "cell_type": "markdown",
   "id": "73209962",
   "metadata": {},
   "source": [
    "Нулевая гипотеза (H₀): Среднее расстояние, которое проезжают пользователи с подпиской за одну поездку, равно 3130 метров.\n",
    "\n",
    "Альтернативная гипотеза (H₁): Среднее расстояние, которое проезжают пользователи с подпиской за одну поездку, превышает 3130 метров."
   ]
  },
  {
   "cell_type": "code",
   "execution_count": 25,
   "id": "3bf12252",
   "metadata": {},
   "outputs": [
    {
     "name": "stdout",
     "output_type": "stream",
     "text": [
      "p-значение: 0.9195368847849785\n",
      "Не получилось отвергнуть нулевую гипотезу: среднее расстояние поездок пользователей с подпиской не превышает оптимальное расстояние.\n"
     ]
    }
   ],
   "source": [
    "# Оптимальное расстояние одной поездки в метрах\n",
    "optimal_distance = 3130\n",
    "\n",
    "# Выборка расстояний поездок пользователей с подпиской\n",
    "distance_with_subscription = with_subscription_df['distance']\n",
    "\n",
    "# Проведем одновыборочный t-тест\n",
    "results = st.ttest_1samp(distance_with_subscription, optimal_distance, alternative='greater')\n",
    "\n",
    "# Определим уровень значимости\n",
    "alpha = 0.05\n",
    "\n",
    "# Посмотрим на результаты\n",
    "print(\"p-значение:\", results.pvalue)\n",
    "\n",
    "# Проверим, статистически значимо ли среднее расстояние\n",
    "if results.pvalue < alpha:\n",
    "    print('Отвергаем нулевую гипотезу: среднее расстояние поездок пользователей с подпиской превышает оптимальное расстояние.')\n",
    "else:\n",
    "    print('Не получилось отвергнуть нулевую гипотезу: среднее расстояние поездок пользователей с подпиской не превышает оптимальное расстояние.') "
   ]
  },
  {
   "cell_type": "markdown",
   "id": "c9895dca",
   "metadata": {},
   "source": [
    "### Проверим гипотезу о том, будет ли помесячная выручка от пользователей с подпиской по месяцам выше, чем выручка от пользователей без подписки"
   ]
  },
  {
   "cell_type": "markdown",
   "id": "a136c2a7",
   "metadata": {},
   "source": [
    "Нулевая гипотеза (H₀): Помесячная выручка от пользователей с подпиской не отличается от выручки от пользователей без подписки.\n",
    "\n",
    "Альтернативная гипотеза (H₁): Помесячная выручка от пользователей с подпиской выше, чем от пользователей без подписки."
   ]
  },
  {
   "cell_type": "code",
   "execution_count": 26,
   "id": "f9125986",
   "metadata": {},
   "outputs": [
    {
     "name": "stdout",
     "output_type": "stream",
     "text": [
      "p-значение: 2.0314113674863288e-30\n",
      "Отвергаем нулевую гипотезу: существует статистически значимое различие в помесячной выручке от пользователей с подпиской и без подписки.\n"
     ]
    }
   ],
   "source": [
    "# Выделение данных о помесячной выручке для пользователей с подпиской и без подписки\n",
    "with_subscription_revenue = aggregated_data.query('subscription_type == \"ultra\"')['revenue']\n",
    "without_subscription_revenue = aggregated_data.query('subscription_type == \"free\"')['revenue']\n",
    "\n",
    "# Проведем t-тест для независимых выборок\n",
    "results = st.ttest_ind(with_subscription_revenue, without_subscription_revenue, alternative='greater')\n",
    "\n",
    "# Определим уровень значимости\n",
    "alpha = 0.05\n",
    "\n",
    "# Посмотрим на результаты\n",
    "print(\"p-значение:\", results.pvalue)\n",
    "\n",
    "# Проверим, статистически значимо ли различие в выручке\n",
    "if results.pvalue < alpha:\n",
    "    print(\"Отвергаем нулевую гипотезу: существует статистически значимое различие в помесячной выручке от пользователей с подпиской и без подписки.\")\n",
    "else:\n",
    "    print(\"Не получилось отвергнуть нулевую гипотезу: нет статистически значимого различия в помесячной выручке от пользователей с подпиской и без подписки.\")"
   ]
  },
  {
   "cell_type": "markdown",
   "id": "d6c55cae",
   "metadata": {},
   "source": [
    "## Распределения"
   ]
  },
  {
   "cell_type": "markdown",
   "id": "f5f1c92a",
   "metadata": {},
   "source": [
    "### Отделу маркетинга GoFast поставили задачу: нужно провести акцию с раздачей промокодов на один бесплатный месяц подписки, в рамках которой как минимум 100 существующих клиентов должны продлить эту подписку. То есть по завершении периода действия подписки пользователь может либо отказаться от неё, либо продлить, совершив соответствующий платёж. Эта акция уже проводилась ранее и по итогу выяснилось, что после бесплатного пробного периода подписку продлевают 10 % пользователей. Выясните, какое минимальное количество промокодов нужно разослать, чтобы вероятность не выполнить план была примерно 5 %. Подберите параметры распределения, описывающего эту ситуацию, постройте график распределения и сформулируйте ответ на вопрос о количестве промокодов"
   ]
  },
  {
   "cell_type": "code",
   "execution_count": 27,
   "id": "f0ddc644",
   "metadata": {},
   "outputs": [
    {
     "name": "stdout",
     "output_type": "stream",
     "text": [
      "Минимальное количество промокодов: 1161\n"
     ]
    },
    {
     "data": {
      "image/png": "[encoded data removed]",
      "text/plain": [
       "<Figure size 864x432 with 1 Axes>"
      ]
     },
     "metadata": {
      "needs_background": "light"
     },
     "output_type": "display_data"
    }
   ],
   "source": [
    "# Дано\n",
    "p = 0.10  # вероятность продления подписки\n",
    "target = 100  # целевое количество продлений\n",
    "alpha = 0.05  # вероятность не выполнить план\n",
    "\n",
    "# Функция для нахождения минимального n\n",
    "def find_min_n(target, p, alpha):\n",
    "    n = target  # начнем с количества равного целевому\n",
    "    while True:\n",
    "        # Вероятность иметь меньше чем 'target' продлений\n",
    "        prob = st.binom.cdf(target-1, n, p)\n",
    "        if prob <= alpha:\n",
    "            return n\n",
    "        n += 1\n",
    "\n",
    "# Находим минимальное количество промокодов\n",
    "min_promocodes = find_min_n(target, p, alpha)\n",
    "print(f\"Минимальное количество промокодов: {min_promocodes}\")\n",
    "\n",
    "# Построение графика распределения\n",
    "n = min_promocodes\n",
    "x = np.arange(70, 170)\n",
    "pmf = st.binom.pmf(x, n, p)\n",
    "\n",
    "plt.figure(figsize=(12, 6))\n",
    "plt.plot(x, pmf, color='blue', alpha=0.7)\n",
    "plt.axvline(target, color='red', linestyle='--', label=f'Цель = {target} продлений')\n",
    "plt.title('Биномиальное распределение для продлений подписки')\n",
    "plt.xlabel('Количество продлений')\n",
    "plt.ylabel('Вероятность')\n",
    "plt.legend()\n",
    "plt.grid(True)\n",
    "plt.show()"
   ]
  },
  {
   "cell_type": "markdown",
   "id": "31af990e",
   "metadata": {},
   "source": [
    "**Вывод:**\n",
    "\n",
    "Для выполнения задачи отдела маркетинга GoFast, которая заключается в раздаче промокодов на один бесплатный месяц подписки, необходимо разослать как минимум 1161 промокодов, чтобы вероятность не выполнить план (100 продлений подписки) была примерно 5%."
   ]
  },
  {
   "cell_type": "markdown",
   "id": "746e81ed",
   "metadata": {},
   "source": [
    "### Отдел маркетинга рассылает клиентам push-уведомления в мобильном приложении. Клиенты могут открыть его или не открывать. Известно, что уведомления открывают около 40%получивших клиентов. Отдел планирует разослать 1 млн уведомлений. С помощью аппроксимации постройте примерный график распределения и оцените вероятность того, что уведомление откроют не более 399,5 тыс. пользователей."
   ]
  },
  {
   "cell_type": "code",
   "execution_count": 28,
   "id": "bfe1b683",
   "metadata": {},
   "outputs": [
    {
     "name": "stdout",
     "output_type": "stream",
     "text": [
      "Вероятность того, что уведомление откроют не более 399,5 тыс. пользователей: 0.1537\n"
     ]
    },
    {
     "data": {
      "image/png": "[encoded data removed]",
      "text/plain": [
       "<Figure size 864x432 with 1 Axes>"
      ]
     },
     "metadata": {
      "needs_background": "light"
     },
     "output_type": "display_data"
    }
   ],
   "source": [
    "# Дано\n",
    "n = 1000000  # количество уведомлений\n",
    "p = 0.40  # вероятность открытия уведомления\n",
    "\n",
    "# Параметры нормального распределения\n",
    "mu = n * p  # среднее\n",
    "sigma = np.sqrt(n * p * (1 - p))  # стандартное отклонение\n",
    "\n",
    "# Значение, которое нужно оценить\n",
    "x = 399500\n",
    "\n",
    "# Вероятность того, что уведомление откроют не более 399,5 тыс. пользователей\n",
    "probability = st.norm.cdf(x, mu, sigma)\n",
    "print(f\"Вероятность того, что уведомление откроют не более 399,5 тыс. пользователей: {probability:.4f}\")\n",
    "\n",
    "# Построение графика нормального распределения\n",
    "x_values = np.linspace(mu - 4*sigma, mu + 4*sigma, 1000)\n",
    "y_values = st.norm.pdf(x_values, mu, sigma)\n",
    "\n",
    "plt.figure(figsize=(12, 6))\n",
    "plt.plot(x_values, y_values, color='blue', label='Нормальная аппроксимация биномиального распределения')\n",
    "plt.axvline(x, color='red', linestyle='--', label=f'{x} пользователей')\n",
    "plt.title('Нормальная аппроксимация биномиального распределения для открытия уведомлений')\n",
    "plt.xlabel('Количество открытий')\n",
    "plt.ylabel('Плотность вероятности')\n",
    "plt.legend()\n",
    "plt.grid(True)\n",
    "plt.show()"
   ]
  },
  {
   "cell_type": "markdown",
   "id": "5c801a4c",
   "metadata": {},
   "source": [
    "**Вывод:**\n",
    "\n",
    "Синяя линия представляет собой нормальное распределение, аппроксимирующее биномиальное распределение для данного случая.\n",
    "Красная пунктирная линия обозначает значение 399,5 тыс. пользователей.\n",
    "Площадь под кривой слева от красной линии (до 399,5 тыс.) соответствует вероятности 0.1537.\n",
    "Таким образом, нормальная аппроксимация показывает, что вероятность того, что уведомление откроет не более 399,5 тыс. пользователей, составляет около 15.37%."
   ]
  },
  {
   "cell_type": "markdown",
   "id": "2e29f5b3",
   "metadata": {},
   "source": [
    "## Общий вывод\n",
    "\n",
    "1. **На первом этапе анализа были загружены и изучены данные из трех CSV-файлов, содержащих информацию о пользователях, поездках и подписках.** \n",
    "   \n",
    "   - При изучении данных было обнаружено, что в них отсутствуют пропущенные значения.  \n",
    "\n",
    "2. **В процессе предобработки данных были выполнены следующие шаги:**\n",
    "\n",
    "   - Преобразован столбец \"date\" в датафрейме с информацией о поездках в формат даты для более удобного анализа временных данных.\n",
    "   - Добавлен новый столбец \"month\" в датафрейм с информацией о поездках, содержащий номер месяца, чтобы можно было анализировать данные на месячном уровне.\n",
    "   - Данные охватывают 12 месяцев с января 2021 года по декабрь 2021 года.\n",
    "   - Обнаружены и удалены 31 дубликат в датафрейме с информацией о пользователях для обеспечения точности анализа.\n",
    "\n",
    "3. **Результаты исследовательского анализа данных позволяют получить глубокое понимание поведения пользователей и особенностей использования сервиса GoFast.**\n",
    "\n",
    "   - Сервис активно используется в 8 городах, причем наибольшее число пользователей зарегистрировано в городе Пятигорск.\n",
    "   - Лишь около половины пользователей предпочитают воспользоваться подпиской, что указывает на возможность улучшения предложения для привлечения новых пользователей.\n",
    "   - Около половины пользователей моложе 25 лет, что важно учитывать при формировании маркетинговых кампаний.\n",
    "   - Средняя продолжительность и расстояние поездок составляют примерно 18 минут и 3 километра соответственно.\n",
    "   - Обнаружены и удалены аномалии, такие как короткие поездки с продолжительностью менее одной минуты, для обеспечения достоверности анализа.\n",
    "\n",
    "4. **В процессе объединения данных был создан один датафрейм, что позволило провести детальный анализ поведения пользователей с подпиской и без неё.**\n",
    "\n",
    "   - **Распределение расстояний поездок:** Оба типа пользователей совершают поездки преимущественно на расстояниях до 3 км. Среднее расстояние поездок у пользователей с подпиской немного выше (3.12 км) по сравнению с пользователями без подписки (3.03 км).\n",
    "   - **Распределение времени поездок:** Средняя продолжительность поездок у пользователей с подпиской (18.54 минуты) немного выше, чем у пользователей без подписки (17.53 минуты). Пользователи без подписки имеют более высокое стандартное отклонение продолжительности поездок, что может свидетельствовать о большей вариативности в их поведении.\n",
    "   - **Визуализация данных:** Показала, что обе группы пользователей предпочитают совершать короткие поездки, но пользователи с подпиской в среднем проезжают немного большее расстояние и тратят чуть больше времени на каждую поездку.\n",
    "\n",
    "5. **Объединение данных.**\n",
    "\n",
    "   - Создан датафрейм с агрегированными данными о поездках пользователей за каждый месяц, включающий суммарное расстояние, количество поездок и суммарное время для каждого пользователя.\n",
    "   - Рассчитана помесячная выручка для подписчиков и неподписанных пользователей, используя информацию об условиях оплаты и округление продолжительности поездок до ближайшего целого числа.\n",
    "\n",
    "6. **Проверка гипотез.**\n",
    "\n",
    "   - **Гипотеза 1:** Тратят ли пользователи с подпиской больше времени на поездки?\n",
    "\n",
    "     - **Нулевая гипотеза (H₀):** Средние продолжительности поездок для пользователей с подпиской и без подписки равны.\n",
    "     - **Альтернативная гипотеза (H₁):** Средняя продолжительность поездок для пользователей с подпиской больше, чем для пользователей без подписки.\n",
    "     - **Вывод:** Отвергаем нулевую гипотезу: пользователи с подпиской тратят больше времени на поездки.\n",
    "\n",
    "   - **Гипотеза 2:** Превышает ли расстояние поездки пользователей с подпиской 3130 метров?\n",
    "\n",
    "     - **Нулевая гипотеза (H₀):** Среднее расстояние, которое проезжают пользователи с подпиской за одну поездку, равно 3130 метров.\n",
    "     - **Альтернативная гипотеза (H₁):** Среднее расстояние, которое проезжают пользователи с подпиской за одну поездку, превышает 3130 метров.\n",
    "     - **Вывод:** Не получилось отвергнуть нулевую гипотезу: среднее расстояние поездок пользователей с подпиской не превышает оптимальное расстояние.\n",
    "\n",
    "   - **Гипотеза 3:** Будет ли помесячная выручка от пользователей с подпиской по месяцам выше, чем выручка от пользователей без подписки?\n",
    "\n",
    "     - **Нулевая гипотеза (H₀):** Помесячная выручка от пользователей с подпиской не отличается от выручки от пользователей без подписки.\n",
    "     - **Альтернативная гипотеза (H₁):** Помесячная выручка от пользователей с подпиской выше, чем от пользователей без подписки.\n",
    "     - **Вывод:** Отвергаем нулевую гипотезу: существует статистически значимое различие в помесячной выручке от пользователей с подпиской и без подписки.\n",
    "\n",
    "7. **Маркетинговые прогнозы и расчёты.**\n",
    "\n",
    "   - **Прогноз успеха акции с промокодами:**\n",
    "     - Для достижения цели отдела маркетинга GoFast по продлению подписки 100 клиентами после бесплатного пробного месяца, необходимо разослать минимум 1161 промокод. Это количество обеспечивает вероятность около 95% выполнения плана, исходя из того, что 10% пользователей продлевают подписку после пробного периода.\n",
    "\n",
    "   - **Прогноз отклика на push-уведомления:**\n",
    "     - При планируемой рассылке 1 миллиона push-уведомлений, вероятность того, что уведомление откроют не более 399,5 тысяч пользователей, составляет около 15.37%. Этот прогноз был получен с помощью нормальной аппроксимации биномиального распределения, учитывая, что около 40% получателей открывают уведомления. График распределения подтверждает достаточно высокую вероятность 15.37% того, что уведомление откроет менее 399,5 тысяч пользователей."
   ]
  }
 ],
 "metadata": {
  "ExecuteTimeLog": [
   {
    "duration": 11,
    "start_time": "2024-05-31T08:57:34.189Z"
   },
   {
    "duration": 1410,
    "start_time": "2024-05-31T08:59:43.733Z"
   },
   {
    "duration": 10,
    "start_time": "2024-05-31T08:59:45.146Z"
   },
   {
    "duration": 354,
    "start_time": "2024-05-31T08:59:45.159Z"
   },
   {
    "duration": 57,
    "start_time": "2024-05-31T08:59:45.516Z"
   },
   {
    "duration": 1230,
    "start_time": "2024-05-31T09:00:39.155Z"
   },
   {
    "duration": 5,
    "start_time": "2024-05-31T09:00:40.387Z"
   },
   {
    "duration": 78,
    "start_time": "2024-05-31T09:00:40.394Z"
   },
   {
    "duration": 80,
    "start_time": "2024-05-31T09:00:40.475Z"
   },
   {
    "duration": 1183,
    "start_time": "2024-05-31T09:02:47.944Z"
   },
   {
    "duration": 5,
    "start_time": "2024-05-31T09:02:49.129Z"
   },
   {
    "duration": 97,
    "start_time": "2024-05-31T09:02:49.135Z"
   },
   {
    "duration": 50,
    "start_time": "2024-05-31T09:02:49.234Z"
   },
   {
    "duration": 1154,
    "start_time": "2024-05-31T09:05:57.875Z"
   },
   {
    "duration": 4,
    "start_time": "2024-05-31T09:05:59.031Z"
   },
   {
    "duration": 80,
    "start_time": "2024-05-31T09:05:59.037Z"
   },
   {
    "duration": 32,
    "start_time": "2024-05-31T09:05:59.119Z"
   },
   {
    "duration": 4,
    "start_time": "2024-05-31T09:12:13.077Z"
   },
   {
    "duration": 1169,
    "start_time": "2024-05-31T09:12:19.264Z"
   },
   {
    "duration": 5,
    "start_time": "2024-05-31T09:12:20.434Z"
   },
   {
    "duration": 77,
    "start_time": "2024-05-31T09:12:20.441Z"
   },
   {
    "duration": 27,
    "start_time": "2024-05-31T09:12:20.520Z"
   },
   {
    "duration": 5,
    "start_time": "2024-05-31T09:12:44.435Z"
   },
   {
    "duration": 1190,
    "start_time": "2024-05-31T09:12:51.448Z"
   },
   {
    "duration": 5,
    "start_time": "2024-05-31T09:12:52.640Z"
   },
   {
    "duration": 91,
    "start_time": "2024-05-31T09:12:52.647Z"
   },
   {
    "duration": 54,
    "start_time": "2024-05-31T09:12:52.740Z"
   },
   {
    "duration": 4,
    "start_time": "2024-05-31T09:18:32.622Z"
   },
   {
    "duration": 1143,
    "start_time": "2024-05-31T09:18:39.221Z"
   },
   {
    "duration": 5,
    "start_time": "2024-05-31T09:18:40.366Z"
   },
   {
    "duration": 102,
    "start_time": "2024-05-31T09:18:40.372Z"
   },
   {
    "duration": 131,
    "start_time": "2024-05-31T09:18:40.476Z"
   },
   {
    "duration": 1214,
    "start_time": "2024-05-31T09:19:28.419Z"
   },
   {
    "duration": 5,
    "start_time": "2024-05-31T09:19:29.635Z"
   },
   {
    "duration": 86,
    "start_time": "2024-05-31T09:19:29.642Z"
   },
   {
    "duration": 138,
    "start_time": "2024-05-31T09:19:29.730Z"
   },
   {
    "duration": 1176,
    "start_time": "2024-05-31T09:20:00.917Z"
   },
   {
    "duration": 117,
    "start_time": "2024-05-31T09:20:02.095Z"
   },
   {
    "duration": 0,
    "start_time": "2024-05-31T09:20:02.213Z"
   },
   {
    "duration": 0,
    "start_time": "2024-05-31T09:20:02.215Z"
   },
   {
    "duration": 1145,
    "start_time": "2024-05-31T09:20:28.785Z"
   },
   {
    "duration": 4,
    "start_time": "2024-05-31T09:20:29.934Z"
   },
   {
    "duration": 88,
    "start_time": "2024-05-31T09:20:29.940Z"
   },
   {
    "duration": 53,
    "start_time": "2024-05-31T09:20:30.030Z"
   },
   {
    "duration": 1179,
    "start_time": "2024-05-31T09:22:11.358Z"
   },
   {
    "duration": 4,
    "start_time": "2024-05-31T09:22:12.540Z"
   },
   {
    "duration": 72,
    "start_time": "2024-05-31T09:22:12.555Z"
   },
   {
    "duration": 58,
    "start_time": "2024-05-31T09:22:12.629Z"
   },
   {
    "duration": 1197,
    "start_time": "2024-05-31T09:24:56.936Z"
   },
   {
    "duration": 5,
    "start_time": "2024-05-31T09:24:58.135Z"
   },
   {
    "duration": 94,
    "start_time": "2024-05-31T09:24:58.142Z"
   },
   {
    "duration": 50,
    "start_time": "2024-05-31T09:24:58.238Z"
   },
   {
    "duration": 1184,
    "start_time": "2024-05-31T09:25:46.441Z"
   },
   {
    "duration": 112,
    "start_time": "2024-05-31T09:25:47.627Z"
   },
   {
    "duration": 0,
    "start_time": "2024-05-31T09:25:47.740Z"
   },
   {
    "duration": 0,
    "start_time": "2024-05-31T09:25:47.742Z"
   },
   {
    "duration": 1195,
    "start_time": "2024-05-31T09:27:36.925Z"
   },
   {
    "duration": 110,
    "start_time": "2024-05-31T09:27:38.122Z"
   },
   {
    "duration": 0,
    "start_time": "2024-05-31T09:27:38.233Z"
   },
   {
    "duration": 0,
    "start_time": "2024-05-31T09:27:38.235Z"
   },
   {
    "duration": 0,
    "start_time": "2024-05-31T09:27:38.236Z"
   },
   {
    "duration": 1154,
    "start_time": "2024-05-31T09:28:13.294Z"
   },
   {
    "duration": 3,
    "start_time": "2024-05-31T09:28:14.454Z"
   },
   {
    "duration": 9,
    "start_time": "2024-05-31T09:28:14.459Z"
   },
   {
    "duration": 82,
    "start_time": "2024-05-31T09:28:14.469Z"
   },
   {
    "duration": 64,
    "start_time": "2024-05-31T09:28:14.554Z"
   },
   {
    "duration": 1129,
    "start_time": "2024-05-31T09:29:34.003Z"
   },
   {
    "duration": 3,
    "start_time": "2024-05-31T09:29:35.135Z"
   },
   {
    "duration": 16,
    "start_time": "2024-05-31T09:29:35.140Z"
   },
   {
    "duration": 91,
    "start_time": "2024-05-31T09:29:35.158Z"
   },
   {
    "duration": 122,
    "start_time": "2024-05-31T09:29:35.251Z"
   },
   {
    "duration": 1161,
    "start_time": "2024-05-31T09:29:44.421Z"
   },
   {
    "duration": 2,
    "start_time": "2024-05-31T09:29:45.584Z"
   },
   {
    "duration": 6,
    "start_time": "2024-05-31T09:29:45.588Z"
   },
   {
    "duration": 85,
    "start_time": "2024-05-31T09:29:45.596Z"
   },
   {
    "duration": 114,
    "start_time": "2024-05-31T09:29:45.683Z"
   },
   {
    "duration": 1259,
    "start_time": "2024-05-31T09:33:00.124Z"
   },
   {
    "duration": 3,
    "start_time": "2024-05-31T09:33:01.386Z"
   },
   {
    "duration": 70,
    "start_time": "2024-05-31T09:33:01.391Z"
   },
   {
    "duration": 182,
    "start_time": "2024-05-31T09:33:01.463Z"
   },
   {
    "duration": 57,
    "start_time": "2024-05-31T09:33:01.647Z"
   },
   {
    "duration": 1194,
    "start_time": "2024-05-31T09:36:20.239Z"
   },
   {
    "duration": 3,
    "start_time": "2024-05-31T09:36:21.435Z"
   },
   {
    "duration": 4,
    "start_time": "2024-05-31T09:36:21.440Z"
   },
   {
    "duration": 71,
    "start_time": "2024-05-31T09:36:21.456Z"
   },
   {
    "duration": 49,
    "start_time": "2024-05-31T09:36:21.528Z"
   },
   {
    "duration": 1149,
    "start_time": "2024-05-31T09:38:19.485Z"
   },
   {
    "duration": 2,
    "start_time": "2024-05-31T09:38:20.636Z"
   },
   {
    "duration": 15,
    "start_time": "2024-05-31T09:38:20.640Z"
   },
   {
    "duration": 113,
    "start_time": "2024-05-31T09:38:20.657Z"
   },
   {
    "duration": 46,
    "start_time": "2024-05-31T09:38:20.772Z"
   },
   {
    "duration": 1124,
    "start_time": "2024-05-31T09:51:05.511Z"
   },
   {
    "duration": 3,
    "start_time": "2024-05-31T09:51:06.637Z"
   },
   {
    "duration": 14,
    "start_time": "2024-05-31T09:51:06.642Z"
   },
   {
    "duration": 85,
    "start_time": "2024-05-31T09:51:06.658Z"
   },
   {
    "duration": 51,
    "start_time": "2024-05-31T09:51:06.745Z"
   },
   {
    "duration": 10,
    "start_time": "2024-05-31T09:51:06.798Z"
   },
   {
    "duration": 1193,
    "start_time": "2024-05-31T09:53:43.136Z"
   },
   {
    "duration": 3,
    "start_time": "2024-05-31T09:53:44.331Z"
   },
   {
    "duration": 9,
    "start_time": "2024-05-31T09:53:44.335Z"
   },
   {
    "duration": 72,
    "start_time": "2024-05-31T09:53:44.355Z"
   },
   {
    "duration": 47,
    "start_time": "2024-05-31T09:53:44.429Z"
   },
   {
    "duration": 11,
    "start_time": "2024-05-31T09:53:44.478Z"
   },
   {
    "duration": 11,
    "start_time": "2024-05-31T09:53:44.491Z"
   },
   {
    "duration": 1151,
    "start_time": "2024-05-31T09:55:02.184Z"
   },
   {
    "duration": 4,
    "start_time": "2024-05-31T09:55:03.337Z"
   },
   {
    "duration": 17,
    "start_time": "2024-05-31T09:55:03.342Z"
   },
   {
    "duration": 77,
    "start_time": "2024-05-31T09:55:03.361Z"
   },
   {
    "duration": 52,
    "start_time": "2024-05-31T09:55:03.440Z"
   },
   {
    "duration": 10,
    "start_time": "2024-05-31T09:55:03.494Z"
   },
   {
    "duration": 15,
    "start_time": "2024-05-31T09:55:03.506Z"
   },
   {
    "duration": 1141,
    "start_time": "2024-05-31T09:58:11.706Z"
   },
   {
    "duration": 7,
    "start_time": "2024-05-31T09:58:12.849Z"
   },
   {
    "duration": 8,
    "start_time": "2024-05-31T09:58:12.858Z"
   },
   {
    "duration": 92,
    "start_time": "2024-05-31T09:58:12.868Z"
   },
   {
    "duration": 49,
    "start_time": "2024-05-31T09:58:12.962Z"
   },
   {
    "duration": 8,
    "start_time": "2024-05-31T09:58:13.012Z"
   },
   {
    "duration": 41,
    "start_time": "2024-05-31T09:58:13.022Z"
   },
   {
    "duration": 5,
    "start_time": "2024-05-31T09:58:13.065Z"
   },
   {
    "duration": 1170,
    "start_time": "2024-05-31T10:05:00.059Z"
   },
   {
    "duration": 3,
    "start_time": "2024-05-31T10:05:01.231Z"
   },
   {
    "duration": 118,
    "start_time": "2024-05-31T10:05:01.235Z"
   },
   {
    "duration": 255,
    "start_time": "2024-05-31T10:05:01.355Z"
   },
   {
    "duration": 136,
    "start_time": "2024-05-31T10:05:01.612Z"
   },
   {
    "duration": 32,
    "start_time": "2024-05-31T10:05:01.750Z"
   },
   {
    "duration": 44,
    "start_time": "2024-05-31T10:05:01.784Z"
   },
   {
    "duration": 34,
    "start_time": "2024-05-31T10:05:01.830Z"
   },
   {
    "duration": 62,
    "start_time": "2024-05-31T10:05:01.865Z"
   },
   {
    "duration": 1207,
    "start_time": "2024-05-31T10:07:12.339Z"
   },
   {
    "duration": 2,
    "start_time": "2024-05-31T10:07:13.548Z"
   },
   {
    "duration": 6,
    "start_time": "2024-05-31T10:07:13.555Z"
   },
   {
    "duration": 86,
    "start_time": "2024-05-31T10:07:13.563Z"
   },
   {
    "duration": 60,
    "start_time": "2024-05-31T10:07:13.651Z"
   },
   {
    "duration": 9,
    "start_time": "2024-05-31T10:07:13.712Z"
   },
   {
    "duration": 34,
    "start_time": "2024-05-31T10:07:13.722Z"
   },
   {
    "duration": 5,
    "start_time": "2024-05-31T10:07:13.758Z"
   },
   {
    "duration": 33,
    "start_time": "2024-05-31T10:07:13.765Z"
   },
   {
    "duration": 22,
    "start_time": "2024-05-31T10:09:14.227Z"
   },
   {
    "duration": 17,
    "start_time": "2024-05-31T10:09:22.843Z"
   },
   {
    "duration": 17,
    "start_time": "2024-05-31T10:09:31.492Z"
   },
   {
    "duration": 23,
    "start_time": "2024-05-31T10:12:01.924Z"
   },
   {
    "duration": 18,
    "start_time": "2024-05-31T10:12:19.005Z"
   },
   {
    "duration": 108,
    "start_time": "2024-05-31T10:20:40.700Z"
   },
   {
    "duration": 11,
    "start_time": "2024-05-31T10:20:48.273Z"
   },
   {
    "duration": 13,
    "start_time": "2024-05-31T10:20:55.554Z"
   },
   {
    "duration": 10,
    "start_time": "2024-05-31T10:20:58.586Z"
   },
   {
    "duration": 8,
    "start_time": "2024-05-31T10:22:44.504Z"
   },
   {
    "duration": 224,
    "start_time": "2024-05-31T10:39:47.943Z"
   },
   {
    "duration": 206,
    "start_time": "2024-05-31T10:41:26.588Z"
   },
   {
    "duration": 247,
    "start_time": "2024-05-31T10:41:49.335Z"
   },
   {
    "duration": 185,
    "start_time": "2024-05-31T10:42:11.155Z"
   },
   {
    "duration": 184,
    "start_time": "2024-05-31T10:43:57.523Z"
   },
   {
    "duration": 189,
    "start_time": "2024-05-31T10:44:13.127Z"
   },
   {
    "duration": 172,
    "start_time": "2024-05-31T10:45:35.570Z"
   },
   {
    "duration": 1119,
    "start_time": "2024-05-31T10:48:54.005Z"
   },
   {
    "duration": 3,
    "start_time": "2024-05-31T10:48:55.126Z"
   },
   {
    "duration": 5,
    "start_time": "2024-05-31T10:48:55.131Z"
   },
   {
    "duration": 78,
    "start_time": "2024-05-31T10:48:55.137Z"
   },
   {
    "duration": 51,
    "start_time": "2024-05-31T10:48:55.219Z"
   },
   {
    "duration": 9,
    "start_time": "2024-05-31T10:48:55.272Z"
   },
   {
    "duration": 13,
    "start_time": "2024-05-31T10:48:55.283Z"
   },
   {
    "duration": 6,
    "start_time": "2024-05-31T10:48:55.297Z"
   },
   {
    "duration": 50,
    "start_time": "2024-05-31T10:48:55.305Z"
   },
   {
    "duration": 10,
    "start_time": "2024-05-31T10:48:55.358Z"
   },
   {
    "duration": 213,
    "start_time": "2024-05-31T10:48:55.370Z"
   },
   {
    "duration": 1132,
    "start_time": "2024-05-31T10:51:36.676Z"
   },
   {
    "duration": 3,
    "start_time": "2024-05-31T10:51:37.810Z"
   },
   {
    "duration": 10,
    "start_time": "2024-05-31T10:51:37.814Z"
   },
   {
    "duration": 90,
    "start_time": "2024-05-31T10:51:37.825Z"
   },
   {
    "duration": 44,
    "start_time": "2024-05-31T10:51:37.917Z"
   },
   {
    "duration": 8,
    "start_time": "2024-05-31T10:51:37.963Z"
   },
   {
    "duration": 11,
    "start_time": "2024-05-31T10:51:37.972Z"
   },
   {
    "duration": 5,
    "start_time": "2024-05-31T10:51:37.985Z"
   },
   {
    "duration": 25,
    "start_time": "2024-05-31T10:51:37.992Z"
   },
   {
    "duration": 8,
    "start_time": "2024-05-31T10:51:38.019Z"
   },
   {
    "duration": 313,
    "start_time": "2024-05-31T10:51:38.028Z"
   },
   {
    "duration": 187,
    "start_time": "2024-05-31T10:57:19.348Z"
   },
   {
    "duration": 172,
    "start_time": "2024-05-31T11:00:53.005Z"
   },
   {
    "duration": 168,
    "start_time": "2024-05-31T11:02:00.809Z"
   },
   {
    "duration": 168,
    "start_time": "2024-05-31T11:03:11.097Z"
   },
   {
    "duration": 1119,
    "start_time": "2024-05-31T11:03:30.521Z"
   },
   {
    "duration": 3,
    "start_time": "2024-05-31T11:03:31.642Z"
   },
   {
    "duration": 43,
    "start_time": "2024-05-31T11:03:31.647Z"
   },
   {
    "duration": 119,
    "start_time": "2024-05-31T11:03:31.693Z"
   },
   {
    "duration": 55,
    "start_time": "2024-05-31T11:03:31.814Z"
   },
   {
    "duration": 8,
    "start_time": "2024-05-31T11:03:31.871Z"
   },
   {
    "duration": 17,
    "start_time": "2024-05-31T11:03:31.881Z"
   },
   {
    "duration": 9,
    "start_time": "2024-05-31T11:03:31.900Z"
   },
   {
    "duration": 47,
    "start_time": "2024-05-31T11:03:31.910Z"
   },
   {
    "duration": 22,
    "start_time": "2024-05-31T11:03:31.959Z"
   },
   {
    "duration": 200,
    "start_time": "2024-05-31T11:03:31.983Z"
   },
   {
    "duration": 184,
    "start_time": "2024-05-31T11:03:45.143Z"
   },
   {
    "duration": 182,
    "start_time": "2024-05-31T11:05:47.587Z"
   },
   {
    "duration": 1201,
    "start_time": "2024-05-31T11:06:06.029Z"
   },
   {
    "duration": 2,
    "start_time": "2024-05-31T11:06:07.232Z"
   },
   {
    "duration": 4,
    "start_time": "2024-05-31T11:06:07.236Z"
   },
   {
    "duration": 80,
    "start_time": "2024-05-31T11:06:07.242Z"
   },
   {
    "duration": 49,
    "start_time": "2024-05-31T11:06:07.324Z"
   },
   {
    "duration": 8,
    "start_time": "2024-05-31T11:06:07.375Z"
   },
   {
    "duration": 12,
    "start_time": "2024-05-31T11:06:07.385Z"
   },
   {
    "duration": 5,
    "start_time": "2024-05-31T11:06:07.399Z"
   },
   {
    "duration": 19,
    "start_time": "2024-05-31T11:06:07.405Z"
   },
   {
    "duration": 35,
    "start_time": "2024-05-31T11:06:07.426Z"
   },
   {
    "duration": 198,
    "start_time": "2024-05-31T11:06:07.462Z"
   },
   {
    "duration": 1260,
    "start_time": "2024-06-04T09:55:34.138Z"
   },
   {
    "duration": 3,
    "start_time": "2024-06-04T09:55:35.400Z"
   },
   {
    "duration": 11,
    "start_time": "2024-06-04T09:55:35.405Z"
   },
   {
    "duration": 205,
    "start_time": "2024-06-04T09:55:35.418Z"
   },
   {
    "duration": 49,
    "start_time": "2024-06-04T09:55:35.625Z"
   },
   {
    "duration": 9,
    "start_time": "2024-06-04T09:55:35.675Z"
   },
   {
    "duration": 27,
    "start_time": "2024-06-04T09:55:35.685Z"
   },
   {
    "duration": 34,
    "start_time": "2024-06-04T09:55:35.714Z"
   },
   {
    "duration": 20,
    "start_time": "2024-06-04T09:55:35.751Z"
   },
   {
    "duration": 10,
    "start_time": "2024-06-04T09:55:35.774Z"
   },
   {
    "duration": 237,
    "start_time": "2024-06-04T09:55:35.786Z"
   },
   {
    "duration": 157,
    "start_time": "2024-06-04T09:58:53.605Z"
   },
   {
    "duration": 163,
    "start_time": "2024-06-04T09:59:14.536Z"
   },
   {
    "duration": 163,
    "start_time": "2024-06-04T09:59:27.175Z"
   },
   {
    "duration": 162,
    "start_time": "2024-06-04T09:59:37.872Z"
   },
   {
    "duration": 164,
    "start_time": "2024-06-04T09:59:47.360Z"
   },
   {
    "duration": 183,
    "start_time": "2024-06-04T10:03:14.985Z"
   },
   {
    "duration": 159,
    "start_time": "2024-06-04T10:03:26.735Z"
   },
   {
    "duration": 5,
    "start_time": "2024-06-04T10:10:44.782Z"
   },
   {
    "duration": 168,
    "start_time": "2024-06-04T10:11:36.023Z"
   },
   {
    "duration": 134,
    "start_time": "2024-06-04T10:11:45.172Z"
   },
   {
    "duration": 121,
    "start_time": "2024-06-04T10:12:25.321Z"
   },
   {
    "duration": 199,
    "start_time": "2024-06-04T10:14:38.645Z"
   },
   {
    "duration": 142,
    "start_time": "2024-06-04T10:14:38.846Z"
   },
   {
    "duration": 84,
    "start_time": "2024-06-04T10:14:55.169Z"
   },
   {
    "duration": 87,
    "start_time": "2024-06-04T10:15:31.952Z"
   },
   {
    "duration": 86,
    "start_time": "2024-06-04T10:17:20.336Z"
   },
   {
    "duration": 98,
    "start_time": "2024-06-04T10:17:25.913Z"
   },
   {
    "duration": 86,
    "start_time": "2024-06-04T10:19:04.566Z"
   },
   {
    "duration": 87,
    "start_time": "2024-06-04T10:19:28.172Z"
   },
   {
    "duration": 183,
    "start_time": "2024-06-04T10:19:41.945Z"
   },
   {
    "duration": 83,
    "start_time": "2024-06-04T10:19:52.881Z"
   },
   {
    "duration": 162,
    "start_time": "2024-06-04T10:21:55.695Z"
   },
   {
    "duration": 119,
    "start_time": "2024-06-04T10:22:02.598Z"
   },
   {
    "duration": 84,
    "start_time": "2024-06-04T10:22:06.372Z"
   },
   {
    "duration": 82,
    "start_time": "2024-06-04T10:22:10.528Z"
   },
   {
    "duration": 95,
    "start_time": "2024-06-04T10:22:14.971Z"
   },
   {
    "duration": 86,
    "start_time": "2024-06-04T10:22:52.038Z"
   },
   {
    "duration": 90,
    "start_time": "2024-06-04T10:23:01.371Z"
   },
   {
    "duration": 88,
    "start_time": "2024-06-04T10:23:31.290Z"
   },
   {
    "duration": 87,
    "start_time": "2024-06-04T10:24:06.005Z"
   },
   {
    "duration": 86,
    "start_time": "2024-06-04T10:24:20.612Z"
   },
   {
    "duration": 90,
    "start_time": "2024-06-04T10:26:23.752Z"
   },
   {
    "duration": 97,
    "start_time": "2024-06-04T10:26:29.317Z"
   },
   {
    "duration": 93,
    "start_time": "2024-06-04T10:26:34.389Z"
   },
   {
    "duration": 87,
    "start_time": "2024-06-04T10:26:41.016Z"
   },
   {
    "duration": 91,
    "start_time": "2024-06-04T10:27:06.669Z"
   },
   {
    "duration": 221,
    "start_time": "2024-06-04T10:27:13.931Z"
   },
   {
    "duration": 136,
    "start_time": "2024-06-04T10:27:19.248Z"
   },
   {
    "duration": 175,
    "start_time": "2024-06-04T10:28:58.338Z"
   },
   {
    "duration": 160,
    "start_time": "2024-06-04T10:29:54.530Z"
   },
   {
    "duration": 1140,
    "start_time": "2024-06-04T10:29:59.606Z"
   },
   {
    "duration": 3,
    "start_time": "2024-06-04T10:30:00.748Z"
   },
   {
    "duration": 210,
    "start_time": "2024-06-04T10:30:00.752Z"
   },
   {
    "duration": 141,
    "start_time": "2024-06-04T10:30:00.964Z"
   },
   {
    "duration": 47,
    "start_time": "2024-06-04T10:30:01.107Z"
   },
   {
    "duration": 47,
    "start_time": "2024-06-04T10:30:01.155Z"
   },
   {
    "duration": 55,
    "start_time": "2024-06-04T10:30:01.204Z"
   },
   {
    "duration": 47,
    "start_time": "2024-06-04T10:30:01.261Z"
   },
   {
    "duration": 61,
    "start_time": "2024-06-04T10:30:01.309Z"
   },
   {
    "duration": 47,
    "start_time": "2024-06-04T10:30:01.373Z"
   },
   {
    "duration": 207,
    "start_time": "2024-06-04T10:30:01.422Z"
   },
   {
    "duration": 242,
    "start_time": "2024-06-04T10:30:01.631Z"
   },
   {
    "duration": 109,
    "start_time": "2024-06-04T10:30:50.164Z"
   },
   {
    "duration": 1186,
    "start_time": "2024-06-04T10:35:34.173Z"
   },
   {
    "duration": 3,
    "start_time": "2024-06-04T10:35:35.362Z"
   },
   {
    "duration": 41,
    "start_time": "2024-06-04T10:35:35.366Z"
   },
   {
    "duration": 93,
    "start_time": "2024-06-04T10:35:35.409Z"
   },
   {
    "duration": 48,
    "start_time": "2024-06-04T10:35:35.504Z"
   },
   {
    "duration": 8,
    "start_time": "2024-06-04T10:35:35.553Z"
   },
   {
    "duration": 29,
    "start_time": "2024-06-04T10:35:35.562Z"
   },
   {
    "duration": 7,
    "start_time": "2024-06-04T10:35:35.593Z"
   },
   {
    "duration": 33,
    "start_time": "2024-06-04T10:35:35.601Z"
   },
   {
    "duration": 30,
    "start_time": "2024-06-04T10:35:35.635Z"
   },
   {
    "duration": 210,
    "start_time": "2024-06-04T10:35:35.667Z"
   },
   {
    "duration": 114,
    "start_time": "2024-06-04T10:35:35.882Z"
   },
   {
    "duration": 1127,
    "start_time": "2024-06-04T10:35:58.829Z"
   },
   {
    "duration": 2,
    "start_time": "2024-06-04T10:35:59.958Z"
   },
   {
    "duration": 20,
    "start_time": "2024-06-04T10:35:59.962Z"
   },
   {
    "duration": 77,
    "start_time": "2024-06-04T10:35:59.984Z"
   },
   {
    "duration": 53,
    "start_time": "2024-06-04T10:36:00.063Z"
   },
   {
    "duration": 48,
    "start_time": "2024-06-04T10:36:00.118Z"
   },
   {
    "duration": 72,
    "start_time": "2024-06-04T10:36:00.168Z"
   },
   {
    "duration": 80,
    "start_time": "2024-06-04T10:36:00.242Z"
   },
   {
    "duration": 162,
    "start_time": "2024-06-04T10:36:00.324Z"
   },
   {
    "duration": 50,
    "start_time": "2024-06-04T10:36:00.487Z"
   },
   {
    "duration": 228,
    "start_time": "2024-06-04T10:36:00.538Z"
   },
   {
    "duration": 117,
    "start_time": "2024-06-04T10:36:00.767Z"
   },
   {
    "duration": 199,
    "start_time": "2024-06-04T10:38:17.164Z"
   },
   {
    "duration": 113,
    "start_time": "2024-06-04T10:38:39.028Z"
   },
   {
    "duration": 102,
    "start_time": "2024-06-04T10:38:48.580Z"
   },
   {
    "duration": 119,
    "start_time": "2024-06-04T10:39:49.236Z"
   },
   {
    "duration": 106,
    "start_time": "2024-06-04T10:40:05.928Z"
   },
   {
    "duration": 106,
    "start_time": "2024-06-04T10:40:30.655Z"
   },
   {
    "duration": 118,
    "start_time": "2024-06-04T10:40:37.918Z"
   },
   {
    "duration": 173,
    "start_time": "2024-06-04T10:40:56.674Z"
   },
   {
    "duration": 98,
    "start_time": "2024-06-04T10:41:40.428Z"
   },
   {
    "duration": 1116,
    "start_time": "2024-06-04T10:44:47.318Z"
   },
   {
    "duration": 3,
    "start_time": "2024-06-04T10:44:48.436Z"
   },
   {
    "duration": 8,
    "start_time": "2024-06-04T10:44:48.440Z"
   },
   {
    "duration": 73,
    "start_time": "2024-06-04T10:44:48.449Z"
   },
   {
    "duration": 52,
    "start_time": "2024-06-04T10:44:48.524Z"
   },
   {
    "duration": 9,
    "start_time": "2024-06-04T10:44:48.582Z"
   },
   {
    "duration": 16,
    "start_time": "2024-06-04T10:44:48.592Z"
   },
   {
    "duration": 6,
    "start_time": "2024-06-04T10:44:48.609Z"
   },
   {
    "duration": 35,
    "start_time": "2024-06-04T10:44:48.617Z"
   },
   {
    "duration": 30,
    "start_time": "2024-06-04T10:44:48.653Z"
   },
   {
    "duration": 184,
    "start_time": "2024-06-04T10:44:48.684Z"
   },
   {
    "duration": 123,
    "start_time": "2024-06-04T10:44:48.870Z"
   },
   {
    "duration": 103,
    "start_time": "2024-06-04T10:51:23.048Z"
   },
   {
    "duration": 102,
    "start_time": "2024-06-04T10:58:52.063Z"
   },
   {
    "duration": 198,
    "start_time": "2024-06-04T10:58:57.798Z"
   },
   {
    "duration": 183,
    "start_time": "2024-06-04T10:59:05.461Z"
   },
   {
    "duration": 175,
    "start_time": "2024-06-04T11:23:34.709Z"
   },
   {
    "duration": 1080,
    "start_time": "2024-06-04T11:33:15.288Z"
   },
   {
    "duration": 998,
    "start_time": "2024-06-04T11:33:25.696Z"
   },
   {
    "duration": 247,
    "start_time": "2024-06-04T11:33:29.404Z"
   },
   {
    "duration": 184,
    "start_time": "2024-06-04T11:34:20.249Z"
   },
   {
    "duration": 1139,
    "start_time": "2024-06-04T11:34:26.819Z"
   },
   {
    "duration": 3,
    "start_time": "2024-06-04T11:34:27.960Z"
   },
   {
    "duration": 18,
    "start_time": "2024-06-04T11:34:27.964Z"
   },
   {
    "duration": 95,
    "start_time": "2024-06-04T11:34:27.984Z"
   },
   {
    "duration": 45,
    "start_time": "2024-06-04T11:34:28.081Z"
   },
   {
    "duration": 8,
    "start_time": "2024-06-04T11:34:28.127Z"
   },
   {
    "duration": 47,
    "start_time": "2024-06-04T11:34:28.136Z"
   },
   {
    "duration": 5,
    "start_time": "2024-06-04T11:34:28.185Z"
   },
   {
    "duration": 36,
    "start_time": "2024-06-04T11:34:28.192Z"
   },
   {
    "duration": 7,
    "start_time": "2024-06-04T11:34:28.229Z"
   },
   {
    "duration": 195,
    "start_time": "2024-06-04T11:34:28.238Z"
   },
   {
    "duration": 110,
    "start_time": "2024-06-04T11:34:28.434Z"
   },
   {
    "duration": 181,
    "start_time": "2024-06-04T11:34:28.546Z"
   },
   {
    "duration": 192,
    "start_time": "2024-06-04T11:34:28.729Z"
   },
   {
    "duration": 1150,
    "start_time": "2024-06-04T11:39:27.145Z"
   },
   {
    "duration": 4,
    "start_time": "2024-06-04T11:39:28.297Z"
   },
   {
    "duration": 8,
    "start_time": "2024-06-04T11:39:28.302Z"
   },
   {
    "duration": 74,
    "start_time": "2024-06-04T11:39:28.313Z"
   },
   {
    "duration": 52,
    "start_time": "2024-06-04T11:39:28.388Z"
   },
   {
    "duration": 43,
    "start_time": "2024-06-04T11:39:28.442Z"
   },
   {
    "duration": 14,
    "start_time": "2024-06-04T11:39:28.487Z"
   },
   {
    "duration": 12,
    "start_time": "2024-06-04T11:39:28.503Z"
   },
   {
    "duration": 45,
    "start_time": "2024-06-04T11:39:28.517Z"
   },
   {
    "duration": 22,
    "start_time": "2024-06-04T11:39:28.565Z"
   },
   {
    "duration": 193,
    "start_time": "2024-06-04T11:39:28.589Z"
   },
   {
    "duration": 107,
    "start_time": "2024-06-04T11:39:28.784Z"
   },
   {
    "duration": 193,
    "start_time": "2024-06-04T11:39:28.893Z"
   },
   {
    "duration": 210,
    "start_time": "2024-06-04T11:39:29.088Z"
   },
   {
    "duration": 168,
    "start_time": "2024-06-04T11:39:40.392Z"
   },
   {
    "duration": 221,
    "start_time": "2024-06-04T11:39:45.951Z"
   },
   {
    "duration": 212,
    "start_time": "2024-06-04T11:39:55.232Z"
   },
   {
    "duration": 224,
    "start_time": "2024-06-04T11:51:54.565Z"
   },
   {
    "duration": 378,
    "start_time": "2024-06-04T11:53:28.512Z"
   },
   {
    "duration": 215,
    "start_time": "2024-06-04T11:53:39.204Z"
   },
   {
    "duration": 167,
    "start_time": "2024-06-04T12:00:22.718Z"
   },
   {
    "duration": 266,
    "start_time": "2024-06-04T12:07:09.161Z"
   },
   {
    "duration": 1191,
    "start_time": "2024-06-04T12:07:45.556Z"
   },
   {
    "duration": 3,
    "start_time": "2024-06-04T12:07:46.749Z"
   },
   {
    "duration": 18,
    "start_time": "2024-06-04T12:07:46.753Z"
   },
   {
    "duration": 81,
    "start_time": "2024-06-04T12:07:46.773Z"
   },
   {
    "duration": 46,
    "start_time": "2024-06-04T12:07:46.856Z"
   },
   {
    "duration": 9,
    "start_time": "2024-06-04T12:07:46.903Z"
   },
   {
    "duration": 17,
    "start_time": "2024-06-04T12:07:46.913Z"
   },
   {
    "duration": 5,
    "start_time": "2024-06-04T12:07:46.932Z"
   },
   {
    "duration": 51,
    "start_time": "2024-06-04T12:07:46.939Z"
   },
   {
    "duration": 8,
    "start_time": "2024-06-04T12:07:46.993Z"
   },
   {
    "duration": 198,
    "start_time": "2024-06-04T12:07:47.002Z"
   },
   {
    "duration": 129,
    "start_time": "2024-06-04T12:07:47.202Z"
   },
   {
    "duration": 206,
    "start_time": "2024-06-04T12:07:47.333Z"
   },
   {
    "duration": 246,
    "start_time": "2024-06-04T12:07:47.540Z"
   },
   {
    "duration": 244,
    "start_time": "2024-06-04T12:07:47.788Z"
   },
   {
    "duration": 187,
    "start_time": "2024-06-04T12:07:48.033Z"
   },
   {
    "duration": 180,
    "start_time": "2024-06-04T12:09:02.347Z"
   },
   {
    "duration": 6,
    "start_time": "2024-06-04T12:13:58.581Z"
   },
   {
    "duration": 6,
    "start_time": "2024-06-04T12:14:20.079Z"
   },
   {
    "duration": 7,
    "start_time": "2024-06-04T12:14:24.628Z"
   },
   {
    "duration": 6,
    "start_time": "2024-06-04T12:14:57.491Z"
   },
   {
    "duration": 7,
    "start_time": "2024-06-04T12:15:00.633Z"
   },
   {
    "duration": 1184,
    "start_time": "2024-06-04T12:15:05.674Z"
   },
   {
    "duration": 2,
    "start_time": "2024-06-04T12:15:06.860Z"
   },
   {
    "duration": 28,
    "start_time": "2024-06-04T12:15:06.864Z"
   },
   {
    "duration": 79,
    "start_time": "2024-06-04T12:15:06.894Z"
   },
   {
    "duration": 47,
    "start_time": "2024-06-04T12:15:06.975Z"
   },
   {
    "duration": 8,
    "start_time": "2024-06-04T12:15:07.023Z"
   },
   {
    "duration": 31,
    "start_time": "2024-06-04T12:15:07.033Z"
   },
   {
    "duration": 5,
    "start_time": "2024-06-04T12:15:07.083Z"
   },
   {
    "duration": 19,
    "start_time": "2024-06-04T12:15:07.090Z"
   },
   {
    "duration": 7,
    "start_time": "2024-06-04T12:15:07.110Z"
   },
   {
    "duration": 221,
    "start_time": "2024-06-04T12:15:07.119Z"
   },
   {
    "duration": 110,
    "start_time": "2024-06-04T12:15:07.342Z"
   },
   {
    "duration": 196,
    "start_time": "2024-06-04T12:15:07.454Z"
   },
   {
    "duration": 235,
    "start_time": "2024-06-04T12:15:07.653Z"
   },
   {
    "duration": 245,
    "start_time": "2024-06-04T12:15:07.891Z"
   },
   {
    "duration": 195,
    "start_time": "2024-06-04T12:15:08.138Z"
   },
   {
    "duration": 7,
    "start_time": "2024-06-04T12:15:08.334Z"
   },
   {
    "duration": 6,
    "start_time": "2024-06-04T12:15:43.522Z"
   },
   {
    "duration": 5,
    "start_time": "2024-06-04T12:16:07.233Z"
   },
   {
    "duration": 215,
    "start_time": "2024-06-04T12:44:48.019Z"
   },
   {
    "duration": 156,
    "start_time": "2024-06-04T13:06:20.257Z"
   },
   {
    "duration": 199,
    "start_time": "2024-06-04T13:06:24.959Z"
   },
   {
    "duration": 266,
    "start_time": "2024-06-04T13:06:30.442Z"
   },
   {
    "duration": 1159,
    "start_time": "2024-06-04T13:06:36.087Z"
   },
   {
    "duration": 2,
    "start_time": "2024-06-04T13:06:37.248Z"
   },
   {
    "duration": 35,
    "start_time": "2024-06-04T13:06:37.252Z"
   },
   {
    "duration": 93,
    "start_time": "2024-06-04T13:06:37.289Z"
   },
   {
    "duration": 49,
    "start_time": "2024-06-04T13:06:37.384Z"
   },
   {
    "duration": 9,
    "start_time": "2024-06-04T13:06:37.435Z"
   },
   {
    "duration": 46,
    "start_time": "2024-06-04T13:06:37.445Z"
   },
   {
    "duration": 38,
    "start_time": "2024-06-04T13:06:37.493Z"
   },
   {
    "duration": 49,
    "start_time": "2024-06-04T13:06:37.532Z"
   },
   {
    "duration": 8,
    "start_time": "2024-06-04T13:06:37.583Z"
   },
   {
    "duration": 226,
    "start_time": "2024-06-04T13:06:37.592Z"
   },
   {
    "duration": 121,
    "start_time": "2024-06-04T13:06:37.820Z"
   },
   {
    "duration": 190,
    "start_time": "2024-06-04T13:06:37.943Z"
   },
   {
    "duration": 237,
    "start_time": "2024-06-04T13:06:38.135Z"
   },
   {
    "duration": 234,
    "start_time": "2024-06-04T13:06:38.381Z"
   },
   {
    "duration": 188,
    "start_time": "2024-06-04T13:06:38.617Z"
   },
   {
    "duration": 5,
    "start_time": "2024-06-04T13:06:38.807Z"
   },
   {
    "duration": 28,
    "start_time": "2024-06-04T13:16:11.901Z"
   },
   {
    "duration": 14,
    "start_time": "2024-06-04T14:08:17.701Z"
   },
   {
    "duration": 12,
    "start_time": "2024-06-04T14:08:27.127Z"
   },
   {
    "duration": 13,
    "start_time": "2024-06-04T14:08:39.770Z"
   },
   {
    "duration": 24,
    "start_time": "2024-06-04T15:55:55.729Z"
   },
   {
    "duration": 1699,
    "start_time": "2024-06-04T15:57:01.540Z"
   },
   {
    "duration": 298,
    "start_time": "2024-06-04T16:03:25.534Z"
   },
   {
    "duration": 1198,
    "start_time": "2024-06-04T16:04:48.960Z"
   },
   {
    "duration": 3,
    "start_time": "2024-06-04T16:04:50.160Z"
   },
   {
    "duration": 39,
    "start_time": "2024-06-04T16:04:50.164Z"
   },
   {
    "duration": 119,
    "start_time": "2024-06-04T16:04:50.205Z"
   },
   {
    "duration": 48,
    "start_time": "2024-06-04T16:04:50.325Z"
   },
   {
    "duration": 11,
    "start_time": "2024-06-04T16:04:50.375Z"
   },
   {
    "duration": 25,
    "start_time": "2024-06-04T16:04:50.387Z"
   },
   {
    "duration": 27,
    "start_time": "2024-06-04T16:04:50.414Z"
   },
   {
    "duration": 41,
    "start_time": "2024-06-04T16:04:50.442Z"
   },
   {
    "duration": 7,
    "start_time": "2024-06-04T16:04:50.486Z"
   },
   {
    "duration": 201,
    "start_time": "2024-06-04T16:04:50.495Z"
   },
   {
    "duration": 113,
    "start_time": "2024-06-04T16:04:50.698Z"
   },
   {
    "duration": 204,
    "start_time": "2024-06-04T16:04:50.813Z"
   },
   {
    "duration": 229,
    "start_time": "2024-06-04T16:04:51.019Z"
   },
   {
    "duration": 242,
    "start_time": "2024-06-04T16:04:51.249Z"
   },
   {
    "duration": 194,
    "start_time": "2024-06-04T16:04:51.493Z"
   },
   {
    "duration": 5,
    "start_time": "2024-06-04T16:04:51.689Z"
   },
   {
    "duration": 59,
    "start_time": "2024-06-04T16:04:51.696Z"
   },
   {
    "duration": 11,
    "start_time": "2024-06-04T16:04:51.757Z"
   },
   {
    "duration": 24,
    "start_time": "2024-06-04T16:04:51.770Z"
   },
   {
    "duration": 230,
    "start_time": "2024-06-04T16:04:51.796Z"
   },
   {
    "duration": 211,
    "start_time": "2024-06-04T16:04:52.028Z"
   },
   {
    "duration": 233,
    "start_time": "2024-06-04T16:04:52.241Z"
   },
   {
    "duration": 345,
    "start_time": "2024-06-04T16:04:52.476Z"
   },
   {
    "duration": 1270,
    "start_time": "2024-06-04T17:27:52.951Z"
   },
   {
    "duration": 1952,
    "start_time": "2024-06-04T17:28:18.390Z"
   },
   {
    "duration": 835,
    "start_time": "2024-06-04T17:29:51.473Z"
   },
   {
    "duration": 1058,
    "start_time": "2024-06-04T17:30:42.213Z"
   },
   {
    "duration": 968,
    "start_time": "2024-06-04T17:30:54.666Z"
   },
   {
    "duration": 794,
    "start_time": "2024-06-04T17:31:22.646Z"
   },
   {
    "duration": 872,
    "start_time": "2024-06-04T17:32:23.757Z"
   },
   {
    "duration": 810,
    "start_time": "2024-06-04T17:32:39.118Z"
   },
   {
    "duration": 816,
    "start_time": "2024-06-04T17:35:24.846Z"
   },
   {
    "duration": 809,
    "start_time": "2024-06-04T17:40:22.842Z"
   },
   {
    "duration": 956,
    "start_time": "2024-06-04T17:40:30.315Z"
   },
   {
    "duration": 1429,
    "start_time": "2024-06-05T07:26:55.185Z"
   },
   {
    "duration": 3,
    "start_time": "2024-06-05T07:26:56.616Z"
   },
   {
    "duration": 26,
    "start_time": "2024-06-05T07:26:56.621Z"
   },
   {
    "duration": 324,
    "start_time": "2024-06-05T07:26:56.649Z"
   },
   {
    "duration": 56,
    "start_time": "2024-06-05T07:26:56.976Z"
   },
   {
    "duration": 13,
    "start_time": "2024-06-05T07:26:57.035Z"
   },
   {
    "duration": 44,
    "start_time": "2024-06-05T07:26:57.051Z"
   },
   {
    "duration": 9,
    "start_time": "2024-06-05T07:26:57.097Z"
   },
   {
    "duration": 29,
    "start_time": "2024-06-05T07:26:57.108Z"
   },
   {
    "duration": 12,
    "start_time": "2024-06-05T07:26:57.139Z"
   },
   {
    "duration": 228,
    "start_time": "2024-06-05T07:26:57.152Z"
   },
   {
    "duration": 123,
    "start_time": "2024-06-05T07:26:57.381Z"
   },
   {
    "duration": 193,
    "start_time": "2024-06-05T07:26:57.506Z"
   },
   {
    "duration": 232,
    "start_time": "2024-06-05T07:26:57.703Z"
   },
   {
    "duration": 262,
    "start_time": "2024-06-05T07:26:57.937Z"
   },
   {
    "duration": 193,
    "start_time": "2024-06-05T07:26:58.201Z"
   },
   {
    "duration": 6,
    "start_time": "2024-06-05T07:26:58.396Z"
   },
   {
    "duration": 50,
    "start_time": "2024-06-05T07:26:58.403Z"
   },
   {
    "duration": 18,
    "start_time": "2024-06-05T07:26:58.455Z"
   },
   {
    "duration": 39,
    "start_time": "2024-06-05T07:26:58.475Z"
   },
   {
    "duration": 896,
    "start_time": "2024-06-05T07:26:58.516Z"
   },
   {
    "duration": 930,
    "start_time": "2024-06-05T07:27:42.390Z"
   },
   {
    "duration": 881,
    "start_time": "2024-06-05T07:27:49.127Z"
   },
   {
    "duration": 55,
    "start_time": "2024-06-05T07:27:56.036Z"
   },
   {
    "duration": 51,
    "start_time": "2024-06-05T07:27:59.830Z"
   },
   {
    "duration": 834,
    "start_time": "2024-06-05T07:28:04.275Z"
   },
   {
    "duration": 1021,
    "start_time": "2024-06-05T07:28:38.542Z"
   },
   {
    "duration": 1203,
    "start_time": "2024-06-05T07:28:59.085Z"
   },
   {
    "duration": 2,
    "start_time": "2024-06-05T07:29:00.291Z"
   },
   {
    "duration": 127,
    "start_time": "2024-06-05T07:29:00.295Z"
   },
   {
    "duration": 749,
    "start_time": "2024-06-05T07:29:00.424Z"
   },
   {
    "duration": 166,
    "start_time": "2024-06-05T07:29:01.175Z"
   },
   {
    "duration": 27,
    "start_time": "2024-06-05T07:29:01.343Z"
   },
   {
    "duration": 67,
    "start_time": "2024-06-05T07:29:01.371Z"
   },
   {
    "duration": 10,
    "start_time": "2024-06-05T07:29:01.439Z"
   },
   {
    "duration": 63,
    "start_time": "2024-06-05T07:29:01.451Z"
   },
   {
    "duration": 56,
    "start_time": "2024-06-05T07:29:01.517Z"
   },
   {
    "duration": 232,
    "start_time": "2024-06-05T07:29:01.574Z"
   },
   {
    "duration": 116,
    "start_time": "2024-06-05T07:29:01.809Z"
   },
   {
    "duration": 378,
    "start_time": "2024-06-05T07:29:01.927Z"
   },
   {
    "duration": 485,
    "start_time": "2024-06-05T07:29:02.307Z"
   },
   {
    "duration": 250,
    "start_time": "2024-06-05T07:29:02.794Z"
   },
   {
    "duration": 193,
    "start_time": "2024-06-05T07:29:03.046Z"
   },
   {
    "duration": 163,
    "start_time": "2024-06-05T07:29:03.241Z"
   },
   {
    "duration": 27,
    "start_time": "2024-06-05T07:29:03.406Z"
   },
   {
    "duration": 14,
    "start_time": "2024-06-05T07:29:03.435Z"
   },
   {
    "duration": 24,
    "start_time": "2024-06-05T07:29:03.452Z"
   },
   {
    "duration": 851,
    "start_time": "2024-06-05T07:29:03.478Z"
   },
   {
    "duration": 132,
    "start_time": "2024-06-05T07:37:22.169Z"
   },
   {
    "duration": 20,
    "start_time": "2024-06-05T07:39:30.894Z"
   },
   {
    "duration": 124,
    "start_time": "2024-06-05T07:40:15.706Z"
   },
   {
    "duration": 1165,
    "start_time": "2024-06-05T07:40:32.327Z"
   },
   {
    "duration": 3,
    "start_time": "2024-06-05T07:40:33.494Z"
   },
   {
    "duration": 6,
    "start_time": "2024-06-05T07:40:33.498Z"
   },
   {
    "duration": 83,
    "start_time": "2024-06-05T07:40:33.506Z"
   },
   {
    "duration": 55,
    "start_time": "2024-06-05T07:40:33.591Z"
   },
   {
    "duration": 11,
    "start_time": "2024-06-05T07:40:33.648Z"
   },
   {
    "duration": 13,
    "start_time": "2024-06-05T07:40:33.692Z"
   },
   {
    "duration": 7,
    "start_time": "2024-06-05T07:40:33.707Z"
   },
   {
    "duration": 19,
    "start_time": "2024-06-05T07:40:33.716Z"
   },
   {
    "duration": 9,
    "start_time": "2024-06-05T07:40:33.737Z"
   },
   {
    "duration": 230,
    "start_time": "2024-06-05T07:40:33.748Z"
   },
   {
    "duration": 118,
    "start_time": "2024-06-05T07:40:33.980Z"
   },
   {
    "duration": 197,
    "start_time": "2024-06-05T07:40:34.100Z"
   },
   {
    "duration": 267,
    "start_time": "2024-06-05T07:40:34.299Z"
   },
   {
    "duration": 253,
    "start_time": "2024-06-05T07:40:34.568Z"
   },
   {
    "duration": 208,
    "start_time": "2024-06-05T07:40:34.823Z"
   },
   {
    "duration": 7,
    "start_time": "2024-06-05T07:40:35.033Z"
   },
   {
    "duration": 31,
    "start_time": "2024-06-05T07:40:35.042Z"
   },
   {
    "duration": 30,
    "start_time": "2024-06-05T07:40:35.075Z"
   },
   {
    "duration": 19,
    "start_time": "2024-06-05T07:40:35.107Z"
   },
   {
    "duration": 886,
    "start_time": "2024-06-05T07:40:35.129Z"
   },
   {
    "duration": 163,
    "start_time": "2024-06-05T07:40:36.017Z"
   },
   {
    "duration": 34,
    "start_time": "2024-06-05T07:41:41.822Z"
   },
   {
    "duration": 38,
    "start_time": "2024-06-05T07:41:46.601Z"
   },
   {
    "duration": 17,
    "start_time": "2024-06-05T07:48:55.484Z"
   },
   {
    "duration": 48,
    "start_time": "2024-06-05T07:58:49.502Z"
   },
   {
    "duration": 3,
    "start_time": "2024-06-05T07:58:52.385Z"
   },
   {
    "duration": 16,
    "start_time": "2024-06-05T08:08:56.498Z"
   },
   {
    "duration": 10,
    "start_time": "2024-06-05T08:09:01.548Z"
   },
   {
    "duration": 8,
    "start_time": "2024-06-05T08:11:14.896Z"
   },
   {
    "duration": 13,
    "start_time": "2024-06-05T08:28:55.088Z"
   },
   {
    "duration": 5,
    "start_time": "2024-06-05T08:28:59.208Z"
   },
   {
    "duration": 6,
    "start_time": "2024-06-05T08:30:25.044Z"
   },
   {
    "duration": 6,
    "start_time": "2024-06-05T08:31:45.127Z"
   },
   {
    "duration": 1175,
    "start_time": "2024-06-05T08:31:51.317Z"
   },
   {
    "duration": 3,
    "start_time": "2024-06-05T08:31:52.494Z"
   },
   {
    "duration": 23,
    "start_time": "2024-06-05T08:31:52.498Z"
   },
   {
    "duration": 117,
    "start_time": "2024-06-05T08:31:52.523Z"
   },
   {
    "duration": 49,
    "start_time": "2024-06-05T08:31:52.641Z"
   },
   {
    "duration": 7,
    "start_time": "2024-06-05T08:31:52.692Z"
   },
   {
    "duration": 13,
    "start_time": "2024-06-05T08:31:52.701Z"
   },
   {
    "duration": 50,
    "start_time": "2024-06-05T08:31:52.715Z"
   },
   {
    "duration": 29,
    "start_time": "2024-06-05T08:31:52.767Z"
   },
   {
    "duration": 8,
    "start_time": "2024-06-05T08:31:52.799Z"
   },
   {
    "duration": 210,
    "start_time": "2024-06-05T08:31:52.810Z"
   },
   {
    "duration": 115,
    "start_time": "2024-06-05T08:31:53.022Z"
   },
   {
    "duration": 183,
    "start_time": "2024-06-05T08:31:53.139Z"
   },
   {
    "duration": 226,
    "start_time": "2024-06-05T08:31:53.324Z"
   },
   {
    "duration": 256,
    "start_time": "2024-06-05T08:31:53.552Z"
   },
   {
    "duration": 211,
    "start_time": "2024-06-05T08:31:53.809Z"
   },
   {
    "duration": 6,
    "start_time": "2024-06-05T08:31:54.023Z"
   },
   {
    "duration": 47,
    "start_time": "2024-06-05T08:31:54.031Z"
   },
   {
    "duration": 13,
    "start_time": "2024-06-05T08:31:54.079Z"
   },
   {
    "duration": 22,
    "start_time": "2024-06-05T08:31:54.094Z"
   },
   {
    "duration": 843,
    "start_time": "2024-06-05T08:31:54.118Z"
   },
   {
    "duration": 45,
    "start_time": "2024-06-05T08:31:54.963Z"
   },
   {
    "duration": 15,
    "start_time": "2024-06-05T08:31:55.010Z"
   },
   {
    "duration": 119,
    "start_time": "2024-06-05T08:31:55.026Z"
   },
   {
    "duration": 0,
    "start_time": "2024-06-05T08:31:55.147Z"
   },
   {
    "duration": 1195,
    "start_time": "2024-06-05T08:32:24.279Z"
   },
   {
    "duration": 3,
    "start_time": "2024-06-05T08:32:25.476Z"
   },
   {
    "duration": 25,
    "start_time": "2024-06-05T08:32:25.480Z"
   },
   {
    "duration": 92,
    "start_time": "2024-06-05T08:32:25.507Z"
   },
   {
    "duration": 49,
    "start_time": "2024-06-05T08:32:25.601Z"
   },
   {
    "duration": 8,
    "start_time": "2024-06-05T08:32:25.651Z"
   },
   {
    "duration": 33,
    "start_time": "2024-06-05T08:32:25.661Z"
   },
   {
    "duration": 6,
    "start_time": "2024-06-05T08:32:25.695Z"
   },
   {
    "duration": 22,
    "start_time": "2024-06-05T08:32:25.702Z"
   },
   {
    "duration": 8,
    "start_time": "2024-06-05T08:32:25.725Z"
   },
   {
    "duration": 224,
    "start_time": "2024-06-05T08:32:25.734Z"
   },
   {
    "duration": 122,
    "start_time": "2024-06-05T08:32:25.959Z"
   },
   {
    "duration": 200,
    "start_time": "2024-06-05T08:32:26.091Z"
   },
   {
    "duration": 256,
    "start_time": "2024-06-05T08:32:26.294Z"
   },
   {
    "duration": 248,
    "start_time": "2024-06-05T08:32:26.551Z"
   },
   {
    "duration": 195,
    "start_time": "2024-06-05T08:32:26.800Z"
   },
   {
    "duration": 6,
    "start_time": "2024-06-05T08:32:26.996Z"
   },
   {
    "duration": 29,
    "start_time": "2024-06-05T08:32:27.004Z"
   },
   {
    "duration": 17,
    "start_time": "2024-06-05T08:32:27.035Z"
   },
   {
    "duration": 40,
    "start_time": "2024-06-05T08:32:27.054Z"
   },
   {
    "duration": 797,
    "start_time": "2024-06-05T08:32:27.096Z"
   },
   {
    "duration": 27,
    "start_time": "2024-06-05T08:32:27.895Z"
   },
   {
    "duration": 71,
    "start_time": "2024-06-05T08:32:27.924Z"
   },
   {
    "duration": 63,
    "start_time": "2024-06-05T08:32:27.997Z"
   },
   {
    "duration": 53,
    "start_time": "2024-06-05T08:32:28.062Z"
   },
   {
    "duration": 6,
    "start_time": "2024-06-05T08:38:53.276Z"
   },
   {
    "duration": 6,
    "start_time": "2024-06-05T08:39:48.973Z"
   },
   {
    "duration": 1210,
    "start_time": "2024-06-05T08:41:47.884Z"
   },
   {
    "duration": 3,
    "start_time": "2024-06-05T08:41:49.096Z"
   },
   {
    "duration": 6,
    "start_time": "2024-06-05T08:41:49.101Z"
   },
   {
    "duration": 78,
    "start_time": "2024-06-05T08:41:49.109Z"
   },
   {
    "duration": 53,
    "start_time": "2024-06-05T08:41:49.190Z"
   },
   {
    "duration": 9,
    "start_time": "2024-06-05T08:41:49.245Z"
   },
   {
    "duration": 32,
    "start_time": "2024-06-05T08:41:49.256Z"
   },
   {
    "duration": 9,
    "start_time": "2024-06-05T08:41:49.290Z"
   },
   {
    "duration": 37,
    "start_time": "2024-06-05T08:41:49.301Z"
   },
   {
    "duration": 8,
    "start_time": "2024-06-05T08:41:49.339Z"
   },
   {
    "duration": 200,
    "start_time": "2024-06-05T08:41:49.349Z"
   },
   {
    "duration": 116,
    "start_time": "2024-06-05T08:41:49.551Z"
   },
   {
    "duration": 196,
    "start_time": "2024-06-05T08:41:49.669Z"
   },
   {
    "duration": 236,
    "start_time": "2024-06-05T08:41:49.869Z"
   },
   {
    "duration": 231,
    "start_time": "2024-06-05T08:41:50.107Z"
   },
   {
    "duration": 197,
    "start_time": "2024-06-05T08:41:50.340Z"
   },
   {
    "duration": 7,
    "start_time": "2024-06-05T08:41:50.539Z"
   },
   {
    "duration": 54,
    "start_time": "2024-06-05T08:41:50.548Z"
   },
   {
    "duration": 14,
    "start_time": "2024-06-05T08:41:50.604Z"
   },
   {
    "duration": 17,
    "start_time": "2024-06-05T08:41:50.620Z"
   },
   {
    "duration": 860,
    "start_time": "2024-06-05T08:41:50.639Z"
   },
   {
    "duration": 33,
    "start_time": "2024-06-05T08:41:51.501Z"
   },
   {
    "duration": 18,
    "start_time": "2024-06-05T08:41:51.536Z"
   },
   {
    "duration": 26,
    "start_time": "2024-06-05T08:41:51.556Z"
   },
   {
    "duration": 37,
    "start_time": "2024-06-05T08:41:51.584Z"
   },
   {
    "duration": 113,
    "start_time": "2024-06-05T08:55:31.584Z"
   },
   {
    "duration": 13,
    "start_time": "2024-06-05T08:55:37.816Z"
   },
   {
    "duration": 1276,
    "start_time": "2024-06-05T08:55:59.524Z"
   },
   {
    "duration": 7,
    "start_time": "2024-06-05T08:56:00.802Z"
   },
   {
    "duration": 162,
    "start_time": "2024-06-05T08:56:00.811Z"
   },
   {
    "duration": 187,
    "start_time": "2024-06-05T08:56:00.975Z"
   },
   {
    "duration": 128,
    "start_time": "2024-06-05T08:56:01.165Z"
   },
   {
    "duration": 11,
    "start_time": "2024-06-05T08:56:01.295Z"
   },
   {
    "duration": 69,
    "start_time": "2024-06-05T08:56:01.309Z"
   },
   {
    "duration": 264,
    "start_time": "2024-06-05T08:56:01.380Z"
   },
   {
    "duration": 128,
    "start_time": "2024-06-05T08:56:01.646Z"
   },
   {
    "duration": 29,
    "start_time": "2024-06-05T08:56:01.777Z"
   },
   {
    "duration": 241,
    "start_time": "2024-06-05T08:56:01.808Z"
   },
   {
    "duration": 141,
    "start_time": "2024-06-05T08:56:02.051Z"
   },
   {
    "duration": 189,
    "start_time": "2024-06-05T08:56:02.194Z"
   },
   {
    "duration": 245,
    "start_time": "2024-06-05T08:56:02.394Z"
   },
   {
    "duration": 262,
    "start_time": "2024-06-05T08:56:02.641Z"
   },
   {
    "duration": 233,
    "start_time": "2024-06-05T08:56:02.905Z"
   },
   {
    "duration": 5,
    "start_time": "2024-06-05T08:56:03.140Z"
   },
   {
    "duration": 47,
    "start_time": "2024-06-05T08:56:03.147Z"
   },
   {
    "duration": 12,
    "start_time": "2024-06-05T08:56:03.196Z"
   },
   {
    "duration": 30,
    "start_time": "2024-06-05T08:56:03.210Z"
   },
   {
    "duration": 939,
    "start_time": "2024-06-05T08:56:03.242Z"
   },
   {
    "duration": 46,
    "start_time": "2024-06-05T08:56:04.183Z"
   },
   {
    "duration": 23,
    "start_time": "2024-06-05T08:56:04.232Z"
   },
   {
    "duration": 9,
    "start_time": "2024-06-05T08:56:04.258Z"
   },
   {
    "duration": 30,
    "start_time": "2024-06-05T08:56:04.268Z"
   },
   {
    "duration": 130,
    "start_time": "2024-06-05T08:56:04.300Z"
   },
   {
    "duration": 12,
    "start_time": "2024-06-05T08:57:16.360Z"
   },
   {
    "duration": 13,
    "start_time": "2024-06-05T08:58:03.159Z"
   },
   {
    "duration": 122,
    "start_time": "2024-06-05T10:20:16.164Z"
   },
   {
    "duration": 13,
    "start_time": "2024-06-05T10:20:23.622Z"
   },
   {
    "duration": 11,
    "start_time": "2024-06-05T10:20:29.418Z"
   },
   {
    "duration": 286,
    "start_time": "2024-06-05T10:21:22.883Z"
   },
   {
    "duration": 140,
    "start_time": "2024-06-05T10:25:29.018Z"
   },
   {
    "duration": 2464,
    "start_time": "2024-06-05T10:25:39.642Z"
   },
   {
    "duration": 687,
    "start_time": "2024-06-05T10:27:44.453Z"
   },
   {
    "duration": 677,
    "start_time": "2024-06-05T10:28:09.579Z"
   },
   {
    "duration": 592,
    "start_time": "2024-06-05T10:35:15.487Z"
   },
   {
    "duration": 395,
    "start_time": "2024-06-05T10:37:19.489Z"
   },
   {
    "duration": 448,
    "start_time": "2024-06-05T10:41:16.820Z"
   },
   {
    "duration": 379,
    "start_time": "2024-06-05T10:41:52.871Z"
   },
   {
    "duration": 427,
    "start_time": "2024-06-05T10:42:50.535Z"
   },
   {
    "duration": 1159,
    "start_time": "2024-06-05T10:43:02.901Z"
   },
   {
    "duration": 3,
    "start_time": "2024-06-05T10:43:04.062Z"
   },
   {
    "duration": 53,
    "start_time": "2024-06-05T10:43:04.066Z"
   },
   {
    "duration": 74,
    "start_time": "2024-06-05T10:43:04.121Z"
   },
   {
    "duration": 45,
    "start_time": "2024-06-05T10:43:04.197Z"
   },
   {
    "duration": 7,
    "start_time": "2024-06-05T10:43:04.244Z"
   },
   {
    "duration": 32,
    "start_time": "2024-06-05T10:43:04.253Z"
   },
   {
    "duration": 5,
    "start_time": "2024-06-05T10:43:04.292Z"
   },
   {
    "duration": 124,
    "start_time": "2024-06-05T10:43:04.299Z"
   },
   {
    "duration": 7,
    "start_time": "2024-06-05T10:43:04.426Z"
   },
   {
    "duration": 188,
    "start_time": "2024-06-05T10:43:04.435Z"
   },
   {
    "duration": 110,
    "start_time": "2024-06-05T10:43:04.624Z"
   },
   {
    "duration": 183,
    "start_time": "2024-06-05T10:43:04.736Z"
   },
   {
    "duration": 223,
    "start_time": "2024-06-05T10:43:04.921Z"
   },
   {
    "duration": 250,
    "start_time": "2024-06-05T10:43:05.146Z"
   },
   {
    "duration": 199,
    "start_time": "2024-06-05T10:43:05.398Z"
   },
   {
    "duration": 5,
    "start_time": "2024-06-05T10:43:05.598Z"
   },
   {
    "duration": 30,
    "start_time": "2024-06-05T10:43:05.605Z"
   },
   {
    "duration": 27,
    "start_time": "2024-06-05T10:43:05.637Z"
   },
   {
    "duration": 28,
    "start_time": "2024-06-05T10:43:05.667Z"
   },
   {
    "duration": 822,
    "start_time": "2024-06-05T10:43:05.697Z"
   },
   {
    "duration": 28,
    "start_time": "2024-06-05T10:43:06.521Z"
   },
   {
    "duration": 15,
    "start_time": "2024-06-05T10:43:06.551Z"
   },
   {
    "duration": 28,
    "start_time": "2024-06-05T10:43:06.567Z"
   },
   {
    "duration": 34,
    "start_time": "2024-06-05T10:43:06.597Z"
   },
   {
    "duration": 102,
    "start_time": "2024-06-05T10:43:06.632Z"
   },
   {
    "duration": 486,
    "start_time": "2024-06-05T10:43:06.736Z"
   },
   {
    "duration": 341,
    "start_time": "2024-06-05T10:43:07.225Z"
   }
  ],
  "kernelspec": {
   "display_name": "Python 3 (ipykernel)",
   "language": "python",
   "name": "python3"
  },
  "language_info": {
   "codemirror_mode": {
    "name": "ipython",
    "version": 3
   },
   "file_extension": ".py",
   "mimetype": "text/x-python",
   "name": "python",
   "nbconvert_exporter": "python",
   "pygments_lexer": "ipython3",
   "version": "3.9.5"
  },
  "toc": {
   "base_numbering": 1,
   "nav_menu": {},
   "number_sections": true,
   "sideBar": true,
   "skip_h1_title": true,
   "title_cell": "Table of Contents",
   "title_sidebar": "Contents",
   "toc_cell": false,
   "toc_position": {
    "height": "calc(100% - 180px)",
    "left": "10px",
    "top": "150px",
    "width": "165px"
   },
   "toc_section_display": true,
   "toc_window_display": false
  }
 },
 "nbformat": 4,
 "nbformat_minor": 5
}
