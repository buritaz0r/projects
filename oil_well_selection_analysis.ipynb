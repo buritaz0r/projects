{
 "cells": [
  {
   "cell_type": "markdown",
   "id": "99f84d6d",
   "metadata": {},
   "source": [
    "## Загрузка и подготовка данных"
   ]
  },
  {
   "cell_type": "code",
   "execution_count": 1,
   "id": "dadd6960",
   "metadata": {
    "scrolled": true
   },
   "outputs": [],
   "source": [
    "# Импортируем библиотеки\n",
    "import pandas as pd\n",
    "import seaborn as sns\n",
    "import matplotlib.pyplot as plt\n",
    "import numpy as np\n",
    "\n",
    "from sklearn.model_selection import train_test_split\n",
    "from sklearn.linear_model import LinearRegression\n",
    "from sklearn.metrics import mean_squared_error\n",
    "\n",
    "RANDOM_STATE = 12345"
   ]
  },
  {
   "cell_type": "code",
   "execution_count": 2,
   "id": "1e4ca7f6",
   "metadata": {},
   "outputs": [],
   "source": [
    "# Пути к файлам\n",
    "file_path_0 = '/datasets/geo_data_0.csv'\n",
    "file_path_1 = '/datasets/geo_data_1.csv'\n",
    "file_path_2 = '/datasets/geo_data_2.csv' "
   ]
  },
  {
   "cell_type": "code",
   "execution_count": 3,
   "id": "fc045989",
   "metadata": {},
   "outputs": [],
   "source": [
    "# Функции для загрузки и просмотра данных\n",
    "def load_data(file_path):\n",
    "    \"\"\"\n",
    "    Загружает данные из CSV-файла в DataFrame.\n",
    "    \n",
    "    :param file_path: путь к CSV-файлу\n",
    "    :return: DataFrame с загруженными данными\n",
    "    \"\"\"\n",
    "    return pd.read_csv(file_path)\n",
    "\n",
    "def display_data(df, df_name, n=3):\n",
    "    \"\"\"\n",
    "    Выводит первые строки DataFrame, общую информацию о нем, а также информацию о пропусках и дубликатах.\n",
    "    \n",
    "    :param df: DataFrame для отображения\n",
    "    :param df_name: Имя DataFrame для отображения в заголовке\n",
    "    :param n: количество строк для отображения (по умолчанию 3)\n",
    "    \"\"\"\n",
    "    print(f\"{df_name} DataFrame\")\n",
    "    print(\"\\nПервые строки DataFrame:\")\n",
    "    display(df.head(n))\n",
    "    \n",
    "    print(\"\\nОбщая информация о DataFrame:\\n\")\n",
    "    df.info()\n",
    "    \n",
    "    print(\"\\nКоличество пропусков:\", df.isnull().sum().sum())\n",
    "    print(\"\\nКоличество дубликатов:\", df.duplicated().sum())\n",
    "    print()\n",
    "    print(\"\\n\" + \"=\"*50 + \"\\n\")"
   ]
  },
  {
   "cell_type": "code",
   "execution_count": 4,
   "id": "a8b54cdc",
   "metadata": {},
   "outputs": [],
   "source": [
    "# Загрузка данных и обозначение регионов\n",
    "region_1 = load_data(file_path_0)\n",
    "region_2 = load_data(file_path_1)\n",
    "region_3 = load_data(file_path_2)\n",
    "\n",
    "# Словарь с данными по регионам\n",
    "regions = {\n",
    "    'Region_1': region_1,\n",
    "    'Region_2': region_2,\n",
    "    'Region_3': region_3\n",
    "}"
   ]
  },
  {
   "cell_type": "code",
   "execution_count": 5,
   "id": "65774c3e",
   "metadata": {
    "scrolled": false
   },
   "outputs": [
    {
     "name": "stdout",
     "output_type": "stream",
     "text": [
      "Region_1 DataFrame\n",
      "\n",
      "Первые строки DataFrame:\n"
     ]
    },
    {
     "data": {
      "text/html": [
       "<div>\n",
       "<style scoped>\n",
       "    .dataframe tbody tr th:only-of-type {\n",
       "        vertical-align: middle;\n",
       "    }\n",
       "\n",
       "    .dataframe tbody tr th {\n",
       "        vertical-align: top;\n",
       "    }\n",
       "\n",
       "    .dataframe thead th {\n",
       "        text-align: right;\n",
       "    }\n",
       "</style>\n",
       "<table border=\"1\" class=\"dataframe\">\n",
       "  <thead>\n",
       "    <tr style=\"text-align: right;\">\n",
       "      <th></th>\n",
       "      <th>id</th>\n",
       "      <th>f0</th>\n",
       "      <th>f1</th>\n",
       "      <th>f2</th>\n",
       "      <th>product</th>\n",
       "    </tr>\n",
       "  </thead>\n",
       "  <tbody>\n",
       "    <tr>\n",
       "      <th>0</th>\n",
       "      <td>txEyH</td>\n",
       "      <td>0.705745</td>\n",
       "      <td>-0.497823</td>\n",
       "      <td>1.221170</td>\n",
       "      <td>105.280062</td>\n",
       "    </tr>\n",
       "    <tr>\n",
       "      <th>1</th>\n",
       "      <td>2acmU</td>\n",
       "      <td>1.334711</td>\n",
       "      <td>-0.340164</td>\n",
       "      <td>4.365080</td>\n",
       "      <td>73.037750</td>\n",
       "    </tr>\n",
       "    <tr>\n",
       "      <th>2</th>\n",
       "      <td>409Wp</td>\n",
       "      <td>1.022732</td>\n",
       "      <td>0.151990</td>\n",
       "      <td>1.419926</td>\n",
       "      <td>85.265647</td>\n",
       "    </tr>\n",
       "  </tbody>\n",
       "</table>\n",
       "</div>"
      ],
      "text/plain": [
       "      id        f0        f1        f2     product\n",
       "0  txEyH  0.705745 -0.497823  1.221170  105.280062\n",
       "1  2acmU  1.334711 -0.340164  4.365080   73.037750\n",
       "2  409Wp  1.022732  0.151990  1.419926   85.265647"
      ]
     },
     "metadata": {},
     "output_type": "display_data"
    },
    {
     "name": "stdout",
     "output_type": "stream",
     "text": [
      "\n",
      "Общая информация о DataFrame:\n",
      "\n",
      "<class 'pandas.core.frame.DataFrame'>\n",
      "RangeIndex: 100000 entries, 0 to 99999\n",
      "Data columns (total 5 columns):\n",
      " #   Column   Non-Null Count   Dtype  \n",
      "---  ------   --------------   -----  \n",
      " 0   id       100000 non-null  object \n",
      " 1   f0       100000 non-null  float64\n",
      " 2   f1       100000 non-null  float64\n",
      " 3   f2       100000 non-null  float64\n",
      " 4   product  100000 non-null  float64\n",
      "dtypes: float64(4), object(1)\n",
      "memory usage: 3.8+ MB\n",
      "\n",
      "Количество пропусков: 0\n",
      "\n",
      "Количество дубликатов: 0\n",
      "\n",
      "\n",
      "==================================================\n",
      "\n",
      "Region_2 DataFrame\n",
      "\n",
      "Первые строки DataFrame:\n"
     ]
    },
    {
     "data": {
      "text/html": [
       "<div>\n",
       "<style scoped>\n",
       "    .dataframe tbody tr th:only-of-type {\n",
       "        vertical-align: middle;\n",
       "    }\n",
       "\n",
       "    .dataframe tbody tr th {\n",
       "        vertical-align: top;\n",
       "    }\n",
       "\n",
       "    .dataframe thead th {\n",
       "        text-align: right;\n",
       "    }\n",
       "</style>\n",
       "<table border=\"1\" class=\"dataframe\">\n",
       "  <thead>\n",
       "    <tr style=\"text-align: right;\">\n",
       "      <th></th>\n",
       "      <th>id</th>\n",
       "      <th>f0</th>\n",
       "      <th>f1</th>\n",
       "      <th>f2</th>\n",
       "      <th>product</th>\n",
       "    </tr>\n",
       "  </thead>\n",
       "  <tbody>\n",
       "    <tr>\n",
       "      <th>0</th>\n",
       "      <td>kBEdx</td>\n",
       "      <td>-15.001348</td>\n",
       "      <td>-8.276000</td>\n",
       "      <td>-0.005876</td>\n",
       "      <td>3.179103</td>\n",
       "    </tr>\n",
       "    <tr>\n",
       "      <th>1</th>\n",
       "      <td>62mP7</td>\n",
       "      <td>14.272088</td>\n",
       "      <td>-3.475083</td>\n",
       "      <td>0.999183</td>\n",
       "      <td>26.953261</td>\n",
       "    </tr>\n",
       "    <tr>\n",
       "      <th>2</th>\n",
       "      <td>vyE1P</td>\n",
       "      <td>6.263187</td>\n",
       "      <td>-5.948386</td>\n",
       "      <td>5.001160</td>\n",
       "      <td>134.766305</td>\n",
       "    </tr>\n",
       "  </tbody>\n",
       "</table>\n",
       "</div>"
      ],
      "text/plain": [
       "      id         f0        f1        f2     product\n",
       "0  kBEdx -15.001348 -8.276000 -0.005876    3.179103\n",
       "1  62mP7  14.272088 -3.475083  0.999183   26.953261\n",
       "2  vyE1P   6.263187 -5.948386  5.001160  134.766305"
      ]
     },
     "metadata": {},
     "output_type": "display_data"
    },
    {
     "name": "stdout",
     "output_type": "stream",
     "text": [
      "\n",
      "Общая информация о DataFrame:\n",
      "\n",
      "<class 'pandas.core.frame.DataFrame'>\n",
      "RangeIndex: 100000 entries, 0 to 99999\n",
      "Data columns (total 5 columns):\n",
      " #   Column   Non-Null Count   Dtype  \n",
      "---  ------   --------------   -----  \n",
      " 0   id       100000 non-null  object \n",
      " 1   f0       100000 non-null  float64\n",
      " 2   f1       100000 non-null  float64\n",
      " 3   f2       100000 non-null  float64\n",
      " 4   product  100000 non-null  float64\n",
      "dtypes: float64(4), object(1)\n",
      "memory usage: 3.8+ MB\n",
      "\n",
      "Количество пропусков: 0\n",
      "\n",
      "Количество дубликатов: 0\n",
      "\n",
      "\n",
      "==================================================\n",
      "\n",
      "Region_3 DataFrame\n",
      "\n",
      "Первые строки DataFrame:\n"
     ]
    },
    {
     "data": {
      "text/html": [
       "<div>\n",
       "<style scoped>\n",
       "    .dataframe tbody tr th:only-of-type {\n",
       "        vertical-align: middle;\n",
       "    }\n",
       "\n",
       "    .dataframe tbody tr th {\n",
       "        vertical-align: top;\n",
       "    }\n",
       "\n",
       "    .dataframe thead th {\n",
       "        text-align: right;\n",
       "    }\n",
       "</style>\n",
       "<table border=\"1\" class=\"dataframe\">\n",
       "  <thead>\n",
       "    <tr style=\"text-align: right;\">\n",
       "      <th></th>\n",
       "      <th>id</th>\n",
       "      <th>f0</th>\n",
       "      <th>f1</th>\n",
       "      <th>f2</th>\n",
       "      <th>product</th>\n",
       "    </tr>\n",
       "  </thead>\n",
       "  <tbody>\n",
       "    <tr>\n",
       "      <th>0</th>\n",
       "      <td>fwXo0</td>\n",
       "      <td>-1.146987</td>\n",
       "      <td>0.963328</td>\n",
       "      <td>-0.828965</td>\n",
       "      <td>27.758673</td>\n",
       "    </tr>\n",
       "    <tr>\n",
       "      <th>1</th>\n",
       "      <td>WJtFt</td>\n",
       "      <td>0.262778</td>\n",
       "      <td>0.269839</td>\n",
       "      <td>-2.530187</td>\n",
       "      <td>56.069697</td>\n",
       "    </tr>\n",
       "    <tr>\n",
       "      <th>2</th>\n",
       "      <td>ovLUW</td>\n",
       "      <td>0.194587</td>\n",
       "      <td>0.289035</td>\n",
       "      <td>-5.586433</td>\n",
       "      <td>62.871910</td>\n",
       "    </tr>\n",
       "  </tbody>\n",
       "</table>\n",
       "</div>"
      ],
      "text/plain": [
       "      id        f0        f1        f2    product\n",
       "0  fwXo0 -1.146987  0.963328 -0.828965  27.758673\n",
       "1  WJtFt  0.262778  0.269839 -2.530187  56.069697\n",
       "2  ovLUW  0.194587  0.289035 -5.586433  62.871910"
      ]
     },
     "metadata": {},
     "output_type": "display_data"
    },
    {
     "name": "stdout",
     "output_type": "stream",
     "text": [
      "\n",
      "Общая информация о DataFrame:\n",
      "\n",
      "<class 'pandas.core.frame.DataFrame'>\n",
      "RangeIndex: 100000 entries, 0 to 99999\n",
      "Data columns (total 5 columns):\n",
      " #   Column   Non-Null Count   Dtype  \n",
      "---  ------   --------------   -----  \n",
      " 0   id       100000 non-null  object \n",
      " 1   f0       100000 non-null  float64\n",
      " 2   f1       100000 non-null  float64\n",
      " 3   f2       100000 non-null  float64\n",
      " 4   product  100000 non-null  float64\n",
      "dtypes: float64(4), object(1)\n",
      "memory usage: 3.8+ MB\n",
      "\n",
      "Количество пропусков: 0\n",
      "\n",
      "Количество дубликатов: 0\n",
      "\n",
      "\n",
      "==================================================\n",
      "\n"
     ]
    }
   ],
   "source": [
    "# Отображение данных\n",
    "for region_name, df in regions.items():\n",
    "    display_data(df, region_name)"
   ]
  },
  {
   "cell_type": "code",
   "execution_count": 6,
   "id": "a53cd29a",
   "metadata": {},
   "outputs": [],
   "source": [
    "# Dизуализация корреляционной матрицы для каждого из DataFrame:\n",
    "def plot_correlation_matrix(df, df_name):\n",
    "    \"\"\"\n",
    "    Выводит корреляционную матрицу DataFrame.\n",
    "    \n",
    "    :param df: DataFrame для анализа\n",
    "    :param df_name: Название DataFrame для отображения в заголовке\n",
    "    \"\"\"\n",
    "    plt.figure(figsize=(8, 6))\n",
    "    correlation_matrix = df.corr()\n",
    "    sns.heatmap(correlation_matrix, annot=True, cmap='coolwarm', center=0)\n",
    "    plt.title(f'Correlation Matrix for {df_name}')\n",
    "    plt.show()"
   ]
  },
  {
   "cell_type": "code",
   "execution_count": 7,
   "id": "a05b1547",
   "metadata": {},
   "outputs": [
    {
     "data": {
      "image/png": "[encoded data removed]",
      "text/plain": [
       "<Figure size 576x432 with 2 Axes>"
      ]
     },
     "metadata": {
      "needs_background": "light"
     },
     "output_type": "display_data"
    },
    {
     "data": {
      "image/png": "[encoded data removed]",
      "text/plain": [
       "<Figure size 576x432 with 2 Axes>"
      ]
     },
     "metadata": {
      "needs_background": "light"
     },
     "output_type": "display_data"
    },
    {
     "data": {
      "image/png": "[encoded data removed]",
      "text/plain": [
       "<Figure size 576x432 with 2 Axes>"
      ]
     },
     "metadata": {
      "needs_background": "light"
     },
     "output_type": "display_data"
    }
   ],
   "source": [
    "# Посмтроим матрицу корреляций для каждого датафрейма\n",
    "for region_name, df in regions.items():\n",
    "    plot_correlation_matrix(df, region_name)"
   ]
  },
  {
   "cell_type": "markdown",
   "id": "1ce30ebe",
   "metadata": {},
   "source": [
    "**Вывод:**\n",
    "\n",
    "Данные геологоразведки трёх регионов находятся в файлах:     \n",
    "/datasets/geo_data_0.csv    \n",
    "/datasets/geo_data_1.csv  \n",
    "/datasets/geo_data_2.csv  \n",
    "\n",
    "**id** — уникальный идентификатор скважины  \n",
    "**f0, f1, f2** — три признака точек  \n",
    "**product** — объём запасов в скважине (тыс. баррелей).     \n",
    "\n",
    "Все три датасета имеют одинаковый размер, пропуски и дубликаты в данных отсутствуют.\n",
    "\n",
    "**df_0 DataFrame** показывает значимую корреляцию между признаками `f2` и целевой переменной `product` (0.48), что может быть полезно для модели.  \n",
    "**df_1 DataFrame** имеет низкую корреляцию между признаками и целевой переменной, что может осложнить задачу предсказания объема запасов.  \n",
    "**df_2 DataFrame** также показывает значимую корреляцию между признаком `f2` и целевой переменной `product` (0.45), что делает этот признак важным для модели.  "
   ]
  },
  {
   "cell_type": "markdown",
   "id": "c4aa7db5",
   "metadata": {},
   "source": [
    "## Обучим и проверим модель для каждого региона"
   ]
  },
  {
   "cell_type": "markdown",
   "id": "729ad67f",
   "metadata": {},
   "source": [
    "### Разобьем данные на обучающую и валидационную выборки в соотношении 75:25.\n",
    "### Обучим модель и сделаем предсказания на валидационной выборке.\n",
    "### Сохраним предсказания и правильные ответы на валидационной выборке.\n",
    "### Напечатаем на экране средний запас предсказанного сырья и RMSE модели."
   ]
  },
  {
   "cell_type": "code",
   "execution_count": 8,
   "id": "31ffb1cc",
   "metadata": {},
   "outputs": [],
   "source": [
    "def train_evaluate(df, df_name):\n",
    "    # 2.1 Разделение данных на обучающую и валидационную выборки\n",
    "    features = df.drop(columns=['product', 'id'])\n",
    "    target = df['product']\n",
    "    X_train, X_valid, y_train, y_valid = train_test_split(features, target, test_size=0.25, random_state=RANDOM_STATE)\n",
    "    \n",
    "    # 2.2 Обучение модели\n",
    "    model = LinearRegression()\n",
    "    model.fit(X_train, y_train)\n",
    "    \n",
    "    # 2.3 Предсказания на валидационной выборке\n",
    "    predictions = model.predict(X_valid)\n",
    "    \n",
    "    # 2.4 Печать среднего запаса предсказанного сырья и RMSE модели\n",
    "    mean_predicted = np.mean(predictions)\n",
    "    rmse = mean_squared_error(y_valid, predictions, squared=False)\n",
    "    \n",
    "    print(f\"Регион: {df_name}\")\n",
    "    print(f\"Размер обучающей выборки: {X_train.shape[0]} ({X_train.shape[0] / df.shape[0] * 100:.2f}%)\")\n",
    "    print(f\"Размер валидационной выборки: {X_valid.shape[0]} ({X_valid.shape[0] / df.shape[0] * 100:.2f}%)\")\n",
    "    print(f\"Средний запас предсказанного сырья: {mean_predicted:.2f} тыс. баррелей\")\n",
    "    print(f\"RMSE модели: {rmse:.2f}\")\n",
    "    print(\"\\n\" + \"=\"*50 + \"\\n\")\n",
    "    \n",
    "    return y_valid, pd.Series(predictions, index=y_valid.index)"
   ]
  },
  {
   "cell_type": "code",
   "execution_count": 9,
   "id": "edb5105d",
   "metadata": {},
   "outputs": [
    {
     "name": "stdout",
     "output_type": "stream",
     "text": [
      "Регион: Region_1\n",
      "Размер обучающей выборки: 75000 (75.00%)\n",
      "Размер валидационной выборки: 25000 (25.00%)\n",
      "Средний запас предсказанного сырья: 92.59 тыс. баррелей\n",
      "RMSE модели: 37.58\n",
      "\n",
      "==================================================\n",
      "\n",
      "Регион: Region_2\n",
      "Размер обучающей выборки: 75000 (75.00%)\n",
      "Размер валидационной выборки: 25000 (25.00%)\n",
      "Средний запас предсказанного сырья: 68.73 тыс. баррелей\n",
      "RMSE модели: 0.89\n",
      "\n",
      "==================================================\n",
      "\n",
      "Регион: Region_3\n",
      "Размер обучающей выборки: 75000 (75.00%)\n",
      "Размер валидационной выборки: 25000 (25.00%)\n",
      "Средний запас предсказанного сырья: 94.97 тыс. баррелей\n",
      "RMSE модели: 40.03\n",
      "\n",
      "==================================================\n",
      "\n"
     ]
    }
   ],
   "source": [
    "# Применим функцию к каждому датафрему\n",
    "results = {}\n",
    "for region_name, df in regions.items():\n",
    "    results[region_name] = train_evaluate(df, region_name)"
   ]
  },
  {
   "cell_type": "markdown",
   "id": "f7c7ef79",
   "metadata": {},
   "source": [
    "**Вывод:**\n",
    "\n",
    "- Модель для второго региона демонстрирует наименьшую среднеквадратичную ошибку, что свидетельствует о хорошем качестве предсказаний.\n",
    "- Модели для первого и третьего регионов имеют более высокие значения RMSE, что может указывать на более значительный разброс между фактическими и предсказанными данными.\n",
    "- Средние запасы предсказанного сырья сравнительно близки во всех трёх регионах, но второй регион имеет наименьшее среднее предсказанное значение."
   ]
  },
  {
   "cell_type": "markdown",
   "id": "c838662b",
   "metadata": {},
   "source": [
    "## Расчёт прибыли"
   ]
  },
  {
   "cell_type": "markdown",
   "id": "08fc0d3a",
   "metadata": {},
   "source": [
    "### Сохранение всех ключевых значений в отдельных переменных"
   ]
  },
  {
   "cell_type": "code",
   "execution_count": 10,
   "id": "58d49cc2",
   "metadata": {},
   "outputs": [],
   "source": [
    "# Ключевые значения для расчётов\n",
    "BUDGET = 10_000_000_000  # бюджет на разработку в рублях\n",
    "REVENUE_PER_THOUSAND_BARREL = 450_000  # доход с каждой тысячи баррелей в рублях\n",
    "NUM_POINTS = 500  # количество точек для разведки\n",
    "BEST_POINTS = 200  # количество лучших точек для разработки\n",
    "SAMPLES_NUMBER = 1000"
   ]
  },
  {
   "cell_type": "markdown",
   "id": "3f92e893",
   "metadata": {},
   "source": [
    "### Расчёт достаточного объёма сырья для безубыточной разработки новой скважины. Сравним полученный объём сырья со средним запасом в каждом регионе"
   ]
  },
  {
   "cell_type": "code",
   "execution_count": 11,
   "id": "3f28a659",
   "metadata": {},
   "outputs": [
    {
     "name": "stdout",
     "output_type": "stream",
     "text": [
      "Достаточный объём сырья для безубыточной разработки новой скважины: 111.11 тыс. баррелей\n"
     ]
    }
   ],
   "source": [
    "# Расчёт достаточного объёма сырья для безубыточной разработки новой скважины\n",
    "total_cost_per_point = BUDGET / BEST_POINTS\n",
    "break_even_volume = total_cost_per_point / REVENUE_PER_THOUSAND_BARREL\n",
    "\n",
    "print(f\"Достаточный объём сырья для безубыточной разработки новой скважины: {break_even_volume:.2f} тыс. баррелей\")"
   ]
  },
  {
   "cell_type": "code",
   "execution_count": 12,
   "id": "f4423fec",
   "metadata": {},
   "outputs": [],
   "source": [
    "# Функция для расчета среднего запаса и дефицита сырья в регионе\n",
    "def calculate_mean_and_deficit(df, region_name, break_even_volume):\n",
    "    mean_volume = df['product'].mean()\n",
    "    deficit = break_even_volume - mean_volume\n",
    "    deficit_info = f\"{deficit:.2f} тыс. баррелей не хватает\" if deficit > 0 else \"достаточно сырья\"\n",
    "    \n",
    "    print(f'Средний запас сырья в {region_name}: {mean_volume:.2f} тыс. баррелей')\n",
    "    print()\n",
    "    print(f\"{region_name}: {deficit_info}\")\n",
    "    print(\"=\"*50)"
   ]
  },
  {
   "cell_type": "code",
   "execution_count": 13,
   "id": "8e92744d",
   "metadata": {
    "scrolled": true
   },
   "outputs": [
    {
     "name": "stdout",
     "output_type": "stream",
     "text": [
      "\n",
      "Сравнение с достаточным объёмом сырья для безубыточной разработки:\n",
      "Средний запас сырья в Region_1: 92.50 тыс. баррелей\n",
      "\n",
      "Region_1: 18.61 тыс. баррелей не хватает\n",
      "==================================================\n",
      "Средний запас сырья в Region_2: 68.83 тыс. баррелей\n",
      "\n",
      "Region_2: 42.29 тыс. баррелей не хватает\n",
      "==================================================\n",
      "Средний запас сырья в Region_3: 95.00 тыс. баррелей\n",
      "\n",
      "Region_3: 16.11 тыс. баррелей не хватает\n",
      "==================================================\n"
     ]
    }
   ],
   "source": [
    "# Вычисления для каждого региона\n",
    "print(\"\\nСравнение с достаточным объёмом сырья для безубыточной разработки:\")\n",
    "for region_name, df in regions.items():\n",
    "    calculate_mean_and_deficit(df, region_name, break_even_volume)"
   ]
  },
  {
   "cell_type": "markdown",
   "id": "8226591c",
   "metadata": {},
   "source": [
    "**Вывод:**\n",
    "\n",
    "Полученные данные указывают на то, что средние объемы запасов сырья в каждом из регионов недостаточны для обеспечения даже окупаемости затрат на разработку."
   ]
  },
  {
   "cell_type": "markdown",
   "id": "bc25a12d",
   "metadata": {},
   "source": [
    "## Напишем функцию для расчёта прибыли по выбранным скважинам и предсказаниям модели"
   ]
  },
  {
   "cell_type": "code",
   "execution_count": 14,
   "id": "57736d99",
   "metadata": {},
   "outputs": [],
   "source": [
    "def revenue(target, predictions, best_points):\n",
    "    \"\"\"\n",
    "    Рассчитывает прибыль по выбранным скважинам на основе предсказаний модели.\n",
    "\n",
    "    :param target: Series реальных значений объема сырья\n",
    "    :param predictions: Series предсказанных значений объема сырья\n",
    "    :param best_points: количество скважин для разработки\n",
    "    :revenue_per_thousand_barrel: доход с каждой тысячи баррелей в рублях\n",
    "    :param budget: бюджет на разработку в рублях\n",
    "    :return: прибыль\n",
    "    \"\"\"\n",
    "    preds_sorted = predictions.sort_values(ascending=False)\n",
    "    selected = target[preds_sorted.index][:best_points]\n",
    "    return REVENUE_PER_THOUSAND_BARREL * selected.sum() - BUDGET"
   ]
  },
  {
   "cell_type": "code",
   "execution_count": 15,
   "id": "59d8a01a",
   "metadata": {},
   "outputs": [
    {
     "name": "stdout",
     "output_type": "stream",
     "text": [
      "Прибыль для Region_1: 3320826043.14 рублей\n",
      "Прибыль для Region_2: 2415086696.68 рублей\n",
      "Прибыль для Region_3: 2710349963.60 рублей\n"
     ]
    }
   ],
   "source": [
    "# Проверка работы функции\n",
    "for region_name, (target, predictions) in results.items():\n",
    "    profit = revenue(target, predictions, BEST_POINTS)\n",
    "    print(f\"Прибыль для {region_name}: {profit:.2f} рублей\")"
   ]
  },
  {
   "cell_type": "markdown",
   "id": "028b25c6",
   "metadata": {},
   "source": [
    "**Вывод:**\n",
    "\n",
    "Функция **revenue** оценивает финансовую эффективность разработки выбранных скважин на основе предсказанных объемов добычи. Она использует сортировку предсказанных значений, чтобы выбрать наилучшие скважины и рассчитать прибыль, вычитая из общего дохода бюджет на разработку."
   ]
  },
  {
   "cell_type": "code",
   "execution_count": 16,
   "id": "a34b8557",
   "metadata": {},
   "outputs": [
    {
     "name": "stdout",
     "output_type": "stream",
     "text": [
      "Регион: Region_1\n",
      "Средняя возможная прибыль: 396164984.80 рублей\n",
      "95%-доверительный интервал: от -111215545.89 до 909766941.55 рублей\n",
      "Вероятность убытков: 6.90%\n",
      "==================================================\n",
      "Регион: Region_2\n",
      "Средняя возможная прибыль: 461155817.28 рублей\n",
      "95%-доверительный интервал: от 78050810.75 до 862952060.26 рублей\n",
      "Вероятность убытков: 0.70%\n",
      "==================================================\n",
      "Регион: Region_3\n",
      "Средняя возможная прибыль: 392950475.17 рублей\n",
      "95%-доверительный интервал: от -112227625.38 до 934562914.55 рублей\n",
      "Вероятность убытков: 6.50%\n",
      "==================================================\n"
     ]
    }
   ],
   "source": [
    "# Применим технику Bootstrap для оценки прибыли и рисков\n",
    "state = np.random.RandomState(RANDOM_STATE)\n",
    "\n",
    "for region_name, (target, predictions) in results.items():\n",
    "    values = []\n",
    "    for i in range(SAMPLES_NUMBER):\n",
    "        # Генерация бутстреп-выборки\n",
    "        target_subsample = target.sample(n=NUM_POINTS, replace=True, random_state=state)\n",
    "        predictions_subsample = predictions.loc[target_subsample.index]\n",
    "        # Расчет прибыли для бутстреп-выборки\n",
    "        profit = revenue(target_subsample.reset_index(drop=True), predictions_subsample.reset_index(drop=True), BEST_POINTS)\n",
    "        values.append(profit)\n",
    "    \n",
    "    values = pd.Series(values)\n",
    "    lower = values.quantile(.025)\n",
    "    upper = values.quantile(.975)\n",
    "    mean = values.mean()\n",
    "    loss_probability = sum(values < 0) / values.count() * 100\n",
    "    \n",
    "    # Вывод результатов\n",
    "    print(f\"Регион: {region_name}\")\n",
    "    print(f\"Средняя возможная прибыль: {mean:.2f} рублей\")\n",
    "    print(f\"95%-доверительный интервал: от {lower:.2f} до {upper:.2f} рублей\")\n",
    "    print(f\"Вероятность убытков: {loss_probability:.2f}%\")\n",
    "    print(\"=\"*50)"
   ]
  },
  {
   "cell_type": "markdown",
   "id": "a076b609",
   "metadata": {},
   "source": [
    "## Общий вывод\n",
    "\n",
    "Для выполнения данной задачи были обработаны данные о месторождениях из трёх регионов, каждый из которых содержал 10 000 месторождений. На основе этих данных была построена модель линейной регрессии для прогнозирования объёма запасов сырья в скважинах каждого региона. Результаты показали, что наиболее точные предсказания были получены для второго региона, где средний запас сырья на скважину составил 68.73 тыс. баррелей с отклонением 0.89 тыс. баррелей. Предсказания для первого и третьего регионов оказались схожими.\n",
    "\n",
    "Минимально необходимый объём сырья для безубыточной разработки новой скважины был определён на уровне 111.11 тыс. баррелей. Этот показатель стал ключевым в дальнейших расчетах.\n",
    "\n",
    "Для оценки возможной прибыли и рисков была применена техника Bootstrap с 1000 выборками. Анализ распределения прибыли показал, что наиболее перспективным регионом для разработки является второй регион. Он продемонстрировал наименьшую вероятность убытков (0.70%) и наибольшую среднюю возможную прибыль (461 155 817 рублей). Эти показатели делают второй регион наилучшим выбором для дальнейших инвестиций и разработки скважин.\n",
    "\n",
    "На основании проведенного анализа рекомендуется сосредоточить усилия на разработке месторождений второго региона, так как он обеспечивает наилучшее сочетание низкого риска и высокой прибыли."
   ]
  },
  {
   "cell_type": "code",
   "execution_count": null,
   "id": "955f884f",
   "metadata": {},
   "outputs": [],
   "source": []
  }
 ],
 "metadata": {
  "ExecuteTimeLog": [
   {
    "duration": 330,
    "start_time": "2024-06-17T11:20:18.224Z"
   },
   {
    "duration": 2,
    "start_time": "2024-06-17T11:20:18.556Z"
   },
   {
    "duration": 22,
    "start_time": "2024-06-17T11:20:18.559Z"
   },
   {
    "duration": 1540,
    "start_time": "2024-06-17T11:20:18.582Z"
   },
   {
    "duration": 50,
    "start_time": "2024-06-17T11:20:20.124Z"
   },
   {
    "duration": 3,
    "start_time": "2024-06-17T11:22:11.311Z"
   },
   {
    "duration": 42,
    "start_time": "2024-06-17T11:22:14.449Z"
   },
   {
    "duration": 5,
    "start_time": "2024-06-17T11:24:23.370Z"
   },
   {
    "duration": 4,
    "start_time": "2024-06-17T11:24:25.712Z"
   },
   {
    "duration": 174,
    "start_time": "2024-06-17T11:24:28.643Z"
   },
   {
    "duration": 3,
    "start_time": "2024-06-17T11:24:48.781Z"
   },
   {
    "duration": 4,
    "start_time": "2024-06-17T11:25:22.503Z"
   },
   {
    "duration": 215,
    "start_time": "2024-06-17T11:25:24.490Z"
   },
   {
    "duration": 54,
    "start_time": "2024-06-17T11:29:20.185Z"
   },
   {
    "duration": 23778,
    "start_time": "2024-06-17T11:30:00.059Z"
   },
   {
    "duration": 2567,
    "start_time": "2024-06-17T11:30:53.082Z"
   },
   {
    "duration": 90,
    "start_time": "2024-06-17T11:30:57.090Z"
   },
   {
    "duration": 2563,
    "start_time": "2024-06-17T11:31:10.559Z"
   },
   {
    "duration": 13,
    "start_time": "2024-06-17T11:31:15.196Z"
   },
   {
    "duration": 3110,
    "start_time": "2024-06-17T11:31:40.072Z"
   },
   {
    "duration": 15,
    "start_time": "2024-06-17T11:31:46.609Z"
   },
   {
    "duration": 9819,
    "start_time": "2024-06-17T11:32:39.166Z"
   },
   {
    "duration": 1735,
    "start_time": "2024-06-17T11:32:48.987Z"
   },
   {
    "duration": 2,
    "start_time": "2024-06-17T11:32:50.723Z"
   },
   {
    "duration": 21,
    "start_time": "2024-06-17T11:32:50.727Z"
   },
   {
    "duration": 326,
    "start_time": "2024-06-17T11:32:50.750Z"
   },
   {
    "duration": 172,
    "start_time": "2024-06-17T11:32:51.077Z"
   },
   {
    "duration": 6,
    "start_time": "2024-06-17T11:33:50.762Z"
   },
   {
    "duration": 8384,
    "start_time": "2024-06-17T11:34:04.953Z"
   },
   {
    "duration": 8080,
    "start_time": "2024-06-17T11:35:36.843Z"
   },
   {
    "duration": 336,
    "start_time": "2024-06-17T11:37:12.007Z"
   },
   {
    "duration": 2,
    "start_time": "2024-06-17T11:37:12.345Z"
   },
   {
    "duration": 12,
    "start_time": "2024-06-17T11:37:12.348Z"
   },
   {
    "duration": 350,
    "start_time": "2024-06-17T11:37:12.361Z"
   },
   {
    "duration": 194,
    "start_time": "2024-06-17T11:37:12.713Z"
   },
   {
    "duration": 668,
    "start_time": "2024-06-17T11:47:52.322Z"
   },
   {
    "duration": 85,
    "start_time": "2024-06-17T11:48:47.831Z"
   },
   {
    "duration": 4,
    "start_time": "2024-06-17T11:48:51.213Z"
   },
   {
    "duration": 888,
    "start_time": "2024-06-17T11:48:52.681Z"
   },
   {
    "duration": 3,
    "start_time": "2024-06-17T11:49:04.659Z"
   },
   {
    "duration": 862,
    "start_time": "2024-06-17T11:49:07.189Z"
   },
   {
    "duration": 302,
    "start_time": "2024-06-17T11:56:21.759Z"
   },
   {
    "duration": 926,
    "start_time": "2024-06-17T11:56:32.233Z"
   },
   {
    "duration": 250,
    "start_time": "2024-06-17T12:00:38.876Z"
   },
   {
    "duration": 4,
    "start_time": "2024-06-17T12:01:57.031Z"
   },
   {
    "duration": 46,
    "start_time": "2024-06-17T12:02:12.944Z"
   },
   {
    "duration": 157,
    "start_time": "2024-06-17T12:06:35.113Z"
   },
   {
    "duration": 4,
    "start_time": "2024-06-17T12:06:49.946Z"
   },
   {
    "duration": 818,
    "start_time": "2024-06-17T12:07:05.531Z"
   },
   {
    "duration": 5,
    "start_time": "2024-06-17T12:09:42.264Z"
   },
   {
    "duration": 4,
    "start_time": "2024-06-17T12:10:02.440Z"
   },
   {
    "duration": 27,
    "start_time": "2024-06-17T12:10:03.992Z"
   },
   {
    "duration": 5,
    "start_time": "2024-06-17T12:10:23.219Z"
   },
   {
    "duration": 5,
    "start_time": "2024-06-17T12:10:25.013Z"
   },
   {
    "duration": 40,
    "start_time": "2024-06-17T12:10:26.780Z"
   },
   {
    "duration": 4,
    "start_time": "2024-06-17T12:10:52.079Z"
   },
   {
    "duration": 30,
    "start_time": "2024-06-17T12:10:53.486Z"
   },
   {
    "duration": 18,
    "start_time": "2024-06-17T12:14:15.153Z"
   },
   {
    "duration": 1216,
    "start_time": "2024-06-17T12:21:44.996Z"
   },
   {
    "duration": 3,
    "start_time": "2024-06-17T12:21:46.213Z"
   },
   {
    "duration": 4,
    "start_time": "2024-06-17T12:21:46.217Z"
   },
   {
    "duration": 330,
    "start_time": "2024-06-17T12:21:46.222Z"
   },
   {
    "duration": 195,
    "start_time": "2024-06-17T12:21:46.555Z"
   },
   {
    "duration": 3,
    "start_time": "2024-06-17T12:21:46.752Z"
   },
   {
    "duration": 902,
    "start_time": "2024-06-17T12:21:46.756Z"
   },
   {
    "duration": 3,
    "start_time": "2024-06-17T12:21:47.660Z"
   },
   {
    "duration": 45,
    "start_time": "2024-06-17T12:21:47.665Z"
   },
   {
    "duration": 4,
    "start_time": "2024-06-17T12:21:47.711Z"
   },
   {
    "duration": 115,
    "start_time": "2024-06-17T12:21:47.717Z"
   },
   {
    "duration": 1011,
    "start_time": "2024-06-17T12:22:11.352Z"
   },
   {
    "duration": 6,
    "start_time": "2024-06-17T12:27:03.313Z"
   },
   {
    "duration": 868,
    "start_time": "2024-06-17T12:27:06.025Z"
   },
   {
    "duration": 3,
    "start_time": "2024-06-17T12:27:12.466Z"
   },
   {
    "duration": 6,
    "start_time": "2024-06-17T12:27:13.832Z"
   },
   {
    "duration": 936,
    "start_time": "2024-06-17T12:27:16.060Z"
   },
   {
    "duration": 4,
    "start_time": "2024-06-17T12:29:09.315Z"
   },
   {
    "duration": 267,
    "start_time": "2024-06-17T12:29:10.721Z"
   },
   {
    "duration": 13,
    "start_time": "2024-06-17T12:35:28.032Z"
   },
   {
    "duration": 4,
    "start_time": "2024-06-17T12:35:32.570Z"
   },
   {
    "duration": 283,
    "start_time": "2024-06-17T12:35:34.004Z"
   },
   {
    "duration": 7,
    "start_time": "2024-06-17T12:48:12.916Z"
   },
   {
    "duration": 3,
    "start_time": "2024-06-17T12:48:15.467Z"
   },
   {
    "duration": 3,
    "start_time": "2024-06-17T12:48:16.941Z"
   },
   {
    "duration": 7,
    "start_time": "2024-06-17T12:56:04.401Z"
   },
   {
    "duration": 6,
    "start_time": "2024-06-17T12:56:12.912Z"
   },
   {
    "duration": 9,
    "start_time": "2024-06-17T12:58:16.969Z"
   },
   {
    "duration": 4,
    "start_time": "2024-06-17T12:58:39.394Z"
   },
   {
    "duration": 6,
    "start_time": "2024-06-17T13:04:24.714Z"
   },
   {
    "duration": 7,
    "start_time": "2024-06-17T13:05:52.949Z"
   },
   {
    "duration": 1313,
    "start_time": "2024-06-17T13:06:05.571Z"
   },
   {
    "duration": 2,
    "start_time": "2024-06-17T13:06:06.886Z"
   },
   {
    "duration": 18,
    "start_time": "2024-06-17T13:06:06.889Z"
   },
   {
    "duration": 368,
    "start_time": "2024-06-17T13:06:06.909Z"
   },
   {
    "duration": 184,
    "start_time": "2024-06-17T13:06:07.278Z"
   },
   {
    "duration": 3,
    "start_time": "2024-06-17T13:06:07.464Z"
   },
   {
    "duration": 918,
    "start_time": "2024-06-17T13:06:07.469Z"
   },
   {
    "duration": 4,
    "start_time": "2024-06-17T13:06:08.389Z"
   },
   {
    "duration": 106,
    "start_time": "2024-06-17T13:06:08.394Z"
   },
   {
    "duration": 0,
    "start_time": "2024-06-17T13:06:08.501Z"
   },
   {
    "duration": 0,
    "start_time": "2024-06-17T13:06:08.502Z"
   },
   {
    "duration": 0,
    "start_time": "2024-06-17T13:06:08.503Z"
   },
   {
    "duration": 1359,
    "start_time": "2024-06-17T13:06:31.378Z"
   },
   {
    "duration": 3,
    "start_time": "2024-06-17T13:06:32.738Z"
   },
   {
    "duration": 6,
    "start_time": "2024-06-17T13:06:32.743Z"
   },
   {
    "duration": 339,
    "start_time": "2024-06-17T13:06:32.751Z"
   },
   {
    "duration": 193,
    "start_time": "2024-06-17T13:06:33.092Z"
   },
   {
    "duration": 3,
    "start_time": "2024-06-17T13:06:33.287Z"
   },
   {
    "duration": 871,
    "start_time": "2024-06-17T13:06:33.291Z"
   },
   {
    "duration": 5,
    "start_time": "2024-06-17T13:06:34.163Z"
   },
   {
    "duration": 115,
    "start_time": "2024-06-17T13:06:34.184Z"
   },
   {
    "duration": 0,
    "start_time": "2024-06-17T13:06:34.301Z"
   },
   {
    "duration": 0,
    "start_time": "2024-06-17T13:06:34.301Z"
   },
   {
    "duration": 0,
    "start_time": "2024-06-17T13:06:34.302Z"
   },
   {
    "duration": 1259,
    "start_time": "2024-06-17T13:07:07.251Z"
   },
   {
    "duration": 3,
    "start_time": "2024-06-17T13:07:08.512Z"
   },
   {
    "duration": 57,
    "start_time": "2024-06-17T13:07:08.516Z"
   },
   {
    "duration": 378,
    "start_time": "2024-06-17T13:07:08.575Z"
   },
   {
    "duration": 177,
    "start_time": "2024-06-17T13:07:08.956Z"
   },
   {
    "duration": 3,
    "start_time": "2024-06-17T13:07:09.135Z"
   },
   {
    "duration": 1021,
    "start_time": "2024-06-17T13:07:09.139Z"
   },
   {
    "duration": 5,
    "start_time": "2024-06-17T13:07:10.161Z"
   },
   {
    "duration": 320,
    "start_time": "2024-06-17T13:07:10.168Z"
   },
   {
    "duration": 4,
    "start_time": "2024-06-17T13:07:10.489Z"
   },
   {
    "duration": 95,
    "start_time": "2024-06-17T13:07:10.495Z"
   },
   {
    "duration": 97,
    "start_time": "2024-06-17T13:07:10.593Z"
   },
   {
    "duration": 1204,
    "start_time": "2024-06-17T13:49:57.769Z"
   },
   {
    "duration": 2,
    "start_time": "2024-06-17T13:49:58.975Z"
   },
   {
    "duration": 18,
    "start_time": "2024-06-17T13:49:58.978Z"
   },
   {
    "duration": 331,
    "start_time": "2024-06-17T13:49:58.998Z"
   },
   {
    "duration": 192,
    "start_time": "2024-06-17T13:49:59.330Z"
   },
   {
    "duration": 3,
    "start_time": "2024-06-17T13:49:59.524Z"
   },
   {
    "duration": 113,
    "start_time": "2024-06-17T13:49:59.528Z"
   },
   {
    "duration": 0,
    "start_time": "2024-06-17T13:49:59.642Z"
   },
   {
    "duration": 0,
    "start_time": "2024-06-17T13:49:59.643Z"
   },
   {
    "duration": 0,
    "start_time": "2024-06-17T13:49:59.644Z"
   },
   {
    "duration": 0,
    "start_time": "2024-06-17T13:49:59.645Z"
   },
   {
    "duration": 0,
    "start_time": "2024-06-17T13:49:59.646Z"
   },
   {
    "duration": 177,
    "start_time": "2024-06-17T13:53:07.696Z"
   },
   {
    "duration": 951,
    "start_time": "2024-06-17T13:53:18.333Z"
   },
   {
    "duration": 1329,
    "start_time": "2024-06-17T13:53:24.918Z"
   },
   {
    "duration": 2,
    "start_time": "2024-06-17T13:53:26.249Z"
   },
   {
    "duration": 18,
    "start_time": "2024-06-17T13:53:26.252Z"
   },
   {
    "duration": 376,
    "start_time": "2024-06-17T13:53:26.272Z"
   },
   {
    "duration": 208,
    "start_time": "2024-06-17T13:53:26.651Z"
   },
   {
    "duration": 3,
    "start_time": "2024-06-17T13:53:26.861Z"
   },
   {
    "duration": 918,
    "start_time": "2024-06-17T13:53:26.866Z"
   },
   {
    "duration": 5,
    "start_time": "2024-06-17T13:53:27.786Z"
   },
   {
    "duration": 145,
    "start_time": "2024-06-17T13:53:27.792Z"
   },
   {
    "duration": 0,
    "start_time": "2024-06-17T13:53:27.938Z"
   },
   {
    "duration": 0,
    "start_time": "2024-06-17T13:53:27.939Z"
   },
   {
    "duration": 0,
    "start_time": "2024-06-17T13:53:27.941Z"
   },
   {
    "duration": 5,
    "start_time": "2024-06-17T13:54:13.565Z"
   },
   {
    "duration": 33,
    "start_time": "2024-06-17T13:54:15.956Z"
   },
   {
    "duration": 1324,
    "start_time": "2024-06-17T13:54:51.384Z"
   },
   {
    "duration": 3,
    "start_time": "2024-06-17T13:54:52.710Z"
   },
   {
    "duration": 14,
    "start_time": "2024-06-17T13:54:52.714Z"
   },
   {
    "duration": 365,
    "start_time": "2024-06-17T13:54:52.729Z"
   },
   {
    "duration": 191,
    "start_time": "2024-06-17T13:54:53.096Z"
   },
   {
    "duration": 3,
    "start_time": "2024-06-17T13:54:53.289Z"
   },
   {
    "duration": 893,
    "start_time": "2024-06-17T13:54:53.293Z"
   },
   {
    "duration": 5,
    "start_time": "2024-06-17T13:54:54.188Z"
   },
   {
    "duration": 394,
    "start_time": "2024-06-17T13:54:54.194Z"
   },
   {
    "duration": 3,
    "start_time": "2024-06-17T13:54:54.590Z"
   },
   {
    "duration": 11,
    "start_time": "2024-06-17T13:54:54.685Z"
   },
   {
    "duration": 98,
    "start_time": "2024-06-17T13:54:54.698Z"
   },
   {
    "duration": 5,
    "start_time": "2024-06-17T13:55:32.443Z"
   },
   {
    "duration": 299,
    "start_time": "2024-06-17T13:55:34.298Z"
   },
   {
    "duration": 1297,
    "start_time": "2024-06-17T13:55:39.444Z"
   },
   {
    "duration": 2,
    "start_time": "2024-06-17T13:55:40.743Z"
   },
   {
    "duration": 5,
    "start_time": "2024-06-17T13:55:40.747Z"
   },
   {
    "duration": 360,
    "start_time": "2024-06-17T13:55:40.753Z"
   },
   {
    "duration": 202,
    "start_time": "2024-06-17T13:55:41.116Z"
   },
   {
    "duration": 3,
    "start_time": "2024-06-17T13:55:41.320Z"
   },
   {
    "duration": 961,
    "start_time": "2024-06-17T13:55:41.324Z"
   },
   {
    "duration": 5,
    "start_time": "2024-06-17T13:55:42.286Z"
   },
   {
    "duration": 398,
    "start_time": "2024-06-17T13:55:42.292Z"
   },
   {
    "duration": 3,
    "start_time": "2024-06-17T13:55:42.692Z"
   },
   {
    "duration": 189,
    "start_time": "2024-06-17T13:55:42.696Z"
   },
   {
    "duration": 13,
    "start_time": "2024-06-17T13:55:42.886Z"
   },
   {
    "duration": 327,
    "start_time": "2024-06-17T13:55:50.361Z"
   },
   {
    "duration": 2,
    "start_time": "2024-06-17T13:55:56.876Z"
   },
   {
    "duration": 3,
    "start_time": "2024-06-17T13:55:58.447Z"
   },
   {
    "duration": 1302,
    "start_time": "2024-06-17T13:56:10.933Z"
   },
   {
    "duration": 2,
    "start_time": "2024-06-17T13:56:12.237Z"
   },
   {
    "duration": 6,
    "start_time": "2024-06-17T13:56:12.241Z"
   },
   {
    "duration": 360,
    "start_time": "2024-06-17T13:56:12.249Z"
   },
   {
    "duration": 207,
    "start_time": "2024-06-17T13:56:12.611Z"
   },
   {
    "duration": 3,
    "start_time": "2024-06-17T13:56:12.820Z"
   },
   {
    "duration": 903,
    "start_time": "2024-06-17T13:56:12.824Z"
   },
   {
    "duration": 5,
    "start_time": "2024-06-17T13:56:13.728Z"
   },
   {
    "duration": 353,
    "start_time": "2024-06-17T13:56:13.734Z"
   },
   {
    "duration": 3,
    "start_time": "2024-06-17T13:56:14.090Z"
   },
   {
    "duration": 4,
    "start_time": "2024-06-17T13:56:14.185Z"
   },
   {
    "duration": 6,
    "start_time": "2024-06-17T13:56:14.191Z"
   },
   {
    "duration": 90,
    "start_time": "2024-06-17T13:56:14.199Z"
   },
   {
    "duration": 377,
    "start_time": "2024-06-17T13:58:07.510Z"
   },
   {
    "duration": 938,
    "start_time": "2024-06-17T13:58:31.236Z"
   },
   {
    "duration": 1282,
    "start_time": "2024-06-17T14:42:20.529Z"
   },
   {
    "duration": 3,
    "start_time": "2024-06-17T14:42:21.812Z"
   },
   {
    "duration": 14,
    "start_time": "2024-06-17T14:42:21.816Z"
   },
   {
    "duration": 349,
    "start_time": "2024-06-17T14:42:21.832Z"
   },
   {
    "duration": 187,
    "start_time": "2024-06-17T14:42:22.183Z"
   },
   {
    "duration": 12,
    "start_time": "2024-06-17T14:42:22.372Z"
   },
   {
    "duration": 942,
    "start_time": "2024-06-17T14:42:22.386Z"
   },
   {
    "duration": 5,
    "start_time": "2024-06-17T14:42:23.329Z"
   },
   {
    "duration": 361,
    "start_time": "2024-06-17T14:42:23.335Z"
   },
   {
    "duration": 89,
    "start_time": "2024-06-17T14:42:23.698Z"
   },
   {
    "duration": 112,
    "start_time": "2024-06-17T14:42:23.789Z"
   },
   {
    "duration": 43,
    "start_time": "2024-06-17T14:42:23.902Z"
   },
   {
    "duration": 15,
    "start_time": "2024-06-17T14:42:23.946Z"
   },
   {
    "duration": 3,
    "start_time": "2024-06-17T14:49:26.428Z"
   },
   {
    "duration": 103,
    "start_time": "2024-06-17T14:49:28.221Z"
   },
   {
    "duration": 1250,
    "start_time": "2024-06-17T14:49:38.251Z"
   },
   {
    "duration": 2,
    "start_time": "2024-06-17T14:49:39.503Z"
   },
   {
    "duration": 13,
    "start_time": "2024-06-17T14:49:39.506Z"
   },
   {
    "duration": 357,
    "start_time": "2024-06-17T14:49:39.521Z"
   },
   {
    "duration": 181,
    "start_time": "2024-06-17T14:49:39.880Z"
   },
   {
    "duration": 3,
    "start_time": "2024-06-17T14:49:40.062Z"
   },
   {
    "duration": 918,
    "start_time": "2024-06-17T14:49:40.066Z"
   },
   {
    "duration": 4,
    "start_time": "2024-06-17T14:49:40.986Z"
   },
   {
    "duration": 395,
    "start_time": "2024-06-17T14:49:40.992Z"
   },
   {
    "duration": 2,
    "start_time": "2024-06-17T14:49:41.390Z"
   },
   {
    "duration": 11,
    "start_time": "2024-06-17T14:49:41.484Z"
   },
   {
    "duration": 89,
    "start_time": "2024-06-17T14:49:41.496Z"
   },
   {
    "duration": 6,
    "start_time": "2024-06-17T14:49:41.586Z"
   },
   {
    "duration": 3,
    "start_time": "2024-06-17T14:49:41.594Z"
   },
   {
    "duration": 114,
    "start_time": "2024-06-17T14:49:41.598Z"
   },
   {
    "duration": 10,
    "start_time": "2024-06-17T15:11:04.078Z"
   },
   {
    "duration": 1303,
    "start_time": "2024-06-17T15:11:09.161Z"
   },
   {
    "duration": 2,
    "start_time": "2024-06-17T15:11:10.466Z"
   },
   {
    "duration": 6,
    "start_time": "2024-06-17T15:11:10.469Z"
   },
   {
    "duration": 363,
    "start_time": "2024-06-17T15:11:10.476Z"
   },
   {
    "duration": 191,
    "start_time": "2024-06-17T15:11:10.841Z"
   },
   {
    "duration": 3,
    "start_time": "2024-06-17T15:11:11.034Z"
   },
   {
    "duration": 951,
    "start_time": "2024-06-17T15:11:11.038Z"
   },
   {
    "duration": 5,
    "start_time": "2024-06-17T15:11:11.990Z"
   },
   {
    "duration": 305,
    "start_time": "2024-06-17T15:11:11.996Z"
   },
   {
    "duration": 3,
    "start_time": "2024-06-17T15:11:12.386Z"
   },
   {
    "duration": 5,
    "start_time": "2024-06-17T15:11:12.391Z"
   },
   {
    "duration": 3,
    "start_time": "2024-06-17T15:11:12.485Z"
   },
   {
    "duration": 17,
    "start_time": "2024-06-17T15:11:12.490Z"
   },
   {
    "duration": 6,
    "start_time": "2024-06-17T15:11:12.509Z"
   },
   {
    "duration": 112,
    "start_time": "2024-06-17T15:11:12.517Z"
   },
   {
    "duration": 4,
    "start_time": "2024-06-17T15:14:39.419Z"
   },
   {
    "duration": 3,
    "start_time": "2024-06-17T15:14:42.788Z"
   },
   {
    "duration": 8,
    "start_time": "2024-06-17T15:14:44.208Z"
   },
   {
    "duration": 31,
    "start_time": "2024-06-17T15:17:09.807Z"
   },
   {
    "duration": 26,
    "start_time": "2024-06-17T15:17:28.829Z"
   },
   {
    "duration": 3,
    "start_time": "2024-06-17T15:17:31.318Z"
   },
   {
    "duration": 26,
    "start_time": "2024-06-17T15:17:34.995Z"
   },
   {
    "duration": 29,
    "start_time": "2024-06-17T15:18:47.756Z"
   },
   {
    "duration": 2,
    "start_time": "2024-06-17T15:19:37.372Z"
   },
   {
    "duration": 66,
    "start_time": "2024-06-17T15:19:39.524Z"
   },
   {
    "duration": 3,
    "start_time": "2024-06-17T15:19:58.173Z"
   },
   {
    "duration": 3,
    "start_time": "2024-06-17T15:20:00.312Z"
   },
   {
    "duration": 66,
    "start_time": "2024-06-17T15:20:01.721Z"
   },
   {
    "duration": 3,
    "start_time": "2024-06-17T15:20:20.891Z"
   },
   {
    "duration": 320,
    "start_time": "2024-06-17T15:20:22.873Z"
   },
   {
    "duration": 1232,
    "start_time": "2024-06-17T15:22:49.958Z"
   },
   {
    "duration": 2,
    "start_time": "2024-06-17T15:22:51.192Z"
   },
   {
    "duration": 12,
    "start_time": "2024-06-17T15:22:51.196Z"
   },
   {
    "duration": 323,
    "start_time": "2024-06-17T15:22:51.210Z"
   },
   {
    "duration": 176,
    "start_time": "2024-06-17T15:22:51.535Z"
   },
   {
    "duration": 3,
    "start_time": "2024-06-17T15:22:51.712Z"
   },
   {
    "duration": 875,
    "start_time": "2024-06-17T15:22:51.717Z"
   },
   {
    "duration": 5,
    "start_time": "2024-06-17T15:22:52.594Z"
   },
   {
    "duration": 387,
    "start_time": "2024-06-17T15:22:52.600Z"
   },
   {
    "duration": 4,
    "start_time": "2024-06-17T15:22:52.989Z"
   },
   {
    "duration": 5,
    "start_time": "2024-06-17T15:22:53.084Z"
   },
   {
    "duration": 9,
    "start_time": "2024-06-17T15:22:53.091Z"
   },
   {
    "duration": 25,
    "start_time": "2024-06-17T15:22:53.102Z"
   },
   {
    "duration": 3,
    "start_time": "2024-06-17T15:22:53.130Z"
   },
   {
    "duration": 450,
    "start_time": "2024-06-17T15:22:53.135Z"
   },
   {
    "duration": 2,
    "start_time": "2024-06-17T15:27:28.923Z"
   },
   {
    "duration": 424,
    "start_time": "2024-06-17T15:27:30.569Z"
   },
   {
    "duration": 1237,
    "start_time": "2024-06-17T15:27:37.347Z"
   },
   {
    "duration": 3,
    "start_time": "2024-06-17T15:27:38.586Z"
   },
   {
    "duration": 6,
    "start_time": "2024-06-17T15:27:38.591Z"
   },
   {
    "duration": 332,
    "start_time": "2024-06-17T15:27:38.598Z"
   },
   {
    "duration": 172,
    "start_time": "2024-06-17T15:27:38.931Z"
   },
   {
    "duration": 3,
    "start_time": "2024-06-17T15:27:39.104Z"
   },
   {
    "duration": 849,
    "start_time": "2024-06-17T15:27:39.109Z"
   },
   {
    "duration": 5,
    "start_time": "2024-06-17T15:27:39.959Z"
   },
   {
    "duration": 324,
    "start_time": "2024-06-17T15:27:39.965Z"
   },
   {
    "duration": 5,
    "start_time": "2024-06-17T15:27:40.290Z"
   },
   {
    "duration": 3,
    "start_time": "2024-06-17T15:27:40.385Z"
   },
   {
    "duration": 96,
    "start_time": "2024-06-17T15:27:40.389Z"
   },
   {
    "duration": 34,
    "start_time": "2024-06-17T15:27:40.487Z"
   },
   {
    "duration": 7,
    "start_time": "2024-06-17T15:27:40.523Z"
   },
   {
    "duration": 362,
    "start_time": "2024-06-17T15:27:40.531Z"
   },
   {
    "duration": 3,
    "start_time": "2024-06-17T15:32:02.498Z"
   },
   {
    "duration": 409,
    "start_time": "2024-06-17T15:32:04.187Z"
   },
   {
    "duration": 435,
    "start_time": "2024-06-17T15:34:39.055Z"
   },
   {
    "duration": 269,
    "start_time": "2024-06-17T15:36:33.427Z"
   },
   {
    "duration": 1100,
    "start_time": "2024-06-17T15:38:20.839Z"
   },
   {
    "duration": 2,
    "start_time": "2024-06-17T15:38:21.941Z"
   },
   {
    "duration": 11,
    "start_time": "2024-06-17T15:38:21.944Z"
   },
   {
    "duration": 308,
    "start_time": "2024-06-17T15:38:21.956Z"
   },
   {
    "duration": 159,
    "start_time": "2024-06-17T15:38:22.266Z"
   },
   {
    "duration": 3,
    "start_time": "2024-06-17T15:38:22.426Z"
   },
   {
    "duration": 837,
    "start_time": "2024-06-17T15:38:22.430Z"
   },
   {
    "duration": 4,
    "start_time": "2024-06-17T15:38:23.268Z"
   },
   {
    "duration": 282,
    "start_time": "2024-06-17T15:38:23.273Z"
   },
   {
    "duration": 0,
    "start_time": "2024-06-17T15:38:23.557Z"
   },
   {
    "duration": 0,
    "start_time": "2024-06-17T15:38:23.558Z"
   },
   {
    "duration": 0,
    "start_time": "2024-06-17T15:38:23.559Z"
   },
   {
    "duration": 0,
    "start_time": "2024-06-17T15:38:23.560Z"
   },
   {
    "duration": 0,
    "start_time": "2024-06-17T15:38:23.561Z"
   },
   {
    "duration": 0,
    "start_time": "2024-06-17T15:38:23.562Z"
   },
   {
    "duration": 5,
    "start_time": "2024-06-17T15:39:24.675Z"
   },
   {
    "duration": 1179,
    "start_time": "2024-06-17T15:39:32.970Z"
   },
   {
    "duration": 2,
    "start_time": "2024-06-17T15:39:34.151Z"
   },
   {
    "duration": 30,
    "start_time": "2024-06-17T15:39:34.154Z"
   },
   {
    "duration": 332,
    "start_time": "2024-06-17T15:39:34.186Z"
   },
   {
    "duration": 173,
    "start_time": "2024-06-17T15:39:34.520Z"
   },
   {
    "duration": 4,
    "start_time": "2024-06-17T15:39:34.694Z"
   },
   {
    "duration": 951,
    "start_time": "2024-06-17T15:39:34.699Z"
   },
   {
    "duration": 4,
    "start_time": "2024-06-17T15:39:35.651Z"
   },
   {
    "duration": 331,
    "start_time": "2024-06-17T15:39:35.656Z"
   },
   {
    "duration": 3,
    "start_time": "2024-06-17T15:39:35.990Z"
   },
   {
    "duration": 5,
    "start_time": "2024-06-17T15:39:36.084Z"
   },
   {
    "duration": 6,
    "start_time": "2024-06-17T15:39:36.091Z"
   },
   {
    "duration": 103,
    "start_time": "2024-06-17T15:39:36.098Z"
   },
   {
    "duration": 3,
    "start_time": "2024-06-17T15:39:36.203Z"
   },
   {
    "duration": 104,
    "start_time": "2024-06-17T15:39:36.207Z"
   },
   {
    "duration": 1138,
    "start_time": "2024-06-17T15:39:46.142Z"
   },
   {
    "duration": 2,
    "start_time": "2024-06-17T15:39:47.281Z"
   },
   {
    "duration": 4,
    "start_time": "2024-06-17T15:39:47.285Z"
   },
   {
    "duration": 327,
    "start_time": "2024-06-17T15:39:47.290Z"
   },
   {
    "duration": 167,
    "start_time": "2024-06-17T15:39:47.618Z"
   },
   {
    "duration": 3,
    "start_time": "2024-06-17T15:39:47.786Z"
   },
   {
    "duration": 852,
    "start_time": "2024-06-17T15:39:47.790Z"
   },
   {
    "duration": 4,
    "start_time": "2024-06-17T15:39:48.644Z"
   },
   {
    "duration": 238,
    "start_time": "2024-06-17T15:39:48.649Z"
   },
   {
    "duration": 3,
    "start_time": "2024-06-17T15:39:48.890Z"
   },
   {
    "duration": 93,
    "start_time": "2024-06-17T15:39:48.894Z"
   },
   {
    "duration": 5,
    "start_time": "2024-06-17T15:39:48.989Z"
   },
   {
    "duration": 18,
    "start_time": "2024-06-17T15:39:48.995Z"
   },
   {
    "duration": 6,
    "start_time": "2024-06-17T15:39:49.015Z"
   },
   {
    "duration": 116,
    "start_time": "2024-06-17T15:39:49.022Z"
   },
   {
    "duration": 398,
    "start_time": "2024-06-17T15:40:14.189Z"
   },
   {
    "duration": 4,
    "start_time": "2024-06-17T15:41:36.834Z"
   },
   {
    "duration": 1221,
    "start_time": "2024-06-17T15:41:45.974Z"
   },
   {
    "duration": 2,
    "start_time": "2024-06-17T15:41:47.197Z"
   },
   {
    "duration": 5,
    "start_time": "2024-06-17T15:41:47.200Z"
   },
   {
    "duration": 319,
    "start_time": "2024-06-17T15:41:47.206Z"
   },
   {
    "duration": 166,
    "start_time": "2024-06-17T15:41:47.527Z"
   },
   {
    "duration": 3,
    "start_time": "2024-06-17T15:41:47.694Z"
   },
   {
    "duration": 847,
    "start_time": "2024-06-17T15:41:47.698Z"
   },
   {
    "duration": 5,
    "start_time": "2024-06-17T15:41:48.547Z"
   },
   {
    "duration": 338,
    "start_time": "2024-06-17T15:41:48.553Z"
   },
   {
    "duration": 5,
    "start_time": "2024-06-17T15:41:48.892Z"
   },
   {
    "duration": 94,
    "start_time": "2024-06-17T15:41:48.899Z"
   },
   {
    "duration": 3,
    "start_time": "2024-06-17T15:41:49.085Z"
   },
   {
    "duration": 4,
    "start_time": "2024-06-17T15:41:49.089Z"
   },
   {
    "duration": 5,
    "start_time": "2024-06-17T15:41:58.114Z"
   },
   {
    "duration": 98,
    "start_time": "2024-06-17T15:51:46.575Z"
   },
   {
    "duration": 4,
    "start_time": "2024-06-17T15:52:59.481Z"
   },
   {
    "duration": 7,
    "start_time": "2024-06-17T15:53:27.149Z"
   },
   {
    "duration": 1207,
    "start_time": "2024-06-17T15:54:11.349Z"
   },
   {
    "duration": 2,
    "start_time": "2024-06-17T15:54:12.558Z"
   },
   {
    "duration": 12,
    "start_time": "2024-06-17T15:54:12.561Z"
   },
   {
    "duration": 354,
    "start_time": "2024-06-17T15:54:12.575Z"
   },
   {
    "duration": 176,
    "start_time": "2024-06-17T15:54:12.930Z"
   },
   {
    "duration": 3,
    "start_time": "2024-06-17T15:54:13.107Z"
   },
   {
    "duration": 837,
    "start_time": "2024-06-17T15:54:13.111Z"
   },
   {
    "duration": 4,
    "start_time": "2024-06-17T15:54:13.950Z"
   },
   {
    "duration": 338,
    "start_time": "2024-06-17T15:54:13.955Z"
   },
   {
    "duration": 3,
    "start_time": "2024-06-17T15:54:14.295Z"
   },
   {
    "duration": 87,
    "start_time": "2024-06-17T15:54:14.300Z"
   },
   {
    "duration": 14,
    "start_time": "2024-06-17T15:54:14.388Z"
   },
   {
    "duration": 8,
    "start_time": "2024-06-17T15:54:14.484Z"
   },
   {
    "duration": 3,
    "start_time": "2024-06-17T15:54:14.494Z"
   },
   {
    "duration": 105,
    "start_time": "2024-06-17T15:54:14.499Z"
   },
   {
    "duration": 7,
    "start_time": "2024-06-17T15:54:38.691Z"
   },
   {
    "duration": 307,
    "start_time": "2024-06-17T15:55:27.182Z"
   },
   {
    "duration": 1179,
    "start_time": "2024-06-17T15:55:44.829Z"
   },
   {
    "duration": 2,
    "start_time": "2024-06-17T15:55:46.010Z"
   },
   {
    "duration": 4,
    "start_time": "2024-06-17T15:55:46.014Z"
   },
   {
    "duration": 325,
    "start_time": "2024-06-17T15:55:46.020Z"
   },
   {
    "duration": 181,
    "start_time": "2024-06-17T15:55:46.347Z"
   },
   {
    "duration": 3,
    "start_time": "2024-06-17T15:55:46.529Z"
   },
   {
    "duration": 917,
    "start_time": "2024-06-17T15:55:46.533Z"
   },
   {
    "duration": 5,
    "start_time": "2024-06-17T15:55:47.451Z"
   },
   {
    "duration": 343,
    "start_time": "2024-06-17T15:55:47.457Z"
   },
   {
    "duration": 4,
    "start_time": "2024-06-17T15:55:47.886Z"
   },
   {
    "duration": 6,
    "start_time": "2024-06-17T15:55:47.891Z"
   },
   {
    "duration": 87,
    "start_time": "2024-06-17T15:55:47.898Z"
   },
   {
    "duration": 18,
    "start_time": "2024-06-17T15:55:47.987Z"
   },
   {
    "duration": 3,
    "start_time": "2024-06-17T15:55:48.006Z"
   },
   {
    "duration": 94,
    "start_time": "2024-06-17T15:55:48.011Z"
   },
   {
    "duration": 7,
    "start_time": "2024-06-17T15:58:20.900Z"
   },
   {
    "duration": 3,
    "start_time": "2024-06-17T15:58:27.384Z"
   },
   {
    "duration": 8,
    "start_time": "2024-06-17T15:58:30.912Z"
   },
   {
    "duration": 335,
    "start_time": "2024-06-17T15:58:58.950Z"
   },
   {
    "duration": 1150,
    "start_time": "2024-06-17T15:59:03.715Z"
   },
   {
    "duration": 3,
    "start_time": "2024-06-17T15:59:04.866Z"
   },
   {
    "duration": 6,
    "start_time": "2024-06-17T15:59:04.870Z"
   },
   {
    "duration": 321,
    "start_time": "2024-06-17T15:59:04.877Z"
   },
   {
    "duration": 177,
    "start_time": "2024-06-17T15:59:05.199Z"
   },
   {
    "duration": 3,
    "start_time": "2024-06-17T15:59:05.384Z"
   },
   {
    "duration": 871,
    "start_time": "2024-06-17T15:59:05.389Z"
   },
   {
    "duration": 5,
    "start_time": "2024-06-17T15:59:06.261Z"
   },
   {
    "duration": 418,
    "start_time": "2024-06-17T15:59:06.267Z"
   },
   {
    "duration": 3,
    "start_time": "2024-06-17T15:59:06.687Z"
   },
   {
    "duration": 94,
    "start_time": "2024-06-17T15:59:06.692Z"
   },
   {
    "duration": 18,
    "start_time": "2024-06-17T15:59:06.788Z"
   },
   {
    "duration": 14,
    "start_time": "2024-06-17T15:59:06.807Z"
   },
   {
    "duration": 8,
    "start_time": "2024-06-17T15:59:06.823Z"
   },
   {
    "duration": 100,
    "start_time": "2024-06-17T15:59:06.832Z"
   },
   {
    "duration": 8,
    "start_time": "2024-06-17T16:02:17.001Z"
   },
   {
    "duration": 263,
    "start_time": "2024-06-17T16:03:23.028Z"
   },
   {
    "duration": 1184,
    "start_time": "2024-06-17T16:03:36.088Z"
   },
   {
    "duration": 2,
    "start_time": "2024-06-17T16:03:37.274Z"
   },
   {
    "duration": 6,
    "start_time": "2024-06-17T16:03:37.277Z"
   },
   {
    "duration": 309,
    "start_time": "2024-06-17T16:03:37.284Z"
   },
   {
    "duration": 157,
    "start_time": "2024-06-17T16:03:37.594Z"
   },
   {
    "duration": 3,
    "start_time": "2024-06-17T16:03:37.753Z"
   },
   {
    "duration": 892,
    "start_time": "2024-06-17T16:03:37.757Z"
   },
   {
    "duration": 4,
    "start_time": "2024-06-17T16:03:38.650Z"
   },
   {
    "duration": 331,
    "start_time": "2024-06-17T16:03:38.656Z"
   },
   {
    "duration": 3,
    "start_time": "2024-06-17T16:03:38.989Z"
   },
   {
    "duration": 97,
    "start_time": "2024-06-17T16:03:38.993Z"
   },
   {
    "duration": 4,
    "start_time": "2024-06-17T16:03:39.091Z"
   },
   {
    "duration": 6,
    "start_time": "2024-06-17T16:03:39.096Z"
   },
   {
    "duration": 83,
    "start_time": "2024-06-17T16:03:39.104Z"
   },
   {
    "duration": 44,
    "start_time": "2024-06-17T16:03:39.189Z"
   },
   {
    "duration": 16,
    "start_time": "2024-06-17T16:03:50.612Z"
   },
   {
    "duration": 1144,
    "start_time": "2024-06-17T16:04:54.145Z"
   },
   {
    "duration": 2,
    "start_time": "2024-06-17T16:04:55.291Z"
   },
   {
    "duration": 24,
    "start_time": "2024-06-17T16:04:55.294Z"
   },
   {
    "duration": 326,
    "start_time": "2024-06-17T16:04:55.319Z"
   },
   {
    "duration": 178,
    "start_time": "2024-06-17T16:04:55.646Z"
   },
   {
    "duration": 4,
    "start_time": "2024-06-17T16:04:55.825Z"
   },
   {
    "duration": 824,
    "start_time": "2024-06-17T16:04:55.830Z"
   },
   {
    "duration": 5,
    "start_time": "2024-06-17T16:04:56.655Z"
   },
   {
    "duration": 327,
    "start_time": "2024-06-17T16:04:56.662Z"
   },
   {
    "duration": 2,
    "start_time": "2024-06-17T16:04:56.992Z"
   },
   {
    "duration": 90,
    "start_time": "2024-06-17T16:04:56.996Z"
   },
   {
    "duration": 97,
    "start_time": "2024-06-17T16:04:57.088Z"
   },
   {
    "duration": 11,
    "start_time": "2024-06-17T16:04:57.187Z"
   },
   {
    "duration": 2,
    "start_time": "2024-06-17T16:04:57.200Z"
   },
   {
    "duration": 25,
    "start_time": "2024-06-17T16:04:57.203Z"
   },
   {
    "duration": 16,
    "start_time": "2024-06-17T16:06:30.311Z"
   },
   {
    "duration": 80358,
    "start_time": "2024-06-17T16:08:06.879Z"
   },
   {
    "duration": 15,
    "start_time": "2024-06-17T16:09:27.238Z"
   },
   {
    "duration": 94,
    "start_time": "2024-06-17T16:10:43.056Z"
   },
   {
    "duration": 10,
    "start_time": "2024-06-17T16:12:16.156Z"
   },
   {
    "duration": 10,
    "start_time": "2024-06-17T16:13:02.602Z"
   },
   {
    "duration": 11,
    "start_time": "2024-06-17T16:13:11.668Z"
   },
   {
    "duration": 10,
    "start_time": "2024-06-17T16:17:14.194Z"
   },
   {
    "duration": 11,
    "start_time": "2024-06-17T16:18:33.687Z"
   },
   {
    "duration": 1178,
    "start_time": "2024-06-17T16:18:41.730Z"
   },
   {
    "duration": 2,
    "start_time": "2024-06-17T16:18:42.910Z"
   },
   {
    "duration": 4,
    "start_time": "2024-06-17T16:18:42.914Z"
   },
   {
    "duration": 305,
    "start_time": "2024-06-17T16:18:42.919Z"
   },
   {
    "duration": 179,
    "start_time": "2024-06-17T16:18:43.236Z"
   },
   {
    "duration": 3,
    "start_time": "2024-06-17T16:18:43.417Z"
   },
   {
    "duration": 829,
    "start_time": "2024-06-17T16:18:43.421Z"
   },
   {
    "duration": 4,
    "start_time": "2024-06-17T16:18:44.251Z"
   },
   {
    "duration": 240,
    "start_time": "2024-06-17T16:18:44.257Z"
   },
   {
    "duration": 2,
    "start_time": "2024-06-17T16:18:44.585Z"
   },
   {
    "duration": 5,
    "start_time": "2024-06-17T16:18:44.589Z"
   },
   {
    "duration": 93,
    "start_time": "2024-06-17T16:18:44.595Z"
   },
   {
    "duration": 9,
    "start_time": "2024-06-17T16:18:44.690Z"
   },
   {
    "duration": 3,
    "start_time": "2024-06-17T16:18:44.702Z"
   },
   {
    "duration": 20,
    "start_time": "2024-06-17T16:18:44.707Z"
   },
   {
    "duration": 114,
    "start_time": "2024-06-17T16:18:44.729Z"
   },
   {
    "duration": 2,
    "start_time": "2024-06-17T16:19:52.819Z"
   },
   {
    "duration": 10,
    "start_time": "2024-06-17T16:19:55.218Z"
   },
   {
    "duration": 11,
    "start_time": "2024-06-17T16:21:01.893Z"
   },
   {
    "duration": 2911,
    "start_time": "2024-06-17T16:21:34.403Z"
   },
   {
    "duration": 2899,
    "start_time": "2024-06-17T16:22:13.547Z"
   },
   {
    "duration": 2892,
    "start_time": "2024-06-17T16:24:14.251Z"
   },
   {
    "duration": 2988,
    "start_time": "2024-06-17T16:26:10.388Z"
   },
   {
    "duration": 3,
    "start_time": "2024-06-17T16:27:15.719Z"
   },
   {
    "duration": 14,
    "start_time": "2024-06-17T16:27:23.632Z"
   },
   {
    "duration": 3,
    "start_time": "2024-06-17T16:28:03.345Z"
   },
   {
    "duration": 14,
    "start_time": "2024-06-17T16:28:05.045Z"
   },
   {
    "duration": 3,
    "start_time": "2024-06-17T16:28:12.078Z"
   },
   {
    "duration": 15,
    "start_time": "2024-06-17T16:28:13.563Z"
   },
   {
    "duration": 15,
    "start_time": "2024-06-17T16:28:16.297Z"
   },
   {
    "duration": 3002,
    "start_time": "2024-06-17T16:28:21.159Z"
   },
   {
    "duration": 3152,
    "start_time": "2024-06-17T16:28:56.377Z"
   },
   {
    "duration": 6,
    "start_time": "2024-06-17T16:29:38.506Z"
   },
   {
    "duration": 1187,
    "start_time": "2024-06-17T16:30:05.761Z"
   },
   {
    "duration": 2,
    "start_time": "2024-06-17T16:30:06.950Z"
   },
   {
    "duration": 8,
    "start_time": "2024-06-17T16:30:06.953Z"
   },
   {
    "duration": 311,
    "start_time": "2024-06-17T16:30:06.962Z"
   },
   {
    "duration": 160,
    "start_time": "2024-06-17T16:30:07.275Z"
   },
   {
    "duration": 3,
    "start_time": "2024-06-17T16:30:07.436Z"
   },
   {
    "duration": 875,
    "start_time": "2024-06-17T16:30:07.440Z"
   },
   {
    "duration": 5,
    "start_time": "2024-06-17T16:30:08.316Z"
   },
   {
    "duration": 271,
    "start_time": "2024-06-17T16:30:08.322Z"
   },
   {
    "duration": 103,
    "start_time": "2024-06-17T16:30:08.594Z"
   },
   {
    "duration": 16,
    "start_time": "2024-06-17T16:30:08.785Z"
   },
   {
    "duration": 19,
    "start_time": "2024-06-17T16:30:08.803Z"
   },
   {
    "duration": 9,
    "start_time": "2024-06-17T16:30:08.823Z"
   },
   {
    "duration": 2,
    "start_time": "2024-06-17T16:30:08.834Z"
   },
   {
    "duration": 26,
    "start_time": "2024-06-17T16:30:08.837Z"
   },
   {
    "duration": 2889,
    "start_time": "2024-06-17T16:30:08.864Z"
   },
   {
    "duration": 1361,
    "start_time": "2024-06-17T16:34:11.430Z"
   },
   {
    "duration": 27,
    "start_time": "2024-06-17T16:34:33.309Z"
   },
   {
    "duration": 2809,
    "start_time": "2024-06-17T16:34:48.960Z"
   },
   {
    "duration": 12,
    "start_time": "2024-06-17T16:38:18.818Z"
   },
   {
    "duration": 2850,
    "start_time": "2024-06-17T16:39:08.990Z"
   },
   {
    "duration": 2850,
    "start_time": "2024-06-17T16:42:24.786Z"
   },
   {
    "duration": 11,
    "start_time": "2024-06-17T16:47:23.351Z"
   },
   {
    "duration": 1131,
    "start_time": "2024-06-17T16:52:53.834Z"
   },
   {
    "duration": 3,
    "start_time": "2024-06-17T16:52:54.966Z"
   },
   {
    "duration": 9,
    "start_time": "2024-06-17T16:52:54.970Z"
   },
   {
    "duration": 328,
    "start_time": "2024-06-17T16:52:54.980Z"
   },
   {
    "duration": 167,
    "start_time": "2024-06-17T16:52:55.310Z"
   },
   {
    "duration": 3,
    "start_time": "2024-06-17T16:52:55.484Z"
   },
   {
    "duration": 857,
    "start_time": "2024-06-17T16:52:55.488Z"
   },
   {
    "duration": 4,
    "start_time": "2024-06-17T16:52:56.347Z"
   },
   {
    "duration": 336,
    "start_time": "2024-06-17T16:52:56.352Z"
   },
   {
    "duration": 3,
    "start_time": "2024-06-17T16:52:56.690Z"
   },
   {
    "duration": 95,
    "start_time": "2024-06-17T16:52:56.694Z"
   },
   {
    "duration": 94,
    "start_time": "2024-06-17T16:52:56.791Z"
   },
   {
    "duration": 5,
    "start_time": "2024-06-17T16:52:56.886Z"
   },
   {
    "duration": 3,
    "start_time": "2024-06-17T16:52:56.892Z"
   },
   {
    "duration": 18,
    "start_time": "2024-06-17T16:52:56.896Z"
   },
   {
    "duration": 84693,
    "start_time": "2024-06-17T16:52:56.915Z"
   },
   {
    "duration": 67171,
    "start_time": "2024-06-17T16:55:49.715Z"
   },
   {
    "duration": 2529,
    "start_time": "2024-06-17T17:00:10.285Z"
   },
   {
    "duration": 2519,
    "start_time": "2024-06-17T17:00:43.097Z"
   },
   {
    "duration": 1150,
    "start_time": "2024-06-17T17:00:56.912Z"
   },
   {
    "duration": 2,
    "start_time": "2024-06-17T17:00:58.064Z"
   },
   {
    "duration": 5,
    "start_time": "2024-06-17T17:00:58.067Z"
   },
   {
    "duration": 316,
    "start_time": "2024-06-17T17:00:58.074Z"
   },
   {
    "duration": 158,
    "start_time": "2024-06-17T17:00:58.392Z"
   },
   {
    "duration": 3,
    "start_time": "2024-06-17T17:00:58.552Z"
   },
   {
    "duration": 895,
    "start_time": "2024-06-17T17:00:58.556Z"
   },
   {
    "duration": 4,
    "start_time": "2024-06-17T17:00:59.453Z"
   },
   {
    "duration": 329,
    "start_time": "2024-06-17T17:00:59.458Z"
   },
   {
    "duration": 3,
    "start_time": "2024-06-17T17:00:59.790Z"
   },
   {
    "duration": 3,
    "start_time": "2024-06-17T17:00:59.885Z"
   },
   {
    "duration": 14,
    "start_time": "2024-06-17T17:00:59.889Z"
   },
   {
    "duration": 5,
    "start_time": "2024-06-17T17:00:59.985Z"
   },
   {
    "duration": 10,
    "start_time": "2024-06-17T17:00:59.991Z"
   },
   {
    "duration": 80,
    "start_time": "2024-06-17T17:01:00.002Z"
   },
   {
    "duration": 118,
    "start_time": "2024-06-17T17:01:00.083Z"
   },
   {
    "duration": 12,
    "start_time": "2024-06-17T17:01:32.455Z"
   },
   {
    "duration": 2524,
    "start_time": "2024-06-17T17:01:40.544Z"
   },
   {
    "duration": 1148,
    "start_time": "2024-06-17T17:01:46.504Z"
   },
   {
    "duration": 2,
    "start_time": "2024-06-17T17:01:47.654Z"
   },
   {
    "duration": 6,
    "start_time": "2024-06-17T17:01:47.657Z"
   },
   {
    "duration": 326,
    "start_time": "2024-06-17T17:01:47.664Z"
   },
   {
    "duration": 165,
    "start_time": "2024-06-17T17:01:47.991Z"
   },
   {
    "duration": 3,
    "start_time": "2024-06-17T17:01:48.158Z"
   },
   {
    "duration": 890,
    "start_time": "2024-06-17T17:01:48.162Z"
   },
   {
    "duration": 4,
    "start_time": "2024-06-17T17:01:49.054Z"
   },
   {
    "duration": 328,
    "start_time": "2024-06-17T17:01:49.060Z"
   },
   {
    "duration": 5,
    "start_time": "2024-06-17T17:01:49.390Z"
   },
   {
    "duration": 4,
    "start_time": "2024-06-17T17:01:49.485Z"
   },
   {
    "duration": 94,
    "start_time": "2024-06-17T17:01:49.493Z"
   },
   {
    "duration": 6,
    "start_time": "2024-06-17T17:01:49.588Z"
   },
   {
    "duration": 8,
    "start_time": "2024-06-17T17:01:49.596Z"
   },
   {
    "duration": 23,
    "start_time": "2024-06-17T17:01:49.605Z"
   },
   {
    "duration": 2411,
    "start_time": "2024-06-17T17:01:49.629Z"
   }
  ],
  "kernelspec": {
   "display_name": "Python 3 (ipykernel)",
   "language": "python",
   "name": "python3"
  },
  "language_info": {
   "codemirror_mode": {
    "name": "ipython",
    "version": 3
   },
   "file_extension": ".py",
   "mimetype": "text/x-python",
   "name": "python",
   "nbconvert_exporter": "python",
   "pygments_lexer": "ipython3",
   "version": "3.9.5"
  },
  "toc": {
   "base_numbering": 1,
   "nav_menu": {},
   "number_sections": true,
   "sideBar": true,
   "skip_h1_title": true,
   "title_cell": "Table of Contents",
   "title_sidebar": "Contents",
   "toc_cell": false,
   "toc_position": {},
   "toc_section_display": true,
   "toc_window_display": false
  }
 },
 "nbformat": 4,
 "nbformat_minor": 5
}
